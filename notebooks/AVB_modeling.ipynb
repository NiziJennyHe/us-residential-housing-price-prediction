{
 "cells": [
  {
   "cell_type": "markdown",
   "id": "160ae98ebfedb0c3",
   "metadata": {},
   "source": "# Avalon Bay Trust Price Prediction"
  },
  {
   "cell_type": "code",
   "id": "cdb6c0af34af046",
   "metadata": {
    "ExecuteTime": {
     "end_time": "2024-12-11T23:15:13.612424Z",
     "start_time": "2024-12-11T23:15:13.526705Z"
    }
   },
   "source": [
    "import pickle\n",
    "\n",
    "import matplotlib.pyplot as plt\n",
    "import numpy as np\n",
    "import optuna\n",
    "import pandas as pd\n",
    "from optuna import visualization as vis\n",
    "from sklearn.ensemble import RandomForestRegressor, AdaBoostRegressor\n",
    "from sklearn.metrics import make_scorer, root_mean_squared_error\n",
    "from sklearn.model_selection import KFold, cross_val_score, train_test_split\n",
    "from sklearn.tree import DecisionTreeRegressor\n",
    "from xgboost import XGBRegressor\n",
    "\n",
    "import utils\n",
    "\n",
    "%load_ext autoreload\n",
    "%autoreload 2"
   ],
   "outputs": [
    {
     "name": "stdout",
     "output_type": "stream",
     "text": [
      "The autoreload extension is already loaded. To reload it, use:\n",
      "  %reload_ext autoreload\n"
     ]
    }
   ],
   "execution_count": 247
  },
  {
   "metadata": {},
   "cell_type": "markdown",
   "source": "## Data Preparation",
   "id": "caefd51b87d1c8ee"
  },
  {
   "metadata": {
    "ExecuteTime": {
     "end_time": "2024-12-11T23:15:13.790609Z",
     "start_time": "2024-12-11T23:15:13.656259Z"
    }
   },
   "cell_type": "code",
   "source": [
    "# Load the data\n",
    "df = pd.read_csv('../data/final_data.csv')\n",
    "# sort by date\n",
    "df = df.sort_values(by='date')\n",
    "df"
   ],
   "id": "ed58055e7ee8087d",
   "outputs": [
    {
     "data": {
      "text/plain": [
       "             date State  adjusted_average_new_listings  \\\n",
       "0      2016-12-30    AL                      43.000000   \n",
       "22     2016-12-30    NM                     114.313585   \n",
       "23     2016-12-30    NV                      73.000000   \n",
       "24     2016-12-30    NY                     151.742276   \n",
       "25     2016-12-30    OH                     148.807790   \n",
       "...           ...   ...                            ...   \n",
       "18425  2024-11-01    MA                      97.090933   \n",
       "18426  2024-11-01    MD                      95.834211   \n",
       "18427  2024-11-01    ME                      34.411858   \n",
       "18416  2024-11-01    GA                      25.704628   \n",
       "18455  2024-11-01    WY                      27.000000   \n",
       "\n",
       "       adjusted_average_new_listings_yoy  \\\n",
       "0                              -0.556701   \n",
       "22                              0.084512   \n",
       "23                             -0.401639   \n",
       "24                             -0.169707   \n",
       "25                             -0.110787   \n",
       "...                                  ...   \n",
       "18425                          -0.041412   \n",
       "18426                           0.211162   \n",
       "18427                           0.313887   \n",
       "18416                          -0.165583   \n",
       "18455                           0.080000   \n",
       "\n",
       "       average_pending_sales_listing_updates  \\\n",
       "0                                  52.000000   \n",
       "22                                134.713228   \n",
       "23                                119.000000   \n",
       "24                                 92.002294   \n",
       "25                                141.400560   \n",
       "...                                      ...   \n",
       "18425                             108.639851   \n",
       "18426                             108.185107   \n",
       "18427                              39.709881   \n",
       "18416                              28.377602   \n",
       "18455                              20.000000   \n",
       "\n",
       "       average_pending_sales_listing_updates_yoy  off_market_in_two_weeks  \\\n",
       "0                                      -0.174603                 3.000000   \n",
       "22                                      0.382836                20.912155   \n",
       "23                                     -0.201342                11.000000   \n",
       "24                                     -0.282131                 3.498929   \n",
       "25                                     -0.119257                 8.218554   \n",
       "...                                          ...                      ...   \n",
       "18425                                   0.122470                22.133546   \n",
       "18426                                   0.159219                27.503864   \n",
       "18427                                   0.830392                 6.226087   \n",
       "18416                                  -0.020919                 5.882505   \n",
       "18455                                  -0.285714                 5.000000   \n",
       "\n",
       "       off_market_in_two_weeks_yoy  adjusted_average_homes_sold  \\\n",
       "0                        -0.571429                    36.000000   \n",
       "22                        0.233377                    49.089377   \n",
       "23                       -0.312500                    85.000000   \n",
       "24                        0.101171                    96.855613   \n",
       "25                        0.395212                    89.297186   \n",
       "...                            ...                          ...   \n",
       "18425                     0.093218                    94.045135   \n",
       "18426                     0.048320                    85.445557   \n",
       "18427                     0.024200                    26.207115   \n",
       "18416                     0.030047                    21.229142   \n",
       "18455                    -0.166667                    24.000000   \n",
       "\n",
       "       adjusted_average_homes_sold_yoy  ...  months_of_supply  \\\n",
       "0                             0.161290  ...         37.555556   \n",
       "22                           -0.202766  ...         34.912703   \n",
       "23                           -0.174757  ...         22.976471   \n",
       "24                           -0.176365  ...         33.720803   \n",
       "25                           -0.161583  ...         30.830572   \n",
       "...                                ...  ...               ...   \n",
       "18425                         0.329857  ...         12.019740   \n",
       "18426                         0.262958  ...         12.788671   \n",
       "18427                         0.097976  ...         15.972631   \n",
       "18416                         0.355209  ...         21.932300   \n",
       "18455                         0.333333  ...          9.208333   \n",
       "\n",
       "       months_of_supply_yoy  median_pending_sqft  median_pending_sqft_yoy  \\\n",
       "0                -11.831541          1994.000000                -0.005982   \n",
       "22                 3.409213          1581.070352                 0.000619   \n",
       "23                 4.889092          1534.000000                 0.009875   \n",
       "24                 2.649503          1349.549098                -0.060022   \n",
       "25                -0.016809          1560.083967                 0.006244   \n",
       "...                     ...                  ...                      ...   \n",
       "18425             -2.424043          1628.974114                 0.013848   \n",
       "18426             -0.572449          1767.211363                -0.016668   \n",
       "18427              3.528026          1569.513439                 0.029284   \n",
       "18416             -0.595328          1743.028643                -0.022036   \n",
       "18455             -2.513889          1974.000000                 0.192029   \n",
       "\n",
       "       average_sale_to_list_ratio  average_sale_to_list_ratio_yoy  \\\n",
       "0                        0.962797                       -0.005236   \n",
       "22                       0.968729                       -0.003238   \n",
       "23                       0.975629                       -0.001425   \n",
       "24                       0.969925                        0.004392   \n",
       "25                       0.960467                        0.020897   \n",
       "...                           ...                             ...   \n",
       "18425                    1.001044                       -0.003737   \n",
       "18426                    0.998137                        0.001047   \n",
       "18427                    0.975217                       -0.004498   \n",
       "18416                    0.970562                       -0.001474   \n",
       "18455                    0.987222                        0.010982   \n",
       "\n",
       "       median_sale_ppsf  median_sale_ppsf_yoy         ZORI           ZHVI  \n",
       "0             99.543540              0.022577  1122.650058  216066.470760  \n",
       "22           123.185945             -0.022682  1000.213260  214940.891096  \n",
       "23           171.276080              0.051403  1148.605311  305904.466295  \n",
       "24           328.973719              0.029551  1895.798229  456494.835558  \n",
       "25            76.917214              0.094313   843.742553  129419.574891  \n",
       "...                 ...                   ...          ...            ...  \n",
       "18425        407.260117              0.051139  2594.192374  625927.096790  \n",
       "18426        221.888798              0.042522  1943.986460  396332.990533  \n",
       "18427        184.368299              0.006300  1536.475750  299791.577634  \n",
       "18416        159.285000              0.115485  1541.986132  255540.577007  \n",
       "18455        171.437135              0.271712  1311.863248  295675.494623  \n",
       "\n",
       "[18456 rows x 36 columns]"
      ],
      "text/html": [
       "<div>\n",
       "<style scoped>\n",
       "    .dataframe tbody tr th:only-of-type {\n",
       "        vertical-align: middle;\n",
       "    }\n",
       "\n",
       "    .dataframe tbody tr th {\n",
       "        vertical-align: top;\n",
       "    }\n",
       "\n",
       "    .dataframe thead th {\n",
       "        text-align: right;\n",
       "    }\n",
       "</style>\n",
       "<table border=\"1\" class=\"dataframe\">\n",
       "  <thead>\n",
       "    <tr style=\"text-align: right;\">\n",
       "      <th></th>\n",
       "      <th>date</th>\n",
       "      <th>State</th>\n",
       "      <th>adjusted_average_new_listings</th>\n",
       "      <th>adjusted_average_new_listings_yoy</th>\n",
       "      <th>average_pending_sales_listing_updates</th>\n",
       "      <th>average_pending_sales_listing_updates_yoy</th>\n",
       "      <th>off_market_in_two_weeks</th>\n",
       "      <th>off_market_in_two_weeks_yoy</th>\n",
       "      <th>adjusted_average_homes_sold</th>\n",
       "      <th>adjusted_average_homes_sold_yoy</th>\n",
       "      <th>...</th>\n",
       "      <th>months_of_supply</th>\n",
       "      <th>months_of_supply_yoy</th>\n",
       "      <th>median_pending_sqft</th>\n",
       "      <th>median_pending_sqft_yoy</th>\n",
       "      <th>average_sale_to_list_ratio</th>\n",
       "      <th>average_sale_to_list_ratio_yoy</th>\n",
       "      <th>median_sale_ppsf</th>\n",
       "      <th>median_sale_ppsf_yoy</th>\n",
       "      <th>ZORI</th>\n",
       "      <th>ZHVI</th>\n",
       "    </tr>\n",
       "  </thead>\n",
       "  <tbody>\n",
       "    <tr>\n",
       "      <th>0</th>\n",
       "      <td>2016-12-30</td>\n",
       "      <td>AL</td>\n",
       "      <td>43.000000</td>\n",
       "      <td>-0.556701</td>\n",
       "      <td>52.000000</td>\n",
       "      <td>-0.174603</td>\n",
       "      <td>3.000000</td>\n",
       "      <td>-0.571429</td>\n",
       "      <td>36.000000</td>\n",
       "      <td>0.161290</td>\n",
       "      <td>...</td>\n",
       "      <td>37.555556</td>\n",
       "      <td>-11.831541</td>\n",
       "      <td>1994.000000</td>\n",
       "      <td>-0.005982</td>\n",
       "      <td>0.962797</td>\n",
       "      <td>-0.005236</td>\n",
       "      <td>99.543540</td>\n",
       "      <td>0.022577</td>\n",
       "      <td>1122.650058</td>\n",
       "      <td>216066.470760</td>\n",
       "    </tr>\n",
       "    <tr>\n",
       "      <th>22</th>\n",
       "      <td>2016-12-30</td>\n",
       "      <td>NM</td>\n",
       "      <td>114.313585</td>\n",
       "      <td>0.084512</td>\n",
       "      <td>134.713228</td>\n",
       "      <td>0.382836</td>\n",
       "      <td>20.912155</td>\n",
       "      <td>0.233377</td>\n",
       "      <td>49.089377</td>\n",
       "      <td>-0.202766</td>\n",
       "      <td>...</td>\n",
       "      <td>34.912703</td>\n",
       "      <td>3.409213</td>\n",
       "      <td>1581.070352</td>\n",
       "      <td>0.000619</td>\n",
       "      <td>0.968729</td>\n",
       "      <td>-0.003238</td>\n",
       "      <td>123.185945</td>\n",
       "      <td>-0.022682</td>\n",
       "      <td>1000.213260</td>\n",
       "      <td>214940.891096</td>\n",
       "    </tr>\n",
       "    <tr>\n",
       "      <th>23</th>\n",
       "      <td>2016-12-30</td>\n",
       "      <td>NV</td>\n",
       "      <td>73.000000</td>\n",
       "      <td>-0.401639</td>\n",
       "      <td>119.000000</td>\n",
       "      <td>-0.201342</td>\n",
       "      <td>11.000000</td>\n",
       "      <td>-0.312500</td>\n",
       "      <td>85.000000</td>\n",
       "      <td>-0.174757</td>\n",
       "      <td>...</td>\n",
       "      <td>22.976471</td>\n",
       "      <td>4.889092</td>\n",
       "      <td>1534.000000</td>\n",
       "      <td>0.009875</td>\n",
       "      <td>0.975629</td>\n",
       "      <td>-0.001425</td>\n",
       "      <td>171.276080</td>\n",
       "      <td>0.051403</td>\n",
       "      <td>1148.605311</td>\n",
       "      <td>305904.466295</td>\n",
       "    </tr>\n",
       "    <tr>\n",
       "      <th>24</th>\n",
       "      <td>2016-12-30</td>\n",
       "      <td>NY</td>\n",
       "      <td>151.742276</td>\n",
       "      <td>-0.169707</td>\n",
       "      <td>92.002294</td>\n",
       "      <td>-0.282131</td>\n",
       "      <td>3.498929</td>\n",
       "      <td>0.101171</td>\n",
       "      <td>96.855613</td>\n",
       "      <td>-0.176365</td>\n",
       "      <td>...</td>\n",
       "      <td>33.720803</td>\n",
       "      <td>2.649503</td>\n",
       "      <td>1349.549098</td>\n",
       "      <td>-0.060022</td>\n",
       "      <td>0.969925</td>\n",
       "      <td>0.004392</td>\n",
       "      <td>328.973719</td>\n",
       "      <td>0.029551</td>\n",
       "      <td>1895.798229</td>\n",
       "      <td>456494.835558</td>\n",
       "    </tr>\n",
       "    <tr>\n",
       "      <th>25</th>\n",
       "      <td>2016-12-30</td>\n",
       "      <td>OH</td>\n",
       "      <td>148.807790</td>\n",
       "      <td>-0.110787</td>\n",
       "      <td>141.400560</td>\n",
       "      <td>-0.119257</td>\n",
       "      <td>8.218554</td>\n",
       "      <td>0.395212</td>\n",
       "      <td>89.297186</td>\n",
       "      <td>-0.161583</td>\n",
       "      <td>...</td>\n",
       "      <td>30.830572</td>\n",
       "      <td>-0.016809</td>\n",
       "      <td>1560.083967</td>\n",
       "      <td>0.006244</td>\n",
       "      <td>0.960467</td>\n",
       "      <td>0.020897</td>\n",
       "      <td>76.917214</td>\n",
       "      <td>0.094313</td>\n",
       "      <td>843.742553</td>\n",
       "      <td>129419.574891</td>\n",
       "    </tr>\n",
       "    <tr>\n",
       "      <th>...</th>\n",
       "      <td>...</td>\n",
       "      <td>...</td>\n",
       "      <td>...</td>\n",
       "      <td>...</td>\n",
       "      <td>...</td>\n",
       "      <td>...</td>\n",
       "      <td>...</td>\n",
       "      <td>...</td>\n",
       "      <td>...</td>\n",
       "      <td>...</td>\n",
       "      <td>...</td>\n",
       "      <td>...</td>\n",
       "      <td>...</td>\n",
       "      <td>...</td>\n",
       "      <td>...</td>\n",
       "      <td>...</td>\n",
       "      <td>...</td>\n",
       "      <td>...</td>\n",
       "      <td>...</td>\n",
       "      <td>...</td>\n",
       "      <td>...</td>\n",
       "    </tr>\n",
       "    <tr>\n",
       "      <th>18425</th>\n",
       "      <td>2024-11-01</td>\n",
       "      <td>MA</td>\n",
       "      <td>97.090933</td>\n",
       "      <td>-0.041412</td>\n",
       "      <td>108.639851</td>\n",
       "      <td>0.122470</td>\n",
       "      <td>22.133546</td>\n",
       "      <td>0.093218</td>\n",
       "      <td>94.045135</td>\n",
       "      <td>0.329857</td>\n",
       "      <td>...</td>\n",
       "      <td>12.019740</td>\n",
       "      <td>-2.424043</td>\n",
       "      <td>1628.974114</td>\n",
       "      <td>0.013848</td>\n",
       "      <td>1.001044</td>\n",
       "      <td>-0.003737</td>\n",
       "      <td>407.260117</td>\n",
       "      <td>0.051139</td>\n",
       "      <td>2594.192374</td>\n",
       "      <td>625927.096790</td>\n",
       "    </tr>\n",
       "    <tr>\n",
       "      <th>18426</th>\n",
       "      <td>2024-11-01</td>\n",
       "      <td>MD</td>\n",
       "      <td>95.834211</td>\n",
       "      <td>0.211162</td>\n",
       "      <td>108.185107</td>\n",
       "      <td>0.159219</td>\n",
       "      <td>27.503864</td>\n",
       "      <td>0.048320</td>\n",
       "      <td>85.445557</td>\n",
       "      <td>0.262958</td>\n",
       "      <td>...</td>\n",
       "      <td>12.788671</td>\n",
       "      <td>-0.572449</td>\n",
       "      <td>1767.211363</td>\n",
       "      <td>-0.016668</td>\n",
       "      <td>0.998137</td>\n",
       "      <td>0.001047</td>\n",
       "      <td>221.888798</td>\n",
       "      <td>0.042522</td>\n",
       "      <td>1943.986460</td>\n",
       "      <td>396332.990533</td>\n",
       "    </tr>\n",
       "    <tr>\n",
       "      <th>18427</th>\n",
       "      <td>2024-11-01</td>\n",
       "      <td>ME</td>\n",
       "      <td>34.411858</td>\n",
       "      <td>0.313887</td>\n",
       "      <td>39.709881</td>\n",
       "      <td>0.830392</td>\n",
       "      <td>6.226087</td>\n",
       "      <td>0.024200</td>\n",
       "      <td>26.207115</td>\n",
       "      <td>0.097976</td>\n",
       "      <td>...</td>\n",
       "      <td>15.972631</td>\n",
       "      <td>3.528026</td>\n",
       "      <td>1569.513439</td>\n",
       "      <td>0.029284</td>\n",
       "      <td>0.975217</td>\n",
       "      <td>-0.004498</td>\n",
       "      <td>184.368299</td>\n",
       "      <td>0.006300</td>\n",
       "      <td>1536.475750</td>\n",
       "      <td>299791.577634</td>\n",
       "    </tr>\n",
       "    <tr>\n",
       "      <th>18416</th>\n",
       "      <td>2024-11-01</td>\n",
       "      <td>GA</td>\n",
       "      <td>25.704628</td>\n",
       "      <td>-0.165583</td>\n",
       "      <td>28.377602</td>\n",
       "      <td>-0.020919</td>\n",
       "      <td>5.882505</td>\n",
       "      <td>0.030047</td>\n",
       "      <td>21.229142</td>\n",
       "      <td>0.355209</td>\n",
       "      <td>...</td>\n",
       "      <td>21.932300</td>\n",
       "      <td>-0.595328</td>\n",
       "      <td>1743.028643</td>\n",
       "      <td>-0.022036</td>\n",
       "      <td>0.970562</td>\n",
       "      <td>-0.001474</td>\n",
       "      <td>159.285000</td>\n",
       "      <td>0.115485</td>\n",
       "      <td>1541.986132</td>\n",
       "      <td>255540.577007</td>\n",
       "    </tr>\n",
       "    <tr>\n",
       "      <th>18455</th>\n",
       "      <td>2024-11-01</td>\n",
       "      <td>WY</td>\n",
       "      <td>27.000000</td>\n",
       "      <td>0.080000</td>\n",
       "      <td>20.000000</td>\n",
       "      <td>-0.285714</td>\n",
       "      <td>5.000000</td>\n",
       "      <td>-0.166667</td>\n",
       "      <td>24.000000</td>\n",
       "      <td>0.333333</td>\n",
       "      <td>...</td>\n",
       "      <td>9.208333</td>\n",
       "      <td>-2.513889</td>\n",
       "      <td>1974.000000</td>\n",
       "      <td>0.192029</td>\n",
       "      <td>0.987222</td>\n",
       "      <td>0.010982</td>\n",
       "      <td>171.437135</td>\n",
       "      <td>0.271712</td>\n",
       "      <td>1311.863248</td>\n",
       "      <td>295675.494623</td>\n",
       "    </tr>\n",
       "  </tbody>\n",
       "</table>\n",
       "<p>18456 rows × 36 columns</p>\n",
       "</div>"
      ]
     },
     "execution_count": 248,
     "metadata": {},
     "output_type": "execute_result"
    }
   ],
   "execution_count": 248
  },
  {
   "metadata": {
    "ExecuteTime": {
     "end_time": "2024-12-11T23:15:14.349004Z",
     "start_time": "2024-12-11T23:15:14.279558Z"
    }
   },
   "cell_type": "code",
   "source": [
    "# describe the data\n",
    "df.describe()"
   ],
   "id": "e8f33928539f14b",
   "outputs": [
    {
     "data": {
      "text/plain": [
       "       adjusted_average_new_listings  adjusted_average_new_listings_yoy  \\\n",
       "count                   18456.000000                       18456.000000   \n",
       "mean                      224.822185                           0.020352   \n",
       "std                       268.399737                           0.252885   \n",
       "min                         4.000000                          -0.846920   \n",
       "25%                        78.000000                          -0.109911   \n",
       "50%                       147.000227                           0.005099   \n",
       "75%                       237.769617                           0.111253   \n",
       "max                      1938.274806                           7.306175   \n",
       "\n",
       "       average_pending_sales_listing_updates  \\\n",
       "count                           18456.000000   \n",
       "mean                              228.979772   \n",
       "std                               277.258932   \n",
       "min                                 6.000000   \n",
       "25%                                82.000000   \n",
       "50%                               152.890582   \n",
       "75%                               238.005492   \n",
       "max                              2068.905801   \n",
       "\n",
       "       average_pending_sales_listing_updates_yoy  off_market_in_two_weeks  \\\n",
       "count                               18456.000000             18456.000000   \n",
       "mean                                    0.016517                57.717817   \n",
       "std                                     0.293648                75.809862   \n",
       "min                                    -0.911950                 0.000000   \n",
       "25%                                    -0.119166                15.700872   \n",
       "50%                                    -0.011288                32.076813   \n",
       "75%                                     0.104181                66.831753   \n",
       "max                                    13.941223               900.482199   \n",
       "\n",
       "       off_market_in_two_weeks_yoy  adjusted_average_homes_sold  \\\n",
       "count                 18456.000000                 18456.000000   \n",
       "mean                      0.265805                   190.655146   \n",
       "std                       1.074286                   226.218136   \n",
       "min                      -1.000000                     5.871287   \n",
       "25%                      -0.165918                    70.003369   \n",
       "50%                       0.069249                   127.582461   \n",
       "75%                       0.412722                   202.562952   \n",
       "max                      55.000000                  2069.351800   \n",
       "\n",
       "       adjusted_average_homes_sold_yoy  median_new_listing_price  \\\n",
       "count                     18456.000000              18456.000000   \n",
       "mean                          0.017660             356879.316094   \n",
       "std                           0.258654             145058.128008   \n",
       "min                          -0.840433              73450.000000   \n",
       "25%                          -0.130728             255538.988678   \n",
       "50%                          -0.007770             316702.743756   \n",
       "75%                           0.115053             425760.055916   \n",
       "max                           3.762365             997500.000000   \n",
       "\n",
       "       median_new_listing_price_yoy  ...  months_of_supply  \\\n",
       "count                  18456.000000  ...      18456.000000   \n",
       "mean                       0.077466  ...         13.636546   \n",
       "std                        0.088239  ...          6.712299   \n",
       "min                       -0.680511  ...          2.360043   \n",
       "25%                        0.028102  ...          8.962673   \n",
       "50%                        0.068650  ...         12.272461   \n",
       "75%                        0.118067  ...         16.750018   \n",
       "max                        1.118367  ...        117.757692   \n",
       "\n",
       "       months_of_supply_yoy  median_pending_sqft  median_pending_sqft_yoy  \\\n",
       "count          18456.000000         18456.000000             18456.000000   \n",
       "mean              -0.454951          1740.661655                 0.010256   \n",
       "std                5.333714           239.320561                 0.071756   \n",
       "min              -92.758503           814.000000                -0.387527   \n",
       "25%               -2.758122          1595.991905                -0.024072   \n",
       "50%               -0.297261          1732.524705                 0.006440   \n",
       "75%                1.906682          1875.542798                 0.039469   \n",
       "max               94.271909          2879.872908                 1.105556   \n",
       "\n",
       "       average_sale_to_list_ratio  average_sale_to_list_ratio_yoy  \\\n",
       "count                18456.000000                    18456.000000   \n",
       "mean                     0.991642                        0.001699   \n",
       "std                      0.018139                        0.014420   \n",
       "min                      0.900450                       -0.089645   \n",
       "25%                      0.979629                       -0.004696   \n",
       "50%                      0.989610                        0.001766   \n",
       "75%                      1.001578                        0.008937   \n",
       "max                      1.090251                        0.088707   \n",
       "\n",
       "       median_sale_ppsf  median_sale_ppsf_yoy          ZORI           ZHVI  \n",
       "count      18456.000000          18456.000000  18456.000000   18456.000000  \n",
       "mean         206.673428              0.078572   1515.914613  338363.084043  \n",
       "std          117.353164              0.077867    419.397500  147694.948987  \n",
       "min           55.159332             -0.468836    698.509937   84040.300712  \n",
       "25%          135.614105              0.031558   1212.348959  229266.392067  \n",
       "50%          169.675033              0.068387   1433.380442  299045.004648  \n",
       "75%          230.560699              0.116866   1757.839478  404140.550752  \n",
       "max          829.763339              1.262682   2910.561059  923341.979821  \n",
       "\n",
       "[8 rows x 34 columns]"
      ],
      "text/html": [
       "<div>\n",
       "<style scoped>\n",
       "    .dataframe tbody tr th:only-of-type {\n",
       "        vertical-align: middle;\n",
       "    }\n",
       "\n",
       "    .dataframe tbody tr th {\n",
       "        vertical-align: top;\n",
       "    }\n",
       "\n",
       "    .dataframe thead th {\n",
       "        text-align: right;\n",
       "    }\n",
       "</style>\n",
       "<table border=\"1\" class=\"dataframe\">\n",
       "  <thead>\n",
       "    <tr style=\"text-align: right;\">\n",
       "      <th></th>\n",
       "      <th>adjusted_average_new_listings</th>\n",
       "      <th>adjusted_average_new_listings_yoy</th>\n",
       "      <th>average_pending_sales_listing_updates</th>\n",
       "      <th>average_pending_sales_listing_updates_yoy</th>\n",
       "      <th>off_market_in_two_weeks</th>\n",
       "      <th>off_market_in_two_weeks_yoy</th>\n",
       "      <th>adjusted_average_homes_sold</th>\n",
       "      <th>adjusted_average_homes_sold_yoy</th>\n",
       "      <th>median_new_listing_price</th>\n",
       "      <th>median_new_listing_price_yoy</th>\n",
       "      <th>...</th>\n",
       "      <th>months_of_supply</th>\n",
       "      <th>months_of_supply_yoy</th>\n",
       "      <th>median_pending_sqft</th>\n",
       "      <th>median_pending_sqft_yoy</th>\n",
       "      <th>average_sale_to_list_ratio</th>\n",
       "      <th>average_sale_to_list_ratio_yoy</th>\n",
       "      <th>median_sale_ppsf</th>\n",
       "      <th>median_sale_ppsf_yoy</th>\n",
       "      <th>ZORI</th>\n",
       "      <th>ZHVI</th>\n",
       "    </tr>\n",
       "  </thead>\n",
       "  <tbody>\n",
       "    <tr>\n",
       "      <th>count</th>\n",
       "      <td>18456.000000</td>\n",
       "      <td>18456.000000</td>\n",
       "      <td>18456.000000</td>\n",
       "      <td>18456.000000</td>\n",
       "      <td>18456.000000</td>\n",
       "      <td>18456.000000</td>\n",
       "      <td>18456.000000</td>\n",
       "      <td>18456.000000</td>\n",
       "      <td>18456.000000</td>\n",
       "      <td>18456.000000</td>\n",
       "      <td>...</td>\n",
       "      <td>18456.000000</td>\n",
       "      <td>18456.000000</td>\n",
       "      <td>18456.000000</td>\n",
       "      <td>18456.000000</td>\n",
       "      <td>18456.000000</td>\n",
       "      <td>18456.000000</td>\n",
       "      <td>18456.000000</td>\n",
       "      <td>18456.000000</td>\n",
       "      <td>18456.000000</td>\n",
       "      <td>18456.000000</td>\n",
       "    </tr>\n",
       "    <tr>\n",
       "      <th>mean</th>\n",
       "      <td>224.822185</td>\n",
       "      <td>0.020352</td>\n",
       "      <td>228.979772</td>\n",
       "      <td>0.016517</td>\n",
       "      <td>57.717817</td>\n",
       "      <td>0.265805</td>\n",
       "      <td>190.655146</td>\n",
       "      <td>0.017660</td>\n",
       "      <td>356879.316094</td>\n",
       "      <td>0.077466</td>\n",
       "      <td>...</td>\n",
       "      <td>13.636546</td>\n",
       "      <td>-0.454951</td>\n",
       "      <td>1740.661655</td>\n",
       "      <td>0.010256</td>\n",
       "      <td>0.991642</td>\n",
       "      <td>0.001699</td>\n",
       "      <td>206.673428</td>\n",
       "      <td>0.078572</td>\n",
       "      <td>1515.914613</td>\n",
       "      <td>338363.084043</td>\n",
       "    </tr>\n",
       "    <tr>\n",
       "      <th>std</th>\n",
       "      <td>268.399737</td>\n",
       "      <td>0.252885</td>\n",
       "      <td>277.258932</td>\n",
       "      <td>0.293648</td>\n",
       "      <td>75.809862</td>\n",
       "      <td>1.074286</td>\n",
       "      <td>226.218136</td>\n",
       "      <td>0.258654</td>\n",
       "      <td>145058.128008</td>\n",
       "      <td>0.088239</td>\n",
       "      <td>...</td>\n",
       "      <td>6.712299</td>\n",
       "      <td>5.333714</td>\n",
       "      <td>239.320561</td>\n",
       "      <td>0.071756</td>\n",
       "      <td>0.018139</td>\n",
       "      <td>0.014420</td>\n",
       "      <td>117.353164</td>\n",
       "      <td>0.077867</td>\n",
       "      <td>419.397500</td>\n",
       "      <td>147694.948987</td>\n",
       "    </tr>\n",
       "    <tr>\n",
       "      <th>min</th>\n",
       "      <td>4.000000</td>\n",
       "      <td>-0.846920</td>\n",
       "      <td>6.000000</td>\n",
       "      <td>-0.911950</td>\n",
       "      <td>0.000000</td>\n",
       "      <td>-1.000000</td>\n",
       "      <td>5.871287</td>\n",
       "      <td>-0.840433</td>\n",
       "      <td>73450.000000</td>\n",
       "      <td>-0.680511</td>\n",
       "      <td>...</td>\n",
       "      <td>2.360043</td>\n",
       "      <td>-92.758503</td>\n",
       "      <td>814.000000</td>\n",
       "      <td>-0.387527</td>\n",
       "      <td>0.900450</td>\n",
       "      <td>-0.089645</td>\n",
       "      <td>55.159332</td>\n",
       "      <td>-0.468836</td>\n",
       "      <td>698.509937</td>\n",
       "      <td>84040.300712</td>\n",
       "    </tr>\n",
       "    <tr>\n",
       "      <th>25%</th>\n",
       "      <td>78.000000</td>\n",
       "      <td>-0.109911</td>\n",
       "      <td>82.000000</td>\n",
       "      <td>-0.119166</td>\n",
       "      <td>15.700872</td>\n",
       "      <td>-0.165918</td>\n",
       "      <td>70.003369</td>\n",
       "      <td>-0.130728</td>\n",
       "      <td>255538.988678</td>\n",
       "      <td>0.028102</td>\n",
       "      <td>...</td>\n",
       "      <td>8.962673</td>\n",
       "      <td>-2.758122</td>\n",
       "      <td>1595.991905</td>\n",
       "      <td>-0.024072</td>\n",
       "      <td>0.979629</td>\n",
       "      <td>-0.004696</td>\n",
       "      <td>135.614105</td>\n",
       "      <td>0.031558</td>\n",
       "      <td>1212.348959</td>\n",
       "      <td>229266.392067</td>\n",
       "    </tr>\n",
       "    <tr>\n",
       "      <th>50%</th>\n",
       "      <td>147.000227</td>\n",
       "      <td>0.005099</td>\n",
       "      <td>152.890582</td>\n",
       "      <td>-0.011288</td>\n",
       "      <td>32.076813</td>\n",
       "      <td>0.069249</td>\n",
       "      <td>127.582461</td>\n",
       "      <td>-0.007770</td>\n",
       "      <td>316702.743756</td>\n",
       "      <td>0.068650</td>\n",
       "      <td>...</td>\n",
       "      <td>12.272461</td>\n",
       "      <td>-0.297261</td>\n",
       "      <td>1732.524705</td>\n",
       "      <td>0.006440</td>\n",
       "      <td>0.989610</td>\n",
       "      <td>0.001766</td>\n",
       "      <td>169.675033</td>\n",
       "      <td>0.068387</td>\n",
       "      <td>1433.380442</td>\n",
       "      <td>299045.004648</td>\n",
       "    </tr>\n",
       "    <tr>\n",
       "      <th>75%</th>\n",
       "      <td>237.769617</td>\n",
       "      <td>0.111253</td>\n",
       "      <td>238.005492</td>\n",
       "      <td>0.104181</td>\n",
       "      <td>66.831753</td>\n",
       "      <td>0.412722</td>\n",
       "      <td>202.562952</td>\n",
       "      <td>0.115053</td>\n",
       "      <td>425760.055916</td>\n",
       "      <td>0.118067</td>\n",
       "      <td>...</td>\n",
       "      <td>16.750018</td>\n",
       "      <td>1.906682</td>\n",
       "      <td>1875.542798</td>\n",
       "      <td>0.039469</td>\n",
       "      <td>1.001578</td>\n",
       "      <td>0.008937</td>\n",
       "      <td>230.560699</td>\n",
       "      <td>0.116866</td>\n",
       "      <td>1757.839478</td>\n",
       "      <td>404140.550752</td>\n",
       "    </tr>\n",
       "    <tr>\n",
       "      <th>max</th>\n",
       "      <td>1938.274806</td>\n",
       "      <td>7.306175</td>\n",
       "      <td>2068.905801</td>\n",
       "      <td>13.941223</td>\n",
       "      <td>900.482199</td>\n",
       "      <td>55.000000</td>\n",
       "      <td>2069.351800</td>\n",
       "      <td>3.762365</td>\n",
       "      <td>997500.000000</td>\n",
       "      <td>1.118367</td>\n",
       "      <td>...</td>\n",
       "      <td>117.757692</td>\n",
       "      <td>94.271909</td>\n",
       "      <td>2879.872908</td>\n",
       "      <td>1.105556</td>\n",
       "      <td>1.090251</td>\n",
       "      <td>0.088707</td>\n",
       "      <td>829.763339</td>\n",
       "      <td>1.262682</td>\n",
       "      <td>2910.561059</td>\n",
       "      <td>923341.979821</td>\n",
       "    </tr>\n",
       "  </tbody>\n",
       "</table>\n",
       "<p>8 rows × 34 columns</p>\n",
       "</div>"
      ]
     },
     "execution_count": 249,
     "metadata": {},
     "output_type": "execute_result"
    }
   ],
   "execution_count": 249
  },
  {
   "metadata": {},
   "cell_type": "markdown",
   "source": "### Regional Filter",
   "id": "7bbe7f4b2de11780"
  },
  {
   "metadata": {
    "ExecuteTime": {
     "end_time": "2024-12-11T23:15:14.467516Z",
     "start_time": "2024-12-11T23:15:14.416895Z"
    }
   },
   "cell_type": "code",
   "source": [
    "# include only rows where state is within California, Colorado, Connecticut, DC, Florida, Maryland, Mass, New Jersey, New York, North Carolina, Texas, Virginia, Washington\n",
    "df = df[(df['State'] == 'CA') | (df['State'] == 'CO') | (df['State'] == 'CT') | (df['State'] == 'DC') | (\n",
    "        df['State'] == 'FL') | (df['State'] == 'MD') | (df['State'] == 'MA') | (df['State'] == 'NJ') | (\n",
    "                df['State'] == 'NY') | (df['State'] == 'NC') | (df['State'] == 'TX') | (df['State'] == 'VA') | (\n",
    "                df['State'] == 'WA')]\n",
    "df"
   ],
   "id": "96182d8b97c0385b",
   "outputs": [
    {
     "data": {
      "text/plain": [
       "             date State  adjusted_average_new_listings  \\\n",
       "24     2016-12-30    NY                     151.742276   \n",
       "21     2016-12-30    NJ                     146.296502   \n",
       "32     2016-12-30    TX                     574.590331   \n",
       "34     2016-12-30    VA                     118.978116   \n",
       "36     2016-12-30    WA                     204.418965   \n",
       "...           ...   ...                            ...   \n",
       "18412  2024-11-01    CT                     116.928507   \n",
       "18413  2024-11-01    DC                     188.000000   \n",
       "18415  2024-11-01    FL                     475.338469   \n",
       "18425  2024-11-01    MA                      97.090933   \n",
       "18426  2024-11-01    MD                      95.834211   \n",
       "\n",
       "       adjusted_average_new_listings_yoy  \\\n",
       "24                             -0.169707   \n",
       "21                             -0.108701   \n",
       "32                             -0.075473   \n",
       "34                             -0.140195   \n",
       "36                             -0.207611   \n",
       "...                                  ...   \n",
       "18412                          -0.090912   \n",
       "18413                           0.392593   \n",
       "18415                          -0.067136   \n",
       "18425                          -0.041412   \n",
       "18426                           0.211162   \n",
       "\n",
       "       average_pending_sales_listing_updates  \\\n",
       "24                                 92.002294   \n",
       "21                                 95.712336   \n",
       "32                                459.013335   \n",
       "34                                 94.476325   \n",
       "36                                212.651097   \n",
       "...                                      ...   \n",
       "18412                             155.487484   \n",
       "18413                             170.000000   \n",
       "18415                             306.248776   \n",
       "18425                             108.639851   \n",
       "18426                             108.185107   \n",
       "\n",
       "       average_pending_sales_listing_updates_yoy  off_market_in_two_weeks  \\\n",
       "24                                     -0.282131                 3.498929   \n",
       "21                                      0.041301                 5.426078   \n",
       "32                                     -0.100239                80.863016   \n",
       "34                                     -0.145302                24.897364   \n",
       "36                                     -0.244751                59.000302   \n",
       "...                                          ...                      ...   \n",
       "18412                                   0.162865                26.974428   \n",
       "18413                                   0.205674                11.000000   \n",
       "18415                                  -0.037197                37.581899   \n",
       "18425                                   0.122470                22.133546   \n",
       "18426                                   0.159219                27.503864   \n",
       "\n",
       "       off_market_in_two_weeks_yoy  adjusted_average_homes_sold  \\\n",
       "24                        0.101171                    96.855613   \n",
       "21                        0.182668                    72.410436   \n",
       "32                       -0.046875                   213.293151   \n",
       "34                        0.072241                    76.126696   \n",
       "36                       -0.007422                   178.338031   \n",
       "...                            ...                          ...   \n",
       "18412                    -0.037485                   126.502251   \n",
       "18413                    -0.576923                   114.000000   \n",
       "18415                    -0.100301                   222.618258   \n",
       "18425                     0.093218                    94.045135   \n",
       "18426                     0.048320                    85.445557   \n",
       "\n",
       "       adjusted_average_homes_sold_yoy  ...  months_of_supply  \\\n",
       "24                           -0.176365  ...         33.720803   \n",
       "21                           -0.110826  ...         40.352532   \n",
       "32                           -0.175231  ...         36.190327   \n",
       "34                           -0.095937  ...         17.502847   \n",
       "36                           -0.062777  ...         12.728302   \n",
       "...                                ...  ...               ...   \n",
       "18412                         0.478081  ...         10.441613   \n",
       "18413                         0.187500  ...         26.640351   \n",
       "18415                         0.034342  ...         35.944493   \n",
       "18425                         0.329857  ...         12.019740   \n",
       "18426                         0.262958  ...         12.788671   \n",
       "\n",
       "       months_of_supply_yoy  median_pending_sqft  median_pending_sqft_yoy  \\\n",
       "24                 2.649503          1349.549098                -0.060022   \n",
       "21                 0.311804          1540.132904                 0.015815   \n",
       "32                 7.226929          1863.803687                -0.033293   \n",
       "34                -1.888174          1867.290568                -0.032713   \n",
       "36                -0.133441          1764.748440                 0.005044   \n",
       "...                     ...                  ...                      ...   \n",
       "18412             -4.485829          1643.423735                 0.004087   \n",
       "18413              0.348684          1371.500000                -0.085667   \n",
       "18415              6.366487          1576.700954                 0.013026   \n",
       "18425             -2.424043          1628.974114                 0.013848   \n",
       "18426             -0.572449          1767.211363                -0.016668   \n",
       "\n",
       "       average_sale_to_list_ratio  average_sale_to_list_ratio_yoy  \\\n",
       "24                       0.969925                        0.004392   \n",
       "21                       0.960780                        0.005843   \n",
       "32                       0.965699                       -0.001474   \n",
       "34                       0.985511                        0.006399   \n",
       "36                       1.000935                        0.008768   \n",
       "...                           ...                             ...   \n",
       "18412                    1.019611                       -0.008243   \n",
       "18413                    0.987483                       -0.002573   \n",
       "18415                    0.960160                       -0.008305   \n",
       "18425                    1.001044                       -0.003737   \n",
       "18426                    0.998137                        0.001047   \n",
       "\n",
       "       median_sale_ppsf  median_sale_ppsf_yoy         ZORI           ZHVI  \n",
       "24           328.973719              0.029551  1895.798229  456494.835558  \n",
       "21           149.095603             -0.015709  1536.648046  287718.009602  \n",
       "32           107.886943              0.055265  1221.484416  199894.744878  \n",
       "34           181.587008              0.061386  1558.577694  382460.677136  \n",
       "36           198.389570              0.128863  1353.784035  349653.898163  \n",
       "...                 ...                   ...          ...            ...  \n",
       "18412        219.975437              0.096832  1885.119681  369725.782771  \n",
       "18413        489.004385             -0.043402  2520.749001  602763.948227  \n",
       "18415        282.450213              0.019665  2395.190624  432096.377834  \n",
       "18425        407.260117              0.051139  2594.192374  625927.096790  \n",
       "18426        221.888798              0.042522  1943.986460  396332.990533  \n",
       "\n",
       "[5266 rows x 36 columns]"
      ],
      "text/html": [
       "<div>\n",
       "<style scoped>\n",
       "    .dataframe tbody tr th:only-of-type {\n",
       "        vertical-align: middle;\n",
       "    }\n",
       "\n",
       "    .dataframe tbody tr th {\n",
       "        vertical-align: top;\n",
       "    }\n",
       "\n",
       "    .dataframe thead th {\n",
       "        text-align: right;\n",
       "    }\n",
       "</style>\n",
       "<table border=\"1\" class=\"dataframe\">\n",
       "  <thead>\n",
       "    <tr style=\"text-align: right;\">\n",
       "      <th></th>\n",
       "      <th>date</th>\n",
       "      <th>State</th>\n",
       "      <th>adjusted_average_new_listings</th>\n",
       "      <th>adjusted_average_new_listings_yoy</th>\n",
       "      <th>average_pending_sales_listing_updates</th>\n",
       "      <th>average_pending_sales_listing_updates_yoy</th>\n",
       "      <th>off_market_in_two_weeks</th>\n",
       "      <th>off_market_in_two_weeks_yoy</th>\n",
       "      <th>adjusted_average_homes_sold</th>\n",
       "      <th>adjusted_average_homes_sold_yoy</th>\n",
       "      <th>...</th>\n",
       "      <th>months_of_supply</th>\n",
       "      <th>months_of_supply_yoy</th>\n",
       "      <th>median_pending_sqft</th>\n",
       "      <th>median_pending_sqft_yoy</th>\n",
       "      <th>average_sale_to_list_ratio</th>\n",
       "      <th>average_sale_to_list_ratio_yoy</th>\n",
       "      <th>median_sale_ppsf</th>\n",
       "      <th>median_sale_ppsf_yoy</th>\n",
       "      <th>ZORI</th>\n",
       "      <th>ZHVI</th>\n",
       "    </tr>\n",
       "  </thead>\n",
       "  <tbody>\n",
       "    <tr>\n",
       "      <th>24</th>\n",
       "      <td>2016-12-30</td>\n",
       "      <td>NY</td>\n",
       "      <td>151.742276</td>\n",
       "      <td>-0.169707</td>\n",
       "      <td>92.002294</td>\n",
       "      <td>-0.282131</td>\n",
       "      <td>3.498929</td>\n",
       "      <td>0.101171</td>\n",
       "      <td>96.855613</td>\n",
       "      <td>-0.176365</td>\n",
       "      <td>...</td>\n",
       "      <td>33.720803</td>\n",
       "      <td>2.649503</td>\n",
       "      <td>1349.549098</td>\n",
       "      <td>-0.060022</td>\n",
       "      <td>0.969925</td>\n",
       "      <td>0.004392</td>\n",
       "      <td>328.973719</td>\n",
       "      <td>0.029551</td>\n",
       "      <td>1895.798229</td>\n",
       "      <td>456494.835558</td>\n",
       "    </tr>\n",
       "    <tr>\n",
       "      <th>21</th>\n",
       "      <td>2016-12-30</td>\n",
       "      <td>NJ</td>\n",
       "      <td>146.296502</td>\n",
       "      <td>-0.108701</td>\n",
       "      <td>95.712336</td>\n",
       "      <td>0.041301</td>\n",
       "      <td>5.426078</td>\n",
       "      <td>0.182668</td>\n",
       "      <td>72.410436</td>\n",
       "      <td>-0.110826</td>\n",
       "      <td>...</td>\n",
       "      <td>40.352532</td>\n",
       "      <td>0.311804</td>\n",
       "      <td>1540.132904</td>\n",
       "      <td>0.015815</td>\n",
       "      <td>0.960780</td>\n",
       "      <td>0.005843</td>\n",
       "      <td>149.095603</td>\n",
       "      <td>-0.015709</td>\n",
       "      <td>1536.648046</td>\n",
       "      <td>287718.009602</td>\n",
       "    </tr>\n",
       "    <tr>\n",
       "      <th>32</th>\n",
       "      <td>2016-12-30</td>\n",
       "      <td>TX</td>\n",
       "      <td>574.590331</td>\n",
       "      <td>-0.075473</td>\n",
       "      <td>459.013335</td>\n",
       "      <td>-0.100239</td>\n",
       "      <td>80.863016</td>\n",
       "      <td>-0.046875</td>\n",
       "      <td>213.293151</td>\n",
       "      <td>-0.175231</td>\n",
       "      <td>...</td>\n",
       "      <td>36.190327</td>\n",
       "      <td>7.226929</td>\n",
       "      <td>1863.803687</td>\n",
       "      <td>-0.033293</td>\n",
       "      <td>0.965699</td>\n",
       "      <td>-0.001474</td>\n",
       "      <td>107.886943</td>\n",
       "      <td>0.055265</td>\n",
       "      <td>1221.484416</td>\n",
       "      <td>199894.744878</td>\n",
       "    </tr>\n",
       "    <tr>\n",
       "      <th>34</th>\n",
       "      <td>2016-12-30</td>\n",
       "      <td>VA</td>\n",
       "      <td>118.978116</td>\n",
       "      <td>-0.140195</td>\n",
       "      <td>94.476325</td>\n",
       "      <td>-0.145302</td>\n",
       "      <td>24.897364</td>\n",
       "      <td>0.072241</td>\n",
       "      <td>76.126696</td>\n",
       "      <td>-0.095937</td>\n",
       "      <td>...</td>\n",
       "      <td>17.502847</td>\n",
       "      <td>-1.888174</td>\n",
       "      <td>1867.290568</td>\n",
       "      <td>-0.032713</td>\n",
       "      <td>0.985511</td>\n",
       "      <td>0.006399</td>\n",
       "      <td>181.587008</td>\n",
       "      <td>0.061386</td>\n",
       "      <td>1558.577694</td>\n",
       "      <td>382460.677136</td>\n",
       "    </tr>\n",
       "    <tr>\n",
       "      <th>36</th>\n",
       "      <td>2016-12-30</td>\n",
       "      <td>WA</td>\n",
       "      <td>204.418965</td>\n",
       "      <td>-0.207611</td>\n",
       "      <td>212.651097</td>\n",
       "      <td>-0.244751</td>\n",
       "      <td>59.000302</td>\n",
       "      <td>-0.007422</td>\n",
       "      <td>178.338031</td>\n",
       "      <td>-0.062777</td>\n",
       "      <td>...</td>\n",
       "      <td>12.728302</td>\n",
       "      <td>-0.133441</td>\n",
       "      <td>1764.748440</td>\n",
       "      <td>0.005044</td>\n",
       "      <td>1.000935</td>\n",
       "      <td>0.008768</td>\n",
       "      <td>198.389570</td>\n",
       "      <td>0.128863</td>\n",
       "      <td>1353.784035</td>\n",
       "      <td>349653.898163</td>\n",
       "    </tr>\n",
       "    <tr>\n",
       "      <th>...</th>\n",
       "      <td>...</td>\n",
       "      <td>...</td>\n",
       "      <td>...</td>\n",
       "      <td>...</td>\n",
       "      <td>...</td>\n",
       "      <td>...</td>\n",
       "      <td>...</td>\n",
       "      <td>...</td>\n",
       "      <td>...</td>\n",
       "      <td>...</td>\n",
       "      <td>...</td>\n",
       "      <td>...</td>\n",
       "      <td>...</td>\n",
       "      <td>...</td>\n",
       "      <td>...</td>\n",
       "      <td>...</td>\n",
       "      <td>...</td>\n",
       "      <td>...</td>\n",
       "      <td>...</td>\n",
       "      <td>...</td>\n",
       "      <td>...</td>\n",
       "    </tr>\n",
       "    <tr>\n",
       "      <th>18412</th>\n",
       "      <td>2024-11-01</td>\n",
       "      <td>CT</td>\n",
       "      <td>116.928507</td>\n",
       "      <td>-0.090912</td>\n",
       "      <td>155.487484</td>\n",
       "      <td>0.162865</td>\n",
       "      <td>26.974428</td>\n",
       "      <td>-0.037485</td>\n",
       "      <td>126.502251</td>\n",
       "      <td>0.478081</td>\n",
       "      <td>...</td>\n",
       "      <td>10.441613</td>\n",
       "      <td>-4.485829</td>\n",
       "      <td>1643.423735</td>\n",
       "      <td>0.004087</td>\n",
       "      <td>1.019611</td>\n",
       "      <td>-0.008243</td>\n",
       "      <td>219.975437</td>\n",
       "      <td>0.096832</td>\n",
       "      <td>1885.119681</td>\n",
       "      <td>369725.782771</td>\n",
       "    </tr>\n",
       "    <tr>\n",
       "      <th>18413</th>\n",
       "      <td>2024-11-01</td>\n",
       "      <td>DC</td>\n",
       "      <td>188.000000</td>\n",
       "      <td>0.392593</td>\n",
       "      <td>170.000000</td>\n",
       "      <td>0.205674</td>\n",
       "      <td>11.000000</td>\n",
       "      <td>-0.576923</td>\n",
       "      <td>114.000000</td>\n",
       "      <td>0.187500</td>\n",
       "      <td>...</td>\n",
       "      <td>26.640351</td>\n",
       "      <td>0.348684</td>\n",
       "      <td>1371.500000</td>\n",
       "      <td>-0.085667</td>\n",
       "      <td>0.987483</td>\n",
       "      <td>-0.002573</td>\n",
       "      <td>489.004385</td>\n",
       "      <td>-0.043402</td>\n",
       "      <td>2520.749001</td>\n",
       "      <td>602763.948227</td>\n",
       "    </tr>\n",
       "    <tr>\n",
       "      <th>18415</th>\n",
       "      <td>2024-11-01</td>\n",
       "      <td>FL</td>\n",
       "      <td>475.338469</td>\n",
       "      <td>-0.067136</td>\n",
       "      <td>306.248776</td>\n",
       "      <td>-0.037197</td>\n",
       "      <td>37.581899</td>\n",
       "      <td>-0.100301</td>\n",
       "      <td>222.618258</td>\n",
       "      <td>0.034342</td>\n",
       "      <td>...</td>\n",
       "      <td>35.944493</td>\n",
       "      <td>6.366487</td>\n",
       "      <td>1576.700954</td>\n",
       "      <td>0.013026</td>\n",
       "      <td>0.960160</td>\n",
       "      <td>-0.008305</td>\n",
       "      <td>282.450213</td>\n",
       "      <td>0.019665</td>\n",
       "      <td>2395.190624</td>\n",
       "      <td>432096.377834</td>\n",
       "    </tr>\n",
       "    <tr>\n",
       "      <th>18425</th>\n",
       "      <td>2024-11-01</td>\n",
       "      <td>MA</td>\n",
       "      <td>97.090933</td>\n",
       "      <td>-0.041412</td>\n",
       "      <td>108.639851</td>\n",
       "      <td>0.122470</td>\n",
       "      <td>22.133546</td>\n",
       "      <td>0.093218</td>\n",
       "      <td>94.045135</td>\n",
       "      <td>0.329857</td>\n",
       "      <td>...</td>\n",
       "      <td>12.019740</td>\n",
       "      <td>-2.424043</td>\n",
       "      <td>1628.974114</td>\n",
       "      <td>0.013848</td>\n",
       "      <td>1.001044</td>\n",
       "      <td>-0.003737</td>\n",
       "      <td>407.260117</td>\n",
       "      <td>0.051139</td>\n",
       "      <td>2594.192374</td>\n",
       "      <td>625927.096790</td>\n",
       "    </tr>\n",
       "    <tr>\n",
       "      <th>18426</th>\n",
       "      <td>2024-11-01</td>\n",
       "      <td>MD</td>\n",
       "      <td>95.834211</td>\n",
       "      <td>0.211162</td>\n",
       "      <td>108.185107</td>\n",
       "      <td>0.159219</td>\n",
       "      <td>27.503864</td>\n",
       "      <td>0.048320</td>\n",
       "      <td>85.445557</td>\n",
       "      <td>0.262958</td>\n",
       "      <td>...</td>\n",
       "      <td>12.788671</td>\n",
       "      <td>-0.572449</td>\n",
       "      <td>1767.211363</td>\n",
       "      <td>-0.016668</td>\n",
       "      <td>0.998137</td>\n",
       "      <td>0.001047</td>\n",
       "      <td>221.888798</td>\n",
       "      <td>0.042522</td>\n",
       "      <td>1943.986460</td>\n",
       "      <td>396332.990533</td>\n",
       "    </tr>\n",
       "  </tbody>\n",
       "</table>\n",
       "<p>5266 rows × 36 columns</p>\n",
       "</div>"
      ]
     },
     "execution_count": 250,
     "metadata": {},
     "output_type": "execute_result"
    }
   ],
   "execution_count": 250
  },
  {
   "metadata": {},
   "cell_type": "markdown",
   "source": "### Aggregate Rows by Date",
   "id": "21b85cc11512b5b9"
  },
  {
   "metadata": {
    "ExecuteTime": {
     "end_time": "2024-12-11T23:15:15.963826Z",
     "start_time": "2024-12-11T23:15:15.043278Z"
    }
   },
   "cell_type": "code",
   "source": [
    "df = utils.process_data(df.drop(columns='State'), utils.features_weighted, groupby='date')\n",
    "df"
   ],
   "id": "24b50b493cd75668",
   "outputs": [
    {
     "data": {
      "text/plain": [
       "           date  adjusted_average_new_listings  \\\n",
       "0    2016-12-30                     445.915183   \n",
       "1    2017-01-06                     527.094817   \n",
       "2    2017-01-13                     512.373861   \n",
       "3    2017-01-20                     519.625462   \n",
       "4    2017-01-27                     567.851763   \n",
       "..          ...                            ...   \n",
       "405  2024-10-04                     324.972516   \n",
       "406  2024-10-11                     368.530773   \n",
       "407  2024-10-18                     354.491165   \n",
       "408  2024-10-25                     347.135163   \n",
       "409  2024-11-01                     354.859633   \n",
       "\n",
       "     adjusted_average_new_listings_yoy  average_pending_sales_listing_updates  \\\n",
       "0                            -0.159182                             334.987835   \n",
       "1                            -0.050554                             425.729279   \n",
       "2                             0.016360                             458.700669   \n",
       "3                             0.048696                             480.506913   \n",
       "4                            -0.000364                             500.489467   \n",
       "..                                 ...                                    ...   \n",
       "405                          -0.090720                             282.554948   \n",
       "406                           0.025345                             285.562446   \n",
       "407                           0.033911                             292.956881   \n",
       "408                          -0.043589                             289.773887   \n",
       "409                          -0.033203                             280.709431   \n",
       "\n",
       "     average_pending_sales_listing_updates_yoy  off_market_in_two_weeks  \\\n",
       "0                                    -0.149662                40.026522   \n",
       "1                                    -0.068162                72.178166   \n",
       "2                                     0.062230                90.705147   \n",
       "3                                    -0.065415                92.883340   \n",
       "4                                     0.089254               100.276578   \n",
       "..                                         ...                      ...   \n",
       "405                                   0.015318                47.065743   \n",
       "406                                   0.034848                48.477774   \n",
       "407                                   0.058593                49.884406   \n",
       "408                                   0.064188                51.190383   \n",
       "409                                   0.053239                47.485731   \n",
       "\n",
       "     off_market_in_two_weeks_yoy  adjusted_average_homes_sold  \\\n",
       "0                       0.076341                   230.691113   \n",
       "1                       0.098187                   302.512099   \n",
       "2                       0.257087                   286.693042   \n",
       "3                       0.270759                   310.536000   \n",
       "4                       0.363362                   373.319741   \n",
       "..                           ...                          ...   \n",
       "405                     0.244413                   215.278745   \n",
       "406                    -0.011643                   240.100257   \n",
       "407                    -0.009695                   266.351557   \n",
       "408                     0.031641                   312.022788   \n",
       "409                    -0.027572                   230.938265   \n",
       "\n",
       "     adjusted_average_homes_sold_yoy  median_new_listing_price  ...  \\\n",
       "0                          -0.151150             333069.168595  ...   \n",
       "1                          -0.054384             336325.208097  ...   \n",
       "2                           0.121804             341677.791673  ...   \n",
       "3                          -0.207613             347879.426187  ...   \n",
       "4                           0.483823             352725.763391  ...   \n",
       "..                               ...                       ...  ...   \n",
       "405                        -0.027249             546598.381567  ...   \n",
       "406                        -0.037464             554308.581982  ...   \n",
       "407                         0.062398             554402.555547  ...   \n",
       "408                         0.128976             546959.612698  ...   \n",
       "409                         0.197766             540581.758583  ...   \n",
       "\n",
       "     months_of_supply  months_of_supply_yoy  median_pending_sqft  \\\n",
       "0           31.138611              4.551491          1590.655037   \n",
       "1           22.833392              0.845698          1578.098227   \n",
       "2           23.913547             -3.835969          1601.087198   \n",
       "3           22.079923              3.850051          1604.812748   \n",
       "4           18.199928             -9.828722          1600.889258   \n",
       "..                ...                   ...                  ...   \n",
       "405         31.954615             12.413470          1705.694758   \n",
       "406         22.813580              5.492808          1698.356999   \n",
       "407         20.547893              3.056295          1707.910257   \n",
       "408         17.540041              1.540061          1701.370948   \n",
       "409         24.490302              1.192181          1684.774113   \n",
       "\n",
       "     median_pending_sqft_yoy  average_sale_to_list_ratio  \\\n",
       "0                   0.003657                    0.971810   \n",
       "1                   0.011329                    0.971949   \n",
       "2                   0.004042                    0.970894   \n",
       "3                   0.005298                    0.973324   \n",
       "4                  -0.005100                    0.972139   \n",
       "..                       ...                         ...   \n",
       "405                 0.024350                    0.981860   \n",
       "406                 0.019413                    0.981226   \n",
       "407                 0.034604                    0.981430   \n",
       "408                 0.019935                    0.980739   \n",
       "409                 0.016878                    0.978376   \n",
       "\n",
       "     average_sale_to_list_ratio_yoy  median_sale_ppsf  median_sale_ppsf_yoy  \\\n",
       "0                          0.001474        187.795484              0.050568   \n",
       "1                          0.001130        190.147809              0.065558   \n",
       "2                         -0.000686        191.209117              0.074392   \n",
       "3                          0.001755        189.974351              0.069887   \n",
       "4                          0.001779        192.148630              0.075688   \n",
       "..                              ...               ...                   ...   \n",
       "405                       -0.004641        336.824030              0.028971   \n",
       "406                       -0.005436        331.432625              0.025527   \n",
       "407                       -0.004040        329.444105              0.021242   \n",
       "408                       -0.003504        328.035394              0.019149   \n",
       "409                       -0.004554        331.458358              0.036354   \n",
       "\n",
       "            ZORI           ZHVI  \n",
       "0    1514.955347  309248.506246  \n",
       "1    1519.754247  313077.269705  \n",
       "2    1520.277932  313846.066816  \n",
       "3    1530.138763  317618.600682  \n",
       "4    1532.672564  318232.395899  \n",
       "..           ...            ...  \n",
       "405  2290.182887  522762.566248  \n",
       "406  2285.262386  520098.178584  \n",
       "407  2282.903442  518483.564589  \n",
       "408  2275.918535  516130.986219  \n",
       "409  2277.448792  512950.874441  \n",
       "\n",
       "[410 rows x 35 columns]"
      ],
      "text/html": [
       "<div>\n",
       "<style scoped>\n",
       "    .dataframe tbody tr th:only-of-type {\n",
       "        vertical-align: middle;\n",
       "    }\n",
       "\n",
       "    .dataframe tbody tr th {\n",
       "        vertical-align: top;\n",
       "    }\n",
       "\n",
       "    .dataframe thead th {\n",
       "        text-align: right;\n",
       "    }\n",
       "</style>\n",
       "<table border=\"1\" class=\"dataframe\">\n",
       "  <thead>\n",
       "    <tr style=\"text-align: right;\">\n",
       "      <th></th>\n",
       "      <th>date</th>\n",
       "      <th>adjusted_average_new_listings</th>\n",
       "      <th>adjusted_average_new_listings_yoy</th>\n",
       "      <th>average_pending_sales_listing_updates</th>\n",
       "      <th>average_pending_sales_listing_updates_yoy</th>\n",
       "      <th>off_market_in_two_weeks</th>\n",
       "      <th>off_market_in_two_weeks_yoy</th>\n",
       "      <th>adjusted_average_homes_sold</th>\n",
       "      <th>adjusted_average_homes_sold_yoy</th>\n",
       "      <th>median_new_listing_price</th>\n",
       "      <th>...</th>\n",
       "      <th>months_of_supply</th>\n",
       "      <th>months_of_supply_yoy</th>\n",
       "      <th>median_pending_sqft</th>\n",
       "      <th>median_pending_sqft_yoy</th>\n",
       "      <th>average_sale_to_list_ratio</th>\n",
       "      <th>average_sale_to_list_ratio_yoy</th>\n",
       "      <th>median_sale_ppsf</th>\n",
       "      <th>median_sale_ppsf_yoy</th>\n",
       "      <th>ZORI</th>\n",
       "      <th>ZHVI</th>\n",
       "    </tr>\n",
       "  </thead>\n",
       "  <tbody>\n",
       "    <tr>\n",
       "      <th>0</th>\n",
       "      <td>2016-12-30</td>\n",
       "      <td>445.915183</td>\n",
       "      <td>-0.159182</td>\n",
       "      <td>334.987835</td>\n",
       "      <td>-0.149662</td>\n",
       "      <td>40.026522</td>\n",
       "      <td>0.076341</td>\n",
       "      <td>230.691113</td>\n",
       "      <td>-0.151150</td>\n",
       "      <td>333069.168595</td>\n",
       "      <td>...</td>\n",
       "      <td>31.138611</td>\n",
       "      <td>4.551491</td>\n",
       "      <td>1590.655037</td>\n",
       "      <td>0.003657</td>\n",
       "      <td>0.971810</td>\n",
       "      <td>0.001474</td>\n",
       "      <td>187.795484</td>\n",
       "      <td>0.050568</td>\n",
       "      <td>1514.955347</td>\n",
       "      <td>309248.506246</td>\n",
       "    </tr>\n",
       "    <tr>\n",
       "      <th>1</th>\n",
       "      <td>2017-01-06</td>\n",
       "      <td>527.094817</td>\n",
       "      <td>-0.050554</td>\n",
       "      <td>425.729279</td>\n",
       "      <td>-0.068162</td>\n",
       "      <td>72.178166</td>\n",
       "      <td>0.098187</td>\n",
       "      <td>302.512099</td>\n",
       "      <td>-0.054384</td>\n",
       "      <td>336325.208097</td>\n",
       "      <td>...</td>\n",
       "      <td>22.833392</td>\n",
       "      <td>0.845698</td>\n",
       "      <td>1578.098227</td>\n",
       "      <td>0.011329</td>\n",
       "      <td>0.971949</td>\n",
       "      <td>0.001130</td>\n",
       "      <td>190.147809</td>\n",
       "      <td>0.065558</td>\n",
       "      <td>1519.754247</td>\n",
       "      <td>313077.269705</td>\n",
       "    </tr>\n",
       "    <tr>\n",
       "      <th>2</th>\n",
       "      <td>2017-01-13</td>\n",
       "      <td>512.373861</td>\n",
       "      <td>0.016360</td>\n",
       "      <td>458.700669</td>\n",
       "      <td>0.062230</td>\n",
       "      <td>90.705147</td>\n",
       "      <td>0.257087</td>\n",
       "      <td>286.693042</td>\n",
       "      <td>0.121804</td>\n",
       "      <td>341677.791673</td>\n",
       "      <td>...</td>\n",
       "      <td>23.913547</td>\n",
       "      <td>-3.835969</td>\n",
       "      <td>1601.087198</td>\n",
       "      <td>0.004042</td>\n",
       "      <td>0.970894</td>\n",
       "      <td>-0.000686</td>\n",
       "      <td>191.209117</td>\n",
       "      <td>0.074392</td>\n",
       "      <td>1520.277932</td>\n",
       "      <td>313846.066816</td>\n",
       "    </tr>\n",
       "    <tr>\n",
       "      <th>3</th>\n",
       "      <td>2017-01-20</td>\n",
       "      <td>519.625462</td>\n",
       "      <td>0.048696</td>\n",
       "      <td>480.506913</td>\n",
       "      <td>-0.065415</td>\n",
       "      <td>92.883340</td>\n",
       "      <td>0.270759</td>\n",
       "      <td>310.536000</td>\n",
       "      <td>-0.207613</td>\n",
       "      <td>347879.426187</td>\n",
       "      <td>...</td>\n",
       "      <td>22.079923</td>\n",
       "      <td>3.850051</td>\n",
       "      <td>1604.812748</td>\n",
       "      <td>0.005298</td>\n",
       "      <td>0.973324</td>\n",
       "      <td>0.001755</td>\n",
       "      <td>189.974351</td>\n",
       "      <td>0.069887</td>\n",
       "      <td>1530.138763</td>\n",
       "      <td>317618.600682</td>\n",
       "    </tr>\n",
       "    <tr>\n",
       "      <th>4</th>\n",
       "      <td>2017-01-27</td>\n",
       "      <td>567.851763</td>\n",
       "      <td>-0.000364</td>\n",
       "      <td>500.489467</td>\n",
       "      <td>0.089254</td>\n",
       "      <td>100.276578</td>\n",
       "      <td>0.363362</td>\n",
       "      <td>373.319741</td>\n",
       "      <td>0.483823</td>\n",
       "      <td>352725.763391</td>\n",
       "      <td>...</td>\n",
       "      <td>18.199928</td>\n",
       "      <td>-9.828722</td>\n",
       "      <td>1600.889258</td>\n",
       "      <td>-0.005100</td>\n",
       "      <td>0.972139</td>\n",
       "      <td>0.001779</td>\n",
       "      <td>192.148630</td>\n",
       "      <td>0.075688</td>\n",
       "      <td>1532.672564</td>\n",
       "      <td>318232.395899</td>\n",
       "    </tr>\n",
       "    <tr>\n",
       "      <th>...</th>\n",
       "      <td>...</td>\n",
       "      <td>...</td>\n",
       "      <td>...</td>\n",
       "      <td>...</td>\n",
       "      <td>...</td>\n",
       "      <td>...</td>\n",
       "      <td>...</td>\n",
       "      <td>...</td>\n",
       "      <td>...</td>\n",
       "      <td>...</td>\n",
       "      <td>...</td>\n",
       "      <td>...</td>\n",
       "      <td>...</td>\n",
       "      <td>...</td>\n",
       "      <td>...</td>\n",
       "      <td>...</td>\n",
       "      <td>...</td>\n",
       "      <td>...</td>\n",
       "      <td>...</td>\n",
       "      <td>...</td>\n",
       "      <td>...</td>\n",
       "    </tr>\n",
       "    <tr>\n",
       "      <th>405</th>\n",
       "      <td>2024-10-04</td>\n",
       "      <td>324.972516</td>\n",
       "      <td>-0.090720</td>\n",
       "      <td>282.554948</td>\n",
       "      <td>0.015318</td>\n",
       "      <td>47.065743</td>\n",
       "      <td>0.244413</td>\n",
       "      <td>215.278745</td>\n",
       "      <td>-0.027249</td>\n",
       "      <td>546598.381567</td>\n",
       "      <td>...</td>\n",
       "      <td>31.954615</td>\n",
       "      <td>12.413470</td>\n",
       "      <td>1705.694758</td>\n",
       "      <td>0.024350</td>\n",
       "      <td>0.981860</td>\n",
       "      <td>-0.004641</td>\n",
       "      <td>336.824030</td>\n",
       "      <td>0.028971</td>\n",
       "      <td>2290.182887</td>\n",
       "      <td>522762.566248</td>\n",
       "    </tr>\n",
       "    <tr>\n",
       "      <th>406</th>\n",
       "      <td>2024-10-11</td>\n",
       "      <td>368.530773</td>\n",
       "      <td>0.025345</td>\n",
       "      <td>285.562446</td>\n",
       "      <td>0.034848</td>\n",
       "      <td>48.477774</td>\n",
       "      <td>-0.011643</td>\n",
       "      <td>240.100257</td>\n",
       "      <td>-0.037464</td>\n",
       "      <td>554308.581982</td>\n",
       "      <td>...</td>\n",
       "      <td>22.813580</td>\n",
       "      <td>5.492808</td>\n",
       "      <td>1698.356999</td>\n",
       "      <td>0.019413</td>\n",
       "      <td>0.981226</td>\n",
       "      <td>-0.005436</td>\n",
       "      <td>331.432625</td>\n",
       "      <td>0.025527</td>\n",
       "      <td>2285.262386</td>\n",
       "      <td>520098.178584</td>\n",
       "    </tr>\n",
       "    <tr>\n",
       "      <th>407</th>\n",
       "      <td>2024-10-18</td>\n",
       "      <td>354.491165</td>\n",
       "      <td>0.033911</td>\n",
       "      <td>292.956881</td>\n",
       "      <td>0.058593</td>\n",
       "      <td>49.884406</td>\n",
       "      <td>-0.009695</td>\n",
       "      <td>266.351557</td>\n",
       "      <td>0.062398</td>\n",
       "      <td>554402.555547</td>\n",
       "      <td>...</td>\n",
       "      <td>20.547893</td>\n",
       "      <td>3.056295</td>\n",
       "      <td>1707.910257</td>\n",
       "      <td>0.034604</td>\n",
       "      <td>0.981430</td>\n",
       "      <td>-0.004040</td>\n",
       "      <td>329.444105</td>\n",
       "      <td>0.021242</td>\n",
       "      <td>2282.903442</td>\n",
       "      <td>518483.564589</td>\n",
       "    </tr>\n",
       "    <tr>\n",
       "      <th>408</th>\n",
       "      <td>2024-10-25</td>\n",
       "      <td>347.135163</td>\n",
       "      <td>-0.043589</td>\n",
       "      <td>289.773887</td>\n",
       "      <td>0.064188</td>\n",
       "      <td>51.190383</td>\n",
       "      <td>0.031641</td>\n",
       "      <td>312.022788</td>\n",
       "      <td>0.128976</td>\n",
       "      <td>546959.612698</td>\n",
       "      <td>...</td>\n",
       "      <td>17.540041</td>\n",
       "      <td>1.540061</td>\n",
       "      <td>1701.370948</td>\n",
       "      <td>0.019935</td>\n",
       "      <td>0.980739</td>\n",
       "      <td>-0.003504</td>\n",
       "      <td>328.035394</td>\n",
       "      <td>0.019149</td>\n",
       "      <td>2275.918535</td>\n",
       "      <td>516130.986219</td>\n",
       "    </tr>\n",
       "    <tr>\n",
       "      <th>409</th>\n",
       "      <td>2024-11-01</td>\n",
       "      <td>354.859633</td>\n",
       "      <td>-0.033203</td>\n",
       "      <td>280.709431</td>\n",
       "      <td>0.053239</td>\n",
       "      <td>47.485731</td>\n",
       "      <td>-0.027572</td>\n",
       "      <td>230.938265</td>\n",
       "      <td>0.197766</td>\n",
       "      <td>540581.758583</td>\n",
       "      <td>...</td>\n",
       "      <td>24.490302</td>\n",
       "      <td>1.192181</td>\n",
       "      <td>1684.774113</td>\n",
       "      <td>0.016878</td>\n",
       "      <td>0.978376</td>\n",
       "      <td>-0.004554</td>\n",
       "      <td>331.458358</td>\n",
       "      <td>0.036354</td>\n",
       "      <td>2277.448792</td>\n",
       "      <td>512950.874441</td>\n",
       "    </tr>\n",
       "  </tbody>\n",
       "</table>\n",
       "<p>410 rows × 35 columns</p>\n",
       "</div>"
      ]
     },
     "execution_count": 251,
     "metadata": {},
     "output_type": "execute_result"
    }
   ],
   "execution_count": 251
  },
  {
   "metadata": {},
   "cell_type": "markdown",
   "source": "### Add AlphaVantage Data",
   "id": "3c1bac5d9d0c8085"
  },
  {
   "metadata": {
    "ExecuteTime": {
     "end_time": "2024-12-11T23:15:17.158887Z",
     "start_time": "2024-12-11T23:15:17.056881Z"
    }
   },
   "cell_type": "code",
   "source": [
    "#Read alpha vantage data\n",
    "file_path_av = \"../data/av_data.csv\"\n",
    "df_av = pd.read_csv(file_path_av)\n",
    "df_av = df_av.drop(columns=['Unnamed: 0'])\n",
    "df_av"
   ],
   "id": "83f2df5f16db4649",
   "outputs": [
    {
     "data": {
      "text/plain": [
       "           date  SPY_adj_close  SPY_return_1day  SPY_return_1week  \\\n",
       "0    2017-02-03     201.410539        -0.001788          0.009462   \n",
       "1    2017-02-10     203.316271         0.005443          0.015464   \n",
       "2    2017-02-17     206.460293         0.005955          0.008592   \n",
       "3    2017-02-24     207.909361         0.001563          0.007096   \n",
       "4    2017-03-03     209.384761        -0.002978         -0.003062   \n",
       "..          ...            ...              ...               ...   \n",
       "381  2024-08-16     552.612504         0.009561          0.014108   \n",
       "382  2024-08-23     560.408556        -0.002384          0.002757   \n",
       "383  2024-08-30     561.953809        -0.020579         -0.030638   \n",
       "384  2024-09-06     538.705224         0.011196          0.040066   \n",
       "385  2024-09-13     560.288924         0.001477          0.014209   \n",
       "\n",
       "     SPY_return_1month  SPY_return_3month  EQR_adj_close  EQR_adj_close_1day  \\\n",
       "0             0.036496           0.045656      45.852975           45.989668   \n",
       "1             0.027213           0.038761      47.030055           47.189531   \n",
       "2             0.011536           0.025677      46.764263           47.402165   \n",
       "3            -0.007860           0.016153      47.675551           48.040066   \n",
       "4            -0.006931           0.017333      47.326224           47.402165   \n",
       "..                 ...                ...            ...                 ...   \n",
       "381           0.015389           0.083508      70.775391           70.953791   \n",
       "382           0.016526           0.049502      72.975662           72.281883   \n",
       "383           0.021009           0.063308      74.214553           74.987622   \n",
       "384           0.063624           0.120520      73.679352           74.432598   \n",
       "385           0.034431           0.079229      77.386115           77.078870   \n",
       "\n",
       "     EQR_adj_close_1week  EQR_adj_close_1month  ...  AVB_adj_close_3month  \\\n",
       "0              47.030055             47.402165  ...            148.539775   \n",
       "1              46.764263             47.516076  ...            149.262275   \n",
       "2              48.040066             47.986908  ...            149.238969   \n",
       "3              47.326224             48.178335  ...            149.137974   \n",
       "4              47.052837             47.627201  ...            148.633001   \n",
       "..                   ...                   ...  ...                   ...   \n",
       "381            72.975662             77.078870  ...            232.210000   \n",
       "382            74.214553             76.751803  ...            229.220000   \n",
       "383            74.432598             74.460000  ...            232.900000   \n",
       "384            77.386115             73.530000  ...            230.800000   \n",
       "385            75.899446             73.090000  ...            226.990000   \n",
       "\n",
       "     INVH_adj_close  INVH_adj_close_1day  INVH_adj_close_1week  \\\n",
       "0         17.272979            17.356707             17.599516   \n",
       "1         17.599516            17.582771             17.708362   \n",
       "2         17.708362            17.976290             18.260964   \n",
       "3         18.085136            18.260964             18.260964   \n",
       "4         18.260964            18.353064             17.917681   \n",
       "..              ...                  ...                   ...   \n",
       "381       35.000079            35.347302             35.863177   \n",
       "382       35.863177            35.545716             36.547702   \n",
       "383       36.547702            36.974290             35.406826   \n",
       "384       35.664763            35.406826             36.726274   \n",
       "385       36.726274            36.478257             35.754049   \n",
       "\n",
       "     INVH_adj_close_1month  INVH_adj_close_3month  unemployment  fed_funds  \\\n",
       "0                18.353064              18.018154         0.047   0.000098   \n",
       "1                17.900935              17.959545         0.046   0.000104   \n",
       "2                18.034899              17.941583         0.046   0.000102   \n",
       "3                18.068390              18.193454         0.046   0.000100   \n",
       "4                18.277709              17.933188         0.046   0.000117   \n",
       "..                     ...                    ...           ...        ...   \n",
       "381              36.478257              33.830000         0.042   0.000999   \n",
       "382              36.210400              34.150000         0.042   0.000990   \n",
       "383              35.260000              33.840000         0.042   0.000979   \n",
       "384              34.540000              33.900000         0.041   0.000968   \n",
       "385              33.750000              33.680000         0.041   0.000950   \n",
       "\n",
       "     3monhth_treasury_yield      cpi  \n",
       "0                    0.0065  2.42839  \n",
       "1                    0.0066  2.43603  \n",
       "2                    0.0066  2.43603  \n",
       "3                    0.0066  2.43603  \n",
       "4                    0.0065  2.43603  \n",
       "..                      ...      ...  \n",
       "381                  0.0533  3.14796  \n",
       "382                  0.0533  3.14796  \n",
       "383                  0.0533  3.14796  \n",
       "384                  0.0533  3.15301  \n",
       "385                  0.0533  3.15301  \n",
       "\n",
       "[386 rows x 30 columns]"
      ],
      "text/html": [
       "<div>\n",
       "<style scoped>\n",
       "    .dataframe tbody tr th:only-of-type {\n",
       "        vertical-align: middle;\n",
       "    }\n",
       "\n",
       "    .dataframe tbody tr th {\n",
       "        vertical-align: top;\n",
       "    }\n",
       "\n",
       "    .dataframe thead th {\n",
       "        text-align: right;\n",
       "    }\n",
       "</style>\n",
       "<table border=\"1\" class=\"dataframe\">\n",
       "  <thead>\n",
       "    <tr style=\"text-align: right;\">\n",
       "      <th></th>\n",
       "      <th>date</th>\n",
       "      <th>SPY_adj_close</th>\n",
       "      <th>SPY_return_1day</th>\n",
       "      <th>SPY_return_1week</th>\n",
       "      <th>SPY_return_1month</th>\n",
       "      <th>SPY_return_3month</th>\n",
       "      <th>EQR_adj_close</th>\n",
       "      <th>EQR_adj_close_1day</th>\n",
       "      <th>EQR_adj_close_1week</th>\n",
       "      <th>EQR_adj_close_1month</th>\n",
       "      <th>...</th>\n",
       "      <th>AVB_adj_close_3month</th>\n",
       "      <th>INVH_adj_close</th>\n",
       "      <th>INVH_adj_close_1day</th>\n",
       "      <th>INVH_adj_close_1week</th>\n",
       "      <th>INVH_adj_close_1month</th>\n",
       "      <th>INVH_adj_close_3month</th>\n",
       "      <th>unemployment</th>\n",
       "      <th>fed_funds</th>\n",
       "      <th>3monhth_treasury_yield</th>\n",
       "      <th>cpi</th>\n",
       "    </tr>\n",
       "  </thead>\n",
       "  <tbody>\n",
       "    <tr>\n",
       "      <th>0</th>\n",
       "      <td>2017-02-03</td>\n",
       "      <td>201.410539</td>\n",
       "      <td>-0.001788</td>\n",
       "      <td>0.009462</td>\n",
       "      <td>0.036496</td>\n",
       "      <td>0.045656</td>\n",
       "      <td>45.852975</td>\n",
       "      <td>45.989668</td>\n",
       "      <td>47.030055</td>\n",
       "      <td>47.402165</td>\n",
       "      <td>...</td>\n",
       "      <td>148.539775</td>\n",
       "      <td>17.272979</td>\n",
       "      <td>17.356707</td>\n",
       "      <td>17.599516</td>\n",
       "      <td>18.353064</td>\n",
       "      <td>18.018154</td>\n",
       "      <td>0.047</td>\n",
       "      <td>0.000098</td>\n",
       "      <td>0.0065</td>\n",
       "      <td>2.42839</td>\n",
       "    </tr>\n",
       "    <tr>\n",
       "      <th>1</th>\n",
       "      <td>2017-02-10</td>\n",
       "      <td>203.316271</td>\n",
       "      <td>0.005443</td>\n",
       "      <td>0.015464</td>\n",
       "      <td>0.027213</td>\n",
       "      <td>0.038761</td>\n",
       "      <td>47.030055</td>\n",
       "      <td>47.189531</td>\n",
       "      <td>46.764263</td>\n",
       "      <td>47.516076</td>\n",
       "      <td>...</td>\n",
       "      <td>149.262275</td>\n",
       "      <td>17.599516</td>\n",
       "      <td>17.582771</td>\n",
       "      <td>17.708362</td>\n",
       "      <td>17.900935</td>\n",
       "      <td>17.959545</td>\n",
       "      <td>0.046</td>\n",
       "      <td>0.000104</td>\n",
       "      <td>0.0066</td>\n",
       "      <td>2.43603</td>\n",
       "    </tr>\n",
       "    <tr>\n",
       "      <th>2</th>\n",
       "      <td>2017-02-17</td>\n",
       "      <td>206.460293</td>\n",
       "      <td>0.005955</td>\n",
       "      <td>0.008592</td>\n",
       "      <td>0.011536</td>\n",
       "      <td>0.025677</td>\n",
       "      <td>46.764263</td>\n",
       "      <td>47.402165</td>\n",
       "      <td>48.040066</td>\n",
       "      <td>47.986908</td>\n",
       "      <td>...</td>\n",
       "      <td>149.238969</td>\n",
       "      <td>17.708362</td>\n",
       "      <td>17.976290</td>\n",
       "      <td>18.260964</td>\n",
       "      <td>18.034899</td>\n",
       "      <td>17.941583</td>\n",
       "      <td>0.046</td>\n",
       "      <td>0.000102</td>\n",
       "      <td>0.0066</td>\n",
       "      <td>2.43603</td>\n",
       "    </tr>\n",
       "    <tr>\n",
       "      <th>3</th>\n",
       "      <td>2017-02-24</td>\n",
       "      <td>207.909361</td>\n",
       "      <td>0.001563</td>\n",
       "      <td>0.007096</td>\n",
       "      <td>-0.007860</td>\n",
       "      <td>0.016153</td>\n",
       "      <td>47.675551</td>\n",
       "      <td>48.040066</td>\n",
       "      <td>47.326224</td>\n",
       "      <td>48.178335</td>\n",
       "      <td>...</td>\n",
       "      <td>149.137974</td>\n",
       "      <td>18.085136</td>\n",
       "      <td>18.260964</td>\n",
       "      <td>18.260964</td>\n",
       "      <td>18.068390</td>\n",
       "      <td>18.193454</td>\n",
       "      <td>0.046</td>\n",
       "      <td>0.000100</td>\n",
       "      <td>0.0066</td>\n",
       "      <td>2.43603</td>\n",
       "    </tr>\n",
       "    <tr>\n",
       "      <th>4</th>\n",
       "      <td>2017-03-03</td>\n",
       "      <td>209.384761</td>\n",
       "      <td>-0.002978</td>\n",
       "      <td>-0.003062</td>\n",
       "      <td>-0.006931</td>\n",
       "      <td>0.017333</td>\n",
       "      <td>47.326224</td>\n",
       "      <td>47.402165</td>\n",
       "      <td>47.052837</td>\n",
       "      <td>47.627201</td>\n",
       "      <td>...</td>\n",
       "      <td>148.633001</td>\n",
       "      <td>18.260964</td>\n",
       "      <td>18.353064</td>\n",
       "      <td>17.917681</td>\n",
       "      <td>18.277709</td>\n",
       "      <td>17.933188</td>\n",
       "      <td>0.046</td>\n",
       "      <td>0.000117</td>\n",
       "      <td>0.0065</td>\n",
       "      <td>2.43603</td>\n",
       "    </tr>\n",
       "    <tr>\n",
       "      <th>...</th>\n",
       "      <td>...</td>\n",
       "      <td>...</td>\n",
       "      <td>...</td>\n",
       "      <td>...</td>\n",
       "      <td>...</td>\n",
       "      <td>...</td>\n",
       "      <td>...</td>\n",
       "      <td>...</td>\n",
       "      <td>...</td>\n",
       "      <td>...</td>\n",
       "      <td>...</td>\n",
       "      <td>...</td>\n",
       "      <td>...</td>\n",
       "      <td>...</td>\n",
       "      <td>...</td>\n",
       "      <td>...</td>\n",
       "      <td>...</td>\n",
       "      <td>...</td>\n",
       "      <td>...</td>\n",
       "      <td>...</td>\n",
       "      <td>...</td>\n",
       "    </tr>\n",
       "    <tr>\n",
       "      <th>381</th>\n",
       "      <td>2024-08-16</td>\n",
       "      <td>552.612504</td>\n",
       "      <td>0.009561</td>\n",
       "      <td>0.014108</td>\n",
       "      <td>0.015389</td>\n",
       "      <td>0.083508</td>\n",
       "      <td>70.775391</td>\n",
       "      <td>70.953791</td>\n",
       "      <td>72.975662</td>\n",
       "      <td>77.078870</td>\n",
       "      <td>...</td>\n",
       "      <td>232.210000</td>\n",
       "      <td>35.000079</td>\n",
       "      <td>35.347302</td>\n",
       "      <td>35.863177</td>\n",
       "      <td>36.478257</td>\n",
       "      <td>33.830000</td>\n",
       "      <td>0.042</td>\n",
       "      <td>0.000999</td>\n",
       "      <td>0.0533</td>\n",
       "      <td>3.14796</td>\n",
       "    </tr>\n",
       "    <tr>\n",
       "      <th>382</th>\n",
       "      <td>2024-08-23</td>\n",
       "      <td>560.408556</td>\n",
       "      <td>-0.002384</td>\n",
       "      <td>0.002757</td>\n",
       "      <td>0.016526</td>\n",
       "      <td>0.049502</td>\n",
       "      <td>72.975662</td>\n",
       "      <td>72.281883</td>\n",
       "      <td>74.214553</td>\n",
       "      <td>76.751803</td>\n",
       "      <td>...</td>\n",
       "      <td>229.220000</td>\n",
       "      <td>35.863177</td>\n",
       "      <td>35.545716</td>\n",
       "      <td>36.547702</td>\n",
       "      <td>36.210400</td>\n",
       "      <td>34.150000</td>\n",
       "      <td>0.042</td>\n",
       "      <td>0.000990</td>\n",
       "      <td>0.0533</td>\n",
       "      <td>3.14796</td>\n",
       "    </tr>\n",
       "    <tr>\n",
       "      <th>383</th>\n",
       "      <td>2024-08-30</td>\n",
       "      <td>561.953809</td>\n",
       "      <td>-0.020579</td>\n",
       "      <td>-0.030638</td>\n",
       "      <td>0.021009</td>\n",
       "      <td>0.063308</td>\n",
       "      <td>74.214553</td>\n",
       "      <td>74.987622</td>\n",
       "      <td>74.432598</td>\n",
       "      <td>74.460000</td>\n",
       "      <td>...</td>\n",
       "      <td>232.900000</td>\n",
       "      <td>36.547702</td>\n",
       "      <td>36.974290</td>\n",
       "      <td>35.406826</td>\n",
       "      <td>35.260000</td>\n",
       "      <td>33.840000</td>\n",
       "      <td>0.042</td>\n",
       "      <td>0.000979</td>\n",
       "      <td>0.0533</td>\n",
       "      <td>3.14796</td>\n",
       "    </tr>\n",
       "    <tr>\n",
       "      <th>384</th>\n",
       "      <td>2024-09-06</td>\n",
       "      <td>538.705224</td>\n",
       "      <td>0.011196</td>\n",
       "      <td>0.040066</td>\n",
       "      <td>0.063624</td>\n",
       "      <td>0.120520</td>\n",
       "      <td>73.679352</td>\n",
       "      <td>74.432598</td>\n",
       "      <td>77.386115</td>\n",
       "      <td>73.530000</td>\n",
       "      <td>...</td>\n",
       "      <td>230.800000</td>\n",
       "      <td>35.664763</td>\n",
       "      <td>35.406826</td>\n",
       "      <td>36.726274</td>\n",
       "      <td>34.540000</td>\n",
       "      <td>33.900000</td>\n",
       "      <td>0.041</td>\n",
       "      <td>0.000968</td>\n",
       "      <td>0.0533</td>\n",
       "      <td>3.15301</td>\n",
       "    </tr>\n",
       "    <tr>\n",
       "      <th>385</th>\n",
       "      <td>2024-09-13</td>\n",
       "      <td>560.288924</td>\n",
       "      <td>0.001477</td>\n",
       "      <td>0.014209</td>\n",
       "      <td>0.034431</td>\n",
       "      <td>0.079229</td>\n",
       "      <td>77.386115</td>\n",
       "      <td>77.078870</td>\n",
       "      <td>75.899446</td>\n",
       "      <td>73.090000</td>\n",
       "      <td>...</td>\n",
       "      <td>226.990000</td>\n",
       "      <td>36.726274</td>\n",
       "      <td>36.478257</td>\n",
       "      <td>35.754049</td>\n",
       "      <td>33.750000</td>\n",
       "      <td>33.680000</td>\n",
       "      <td>0.041</td>\n",
       "      <td>0.000950</td>\n",
       "      <td>0.0533</td>\n",
       "      <td>3.15301</td>\n",
       "    </tr>\n",
       "  </tbody>\n",
       "</table>\n",
       "<p>386 rows × 30 columns</p>\n",
       "</div>"
      ]
     },
     "execution_count": 252,
     "metadata": {},
     "output_type": "execute_result"
    }
   ],
   "execution_count": 252
  },
  {
   "metadata": {
    "ExecuteTime": {
     "end_time": "2024-12-11T23:15:17.741884Z",
     "start_time": "2024-12-11T23:15:17.687504Z"
    }
   },
   "cell_type": "code",
   "source": [
    "df = pd.merge(df, df_av,\n",
    "              on=[\"date\"],\n",
    "              how=\"left\")\n",
    "df.dropna(inplace=True)\n",
    "df"
   ],
   "id": "1a78cc981efbd4df",
   "outputs": [
    {
     "data": {
      "text/plain": [
       "           date  adjusted_average_new_listings  \\\n",
       "5    2017-02-03                     556.819098   \n",
       "6    2017-02-10                     550.067095   \n",
       "7    2017-02-17                     530.996543   \n",
       "8    2017-02-24                     618.617242   \n",
       "9    2017-03-03                     597.067847   \n",
       "..          ...                            ...   \n",
       "398  2024-08-16                     378.593975   \n",
       "399  2024-08-23                     359.492419   \n",
       "400  2024-08-30                     392.798013   \n",
       "401  2024-09-06                     403.430061   \n",
       "402  2024-09-13                     399.383242   \n",
       "\n",
       "     adjusted_average_new_listings_yoy  average_pending_sales_listing_updates  \\\n",
       "5                            -0.006925                             513.168751   \n",
       "6                            -0.002894                             527.642457   \n",
       "7                            -0.045716                             524.790306   \n",
       "8                            -0.023389                             557.883217   \n",
       "9                             0.016065                             556.983522   \n",
       "..                                 ...                                    ...   \n",
       "398                           0.054048                             307.878910   \n",
       "399                           0.073270                             318.899282   \n",
       "400                           0.063260                             279.583449   \n",
       "401                           0.073625                             311.788262   \n",
       "402                           0.097006                             318.359089   \n",
       "\n",
       "     average_pending_sales_listing_updates_yoy  off_market_in_two_weeks  \\\n",
       "5                                     0.008962               108.796370   \n",
       "6                                     0.044352               111.668079   \n",
       "7                                    -0.072215               113.115635   \n",
       "8                                     0.005842               120.131628   \n",
       "9                                    -0.003539               126.185234   \n",
       "..                                         ...                      ...   \n",
       "398                                  -0.049133                56.673774   \n",
       "399                                   0.017022                54.399388   \n",
       "400                                   0.015599                45.499822   \n",
       "401                                   0.012463                53.669470   \n",
       "402                                   0.043821                56.677350   \n",
       "\n",
       "     off_market_in_two_weeks_yoy  adjusted_average_homes_sold  \\\n",
       "5                       0.174241                   277.925657   \n",
       "6                       0.240874                   345.087990   \n",
       "7                       0.186019                   329.395422   \n",
       "8                       0.367735                   476.063202   \n",
       "9                       0.156019                   355.448622   \n",
       "..                           ...                          ...   \n",
       "398                     0.115335                   264.037688   \n",
       "399                    -0.096613                   344.235810   \n",
       "400                    -0.118893                   209.276757   \n",
       "401                    -0.120842                   245.385967   \n",
       "402                     0.074025                   256.185839   \n",
       "\n",
       "     adjusted_average_homes_sold_yoy  median_new_listing_price  ...  \\\n",
       "5                          -0.024352             355233.121936  ...   \n",
       "6                           0.242330             354536.067319  ...   \n",
       "7                          -0.130431             356467.060232  ...   \n",
       "8                           0.206985             364411.483781  ...   \n",
       "9                           0.082277             387551.933873  ...   \n",
       "..                               ...                       ...  ...   \n",
       "398                        -0.050789             536011.931053  ...   \n",
       "399                         0.017236             540307.186306  ...   \n",
       "400                        -0.047461             546980.758547  ...   \n",
       "401                        -0.091269             550984.787011  ...   \n",
       "402                        -0.009431             555716.387095  ...   \n",
       "\n",
       "     AVB_adj_close_3month  INVH_adj_close  INVH_adj_close_1day  \\\n",
       "5              148.539775       17.272979            17.356707   \n",
       "6              149.262275       17.599516            17.582771   \n",
       "7              149.238969       17.708362            17.976290   \n",
       "8              149.137974       18.085136            18.260964   \n",
       "9              148.633001       18.260964            18.353064   \n",
       "..                    ...             ...                  ...   \n",
       "398            232.210000       35.000079            35.347302   \n",
       "399            229.220000       35.863177            35.545716   \n",
       "400            232.900000       36.547702            36.974290   \n",
       "401            230.800000       35.664763            35.406826   \n",
       "402            226.990000       36.726274            36.478257   \n",
       "\n",
       "     INVH_adj_close_1week  INVH_adj_close_1month  INVH_adj_close_3month  \\\n",
       "5               17.599516              18.353064              18.018154   \n",
       "6               17.708362              17.900935              17.959545   \n",
       "7               18.260964              18.034899              17.941583   \n",
       "8               18.260964              18.068390              18.193454   \n",
       "9               17.917681              18.277709              17.933188   \n",
       "..                    ...                    ...                    ...   \n",
       "398             35.863177              36.478257              33.830000   \n",
       "399             36.547702              36.210400              34.150000   \n",
       "400             35.406826              35.260000              33.840000   \n",
       "401             36.726274              34.540000              33.900000   \n",
       "402             35.754049              33.750000              33.680000   \n",
       "\n",
       "     unemployment  fed_funds  3monhth_treasury_yield      cpi  \n",
       "5           0.047   0.000098                  0.0065  2.42839  \n",
       "6           0.046   0.000104                  0.0066  2.43603  \n",
       "7           0.046   0.000102                  0.0066  2.43603  \n",
       "8           0.046   0.000100                  0.0066  2.43603  \n",
       "9           0.046   0.000117                  0.0065  2.43603  \n",
       "..            ...        ...                     ...      ...  \n",
       "398         0.042   0.000999                  0.0533  3.14796  \n",
       "399         0.042   0.000990                  0.0533  3.14796  \n",
       "400         0.042   0.000979                  0.0533  3.14796  \n",
       "401         0.041   0.000968                  0.0533  3.15301  \n",
       "402         0.041   0.000950                  0.0533  3.15301  \n",
       "\n",
       "[386 rows x 64 columns]"
      ],
      "text/html": [
       "<div>\n",
       "<style scoped>\n",
       "    .dataframe tbody tr th:only-of-type {\n",
       "        vertical-align: middle;\n",
       "    }\n",
       "\n",
       "    .dataframe tbody tr th {\n",
       "        vertical-align: top;\n",
       "    }\n",
       "\n",
       "    .dataframe thead th {\n",
       "        text-align: right;\n",
       "    }\n",
       "</style>\n",
       "<table border=\"1\" class=\"dataframe\">\n",
       "  <thead>\n",
       "    <tr style=\"text-align: right;\">\n",
       "      <th></th>\n",
       "      <th>date</th>\n",
       "      <th>adjusted_average_new_listings</th>\n",
       "      <th>adjusted_average_new_listings_yoy</th>\n",
       "      <th>average_pending_sales_listing_updates</th>\n",
       "      <th>average_pending_sales_listing_updates_yoy</th>\n",
       "      <th>off_market_in_two_weeks</th>\n",
       "      <th>off_market_in_two_weeks_yoy</th>\n",
       "      <th>adjusted_average_homes_sold</th>\n",
       "      <th>adjusted_average_homes_sold_yoy</th>\n",
       "      <th>median_new_listing_price</th>\n",
       "      <th>...</th>\n",
       "      <th>AVB_adj_close_3month</th>\n",
       "      <th>INVH_adj_close</th>\n",
       "      <th>INVH_adj_close_1day</th>\n",
       "      <th>INVH_adj_close_1week</th>\n",
       "      <th>INVH_adj_close_1month</th>\n",
       "      <th>INVH_adj_close_3month</th>\n",
       "      <th>unemployment</th>\n",
       "      <th>fed_funds</th>\n",
       "      <th>3monhth_treasury_yield</th>\n",
       "      <th>cpi</th>\n",
       "    </tr>\n",
       "  </thead>\n",
       "  <tbody>\n",
       "    <tr>\n",
       "      <th>5</th>\n",
       "      <td>2017-02-03</td>\n",
       "      <td>556.819098</td>\n",
       "      <td>-0.006925</td>\n",
       "      <td>513.168751</td>\n",
       "      <td>0.008962</td>\n",
       "      <td>108.796370</td>\n",
       "      <td>0.174241</td>\n",
       "      <td>277.925657</td>\n",
       "      <td>-0.024352</td>\n",
       "      <td>355233.121936</td>\n",
       "      <td>...</td>\n",
       "      <td>148.539775</td>\n",
       "      <td>17.272979</td>\n",
       "      <td>17.356707</td>\n",
       "      <td>17.599516</td>\n",
       "      <td>18.353064</td>\n",
       "      <td>18.018154</td>\n",
       "      <td>0.047</td>\n",
       "      <td>0.000098</td>\n",
       "      <td>0.0065</td>\n",
       "      <td>2.42839</td>\n",
       "    </tr>\n",
       "    <tr>\n",
       "      <th>6</th>\n",
       "      <td>2017-02-10</td>\n",
       "      <td>550.067095</td>\n",
       "      <td>-0.002894</td>\n",
       "      <td>527.642457</td>\n",
       "      <td>0.044352</td>\n",
       "      <td>111.668079</td>\n",
       "      <td>0.240874</td>\n",
       "      <td>345.087990</td>\n",
       "      <td>0.242330</td>\n",
       "      <td>354536.067319</td>\n",
       "      <td>...</td>\n",
       "      <td>149.262275</td>\n",
       "      <td>17.599516</td>\n",
       "      <td>17.582771</td>\n",
       "      <td>17.708362</td>\n",
       "      <td>17.900935</td>\n",
       "      <td>17.959545</td>\n",
       "      <td>0.046</td>\n",
       "      <td>0.000104</td>\n",
       "      <td>0.0066</td>\n",
       "      <td>2.43603</td>\n",
       "    </tr>\n",
       "    <tr>\n",
       "      <th>7</th>\n",
       "      <td>2017-02-17</td>\n",
       "      <td>530.996543</td>\n",
       "      <td>-0.045716</td>\n",
       "      <td>524.790306</td>\n",
       "      <td>-0.072215</td>\n",
       "      <td>113.115635</td>\n",
       "      <td>0.186019</td>\n",
       "      <td>329.395422</td>\n",
       "      <td>-0.130431</td>\n",
       "      <td>356467.060232</td>\n",
       "      <td>...</td>\n",
       "      <td>149.238969</td>\n",
       "      <td>17.708362</td>\n",
       "      <td>17.976290</td>\n",
       "      <td>18.260964</td>\n",
       "      <td>18.034899</td>\n",
       "      <td>17.941583</td>\n",
       "      <td>0.046</td>\n",
       "      <td>0.000102</td>\n",
       "      <td>0.0066</td>\n",
       "      <td>2.43603</td>\n",
       "    </tr>\n",
       "    <tr>\n",
       "      <th>8</th>\n",
       "      <td>2017-02-24</td>\n",
       "      <td>618.617242</td>\n",
       "      <td>-0.023389</td>\n",
       "      <td>557.883217</td>\n",
       "      <td>0.005842</td>\n",
       "      <td>120.131628</td>\n",
       "      <td>0.367735</td>\n",
       "      <td>476.063202</td>\n",
       "      <td>0.206985</td>\n",
       "      <td>364411.483781</td>\n",
       "      <td>...</td>\n",
       "      <td>149.137974</td>\n",
       "      <td>18.085136</td>\n",
       "      <td>18.260964</td>\n",
       "      <td>18.260964</td>\n",
       "      <td>18.068390</td>\n",
       "      <td>18.193454</td>\n",
       "      <td>0.046</td>\n",
       "      <td>0.000100</td>\n",
       "      <td>0.0066</td>\n",
       "      <td>2.43603</td>\n",
       "    </tr>\n",
       "    <tr>\n",
       "      <th>9</th>\n",
       "      <td>2017-03-03</td>\n",
       "      <td>597.067847</td>\n",
       "      <td>0.016065</td>\n",
       "      <td>556.983522</td>\n",
       "      <td>-0.003539</td>\n",
       "      <td>126.185234</td>\n",
       "      <td>0.156019</td>\n",
       "      <td>355.448622</td>\n",
       "      <td>0.082277</td>\n",
       "      <td>387551.933873</td>\n",
       "      <td>...</td>\n",
       "      <td>148.633001</td>\n",
       "      <td>18.260964</td>\n",
       "      <td>18.353064</td>\n",
       "      <td>17.917681</td>\n",
       "      <td>18.277709</td>\n",
       "      <td>17.933188</td>\n",
       "      <td>0.046</td>\n",
       "      <td>0.000117</td>\n",
       "      <td>0.0065</td>\n",
       "      <td>2.43603</td>\n",
       "    </tr>\n",
       "    <tr>\n",
       "      <th>...</th>\n",
       "      <td>...</td>\n",
       "      <td>...</td>\n",
       "      <td>...</td>\n",
       "      <td>...</td>\n",
       "      <td>...</td>\n",
       "      <td>...</td>\n",
       "      <td>...</td>\n",
       "      <td>...</td>\n",
       "      <td>...</td>\n",
       "      <td>...</td>\n",
       "      <td>...</td>\n",
       "      <td>...</td>\n",
       "      <td>...</td>\n",
       "      <td>...</td>\n",
       "      <td>...</td>\n",
       "      <td>...</td>\n",
       "      <td>...</td>\n",
       "      <td>...</td>\n",
       "      <td>...</td>\n",
       "      <td>...</td>\n",
       "      <td>...</td>\n",
       "    </tr>\n",
       "    <tr>\n",
       "      <th>398</th>\n",
       "      <td>2024-08-16</td>\n",
       "      <td>378.593975</td>\n",
       "      <td>0.054048</td>\n",
       "      <td>307.878910</td>\n",
       "      <td>-0.049133</td>\n",
       "      <td>56.673774</td>\n",
       "      <td>0.115335</td>\n",
       "      <td>264.037688</td>\n",
       "      <td>-0.050789</td>\n",
       "      <td>536011.931053</td>\n",
       "      <td>...</td>\n",
       "      <td>232.210000</td>\n",
       "      <td>35.000079</td>\n",
       "      <td>35.347302</td>\n",
       "      <td>35.863177</td>\n",
       "      <td>36.478257</td>\n",
       "      <td>33.830000</td>\n",
       "      <td>0.042</td>\n",
       "      <td>0.000999</td>\n",
       "      <td>0.0533</td>\n",
       "      <td>3.14796</td>\n",
       "    </tr>\n",
       "    <tr>\n",
       "      <th>399</th>\n",
       "      <td>2024-08-23</td>\n",
       "      <td>359.492419</td>\n",
       "      <td>0.073270</td>\n",
       "      <td>318.899282</td>\n",
       "      <td>0.017022</td>\n",
       "      <td>54.399388</td>\n",
       "      <td>-0.096613</td>\n",
       "      <td>344.235810</td>\n",
       "      <td>0.017236</td>\n",
       "      <td>540307.186306</td>\n",
       "      <td>...</td>\n",
       "      <td>229.220000</td>\n",
       "      <td>35.863177</td>\n",
       "      <td>35.545716</td>\n",
       "      <td>36.547702</td>\n",
       "      <td>36.210400</td>\n",
       "      <td>34.150000</td>\n",
       "      <td>0.042</td>\n",
       "      <td>0.000990</td>\n",
       "      <td>0.0533</td>\n",
       "      <td>3.14796</td>\n",
       "    </tr>\n",
       "    <tr>\n",
       "      <th>400</th>\n",
       "      <td>2024-08-30</td>\n",
       "      <td>392.798013</td>\n",
       "      <td>0.063260</td>\n",
       "      <td>279.583449</td>\n",
       "      <td>0.015599</td>\n",
       "      <td>45.499822</td>\n",
       "      <td>-0.118893</td>\n",
       "      <td>209.276757</td>\n",
       "      <td>-0.047461</td>\n",
       "      <td>546980.758547</td>\n",
       "      <td>...</td>\n",
       "      <td>232.900000</td>\n",
       "      <td>36.547702</td>\n",
       "      <td>36.974290</td>\n",
       "      <td>35.406826</td>\n",
       "      <td>35.260000</td>\n",
       "      <td>33.840000</td>\n",
       "      <td>0.042</td>\n",
       "      <td>0.000979</td>\n",
       "      <td>0.0533</td>\n",
       "      <td>3.14796</td>\n",
       "    </tr>\n",
       "    <tr>\n",
       "      <th>401</th>\n",
       "      <td>2024-09-06</td>\n",
       "      <td>403.430061</td>\n",
       "      <td>0.073625</td>\n",
       "      <td>311.788262</td>\n",
       "      <td>0.012463</td>\n",
       "      <td>53.669470</td>\n",
       "      <td>-0.120842</td>\n",
       "      <td>245.385967</td>\n",
       "      <td>-0.091269</td>\n",
       "      <td>550984.787011</td>\n",
       "      <td>...</td>\n",
       "      <td>230.800000</td>\n",
       "      <td>35.664763</td>\n",
       "      <td>35.406826</td>\n",
       "      <td>36.726274</td>\n",
       "      <td>34.540000</td>\n",
       "      <td>33.900000</td>\n",
       "      <td>0.041</td>\n",
       "      <td>0.000968</td>\n",
       "      <td>0.0533</td>\n",
       "      <td>3.15301</td>\n",
       "    </tr>\n",
       "    <tr>\n",
       "      <th>402</th>\n",
       "      <td>2024-09-13</td>\n",
       "      <td>399.383242</td>\n",
       "      <td>0.097006</td>\n",
       "      <td>318.359089</td>\n",
       "      <td>0.043821</td>\n",
       "      <td>56.677350</td>\n",
       "      <td>0.074025</td>\n",
       "      <td>256.185839</td>\n",
       "      <td>-0.009431</td>\n",
       "      <td>555716.387095</td>\n",
       "      <td>...</td>\n",
       "      <td>226.990000</td>\n",
       "      <td>36.726274</td>\n",
       "      <td>36.478257</td>\n",
       "      <td>35.754049</td>\n",
       "      <td>33.750000</td>\n",
       "      <td>33.680000</td>\n",
       "      <td>0.041</td>\n",
       "      <td>0.000950</td>\n",
       "      <td>0.0533</td>\n",
       "      <td>3.15301</td>\n",
       "    </tr>\n",
       "  </tbody>\n",
       "</table>\n",
       "<p>386 rows × 64 columns</p>\n",
       "</div>"
      ]
     },
     "execution_count": 253,
     "metadata": {},
     "output_type": "execute_result"
    }
   ],
   "execution_count": 253
  },
  {
   "metadata": {},
   "cell_type": "markdown",
   "source": "### Splitting Data",
   "id": "6fe419509bf5acdf"
  },
  {
   "metadata": {
    "ExecuteTime": {
     "end_time": "2024-12-11T23:15:18.829518Z",
     "start_time": "2024-12-11T23:15:18.810884Z"
    }
   },
   "cell_type": "code",
   "source": [
    "# Split the data into features and target\n",
    "X = df.drop(columns=['date', 'EQR_adj_close_1day', 'ESS_adj_close_1day', 'AVB_adj_close_1day', 'INVH_adj_close_1day',\n",
    "                     'EQR_adj_close_1week', 'ESS_adj_close_1week', 'AVB_adj_close_1week', 'INVH_adj_close_1week',\n",
    "                     'EQR_adj_close', 'ESS_adj_close', 'AVB_adj_close', 'INVH_adj_close', 'EQR_adj_close_1month',\n",
    "                     'ESS_adj_close_1month', 'AVB_adj_close_1month', 'INVH_adj_close_1month', 'EQR_adj_close_3month',\n",
    "                     'ESS_adj_close_3month', 'AVB_adj_close_3month', 'INVH_adj_close_3month'])\n",
    "y = df['AVB_adj_close_1week']"
   ],
   "id": "f59b319c3091580c",
   "outputs": [],
   "execution_count": 254
  },
  {
   "metadata": {},
   "cell_type": "markdown",
   "source": "### Train-Test Split",
   "id": "4c42df68202c3697"
  },
  {
   "metadata": {
    "ExecuteTime": {
     "end_time": "2024-12-11T23:15:19.062082Z",
     "start_time": "2024-12-11T23:15:19.021544Z"
    }
   },
   "cell_type": "code",
   "source": "X_train, X_test, y_train, y_test = train_test_split(X, y, test_size=0.2, random_state=42, shuffle=False)",
   "id": "df61e336e108575f",
   "outputs": [],
   "execution_count": 255
  },
  {
   "cell_type": "markdown",
   "id": "decfd0efe725826c",
   "metadata": {},
   "source": [
    "## Modeling"
   ]
  },
  {
   "metadata": {
    "ExecuteTime": {
     "end_time": "2024-12-11T23:15:19.641390Z",
     "start_time": "2024-12-11T23:15:19.615366Z"
    }
   },
   "cell_type": "code",
   "source": [
    "# define scorer and cross-validation\n",
    "scorer = make_scorer(root_mean_squared_error, greater_is_better=False)\n",
    "cv = KFold(n_splits=20, shuffle=True, random_state=42)\n",
    "n_trials = 15"
   ],
   "id": "ae2b2ec12eabdd83",
   "outputs": [],
   "execution_count": 256
  },
  {
   "cell_type": "markdown",
   "id": "1be2cb850a4635e0",
   "metadata": {},
   "source": [
    "### Random Forest"
   ]
  },
  {
   "cell_type": "markdown",
   "id": "d38b31142bf8e99d",
   "metadata": {},
   "source": [
    "#### Hyperparameter Tuning"
   ]
  },
  {
   "cell_type": "code",
   "id": "386cf90a279cea3",
   "metadata": {
    "ExecuteTime": {
     "end_time": "2024-12-11T23:15:19.773605Z",
     "start_time": "2024-12-11T23:15:19.743577Z"
    }
   },
   "source": [
    "# Hyperparameter search space\n",
    "def objective(trial):\n",
    "    # Hyperparameter search space\n",
    "    n_estimators = trial.suggest_int('n_estimators', 50, 500)\n",
    "    max_depth = trial.suggest_int('max_depth', 2, 8)\n",
    "    min_samples_split = trial.suggest_int('min_samples_split', 2, 10)\n",
    "    min_samples_leaf = trial.suggest_int('min_samples_leaf', 1, 10)\n",
    "    max_features = trial.suggest_categorical('max_features', ['sqrt', 'log2', None])\n",
    "\n",
    "    # Create the Random Forest model with suggested hyperparameters\n",
    "    rf = RandomForestRegressor(\n",
    "        n_estimators=n_estimators,\n",
    "        max_depth=max_depth,\n",
    "        min_samples_split=min_samples_split,\n",
    "        min_samples_leaf=min_samples_leaf,\n",
    "        max_features=max_features,\n",
    "        random_state=42\n",
    "    )\n",
    "\n",
    "    scores = cross_val_score(rf, X_train, y_train, scoring=scorer, cv=cv, n_jobs=-1)\n",
    "\n",
    "    return -np.mean(scores)"
   ],
   "outputs": [],
   "execution_count": 257
  },
  {
   "metadata": {
    "ExecuteTime": {
     "end_time": "2024-12-11T23:15:49.669082Z",
     "start_time": "2024-12-11T23:15:20.576336Z"
    }
   },
   "cell_type": "code",
   "source": [
    "study_rf = optuna.create_study(direction='minimize', study_name='rf_tuning')\n",
    "study_rf.optimize(objective, n_trials=n_trials, show_progress_bar=True)"
   ],
   "id": "c003abc9b898921",
   "outputs": [
    {
     "name": "stderr",
     "output_type": "stream",
     "text": [
      "[I 2024-12-11 18:15:20,599] A new study created in memory with name: rf_tuning\n"
     ]
    },
    {
     "data": {
      "text/plain": [
       "  0%|          | 0/15 [00:00<?, ?it/s]"
      ],
      "application/vnd.jupyter.widget-view+json": {
       "version_major": 2,
       "version_minor": 0,
       "model_id": "77d957347e7344e18695384bbc0cdd7a"
      }
     },
     "metadata": {},
     "output_type": "display_data"
    },
    {
     "name": "stdout",
     "output_type": "stream",
     "text": [
      "[I 2024-12-11 18:15:24,464] Trial 0 finished with value: 7.351086446096652 and parameters: {'n_estimators': 264, 'max_depth': 5, 'min_samples_split': 4, 'min_samples_leaf': 5, 'max_features': None}. Best is trial 0 with value: 7.351086446096652.\n",
      "[I 2024-12-11 18:15:25,640] Trial 1 finished with value: 6.062861687062311 and parameters: {'n_estimators': 231, 'max_depth': 8, 'min_samples_split': 6, 'min_samples_leaf': 2, 'max_features': 'log2'}. Best is trial 1 with value: 6.062861687062311.\n",
      "[I 2024-12-11 18:15:25,790] Trial 2 finished with value: 10.117084268663092 and parameters: {'n_estimators': 56, 'max_depth': 3, 'min_samples_split': 6, 'min_samples_leaf': 5, 'max_features': 'log2'}. Best is trial 1 with value: 6.062861687062311.\n",
      "[I 2024-12-11 18:15:27,660] Trial 3 finished with value: 12.492700159330605 and parameters: {'n_estimators': 421, 'max_depth': 2, 'min_samples_split': 4, 'min_samples_leaf': 10, 'max_features': 'sqrt'}. Best is trial 1 with value: 6.062861687062311.\n",
      "[I 2024-12-11 18:15:30,410] Trial 4 finished with value: 7.604679097371718 and parameters: {'n_estimators': 162, 'max_depth': 5, 'min_samples_split': 9, 'min_samples_leaf': 9, 'max_features': None}. Best is trial 1 with value: 6.062861687062311.\n",
      "[I 2024-12-11 18:15:32,582] Trial 5 finished with value: 8.175069807087185 and parameters: {'n_estimators': 457, 'max_depth': 4, 'min_samples_split': 2, 'min_samples_leaf': 7, 'max_features': 'sqrt'}. Best is trial 1 with value: 6.062861687062311.\n",
      "[I 2024-12-11 18:15:33,919] Trial 6 finished with value: 12.510429998844458 and parameters: {'n_estimators': 336, 'max_depth': 2, 'min_samples_split': 9, 'min_samples_leaf': 7, 'max_features': 'sqrt'}. Best is trial 1 with value: 6.062861687062311.\n",
      "[I 2024-12-11 18:15:36,372] Trial 7 finished with value: 8.201290927101907 and parameters: {'n_estimators': 466, 'max_depth': 4, 'min_samples_split': 3, 'min_samples_leaf': 4, 'max_features': 'log2'}. Best is trial 1 with value: 6.062861687062311.\n",
      "[I 2024-12-11 18:15:38,504] Trial 8 finished with value: 9.798849254489967 and parameters: {'n_estimators': 484, 'max_depth': 3, 'min_samples_split': 7, 'min_samples_leaf': 9, 'max_features': 'sqrt'}. Best is trial 1 with value: 6.062861687062311.\n",
      "[I 2024-12-11 18:15:43,259] Trial 9 finished with value: 6.879106460460757 and parameters: {'n_estimators': 243, 'max_depth': 6, 'min_samples_split': 5, 'min_samples_leaf': 3, 'max_features': None}. Best is trial 1 with value: 6.062861687062311.\n",
      "[I 2024-12-11 18:15:44,048] Trial 10 finished with value: 6.1532875465915975 and parameters: {'n_estimators': 151, 'max_depth': 8, 'min_samples_split': 7, 'min_samples_leaf': 2, 'max_features': 'log2'}. Best is trial 1 with value: 6.062861687062311.\n",
      "[I 2024-12-11 18:15:44,905] Trial 11 finished with value: 6.08777116427167 and parameters: {'n_estimators': 150, 'max_depth': 8, 'min_samples_split': 7, 'min_samples_leaf': 1, 'max_features': 'log2'}. Best is trial 1 with value: 6.062861687062311.\n",
      "[I 2024-12-11 18:15:45,909] Trial 12 finished with value: 6.052472267785983 and parameters: {'n_estimators': 178, 'max_depth': 8, 'min_samples_split': 7, 'min_samples_leaf': 1, 'max_features': 'log2'}. Best is trial 12 with value: 6.052472267785983.\n",
      "[I 2024-12-11 18:15:48,454] Trial 13 finished with value: 6.358123698381208 and parameters: {'n_estimators': 320, 'max_depth': 7, 'min_samples_split': 10, 'min_samples_leaf': 1, 'max_features': 'log2'}. Best is trial 12 with value: 6.052472267785983.\n",
      "[I 2024-12-11 18:15:49,663] Trial 14 finished with value: 6.2845226738975555 and parameters: {'n_estimators': 198, 'max_depth': 7, 'min_samples_split': 6, 'min_samples_leaf': 3, 'max_features': 'log2'}. Best is trial 12 with value: 6.052472267785983.\n"
     ]
    }
   ],
   "execution_count": 258
  },
  {
   "metadata": {
    "ExecuteTime": {
     "end_time": "2024-12-11T23:16:07.030728Z",
     "start_time": "2024-12-11T23:16:06.736366Z"
    }
   },
   "cell_type": "code",
   "source": [
    "vis.plot_optimization_history(study_rf).show()\n",
    "vis.plot_param_importances(study_rf).show()"
   ],
   "id": "1cfe8881a0419f46",
   "outputs": [
    {
     "data": {
      "application/vnd.plotly.v1+json": {
       "data": [
        {
         "mode": "markers",
         "name": "Objective Value",
         "x": [
          0,
          1,
          2,
          3,
          4,
          5,
          6,
          7,
          8,
          9,
          10,
          11,
          12,
          13,
          14
         ],
         "y": [
          7.351086446096652,
          6.062861687062311,
          10.117084268663092,
          12.492700159330605,
          7.604679097371718,
          8.175069807087185,
          12.510429998844458,
          8.201290927101907,
          9.798849254489967,
          6.879106460460757,
          6.1532875465915975,
          6.08777116427167,
          6.052472267785983,
          6.358123698381208,
          6.2845226738975555
         ],
         "type": "scatter"
        },
        {
         "mode": "lines",
         "name": "Best Value",
         "x": [
          0,
          1,
          2,
          3,
          4,
          5,
          6,
          7,
          8,
          9,
          10,
          11,
          12,
          13,
          14
         ],
         "y": [
          7.351086446096652,
          6.062861687062311,
          6.062861687062311,
          6.062861687062311,
          6.062861687062311,
          6.062861687062311,
          6.062861687062311,
          6.062861687062311,
          6.062861687062311,
          6.062861687062311,
          6.062861687062311,
          6.062861687062311,
          6.052472267785983,
          6.052472267785983,
          6.052472267785983
         ],
         "type": "scatter"
        },
        {
         "marker": {
          "color": "#cccccc"
         },
         "mode": "markers",
         "name": "Infeasible Trial",
         "showlegend": false,
         "x": [],
         "y": [],
         "type": "scatter"
        }
       ],
       "layout": {
        "title": {
         "text": "Optimization History Plot"
        },
        "xaxis": {
         "title": {
          "text": "Trial"
         }
        },
        "yaxis": {
         "title": {
          "text": "Objective Value"
         }
        },
        "template": {
         "data": {
          "histogram2dcontour": [
           {
            "type": "histogram2dcontour",
            "colorbar": {
             "outlinewidth": 0,
             "ticks": ""
            },
            "colorscale": [
             [
              0.0,
              "#0d0887"
             ],
             [
              0.1111111111111111,
              "#46039f"
             ],
             [
              0.2222222222222222,
              "#7201a8"
             ],
             [
              0.3333333333333333,
              "#9c179e"
             ],
             [
              0.4444444444444444,
              "#bd3786"
             ],
             [
              0.5555555555555556,
              "#d8576b"
             ],
             [
              0.6666666666666666,
              "#ed7953"
             ],
             [
              0.7777777777777778,
              "#fb9f3a"
             ],
             [
              0.8888888888888888,
              "#fdca26"
             ],
             [
              1.0,
              "#f0f921"
             ]
            ]
           }
          ],
          "choropleth": [
           {
            "type": "choropleth",
            "colorbar": {
             "outlinewidth": 0,
             "ticks": ""
            }
           }
          ],
          "histogram2d": [
           {
            "type": "histogram2d",
            "colorbar": {
             "outlinewidth": 0,
             "ticks": ""
            },
            "colorscale": [
             [
              0.0,
              "#0d0887"
             ],
             [
              0.1111111111111111,
              "#46039f"
             ],
             [
              0.2222222222222222,
              "#7201a8"
             ],
             [
              0.3333333333333333,
              "#9c179e"
             ],
             [
              0.4444444444444444,
              "#bd3786"
             ],
             [
              0.5555555555555556,
              "#d8576b"
             ],
             [
              0.6666666666666666,
              "#ed7953"
             ],
             [
              0.7777777777777778,
              "#fb9f3a"
             ],
             [
              0.8888888888888888,
              "#fdca26"
             ],
             [
              1.0,
              "#f0f921"
             ]
            ]
           }
          ],
          "heatmap": [
           {
            "type": "heatmap",
            "colorbar": {
             "outlinewidth": 0,
             "ticks": ""
            },
            "colorscale": [
             [
              0.0,
              "#0d0887"
             ],
             [
              0.1111111111111111,
              "#46039f"
             ],
             [
              0.2222222222222222,
              "#7201a8"
             ],
             [
              0.3333333333333333,
              "#9c179e"
             ],
             [
              0.4444444444444444,
              "#bd3786"
             ],
             [
              0.5555555555555556,
              "#d8576b"
             ],
             [
              0.6666666666666666,
              "#ed7953"
             ],
             [
              0.7777777777777778,
              "#fb9f3a"
             ],
             [
              0.8888888888888888,
              "#fdca26"
             ],
             [
              1.0,
              "#f0f921"
             ]
            ]
           }
          ],
          "heatmapgl": [
           {
            "type": "heatmapgl",
            "colorbar": {
             "outlinewidth": 0,
             "ticks": ""
            },
            "colorscale": [
             [
              0.0,
              "#0d0887"
             ],
             [
              0.1111111111111111,
              "#46039f"
             ],
             [
              0.2222222222222222,
              "#7201a8"
             ],
             [
              0.3333333333333333,
              "#9c179e"
             ],
             [
              0.4444444444444444,
              "#bd3786"
             ],
             [
              0.5555555555555556,
              "#d8576b"
             ],
             [
              0.6666666666666666,
              "#ed7953"
             ],
             [
              0.7777777777777778,
              "#fb9f3a"
             ],
             [
              0.8888888888888888,
              "#fdca26"
             ],
             [
              1.0,
              "#f0f921"
             ]
            ]
           }
          ],
          "contourcarpet": [
           {
            "type": "contourcarpet",
            "colorbar": {
             "outlinewidth": 0,
             "ticks": ""
            }
           }
          ],
          "contour": [
           {
            "type": "contour",
            "colorbar": {
             "outlinewidth": 0,
             "ticks": ""
            },
            "colorscale": [
             [
              0.0,
              "#0d0887"
             ],
             [
              0.1111111111111111,
              "#46039f"
             ],
             [
              0.2222222222222222,
              "#7201a8"
             ],
             [
              0.3333333333333333,
              "#9c179e"
             ],
             [
              0.4444444444444444,
              "#bd3786"
             ],
             [
              0.5555555555555556,
              "#d8576b"
             ],
             [
              0.6666666666666666,
              "#ed7953"
             ],
             [
              0.7777777777777778,
              "#fb9f3a"
             ],
             [
              0.8888888888888888,
              "#fdca26"
             ],
             [
              1.0,
              "#f0f921"
             ]
            ]
           }
          ],
          "surface": [
           {
            "type": "surface",
            "colorbar": {
             "outlinewidth": 0,
             "ticks": ""
            },
            "colorscale": [
             [
              0.0,
              "#0d0887"
             ],
             [
              0.1111111111111111,
              "#46039f"
             ],
             [
              0.2222222222222222,
              "#7201a8"
             ],
             [
              0.3333333333333333,
              "#9c179e"
             ],
             [
              0.4444444444444444,
              "#bd3786"
             ],
             [
              0.5555555555555556,
              "#d8576b"
             ],
             [
              0.6666666666666666,
              "#ed7953"
             ],
             [
              0.7777777777777778,
              "#fb9f3a"
             ],
             [
              0.8888888888888888,
              "#fdca26"
             ],
             [
              1.0,
              "#f0f921"
             ]
            ]
           }
          ],
          "mesh3d": [
           {
            "type": "mesh3d",
            "colorbar": {
             "outlinewidth": 0,
             "ticks": ""
            }
           }
          ],
          "scatter": [
           {
            "fillpattern": {
             "fillmode": "overlay",
             "size": 10,
             "solidity": 0.2
            },
            "type": "scatter"
           }
          ],
          "parcoords": [
           {
            "type": "parcoords",
            "line": {
             "colorbar": {
              "outlinewidth": 0,
              "ticks": ""
             }
            }
           }
          ],
          "scatterpolargl": [
           {
            "type": "scatterpolargl",
            "marker": {
             "colorbar": {
              "outlinewidth": 0,
              "ticks": ""
             }
            }
           }
          ],
          "bar": [
           {
            "error_x": {
             "color": "#2a3f5f"
            },
            "error_y": {
             "color": "#2a3f5f"
            },
            "marker": {
             "line": {
              "color": "#E5ECF6",
              "width": 0.5
             },
             "pattern": {
              "fillmode": "overlay",
              "size": 10,
              "solidity": 0.2
             }
            },
            "type": "bar"
           }
          ],
          "scattergeo": [
           {
            "type": "scattergeo",
            "marker": {
             "colorbar": {
              "outlinewidth": 0,
              "ticks": ""
             }
            }
           }
          ],
          "scatterpolar": [
           {
            "type": "scatterpolar",
            "marker": {
             "colorbar": {
              "outlinewidth": 0,
              "ticks": ""
             }
            }
           }
          ],
          "histogram": [
           {
            "marker": {
             "pattern": {
              "fillmode": "overlay",
              "size": 10,
              "solidity": 0.2
             }
            },
            "type": "histogram"
           }
          ],
          "scattergl": [
           {
            "type": "scattergl",
            "marker": {
             "colorbar": {
              "outlinewidth": 0,
              "ticks": ""
             }
            }
           }
          ],
          "scatter3d": [
           {
            "type": "scatter3d",
            "line": {
             "colorbar": {
              "outlinewidth": 0,
              "ticks": ""
             }
            },
            "marker": {
             "colorbar": {
              "outlinewidth": 0,
              "ticks": ""
             }
            }
           }
          ],
          "scattermapbox": [
           {
            "type": "scattermapbox",
            "marker": {
             "colorbar": {
              "outlinewidth": 0,
              "ticks": ""
             }
            }
           }
          ],
          "scatterternary": [
           {
            "type": "scatterternary",
            "marker": {
             "colorbar": {
              "outlinewidth": 0,
              "ticks": ""
             }
            }
           }
          ],
          "scattercarpet": [
           {
            "type": "scattercarpet",
            "marker": {
             "colorbar": {
              "outlinewidth": 0,
              "ticks": ""
             }
            }
           }
          ],
          "carpet": [
           {
            "aaxis": {
             "endlinecolor": "#2a3f5f",
             "gridcolor": "white",
             "linecolor": "white",
             "minorgridcolor": "white",
             "startlinecolor": "#2a3f5f"
            },
            "baxis": {
             "endlinecolor": "#2a3f5f",
             "gridcolor": "white",
             "linecolor": "white",
             "minorgridcolor": "white",
             "startlinecolor": "#2a3f5f"
            },
            "type": "carpet"
           }
          ],
          "table": [
           {
            "cells": {
             "fill": {
              "color": "#EBF0F8"
             },
             "line": {
              "color": "white"
             }
            },
            "header": {
             "fill": {
              "color": "#C8D4E3"
             },
             "line": {
              "color": "white"
             }
            },
            "type": "table"
           }
          ],
          "barpolar": [
           {
            "marker": {
             "line": {
              "color": "#E5ECF6",
              "width": 0.5
             },
             "pattern": {
              "fillmode": "overlay",
              "size": 10,
              "solidity": 0.2
             }
            },
            "type": "barpolar"
           }
          ],
          "pie": [
           {
            "automargin": true,
            "type": "pie"
           }
          ]
         },
         "layout": {
          "autotypenumbers": "strict",
          "colorway": [
           "#636efa",
           "#EF553B",
           "#00cc96",
           "#ab63fa",
           "#FFA15A",
           "#19d3f3",
           "#FF6692",
           "#B6E880",
           "#FF97FF",
           "#FECB52"
          ],
          "font": {
           "color": "#2a3f5f"
          },
          "hovermode": "closest",
          "hoverlabel": {
           "align": "left"
          },
          "paper_bgcolor": "white",
          "plot_bgcolor": "#E5ECF6",
          "polar": {
           "bgcolor": "#E5ECF6",
           "angularaxis": {
            "gridcolor": "white",
            "linecolor": "white",
            "ticks": ""
           },
           "radialaxis": {
            "gridcolor": "white",
            "linecolor": "white",
            "ticks": ""
           }
          },
          "ternary": {
           "bgcolor": "#E5ECF6",
           "aaxis": {
            "gridcolor": "white",
            "linecolor": "white",
            "ticks": ""
           },
           "baxis": {
            "gridcolor": "white",
            "linecolor": "white",
            "ticks": ""
           },
           "caxis": {
            "gridcolor": "white",
            "linecolor": "white",
            "ticks": ""
           }
          },
          "coloraxis": {
           "colorbar": {
            "outlinewidth": 0,
            "ticks": ""
           }
          },
          "colorscale": {
           "sequential": [
            [
             0.0,
             "#0d0887"
            ],
            [
             0.1111111111111111,
             "#46039f"
            ],
            [
             0.2222222222222222,
             "#7201a8"
            ],
            [
             0.3333333333333333,
             "#9c179e"
            ],
            [
             0.4444444444444444,
             "#bd3786"
            ],
            [
             0.5555555555555556,
             "#d8576b"
            ],
            [
             0.6666666666666666,
             "#ed7953"
            ],
            [
             0.7777777777777778,
             "#fb9f3a"
            ],
            [
             0.8888888888888888,
             "#fdca26"
            ],
            [
             1.0,
             "#f0f921"
            ]
           ],
           "sequentialminus": [
            [
             0.0,
             "#0d0887"
            ],
            [
             0.1111111111111111,
             "#46039f"
            ],
            [
             0.2222222222222222,
             "#7201a8"
            ],
            [
             0.3333333333333333,
             "#9c179e"
            ],
            [
             0.4444444444444444,
             "#bd3786"
            ],
            [
             0.5555555555555556,
             "#d8576b"
            ],
            [
             0.6666666666666666,
             "#ed7953"
            ],
            [
             0.7777777777777778,
             "#fb9f3a"
            ],
            [
             0.8888888888888888,
             "#fdca26"
            ],
            [
             1.0,
             "#f0f921"
            ]
           ],
           "diverging": [
            [
             0,
             "#8e0152"
            ],
            [
             0.1,
             "#c51b7d"
            ],
            [
             0.2,
             "#de77ae"
            ],
            [
             0.3,
             "#f1b6da"
            ],
            [
             0.4,
             "#fde0ef"
            ],
            [
             0.5,
             "#f7f7f7"
            ],
            [
             0.6,
             "#e6f5d0"
            ],
            [
             0.7,
             "#b8e186"
            ],
            [
             0.8,
             "#7fbc41"
            ],
            [
             0.9,
             "#4d9221"
            ],
            [
             1,
             "#276419"
            ]
           ]
          },
          "xaxis": {
           "gridcolor": "white",
           "linecolor": "white",
           "ticks": "",
           "title": {
            "standoff": 15
           },
           "zerolinecolor": "white",
           "automargin": true,
           "zerolinewidth": 2
          },
          "yaxis": {
           "gridcolor": "white",
           "linecolor": "white",
           "ticks": "",
           "title": {
            "standoff": 15
           },
           "zerolinecolor": "white",
           "automargin": true,
           "zerolinewidth": 2
          },
          "scene": {
           "xaxis": {
            "backgroundcolor": "#E5ECF6",
            "gridcolor": "white",
            "linecolor": "white",
            "showbackground": true,
            "ticks": "",
            "zerolinecolor": "white",
            "gridwidth": 2
           },
           "yaxis": {
            "backgroundcolor": "#E5ECF6",
            "gridcolor": "white",
            "linecolor": "white",
            "showbackground": true,
            "ticks": "",
            "zerolinecolor": "white",
            "gridwidth": 2
           },
           "zaxis": {
            "backgroundcolor": "#E5ECF6",
            "gridcolor": "white",
            "linecolor": "white",
            "showbackground": true,
            "ticks": "",
            "zerolinecolor": "white",
            "gridwidth": 2
           }
          },
          "shapedefaults": {
           "line": {
            "color": "#2a3f5f"
           }
          },
          "annotationdefaults": {
           "arrowcolor": "#2a3f5f",
           "arrowhead": 0,
           "arrowwidth": 1
          },
          "geo": {
           "bgcolor": "white",
           "landcolor": "#E5ECF6",
           "subunitcolor": "white",
           "showland": true,
           "showlakes": true,
           "lakecolor": "white"
          },
          "title": {
           "x": 0.05
          },
          "mapbox": {
           "style": "light"
          }
         }
        }
       },
       "config": {
        "plotlyServerURL": "https://plot.ly"
       }
      },
      "text/html": [
       "<div>                            <div id=\"27e22137-c49c-4108-b580-0a2701ad71ea\" class=\"plotly-graph-div\" style=\"height:525px; width:100%;\"></div>            <script type=\"text/javascript\">                require([\"plotly\"], function(Plotly) {                    window.PLOTLYENV=window.PLOTLYENV || {};                                    if (document.getElementById(\"27e22137-c49c-4108-b580-0a2701ad71ea\")) {                    Plotly.newPlot(                        \"27e22137-c49c-4108-b580-0a2701ad71ea\",                        [{\"mode\":\"markers\",\"name\":\"Objective Value\",\"x\":[0,1,2,3,4,5,6,7,8,9,10,11,12,13,14],\"y\":[7.351086446096652,6.062861687062311,10.117084268663092,12.492700159330605,7.604679097371718,8.175069807087185,12.510429998844458,8.201290927101907,9.798849254489967,6.879106460460757,6.1532875465915975,6.08777116427167,6.052472267785983,6.358123698381208,6.2845226738975555],\"type\":\"scatter\"},{\"mode\":\"lines\",\"name\":\"Best Value\",\"x\":[0,1,2,3,4,5,6,7,8,9,10,11,12,13,14],\"y\":[7.351086446096652,6.062861687062311,6.062861687062311,6.062861687062311,6.062861687062311,6.062861687062311,6.062861687062311,6.062861687062311,6.062861687062311,6.062861687062311,6.062861687062311,6.062861687062311,6.052472267785983,6.052472267785983,6.052472267785983],\"type\":\"scatter\"},{\"marker\":{\"color\":\"#cccccc\"},\"mode\":\"markers\",\"name\":\"Infeasible Trial\",\"showlegend\":false,\"x\":[],\"y\":[],\"type\":\"scatter\"}],                        {\"title\":{\"text\":\"Optimization History Plot\"},\"xaxis\":{\"title\":{\"text\":\"Trial\"}},\"yaxis\":{\"title\":{\"text\":\"Objective Value\"}},\"template\":{\"data\":{\"histogram2dcontour\":[{\"type\":\"histogram2dcontour\",\"colorbar\":{\"outlinewidth\":0,\"ticks\":\"\"},\"colorscale\":[[0.0,\"#0d0887\"],[0.1111111111111111,\"#46039f\"],[0.2222222222222222,\"#7201a8\"],[0.3333333333333333,\"#9c179e\"],[0.4444444444444444,\"#bd3786\"],[0.5555555555555556,\"#d8576b\"],[0.6666666666666666,\"#ed7953\"],[0.7777777777777778,\"#fb9f3a\"],[0.8888888888888888,\"#fdca26\"],[1.0,\"#f0f921\"]]}],\"choropleth\":[{\"type\":\"choropleth\",\"colorbar\":{\"outlinewidth\":0,\"ticks\":\"\"}}],\"histogram2d\":[{\"type\":\"histogram2d\",\"colorbar\":{\"outlinewidth\":0,\"ticks\":\"\"},\"colorscale\":[[0.0,\"#0d0887\"],[0.1111111111111111,\"#46039f\"],[0.2222222222222222,\"#7201a8\"],[0.3333333333333333,\"#9c179e\"],[0.4444444444444444,\"#bd3786\"],[0.5555555555555556,\"#d8576b\"],[0.6666666666666666,\"#ed7953\"],[0.7777777777777778,\"#fb9f3a\"],[0.8888888888888888,\"#fdca26\"],[1.0,\"#f0f921\"]]}],\"heatmap\":[{\"type\":\"heatmap\",\"colorbar\":{\"outlinewidth\":0,\"ticks\":\"\"},\"colorscale\":[[0.0,\"#0d0887\"],[0.1111111111111111,\"#46039f\"],[0.2222222222222222,\"#7201a8\"],[0.3333333333333333,\"#9c179e\"],[0.4444444444444444,\"#bd3786\"],[0.5555555555555556,\"#d8576b\"],[0.6666666666666666,\"#ed7953\"],[0.7777777777777778,\"#fb9f3a\"],[0.8888888888888888,\"#fdca26\"],[1.0,\"#f0f921\"]]}],\"heatmapgl\":[{\"type\":\"heatmapgl\",\"colorbar\":{\"outlinewidth\":0,\"ticks\":\"\"},\"colorscale\":[[0.0,\"#0d0887\"],[0.1111111111111111,\"#46039f\"],[0.2222222222222222,\"#7201a8\"],[0.3333333333333333,\"#9c179e\"],[0.4444444444444444,\"#bd3786\"],[0.5555555555555556,\"#d8576b\"],[0.6666666666666666,\"#ed7953\"],[0.7777777777777778,\"#fb9f3a\"],[0.8888888888888888,\"#fdca26\"],[1.0,\"#f0f921\"]]}],\"contourcarpet\":[{\"type\":\"contourcarpet\",\"colorbar\":{\"outlinewidth\":0,\"ticks\":\"\"}}],\"contour\":[{\"type\":\"contour\",\"colorbar\":{\"outlinewidth\":0,\"ticks\":\"\"},\"colorscale\":[[0.0,\"#0d0887\"],[0.1111111111111111,\"#46039f\"],[0.2222222222222222,\"#7201a8\"],[0.3333333333333333,\"#9c179e\"],[0.4444444444444444,\"#bd3786\"],[0.5555555555555556,\"#d8576b\"],[0.6666666666666666,\"#ed7953\"],[0.7777777777777778,\"#fb9f3a\"],[0.8888888888888888,\"#fdca26\"],[1.0,\"#f0f921\"]]}],\"surface\":[{\"type\":\"surface\",\"colorbar\":{\"outlinewidth\":0,\"ticks\":\"\"},\"colorscale\":[[0.0,\"#0d0887\"],[0.1111111111111111,\"#46039f\"],[0.2222222222222222,\"#7201a8\"],[0.3333333333333333,\"#9c179e\"],[0.4444444444444444,\"#bd3786\"],[0.5555555555555556,\"#d8576b\"],[0.6666666666666666,\"#ed7953\"],[0.7777777777777778,\"#fb9f3a\"],[0.8888888888888888,\"#fdca26\"],[1.0,\"#f0f921\"]]}],\"mesh3d\":[{\"type\":\"mesh3d\",\"colorbar\":{\"outlinewidth\":0,\"ticks\":\"\"}}],\"scatter\":[{\"fillpattern\":{\"fillmode\":\"overlay\",\"size\":10,\"solidity\":0.2},\"type\":\"scatter\"}],\"parcoords\":[{\"type\":\"parcoords\",\"line\":{\"colorbar\":{\"outlinewidth\":0,\"ticks\":\"\"}}}],\"scatterpolargl\":[{\"type\":\"scatterpolargl\",\"marker\":{\"colorbar\":{\"outlinewidth\":0,\"ticks\":\"\"}}}],\"bar\":[{\"error_x\":{\"color\":\"#2a3f5f\"},\"error_y\":{\"color\":\"#2a3f5f\"},\"marker\":{\"line\":{\"color\":\"#E5ECF6\",\"width\":0.5},\"pattern\":{\"fillmode\":\"overlay\",\"size\":10,\"solidity\":0.2}},\"type\":\"bar\"}],\"scattergeo\":[{\"type\":\"scattergeo\",\"marker\":{\"colorbar\":{\"outlinewidth\":0,\"ticks\":\"\"}}}],\"scatterpolar\":[{\"type\":\"scatterpolar\",\"marker\":{\"colorbar\":{\"outlinewidth\":0,\"ticks\":\"\"}}}],\"histogram\":[{\"marker\":{\"pattern\":{\"fillmode\":\"overlay\",\"size\":10,\"solidity\":0.2}},\"type\":\"histogram\"}],\"scattergl\":[{\"type\":\"scattergl\",\"marker\":{\"colorbar\":{\"outlinewidth\":0,\"ticks\":\"\"}}}],\"scatter3d\":[{\"type\":\"scatter3d\",\"line\":{\"colorbar\":{\"outlinewidth\":0,\"ticks\":\"\"}},\"marker\":{\"colorbar\":{\"outlinewidth\":0,\"ticks\":\"\"}}}],\"scattermapbox\":[{\"type\":\"scattermapbox\",\"marker\":{\"colorbar\":{\"outlinewidth\":0,\"ticks\":\"\"}}}],\"scatterternary\":[{\"type\":\"scatterternary\",\"marker\":{\"colorbar\":{\"outlinewidth\":0,\"ticks\":\"\"}}}],\"scattercarpet\":[{\"type\":\"scattercarpet\",\"marker\":{\"colorbar\":{\"outlinewidth\":0,\"ticks\":\"\"}}}],\"carpet\":[{\"aaxis\":{\"endlinecolor\":\"#2a3f5f\",\"gridcolor\":\"white\",\"linecolor\":\"white\",\"minorgridcolor\":\"white\",\"startlinecolor\":\"#2a3f5f\"},\"baxis\":{\"endlinecolor\":\"#2a3f5f\",\"gridcolor\":\"white\",\"linecolor\":\"white\",\"minorgridcolor\":\"white\",\"startlinecolor\":\"#2a3f5f\"},\"type\":\"carpet\"}],\"table\":[{\"cells\":{\"fill\":{\"color\":\"#EBF0F8\"},\"line\":{\"color\":\"white\"}},\"header\":{\"fill\":{\"color\":\"#C8D4E3\"},\"line\":{\"color\":\"white\"}},\"type\":\"table\"}],\"barpolar\":[{\"marker\":{\"line\":{\"color\":\"#E5ECF6\",\"width\":0.5},\"pattern\":{\"fillmode\":\"overlay\",\"size\":10,\"solidity\":0.2}},\"type\":\"barpolar\"}],\"pie\":[{\"automargin\":true,\"type\":\"pie\"}]},\"layout\":{\"autotypenumbers\":\"strict\",\"colorway\":[\"#636efa\",\"#EF553B\",\"#00cc96\",\"#ab63fa\",\"#FFA15A\",\"#19d3f3\",\"#FF6692\",\"#B6E880\",\"#FF97FF\",\"#FECB52\"],\"font\":{\"color\":\"#2a3f5f\"},\"hovermode\":\"closest\",\"hoverlabel\":{\"align\":\"left\"},\"paper_bgcolor\":\"white\",\"plot_bgcolor\":\"#E5ECF6\",\"polar\":{\"bgcolor\":\"#E5ECF6\",\"angularaxis\":{\"gridcolor\":\"white\",\"linecolor\":\"white\",\"ticks\":\"\"},\"radialaxis\":{\"gridcolor\":\"white\",\"linecolor\":\"white\",\"ticks\":\"\"}},\"ternary\":{\"bgcolor\":\"#E5ECF6\",\"aaxis\":{\"gridcolor\":\"white\",\"linecolor\":\"white\",\"ticks\":\"\"},\"baxis\":{\"gridcolor\":\"white\",\"linecolor\":\"white\",\"ticks\":\"\"},\"caxis\":{\"gridcolor\":\"white\",\"linecolor\":\"white\",\"ticks\":\"\"}},\"coloraxis\":{\"colorbar\":{\"outlinewidth\":0,\"ticks\":\"\"}},\"colorscale\":{\"sequential\":[[0.0,\"#0d0887\"],[0.1111111111111111,\"#46039f\"],[0.2222222222222222,\"#7201a8\"],[0.3333333333333333,\"#9c179e\"],[0.4444444444444444,\"#bd3786\"],[0.5555555555555556,\"#d8576b\"],[0.6666666666666666,\"#ed7953\"],[0.7777777777777778,\"#fb9f3a\"],[0.8888888888888888,\"#fdca26\"],[1.0,\"#f0f921\"]],\"sequentialminus\":[[0.0,\"#0d0887\"],[0.1111111111111111,\"#46039f\"],[0.2222222222222222,\"#7201a8\"],[0.3333333333333333,\"#9c179e\"],[0.4444444444444444,\"#bd3786\"],[0.5555555555555556,\"#d8576b\"],[0.6666666666666666,\"#ed7953\"],[0.7777777777777778,\"#fb9f3a\"],[0.8888888888888888,\"#fdca26\"],[1.0,\"#f0f921\"]],\"diverging\":[[0,\"#8e0152\"],[0.1,\"#c51b7d\"],[0.2,\"#de77ae\"],[0.3,\"#f1b6da\"],[0.4,\"#fde0ef\"],[0.5,\"#f7f7f7\"],[0.6,\"#e6f5d0\"],[0.7,\"#b8e186\"],[0.8,\"#7fbc41\"],[0.9,\"#4d9221\"],[1,\"#276419\"]]},\"xaxis\":{\"gridcolor\":\"white\",\"linecolor\":\"white\",\"ticks\":\"\",\"title\":{\"standoff\":15},\"zerolinecolor\":\"white\",\"automargin\":true,\"zerolinewidth\":2},\"yaxis\":{\"gridcolor\":\"white\",\"linecolor\":\"white\",\"ticks\":\"\",\"title\":{\"standoff\":15},\"zerolinecolor\":\"white\",\"automargin\":true,\"zerolinewidth\":2},\"scene\":{\"xaxis\":{\"backgroundcolor\":\"#E5ECF6\",\"gridcolor\":\"white\",\"linecolor\":\"white\",\"showbackground\":true,\"ticks\":\"\",\"zerolinecolor\":\"white\",\"gridwidth\":2},\"yaxis\":{\"backgroundcolor\":\"#E5ECF6\",\"gridcolor\":\"white\",\"linecolor\":\"white\",\"showbackground\":true,\"ticks\":\"\",\"zerolinecolor\":\"white\",\"gridwidth\":2},\"zaxis\":{\"backgroundcolor\":\"#E5ECF6\",\"gridcolor\":\"white\",\"linecolor\":\"white\",\"showbackground\":true,\"ticks\":\"\",\"zerolinecolor\":\"white\",\"gridwidth\":2}},\"shapedefaults\":{\"line\":{\"color\":\"#2a3f5f\"}},\"annotationdefaults\":{\"arrowcolor\":\"#2a3f5f\",\"arrowhead\":0,\"arrowwidth\":1},\"geo\":{\"bgcolor\":\"white\",\"landcolor\":\"#E5ECF6\",\"subunitcolor\":\"white\",\"showland\":true,\"showlakes\":true,\"lakecolor\":\"white\"},\"title\":{\"x\":0.05},\"mapbox\":{\"style\":\"light\"}}}},                        {\"responsive\": true}                    ).then(function(){\n",
       "                            \n",
       "var gd = document.getElementById('27e22137-c49c-4108-b580-0a2701ad71ea');\n",
       "var x = new MutationObserver(function (mutations, observer) {{\n",
       "        var display = window.getComputedStyle(gd).display;\n",
       "        if (!display || display === 'none') {{\n",
       "            console.log([gd, 'removed!']);\n",
       "            Plotly.purge(gd);\n",
       "            observer.disconnect();\n",
       "        }}\n",
       "}});\n",
       "\n",
       "// Listen for the removal of the full notebook cells\n",
       "var notebookContainer = gd.closest('#notebook-container');\n",
       "if (notebookContainer) {{\n",
       "    x.observe(notebookContainer, {childList: true});\n",
       "}}\n",
       "\n",
       "// Listen for the clearing of the current output cell\n",
       "var outputEl = gd.closest('.output');\n",
       "if (outputEl) {{\n",
       "    x.observe(outputEl, {childList: true});\n",
       "}}\n",
       "\n",
       "                        })                };                });            </script>        </div>"
      ]
     },
     "metadata": {},
     "output_type": "display_data"
    },
    {
     "data": {
      "application/vnd.plotly.v1+json": {
       "data": [
        {
         "cliponaxis": false,
         "hovertemplate": [
          "min_samples_split (IntDistribution): 0.01611336785865112<extra></extra>",
          "n_estimators (IntDistribution): 0.03371309856983403<extra></extra>",
          "min_samples_leaf (IntDistribution): 0.05634663576169041<extra></extra>",
          "max_features (CategoricalDistribution): 0.06700816968578985<extra></extra>",
          "max_depth (IntDistribution): 0.8268187281240347<extra></extra>"
         ],
         "name": "Objective Value",
         "orientation": "h",
         "text": [
          "0.02",
          "0.03",
          "0.06",
          "0.07",
          "0.83"
         ],
         "textposition": "outside",
         "x": [
          0.01611336785865112,
          0.03371309856983403,
          0.05634663576169041,
          0.06700816968578985,
          0.8268187281240347
         ],
         "y": [
          "min_samples_split",
          "n_estimators",
          "min_samples_leaf",
          "max_features",
          "max_depth"
         ],
         "type": "bar"
        }
       ],
       "layout": {
        "title": {
         "text": "Hyperparameter Importances"
        },
        "xaxis": {
         "title": {
          "text": "Hyperparameter Importance"
         }
        },
        "yaxis": {
         "title": {
          "text": "Hyperparameter"
         }
        },
        "template": {
         "data": {
          "histogram2dcontour": [
           {
            "type": "histogram2dcontour",
            "colorbar": {
             "outlinewidth": 0,
             "ticks": ""
            },
            "colorscale": [
             [
              0.0,
              "#0d0887"
             ],
             [
              0.1111111111111111,
              "#46039f"
             ],
             [
              0.2222222222222222,
              "#7201a8"
             ],
             [
              0.3333333333333333,
              "#9c179e"
             ],
             [
              0.4444444444444444,
              "#bd3786"
             ],
             [
              0.5555555555555556,
              "#d8576b"
             ],
             [
              0.6666666666666666,
              "#ed7953"
             ],
             [
              0.7777777777777778,
              "#fb9f3a"
             ],
             [
              0.8888888888888888,
              "#fdca26"
             ],
             [
              1.0,
              "#f0f921"
             ]
            ]
           }
          ],
          "choropleth": [
           {
            "type": "choropleth",
            "colorbar": {
             "outlinewidth": 0,
             "ticks": ""
            }
           }
          ],
          "histogram2d": [
           {
            "type": "histogram2d",
            "colorbar": {
             "outlinewidth": 0,
             "ticks": ""
            },
            "colorscale": [
             [
              0.0,
              "#0d0887"
             ],
             [
              0.1111111111111111,
              "#46039f"
             ],
             [
              0.2222222222222222,
              "#7201a8"
             ],
             [
              0.3333333333333333,
              "#9c179e"
             ],
             [
              0.4444444444444444,
              "#bd3786"
             ],
             [
              0.5555555555555556,
              "#d8576b"
             ],
             [
              0.6666666666666666,
              "#ed7953"
             ],
             [
              0.7777777777777778,
              "#fb9f3a"
             ],
             [
              0.8888888888888888,
              "#fdca26"
             ],
             [
              1.0,
              "#f0f921"
             ]
            ]
           }
          ],
          "heatmap": [
           {
            "type": "heatmap",
            "colorbar": {
             "outlinewidth": 0,
             "ticks": ""
            },
            "colorscale": [
             [
              0.0,
              "#0d0887"
             ],
             [
              0.1111111111111111,
              "#46039f"
             ],
             [
              0.2222222222222222,
              "#7201a8"
             ],
             [
              0.3333333333333333,
              "#9c179e"
             ],
             [
              0.4444444444444444,
              "#bd3786"
             ],
             [
              0.5555555555555556,
              "#d8576b"
             ],
             [
              0.6666666666666666,
              "#ed7953"
             ],
             [
              0.7777777777777778,
              "#fb9f3a"
             ],
             [
              0.8888888888888888,
              "#fdca26"
             ],
             [
              1.0,
              "#f0f921"
             ]
            ]
           }
          ],
          "heatmapgl": [
           {
            "type": "heatmapgl",
            "colorbar": {
             "outlinewidth": 0,
             "ticks": ""
            },
            "colorscale": [
             [
              0.0,
              "#0d0887"
             ],
             [
              0.1111111111111111,
              "#46039f"
             ],
             [
              0.2222222222222222,
              "#7201a8"
             ],
             [
              0.3333333333333333,
              "#9c179e"
             ],
             [
              0.4444444444444444,
              "#bd3786"
             ],
             [
              0.5555555555555556,
              "#d8576b"
             ],
             [
              0.6666666666666666,
              "#ed7953"
             ],
             [
              0.7777777777777778,
              "#fb9f3a"
             ],
             [
              0.8888888888888888,
              "#fdca26"
             ],
             [
              1.0,
              "#f0f921"
             ]
            ]
           }
          ],
          "contourcarpet": [
           {
            "type": "contourcarpet",
            "colorbar": {
             "outlinewidth": 0,
             "ticks": ""
            }
           }
          ],
          "contour": [
           {
            "type": "contour",
            "colorbar": {
             "outlinewidth": 0,
             "ticks": ""
            },
            "colorscale": [
             [
              0.0,
              "#0d0887"
             ],
             [
              0.1111111111111111,
              "#46039f"
             ],
             [
              0.2222222222222222,
              "#7201a8"
             ],
             [
              0.3333333333333333,
              "#9c179e"
             ],
             [
              0.4444444444444444,
              "#bd3786"
             ],
             [
              0.5555555555555556,
              "#d8576b"
             ],
             [
              0.6666666666666666,
              "#ed7953"
             ],
             [
              0.7777777777777778,
              "#fb9f3a"
             ],
             [
              0.8888888888888888,
              "#fdca26"
             ],
             [
              1.0,
              "#f0f921"
             ]
            ]
           }
          ],
          "surface": [
           {
            "type": "surface",
            "colorbar": {
             "outlinewidth": 0,
             "ticks": ""
            },
            "colorscale": [
             [
              0.0,
              "#0d0887"
             ],
             [
              0.1111111111111111,
              "#46039f"
             ],
             [
              0.2222222222222222,
              "#7201a8"
             ],
             [
              0.3333333333333333,
              "#9c179e"
             ],
             [
              0.4444444444444444,
              "#bd3786"
             ],
             [
              0.5555555555555556,
              "#d8576b"
             ],
             [
              0.6666666666666666,
              "#ed7953"
             ],
             [
              0.7777777777777778,
              "#fb9f3a"
             ],
             [
              0.8888888888888888,
              "#fdca26"
             ],
             [
              1.0,
              "#f0f921"
             ]
            ]
           }
          ],
          "mesh3d": [
           {
            "type": "mesh3d",
            "colorbar": {
             "outlinewidth": 0,
             "ticks": ""
            }
           }
          ],
          "scatter": [
           {
            "fillpattern": {
             "fillmode": "overlay",
             "size": 10,
             "solidity": 0.2
            },
            "type": "scatter"
           }
          ],
          "parcoords": [
           {
            "type": "parcoords",
            "line": {
             "colorbar": {
              "outlinewidth": 0,
              "ticks": ""
             }
            }
           }
          ],
          "scatterpolargl": [
           {
            "type": "scatterpolargl",
            "marker": {
             "colorbar": {
              "outlinewidth": 0,
              "ticks": ""
             }
            }
           }
          ],
          "bar": [
           {
            "error_x": {
             "color": "#2a3f5f"
            },
            "error_y": {
             "color": "#2a3f5f"
            },
            "marker": {
             "line": {
              "color": "#E5ECF6",
              "width": 0.5
             },
             "pattern": {
              "fillmode": "overlay",
              "size": 10,
              "solidity": 0.2
             }
            },
            "type": "bar"
           }
          ],
          "scattergeo": [
           {
            "type": "scattergeo",
            "marker": {
             "colorbar": {
              "outlinewidth": 0,
              "ticks": ""
             }
            }
           }
          ],
          "scatterpolar": [
           {
            "type": "scatterpolar",
            "marker": {
             "colorbar": {
              "outlinewidth": 0,
              "ticks": ""
             }
            }
           }
          ],
          "histogram": [
           {
            "marker": {
             "pattern": {
              "fillmode": "overlay",
              "size": 10,
              "solidity": 0.2
             }
            },
            "type": "histogram"
           }
          ],
          "scattergl": [
           {
            "type": "scattergl",
            "marker": {
             "colorbar": {
              "outlinewidth": 0,
              "ticks": ""
             }
            }
           }
          ],
          "scatter3d": [
           {
            "type": "scatter3d",
            "line": {
             "colorbar": {
              "outlinewidth": 0,
              "ticks": ""
             }
            },
            "marker": {
             "colorbar": {
              "outlinewidth": 0,
              "ticks": ""
             }
            }
           }
          ],
          "scattermapbox": [
           {
            "type": "scattermapbox",
            "marker": {
             "colorbar": {
              "outlinewidth": 0,
              "ticks": ""
             }
            }
           }
          ],
          "scatterternary": [
           {
            "type": "scatterternary",
            "marker": {
             "colorbar": {
              "outlinewidth": 0,
              "ticks": ""
             }
            }
           }
          ],
          "scattercarpet": [
           {
            "type": "scattercarpet",
            "marker": {
             "colorbar": {
              "outlinewidth": 0,
              "ticks": ""
             }
            }
           }
          ],
          "carpet": [
           {
            "aaxis": {
             "endlinecolor": "#2a3f5f",
             "gridcolor": "white",
             "linecolor": "white",
             "minorgridcolor": "white",
             "startlinecolor": "#2a3f5f"
            },
            "baxis": {
             "endlinecolor": "#2a3f5f",
             "gridcolor": "white",
             "linecolor": "white",
             "minorgridcolor": "white",
             "startlinecolor": "#2a3f5f"
            },
            "type": "carpet"
           }
          ],
          "table": [
           {
            "cells": {
             "fill": {
              "color": "#EBF0F8"
             },
             "line": {
              "color": "white"
             }
            },
            "header": {
             "fill": {
              "color": "#C8D4E3"
             },
             "line": {
              "color": "white"
             }
            },
            "type": "table"
           }
          ],
          "barpolar": [
           {
            "marker": {
             "line": {
              "color": "#E5ECF6",
              "width": 0.5
             },
             "pattern": {
              "fillmode": "overlay",
              "size": 10,
              "solidity": 0.2
             }
            },
            "type": "barpolar"
           }
          ],
          "pie": [
           {
            "automargin": true,
            "type": "pie"
           }
          ]
         },
         "layout": {
          "autotypenumbers": "strict",
          "colorway": [
           "#636efa",
           "#EF553B",
           "#00cc96",
           "#ab63fa",
           "#FFA15A",
           "#19d3f3",
           "#FF6692",
           "#B6E880",
           "#FF97FF",
           "#FECB52"
          ],
          "font": {
           "color": "#2a3f5f"
          },
          "hovermode": "closest",
          "hoverlabel": {
           "align": "left"
          },
          "paper_bgcolor": "white",
          "plot_bgcolor": "#E5ECF6",
          "polar": {
           "bgcolor": "#E5ECF6",
           "angularaxis": {
            "gridcolor": "white",
            "linecolor": "white",
            "ticks": ""
           },
           "radialaxis": {
            "gridcolor": "white",
            "linecolor": "white",
            "ticks": ""
           }
          },
          "ternary": {
           "bgcolor": "#E5ECF6",
           "aaxis": {
            "gridcolor": "white",
            "linecolor": "white",
            "ticks": ""
           },
           "baxis": {
            "gridcolor": "white",
            "linecolor": "white",
            "ticks": ""
           },
           "caxis": {
            "gridcolor": "white",
            "linecolor": "white",
            "ticks": ""
           }
          },
          "coloraxis": {
           "colorbar": {
            "outlinewidth": 0,
            "ticks": ""
           }
          },
          "colorscale": {
           "sequential": [
            [
             0.0,
             "#0d0887"
            ],
            [
             0.1111111111111111,
             "#46039f"
            ],
            [
             0.2222222222222222,
             "#7201a8"
            ],
            [
             0.3333333333333333,
             "#9c179e"
            ],
            [
             0.4444444444444444,
             "#bd3786"
            ],
            [
             0.5555555555555556,
             "#d8576b"
            ],
            [
             0.6666666666666666,
             "#ed7953"
            ],
            [
             0.7777777777777778,
             "#fb9f3a"
            ],
            [
             0.8888888888888888,
             "#fdca26"
            ],
            [
             1.0,
             "#f0f921"
            ]
           ],
           "sequentialminus": [
            [
             0.0,
             "#0d0887"
            ],
            [
             0.1111111111111111,
             "#46039f"
            ],
            [
             0.2222222222222222,
             "#7201a8"
            ],
            [
             0.3333333333333333,
             "#9c179e"
            ],
            [
             0.4444444444444444,
             "#bd3786"
            ],
            [
             0.5555555555555556,
             "#d8576b"
            ],
            [
             0.6666666666666666,
             "#ed7953"
            ],
            [
             0.7777777777777778,
             "#fb9f3a"
            ],
            [
             0.8888888888888888,
             "#fdca26"
            ],
            [
             1.0,
             "#f0f921"
            ]
           ],
           "diverging": [
            [
             0,
             "#8e0152"
            ],
            [
             0.1,
             "#c51b7d"
            ],
            [
             0.2,
             "#de77ae"
            ],
            [
             0.3,
             "#f1b6da"
            ],
            [
             0.4,
             "#fde0ef"
            ],
            [
             0.5,
             "#f7f7f7"
            ],
            [
             0.6,
             "#e6f5d0"
            ],
            [
             0.7,
             "#b8e186"
            ],
            [
             0.8,
             "#7fbc41"
            ],
            [
             0.9,
             "#4d9221"
            ],
            [
             1,
             "#276419"
            ]
           ]
          },
          "xaxis": {
           "gridcolor": "white",
           "linecolor": "white",
           "ticks": "",
           "title": {
            "standoff": 15
           },
           "zerolinecolor": "white",
           "automargin": true,
           "zerolinewidth": 2
          },
          "yaxis": {
           "gridcolor": "white",
           "linecolor": "white",
           "ticks": "",
           "title": {
            "standoff": 15
           },
           "zerolinecolor": "white",
           "automargin": true,
           "zerolinewidth": 2
          },
          "scene": {
           "xaxis": {
            "backgroundcolor": "#E5ECF6",
            "gridcolor": "white",
            "linecolor": "white",
            "showbackground": true,
            "ticks": "",
            "zerolinecolor": "white",
            "gridwidth": 2
           },
           "yaxis": {
            "backgroundcolor": "#E5ECF6",
            "gridcolor": "white",
            "linecolor": "white",
            "showbackground": true,
            "ticks": "",
            "zerolinecolor": "white",
            "gridwidth": 2
           },
           "zaxis": {
            "backgroundcolor": "#E5ECF6",
            "gridcolor": "white",
            "linecolor": "white",
            "showbackground": true,
            "ticks": "",
            "zerolinecolor": "white",
            "gridwidth": 2
           }
          },
          "shapedefaults": {
           "line": {
            "color": "#2a3f5f"
           }
          },
          "annotationdefaults": {
           "arrowcolor": "#2a3f5f",
           "arrowhead": 0,
           "arrowwidth": 1
          },
          "geo": {
           "bgcolor": "white",
           "landcolor": "#E5ECF6",
           "subunitcolor": "white",
           "showland": true,
           "showlakes": true,
           "lakecolor": "white"
          },
          "title": {
           "x": 0.05
          },
          "mapbox": {
           "style": "light"
          }
         }
        }
       },
       "config": {
        "plotlyServerURL": "https://plot.ly"
       }
      },
      "text/html": [
       "<div>                            <div id=\"5a629f1f-319d-4812-8d09-994c9cdadd07\" class=\"plotly-graph-div\" style=\"height:525px; width:100%;\"></div>            <script type=\"text/javascript\">                require([\"plotly\"], function(Plotly) {                    window.PLOTLYENV=window.PLOTLYENV || {};                                    if (document.getElementById(\"5a629f1f-319d-4812-8d09-994c9cdadd07\")) {                    Plotly.newPlot(                        \"5a629f1f-319d-4812-8d09-994c9cdadd07\",                        [{\"cliponaxis\":false,\"hovertemplate\":[\"min_samples_split (IntDistribution): 0.01611336785865112\\u003cextra\\u003e\\u003c\\u002fextra\\u003e\",\"n_estimators (IntDistribution): 0.03371309856983403\\u003cextra\\u003e\\u003c\\u002fextra\\u003e\",\"min_samples_leaf (IntDistribution): 0.05634663576169041\\u003cextra\\u003e\\u003c\\u002fextra\\u003e\",\"max_features (CategoricalDistribution): 0.06700816968578985\\u003cextra\\u003e\\u003c\\u002fextra\\u003e\",\"max_depth (IntDistribution): 0.8268187281240347\\u003cextra\\u003e\\u003c\\u002fextra\\u003e\"],\"name\":\"Objective Value\",\"orientation\":\"h\",\"text\":[\"0.02\",\"0.03\",\"0.06\",\"0.07\",\"0.83\"],\"textposition\":\"outside\",\"x\":[0.01611336785865112,0.03371309856983403,0.05634663576169041,0.06700816968578985,0.8268187281240347],\"y\":[\"min_samples_split\",\"n_estimators\",\"min_samples_leaf\",\"max_features\",\"max_depth\"],\"type\":\"bar\"}],                        {\"title\":{\"text\":\"Hyperparameter Importances\"},\"xaxis\":{\"title\":{\"text\":\"Hyperparameter Importance\"}},\"yaxis\":{\"title\":{\"text\":\"Hyperparameter\"}},\"template\":{\"data\":{\"histogram2dcontour\":[{\"type\":\"histogram2dcontour\",\"colorbar\":{\"outlinewidth\":0,\"ticks\":\"\"},\"colorscale\":[[0.0,\"#0d0887\"],[0.1111111111111111,\"#46039f\"],[0.2222222222222222,\"#7201a8\"],[0.3333333333333333,\"#9c179e\"],[0.4444444444444444,\"#bd3786\"],[0.5555555555555556,\"#d8576b\"],[0.6666666666666666,\"#ed7953\"],[0.7777777777777778,\"#fb9f3a\"],[0.8888888888888888,\"#fdca26\"],[1.0,\"#f0f921\"]]}],\"choropleth\":[{\"type\":\"choropleth\",\"colorbar\":{\"outlinewidth\":0,\"ticks\":\"\"}}],\"histogram2d\":[{\"type\":\"histogram2d\",\"colorbar\":{\"outlinewidth\":0,\"ticks\":\"\"},\"colorscale\":[[0.0,\"#0d0887\"],[0.1111111111111111,\"#46039f\"],[0.2222222222222222,\"#7201a8\"],[0.3333333333333333,\"#9c179e\"],[0.4444444444444444,\"#bd3786\"],[0.5555555555555556,\"#d8576b\"],[0.6666666666666666,\"#ed7953\"],[0.7777777777777778,\"#fb9f3a\"],[0.8888888888888888,\"#fdca26\"],[1.0,\"#f0f921\"]]}],\"heatmap\":[{\"type\":\"heatmap\",\"colorbar\":{\"outlinewidth\":0,\"ticks\":\"\"},\"colorscale\":[[0.0,\"#0d0887\"],[0.1111111111111111,\"#46039f\"],[0.2222222222222222,\"#7201a8\"],[0.3333333333333333,\"#9c179e\"],[0.4444444444444444,\"#bd3786\"],[0.5555555555555556,\"#d8576b\"],[0.6666666666666666,\"#ed7953\"],[0.7777777777777778,\"#fb9f3a\"],[0.8888888888888888,\"#fdca26\"],[1.0,\"#f0f921\"]]}],\"heatmapgl\":[{\"type\":\"heatmapgl\",\"colorbar\":{\"outlinewidth\":0,\"ticks\":\"\"},\"colorscale\":[[0.0,\"#0d0887\"],[0.1111111111111111,\"#46039f\"],[0.2222222222222222,\"#7201a8\"],[0.3333333333333333,\"#9c179e\"],[0.4444444444444444,\"#bd3786\"],[0.5555555555555556,\"#d8576b\"],[0.6666666666666666,\"#ed7953\"],[0.7777777777777778,\"#fb9f3a\"],[0.8888888888888888,\"#fdca26\"],[1.0,\"#f0f921\"]]}],\"contourcarpet\":[{\"type\":\"contourcarpet\",\"colorbar\":{\"outlinewidth\":0,\"ticks\":\"\"}}],\"contour\":[{\"type\":\"contour\",\"colorbar\":{\"outlinewidth\":0,\"ticks\":\"\"},\"colorscale\":[[0.0,\"#0d0887\"],[0.1111111111111111,\"#46039f\"],[0.2222222222222222,\"#7201a8\"],[0.3333333333333333,\"#9c179e\"],[0.4444444444444444,\"#bd3786\"],[0.5555555555555556,\"#d8576b\"],[0.6666666666666666,\"#ed7953\"],[0.7777777777777778,\"#fb9f3a\"],[0.8888888888888888,\"#fdca26\"],[1.0,\"#f0f921\"]]}],\"surface\":[{\"type\":\"surface\",\"colorbar\":{\"outlinewidth\":0,\"ticks\":\"\"},\"colorscale\":[[0.0,\"#0d0887\"],[0.1111111111111111,\"#46039f\"],[0.2222222222222222,\"#7201a8\"],[0.3333333333333333,\"#9c179e\"],[0.4444444444444444,\"#bd3786\"],[0.5555555555555556,\"#d8576b\"],[0.6666666666666666,\"#ed7953\"],[0.7777777777777778,\"#fb9f3a\"],[0.8888888888888888,\"#fdca26\"],[1.0,\"#f0f921\"]]}],\"mesh3d\":[{\"type\":\"mesh3d\",\"colorbar\":{\"outlinewidth\":0,\"ticks\":\"\"}}],\"scatter\":[{\"fillpattern\":{\"fillmode\":\"overlay\",\"size\":10,\"solidity\":0.2},\"type\":\"scatter\"}],\"parcoords\":[{\"type\":\"parcoords\",\"line\":{\"colorbar\":{\"outlinewidth\":0,\"ticks\":\"\"}}}],\"scatterpolargl\":[{\"type\":\"scatterpolargl\",\"marker\":{\"colorbar\":{\"outlinewidth\":0,\"ticks\":\"\"}}}],\"bar\":[{\"error_x\":{\"color\":\"#2a3f5f\"},\"error_y\":{\"color\":\"#2a3f5f\"},\"marker\":{\"line\":{\"color\":\"#E5ECF6\",\"width\":0.5},\"pattern\":{\"fillmode\":\"overlay\",\"size\":10,\"solidity\":0.2}},\"type\":\"bar\"}],\"scattergeo\":[{\"type\":\"scattergeo\",\"marker\":{\"colorbar\":{\"outlinewidth\":0,\"ticks\":\"\"}}}],\"scatterpolar\":[{\"type\":\"scatterpolar\",\"marker\":{\"colorbar\":{\"outlinewidth\":0,\"ticks\":\"\"}}}],\"histogram\":[{\"marker\":{\"pattern\":{\"fillmode\":\"overlay\",\"size\":10,\"solidity\":0.2}},\"type\":\"histogram\"}],\"scattergl\":[{\"type\":\"scattergl\",\"marker\":{\"colorbar\":{\"outlinewidth\":0,\"ticks\":\"\"}}}],\"scatter3d\":[{\"type\":\"scatter3d\",\"line\":{\"colorbar\":{\"outlinewidth\":0,\"ticks\":\"\"}},\"marker\":{\"colorbar\":{\"outlinewidth\":0,\"ticks\":\"\"}}}],\"scattermapbox\":[{\"type\":\"scattermapbox\",\"marker\":{\"colorbar\":{\"outlinewidth\":0,\"ticks\":\"\"}}}],\"scatterternary\":[{\"type\":\"scatterternary\",\"marker\":{\"colorbar\":{\"outlinewidth\":0,\"ticks\":\"\"}}}],\"scattercarpet\":[{\"type\":\"scattercarpet\",\"marker\":{\"colorbar\":{\"outlinewidth\":0,\"ticks\":\"\"}}}],\"carpet\":[{\"aaxis\":{\"endlinecolor\":\"#2a3f5f\",\"gridcolor\":\"white\",\"linecolor\":\"white\",\"minorgridcolor\":\"white\",\"startlinecolor\":\"#2a3f5f\"},\"baxis\":{\"endlinecolor\":\"#2a3f5f\",\"gridcolor\":\"white\",\"linecolor\":\"white\",\"minorgridcolor\":\"white\",\"startlinecolor\":\"#2a3f5f\"},\"type\":\"carpet\"}],\"table\":[{\"cells\":{\"fill\":{\"color\":\"#EBF0F8\"},\"line\":{\"color\":\"white\"}},\"header\":{\"fill\":{\"color\":\"#C8D4E3\"},\"line\":{\"color\":\"white\"}},\"type\":\"table\"}],\"barpolar\":[{\"marker\":{\"line\":{\"color\":\"#E5ECF6\",\"width\":0.5},\"pattern\":{\"fillmode\":\"overlay\",\"size\":10,\"solidity\":0.2}},\"type\":\"barpolar\"}],\"pie\":[{\"automargin\":true,\"type\":\"pie\"}]},\"layout\":{\"autotypenumbers\":\"strict\",\"colorway\":[\"#636efa\",\"#EF553B\",\"#00cc96\",\"#ab63fa\",\"#FFA15A\",\"#19d3f3\",\"#FF6692\",\"#B6E880\",\"#FF97FF\",\"#FECB52\"],\"font\":{\"color\":\"#2a3f5f\"},\"hovermode\":\"closest\",\"hoverlabel\":{\"align\":\"left\"},\"paper_bgcolor\":\"white\",\"plot_bgcolor\":\"#E5ECF6\",\"polar\":{\"bgcolor\":\"#E5ECF6\",\"angularaxis\":{\"gridcolor\":\"white\",\"linecolor\":\"white\",\"ticks\":\"\"},\"radialaxis\":{\"gridcolor\":\"white\",\"linecolor\":\"white\",\"ticks\":\"\"}},\"ternary\":{\"bgcolor\":\"#E5ECF6\",\"aaxis\":{\"gridcolor\":\"white\",\"linecolor\":\"white\",\"ticks\":\"\"},\"baxis\":{\"gridcolor\":\"white\",\"linecolor\":\"white\",\"ticks\":\"\"},\"caxis\":{\"gridcolor\":\"white\",\"linecolor\":\"white\",\"ticks\":\"\"}},\"coloraxis\":{\"colorbar\":{\"outlinewidth\":0,\"ticks\":\"\"}},\"colorscale\":{\"sequential\":[[0.0,\"#0d0887\"],[0.1111111111111111,\"#46039f\"],[0.2222222222222222,\"#7201a8\"],[0.3333333333333333,\"#9c179e\"],[0.4444444444444444,\"#bd3786\"],[0.5555555555555556,\"#d8576b\"],[0.6666666666666666,\"#ed7953\"],[0.7777777777777778,\"#fb9f3a\"],[0.8888888888888888,\"#fdca26\"],[1.0,\"#f0f921\"]],\"sequentialminus\":[[0.0,\"#0d0887\"],[0.1111111111111111,\"#46039f\"],[0.2222222222222222,\"#7201a8\"],[0.3333333333333333,\"#9c179e\"],[0.4444444444444444,\"#bd3786\"],[0.5555555555555556,\"#d8576b\"],[0.6666666666666666,\"#ed7953\"],[0.7777777777777778,\"#fb9f3a\"],[0.8888888888888888,\"#fdca26\"],[1.0,\"#f0f921\"]],\"diverging\":[[0,\"#8e0152\"],[0.1,\"#c51b7d\"],[0.2,\"#de77ae\"],[0.3,\"#f1b6da\"],[0.4,\"#fde0ef\"],[0.5,\"#f7f7f7\"],[0.6,\"#e6f5d0\"],[0.7,\"#b8e186\"],[0.8,\"#7fbc41\"],[0.9,\"#4d9221\"],[1,\"#276419\"]]},\"xaxis\":{\"gridcolor\":\"white\",\"linecolor\":\"white\",\"ticks\":\"\",\"title\":{\"standoff\":15},\"zerolinecolor\":\"white\",\"automargin\":true,\"zerolinewidth\":2},\"yaxis\":{\"gridcolor\":\"white\",\"linecolor\":\"white\",\"ticks\":\"\",\"title\":{\"standoff\":15},\"zerolinecolor\":\"white\",\"automargin\":true,\"zerolinewidth\":2},\"scene\":{\"xaxis\":{\"backgroundcolor\":\"#E5ECF6\",\"gridcolor\":\"white\",\"linecolor\":\"white\",\"showbackground\":true,\"ticks\":\"\",\"zerolinecolor\":\"white\",\"gridwidth\":2},\"yaxis\":{\"backgroundcolor\":\"#E5ECF6\",\"gridcolor\":\"white\",\"linecolor\":\"white\",\"showbackground\":true,\"ticks\":\"\",\"zerolinecolor\":\"white\",\"gridwidth\":2},\"zaxis\":{\"backgroundcolor\":\"#E5ECF6\",\"gridcolor\":\"white\",\"linecolor\":\"white\",\"showbackground\":true,\"ticks\":\"\",\"zerolinecolor\":\"white\",\"gridwidth\":2}},\"shapedefaults\":{\"line\":{\"color\":\"#2a3f5f\"}},\"annotationdefaults\":{\"arrowcolor\":\"#2a3f5f\",\"arrowhead\":0,\"arrowwidth\":1},\"geo\":{\"bgcolor\":\"white\",\"landcolor\":\"#E5ECF6\",\"subunitcolor\":\"white\",\"showland\":true,\"showlakes\":true,\"lakecolor\":\"white\"},\"title\":{\"x\":0.05},\"mapbox\":{\"style\":\"light\"}}}},                        {\"responsive\": true}                    ).then(function(){\n",
       "                            \n",
       "var gd = document.getElementById('5a629f1f-319d-4812-8d09-994c9cdadd07');\n",
       "var x = new MutationObserver(function (mutations, observer) {{\n",
       "        var display = window.getComputedStyle(gd).display;\n",
       "        if (!display || display === 'none') {{\n",
       "            console.log([gd, 'removed!']);\n",
       "            Plotly.purge(gd);\n",
       "            observer.disconnect();\n",
       "        }}\n",
       "}});\n",
       "\n",
       "// Listen for the removal of the full notebook cells\n",
       "var notebookContainer = gd.closest('#notebook-container');\n",
       "if (notebookContainer) {{\n",
       "    x.observe(notebookContainer, {childList: true});\n",
       "}}\n",
       "\n",
       "// Listen for the clearing of the current output cell\n",
       "var outputEl = gd.closest('.output');\n",
       "if (outputEl) {{\n",
       "    x.observe(outputEl, {childList: true});\n",
       "}}\n",
       "\n",
       "                        })                };                });            </script>        </div>"
      ]
     },
     "metadata": {},
     "output_type": "display_data"
    }
   ],
   "execution_count": 259
  },
  {
   "cell_type": "markdown",
   "id": "5e6302fa070161ef",
   "metadata": {},
   "source": [
    "#### Model Training"
   ]
  },
  {
   "cell_type": "code",
   "id": "858471111e5946f0",
   "metadata": {
    "ExecuteTime": {
     "end_time": "2024-12-11T23:16:32.745334Z",
     "start_time": "2024-12-11T23:16:32.698311Z"
    }
   },
   "source": [
    "# Get the best hyperparameters\n",
    "best_params_rf = study_rf.best_params"
   ],
   "outputs": [],
   "execution_count": 260
  },
  {
   "metadata": {
    "ExecuteTime": {
     "end_time": "2024-12-11T23:16:34.222194Z",
     "start_time": "2024-12-11T23:16:34.189996Z"
    }
   },
   "cell_type": "code",
   "source": [
    "# Create the Random Forest model with best hyperparameters\n",
    "rf = RandomForestRegressor(\n",
    "    n_estimators=best_params_rf['n_estimators'],\n",
    "    max_depth=best_params_rf['max_depth'],\n",
    "    min_samples_split=best_params_rf['min_samples_split'],\n",
    "    min_samples_leaf=best_params_rf['min_samples_leaf'],\n",
    "    max_features=best_params_rf['max_features'],\n",
    "    random_state=42\n",
    ")"
   ],
   "id": "fe5a5c9343b11903",
   "outputs": [],
   "execution_count": 261
  },
  {
   "metadata": {
    "ExecuteTime": {
     "end_time": "2024-12-11T23:16:36.100736Z",
     "start_time": "2024-12-11T23:16:35.916792Z"
    }
   },
   "cell_type": "code",
   "source": [
    "# Fit the model\n",
    "rf.fit(X_train, y_train)"
   ],
   "id": "9fd3504a2a972b37",
   "outputs": [
    {
     "data": {
      "text/plain": [
       "RandomForestRegressor(max_depth=8, max_features='log2', min_samples_split=7,\n",
       "                      n_estimators=178, random_state=42)"
      ],
      "text/html": [
       "<style>#sk-container-id-19 {\n",
       "  /* Definition of color scheme common for light and dark mode */\n",
       "  --sklearn-color-text: black;\n",
       "  --sklearn-color-line: gray;\n",
       "  /* Definition of color scheme for unfitted estimators */\n",
       "  --sklearn-color-unfitted-level-0: #fff5e6;\n",
       "  --sklearn-color-unfitted-level-1: #f6e4d2;\n",
       "  --sklearn-color-unfitted-level-2: #ffe0b3;\n",
       "  --sklearn-color-unfitted-level-3: chocolate;\n",
       "  /* Definition of color scheme for fitted estimators */\n",
       "  --sklearn-color-fitted-level-0: #f0f8ff;\n",
       "  --sklearn-color-fitted-level-1: #d4ebff;\n",
       "  --sklearn-color-fitted-level-2: #b3dbfd;\n",
       "  --sklearn-color-fitted-level-3: cornflowerblue;\n",
       "\n",
       "  /* Specific color for light theme */\n",
       "  --sklearn-color-text-on-default-background: var(--sg-text-color, var(--theme-code-foreground, var(--jp-content-font-color1, black)));\n",
       "  --sklearn-color-background: var(--sg-background-color, var(--theme-background, var(--jp-layout-color0, white)));\n",
       "  --sklearn-color-border-box: var(--sg-text-color, var(--theme-code-foreground, var(--jp-content-font-color1, black)));\n",
       "  --sklearn-color-icon: #696969;\n",
       "\n",
       "  @media (prefers-color-scheme: dark) {\n",
       "    /* Redefinition of color scheme for dark theme */\n",
       "    --sklearn-color-text-on-default-background: var(--sg-text-color, var(--theme-code-foreground, var(--jp-content-font-color1, white)));\n",
       "    --sklearn-color-background: var(--sg-background-color, var(--theme-background, var(--jp-layout-color0, #111)));\n",
       "    --sklearn-color-border-box: var(--sg-text-color, var(--theme-code-foreground, var(--jp-content-font-color1, white)));\n",
       "    --sklearn-color-icon: #878787;\n",
       "  }\n",
       "}\n",
       "\n",
       "#sk-container-id-19 {\n",
       "  color: var(--sklearn-color-text);\n",
       "}\n",
       "\n",
       "#sk-container-id-19 pre {\n",
       "  padding: 0;\n",
       "}\n",
       "\n",
       "#sk-container-id-19 input.sk-hidden--visually {\n",
       "  border: 0;\n",
       "  clip: rect(1px 1px 1px 1px);\n",
       "  clip: rect(1px, 1px, 1px, 1px);\n",
       "  height: 1px;\n",
       "  margin: -1px;\n",
       "  overflow: hidden;\n",
       "  padding: 0;\n",
       "  position: absolute;\n",
       "  width: 1px;\n",
       "}\n",
       "\n",
       "#sk-container-id-19 div.sk-dashed-wrapped {\n",
       "  border: 1px dashed var(--sklearn-color-line);\n",
       "  margin: 0 0.4em 0.5em 0.4em;\n",
       "  box-sizing: border-box;\n",
       "  padding-bottom: 0.4em;\n",
       "  background-color: var(--sklearn-color-background);\n",
       "}\n",
       "\n",
       "#sk-container-id-19 div.sk-container {\n",
       "  /* jupyter's `normalize.less` sets `[hidden] { display: none; }`\n",
       "     but bootstrap.min.css set `[hidden] { display: none !important; }`\n",
       "     so we also need the `!important` here to be able to override the\n",
       "     default hidden behavior on the sphinx rendered scikit-learn.org.\n",
       "     See: https://github.com/scikit-learn/scikit-learn/issues/21755 */\n",
       "  display: inline-block !important;\n",
       "  position: relative;\n",
       "}\n",
       "\n",
       "#sk-container-id-19 div.sk-text-repr-fallback {\n",
       "  display: none;\n",
       "}\n",
       "\n",
       "div.sk-parallel-item,\n",
       "div.sk-serial,\n",
       "div.sk-item {\n",
       "  /* draw centered vertical line to link estimators */\n",
       "  background-image: linear-gradient(var(--sklearn-color-text-on-default-background), var(--sklearn-color-text-on-default-background));\n",
       "  background-size: 2px 100%;\n",
       "  background-repeat: no-repeat;\n",
       "  background-position: center center;\n",
       "}\n",
       "\n",
       "/* Parallel-specific style estimator block */\n",
       "\n",
       "#sk-container-id-19 div.sk-parallel-item::after {\n",
       "  content: \"\";\n",
       "  width: 100%;\n",
       "  border-bottom: 2px solid var(--sklearn-color-text-on-default-background);\n",
       "  flex-grow: 1;\n",
       "}\n",
       "\n",
       "#sk-container-id-19 div.sk-parallel {\n",
       "  display: flex;\n",
       "  align-items: stretch;\n",
       "  justify-content: center;\n",
       "  background-color: var(--sklearn-color-background);\n",
       "  position: relative;\n",
       "}\n",
       "\n",
       "#sk-container-id-19 div.sk-parallel-item {\n",
       "  display: flex;\n",
       "  flex-direction: column;\n",
       "}\n",
       "\n",
       "#sk-container-id-19 div.sk-parallel-item:first-child::after {\n",
       "  align-self: flex-end;\n",
       "  width: 50%;\n",
       "}\n",
       "\n",
       "#sk-container-id-19 div.sk-parallel-item:last-child::after {\n",
       "  align-self: flex-start;\n",
       "  width: 50%;\n",
       "}\n",
       "\n",
       "#sk-container-id-19 div.sk-parallel-item:only-child::after {\n",
       "  width: 0;\n",
       "}\n",
       "\n",
       "/* Serial-specific style estimator block */\n",
       "\n",
       "#sk-container-id-19 div.sk-serial {\n",
       "  display: flex;\n",
       "  flex-direction: column;\n",
       "  align-items: center;\n",
       "  background-color: var(--sklearn-color-background);\n",
       "  padding-right: 1em;\n",
       "  padding-left: 1em;\n",
       "}\n",
       "\n",
       "\n",
       "/* Toggleable style: style used for estimator/Pipeline/ColumnTransformer box that is\n",
       "clickable and can be expanded/collapsed.\n",
       "- Pipeline and ColumnTransformer use this feature and define the default style\n",
       "- Estimators will overwrite some part of the style using the `sk-estimator` class\n",
       "*/\n",
       "\n",
       "/* Pipeline and ColumnTransformer style (default) */\n",
       "\n",
       "#sk-container-id-19 div.sk-toggleable {\n",
       "  /* Default theme specific background. It is overwritten whether we have a\n",
       "  specific estimator or a Pipeline/ColumnTransformer */\n",
       "  background-color: var(--sklearn-color-background);\n",
       "}\n",
       "\n",
       "/* Toggleable label */\n",
       "#sk-container-id-19 label.sk-toggleable__label {\n",
       "  cursor: pointer;\n",
       "  display: block;\n",
       "  width: 100%;\n",
       "  margin-bottom: 0;\n",
       "  padding: 0.5em;\n",
       "  box-sizing: border-box;\n",
       "  text-align: center;\n",
       "}\n",
       "\n",
       "#sk-container-id-19 label.sk-toggleable__label-arrow:before {\n",
       "  /* Arrow on the left of the label */\n",
       "  content: \"▸\";\n",
       "  float: left;\n",
       "  margin-right: 0.25em;\n",
       "  color: var(--sklearn-color-icon);\n",
       "}\n",
       "\n",
       "#sk-container-id-19 label.sk-toggleable__label-arrow:hover:before {\n",
       "  color: var(--sklearn-color-text);\n",
       "}\n",
       "\n",
       "/* Toggleable content - dropdown */\n",
       "\n",
       "#sk-container-id-19 div.sk-toggleable__content {\n",
       "  max-height: 0;\n",
       "  max-width: 0;\n",
       "  overflow: hidden;\n",
       "  text-align: left;\n",
       "  /* unfitted */\n",
       "  background-color: var(--sklearn-color-unfitted-level-0);\n",
       "}\n",
       "\n",
       "#sk-container-id-19 div.sk-toggleable__content.fitted {\n",
       "  /* fitted */\n",
       "  background-color: var(--sklearn-color-fitted-level-0);\n",
       "}\n",
       "\n",
       "#sk-container-id-19 div.sk-toggleable__content pre {\n",
       "  margin: 0.2em;\n",
       "  border-radius: 0.25em;\n",
       "  color: var(--sklearn-color-text);\n",
       "  /* unfitted */\n",
       "  background-color: var(--sklearn-color-unfitted-level-0);\n",
       "}\n",
       "\n",
       "#sk-container-id-19 div.sk-toggleable__content.fitted pre {\n",
       "  /* unfitted */\n",
       "  background-color: var(--sklearn-color-fitted-level-0);\n",
       "}\n",
       "\n",
       "#sk-container-id-19 input.sk-toggleable__control:checked~div.sk-toggleable__content {\n",
       "  /* Expand drop-down */\n",
       "  max-height: 200px;\n",
       "  max-width: 100%;\n",
       "  overflow: auto;\n",
       "}\n",
       "\n",
       "#sk-container-id-19 input.sk-toggleable__control:checked~label.sk-toggleable__label-arrow:before {\n",
       "  content: \"▾\";\n",
       "}\n",
       "\n",
       "/* Pipeline/ColumnTransformer-specific style */\n",
       "\n",
       "#sk-container-id-19 div.sk-label input.sk-toggleable__control:checked~label.sk-toggleable__label {\n",
       "  color: var(--sklearn-color-text);\n",
       "  background-color: var(--sklearn-color-unfitted-level-2);\n",
       "}\n",
       "\n",
       "#sk-container-id-19 div.sk-label.fitted input.sk-toggleable__control:checked~label.sk-toggleable__label {\n",
       "  background-color: var(--sklearn-color-fitted-level-2);\n",
       "}\n",
       "\n",
       "/* Estimator-specific style */\n",
       "\n",
       "/* Colorize estimator box */\n",
       "#sk-container-id-19 div.sk-estimator input.sk-toggleable__control:checked~label.sk-toggleable__label {\n",
       "  /* unfitted */\n",
       "  background-color: var(--sklearn-color-unfitted-level-2);\n",
       "}\n",
       "\n",
       "#sk-container-id-19 div.sk-estimator.fitted input.sk-toggleable__control:checked~label.sk-toggleable__label {\n",
       "  /* fitted */\n",
       "  background-color: var(--sklearn-color-fitted-level-2);\n",
       "}\n",
       "\n",
       "#sk-container-id-19 div.sk-label label.sk-toggleable__label,\n",
       "#sk-container-id-19 div.sk-label label {\n",
       "  /* The background is the default theme color */\n",
       "  color: var(--sklearn-color-text-on-default-background);\n",
       "}\n",
       "\n",
       "/* On hover, darken the color of the background */\n",
       "#sk-container-id-19 div.sk-label:hover label.sk-toggleable__label {\n",
       "  color: var(--sklearn-color-text);\n",
       "  background-color: var(--sklearn-color-unfitted-level-2);\n",
       "}\n",
       "\n",
       "/* Label box, darken color on hover, fitted */\n",
       "#sk-container-id-19 div.sk-label.fitted:hover label.sk-toggleable__label.fitted {\n",
       "  color: var(--sklearn-color-text);\n",
       "  background-color: var(--sklearn-color-fitted-level-2);\n",
       "}\n",
       "\n",
       "/* Estimator label */\n",
       "\n",
       "#sk-container-id-19 div.sk-label label {\n",
       "  font-family: monospace;\n",
       "  font-weight: bold;\n",
       "  display: inline-block;\n",
       "  line-height: 1.2em;\n",
       "}\n",
       "\n",
       "#sk-container-id-19 div.sk-label-container {\n",
       "  text-align: center;\n",
       "}\n",
       "\n",
       "/* Estimator-specific */\n",
       "#sk-container-id-19 div.sk-estimator {\n",
       "  font-family: monospace;\n",
       "  border: 1px dotted var(--sklearn-color-border-box);\n",
       "  border-radius: 0.25em;\n",
       "  box-sizing: border-box;\n",
       "  margin-bottom: 0.5em;\n",
       "  /* unfitted */\n",
       "  background-color: var(--sklearn-color-unfitted-level-0);\n",
       "}\n",
       "\n",
       "#sk-container-id-19 div.sk-estimator.fitted {\n",
       "  /* fitted */\n",
       "  background-color: var(--sklearn-color-fitted-level-0);\n",
       "}\n",
       "\n",
       "/* on hover */\n",
       "#sk-container-id-19 div.sk-estimator:hover {\n",
       "  /* unfitted */\n",
       "  background-color: var(--sklearn-color-unfitted-level-2);\n",
       "}\n",
       "\n",
       "#sk-container-id-19 div.sk-estimator.fitted:hover {\n",
       "  /* fitted */\n",
       "  background-color: var(--sklearn-color-fitted-level-2);\n",
       "}\n",
       "\n",
       "/* Specification for estimator info (e.g. \"i\" and \"?\") */\n",
       "\n",
       "/* Common style for \"i\" and \"?\" */\n",
       "\n",
       ".sk-estimator-doc-link,\n",
       "a:link.sk-estimator-doc-link,\n",
       "a:visited.sk-estimator-doc-link {\n",
       "  float: right;\n",
       "  font-size: smaller;\n",
       "  line-height: 1em;\n",
       "  font-family: monospace;\n",
       "  background-color: var(--sklearn-color-background);\n",
       "  border-radius: 1em;\n",
       "  height: 1em;\n",
       "  width: 1em;\n",
       "  text-decoration: none !important;\n",
       "  margin-left: 1ex;\n",
       "  /* unfitted */\n",
       "  border: var(--sklearn-color-unfitted-level-1) 1pt solid;\n",
       "  color: var(--sklearn-color-unfitted-level-1);\n",
       "}\n",
       "\n",
       ".sk-estimator-doc-link.fitted,\n",
       "a:link.sk-estimator-doc-link.fitted,\n",
       "a:visited.sk-estimator-doc-link.fitted {\n",
       "  /* fitted */\n",
       "  border: var(--sklearn-color-fitted-level-1) 1pt solid;\n",
       "  color: var(--sklearn-color-fitted-level-1);\n",
       "}\n",
       "\n",
       "/* On hover */\n",
       "div.sk-estimator:hover .sk-estimator-doc-link:hover,\n",
       ".sk-estimator-doc-link:hover,\n",
       "div.sk-label-container:hover .sk-estimator-doc-link:hover,\n",
       ".sk-estimator-doc-link:hover {\n",
       "  /* unfitted */\n",
       "  background-color: var(--sklearn-color-unfitted-level-3);\n",
       "  color: var(--sklearn-color-background);\n",
       "  text-decoration: none;\n",
       "}\n",
       "\n",
       "div.sk-estimator.fitted:hover .sk-estimator-doc-link.fitted:hover,\n",
       ".sk-estimator-doc-link.fitted:hover,\n",
       "div.sk-label-container:hover .sk-estimator-doc-link.fitted:hover,\n",
       ".sk-estimator-doc-link.fitted:hover {\n",
       "  /* fitted */\n",
       "  background-color: var(--sklearn-color-fitted-level-3);\n",
       "  color: var(--sklearn-color-background);\n",
       "  text-decoration: none;\n",
       "}\n",
       "\n",
       "/* Span, style for the box shown on hovering the info icon */\n",
       ".sk-estimator-doc-link span {\n",
       "  display: none;\n",
       "  z-index: 9999;\n",
       "  position: relative;\n",
       "  font-weight: normal;\n",
       "  right: .2ex;\n",
       "  padding: .5ex;\n",
       "  margin: .5ex;\n",
       "  width: min-content;\n",
       "  min-width: 20ex;\n",
       "  max-width: 50ex;\n",
       "  color: var(--sklearn-color-text);\n",
       "  box-shadow: 2pt 2pt 4pt #999;\n",
       "  /* unfitted */\n",
       "  background: var(--sklearn-color-unfitted-level-0);\n",
       "  border: .5pt solid var(--sklearn-color-unfitted-level-3);\n",
       "}\n",
       "\n",
       ".sk-estimator-doc-link.fitted span {\n",
       "  /* fitted */\n",
       "  background: var(--sklearn-color-fitted-level-0);\n",
       "  border: var(--sklearn-color-fitted-level-3);\n",
       "}\n",
       "\n",
       ".sk-estimator-doc-link:hover span {\n",
       "  display: block;\n",
       "}\n",
       "\n",
       "/* \"?\"-specific style due to the `<a>` HTML tag */\n",
       "\n",
       "#sk-container-id-19 a.estimator_doc_link {\n",
       "  float: right;\n",
       "  font-size: 1rem;\n",
       "  line-height: 1em;\n",
       "  font-family: monospace;\n",
       "  background-color: var(--sklearn-color-background);\n",
       "  border-radius: 1rem;\n",
       "  height: 1rem;\n",
       "  width: 1rem;\n",
       "  text-decoration: none;\n",
       "  /* unfitted */\n",
       "  color: var(--sklearn-color-unfitted-level-1);\n",
       "  border: var(--sklearn-color-unfitted-level-1) 1pt solid;\n",
       "}\n",
       "\n",
       "#sk-container-id-19 a.estimator_doc_link.fitted {\n",
       "  /* fitted */\n",
       "  border: var(--sklearn-color-fitted-level-1) 1pt solid;\n",
       "  color: var(--sklearn-color-fitted-level-1);\n",
       "}\n",
       "\n",
       "/* On hover */\n",
       "#sk-container-id-19 a.estimator_doc_link:hover {\n",
       "  /* unfitted */\n",
       "  background-color: var(--sklearn-color-unfitted-level-3);\n",
       "  color: var(--sklearn-color-background);\n",
       "  text-decoration: none;\n",
       "}\n",
       "\n",
       "#sk-container-id-19 a.estimator_doc_link.fitted:hover {\n",
       "  /* fitted */\n",
       "  background-color: var(--sklearn-color-fitted-level-3);\n",
       "}\n",
       "</style><div id=\"sk-container-id-19\" class=\"sk-top-container\"><div class=\"sk-text-repr-fallback\"><pre>RandomForestRegressor(max_depth=8, max_features=&#x27;log2&#x27;, min_samples_split=7,\n",
       "                      n_estimators=178, random_state=42)</pre><b>In a Jupyter environment, please rerun this cell to show the HTML representation or trust the notebook. <br />On GitHub, the HTML representation is unable to render, please try loading this page with nbviewer.org.</b></div><div class=\"sk-container\" hidden><div class=\"sk-item\"><div class=\"sk-estimator fitted sk-toggleable\"><input class=\"sk-toggleable__control sk-hidden--visually\" id=\"sk-estimator-id-31\" type=\"checkbox\" checked><label for=\"sk-estimator-id-31\" class=\"sk-toggleable__label fitted sk-toggleable__label-arrow fitted\">&nbsp;&nbsp;RandomForestRegressor<a class=\"sk-estimator-doc-link fitted\" rel=\"noreferrer\" target=\"_blank\" href=\"https://scikit-learn.org/1.5/modules/generated/sklearn.ensemble.RandomForestRegressor.html\">?<span>Documentation for RandomForestRegressor</span></a><span class=\"sk-estimator-doc-link fitted\">i<span>Fitted</span></span></label><div class=\"sk-toggleable__content fitted\"><pre>RandomForestRegressor(max_depth=8, max_features=&#x27;log2&#x27;, min_samples_split=7,\n",
       "                      n_estimators=178, random_state=42)</pre></div> </div></div></div></div>"
      ]
     },
     "execution_count": 262,
     "metadata": {},
     "output_type": "execute_result"
    }
   ],
   "execution_count": 262
  },
  {
   "cell_type": "markdown",
   "id": "40d79e7526eda5a6",
   "metadata": {},
   "source": [
    "#### Model Evaluation"
   ]
  },
  {
   "cell_type": "code",
   "id": "e89ebfc968d0d822",
   "metadata": {
    "ExecuteTime": {
     "end_time": "2024-12-11T23:16:37.599068Z",
     "start_time": "2024-12-11T23:16:37.556230Z"
    }
   },
   "source": [
    "y_pred_rf_train = rf.predict(X_train)\n",
    "y_pred_rf_test = rf.predict(X_test)"
   ],
   "outputs": [],
   "execution_count": 263
  },
  {
   "metadata": {
    "ExecuteTime": {
     "end_time": "2024-12-11T23:16:40.499974Z",
     "start_time": "2024-12-11T23:16:40.329186Z"
    }
   },
   "cell_type": "code",
   "source": [
    "# plot top 10 features\n",
    "plt.figure(figsize=(10, 6))\n",
    "plt.barh(X.columns[np.argsort(rf.feature_importances_)[::-1][:10]],\n",
    "         rf.feature_importances_[np.argsort(rf.feature_importances_)[::-1][:10]])\n",
    "plt.xlabel('Feature Importance')\n",
    "plt.ylabel('Feature')\n",
    "plt.title('Top 10 Features')\n",
    "plt.show()"
   ],
   "id": "7b3a3f805c3dd13c",
   "outputs": [
    {
     "data": {
      "text/plain": [
       "<Figure size 1000x600 with 1 Axes>"
      ],
      "image/png": "[encoded data removed]"
     },
     "metadata": {},
     "output_type": "display_data"
    }
   ],
   "execution_count": 264
  },
  {
   "metadata": {},
   "cell_type": "markdown",
   "source": "#### Model Saving",
   "id": "522b9b4e5ad19bc1"
  },
  {
   "metadata": {
    "ExecuteTime": {
     "end_time": "2024-12-11T23:16:43.081245Z",
     "start_time": "2024-12-11T23:16:43.034831Z"
    }
   },
   "cell_type": "code",
   "source": [
    "# Save the model\n",
    "pickle.dump(rf, open('../models/AVB_rf.pkl', 'wb'))"
   ],
   "id": "41e0df9cecb21ae9",
   "outputs": [],
   "execution_count": 265
  },
  {
   "cell_type": "markdown",
   "id": "618b0297-996f-4b05-9226-6e9154f89154",
   "metadata": {},
   "source": [
    "### AdaBoost"
   ]
  },
  {
   "cell_type": "markdown",
   "id": "a428d8a4-abf0-4462-8b78-2669917d0502",
   "metadata": {},
   "source": [
    "#### Hyperparameter Tuning"
   ]
  },
  {
   "cell_type": "code",
   "id": "10fc7a7eb9f6bce4",
   "metadata": {
    "ExecuteTime": {
     "end_time": "2024-12-11T23:16:46.504636Z",
     "start_time": "2024-12-11T23:16:46.470127Z"
    }
   },
   "source": [
    "def objective(trial):\n",
    "    # Hyperparameter search space for the base Decision Tree\n",
    "    max_depth = trial.suggest_int('max_depth', 1, 2)  # Depth of the tree\n",
    "    min_samples_split = trial.suggest_int('min_samples_split', 2, 10)  # Minimum samples to split a node\n",
    "    min_samples_leaf = trial.suggest_int('min_samples_leaf', 1, 10)  # Minimum samples in a leaf node\n",
    "    max_features = trial.suggest_categorical('max_features',\n",
    "                                             [None, 'sqrt', 'log2'])  # Features to consider for splitting\n",
    "\n",
    "    # Hyperparameter search space for AdaBoost\n",
    "    n_estimators = trial.suggest_int('n_estimators', 50, 500)\n",
    "    learning_rate = trial.suggest_float('learning_rate', 0.01, 1.0, log=True)\n",
    "\n",
    "    # Define the base estimator (Decision Tree)\n",
    "    base_estimator = DecisionTreeRegressor(\n",
    "        max_depth=max_depth,\n",
    "        min_samples_split=min_samples_split,\n",
    "        min_samples_leaf=min_samples_leaf,\n",
    "        max_features=max_features,\n",
    "        random_state=42\n",
    "    )\n",
    "\n",
    "    # Define the AdaBoost model\n",
    "    model = AdaBoostRegressor(\n",
    "        estimator=base_estimator,\n",
    "        n_estimators=n_estimators,\n",
    "        learning_rate=learning_rate,\n",
    "        random_state=42\n",
    "    )\n",
    "\n",
    "    scores = cross_val_score(model, X_train, y_train, scoring=scorer, cv=cv, n_jobs=-1)\n",
    "\n",
    "    return -scores.mean()"
   ],
   "outputs": [],
   "execution_count": 266
  },
  {
   "metadata": {
    "ExecuteTime": {
     "end_time": "2024-12-11T23:17:15.516956Z",
     "start_time": "2024-12-11T23:17:00.672530Z"
    }
   },
   "cell_type": "code",
   "source": [
    "# Optimize hyperparameters\n",
    "study_ada = optuna.create_study(direction='minimize', study_name='ada_tuning')\n",
    "study_ada.optimize(objective, n_trials=n_trials, show_progress_bar=True)"
   ],
   "id": "37d56a2a2f15f7ea",
   "outputs": [
    {
     "name": "stderr",
     "output_type": "stream",
     "text": [
      "[I 2024-12-11 18:17:00,695] A new study created in memory with name: ada_tuning\n"
     ]
    },
    {
     "data": {
      "text/plain": [
       "  0%|          | 0/15 [00:00<?, ?it/s]"
      ],
      "application/vnd.jupyter.widget-view+json": {
       "version_major": 2,
       "version_minor": 0,
       "model_id": "0290b53015254f2b8993537da35e6174"
      }
     },
     "metadata": {},
     "output_type": "display_data"
    },
    {
     "name": "stdout",
     "output_type": "stream",
     "text": [
      "[I 2024-12-11 18:17:01,347] Trial 0 finished with value: 16.654365221076283 and parameters: {'max_depth': 1, 'min_samples_split': 10, 'min_samples_leaf': 8, 'max_features': None, 'n_estimators': 253, 'learning_rate': 0.18462302997282}. Best is trial 0 with value: 16.654365221076283.\n",
      "[I 2024-12-11 18:17:03,527] Trial 1 finished with value: 16.758405674570703 and parameters: {'max_depth': 1, 'min_samples_split': 8, 'min_samples_leaf': 1, 'max_features': None, 'n_estimators': 230, 'learning_rate': 0.03869707256697967}. Best is trial 0 with value: 16.654365221076283.\n",
      "[I 2024-12-11 18:17:03,733] Trial 2 finished with value: 16.446005325758083 and parameters: {'max_depth': 1, 'min_samples_split': 10, 'min_samples_leaf': 10, 'max_features': None, 'n_estimators': 167, 'learning_rate': 0.44337383131555497}. Best is trial 2 with value: 16.446005325758083.\n",
      "[I 2024-12-11 18:17:04,507] Trial 3 finished with value: 11.04658875536238 and parameters: {'max_depth': 2, 'min_samples_split': 9, 'min_samples_leaf': 3, 'max_features': 'log2', 'n_estimators': 140, 'learning_rate': 0.08162275504582082}. Best is trial 3 with value: 11.04658875536238.\n",
      "[I 2024-12-11 18:17:04,789] Trial 4 finished with value: 16.900634371941486 and parameters: {'max_depth': 1, 'min_samples_split': 4, 'min_samples_leaf': 3, 'max_features': 'log2', 'n_estimators': 274, 'learning_rate': 0.2574057013229784}. Best is trial 3 with value: 11.04658875536238.\n",
      "[I 2024-12-11 18:17:05,338] Trial 5 finished with value: 16.86765187128744 and parameters: {'max_depth': 1, 'min_samples_split': 8, 'min_samples_leaf': 4, 'max_features': 'sqrt', 'n_estimators': 100, 'learning_rate': 0.018072086540840714}. Best is trial 3 with value: 11.04658875536238.\n",
      "[I 2024-12-11 18:17:06,342] Trial 6 finished with value: 10.019246302988806 and parameters: {'max_depth': 2, 'min_samples_split': 9, 'min_samples_leaf': 2, 'max_features': 'log2', 'n_estimators': 319, 'learning_rate': 0.4283922217044172}. Best is trial 6 with value: 10.019246302988806.\n",
      "[I 2024-12-11 18:17:07,174] Trial 7 finished with value: 11.354342015041762 and parameters: {'max_depth': 2, 'min_samples_split': 7, 'min_samples_leaf': 7, 'max_features': 'sqrt', 'n_estimators': 152, 'learning_rate': 0.01730058055619367}. Best is trial 6 with value: 10.019246302988806.\n",
      "[I 2024-12-11 18:17:07,414] Trial 8 finished with value: 16.97690868991748 and parameters: {'max_depth': 1, 'min_samples_split': 10, 'min_samples_leaf': 9, 'max_features': 'sqrt', 'n_estimators': 274, 'learning_rate': 0.16966682489252277}. Best is trial 6 with value: 10.019246302988806.\n",
      "[I 2024-12-11 18:17:08,577] Trial 9 finished with value: 16.79293524420726 and parameters: {'max_depth': 1, 'min_samples_split': 9, 'min_samples_leaf': 1, 'max_features': 'log2', 'n_estimators': 239, 'learning_rate': 0.025793359751061572}. Best is trial 6 with value: 10.019246302988806.\n",
      "[I 2024-12-11 18:17:09,833] Trial 10 finished with value: 10.184855762847512 and parameters: {'max_depth': 2, 'min_samples_split': 5, 'min_samples_leaf': 5, 'max_features': 'log2', 'n_estimators': 421, 'learning_rate': 0.9650711947004278}. Best is trial 6 with value: 10.019246302988806.\n",
      "[I 2024-12-11 18:17:11,239] Trial 11 finished with value: 9.907620586059576 and parameters: {'max_depth': 2, 'min_samples_split': 5, 'min_samples_leaf': 6, 'max_features': 'log2', 'n_estimators': 422, 'learning_rate': 0.9482186965972486}. Best is trial 11 with value: 9.907620586059576.\n",
      "[I 2024-12-11 18:17:12,554] Trial 12 finished with value: 10.060972293339528 and parameters: {'max_depth': 2, 'min_samples_split': 2, 'min_samples_leaf': 6, 'max_features': 'log2', 'n_estimators': 408, 'learning_rate': 0.9832446463412007}. Best is trial 11 with value: 9.907620586059576.\n",
      "[I 2024-12-11 18:17:14,193] Trial 13 finished with value: 9.882419197708654 and parameters: {'max_depth': 2, 'min_samples_split': 6, 'min_samples_leaf': 6, 'max_features': 'log2', 'n_estimators': 493, 'learning_rate': 0.4479332664418882}. Best is trial 13 with value: 9.882419197708654.\n",
      "[I 2024-12-11 18:17:15,513] Trial 14 finished with value: 10.137798661437904 and parameters: {'max_depth': 2, 'min_samples_split': 5, 'min_samples_leaf': 6, 'max_features': 'log2', 'n_estimators': 498, 'learning_rate': 0.5016740349961217}. Best is trial 13 with value: 9.882419197708654.\n"
     ]
    }
   ],
   "execution_count": 267
  },
  {
   "metadata": {
    "ExecuteTime": {
     "end_time": "2024-12-11T23:17:16.725120Z",
     "start_time": "2024-12-11T23:17:16.539903Z"
    }
   },
   "cell_type": "code",
   "source": [
    "# Visualizations\n",
    "vis.plot_optimization_history(study_ada).show()\n",
    "vis.plot_param_importances(study_ada).show()"
   ],
   "id": "3503710e9d16913b",
   "outputs": [
    {
     "data": {
      "application/vnd.plotly.v1+json": {
       "data": [
        {
         "mode": "markers",
         "name": "Objective Value",
         "x": [
          0,
          1,
          2,
          3,
          4,
          5,
          6,
          7,
          8,
          9,
          10,
          11,
          12,
          13,
          14
         ],
         "y": [
          16.654365221076283,
          16.758405674570703,
          16.446005325758083,
          11.04658875536238,
          16.900634371941486,
          16.86765187128744,
          10.019246302988806,
          11.354342015041762,
          16.97690868991748,
          16.79293524420726,
          10.184855762847512,
          9.907620586059576,
          10.060972293339528,
          9.882419197708654,
          10.137798661437904
         ],
         "type": "scatter"
        },
        {
         "mode": "lines",
         "name": "Best Value",
         "x": [
          0,
          1,
          2,
          3,
          4,
          5,
          6,
          7,
          8,
          9,
          10,
          11,
          12,
          13,
          14
         ],
         "y": [
          16.654365221076283,
          16.654365221076283,
          16.446005325758083,
          11.04658875536238,
          11.04658875536238,
          11.04658875536238,
          10.019246302988806,
          10.019246302988806,
          10.019246302988806,
          10.019246302988806,
          10.019246302988806,
          9.907620586059576,
          9.907620586059576,
          9.882419197708654,
          9.882419197708654
         ],
         "type": "scatter"
        },
        {
         "marker": {
          "color": "#cccccc"
         },
         "mode": "markers",
         "name": "Infeasible Trial",
         "showlegend": false,
         "x": [],
         "y": [],
         "type": "scatter"
        }
       ],
       "layout": {
        "title": {
         "text": "Optimization History Plot"
        },
        "xaxis": {
         "title": {
          "text": "Trial"
         }
        },
        "yaxis": {
         "title": {
          "text": "Objective Value"
         }
        },
        "template": {
         "data": {
          "histogram2dcontour": [
           {
            "type": "histogram2dcontour",
            "colorbar": {
             "outlinewidth": 0,
             "ticks": ""
            },
            "colorscale": [
             [
              0.0,
              "#0d0887"
             ],
             [
              0.1111111111111111,
              "#46039f"
             ],
             [
              0.2222222222222222,
              "#7201a8"
             ],
             [
              0.3333333333333333,
              "#9c179e"
             ],
             [
              0.4444444444444444,
              "#bd3786"
             ],
             [
              0.5555555555555556,
              "#d8576b"
             ],
             [
              0.6666666666666666,
              "#ed7953"
             ],
             [
              0.7777777777777778,
              "#fb9f3a"
             ],
             [
              0.8888888888888888,
              "#fdca26"
             ],
             [
              1.0,
              "#f0f921"
             ]
            ]
           }
          ],
          "choropleth": [
           {
            "type": "choropleth",
            "colorbar": {
             "outlinewidth": 0,
             "ticks": ""
            }
           }
          ],
          "histogram2d": [
           {
            "type": "histogram2d",
            "colorbar": {
             "outlinewidth": 0,
             "ticks": ""
            },
            "colorscale": [
             [
              0.0,
              "#0d0887"
             ],
             [
              0.1111111111111111,
              "#46039f"
             ],
             [
              0.2222222222222222,
              "#7201a8"
             ],
             [
              0.3333333333333333,
              "#9c179e"
             ],
             [
              0.4444444444444444,
              "#bd3786"
             ],
             [
              0.5555555555555556,
              "#d8576b"
             ],
             [
              0.6666666666666666,
              "#ed7953"
             ],
             [
              0.7777777777777778,
              "#fb9f3a"
             ],
             [
              0.8888888888888888,
              "#fdca26"
             ],
             [
              1.0,
              "#f0f921"
             ]
            ]
           }
          ],
          "heatmap": [
           {
            "type": "heatmap",
            "colorbar": {
             "outlinewidth": 0,
             "ticks": ""
            },
            "colorscale": [
             [
              0.0,
              "#0d0887"
             ],
             [
              0.1111111111111111,
              "#46039f"
             ],
             [
              0.2222222222222222,
              "#7201a8"
             ],
             [
              0.3333333333333333,
              "#9c179e"
             ],
             [
              0.4444444444444444,
              "#bd3786"
             ],
             [
              0.5555555555555556,
              "#d8576b"
             ],
             [
              0.6666666666666666,
              "#ed7953"
             ],
             [
              0.7777777777777778,
              "#fb9f3a"
             ],
             [
              0.8888888888888888,
              "#fdca26"
             ],
             [
              1.0,
              "#f0f921"
             ]
            ]
           }
          ],
          "heatmapgl": [
           {
            "type": "heatmapgl",
            "colorbar": {
             "outlinewidth": 0,
             "ticks": ""
            },
            "colorscale": [
             [
              0.0,
              "#0d0887"
             ],
             [
              0.1111111111111111,
              "#46039f"
             ],
             [
              0.2222222222222222,
              "#7201a8"
             ],
             [
              0.3333333333333333,
              "#9c179e"
             ],
             [
              0.4444444444444444,
              "#bd3786"
             ],
             [
              0.5555555555555556,
              "#d8576b"
             ],
             [
              0.6666666666666666,
              "#ed7953"
             ],
             [
              0.7777777777777778,
              "#fb9f3a"
             ],
             [
              0.8888888888888888,
              "#fdca26"
             ],
             [
              1.0,
              "#f0f921"
             ]
            ]
           }
          ],
          "contourcarpet": [
           {
            "type": "contourcarpet",
            "colorbar": {
             "outlinewidth": 0,
             "ticks": ""
            }
           }
          ],
          "contour": [
           {
            "type": "contour",
            "colorbar": {
             "outlinewidth": 0,
             "ticks": ""
            },
            "colorscale": [
             [
              0.0,
              "#0d0887"
             ],
             [
              0.1111111111111111,
              "#46039f"
             ],
             [
              0.2222222222222222,
              "#7201a8"
             ],
             [
              0.3333333333333333,
              "#9c179e"
             ],
             [
              0.4444444444444444,
              "#bd3786"
             ],
             [
              0.5555555555555556,
              "#d8576b"
             ],
             [
              0.6666666666666666,
              "#ed7953"
             ],
             [
              0.7777777777777778,
              "#fb9f3a"
             ],
             [
              0.8888888888888888,
              "#fdca26"
             ],
             [
              1.0,
              "#f0f921"
             ]
            ]
           }
          ],
          "surface": [
           {
            "type": "surface",
            "colorbar": {
             "outlinewidth": 0,
             "ticks": ""
            },
            "colorscale": [
             [
              0.0,
              "#0d0887"
             ],
             [
              0.1111111111111111,
              "#46039f"
             ],
             [
              0.2222222222222222,
              "#7201a8"
             ],
             [
              0.3333333333333333,
              "#9c179e"
             ],
             [
              0.4444444444444444,
              "#bd3786"
             ],
             [
              0.5555555555555556,
              "#d8576b"
             ],
             [
              0.6666666666666666,
              "#ed7953"
             ],
             [
              0.7777777777777778,
              "#fb9f3a"
             ],
             [
              0.8888888888888888,
              "#fdca26"
             ],
             [
              1.0,
              "#f0f921"
             ]
            ]
           }
          ],
          "mesh3d": [
           {
            "type": "mesh3d",
            "colorbar": {
             "outlinewidth": 0,
             "ticks": ""
            }
           }
          ],
          "scatter": [
           {
            "fillpattern": {
             "fillmode": "overlay",
             "size": 10,
             "solidity": 0.2
            },
            "type": "scatter"
           }
          ],
          "parcoords": [
           {
            "type": "parcoords",
            "line": {
             "colorbar": {
              "outlinewidth": 0,
              "ticks": ""
             }
            }
           }
          ],
          "scatterpolargl": [
           {
            "type": "scatterpolargl",
            "marker": {
             "colorbar": {
              "outlinewidth": 0,
              "ticks": ""
             }
            }
           }
          ],
          "bar": [
           {
            "error_x": {
             "color": "#2a3f5f"
            },
            "error_y": {
             "color": "#2a3f5f"
            },
            "marker": {
             "line": {
              "color": "#E5ECF6",
              "width": 0.5
             },
             "pattern": {
              "fillmode": "overlay",
              "size": 10,
              "solidity": 0.2
             }
            },
            "type": "bar"
           }
          ],
          "scattergeo": [
           {
            "type": "scattergeo",
            "marker": {
             "colorbar": {
              "outlinewidth": 0,
              "ticks": ""
             }
            }
           }
          ],
          "scatterpolar": [
           {
            "type": "scatterpolar",
            "marker": {
             "colorbar": {
              "outlinewidth": 0,
              "ticks": ""
             }
            }
           }
          ],
          "histogram": [
           {
            "marker": {
             "pattern": {
              "fillmode": "overlay",
              "size": 10,
              "solidity": 0.2
             }
            },
            "type": "histogram"
           }
          ],
          "scattergl": [
           {
            "type": "scattergl",
            "marker": {
             "colorbar": {
              "outlinewidth": 0,
              "ticks": ""
             }
            }
           }
          ],
          "scatter3d": [
           {
            "type": "scatter3d",
            "line": {
             "colorbar": {
              "outlinewidth": 0,
              "ticks": ""
             }
            },
            "marker": {
             "colorbar": {
              "outlinewidth": 0,
              "ticks": ""
             }
            }
           }
          ],
          "scattermapbox": [
           {
            "type": "scattermapbox",
            "marker": {
             "colorbar": {
              "outlinewidth": 0,
              "ticks": ""
             }
            }
           }
          ],
          "scatterternary": [
           {
            "type": "scatterternary",
            "marker": {
             "colorbar": {
              "outlinewidth": 0,
              "ticks": ""
             }
            }
           }
          ],
          "scattercarpet": [
           {
            "type": "scattercarpet",
            "marker": {
             "colorbar": {
              "outlinewidth": 0,
              "ticks": ""
             }
            }
           }
          ],
          "carpet": [
           {
            "aaxis": {
             "endlinecolor": "#2a3f5f",
             "gridcolor": "white",
             "linecolor": "white",
             "minorgridcolor": "white",
             "startlinecolor": "#2a3f5f"
            },
            "baxis": {
             "endlinecolor": "#2a3f5f",
             "gridcolor": "white",
             "linecolor": "white",
             "minorgridcolor": "white",
             "startlinecolor": "#2a3f5f"
            },
            "type": "carpet"
           }
          ],
          "table": [
           {
            "cells": {
             "fill": {
              "color": "#EBF0F8"
             },
             "line": {
              "color": "white"
             }
            },
            "header": {
             "fill": {
              "color": "#C8D4E3"
             },
             "line": {
              "color": "white"
             }
            },
            "type": "table"
           }
          ],
          "barpolar": [
           {
            "marker": {
             "line": {
              "color": "#E5ECF6",
              "width": 0.5
             },
             "pattern": {
              "fillmode": "overlay",
              "size": 10,
              "solidity": 0.2
             }
            },
            "type": "barpolar"
           }
          ],
          "pie": [
           {
            "automargin": true,
            "type": "pie"
           }
          ]
         },
         "layout": {
          "autotypenumbers": "strict",
          "colorway": [
           "#636efa",
           "#EF553B",
           "#00cc96",
           "#ab63fa",
           "#FFA15A",
           "#19d3f3",
           "#FF6692",
           "#B6E880",
           "#FF97FF",
           "#FECB52"
          ],
          "font": {
           "color": "#2a3f5f"
          },
          "hovermode": "closest",
          "hoverlabel": {
           "align": "left"
          },
          "paper_bgcolor": "white",
          "plot_bgcolor": "#E5ECF6",
          "polar": {
           "bgcolor": "#E5ECF6",
           "angularaxis": {
            "gridcolor": "white",
            "linecolor": "white",
            "ticks": ""
           },
           "radialaxis": {
            "gridcolor": "white",
            "linecolor": "white",
            "ticks": ""
           }
          },
          "ternary": {
           "bgcolor": "#E5ECF6",
           "aaxis": {
            "gridcolor": "white",
            "linecolor": "white",
            "ticks": ""
           },
           "baxis": {
            "gridcolor": "white",
            "linecolor": "white",
            "ticks": ""
           },
           "caxis": {
            "gridcolor": "white",
            "linecolor": "white",
            "ticks": ""
           }
          },
          "coloraxis": {
           "colorbar": {
            "outlinewidth": 0,
            "ticks": ""
           }
          },
          "colorscale": {
           "sequential": [
            [
             0.0,
             "#0d0887"
            ],
            [
             0.1111111111111111,
             "#46039f"
            ],
            [
             0.2222222222222222,
             "#7201a8"
            ],
            [
             0.3333333333333333,
             "#9c179e"
            ],
            [
             0.4444444444444444,
             "#bd3786"
            ],
            [
             0.5555555555555556,
             "#d8576b"
            ],
            [
             0.6666666666666666,
             "#ed7953"
            ],
            [
             0.7777777777777778,
             "#fb9f3a"
            ],
            [
             0.8888888888888888,
             "#fdca26"
            ],
            [
             1.0,
             "#f0f921"
            ]
           ],
           "sequentialminus": [
            [
             0.0,
             "#0d0887"
            ],
            [
             0.1111111111111111,
             "#46039f"
            ],
            [
             0.2222222222222222,
             "#7201a8"
            ],
            [
             0.3333333333333333,
             "#9c179e"
            ],
            [
             0.4444444444444444,
             "#bd3786"
            ],
            [
             0.5555555555555556,
             "#d8576b"
            ],
            [
             0.6666666666666666,
             "#ed7953"
            ],
            [
             0.7777777777777778,
             "#fb9f3a"
            ],
            [
             0.8888888888888888,
             "#fdca26"
            ],
            [
             1.0,
             "#f0f921"
            ]
           ],
           "diverging": [
            [
             0,
             "#8e0152"
            ],
            [
             0.1,
             "#c51b7d"
            ],
            [
             0.2,
             "#de77ae"
            ],
            [
             0.3,
             "#f1b6da"
            ],
            [
             0.4,
             "#fde0ef"
            ],
            [
             0.5,
             "#f7f7f7"
            ],
            [
             0.6,
             "#e6f5d0"
            ],
            [
             0.7,
             "#b8e186"
            ],
            [
             0.8,
             "#7fbc41"
            ],
            [
             0.9,
             "#4d9221"
            ],
            [
             1,
             "#276419"
            ]
           ]
          },
          "xaxis": {
           "gridcolor": "white",
           "linecolor": "white",
           "ticks": "",
           "title": {
            "standoff": 15
           },
           "zerolinecolor": "white",
           "automargin": true,
           "zerolinewidth": 2
          },
          "yaxis": {
           "gridcolor": "white",
           "linecolor": "white",
           "ticks": "",
           "title": {
            "standoff": 15
           },
           "zerolinecolor": "white",
           "automargin": true,
           "zerolinewidth": 2
          },
          "scene": {
           "xaxis": {
            "backgroundcolor": "#E5ECF6",
            "gridcolor": "white",
            "linecolor": "white",
            "showbackground": true,
            "ticks": "",
            "zerolinecolor": "white",
            "gridwidth": 2
           },
           "yaxis": {
            "backgroundcolor": "#E5ECF6",
            "gridcolor": "white",
            "linecolor": "white",
            "showbackground": true,
            "ticks": "",
            "zerolinecolor": "white",
            "gridwidth": 2
           },
           "zaxis": {
            "backgroundcolor": "#E5ECF6",
            "gridcolor": "white",
            "linecolor": "white",
            "showbackground": true,
            "ticks": "",
            "zerolinecolor": "white",
            "gridwidth": 2
           }
          },
          "shapedefaults": {
           "line": {
            "color": "#2a3f5f"
           }
          },
          "annotationdefaults": {
           "arrowcolor": "#2a3f5f",
           "arrowhead": 0,
           "arrowwidth": 1
          },
          "geo": {
           "bgcolor": "white",
           "landcolor": "#E5ECF6",
           "subunitcolor": "white",
           "showland": true,
           "showlakes": true,
           "lakecolor": "white"
          },
          "title": {
           "x": 0.05
          },
          "mapbox": {
           "style": "light"
          }
         }
        }
       },
       "config": {
        "plotlyServerURL": "https://plot.ly"
       }
      },
      "text/html": [
       "<div>                            <div id=\"c5c6ae37-a3c6-4aef-aba9-6e0180ac9b20\" class=\"plotly-graph-div\" style=\"height:525px; width:100%;\"></div>            <script type=\"text/javascript\">                require([\"plotly\"], function(Plotly) {                    window.PLOTLYENV=window.PLOTLYENV || {};                                    if (document.getElementById(\"c5c6ae37-a3c6-4aef-aba9-6e0180ac9b20\")) {                    Plotly.newPlot(                        \"c5c6ae37-a3c6-4aef-aba9-6e0180ac9b20\",                        [{\"mode\":\"markers\",\"name\":\"Objective Value\",\"x\":[0,1,2,3,4,5,6,7,8,9,10,11,12,13,14],\"y\":[16.654365221076283,16.758405674570703,16.446005325758083,11.04658875536238,16.900634371941486,16.86765187128744,10.019246302988806,11.354342015041762,16.97690868991748,16.79293524420726,10.184855762847512,9.907620586059576,10.060972293339528,9.882419197708654,10.137798661437904],\"type\":\"scatter\"},{\"mode\":\"lines\",\"name\":\"Best Value\",\"x\":[0,1,2,3,4,5,6,7,8,9,10,11,12,13,14],\"y\":[16.654365221076283,16.654365221076283,16.446005325758083,11.04658875536238,11.04658875536238,11.04658875536238,10.019246302988806,10.019246302988806,10.019246302988806,10.019246302988806,10.019246302988806,9.907620586059576,9.907620586059576,9.882419197708654,9.882419197708654],\"type\":\"scatter\"},{\"marker\":{\"color\":\"#cccccc\"},\"mode\":\"markers\",\"name\":\"Infeasible Trial\",\"showlegend\":false,\"x\":[],\"y\":[],\"type\":\"scatter\"}],                        {\"title\":{\"text\":\"Optimization History Plot\"},\"xaxis\":{\"title\":{\"text\":\"Trial\"}},\"yaxis\":{\"title\":{\"text\":\"Objective Value\"}},\"template\":{\"data\":{\"histogram2dcontour\":[{\"type\":\"histogram2dcontour\",\"colorbar\":{\"outlinewidth\":0,\"ticks\":\"\"},\"colorscale\":[[0.0,\"#0d0887\"],[0.1111111111111111,\"#46039f\"],[0.2222222222222222,\"#7201a8\"],[0.3333333333333333,\"#9c179e\"],[0.4444444444444444,\"#bd3786\"],[0.5555555555555556,\"#d8576b\"],[0.6666666666666666,\"#ed7953\"],[0.7777777777777778,\"#fb9f3a\"],[0.8888888888888888,\"#fdca26\"],[1.0,\"#f0f921\"]]}],\"choropleth\":[{\"type\":\"choropleth\",\"colorbar\":{\"outlinewidth\":0,\"ticks\":\"\"}}],\"histogram2d\":[{\"type\":\"histogram2d\",\"colorbar\":{\"outlinewidth\":0,\"ticks\":\"\"},\"colorscale\":[[0.0,\"#0d0887\"],[0.1111111111111111,\"#46039f\"],[0.2222222222222222,\"#7201a8\"],[0.3333333333333333,\"#9c179e\"],[0.4444444444444444,\"#bd3786\"],[0.5555555555555556,\"#d8576b\"],[0.6666666666666666,\"#ed7953\"],[0.7777777777777778,\"#fb9f3a\"],[0.8888888888888888,\"#fdca26\"],[1.0,\"#f0f921\"]]}],\"heatmap\":[{\"type\":\"heatmap\",\"colorbar\":{\"outlinewidth\":0,\"ticks\":\"\"},\"colorscale\":[[0.0,\"#0d0887\"],[0.1111111111111111,\"#46039f\"],[0.2222222222222222,\"#7201a8\"],[0.3333333333333333,\"#9c179e\"],[0.4444444444444444,\"#bd3786\"],[0.5555555555555556,\"#d8576b\"],[0.6666666666666666,\"#ed7953\"],[0.7777777777777778,\"#fb9f3a\"],[0.8888888888888888,\"#fdca26\"],[1.0,\"#f0f921\"]]}],\"heatmapgl\":[{\"type\":\"heatmapgl\",\"colorbar\":{\"outlinewidth\":0,\"ticks\":\"\"},\"colorscale\":[[0.0,\"#0d0887\"],[0.1111111111111111,\"#46039f\"],[0.2222222222222222,\"#7201a8\"],[0.3333333333333333,\"#9c179e\"],[0.4444444444444444,\"#bd3786\"],[0.5555555555555556,\"#d8576b\"],[0.6666666666666666,\"#ed7953\"],[0.7777777777777778,\"#fb9f3a\"],[0.8888888888888888,\"#fdca26\"],[1.0,\"#f0f921\"]]}],\"contourcarpet\":[{\"type\":\"contourcarpet\",\"colorbar\":{\"outlinewidth\":0,\"ticks\":\"\"}}],\"contour\":[{\"type\":\"contour\",\"colorbar\":{\"outlinewidth\":0,\"ticks\":\"\"},\"colorscale\":[[0.0,\"#0d0887\"],[0.1111111111111111,\"#46039f\"],[0.2222222222222222,\"#7201a8\"],[0.3333333333333333,\"#9c179e\"],[0.4444444444444444,\"#bd3786\"],[0.5555555555555556,\"#d8576b\"],[0.6666666666666666,\"#ed7953\"],[0.7777777777777778,\"#fb9f3a\"],[0.8888888888888888,\"#fdca26\"],[1.0,\"#f0f921\"]]}],\"surface\":[{\"type\":\"surface\",\"colorbar\":{\"outlinewidth\":0,\"ticks\":\"\"},\"colorscale\":[[0.0,\"#0d0887\"],[0.1111111111111111,\"#46039f\"],[0.2222222222222222,\"#7201a8\"],[0.3333333333333333,\"#9c179e\"],[0.4444444444444444,\"#bd3786\"],[0.5555555555555556,\"#d8576b\"],[0.6666666666666666,\"#ed7953\"],[0.7777777777777778,\"#fb9f3a\"],[0.8888888888888888,\"#fdca26\"],[1.0,\"#f0f921\"]]}],\"mesh3d\":[{\"type\":\"mesh3d\",\"colorbar\":{\"outlinewidth\":0,\"ticks\":\"\"}}],\"scatter\":[{\"fillpattern\":{\"fillmode\":\"overlay\",\"size\":10,\"solidity\":0.2},\"type\":\"scatter\"}],\"parcoords\":[{\"type\":\"parcoords\",\"line\":{\"colorbar\":{\"outlinewidth\":0,\"ticks\":\"\"}}}],\"scatterpolargl\":[{\"type\":\"scatterpolargl\",\"marker\":{\"colorbar\":{\"outlinewidth\":0,\"ticks\":\"\"}}}],\"bar\":[{\"error_x\":{\"color\":\"#2a3f5f\"},\"error_y\":{\"color\":\"#2a3f5f\"},\"marker\":{\"line\":{\"color\":\"#E5ECF6\",\"width\":0.5},\"pattern\":{\"fillmode\":\"overlay\",\"size\":10,\"solidity\":0.2}},\"type\":\"bar\"}],\"scattergeo\":[{\"type\":\"scattergeo\",\"marker\":{\"colorbar\":{\"outlinewidth\":0,\"ticks\":\"\"}}}],\"scatterpolar\":[{\"type\":\"scatterpolar\",\"marker\":{\"colorbar\":{\"outlinewidth\":0,\"ticks\":\"\"}}}],\"histogram\":[{\"marker\":{\"pattern\":{\"fillmode\":\"overlay\",\"size\":10,\"solidity\":0.2}},\"type\":\"histogram\"}],\"scattergl\":[{\"type\":\"scattergl\",\"marker\":{\"colorbar\":{\"outlinewidth\":0,\"ticks\":\"\"}}}],\"scatter3d\":[{\"type\":\"scatter3d\",\"line\":{\"colorbar\":{\"outlinewidth\":0,\"ticks\":\"\"}},\"marker\":{\"colorbar\":{\"outlinewidth\":0,\"ticks\":\"\"}}}],\"scattermapbox\":[{\"type\":\"scattermapbox\",\"marker\":{\"colorbar\":{\"outlinewidth\":0,\"ticks\":\"\"}}}],\"scatterternary\":[{\"type\":\"scatterternary\",\"marker\":{\"colorbar\":{\"outlinewidth\":0,\"ticks\":\"\"}}}],\"scattercarpet\":[{\"type\":\"scattercarpet\",\"marker\":{\"colorbar\":{\"outlinewidth\":0,\"ticks\":\"\"}}}],\"carpet\":[{\"aaxis\":{\"endlinecolor\":\"#2a3f5f\",\"gridcolor\":\"white\",\"linecolor\":\"white\",\"minorgridcolor\":\"white\",\"startlinecolor\":\"#2a3f5f\"},\"baxis\":{\"endlinecolor\":\"#2a3f5f\",\"gridcolor\":\"white\",\"linecolor\":\"white\",\"minorgridcolor\":\"white\",\"startlinecolor\":\"#2a3f5f\"},\"type\":\"carpet\"}],\"table\":[{\"cells\":{\"fill\":{\"color\":\"#EBF0F8\"},\"line\":{\"color\":\"white\"}},\"header\":{\"fill\":{\"color\":\"#C8D4E3\"},\"line\":{\"color\":\"white\"}},\"type\":\"table\"}],\"barpolar\":[{\"marker\":{\"line\":{\"color\":\"#E5ECF6\",\"width\":0.5},\"pattern\":{\"fillmode\":\"overlay\",\"size\":10,\"solidity\":0.2}},\"type\":\"barpolar\"}],\"pie\":[{\"automargin\":true,\"type\":\"pie\"}]},\"layout\":{\"autotypenumbers\":\"strict\",\"colorway\":[\"#636efa\",\"#EF553B\",\"#00cc96\",\"#ab63fa\",\"#FFA15A\",\"#19d3f3\",\"#FF6692\",\"#B6E880\",\"#FF97FF\",\"#FECB52\"],\"font\":{\"color\":\"#2a3f5f\"},\"hovermode\":\"closest\",\"hoverlabel\":{\"align\":\"left\"},\"paper_bgcolor\":\"white\",\"plot_bgcolor\":\"#E5ECF6\",\"polar\":{\"bgcolor\":\"#E5ECF6\",\"angularaxis\":{\"gridcolor\":\"white\",\"linecolor\":\"white\",\"ticks\":\"\"},\"radialaxis\":{\"gridcolor\":\"white\",\"linecolor\":\"white\",\"ticks\":\"\"}},\"ternary\":{\"bgcolor\":\"#E5ECF6\",\"aaxis\":{\"gridcolor\":\"white\",\"linecolor\":\"white\",\"ticks\":\"\"},\"baxis\":{\"gridcolor\":\"white\",\"linecolor\":\"white\",\"ticks\":\"\"},\"caxis\":{\"gridcolor\":\"white\",\"linecolor\":\"white\",\"ticks\":\"\"}},\"coloraxis\":{\"colorbar\":{\"outlinewidth\":0,\"ticks\":\"\"}},\"colorscale\":{\"sequential\":[[0.0,\"#0d0887\"],[0.1111111111111111,\"#46039f\"],[0.2222222222222222,\"#7201a8\"],[0.3333333333333333,\"#9c179e\"],[0.4444444444444444,\"#bd3786\"],[0.5555555555555556,\"#d8576b\"],[0.6666666666666666,\"#ed7953\"],[0.7777777777777778,\"#fb9f3a\"],[0.8888888888888888,\"#fdca26\"],[1.0,\"#f0f921\"]],\"sequentialminus\":[[0.0,\"#0d0887\"],[0.1111111111111111,\"#46039f\"],[0.2222222222222222,\"#7201a8\"],[0.3333333333333333,\"#9c179e\"],[0.4444444444444444,\"#bd3786\"],[0.5555555555555556,\"#d8576b\"],[0.6666666666666666,\"#ed7953\"],[0.7777777777777778,\"#fb9f3a\"],[0.8888888888888888,\"#fdca26\"],[1.0,\"#f0f921\"]],\"diverging\":[[0,\"#8e0152\"],[0.1,\"#c51b7d\"],[0.2,\"#de77ae\"],[0.3,\"#f1b6da\"],[0.4,\"#fde0ef\"],[0.5,\"#f7f7f7\"],[0.6,\"#e6f5d0\"],[0.7,\"#b8e186\"],[0.8,\"#7fbc41\"],[0.9,\"#4d9221\"],[1,\"#276419\"]]},\"xaxis\":{\"gridcolor\":\"white\",\"linecolor\":\"white\",\"ticks\":\"\",\"title\":{\"standoff\":15},\"zerolinecolor\":\"white\",\"automargin\":true,\"zerolinewidth\":2},\"yaxis\":{\"gridcolor\":\"white\",\"linecolor\":\"white\",\"ticks\":\"\",\"title\":{\"standoff\":15},\"zerolinecolor\":\"white\",\"automargin\":true,\"zerolinewidth\":2},\"scene\":{\"xaxis\":{\"backgroundcolor\":\"#E5ECF6\",\"gridcolor\":\"white\",\"linecolor\":\"white\",\"showbackground\":true,\"ticks\":\"\",\"zerolinecolor\":\"white\",\"gridwidth\":2},\"yaxis\":{\"backgroundcolor\":\"#E5ECF6\",\"gridcolor\":\"white\",\"linecolor\":\"white\",\"showbackground\":true,\"ticks\":\"\",\"zerolinecolor\":\"white\",\"gridwidth\":2},\"zaxis\":{\"backgroundcolor\":\"#E5ECF6\",\"gridcolor\":\"white\",\"linecolor\":\"white\",\"showbackground\":true,\"ticks\":\"\",\"zerolinecolor\":\"white\",\"gridwidth\":2}},\"shapedefaults\":{\"line\":{\"color\":\"#2a3f5f\"}},\"annotationdefaults\":{\"arrowcolor\":\"#2a3f5f\",\"arrowhead\":0,\"arrowwidth\":1},\"geo\":{\"bgcolor\":\"white\",\"landcolor\":\"#E5ECF6\",\"subunitcolor\":\"white\",\"showland\":true,\"showlakes\":true,\"lakecolor\":\"white\"},\"title\":{\"x\":0.05},\"mapbox\":{\"style\":\"light\"}}}},                        {\"responsive\": true}                    ).then(function(){\n",
       "                            \n",
       "var gd = document.getElementById('c5c6ae37-a3c6-4aef-aba9-6e0180ac9b20');\n",
       "var x = new MutationObserver(function (mutations, observer) {{\n",
       "        var display = window.getComputedStyle(gd).display;\n",
       "        if (!display || display === 'none') {{\n",
       "            console.log([gd, 'removed!']);\n",
       "            Plotly.purge(gd);\n",
       "            observer.disconnect();\n",
       "        }}\n",
       "}});\n",
       "\n",
       "// Listen for the removal of the full notebook cells\n",
       "var notebookContainer = gd.closest('#notebook-container');\n",
       "if (notebookContainer) {{\n",
       "    x.observe(notebookContainer, {childList: true});\n",
       "}}\n",
       "\n",
       "// Listen for the clearing of the current output cell\n",
       "var outputEl = gd.closest('.output');\n",
       "if (outputEl) {{\n",
       "    x.observe(outputEl, {childList: true});\n",
       "}}\n",
       "\n",
       "                        })                };                });            </script>        </div>"
      ]
     },
     "metadata": {},
     "output_type": "display_data"
    },
    {
     "data": {
      "application/vnd.plotly.v1+json": {
       "data": [
        {
         "cliponaxis": false,
         "hovertemplate": [
          "min_samples_split (IntDistribution): 0.0008484301863939179<extra></extra>",
          "max_features (CategoricalDistribution): 0.0011154526079440725<extra></extra>",
          "min_samples_leaf (IntDistribution): 0.0012735347809829398<extra></extra>",
          "learning_rate (FloatDistribution): 0.03306641011122508<extra></extra>",
          "n_estimators (IntDistribution): 0.0500133006863193<extra></extra>",
          "max_depth (IntDistribution): 0.9136828716271347<extra></extra>"
         ],
         "name": "Objective Value",
         "orientation": "h",
         "text": [
          "<0.01",
          "<0.01",
          "<0.01",
          "0.03",
          "0.05",
          "0.91"
         ],
         "textposition": "outside",
         "x": [
          8.484301863939179E-4,
          0.0011154526079440725,
          0.0012735347809829398,
          0.03306641011122508,
          0.0500133006863193,
          0.9136828716271347
         ],
         "y": [
          "min_samples_split",
          "max_features",
          "min_samples_leaf",
          "learning_rate",
          "n_estimators",
          "max_depth"
         ],
         "type": "bar"
        }
       ],
       "layout": {
        "title": {
         "text": "Hyperparameter Importances"
        },
        "xaxis": {
         "title": {
          "text": "Hyperparameter Importance"
         }
        },
        "yaxis": {
         "title": {
          "text": "Hyperparameter"
         }
        },
        "template": {
         "data": {
          "histogram2dcontour": [
           {
            "type": "histogram2dcontour",
            "colorbar": {
             "outlinewidth": 0,
             "ticks": ""
            },
            "colorscale": [
             [
              0.0,
              "#0d0887"
             ],
             [
              0.1111111111111111,
              "#46039f"
             ],
             [
              0.2222222222222222,
              "#7201a8"
             ],
             [
              0.3333333333333333,
              "#9c179e"
             ],
             [
              0.4444444444444444,
              "#bd3786"
             ],
             [
              0.5555555555555556,
              "#d8576b"
             ],
             [
              0.6666666666666666,
              "#ed7953"
             ],
             [
              0.7777777777777778,
              "#fb9f3a"
             ],
             [
              0.8888888888888888,
              "#fdca26"
             ],
             [
              1.0,
              "#f0f921"
             ]
            ]
           }
          ],
          "choropleth": [
           {
            "type": "choropleth",
            "colorbar": {
             "outlinewidth": 0,
             "ticks": ""
            }
           }
          ],
          "histogram2d": [
           {
            "type": "histogram2d",
            "colorbar": {
             "outlinewidth": 0,
             "ticks": ""
            },
            "colorscale": [
             [
              0.0,
              "#0d0887"
             ],
             [
              0.1111111111111111,
              "#46039f"
             ],
             [
              0.2222222222222222,
              "#7201a8"
             ],
             [
              0.3333333333333333,
              "#9c179e"
             ],
             [
              0.4444444444444444,
              "#bd3786"
             ],
             [
              0.5555555555555556,
              "#d8576b"
             ],
             [
              0.6666666666666666,
              "#ed7953"
             ],
             [
              0.7777777777777778,
              "#fb9f3a"
             ],
             [
              0.8888888888888888,
              "#fdca26"
             ],
             [
              1.0,
              "#f0f921"
             ]
            ]
           }
          ],
          "heatmap": [
           {
            "type": "heatmap",
            "colorbar": {
             "outlinewidth": 0,
             "ticks": ""
            },
            "colorscale": [
             [
              0.0,
              "#0d0887"
             ],
             [
              0.1111111111111111,
              "#46039f"
             ],
             [
              0.2222222222222222,
              "#7201a8"
             ],
             [
              0.3333333333333333,
              "#9c179e"
             ],
             [
              0.4444444444444444,
              "#bd3786"
             ],
             [
              0.5555555555555556,
              "#d8576b"
             ],
             [
              0.6666666666666666,
              "#ed7953"
             ],
             [
              0.7777777777777778,
              "#fb9f3a"
             ],
             [
              0.8888888888888888,
              "#fdca26"
             ],
             [
              1.0,
              "#f0f921"
             ]
            ]
           }
          ],
          "heatmapgl": [
           {
            "type": "heatmapgl",
            "colorbar": {
             "outlinewidth": 0,
             "ticks": ""
            },
            "colorscale": [
             [
              0.0,
              "#0d0887"
             ],
             [
              0.1111111111111111,
              "#46039f"
             ],
             [
              0.2222222222222222,
              "#7201a8"
             ],
             [
              0.3333333333333333,
              "#9c179e"
             ],
             [
              0.4444444444444444,
              "#bd3786"
             ],
             [
              0.5555555555555556,
              "#d8576b"
             ],
             [
              0.6666666666666666,
              "#ed7953"
             ],
             [
              0.7777777777777778,
              "#fb9f3a"
             ],
             [
              0.8888888888888888,
              "#fdca26"
             ],
             [
              1.0,
              "#f0f921"
             ]
            ]
           }
          ],
          "contourcarpet": [
           {
            "type": "contourcarpet",
            "colorbar": {
             "outlinewidth": 0,
             "ticks": ""
            }
           }
          ],
          "contour": [
           {
            "type": "contour",
            "colorbar": {
             "outlinewidth": 0,
             "ticks": ""
            },
            "colorscale": [
             [
              0.0,
              "#0d0887"
             ],
             [
              0.1111111111111111,
              "#46039f"
             ],
             [
              0.2222222222222222,
              "#7201a8"
             ],
             [
              0.3333333333333333,
              "#9c179e"
             ],
             [
              0.4444444444444444,
              "#bd3786"
             ],
             [
              0.5555555555555556,
              "#d8576b"
             ],
             [
              0.6666666666666666,
              "#ed7953"
             ],
             [
              0.7777777777777778,
              "#fb9f3a"
             ],
             [
              0.8888888888888888,
              "#fdca26"
             ],
             [
              1.0,
              "#f0f921"
             ]
            ]
           }
          ],
          "surface": [
           {
            "type": "surface",
            "colorbar": {
             "outlinewidth": 0,
             "ticks": ""
            },
            "colorscale": [
             [
              0.0,
              "#0d0887"
             ],
             [
              0.1111111111111111,
              "#46039f"
             ],
             [
              0.2222222222222222,
              "#7201a8"
             ],
             [
              0.3333333333333333,
              "#9c179e"
             ],
             [
              0.4444444444444444,
              "#bd3786"
             ],
             [
              0.5555555555555556,
              "#d8576b"
             ],
             [
              0.6666666666666666,
              "#ed7953"
             ],
             [
              0.7777777777777778,
              "#fb9f3a"
             ],
             [
              0.8888888888888888,
              "#fdca26"
             ],
             [
              1.0,
              "#f0f921"
             ]
            ]
           }
          ],
          "mesh3d": [
           {
            "type": "mesh3d",
            "colorbar": {
             "outlinewidth": 0,
             "ticks": ""
            }
           }
          ],
          "scatter": [
           {
            "fillpattern": {
             "fillmode": "overlay",
             "size": 10,
             "solidity": 0.2
            },
            "type": "scatter"
           }
          ],
          "parcoords": [
           {
            "type": "parcoords",
            "line": {
             "colorbar": {
              "outlinewidth": 0,
              "ticks": ""
             }
            }
           }
          ],
          "scatterpolargl": [
           {
            "type": "scatterpolargl",
            "marker": {
             "colorbar": {
              "outlinewidth": 0,
              "ticks": ""
             }
            }
           }
          ],
          "bar": [
           {
            "error_x": {
             "color": "#2a3f5f"
            },
            "error_y": {
             "color": "#2a3f5f"
            },
            "marker": {
             "line": {
              "color": "#E5ECF6",
              "width": 0.5
             },
             "pattern": {
              "fillmode": "overlay",
              "size": 10,
              "solidity": 0.2
             }
            },
            "type": "bar"
           }
          ],
          "scattergeo": [
           {
            "type": "scattergeo",
            "marker": {
             "colorbar": {
              "outlinewidth": 0,
              "ticks": ""
             }
            }
           }
          ],
          "scatterpolar": [
           {
            "type": "scatterpolar",
            "marker": {
             "colorbar": {
              "outlinewidth": 0,
              "ticks": ""
             }
            }
           }
          ],
          "histogram": [
           {
            "marker": {
             "pattern": {
              "fillmode": "overlay",
              "size": 10,
              "solidity": 0.2
             }
            },
            "type": "histogram"
           }
          ],
          "scattergl": [
           {
            "type": "scattergl",
            "marker": {
             "colorbar": {
              "outlinewidth": 0,
              "ticks": ""
             }
            }
           }
          ],
          "scatter3d": [
           {
            "type": "scatter3d",
            "line": {
             "colorbar": {
              "outlinewidth": 0,
              "ticks": ""
             }
            },
            "marker": {
             "colorbar": {
              "outlinewidth": 0,
              "ticks": ""
             }
            }
           }
          ],
          "scattermapbox": [
           {
            "type": "scattermapbox",
            "marker": {
             "colorbar": {
              "outlinewidth": 0,
              "ticks": ""
             }
            }
           }
          ],
          "scatterternary": [
           {
            "type": "scatterternary",
            "marker": {
             "colorbar": {
              "outlinewidth": 0,
              "ticks": ""
             }
            }
           }
          ],
          "scattercarpet": [
           {
            "type": "scattercarpet",
            "marker": {
             "colorbar": {
              "outlinewidth": 0,
              "ticks": ""
             }
            }
           }
          ],
          "carpet": [
           {
            "aaxis": {
             "endlinecolor": "#2a3f5f",
             "gridcolor": "white",
             "linecolor": "white",
             "minorgridcolor": "white",
             "startlinecolor": "#2a3f5f"
            },
            "baxis": {
             "endlinecolor": "#2a3f5f",
             "gridcolor": "white",
             "linecolor": "white",
             "minorgridcolor": "white",
             "startlinecolor": "#2a3f5f"
            },
            "type": "carpet"
           }
          ],
          "table": [
           {
            "cells": {
             "fill": {
              "color": "#EBF0F8"
             },
             "line": {
              "color": "white"
             }
            },
            "header": {
             "fill": {
              "color": "#C8D4E3"
             },
             "line": {
              "color": "white"
             }
            },
            "type": "table"
           }
          ],
          "barpolar": [
           {
            "marker": {
             "line": {
              "color": "#E5ECF6",
              "width": 0.5
             },
             "pattern": {
              "fillmode": "overlay",
              "size": 10,
              "solidity": 0.2
             }
            },
            "type": "barpolar"
           }
          ],
          "pie": [
           {
            "automargin": true,
            "type": "pie"
           }
          ]
         },
         "layout": {
          "autotypenumbers": "strict",
          "colorway": [
           "#636efa",
           "#EF553B",
           "#00cc96",
           "#ab63fa",
           "#FFA15A",
           "#19d3f3",
           "#FF6692",
           "#B6E880",
           "#FF97FF",
           "#FECB52"
          ],
          "font": {
           "color": "#2a3f5f"
          },
          "hovermode": "closest",
          "hoverlabel": {
           "align": "left"
          },
          "paper_bgcolor": "white",
          "plot_bgcolor": "#E5ECF6",
          "polar": {
           "bgcolor": "#E5ECF6",
           "angularaxis": {
            "gridcolor": "white",
            "linecolor": "white",
            "ticks": ""
           },
           "radialaxis": {
            "gridcolor": "white",
            "linecolor": "white",
            "ticks": ""
           }
          },
          "ternary": {
           "bgcolor": "#E5ECF6",
           "aaxis": {
            "gridcolor": "white",
            "linecolor": "white",
            "ticks": ""
           },
           "baxis": {
            "gridcolor": "white",
            "linecolor": "white",
            "ticks": ""
           },
           "caxis": {
            "gridcolor": "white",
            "linecolor": "white",
            "ticks": ""
           }
          },
          "coloraxis": {
           "colorbar": {
            "outlinewidth": 0,
            "ticks": ""
           }
          },
          "colorscale": {
           "sequential": [
            [
             0.0,
             "#0d0887"
            ],
            [
             0.1111111111111111,
             "#46039f"
            ],
            [
             0.2222222222222222,
             "#7201a8"
            ],
            [
             0.3333333333333333,
             "#9c179e"
            ],
            [
             0.4444444444444444,
             "#bd3786"
            ],
            [
             0.5555555555555556,
             "#d8576b"
            ],
            [
             0.6666666666666666,
             "#ed7953"
            ],
            [
             0.7777777777777778,
             "#fb9f3a"
            ],
            [
             0.8888888888888888,
             "#fdca26"
            ],
            [
             1.0,
             "#f0f921"
            ]
           ],
           "sequentialminus": [
            [
             0.0,
             "#0d0887"
            ],
            [
             0.1111111111111111,
             "#46039f"
            ],
            [
             0.2222222222222222,
             "#7201a8"
            ],
            [
             0.3333333333333333,
             "#9c179e"
            ],
            [
             0.4444444444444444,
             "#bd3786"
            ],
            [
             0.5555555555555556,
             "#d8576b"
            ],
            [
             0.6666666666666666,
             "#ed7953"
            ],
            [
             0.7777777777777778,
             "#fb9f3a"
            ],
            [
             0.8888888888888888,
             "#fdca26"
            ],
            [
             1.0,
             "#f0f921"
            ]
           ],
           "diverging": [
            [
             0,
             "#8e0152"
            ],
            [
             0.1,
             "#c51b7d"
            ],
            [
             0.2,
             "#de77ae"
            ],
            [
             0.3,
             "#f1b6da"
            ],
            [
             0.4,
             "#fde0ef"
            ],
            [
             0.5,
             "#f7f7f7"
            ],
            [
             0.6,
             "#e6f5d0"
            ],
            [
             0.7,
             "#b8e186"
            ],
            [
             0.8,
             "#7fbc41"
            ],
            [
             0.9,
             "#4d9221"
            ],
            [
             1,
             "#276419"
            ]
           ]
          },
          "xaxis": {
           "gridcolor": "white",
           "linecolor": "white",
           "ticks": "",
           "title": {
            "standoff": 15
           },
           "zerolinecolor": "white",
           "automargin": true,
           "zerolinewidth": 2
          },
          "yaxis": {
           "gridcolor": "white",
           "linecolor": "white",
           "ticks": "",
           "title": {
            "standoff": 15
           },
           "zerolinecolor": "white",
           "automargin": true,
           "zerolinewidth": 2
          },
          "scene": {
           "xaxis": {
            "backgroundcolor": "#E5ECF6",
            "gridcolor": "white",
            "linecolor": "white",
            "showbackground": true,
            "ticks": "",
            "zerolinecolor": "white",
            "gridwidth": 2
           },
           "yaxis": {
            "backgroundcolor": "#E5ECF6",
            "gridcolor": "white",
            "linecolor": "white",
            "showbackground": true,
            "ticks": "",
            "zerolinecolor": "white",
            "gridwidth": 2
           },
           "zaxis": {
            "backgroundcolor": "#E5ECF6",
            "gridcolor": "white",
            "linecolor": "white",
            "showbackground": true,
            "ticks": "",
            "zerolinecolor": "white",
            "gridwidth": 2
           }
          },
          "shapedefaults": {
           "line": {
            "color": "#2a3f5f"
           }
          },
          "annotationdefaults": {
           "arrowcolor": "#2a3f5f",
           "arrowhead": 0,
           "arrowwidth": 1
          },
          "geo": {
           "bgcolor": "white",
           "landcolor": "#E5ECF6",
           "subunitcolor": "white",
           "showland": true,
           "showlakes": true,
           "lakecolor": "white"
          },
          "title": {
           "x": 0.05
          },
          "mapbox": {
           "style": "light"
          }
         }
        }
       },
       "config": {
        "plotlyServerURL": "https://plot.ly"
       }
      },
      "text/html": [
       "<div>                            <div id=\"2b83b746-eaa0-4515-930e-95af453afe93\" class=\"plotly-graph-div\" style=\"height:525px; width:100%;\"></div>            <script type=\"text/javascript\">                require([\"plotly\"], function(Plotly) {                    window.PLOTLYENV=window.PLOTLYENV || {};                                    if (document.getElementById(\"2b83b746-eaa0-4515-930e-95af453afe93\")) {                    Plotly.newPlot(                        \"2b83b746-eaa0-4515-930e-95af453afe93\",                        [{\"cliponaxis\":false,\"hovertemplate\":[\"min_samples_split (IntDistribution): 0.0008484301863939179\\u003cextra\\u003e\\u003c\\u002fextra\\u003e\",\"max_features (CategoricalDistribution): 0.0011154526079440725\\u003cextra\\u003e\\u003c\\u002fextra\\u003e\",\"min_samples_leaf (IntDistribution): 0.0012735347809829398\\u003cextra\\u003e\\u003c\\u002fextra\\u003e\",\"learning_rate (FloatDistribution): 0.03306641011122508\\u003cextra\\u003e\\u003c\\u002fextra\\u003e\",\"n_estimators (IntDistribution): 0.0500133006863193\\u003cextra\\u003e\\u003c\\u002fextra\\u003e\",\"max_depth (IntDistribution): 0.9136828716271347\\u003cextra\\u003e\\u003c\\u002fextra\\u003e\"],\"name\":\"Objective Value\",\"orientation\":\"h\",\"text\":[\"\\u003c0.01\",\"\\u003c0.01\",\"\\u003c0.01\",\"0.03\",\"0.05\",\"0.91\"],\"textposition\":\"outside\",\"x\":[0.0008484301863939179,0.0011154526079440725,0.0012735347809829398,0.03306641011122508,0.0500133006863193,0.9136828716271347],\"y\":[\"min_samples_split\",\"max_features\",\"min_samples_leaf\",\"learning_rate\",\"n_estimators\",\"max_depth\"],\"type\":\"bar\"}],                        {\"title\":{\"text\":\"Hyperparameter Importances\"},\"xaxis\":{\"title\":{\"text\":\"Hyperparameter Importance\"}},\"yaxis\":{\"title\":{\"text\":\"Hyperparameter\"}},\"template\":{\"data\":{\"histogram2dcontour\":[{\"type\":\"histogram2dcontour\",\"colorbar\":{\"outlinewidth\":0,\"ticks\":\"\"},\"colorscale\":[[0.0,\"#0d0887\"],[0.1111111111111111,\"#46039f\"],[0.2222222222222222,\"#7201a8\"],[0.3333333333333333,\"#9c179e\"],[0.4444444444444444,\"#bd3786\"],[0.5555555555555556,\"#d8576b\"],[0.6666666666666666,\"#ed7953\"],[0.7777777777777778,\"#fb9f3a\"],[0.8888888888888888,\"#fdca26\"],[1.0,\"#f0f921\"]]}],\"choropleth\":[{\"type\":\"choropleth\",\"colorbar\":{\"outlinewidth\":0,\"ticks\":\"\"}}],\"histogram2d\":[{\"type\":\"histogram2d\",\"colorbar\":{\"outlinewidth\":0,\"ticks\":\"\"},\"colorscale\":[[0.0,\"#0d0887\"],[0.1111111111111111,\"#46039f\"],[0.2222222222222222,\"#7201a8\"],[0.3333333333333333,\"#9c179e\"],[0.4444444444444444,\"#bd3786\"],[0.5555555555555556,\"#d8576b\"],[0.6666666666666666,\"#ed7953\"],[0.7777777777777778,\"#fb9f3a\"],[0.8888888888888888,\"#fdca26\"],[1.0,\"#f0f921\"]]}],\"heatmap\":[{\"type\":\"heatmap\",\"colorbar\":{\"outlinewidth\":0,\"ticks\":\"\"},\"colorscale\":[[0.0,\"#0d0887\"],[0.1111111111111111,\"#46039f\"],[0.2222222222222222,\"#7201a8\"],[0.3333333333333333,\"#9c179e\"],[0.4444444444444444,\"#bd3786\"],[0.5555555555555556,\"#d8576b\"],[0.6666666666666666,\"#ed7953\"],[0.7777777777777778,\"#fb9f3a\"],[0.8888888888888888,\"#fdca26\"],[1.0,\"#f0f921\"]]}],\"heatmapgl\":[{\"type\":\"heatmapgl\",\"colorbar\":{\"outlinewidth\":0,\"ticks\":\"\"},\"colorscale\":[[0.0,\"#0d0887\"],[0.1111111111111111,\"#46039f\"],[0.2222222222222222,\"#7201a8\"],[0.3333333333333333,\"#9c179e\"],[0.4444444444444444,\"#bd3786\"],[0.5555555555555556,\"#d8576b\"],[0.6666666666666666,\"#ed7953\"],[0.7777777777777778,\"#fb9f3a\"],[0.8888888888888888,\"#fdca26\"],[1.0,\"#f0f921\"]]}],\"contourcarpet\":[{\"type\":\"contourcarpet\",\"colorbar\":{\"outlinewidth\":0,\"ticks\":\"\"}}],\"contour\":[{\"type\":\"contour\",\"colorbar\":{\"outlinewidth\":0,\"ticks\":\"\"},\"colorscale\":[[0.0,\"#0d0887\"],[0.1111111111111111,\"#46039f\"],[0.2222222222222222,\"#7201a8\"],[0.3333333333333333,\"#9c179e\"],[0.4444444444444444,\"#bd3786\"],[0.5555555555555556,\"#d8576b\"],[0.6666666666666666,\"#ed7953\"],[0.7777777777777778,\"#fb9f3a\"],[0.8888888888888888,\"#fdca26\"],[1.0,\"#f0f921\"]]}],\"surface\":[{\"type\":\"surface\",\"colorbar\":{\"outlinewidth\":0,\"ticks\":\"\"},\"colorscale\":[[0.0,\"#0d0887\"],[0.1111111111111111,\"#46039f\"],[0.2222222222222222,\"#7201a8\"],[0.3333333333333333,\"#9c179e\"],[0.4444444444444444,\"#bd3786\"],[0.5555555555555556,\"#d8576b\"],[0.6666666666666666,\"#ed7953\"],[0.7777777777777778,\"#fb9f3a\"],[0.8888888888888888,\"#fdca26\"],[1.0,\"#f0f921\"]]}],\"mesh3d\":[{\"type\":\"mesh3d\",\"colorbar\":{\"outlinewidth\":0,\"ticks\":\"\"}}],\"scatter\":[{\"fillpattern\":{\"fillmode\":\"overlay\",\"size\":10,\"solidity\":0.2},\"type\":\"scatter\"}],\"parcoords\":[{\"type\":\"parcoords\",\"line\":{\"colorbar\":{\"outlinewidth\":0,\"ticks\":\"\"}}}],\"scatterpolargl\":[{\"type\":\"scatterpolargl\",\"marker\":{\"colorbar\":{\"outlinewidth\":0,\"ticks\":\"\"}}}],\"bar\":[{\"error_x\":{\"color\":\"#2a3f5f\"},\"error_y\":{\"color\":\"#2a3f5f\"},\"marker\":{\"line\":{\"color\":\"#E5ECF6\",\"width\":0.5},\"pattern\":{\"fillmode\":\"overlay\",\"size\":10,\"solidity\":0.2}},\"type\":\"bar\"}],\"scattergeo\":[{\"type\":\"scattergeo\",\"marker\":{\"colorbar\":{\"outlinewidth\":0,\"ticks\":\"\"}}}],\"scatterpolar\":[{\"type\":\"scatterpolar\",\"marker\":{\"colorbar\":{\"outlinewidth\":0,\"ticks\":\"\"}}}],\"histogram\":[{\"marker\":{\"pattern\":{\"fillmode\":\"overlay\",\"size\":10,\"solidity\":0.2}},\"type\":\"histogram\"}],\"scattergl\":[{\"type\":\"scattergl\",\"marker\":{\"colorbar\":{\"outlinewidth\":0,\"ticks\":\"\"}}}],\"scatter3d\":[{\"type\":\"scatter3d\",\"line\":{\"colorbar\":{\"outlinewidth\":0,\"ticks\":\"\"}},\"marker\":{\"colorbar\":{\"outlinewidth\":0,\"ticks\":\"\"}}}],\"scattermapbox\":[{\"type\":\"scattermapbox\",\"marker\":{\"colorbar\":{\"outlinewidth\":0,\"ticks\":\"\"}}}],\"scatterternary\":[{\"type\":\"scatterternary\",\"marker\":{\"colorbar\":{\"outlinewidth\":0,\"ticks\":\"\"}}}],\"scattercarpet\":[{\"type\":\"scattercarpet\",\"marker\":{\"colorbar\":{\"outlinewidth\":0,\"ticks\":\"\"}}}],\"carpet\":[{\"aaxis\":{\"endlinecolor\":\"#2a3f5f\",\"gridcolor\":\"white\",\"linecolor\":\"white\",\"minorgridcolor\":\"white\",\"startlinecolor\":\"#2a3f5f\"},\"baxis\":{\"endlinecolor\":\"#2a3f5f\",\"gridcolor\":\"white\",\"linecolor\":\"white\",\"minorgridcolor\":\"white\",\"startlinecolor\":\"#2a3f5f\"},\"type\":\"carpet\"}],\"table\":[{\"cells\":{\"fill\":{\"color\":\"#EBF0F8\"},\"line\":{\"color\":\"white\"}},\"header\":{\"fill\":{\"color\":\"#C8D4E3\"},\"line\":{\"color\":\"white\"}},\"type\":\"table\"}],\"barpolar\":[{\"marker\":{\"line\":{\"color\":\"#E5ECF6\",\"width\":0.5},\"pattern\":{\"fillmode\":\"overlay\",\"size\":10,\"solidity\":0.2}},\"type\":\"barpolar\"}],\"pie\":[{\"automargin\":true,\"type\":\"pie\"}]},\"layout\":{\"autotypenumbers\":\"strict\",\"colorway\":[\"#636efa\",\"#EF553B\",\"#00cc96\",\"#ab63fa\",\"#FFA15A\",\"#19d3f3\",\"#FF6692\",\"#B6E880\",\"#FF97FF\",\"#FECB52\"],\"font\":{\"color\":\"#2a3f5f\"},\"hovermode\":\"closest\",\"hoverlabel\":{\"align\":\"left\"},\"paper_bgcolor\":\"white\",\"plot_bgcolor\":\"#E5ECF6\",\"polar\":{\"bgcolor\":\"#E5ECF6\",\"angularaxis\":{\"gridcolor\":\"white\",\"linecolor\":\"white\",\"ticks\":\"\"},\"radialaxis\":{\"gridcolor\":\"white\",\"linecolor\":\"white\",\"ticks\":\"\"}},\"ternary\":{\"bgcolor\":\"#E5ECF6\",\"aaxis\":{\"gridcolor\":\"white\",\"linecolor\":\"white\",\"ticks\":\"\"},\"baxis\":{\"gridcolor\":\"white\",\"linecolor\":\"white\",\"ticks\":\"\"},\"caxis\":{\"gridcolor\":\"white\",\"linecolor\":\"white\",\"ticks\":\"\"}},\"coloraxis\":{\"colorbar\":{\"outlinewidth\":0,\"ticks\":\"\"}},\"colorscale\":{\"sequential\":[[0.0,\"#0d0887\"],[0.1111111111111111,\"#46039f\"],[0.2222222222222222,\"#7201a8\"],[0.3333333333333333,\"#9c179e\"],[0.4444444444444444,\"#bd3786\"],[0.5555555555555556,\"#d8576b\"],[0.6666666666666666,\"#ed7953\"],[0.7777777777777778,\"#fb9f3a\"],[0.8888888888888888,\"#fdca26\"],[1.0,\"#f0f921\"]],\"sequentialminus\":[[0.0,\"#0d0887\"],[0.1111111111111111,\"#46039f\"],[0.2222222222222222,\"#7201a8\"],[0.3333333333333333,\"#9c179e\"],[0.4444444444444444,\"#bd3786\"],[0.5555555555555556,\"#d8576b\"],[0.6666666666666666,\"#ed7953\"],[0.7777777777777778,\"#fb9f3a\"],[0.8888888888888888,\"#fdca26\"],[1.0,\"#f0f921\"]],\"diverging\":[[0,\"#8e0152\"],[0.1,\"#c51b7d\"],[0.2,\"#de77ae\"],[0.3,\"#f1b6da\"],[0.4,\"#fde0ef\"],[0.5,\"#f7f7f7\"],[0.6,\"#e6f5d0\"],[0.7,\"#b8e186\"],[0.8,\"#7fbc41\"],[0.9,\"#4d9221\"],[1,\"#276419\"]]},\"xaxis\":{\"gridcolor\":\"white\",\"linecolor\":\"white\",\"ticks\":\"\",\"title\":{\"standoff\":15},\"zerolinecolor\":\"white\",\"automargin\":true,\"zerolinewidth\":2},\"yaxis\":{\"gridcolor\":\"white\",\"linecolor\":\"white\",\"ticks\":\"\",\"title\":{\"standoff\":15},\"zerolinecolor\":\"white\",\"automargin\":true,\"zerolinewidth\":2},\"scene\":{\"xaxis\":{\"backgroundcolor\":\"#E5ECF6\",\"gridcolor\":\"white\",\"linecolor\":\"white\",\"showbackground\":true,\"ticks\":\"\",\"zerolinecolor\":\"white\",\"gridwidth\":2},\"yaxis\":{\"backgroundcolor\":\"#E5ECF6\",\"gridcolor\":\"white\",\"linecolor\":\"white\",\"showbackground\":true,\"ticks\":\"\",\"zerolinecolor\":\"white\",\"gridwidth\":2},\"zaxis\":{\"backgroundcolor\":\"#E5ECF6\",\"gridcolor\":\"white\",\"linecolor\":\"white\",\"showbackground\":true,\"ticks\":\"\",\"zerolinecolor\":\"white\",\"gridwidth\":2}},\"shapedefaults\":{\"line\":{\"color\":\"#2a3f5f\"}},\"annotationdefaults\":{\"arrowcolor\":\"#2a3f5f\",\"arrowhead\":0,\"arrowwidth\":1},\"geo\":{\"bgcolor\":\"white\",\"landcolor\":\"#E5ECF6\",\"subunitcolor\":\"white\",\"showland\":true,\"showlakes\":true,\"lakecolor\":\"white\"},\"title\":{\"x\":0.05},\"mapbox\":{\"style\":\"light\"}}}},                        {\"responsive\": true}                    ).then(function(){\n",
       "                            \n",
       "var gd = document.getElementById('2b83b746-eaa0-4515-930e-95af453afe93');\n",
       "var x = new MutationObserver(function (mutations, observer) {{\n",
       "        var display = window.getComputedStyle(gd).display;\n",
       "        if (!display || display === 'none') {{\n",
       "            console.log([gd, 'removed!']);\n",
       "            Plotly.purge(gd);\n",
       "            observer.disconnect();\n",
       "        }}\n",
       "}});\n",
       "\n",
       "// Listen for the removal of the full notebook cells\n",
       "var notebookContainer = gd.closest('#notebook-container');\n",
       "if (notebookContainer) {{\n",
       "    x.observe(notebookContainer, {childList: true});\n",
       "}}\n",
       "\n",
       "// Listen for the clearing of the current output cell\n",
       "var outputEl = gd.closest('.output');\n",
       "if (outputEl) {{\n",
       "    x.observe(outputEl, {childList: true});\n",
       "}}\n",
       "\n",
       "                        })                };                });            </script>        </div>"
      ]
     },
     "metadata": {},
     "output_type": "display_data"
    }
   ],
   "execution_count": 268
  },
  {
   "metadata": {},
   "cell_type": "markdown",
   "source": "#### Model Training",
   "id": "84af9992e5ef29"
  },
  {
   "metadata": {
    "ExecuteTime": {
     "end_time": "2024-12-11T23:17:17.636775Z",
     "start_time": "2024-12-11T23:17:17.612145Z"
    }
   },
   "cell_type": "code",
   "source": [
    "# Get the best hyperparameters\n",
    "best_params_ada = study_ada.best_params"
   ],
   "id": "b25541167525f53d",
   "outputs": [],
   "execution_count": 269
  },
  {
   "metadata": {
    "ExecuteTime": {
     "end_time": "2024-12-11T23:17:18.145578Z",
     "start_time": "2024-12-11T23:17:18.121246Z"
    }
   },
   "cell_type": "code",
   "source": [
    "# Create the AdaBoost model with best hyperparameters\n",
    "dt = DecisionTreeRegressor(\n",
    "    max_depth=best_params_ada['max_depth'],\n",
    "    min_samples_split=best_params_ada['min_samples_split'],\n",
    "    min_samples_leaf=best_params_ada['min_samples_leaf'],\n",
    "    max_features=best_params_ada['max_features'],\n",
    "    random_state=42\n",
    ")\n",
    "\n",
    "ab = AdaBoostRegressor(\n",
    "    estimator=dt,\n",
    "    n_estimators=best_params_ada['n_estimators'],\n",
    "    learning_rate=best_params_ada['learning_rate'],\n",
    "    random_state=42\n",
    ")"
   ],
   "id": "cd187baa0ef7c2ae",
   "outputs": [],
   "execution_count": 270
  },
  {
   "metadata": {
    "ExecuteTime": {
     "end_time": "2024-12-11T23:17:18.858113Z",
     "start_time": "2024-12-11T23:17:18.733252Z"
    }
   },
   "cell_type": "code",
   "source": [
    "# Fit the model\n",
    "ab.fit(X_train, y_train)"
   ],
   "id": "bebba119764a1caa",
   "outputs": [
    {
     "data": {
      "text/plain": [
       "AdaBoostRegressor(estimator=DecisionTreeRegressor(max_depth=2,\n",
       "                                                  max_features='log2',\n",
       "                                                  min_samples_leaf=6,\n",
       "                                                  min_samples_split=6,\n",
       "                                                  random_state=42),\n",
       "                  learning_rate=0.4479332664418882, n_estimators=493,\n",
       "                  random_state=42)"
      ],
      "text/html": [
       "<style>#sk-container-id-20 {\n",
       "  /* Definition of color scheme common for light and dark mode */\n",
       "  --sklearn-color-text: black;\n",
       "  --sklearn-color-line: gray;\n",
       "  /* Definition of color scheme for unfitted estimators */\n",
       "  --sklearn-color-unfitted-level-0: #fff5e6;\n",
       "  --sklearn-color-unfitted-level-1: #f6e4d2;\n",
       "  --sklearn-color-unfitted-level-2: #ffe0b3;\n",
       "  --sklearn-color-unfitted-level-3: chocolate;\n",
       "  /* Definition of color scheme for fitted estimators */\n",
       "  --sklearn-color-fitted-level-0: #f0f8ff;\n",
       "  --sklearn-color-fitted-level-1: #d4ebff;\n",
       "  --sklearn-color-fitted-level-2: #b3dbfd;\n",
       "  --sklearn-color-fitted-level-3: cornflowerblue;\n",
       "\n",
       "  /* Specific color for light theme */\n",
       "  --sklearn-color-text-on-default-background: var(--sg-text-color, var(--theme-code-foreground, var(--jp-content-font-color1, black)));\n",
       "  --sklearn-color-background: var(--sg-background-color, var(--theme-background, var(--jp-layout-color0, white)));\n",
       "  --sklearn-color-border-box: var(--sg-text-color, var(--theme-code-foreground, var(--jp-content-font-color1, black)));\n",
       "  --sklearn-color-icon: #696969;\n",
       "\n",
       "  @media (prefers-color-scheme: dark) {\n",
       "    /* Redefinition of color scheme for dark theme */\n",
       "    --sklearn-color-text-on-default-background: var(--sg-text-color, var(--theme-code-foreground, var(--jp-content-font-color1, white)));\n",
       "    --sklearn-color-background: var(--sg-background-color, var(--theme-background, var(--jp-layout-color0, #111)));\n",
       "    --sklearn-color-border-box: var(--sg-text-color, var(--theme-code-foreground, var(--jp-content-font-color1, white)));\n",
       "    --sklearn-color-icon: #878787;\n",
       "  }\n",
       "}\n",
       "\n",
       "#sk-container-id-20 {\n",
       "  color: var(--sklearn-color-text);\n",
       "}\n",
       "\n",
       "#sk-container-id-20 pre {\n",
       "  padding: 0;\n",
       "}\n",
       "\n",
       "#sk-container-id-20 input.sk-hidden--visually {\n",
       "  border: 0;\n",
       "  clip: rect(1px 1px 1px 1px);\n",
       "  clip: rect(1px, 1px, 1px, 1px);\n",
       "  height: 1px;\n",
       "  margin: -1px;\n",
       "  overflow: hidden;\n",
       "  padding: 0;\n",
       "  position: absolute;\n",
       "  width: 1px;\n",
       "}\n",
       "\n",
       "#sk-container-id-20 div.sk-dashed-wrapped {\n",
       "  border: 1px dashed var(--sklearn-color-line);\n",
       "  margin: 0 0.4em 0.5em 0.4em;\n",
       "  box-sizing: border-box;\n",
       "  padding-bottom: 0.4em;\n",
       "  background-color: var(--sklearn-color-background);\n",
       "}\n",
       "\n",
       "#sk-container-id-20 div.sk-container {\n",
       "  /* jupyter's `normalize.less` sets `[hidden] { display: none; }`\n",
       "     but bootstrap.min.css set `[hidden] { display: none !important; }`\n",
       "     so we also need the `!important` here to be able to override the\n",
       "     default hidden behavior on the sphinx rendered scikit-learn.org.\n",
       "     See: https://github.com/scikit-learn/scikit-learn/issues/21755 */\n",
       "  display: inline-block !important;\n",
       "  position: relative;\n",
       "}\n",
       "\n",
       "#sk-container-id-20 div.sk-text-repr-fallback {\n",
       "  display: none;\n",
       "}\n",
       "\n",
       "div.sk-parallel-item,\n",
       "div.sk-serial,\n",
       "div.sk-item {\n",
       "  /* draw centered vertical line to link estimators */\n",
       "  background-image: linear-gradient(var(--sklearn-color-text-on-default-background), var(--sklearn-color-text-on-default-background));\n",
       "  background-size: 2px 100%;\n",
       "  background-repeat: no-repeat;\n",
       "  background-position: center center;\n",
       "}\n",
       "\n",
       "/* Parallel-specific style estimator block */\n",
       "\n",
       "#sk-container-id-20 div.sk-parallel-item::after {\n",
       "  content: \"\";\n",
       "  width: 100%;\n",
       "  border-bottom: 2px solid var(--sklearn-color-text-on-default-background);\n",
       "  flex-grow: 1;\n",
       "}\n",
       "\n",
       "#sk-container-id-20 div.sk-parallel {\n",
       "  display: flex;\n",
       "  align-items: stretch;\n",
       "  justify-content: center;\n",
       "  background-color: var(--sklearn-color-background);\n",
       "  position: relative;\n",
       "}\n",
       "\n",
       "#sk-container-id-20 div.sk-parallel-item {\n",
       "  display: flex;\n",
       "  flex-direction: column;\n",
       "}\n",
       "\n",
       "#sk-container-id-20 div.sk-parallel-item:first-child::after {\n",
       "  align-self: flex-end;\n",
       "  width: 50%;\n",
       "}\n",
       "\n",
       "#sk-container-id-20 div.sk-parallel-item:last-child::after {\n",
       "  align-self: flex-start;\n",
       "  width: 50%;\n",
       "}\n",
       "\n",
       "#sk-container-id-20 div.sk-parallel-item:only-child::after {\n",
       "  width: 0;\n",
       "}\n",
       "\n",
       "/* Serial-specific style estimator block */\n",
       "\n",
       "#sk-container-id-20 div.sk-serial {\n",
       "  display: flex;\n",
       "  flex-direction: column;\n",
       "  align-items: center;\n",
       "  background-color: var(--sklearn-color-background);\n",
       "  padding-right: 1em;\n",
       "  padding-left: 1em;\n",
       "}\n",
       "\n",
       "\n",
       "/* Toggleable style: style used for estimator/Pipeline/ColumnTransformer box that is\n",
       "clickable and can be expanded/collapsed.\n",
       "- Pipeline and ColumnTransformer use this feature and define the default style\n",
       "- Estimators will overwrite some part of the style using the `sk-estimator` class\n",
       "*/\n",
       "\n",
       "/* Pipeline and ColumnTransformer style (default) */\n",
       "\n",
       "#sk-container-id-20 div.sk-toggleable {\n",
       "  /* Default theme specific background. It is overwritten whether we have a\n",
       "  specific estimator or a Pipeline/ColumnTransformer */\n",
       "  background-color: var(--sklearn-color-background);\n",
       "}\n",
       "\n",
       "/* Toggleable label */\n",
       "#sk-container-id-20 label.sk-toggleable__label {\n",
       "  cursor: pointer;\n",
       "  display: block;\n",
       "  width: 100%;\n",
       "  margin-bottom: 0;\n",
       "  padding: 0.5em;\n",
       "  box-sizing: border-box;\n",
       "  text-align: center;\n",
       "}\n",
       "\n",
       "#sk-container-id-20 label.sk-toggleable__label-arrow:before {\n",
       "  /* Arrow on the left of the label */\n",
       "  content: \"▸\";\n",
       "  float: left;\n",
       "  margin-right: 0.25em;\n",
       "  color: var(--sklearn-color-icon);\n",
       "}\n",
       "\n",
       "#sk-container-id-20 label.sk-toggleable__label-arrow:hover:before {\n",
       "  color: var(--sklearn-color-text);\n",
       "}\n",
       "\n",
       "/* Toggleable content - dropdown */\n",
       "\n",
       "#sk-container-id-20 div.sk-toggleable__content {\n",
       "  max-height: 0;\n",
       "  max-width: 0;\n",
       "  overflow: hidden;\n",
       "  text-align: left;\n",
       "  /* unfitted */\n",
       "  background-color: var(--sklearn-color-unfitted-level-0);\n",
       "}\n",
       "\n",
       "#sk-container-id-20 div.sk-toggleable__content.fitted {\n",
       "  /* fitted */\n",
       "  background-color: var(--sklearn-color-fitted-level-0);\n",
       "}\n",
       "\n",
       "#sk-container-id-20 div.sk-toggleable__content pre {\n",
       "  margin: 0.2em;\n",
       "  border-radius: 0.25em;\n",
       "  color: var(--sklearn-color-text);\n",
       "  /* unfitted */\n",
       "  background-color: var(--sklearn-color-unfitted-level-0);\n",
       "}\n",
       "\n",
       "#sk-container-id-20 div.sk-toggleable__content.fitted pre {\n",
       "  /* unfitted */\n",
       "  background-color: var(--sklearn-color-fitted-level-0);\n",
       "}\n",
       "\n",
       "#sk-container-id-20 input.sk-toggleable__control:checked~div.sk-toggleable__content {\n",
       "  /* Expand drop-down */\n",
       "  max-height: 200px;\n",
       "  max-width: 100%;\n",
       "  overflow: auto;\n",
       "}\n",
       "\n",
       "#sk-container-id-20 input.sk-toggleable__control:checked~label.sk-toggleable__label-arrow:before {\n",
       "  content: \"▾\";\n",
       "}\n",
       "\n",
       "/* Pipeline/ColumnTransformer-specific style */\n",
       "\n",
       "#sk-container-id-20 div.sk-label input.sk-toggleable__control:checked~label.sk-toggleable__label {\n",
       "  color: var(--sklearn-color-text);\n",
       "  background-color: var(--sklearn-color-unfitted-level-2);\n",
       "}\n",
       "\n",
       "#sk-container-id-20 div.sk-label.fitted input.sk-toggleable__control:checked~label.sk-toggleable__label {\n",
       "  background-color: var(--sklearn-color-fitted-level-2);\n",
       "}\n",
       "\n",
       "/* Estimator-specific style */\n",
       "\n",
       "/* Colorize estimator box */\n",
       "#sk-container-id-20 div.sk-estimator input.sk-toggleable__control:checked~label.sk-toggleable__label {\n",
       "  /* unfitted */\n",
       "  background-color: var(--sklearn-color-unfitted-level-2);\n",
       "}\n",
       "\n",
       "#sk-container-id-20 div.sk-estimator.fitted input.sk-toggleable__control:checked~label.sk-toggleable__label {\n",
       "  /* fitted */\n",
       "  background-color: var(--sklearn-color-fitted-level-2);\n",
       "}\n",
       "\n",
       "#sk-container-id-20 div.sk-label label.sk-toggleable__label,\n",
       "#sk-container-id-20 div.sk-label label {\n",
       "  /* The background is the default theme color */\n",
       "  color: var(--sklearn-color-text-on-default-background);\n",
       "}\n",
       "\n",
       "/* On hover, darken the color of the background */\n",
       "#sk-container-id-20 div.sk-label:hover label.sk-toggleable__label {\n",
       "  color: var(--sklearn-color-text);\n",
       "  background-color: var(--sklearn-color-unfitted-level-2);\n",
       "}\n",
       "\n",
       "/* Label box, darken color on hover, fitted */\n",
       "#sk-container-id-20 div.sk-label.fitted:hover label.sk-toggleable__label.fitted {\n",
       "  color: var(--sklearn-color-text);\n",
       "  background-color: var(--sklearn-color-fitted-level-2);\n",
       "}\n",
       "\n",
       "/* Estimator label */\n",
       "\n",
       "#sk-container-id-20 div.sk-label label {\n",
       "  font-family: monospace;\n",
       "  font-weight: bold;\n",
       "  display: inline-block;\n",
       "  line-height: 1.2em;\n",
       "}\n",
       "\n",
       "#sk-container-id-20 div.sk-label-container {\n",
       "  text-align: center;\n",
       "}\n",
       "\n",
       "/* Estimator-specific */\n",
       "#sk-container-id-20 div.sk-estimator {\n",
       "  font-family: monospace;\n",
       "  border: 1px dotted var(--sklearn-color-border-box);\n",
       "  border-radius: 0.25em;\n",
       "  box-sizing: border-box;\n",
       "  margin-bottom: 0.5em;\n",
       "  /* unfitted */\n",
       "  background-color: var(--sklearn-color-unfitted-level-0);\n",
       "}\n",
       "\n",
       "#sk-container-id-20 div.sk-estimator.fitted {\n",
       "  /* fitted */\n",
       "  background-color: var(--sklearn-color-fitted-level-0);\n",
       "}\n",
       "\n",
       "/* on hover */\n",
       "#sk-container-id-20 div.sk-estimator:hover {\n",
       "  /* unfitted */\n",
       "  background-color: var(--sklearn-color-unfitted-level-2);\n",
       "}\n",
       "\n",
       "#sk-container-id-20 div.sk-estimator.fitted:hover {\n",
       "  /* fitted */\n",
       "  background-color: var(--sklearn-color-fitted-level-2);\n",
       "}\n",
       "\n",
       "/* Specification for estimator info (e.g. \"i\" and \"?\") */\n",
       "\n",
       "/* Common style for \"i\" and \"?\" */\n",
       "\n",
       ".sk-estimator-doc-link,\n",
       "a:link.sk-estimator-doc-link,\n",
       "a:visited.sk-estimator-doc-link {\n",
       "  float: right;\n",
       "  font-size: smaller;\n",
       "  line-height: 1em;\n",
       "  font-family: monospace;\n",
       "  background-color: var(--sklearn-color-background);\n",
       "  border-radius: 1em;\n",
       "  height: 1em;\n",
       "  width: 1em;\n",
       "  text-decoration: none !important;\n",
       "  margin-left: 1ex;\n",
       "  /* unfitted */\n",
       "  border: var(--sklearn-color-unfitted-level-1) 1pt solid;\n",
       "  color: var(--sklearn-color-unfitted-level-1);\n",
       "}\n",
       "\n",
       ".sk-estimator-doc-link.fitted,\n",
       "a:link.sk-estimator-doc-link.fitted,\n",
       "a:visited.sk-estimator-doc-link.fitted {\n",
       "  /* fitted */\n",
       "  border: var(--sklearn-color-fitted-level-1) 1pt solid;\n",
       "  color: var(--sklearn-color-fitted-level-1);\n",
       "}\n",
       "\n",
       "/* On hover */\n",
       "div.sk-estimator:hover .sk-estimator-doc-link:hover,\n",
       ".sk-estimator-doc-link:hover,\n",
       "div.sk-label-container:hover .sk-estimator-doc-link:hover,\n",
       ".sk-estimator-doc-link:hover {\n",
       "  /* unfitted */\n",
       "  background-color: var(--sklearn-color-unfitted-level-3);\n",
       "  color: var(--sklearn-color-background);\n",
       "  text-decoration: none;\n",
       "}\n",
       "\n",
       "div.sk-estimator.fitted:hover .sk-estimator-doc-link.fitted:hover,\n",
       ".sk-estimator-doc-link.fitted:hover,\n",
       "div.sk-label-container:hover .sk-estimator-doc-link.fitted:hover,\n",
       ".sk-estimator-doc-link.fitted:hover {\n",
       "  /* fitted */\n",
       "  background-color: var(--sklearn-color-fitted-level-3);\n",
       "  color: var(--sklearn-color-background);\n",
       "  text-decoration: none;\n",
       "}\n",
       "\n",
       "/* Span, style for the box shown on hovering the info icon */\n",
       ".sk-estimator-doc-link span {\n",
       "  display: none;\n",
       "  z-index: 9999;\n",
       "  position: relative;\n",
       "  font-weight: normal;\n",
       "  right: .2ex;\n",
       "  padding: .5ex;\n",
       "  margin: .5ex;\n",
       "  width: min-content;\n",
       "  min-width: 20ex;\n",
       "  max-width: 50ex;\n",
       "  color: var(--sklearn-color-text);\n",
       "  box-shadow: 2pt 2pt 4pt #999;\n",
       "  /* unfitted */\n",
       "  background: var(--sklearn-color-unfitted-level-0);\n",
       "  border: .5pt solid var(--sklearn-color-unfitted-level-3);\n",
       "}\n",
       "\n",
       ".sk-estimator-doc-link.fitted span {\n",
       "  /* fitted */\n",
       "  background: var(--sklearn-color-fitted-level-0);\n",
       "  border: var(--sklearn-color-fitted-level-3);\n",
       "}\n",
       "\n",
       ".sk-estimator-doc-link:hover span {\n",
       "  display: block;\n",
       "}\n",
       "\n",
       "/* \"?\"-specific style due to the `<a>` HTML tag */\n",
       "\n",
       "#sk-container-id-20 a.estimator_doc_link {\n",
       "  float: right;\n",
       "  font-size: 1rem;\n",
       "  line-height: 1em;\n",
       "  font-family: monospace;\n",
       "  background-color: var(--sklearn-color-background);\n",
       "  border-radius: 1rem;\n",
       "  height: 1rem;\n",
       "  width: 1rem;\n",
       "  text-decoration: none;\n",
       "  /* unfitted */\n",
       "  color: var(--sklearn-color-unfitted-level-1);\n",
       "  border: var(--sklearn-color-unfitted-level-1) 1pt solid;\n",
       "}\n",
       "\n",
       "#sk-container-id-20 a.estimator_doc_link.fitted {\n",
       "  /* fitted */\n",
       "  border: var(--sklearn-color-fitted-level-1) 1pt solid;\n",
       "  color: var(--sklearn-color-fitted-level-1);\n",
       "}\n",
       "\n",
       "/* On hover */\n",
       "#sk-container-id-20 a.estimator_doc_link:hover {\n",
       "  /* unfitted */\n",
       "  background-color: var(--sklearn-color-unfitted-level-3);\n",
       "  color: var(--sklearn-color-background);\n",
       "  text-decoration: none;\n",
       "}\n",
       "\n",
       "#sk-container-id-20 a.estimator_doc_link.fitted:hover {\n",
       "  /* fitted */\n",
       "  background-color: var(--sklearn-color-fitted-level-3);\n",
       "}\n",
       "</style><div id=\"sk-container-id-20\" class=\"sk-top-container\"><div class=\"sk-text-repr-fallback\"><pre>AdaBoostRegressor(estimator=DecisionTreeRegressor(max_depth=2,\n",
       "                                                  max_features=&#x27;log2&#x27;,\n",
       "                                                  min_samples_leaf=6,\n",
       "                                                  min_samples_split=6,\n",
       "                                                  random_state=42),\n",
       "                  learning_rate=0.4479332664418882, n_estimators=493,\n",
       "                  random_state=42)</pre><b>In a Jupyter environment, please rerun this cell to show the HTML representation or trust the notebook. <br />On GitHub, the HTML representation is unable to render, please try loading this page with nbviewer.org.</b></div><div class=\"sk-container\" hidden><div class=\"sk-item sk-dashed-wrapped\"><div class=\"sk-label-container\"><div class=\"sk-label fitted sk-toggleable\"><input class=\"sk-toggleable__control sk-hidden--visually\" id=\"sk-estimator-id-32\" type=\"checkbox\" ><label for=\"sk-estimator-id-32\" class=\"sk-toggleable__label fitted sk-toggleable__label-arrow fitted\">&nbsp;&nbsp;AdaBoostRegressor<a class=\"sk-estimator-doc-link fitted\" rel=\"noreferrer\" target=\"_blank\" href=\"https://scikit-learn.org/1.5/modules/generated/sklearn.ensemble.AdaBoostRegressor.html\">?<span>Documentation for AdaBoostRegressor</span></a><span class=\"sk-estimator-doc-link fitted\">i<span>Fitted</span></span></label><div class=\"sk-toggleable__content fitted\"><pre>AdaBoostRegressor(estimator=DecisionTreeRegressor(max_depth=2,\n",
       "                                                  max_features=&#x27;log2&#x27;,\n",
       "                                                  min_samples_leaf=6,\n",
       "                                                  min_samples_split=6,\n",
       "                                                  random_state=42),\n",
       "                  learning_rate=0.4479332664418882, n_estimators=493,\n",
       "                  random_state=42)</pre></div> </div></div><div class=\"sk-parallel\"><div class=\"sk-parallel-item\"><div class=\"sk-item\"><div class=\"sk-label-container\"><div class=\"sk-label fitted sk-toggleable\"><input class=\"sk-toggleable__control sk-hidden--visually\" id=\"sk-estimator-id-33\" type=\"checkbox\" ><label for=\"sk-estimator-id-33\" class=\"sk-toggleable__label fitted sk-toggleable__label-arrow fitted\">estimator: DecisionTreeRegressor</label><div class=\"sk-toggleable__content fitted\"><pre>DecisionTreeRegressor(max_depth=2, max_features=&#x27;log2&#x27;, min_samples_leaf=6,\n",
       "                      min_samples_split=6, random_state=42)</pre></div> </div></div><div class=\"sk-serial\"><div class=\"sk-item\"><div class=\"sk-estimator fitted sk-toggleable\"><input class=\"sk-toggleable__control sk-hidden--visually\" id=\"sk-estimator-id-34\" type=\"checkbox\" ><label for=\"sk-estimator-id-34\" class=\"sk-toggleable__label fitted sk-toggleable__label-arrow fitted\">&nbsp;DecisionTreeRegressor<a class=\"sk-estimator-doc-link fitted\" rel=\"noreferrer\" target=\"_blank\" href=\"https://scikit-learn.org/1.5/modules/generated/sklearn.tree.DecisionTreeRegressor.html\">?<span>Documentation for DecisionTreeRegressor</span></a></label><div class=\"sk-toggleable__content fitted\"><pre>DecisionTreeRegressor(max_depth=2, max_features=&#x27;log2&#x27;, min_samples_leaf=6,\n",
       "                      min_samples_split=6, random_state=42)</pre></div> </div></div></div></div></div></div></div></div></div>"
      ]
     },
     "execution_count": 271,
     "metadata": {},
     "output_type": "execute_result"
    }
   ],
   "execution_count": 271
  },
  {
   "metadata": {},
   "cell_type": "markdown",
   "source": "#### Model Evaluation",
   "id": "8915d82d7c457b7f"
  },
  {
   "metadata": {
    "ExecuteTime": {
     "end_time": "2024-12-11T23:17:18.900484Z",
     "start_time": "2024-12-11T23:17:18.870080Z"
    }
   },
   "cell_type": "code",
   "source": [
    "y_pred_ada_train = ab.predict(X_train)\n",
    "y_pred_ada_test = ab.predict(X_test)"
   ],
   "id": "9c0ac0ae50f964a6",
   "outputs": [],
   "execution_count": 272
  },
  {
   "metadata": {
    "ExecuteTime": {
     "end_time": "2024-12-11T23:17:19.525117Z",
     "start_time": "2024-12-11T23:17:19.421557Z"
    }
   },
   "cell_type": "code",
   "source": [
    "# plot top 10 features\n",
    "plt.figure(figsize=(10, 6))\n",
    "plt.barh(X.columns[np.argsort(ab.feature_importances_)[::-1][:10]],\n",
    "         ab.feature_importances_[np.argsort(ab.feature_importances_)[::-1][:10]])\n",
    "plt.xlabel('Feature Importance')\n",
    "plt.ylabel('Feature')\n",
    "plt.title('Top 10 Features')\n",
    "plt.show()"
   ],
   "id": "917403bda6963f9c",
   "outputs": [
    {
     "data": {
      "text/plain": [
       "<Figure size 1000x600 with 1 Axes>"
      ],
      "image/png": "[encoded data removed]"
     },
     "metadata": {},
     "output_type": "display_data"
    }
   ],
   "execution_count": 273
  },
  {
   "metadata": {
    "ExecuteTime": {
     "end_time": "2024-12-11T23:17:19.679911Z",
     "start_time": "2024-12-11T23:17:19.580939Z"
    }
   },
   "cell_type": "code",
   "source": [
    "# show predicted vs actual\n",
    "plt.figure(figsize=(10, 6))\n",
    "plt.plot(y_test.index, y_test, label='Actual')\n",
    "plt.plot(y_test.index, y_pred_ada_test, label='Predicted')\n",
    "plt.xlabel('Date')\n",
    "plt.ylabel('Price')\n",
    "plt.title('AdaBoost Predicted vs Actual')\n",
    "plt.legend()\n",
    "plt.show()"
   ],
   "id": "fa392e9bde0c080d",
   "outputs": [
    {
     "data": {
      "text/plain": [
       "<Figure size 1000x600 with 1 Axes>"
      ],
      "image/png": "[encoded data removed]"
     },
     "metadata": {},
     "output_type": "display_data"
    }
   ],
   "execution_count": 274
  },
  {
   "metadata": {},
   "cell_type": "markdown",
   "source": "#### Model Saving",
   "id": "835ba6cb0049e56f"
  },
  {
   "metadata": {
    "ExecuteTime": {
     "end_time": "2024-12-11T23:17:19.714728Z",
     "start_time": "2024-12-11T23:17:19.686803Z"
    }
   },
   "cell_type": "code",
   "source": [
    "# Save the model\n",
    "pickle.dump(ab, open('../models/AVB_ab.pkl', 'wb'))"
   ],
   "id": "c4b71ef8b9e86620",
   "outputs": [],
   "execution_count": 275
  },
  {
   "cell_type": "markdown",
   "id": "7c72d40f-cc32-45b3-92a4-6e007fa636a6",
   "metadata": {},
   "source": [
    "### XGBoost"
   ]
  },
  {
   "cell_type": "markdown",
   "id": "a711e506-6e56-4151-98e5-8a2b3fda5dc1",
   "metadata": {},
   "source": [
    "#### Hyperparameter Tuning"
   ]
  },
  {
   "cell_type": "code",
   "id": "fad078c5-6c7b-406b-b060-8af0f974fec6",
   "metadata": {
    "ExecuteTime": {
     "end_time": "2024-12-11T23:17:19.757751Z",
     "start_time": "2024-12-11T23:17:19.733898Z"
    }
   },
   "source": [
    "# Hyperparameter search space\n",
    "def objective(trial):\n",
    "    # Define the hyperparameter search space\n",
    "    param = {\n",
    "        \"n_estimators\": trial.suggest_int(\"n_estimators\", 50, 1000),\n",
    "        \"max_depth\": trial.suggest_int(\"max_depth\", 3, 6),\n",
    "        \"learning_rate\": trial.suggest_float(\"learning_rate\", 1e-4, 0.3, log=True),\n",
    "        \"subsample\": trial.suggest_float(\"subsample\", 0.3, 1.0),\n",
    "        \"colsample_bytree\": trial.suggest_float(\"colsample_bytree\", 0.5, 1.0),\n",
    "        \"gamma\": trial.suggest_float(\"gamma\", 0, 10),\n",
    "        \"min_child_weight\": trial.suggest_int(\"min_child_weight\", 1, 10),\n",
    "        \"reg_alpha\": trial.suggest_float(\"reg_alpha\", 0, 1),  # L1 regularization\n",
    "        \"reg_lambda\": trial.suggest_float(\"reg_lambda\", 0, 5),  # L2 regularization\n",
    "    }\n",
    "\n",
    "    # Initialize XGBoost model\n",
    "    model = XGBRegressor(random_state=42, **param)\n",
    "\n",
    "    scores = cross_val_score(model, X_train, y_train, scoring=scorer, cv=cv, n_jobs=-1)\n",
    "\n",
    "    return -scores.mean()"
   ],
   "outputs": [],
   "execution_count": 276
  },
  {
   "metadata": {
    "ExecuteTime": {
     "end_time": "2024-12-11T23:17:58.670731Z",
     "start_time": "2024-12-11T23:17:19.787242Z"
    }
   },
   "cell_type": "code",
   "source": [
    "# Optimize hyperparameters\n",
    "study_xg = optuna.create_study(direction='minimize', study_name='xg_tuning')\n",
    "study_xg.optimize(objective, n_trials=n_trials, show_progress_bar=True)"
   ],
   "id": "9a9f14e79f9bbbff",
   "outputs": [
    {
     "name": "stderr",
     "output_type": "stream",
     "text": [
      "[I 2024-12-11 18:17:19,809] A new study created in memory with name: xg_tuning\n"
     ]
    },
    {
     "data": {
      "text/plain": [
       "  0%|          | 0/15 [00:00<?, ?it/s]"
      ],
      "application/vnd.jupyter.widget-view+json": {
       "version_major": 2,
       "version_minor": 0,
       "model_id": "3f289e948dee4b1c9f389b652fb53b69"
      }
     },
     "metadata": {},
     "output_type": "display_data"
    },
    {
     "name": "stdout",
     "output_type": "stream",
     "text": [
      "[I 2024-12-11 18:17:22,225] Trial 0 finished with value: 24.388549097483374 and parameters: {'n_estimators': 777, 'max_depth': 3, 'learning_rate': 0.00019720905883560295, 'subsample': 0.3553133973878147, 'colsample_bytree': 0.7556735521314661, 'gamma': 1.0947502637286255, 'min_child_weight': 10, 'reg_alpha': 0.005892327072523296, 'reg_lambda': 4.85415228847118}. Best is trial 0 with value: 24.388549097483374.\n",
      "[I 2024-12-11 18:17:24,592] Trial 1 finished with value: 18.71704454687852 and parameters: {'n_estimators': 490, 'max_depth': 3, 'learning_rate': 0.001125956913661588, 'subsample': 0.4672948862350064, 'colsample_bytree': 0.8610777154557903, 'gamma': 4.9838733379076405, 'min_child_weight': 3, 'reg_alpha': 0.014273071506462509, 'reg_lambda': 4.858905393686123}. Best is trial 1 with value: 18.71704454687852.\n",
      "[I 2024-12-11 18:17:25,135] Trial 2 finished with value: 26.099637260450315 and parameters: {'n_estimators': 192, 'max_depth': 3, 'learning_rate': 0.00019981590321281592, 'subsample': 0.5113244809606471, 'colsample_bytree': 0.7025016663808021, 'gamma': 0.053208636877922766, 'min_child_weight': 7, 'reg_alpha': 0.43419312009976985, 'reg_lambda': 2.0612930945037022}. Best is trial 1 with value: 18.71704454687852.\n",
      "[I 2024-12-11 18:17:29,378] Trial 3 finished with value: 5.429368051705922 and parameters: {'n_estimators': 928, 'max_depth': 4, 'learning_rate': 0.016447206600113704, 'subsample': 0.4233522084669882, 'colsample_bytree': 0.7814043062555405, 'gamma': 5.633525357837829, 'min_child_weight': 8, 'reg_alpha': 0.9112301637906878, 'reg_lambda': 1.6005208072051675}. Best is trial 3 with value: 5.429368051705922.\n",
      "[I 2024-12-11 18:17:32,757] Trial 4 finished with value: 23.536566591282607 and parameters: {'n_estimators': 539, 'max_depth': 5, 'learning_rate': 0.0003192805454679373, 'subsample': 0.8804204660202049, 'colsample_bytree': 0.5389063878501112, 'gamma': 0.007320600805148514, 'min_child_weight': 5, 'reg_alpha': 0.43192671434440666, 'reg_lambda': 4.424895890557654}. Best is trial 3 with value: 5.429368051705922.\n",
      "[I 2024-12-11 18:17:36,351] Trial 5 finished with value: 5.430989541293257 and parameters: {'n_estimators': 725, 'max_depth': 5, 'learning_rate': 0.02671623837999044, 'subsample': 0.4500422351088912, 'colsample_bytree': 0.7843491577629697, 'gamma': 7.799443376810028, 'min_child_weight': 9, 'reg_alpha': 0.5483828198826632, 'reg_lambda': 2.963772240286771}. Best is trial 3 with value: 5.429368051705922.\n",
      "[I 2024-12-11 18:17:38,226] Trial 6 finished with value: 23.569118214213248 and parameters: {'n_estimators': 249, 'max_depth': 4, 'learning_rate': 0.0006380169238530784, 'subsample': 0.6700176279618217, 'colsample_bytree': 0.8209480734493151, 'gamma': 4.885472735658767, 'min_child_weight': 4, 'reg_alpha': 0.8607882850773878, 'reg_lambda': 1.1158530317748006}. Best is trial 3 with value: 5.429368051705922.\n",
      "[I 2024-12-11 18:17:40,231] Trial 7 finished with value: 5.5864746224211475 and parameters: {'n_estimators': 663, 'max_depth': 3, 'learning_rate': 0.06260043449644374, 'subsample': 0.5899172033099648, 'colsample_bytree': 0.795475872508917, 'gamma': 6.2713475990019685, 'min_child_weight': 10, 'reg_alpha': 0.6632038081895292, 'reg_lambda': 4.380957340704276}. Best is trial 3 with value: 5.429368051705922.\n",
      "[I 2024-12-11 18:17:41,936] Trial 8 finished with value: 5.427949288166225 and parameters: {'n_estimators': 737, 'max_depth': 4, 'learning_rate': 0.06356088259455811, 'subsample': 0.822694463602604, 'colsample_bytree': 0.6381946140549961, 'gamma': 7.51823881766076, 'min_child_weight': 4, 'reg_alpha': 0.9808166407862647, 'reg_lambda': 1.5220603698642403}. Best is trial 8 with value: 5.427949288166225.\n",
      "[I 2024-12-11 18:17:44,942] Trial 9 finished with value: 18.885230262915123 and parameters: {'n_estimators': 516, 'max_depth': 3, 'learning_rate': 0.0009536804571774907, 'subsample': 0.6548870216049685, 'colsample_bytree': 0.9908481888308427, 'gamma': 1.8348673764907186, 'min_child_weight': 2, 'reg_alpha': 0.061362449428383536, 'reg_lambda': 4.431999113319652}. Best is trial 8 with value: 5.427949288166225.\n",
      "[I 2024-12-11 18:17:46,213] Trial 10 finished with value: 6.074750889448991 and parameters: {'n_estimators': 900, 'max_depth': 6, 'learning_rate': 0.25484552306380864, 'subsample': 0.998724952759248, 'colsample_bytree': 0.5821059098379524, 'gamma': 9.612693314944975, 'min_child_weight': 6, 'reg_alpha': 0.7618907127654779, 'reg_lambda': 0.09345847933859819}. Best is trial 8 with value: 5.427949288166225.\n",
      "[I 2024-12-11 18:17:51,193] Trial 11 finished with value: 5.441162749720097 and parameters: {'n_estimators': 994, 'max_depth': 4, 'learning_rate': 0.008877194754689087, 'subsample': 0.7833529866119702, 'colsample_bytree': 0.6371585045569212, 'gamma': 7.31567091774243, 'min_child_weight': 8, 'reg_alpha': 0.9972662989239581, 'reg_lambda': 1.8026172288776556}. Best is trial 8 with value: 5.427949288166225.\n",
      "[I 2024-12-11 18:17:54,598] Trial 12 finished with value: 6.046728596779326 and parameters: {'n_estimators': 847, 'max_depth': 4, 'learning_rate': 0.006990701048127103, 'subsample': 0.3048637799902433, 'colsample_bytree': 0.6676233419197599, 'gamma': 3.347959486346188, 'min_child_weight': 6, 'reg_alpha': 0.982898645895517, 'reg_lambda': 0.8469986566843781}. Best is trial 8 with value: 5.427949288166225.\n",
      "[I 2024-12-11 18:17:57,723] Trial 13 finished with value: 5.678257783820848 and parameters: {'n_estimators': 952, 'max_depth': 5, 'learning_rate': 0.0605080382429172, 'subsample': 0.7649583244282673, 'colsample_bytree': 0.9229595879917387, 'gamma': 8.07827449283725, 'min_child_weight': 1, 'reg_alpha': 0.8332965773887999, 'reg_lambda': 3.3633329277170345}. Best is trial 8 with value: 5.427949288166225.\n",
      "[I 2024-12-11 18:17:58,662] Trial 14 finished with value: 5.6722897268715915 and parameters: {'n_estimators': 653, 'max_depth': 4, 'learning_rate': 0.2053260146324983, 'subsample': 0.8735035223612666, 'colsample_bytree': 0.5015500579418379, 'gamma': 6.259360222715621, 'min_child_weight': 4, 'reg_alpha': 0.25252828248767806, 'reg_lambda': 1.3265853927589666}. Best is trial 8 with value: 5.427949288166225.\n"
     ]
    }
   ],
   "execution_count": 277
  },
  {
   "metadata": {
    "ExecuteTime": {
     "end_time": "2024-12-11T23:17:59.600235Z",
     "start_time": "2024-12-11T23:17:59.420026Z"
    }
   },
   "cell_type": "code",
   "source": [
    "# Visualizations\n",
    "vis.plot_optimization_history(study_xg).show()\n",
    "vis.plot_param_importances(study_xg).show()"
   ],
   "id": "51d0dbc5c4e8f9d2",
   "outputs": [
    {
     "data": {
      "application/vnd.plotly.v1+json": {
       "data": [
        {
         "mode": "markers",
         "name": "Objective Value",
         "x": [
          0,
          1,
          2,
          3,
          4,
          5,
          6,
          7,
          8,
          9,
          10,
          11,
          12,
          13,
          14
         ],
         "y": [
          24.388549097483374,
          18.71704454687852,
          26.099637260450315,
          5.429368051705922,
          23.536566591282607,
          5.430989541293257,
          23.569118214213248,
          5.5864746224211475,
          5.427949288166225,
          18.885230262915123,
          6.074750889448991,
          5.441162749720097,
          6.046728596779326,
          5.678257783820848,
          5.6722897268715915
         ],
         "type": "scatter"
        },
        {
         "mode": "lines",
         "name": "Best Value",
         "x": [
          0,
          1,
          2,
          3,
          4,
          5,
          6,
          7,
          8,
          9,
          10,
          11,
          12,
          13,
          14
         ],
         "y": [
          24.388549097483374,
          18.71704454687852,
          18.71704454687852,
          5.429368051705922,
          5.429368051705922,
          5.429368051705922,
          5.429368051705922,
          5.429368051705922,
          5.427949288166225,
          5.427949288166225,
          5.427949288166225,
          5.427949288166225,
          5.427949288166225,
          5.427949288166225,
          5.427949288166225
         ],
         "type": "scatter"
        },
        {
         "marker": {
          "color": "#cccccc"
         },
         "mode": "markers",
         "name": "Infeasible Trial",
         "showlegend": false,
         "x": [],
         "y": [],
         "type": "scatter"
        }
       ],
       "layout": {
        "title": {
         "text": "Optimization History Plot"
        },
        "xaxis": {
         "title": {
          "text": "Trial"
         }
        },
        "yaxis": {
         "title": {
          "text": "Objective Value"
         }
        },
        "template": {
         "data": {
          "histogram2dcontour": [
           {
            "type": "histogram2dcontour",
            "colorbar": {
             "outlinewidth": 0,
             "ticks": ""
            },
            "colorscale": [
             [
              0.0,
              "#0d0887"
             ],
             [
              0.1111111111111111,
              "#46039f"
             ],
             [
              0.2222222222222222,
              "#7201a8"
             ],
             [
              0.3333333333333333,
              "#9c179e"
             ],
             [
              0.4444444444444444,
              "#bd3786"
             ],
             [
              0.5555555555555556,
              "#d8576b"
             ],
             [
              0.6666666666666666,
              "#ed7953"
             ],
             [
              0.7777777777777778,
              "#fb9f3a"
             ],
             [
              0.8888888888888888,
              "#fdca26"
             ],
             [
              1.0,
              "#f0f921"
             ]
            ]
           }
          ],
          "choropleth": [
           {
            "type": "choropleth",
            "colorbar": {
             "outlinewidth": 0,
             "ticks": ""
            }
           }
          ],
          "histogram2d": [
           {
            "type": "histogram2d",
            "colorbar": {
             "outlinewidth": 0,
             "ticks": ""
            },
            "colorscale": [
             [
              0.0,
              "#0d0887"
             ],
             [
              0.1111111111111111,
              "#46039f"
             ],
             [
              0.2222222222222222,
              "#7201a8"
             ],
             [
              0.3333333333333333,
              "#9c179e"
             ],
             [
              0.4444444444444444,
              "#bd3786"
             ],
             [
              0.5555555555555556,
              "#d8576b"
             ],
             [
              0.6666666666666666,
              "#ed7953"
             ],
             [
              0.7777777777777778,
              "#fb9f3a"
             ],
             [
              0.8888888888888888,
              "#fdca26"
             ],
             [
              1.0,
              "#f0f921"
             ]
            ]
           }
          ],
          "heatmap": [
           {
            "type": "heatmap",
            "colorbar": {
             "outlinewidth": 0,
             "ticks": ""
            },
            "colorscale": [
             [
              0.0,
              "#0d0887"
             ],
             [
              0.1111111111111111,
              "#46039f"
             ],
             [
              0.2222222222222222,
              "#7201a8"
             ],
             [
              0.3333333333333333,
              "#9c179e"
             ],
             [
              0.4444444444444444,
              "#bd3786"
             ],
             [
              0.5555555555555556,
              "#d8576b"
             ],
             [
              0.6666666666666666,
              "#ed7953"
             ],
             [
              0.7777777777777778,
              "#fb9f3a"
             ],
             [
              0.8888888888888888,
              "#fdca26"
             ],
             [
              1.0,
              "#f0f921"
             ]
            ]
           }
          ],
          "heatmapgl": [
           {
            "type": "heatmapgl",
            "colorbar": {
             "outlinewidth": 0,
             "ticks": ""
            },
            "colorscale": [
             [
              0.0,
              "#0d0887"
             ],
             [
              0.1111111111111111,
              "#46039f"
             ],
             [
              0.2222222222222222,
              "#7201a8"
             ],
             [
              0.3333333333333333,
              "#9c179e"
             ],
             [
              0.4444444444444444,
              "#bd3786"
             ],
             [
              0.5555555555555556,
              "#d8576b"
             ],
             [
              0.6666666666666666,
              "#ed7953"
             ],
             [
              0.7777777777777778,
              "#fb9f3a"
             ],
             [
              0.8888888888888888,
              "#fdca26"
             ],
             [
              1.0,
              "#f0f921"
             ]
            ]
           }
          ],
          "contourcarpet": [
           {
            "type": "contourcarpet",
            "colorbar": {
             "outlinewidth": 0,
             "ticks": ""
            }
           }
          ],
          "contour": [
           {
            "type": "contour",
            "colorbar": {
             "outlinewidth": 0,
             "ticks": ""
            },
            "colorscale": [
             [
              0.0,
              "#0d0887"
             ],
             [
              0.1111111111111111,
              "#46039f"
             ],
             [
              0.2222222222222222,
              "#7201a8"
             ],
             [
              0.3333333333333333,
              "#9c179e"
             ],
             [
              0.4444444444444444,
              "#bd3786"
             ],
             [
              0.5555555555555556,
              "#d8576b"
             ],
             [
              0.6666666666666666,
              "#ed7953"
             ],
             [
              0.7777777777777778,
              "#fb9f3a"
             ],
             [
              0.8888888888888888,
              "#fdca26"
             ],
             [
              1.0,
              "#f0f921"
             ]
            ]
           }
          ],
          "surface": [
           {
            "type": "surface",
            "colorbar": {
             "outlinewidth": 0,
             "ticks": ""
            },
            "colorscale": [
             [
              0.0,
              "#0d0887"
             ],
             [
              0.1111111111111111,
              "#46039f"
             ],
             [
              0.2222222222222222,
              "#7201a8"
             ],
             [
              0.3333333333333333,
              "#9c179e"
             ],
             [
              0.4444444444444444,
              "#bd3786"
             ],
             [
              0.5555555555555556,
              "#d8576b"
             ],
             [
              0.6666666666666666,
              "#ed7953"
             ],
             [
              0.7777777777777778,
              "#fb9f3a"
             ],
             [
              0.8888888888888888,
              "#fdca26"
             ],
             [
              1.0,
              "#f0f921"
             ]
            ]
           }
          ],
          "mesh3d": [
           {
            "type": "mesh3d",
            "colorbar": {
             "outlinewidth": 0,
             "ticks": ""
            }
           }
          ],
          "scatter": [
           {
            "fillpattern": {
             "fillmode": "overlay",
             "size": 10,
             "solidity": 0.2
            },
            "type": "scatter"
           }
          ],
          "parcoords": [
           {
            "type": "parcoords",
            "line": {
             "colorbar": {
              "outlinewidth": 0,
              "ticks": ""
             }
            }
           }
          ],
          "scatterpolargl": [
           {
            "type": "scatterpolargl",
            "marker": {
             "colorbar": {
              "outlinewidth": 0,
              "ticks": ""
             }
            }
           }
          ],
          "bar": [
           {
            "error_x": {
             "color": "#2a3f5f"
            },
            "error_y": {
             "color": "#2a3f5f"
            },
            "marker": {
             "line": {
              "color": "#E5ECF6",
              "width": 0.5
             },
             "pattern": {
              "fillmode": "overlay",
              "size": 10,
              "solidity": 0.2
             }
            },
            "type": "bar"
           }
          ],
          "scattergeo": [
           {
            "type": "scattergeo",
            "marker": {
             "colorbar": {
              "outlinewidth": 0,
              "ticks": ""
             }
            }
           }
          ],
          "scatterpolar": [
           {
            "type": "scatterpolar",
            "marker": {
             "colorbar": {
              "outlinewidth": 0,
              "ticks": ""
             }
            }
           }
          ],
          "histogram": [
           {
            "marker": {
             "pattern": {
              "fillmode": "overlay",
              "size": 10,
              "solidity": 0.2
             }
            },
            "type": "histogram"
           }
          ],
          "scattergl": [
           {
            "type": "scattergl",
            "marker": {
             "colorbar": {
              "outlinewidth": 0,
              "ticks": ""
             }
            }
           }
          ],
          "scatter3d": [
           {
            "type": "scatter3d",
            "line": {
             "colorbar": {
              "outlinewidth": 0,
              "ticks": ""
             }
            },
            "marker": {
             "colorbar": {
              "outlinewidth": 0,
              "ticks": ""
             }
            }
           }
          ],
          "scattermapbox": [
           {
            "type": "scattermapbox",
            "marker": {
             "colorbar": {
              "outlinewidth": 0,
              "ticks": ""
             }
            }
           }
          ],
          "scatterternary": [
           {
            "type": "scatterternary",
            "marker": {
             "colorbar": {
              "outlinewidth": 0,
              "ticks": ""
             }
            }
           }
          ],
          "scattercarpet": [
           {
            "type": "scattercarpet",
            "marker": {
             "colorbar": {
              "outlinewidth": 0,
              "ticks": ""
             }
            }
           }
          ],
          "carpet": [
           {
            "aaxis": {
             "endlinecolor": "#2a3f5f",
             "gridcolor": "white",
             "linecolor": "white",
             "minorgridcolor": "white",
             "startlinecolor": "#2a3f5f"
            },
            "baxis": {
             "endlinecolor": "#2a3f5f",
             "gridcolor": "white",
             "linecolor": "white",
             "minorgridcolor": "white",
             "startlinecolor": "#2a3f5f"
            },
            "type": "carpet"
           }
          ],
          "table": [
           {
            "cells": {
             "fill": {
              "color": "#EBF0F8"
             },
             "line": {
              "color": "white"
             }
            },
            "header": {
             "fill": {
              "color": "#C8D4E3"
             },
             "line": {
              "color": "white"
             }
            },
            "type": "table"
           }
          ],
          "barpolar": [
           {
            "marker": {
             "line": {
              "color": "#E5ECF6",
              "width": 0.5
             },
             "pattern": {
              "fillmode": "overlay",
              "size": 10,
              "solidity": 0.2
             }
            },
            "type": "barpolar"
           }
          ],
          "pie": [
           {
            "automargin": true,
            "type": "pie"
           }
          ]
         },
         "layout": {
          "autotypenumbers": "strict",
          "colorway": [
           "#636efa",
           "#EF553B",
           "#00cc96",
           "#ab63fa",
           "#FFA15A",
           "#19d3f3",
           "#FF6692",
           "#B6E880",
           "#FF97FF",
           "#FECB52"
          ],
          "font": {
           "color": "#2a3f5f"
          },
          "hovermode": "closest",
          "hoverlabel": {
           "align": "left"
          },
          "paper_bgcolor": "white",
          "plot_bgcolor": "#E5ECF6",
          "polar": {
           "bgcolor": "#E5ECF6",
           "angularaxis": {
            "gridcolor": "white",
            "linecolor": "white",
            "ticks": ""
           },
           "radialaxis": {
            "gridcolor": "white",
            "linecolor": "white",
            "ticks": ""
           }
          },
          "ternary": {
           "bgcolor": "#E5ECF6",
           "aaxis": {
            "gridcolor": "white",
            "linecolor": "white",
            "ticks": ""
           },
           "baxis": {
            "gridcolor": "white",
            "linecolor": "white",
            "ticks": ""
           },
           "caxis": {
            "gridcolor": "white",
            "linecolor": "white",
            "ticks": ""
           }
          },
          "coloraxis": {
           "colorbar": {
            "outlinewidth": 0,
            "ticks": ""
           }
          },
          "colorscale": {
           "sequential": [
            [
             0.0,
             "#0d0887"
            ],
            [
             0.1111111111111111,
             "#46039f"
            ],
            [
             0.2222222222222222,
             "#7201a8"
            ],
            [
             0.3333333333333333,
             "#9c179e"
            ],
            [
             0.4444444444444444,
             "#bd3786"
            ],
            [
             0.5555555555555556,
             "#d8576b"
            ],
            [
             0.6666666666666666,
             "#ed7953"
            ],
            [
             0.7777777777777778,
             "#fb9f3a"
            ],
            [
             0.8888888888888888,
             "#fdca26"
            ],
            [
             1.0,
             "#f0f921"
            ]
           ],
           "sequentialminus": [
            [
             0.0,
             "#0d0887"
            ],
            [
             0.1111111111111111,
             "#46039f"
            ],
            [
             0.2222222222222222,
             "#7201a8"
            ],
            [
             0.3333333333333333,
             "#9c179e"
            ],
            [
             0.4444444444444444,
             "#bd3786"
            ],
            [
             0.5555555555555556,
             "#d8576b"
            ],
            [
             0.6666666666666666,
             "#ed7953"
            ],
            [
             0.7777777777777778,
             "#fb9f3a"
            ],
            [
             0.8888888888888888,
             "#fdca26"
            ],
            [
             1.0,
             "#f0f921"
            ]
           ],
           "diverging": [
            [
             0,
             "#8e0152"
            ],
            [
             0.1,
             "#c51b7d"
            ],
            [
             0.2,
             "#de77ae"
            ],
            [
             0.3,
             "#f1b6da"
            ],
            [
             0.4,
             "#fde0ef"
            ],
            [
             0.5,
             "#f7f7f7"
            ],
            [
             0.6,
             "#e6f5d0"
            ],
            [
             0.7,
             "#b8e186"
            ],
            [
             0.8,
             "#7fbc41"
            ],
            [
             0.9,
             "#4d9221"
            ],
            [
             1,
             "#276419"
            ]
           ]
          },
          "xaxis": {
           "gridcolor": "white",
           "linecolor": "white",
           "ticks": "",
           "title": {
            "standoff": 15
           },
           "zerolinecolor": "white",
           "automargin": true,
           "zerolinewidth": 2
          },
          "yaxis": {
           "gridcolor": "white",
           "linecolor": "white",
           "ticks": "",
           "title": {
            "standoff": 15
           },
           "zerolinecolor": "white",
           "automargin": true,
           "zerolinewidth": 2
          },
          "scene": {
           "xaxis": {
            "backgroundcolor": "#E5ECF6",
            "gridcolor": "white",
            "linecolor": "white",
            "showbackground": true,
            "ticks": "",
            "zerolinecolor": "white",
            "gridwidth": 2
           },
           "yaxis": {
            "backgroundcolor": "#E5ECF6",
            "gridcolor": "white",
            "linecolor": "white",
            "showbackground": true,
            "ticks": "",
            "zerolinecolor": "white",
            "gridwidth": 2
           },
           "zaxis": {
            "backgroundcolor": "#E5ECF6",
            "gridcolor": "white",
            "linecolor": "white",
            "showbackground": true,
            "ticks": "",
            "zerolinecolor": "white",
            "gridwidth": 2
           }
          },
          "shapedefaults": {
           "line": {
            "color": "#2a3f5f"
           }
          },
          "annotationdefaults": {
           "arrowcolor": "#2a3f5f",
           "arrowhead": 0,
           "arrowwidth": 1
          },
          "geo": {
           "bgcolor": "white",
           "landcolor": "#E5ECF6",
           "subunitcolor": "white",
           "showland": true,
           "showlakes": true,
           "lakecolor": "white"
          },
          "title": {
           "x": 0.05
          },
          "mapbox": {
           "style": "light"
          }
         }
        }
       },
       "config": {
        "plotlyServerURL": "https://plot.ly"
       }
      },
      "text/html": [
       "<div>                            <div id=\"0b4d3da6-8db3-4867-bd44-86276e6d465f\" class=\"plotly-graph-div\" style=\"height:525px; width:100%;\"></div>            <script type=\"text/javascript\">                require([\"plotly\"], function(Plotly) {                    window.PLOTLYENV=window.PLOTLYENV || {};                                    if (document.getElementById(\"0b4d3da6-8db3-4867-bd44-86276e6d465f\")) {                    Plotly.newPlot(                        \"0b4d3da6-8db3-4867-bd44-86276e6d465f\",                        [{\"mode\":\"markers\",\"name\":\"Objective Value\",\"x\":[0,1,2,3,4,5,6,7,8,9,10,11,12,13,14],\"y\":[24.388549097483374,18.71704454687852,26.099637260450315,5.429368051705922,23.536566591282607,5.430989541293257,23.569118214213248,5.5864746224211475,5.427949288166225,18.885230262915123,6.074750889448991,5.441162749720097,6.046728596779326,5.678257783820848,5.6722897268715915],\"type\":\"scatter\"},{\"mode\":\"lines\",\"name\":\"Best Value\",\"x\":[0,1,2,3,4,5,6,7,8,9,10,11,12,13,14],\"y\":[24.388549097483374,18.71704454687852,18.71704454687852,5.429368051705922,5.429368051705922,5.429368051705922,5.429368051705922,5.429368051705922,5.427949288166225,5.427949288166225,5.427949288166225,5.427949288166225,5.427949288166225,5.427949288166225,5.427949288166225],\"type\":\"scatter\"},{\"marker\":{\"color\":\"#cccccc\"},\"mode\":\"markers\",\"name\":\"Infeasible Trial\",\"showlegend\":false,\"x\":[],\"y\":[],\"type\":\"scatter\"}],                        {\"title\":{\"text\":\"Optimization History Plot\"},\"xaxis\":{\"title\":{\"text\":\"Trial\"}},\"yaxis\":{\"title\":{\"text\":\"Objective Value\"}},\"template\":{\"data\":{\"histogram2dcontour\":[{\"type\":\"histogram2dcontour\",\"colorbar\":{\"outlinewidth\":0,\"ticks\":\"\"},\"colorscale\":[[0.0,\"#0d0887\"],[0.1111111111111111,\"#46039f\"],[0.2222222222222222,\"#7201a8\"],[0.3333333333333333,\"#9c179e\"],[0.4444444444444444,\"#bd3786\"],[0.5555555555555556,\"#d8576b\"],[0.6666666666666666,\"#ed7953\"],[0.7777777777777778,\"#fb9f3a\"],[0.8888888888888888,\"#fdca26\"],[1.0,\"#f0f921\"]]}],\"choropleth\":[{\"type\":\"choropleth\",\"colorbar\":{\"outlinewidth\":0,\"ticks\":\"\"}}],\"histogram2d\":[{\"type\":\"histogram2d\",\"colorbar\":{\"outlinewidth\":0,\"ticks\":\"\"},\"colorscale\":[[0.0,\"#0d0887\"],[0.1111111111111111,\"#46039f\"],[0.2222222222222222,\"#7201a8\"],[0.3333333333333333,\"#9c179e\"],[0.4444444444444444,\"#bd3786\"],[0.5555555555555556,\"#d8576b\"],[0.6666666666666666,\"#ed7953\"],[0.7777777777777778,\"#fb9f3a\"],[0.8888888888888888,\"#fdca26\"],[1.0,\"#f0f921\"]]}],\"heatmap\":[{\"type\":\"heatmap\",\"colorbar\":{\"outlinewidth\":0,\"ticks\":\"\"},\"colorscale\":[[0.0,\"#0d0887\"],[0.1111111111111111,\"#46039f\"],[0.2222222222222222,\"#7201a8\"],[0.3333333333333333,\"#9c179e\"],[0.4444444444444444,\"#bd3786\"],[0.5555555555555556,\"#d8576b\"],[0.6666666666666666,\"#ed7953\"],[0.7777777777777778,\"#fb9f3a\"],[0.8888888888888888,\"#fdca26\"],[1.0,\"#f0f921\"]]}],\"heatmapgl\":[{\"type\":\"heatmapgl\",\"colorbar\":{\"outlinewidth\":0,\"ticks\":\"\"},\"colorscale\":[[0.0,\"#0d0887\"],[0.1111111111111111,\"#46039f\"],[0.2222222222222222,\"#7201a8\"],[0.3333333333333333,\"#9c179e\"],[0.4444444444444444,\"#bd3786\"],[0.5555555555555556,\"#d8576b\"],[0.6666666666666666,\"#ed7953\"],[0.7777777777777778,\"#fb9f3a\"],[0.8888888888888888,\"#fdca26\"],[1.0,\"#f0f921\"]]}],\"contourcarpet\":[{\"type\":\"contourcarpet\",\"colorbar\":{\"outlinewidth\":0,\"ticks\":\"\"}}],\"contour\":[{\"type\":\"contour\",\"colorbar\":{\"outlinewidth\":0,\"ticks\":\"\"},\"colorscale\":[[0.0,\"#0d0887\"],[0.1111111111111111,\"#46039f\"],[0.2222222222222222,\"#7201a8\"],[0.3333333333333333,\"#9c179e\"],[0.4444444444444444,\"#bd3786\"],[0.5555555555555556,\"#d8576b\"],[0.6666666666666666,\"#ed7953\"],[0.7777777777777778,\"#fb9f3a\"],[0.8888888888888888,\"#fdca26\"],[1.0,\"#f0f921\"]]}],\"surface\":[{\"type\":\"surface\",\"colorbar\":{\"outlinewidth\":0,\"ticks\":\"\"},\"colorscale\":[[0.0,\"#0d0887\"],[0.1111111111111111,\"#46039f\"],[0.2222222222222222,\"#7201a8\"],[0.3333333333333333,\"#9c179e\"],[0.4444444444444444,\"#bd3786\"],[0.5555555555555556,\"#d8576b\"],[0.6666666666666666,\"#ed7953\"],[0.7777777777777778,\"#fb9f3a\"],[0.8888888888888888,\"#fdca26\"],[1.0,\"#f0f921\"]]}],\"mesh3d\":[{\"type\":\"mesh3d\",\"colorbar\":{\"outlinewidth\":0,\"ticks\":\"\"}}],\"scatter\":[{\"fillpattern\":{\"fillmode\":\"overlay\",\"size\":10,\"solidity\":0.2},\"type\":\"scatter\"}],\"parcoords\":[{\"type\":\"parcoords\",\"line\":{\"colorbar\":{\"outlinewidth\":0,\"ticks\":\"\"}}}],\"scatterpolargl\":[{\"type\":\"scatterpolargl\",\"marker\":{\"colorbar\":{\"outlinewidth\":0,\"ticks\":\"\"}}}],\"bar\":[{\"error_x\":{\"color\":\"#2a3f5f\"},\"error_y\":{\"color\":\"#2a3f5f\"},\"marker\":{\"line\":{\"color\":\"#E5ECF6\",\"width\":0.5},\"pattern\":{\"fillmode\":\"overlay\",\"size\":10,\"solidity\":0.2}},\"type\":\"bar\"}],\"scattergeo\":[{\"type\":\"scattergeo\",\"marker\":{\"colorbar\":{\"outlinewidth\":0,\"ticks\":\"\"}}}],\"scatterpolar\":[{\"type\":\"scatterpolar\",\"marker\":{\"colorbar\":{\"outlinewidth\":0,\"ticks\":\"\"}}}],\"histogram\":[{\"marker\":{\"pattern\":{\"fillmode\":\"overlay\",\"size\":10,\"solidity\":0.2}},\"type\":\"histogram\"}],\"scattergl\":[{\"type\":\"scattergl\",\"marker\":{\"colorbar\":{\"outlinewidth\":0,\"ticks\":\"\"}}}],\"scatter3d\":[{\"type\":\"scatter3d\",\"line\":{\"colorbar\":{\"outlinewidth\":0,\"ticks\":\"\"}},\"marker\":{\"colorbar\":{\"outlinewidth\":0,\"ticks\":\"\"}}}],\"scattermapbox\":[{\"type\":\"scattermapbox\",\"marker\":{\"colorbar\":{\"outlinewidth\":0,\"ticks\":\"\"}}}],\"scatterternary\":[{\"type\":\"scatterternary\",\"marker\":{\"colorbar\":{\"outlinewidth\":0,\"ticks\":\"\"}}}],\"scattercarpet\":[{\"type\":\"scattercarpet\",\"marker\":{\"colorbar\":{\"outlinewidth\":0,\"ticks\":\"\"}}}],\"carpet\":[{\"aaxis\":{\"endlinecolor\":\"#2a3f5f\",\"gridcolor\":\"white\",\"linecolor\":\"white\",\"minorgridcolor\":\"white\",\"startlinecolor\":\"#2a3f5f\"},\"baxis\":{\"endlinecolor\":\"#2a3f5f\",\"gridcolor\":\"white\",\"linecolor\":\"white\",\"minorgridcolor\":\"white\",\"startlinecolor\":\"#2a3f5f\"},\"type\":\"carpet\"}],\"table\":[{\"cells\":{\"fill\":{\"color\":\"#EBF0F8\"},\"line\":{\"color\":\"white\"}},\"header\":{\"fill\":{\"color\":\"#C8D4E3\"},\"line\":{\"color\":\"white\"}},\"type\":\"table\"}],\"barpolar\":[{\"marker\":{\"line\":{\"color\":\"#E5ECF6\",\"width\":0.5},\"pattern\":{\"fillmode\":\"overlay\",\"size\":10,\"solidity\":0.2}},\"type\":\"barpolar\"}],\"pie\":[{\"automargin\":true,\"type\":\"pie\"}]},\"layout\":{\"autotypenumbers\":\"strict\",\"colorway\":[\"#636efa\",\"#EF553B\",\"#00cc96\",\"#ab63fa\",\"#FFA15A\",\"#19d3f3\",\"#FF6692\",\"#B6E880\",\"#FF97FF\",\"#FECB52\"],\"font\":{\"color\":\"#2a3f5f\"},\"hovermode\":\"closest\",\"hoverlabel\":{\"align\":\"left\"},\"paper_bgcolor\":\"white\",\"plot_bgcolor\":\"#E5ECF6\",\"polar\":{\"bgcolor\":\"#E5ECF6\",\"angularaxis\":{\"gridcolor\":\"white\",\"linecolor\":\"white\",\"ticks\":\"\"},\"radialaxis\":{\"gridcolor\":\"white\",\"linecolor\":\"white\",\"ticks\":\"\"}},\"ternary\":{\"bgcolor\":\"#E5ECF6\",\"aaxis\":{\"gridcolor\":\"white\",\"linecolor\":\"white\",\"ticks\":\"\"},\"baxis\":{\"gridcolor\":\"white\",\"linecolor\":\"white\",\"ticks\":\"\"},\"caxis\":{\"gridcolor\":\"white\",\"linecolor\":\"white\",\"ticks\":\"\"}},\"coloraxis\":{\"colorbar\":{\"outlinewidth\":0,\"ticks\":\"\"}},\"colorscale\":{\"sequential\":[[0.0,\"#0d0887\"],[0.1111111111111111,\"#46039f\"],[0.2222222222222222,\"#7201a8\"],[0.3333333333333333,\"#9c179e\"],[0.4444444444444444,\"#bd3786\"],[0.5555555555555556,\"#d8576b\"],[0.6666666666666666,\"#ed7953\"],[0.7777777777777778,\"#fb9f3a\"],[0.8888888888888888,\"#fdca26\"],[1.0,\"#f0f921\"]],\"sequentialminus\":[[0.0,\"#0d0887\"],[0.1111111111111111,\"#46039f\"],[0.2222222222222222,\"#7201a8\"],[0.3333333333333333,\"#9c179e\"],[0.4444444444444444,\"#bd3786\"],[0.5555555555555556,\"#d8576b\"],[0.6666666666666666,\"#ed7953\"],[0.7777777777777778,\"#fb9f3a\"],[0.8888888888888888,\"#fdca26\"],[1.0,\"#f0f921\"]],\"diverging\":[[0,\"#8e0152\"],[0.1,\"#c51b7d\"],[0.2,\"#de77ae\"],[0.3,\"#f1b6da\"],[0.4,\"#fde0ef\"],[0.5,\"#f7f7f7\"],[0.6,\"#e6f5d0\"],[0.7,\"#b8e186\"],[0.8,\"#7fbc41\"],[0.9,\"#4d9221\"],[1,\"#276419\"]]},\"xaxis\":{\"gridcolor\":\"white\",\"linecolor\":\"white\",\"ticks\":\"\",\"title\":{\"standoff\":15},\"zerolinecolor\":\"white\",\"automargin\":true,\"zerolinewidth\":2},\"yaxis\":{\"gridcolor\":\"white\",\"linecolor\":\"white\",\"ticks\":\"\",\"title\":{\"standoff\":15},\"zerolinecolor\":\"white\",\"automargin\":true,\"zerolinewidth\":2},\"scene\":{\"xaxis\":{\"backgroundcolor\":\"#E5ECF6\",\"gridcolor\":\"white\",\"linecolor\":\"white\",\"showbackground\":true,\"ticks\":\"\",\"zerolinecolor\":\"white\",\"gridwidth\":2},\"yaxis\":{\"backgroundcolor\":\"#E5ECF6\",\"gridcolor\":\"white\",\"linecolor\":\"white\",\"showbackground\":true,\"ticks\":\"\",\"zerolinecolor\":\"white\",\"gridwidth\":2},\"zaxis\":{\"backgroundcolor\":\"#E5ECF6\",\"gridcolor\":\"white\",\"linecolor\":\"white\",\"showbackground\":true,\"ticks\":\"\",\"zerolinecolor\":\"white\",\"gridwidth\":2}},\"shapedefaults\":{\"line\":{\"color\":\"#2a3f5f\"}},\"annotationdefaults\":{\"arrowcolor\":\"#2a3f5f\",\"arrowhead\":0,\"arrowwidth\":1},\"geo\":{\"bgcolor\":\"white\",\"landcolor\":\"#E5ECF6\",\"subunitcolor\":\"white\",\"showland\":true,\"showlakes\":true,\"lakecolor\":\"white\"},\"title\":{\"x\":0.05},\"mapbox\":{\"style\":\"light\"}}}},                        {\"responsive\": true}                    ).then(function(){\n",
       "                            \n",
       "var gd = document.getElementById('0b4d3da6-8db3-4867-bd44-86276e6d465f');\n",
       "var x = new MutationObserver(function (mutations, observer) {{\n",
       "        var display = window.getComputedStyle(gd).display;\n",
       "        if (!display || display === 'none') {{\n",
       "            console.log([gd, 'removed!']);\n",
       "            Plotly.purge(gd);\n",
       "            observer.disconnect();\n",
       "        }}\n",
       "}});\n",
       "\n",
       "// Listen for the removal of the full notebook cells\n",
       "var notebookContainer = gd.closest('#notebook-container');\n",
       "if (notebookContainer) {{\n",
       "    x.observe(notebookContainer, {childList: true});\n",
       "}}\n",
       "\n",
       "// Listen for the clearing of the current output cell\n",
       "var outputEl = gd.closest('.output');\n",
       "if (outputEl) {{\n",
       "    x.observe(outputEl, {childList: true});\n",
       "}}\n",
       "\n",
       "                        })                };                });            </script>        </div>"
      ]
     },
     "metadata": {},
     "output_type": "display_data"
    },
    {
     "data": {
      "application/vnd.plotly.v1+json": {
       "data": [
        {
         "cliponaxis": false,
         "hovertemplate": [
          "subsample (FloatDistribution): 0.0010774094877955334<extra></extra>",
          "colsample_bytree (FloatDistribution): 0.0017365279726437458<extra></extra>",
          "min_child_weight (IntDistribution): 0.005082434140288732<extra></extra>",
          "max_depth (IntDistribution): 0.03082213928221316<extra></extra>",
          "reg_alpha (FloatDistribution): 0.03132430463563759<extra></extra>",
          "reg_lambda (FloatDistribution): 0.08258028857652934<extra></extra>",
          "gamma (FloatDistribution): 0.11003071739459466<extra></extra>",
          "n_estimators (IntDistribution): 0.1802082387920156<extra></extra>",
          "learning_rate (FloatDistribution): 0.5571379397182817<extra></extra>"
         ],
         "name": "Objective Value",
         "orientation": "h",
         "text": [
          "<0.01",
          "<0.01",
          "<0.01",
          "0.03",
          "0.03",
          "0.08",
          "0.11",
          "0.18",
          "0.56"
         ],
         "textposition": "outside",
         "x": [
          0.0010774094877955334,
          0.0017365279726437458,
          0.005082434140288732,
          0.03082213928221316,
          0.03132430463563759,
          0.08258028857652934,
          0.11003071739459466,
          0.1802082387920156,
          0.5571379397182817
         ],
         "y": [
          "subsample",
          "colsample_bytree",
          "min_child_weight",
          "max_depth",
          "reg_alpha",
          "reg_lambda",
          "gamma",
          "n_estimators",
          "learning_rate"
         ],
         "type": "bar"
        }
       ],
       "layout": {
        "title": {
         "text": "Hyperparameter Importances"
        },
        "xaxis": {
         "title": {
          "text": "Hyperparameter Importance"
         }
        },
        "yaxis": {
         "title": {
          "text": "Hyperparameter"
         }
        },
        "template": {
         "data": {
          "histogram2dcontour": [
           {
            "type": "histogram2dcontour",
            "colorbar": {
             "outlinewidth": 0,
             "ticks": ""
            },
            "colorscale": [
             [
              0.0,
              "#0d0887"
             ],
             [
              0.1111111111111111,
              "#46039f"
             ],
             [
              0.2222222222222222,
              "#7201a8"
             ],
             [
              0.3333333333333333,
              "#9c179e"
             ],
             [
              0.4444444444444444,
              "#bd3786"
             ],
             [
              0.5555555555555556,
              "#d8576b"
             ],
             [
              0.6666666666666666,
              "#ed7953"
             ],
             [
              0.7777777777777778,
              "#fb9f3a"
             ],
             [
              0.8888888888888888,
              "#fdca26"
             ],
             [
              1.0,
              "#f0f921"
             ]
            ]
           }
          ],
          "choropleth": [
           {
            "type": "choropleth",
            "colorbar": {
             "outlinewidth": 0,
             "ticks": ""
            }
           }
          ],
          "histogram2d": [
           {
            "type": "histogram2d",
            "colorbar": {
             "outlinewidth": 0,
             "ticks": ""
            },
            "colorscale": [
             [
              0.0,
              "#0d0887"
             ],
             [
              0.1111111111111111,
              "#46039f"
             ],
             [
              0.2222222222222222,
              "#7201a8"
             ],
             [
              0.3333333333333333,
              "#9c179e"
             ],
             [
              0.4444444444444444,
              "#bd3786"
             ],
             [
              0.5555555555555556,
              "#d8576b"
             ],
             [
              0.6666666666666666,
              "#ed7953"
             ],
             [
              0.7777777777777778,
              "#fb9f3a"
             ],
             [
              0.8888888888888888,
              "#fdca26"
             ],
             [
              1.0,
              "#f0f921"
             ]
            ]
           }
          ],
          "heatmap": [
           {
            "type": "heatmap",
            "colorbar": {
             "outlinewidth": 0,
             "ticks": ""
            },
            "colorscale": [
             [
              0.0,
              "#0d0887"
             ],
             [
              0.1111111111111111,
              "#46039f"
             ],
             [
              0.2222222222222222,
              "#7201a8"
             ],
             [
              0.3333333333333333,
              "#9c179e"
             ],
             [
              0.4444444444444444,
              "#bd3786"
             ],
             [
              0.5555555555555556,
              "#d8576b"
             ],
             [
              0.6666666666666666,
              "#ed7953"
             ],
             [
              0.7777777777777778,
              "#fb9f3a"
             ],
             [
              0.8888888888888888,
              "#fdca26"
             ],
             [
              1.0,
              "#f0f921"
             ]
            ]
           }
          ],
          "heatmapgl": [
           {
            "type": "heatmapgl",
            "colorbar": {
             "outlinewidth": 0,
             "ticks": ""
            },
            "colorscale": [
             [
              0.0,
              "#0d0887"
             ],
             [
              0.1111111111111111,
              "#46039f"
             ],
             [
              0.2222222222222222,
              "#7201a8"
             ],
             [
              0.3333333333333333,
              "#9c179e"
             ],
             [
              0.4444444444444444,
              "#bd3786"
             ],
             [
              0.5555555555555556,
              "#d8576b"
             ],
             [
              0.6666666666666666,
              "#ed7953"
             ],
             [
              0.7777777777777778,
              "#fb9f3a"
             ],
             [
              0.8888888888888888,
              "#fdca26"
             ],
             [
              1.0,
              "#f0f921"
             ]
            ]
           }
          ],
          "contourcarpet": [
           {
            "type": "contourcarpet",
            "colorbar": {
             "outlinewidth": 0,
             "ticks": ""
            }
           }
          ],
          "contour": [
           {
            "type": "contour",
            "colorbar": {
             "outlinewidth": 0,
             "ticks": ""
            },
            "colorscale": [
             [
              0.0,
              "#0d0887"
             ],
             [
              0.1111111111111111,
              "#46039f"
             ],
             [
              0.2222222222222222,
              "#7201a8"
             ],
             [
              0.3333333333333333,
              "#9c179e"
             ],
             [
              0.4444444444444444,
              "#bd3786"
             ],
             [
              0.5555555555555556,
              "#d8576b"
             ],
             [
              0.6666666666666666,
              "#ed7953"
             ],
             [
              0.7777777777777778,
              "#fb9f3a"
             ],
             [
              0.8888888888888888,
              "#fdca26"
             ],
             [
              1.0,
              "#f0f921"
             ]
            ]
           }
          ],
          "surface": [
           {
            "type": "surface",
            "colorbar": {
             "outlinewidth": 0,
             "ticks": ""
            },
            "colorscale": [
             [
              0.0,
              "#0d0887"
             ],
             [
              0.1111111111111111,
              "#46039f"
             ],
             [
              0.2222222222222222,
              "#7201a8"
             ],
             [
              0.3333333333333333,
              "#9c179e"
             ],
             [
              0.4444444444444444,
              "#bd3786"
             ],
             [
              0.5555555555555556,
              "#d8576b"
             ],
             [
              0.6666666666666666,
              "#ed7953"
             ],
             [
              0.7777777777777778,
              "#fb9f3a"
             ],
             [
              0.8888888888888888,
              "#fdca26"
             ],
             [
              1.0,
              "#f0f921"
             ]
            ]
           }
          ],
          "mesh3d": [
           {
            "type": "mesh3d",
            "colorbar": {
             "outlinewidth": 0,
             "ticks": ""
            }
           }
          ],
          "scatter": [
           {
            "fillpattern": {
             "fillmode": "overlay",
             "size": 10,
             "solidity": 0.2
            },
            "type": "scatter"
           }
          ],
          "parcoords": [
           {
            "type": "parcoords",
            "line": {
             "colorbar": {
              "outlinewidth": 0,
              "ticks": ""
             }
            }
           }
          ],
          "scatterpolargl": [
           {
            "type": "scatterpolargl",
            "marker": {
             "colorbar": {
              "outlinewidth": 0,
              "ticks": ""
             }
            }
           }
          ],
          "bar": [
           {
            "error_x": {
             "color": "#2a3f5f"
            },
            "error_y": {
             "color": "#2a3f5f"
            },
            "marker": {
             "line": {
              "color": "#E5ECF6",
              "width": 0.5
             },
             "pattern": {
              "fillmode": "overlay",
              "size": 10,
              "solidity": 0.2
             }
            },
            "type": "bar"
           }
          ],
          "scattergeo": [
           {
            "type": "scattergeo",
            "marker": {
             "colorbar": {
              "outlinewidth": 0,
              "ticks": ""
             }
            }
           }
          ],
          "scatterpolar": [
           {
            "type": "scatterpolar",
            "marker": {
             "colorbar": {
              "outlinewidth": 0,
              "ticks": ""
             }
            }
           }
          ],
          "histogram": [
           {
            "marker": {
             "pattern": {
              "fillmode": "overlay",
              "size": 10,
              "solidity": 0.2
             }
            },
            "type": "histogram"
           }
          ],
          "scattergl": [
           {
            "type": "scattergl",
            "marker": {
             "colorbar": {
              "outlinewidth": 0,
              "ticks": ""
             }
            }
           }
          ],
          "scatter3d": [
           {
            "type": "scatter3d",
            "line": {
             "colorbar": {
              "outlinewidth": 0,
              "ticks": ""
             }
            },
            "marker": {
             "colorbar": {
              "outlinewidth": 0,
              "ticks": ""
             }
            }
           }
          ],
          "scattermapbox": [
           {
            "type": "scattermapbox",
            "marker": {
             "colorbar": {
              "outlinewidth": 0,
              "ticks": ""
             }
            }
           }
          ],
          "scatterternary": [
           {
            "type": "scatterternary",
            "marker": {
             "colorbar": {
              "outlinewidth": 0,
              "ticks": ""
             }
            }
           }
          ],
          "scattercarpet": [
           {
            "type": "scattercarpet",
            "marker": {
             "colorbar": {
              "outlinewidth": 0,
              "ticks": ""
             }
            }
           }
          ],
          "carpet": [
           {
            "aaxis": {
             "endlinecolor": "#2a3f5f",
             "gridcolor": "white",
             "linecolor": "white",
             "minorgridcolor": "white",
             "startlinecolor": "#2a3f5f"
            },
            "baxis": {
             "endlinecolor": "#2a3f5f",
             "gridcolor": "white",
             "linecolor": "white",
             "minorgridcolor": "white",
             "startlinecolor": "#2a3f5f"
            },
            "type": "carpet"
           }
          ],
          "table": [
           {
            "cells": {
             "fill": {
              "color": "#EBF0F8"
             },
             "line": {
              "color": "white"
             }
            },
            "header": {
             "fill": {
              "color": "#C8D4E3"
             },
             "line": {
              "color": "white"
             }
            },
            "type": "table"
           }
          ],
          "barpolar": [
           {
            "marker": {
             "line": {
              "color": "#E5ECF6",
              "width": 0.5
             },
             "pattern": {
              "fillmode": "overlay",
              "size": 10,
              "solidity": 0.2
             }
            },
            "type": "barpolar"
           }
          ],
          "pie": [
           {
            "automargin": true,
            "type": "pie"
           }
          ]
         },
         "layout": {
          "autotypenumbers": "strict",
          "colorway": [
           "#636efa",
           "#EF553B",
           "#00cc96",
           "#ab63fa",
           "#FFA15A",
           "#19d3f3",
           "#FF6692",
           "#B6E880",
           "#FF97FF",
           "#FECB52"
          ],
          "font": {
           "color": "#2a3f5f"
          },
          "hovermode": "closest",
          "hoverlabel": {
           "align": "left"
          },
          "paper_bgcolor": "white",
          "plot_bgcolor": "#E5ECF6",
          "polar": {
           "bgcolor": "#E5ECF6",
           "angularaxis": {
            "gridcolor": "white",
            "linecolor": "white",
            "ticks": ""
           },
           "radialaxis": {
            "gridcolor": "white",
            "linecolor": "white",
            "ticks": ""
           }
          },
          "ternary": {
           "bgcolor": "#E5ECF6",
           "aaxis": {
            "gridcolor": "white",
            "linecolor": "white",
            "ticks": ""
           },
           "baxis": {
            "gridcolor": "white",
            "linecolor": "white",
            "ticks": ""
           },
           "caxis": {
            "gridcolor": "white",
            "linecolor": "white",
            "ticks": ""
           }
          },
          "coloraxis": {
           "colorbar": {
            "outlinewidth": 0,
            "ticks": ""
           }
          },
          "colorscale": {
           "sequential": [
            [
             0.0,
             "#0d0887"
            ],
            [
             0.1111111111111111,
             "#46039f"
            ],
            [
             0.2222222222222222,
             "#7201a8"
            ],
            [
             0.3333333333333333,
             "#9c179e"
            ],
            [
             0.4444444444444444,
             "#bd3786"
            ],
            [
             0.5555555555555556,
             "#d8576b"
            ],
            [
             0.6666666666666666,
             "#ed7953"
            ],
            [
             0.7777777777777778,
             "#fb9f3a"
            ],
            [
             0.8888888888888888,
             "#fdca26"
            ],
            [
             1.0,
             "#f0f921"
            ]
           ],
           "sequentialminus": [
            [
             0.0,
             "#0d0887"
            ],
            [
             0.1111111111111111,
             "#46039f"
            ],
            [
             0.2222222222222222,
             "#7201a8"
            ],
            [
             0.3333333333333333,
             "#9c179e"
            ],
            [
             0.4444444444444444,
             "#bd3786"
            ],
            [
             0.5555555555555556,
             "#d8576b"
            ],
            [
             0.6666666666666666,
             "#ed7953"
            ],
            [
             0.7777777777777778,
             "#fb9f3a"
            ],
            [
             0.8888888888888888,
             "#fdca26"
            ],
            [
             1.0,
             "#f0f921"
            ]
           ],
           "diverging": [
            [
             0,
             "#8e0152"
            ],
            [
             0.1,
             "#c51b7d"
            ],
            [
             0.2,
             "#de77ae"
            ],
            [
             0.3,
             "#f1b6da"
            ],
            [
             0.4,
             "#fde0ef"
            ],
            [
             0.5,
             "#f7f7f7"
            ],
            [
             0.6,
             "#e6f5d0"
            ],
            [
             0.7,
             "#b8e186"
            ],
            [
             0.8,
             "#7fbc41"
            ],
            [
             0.9,
             "#4d9221"
            ],
            [
             1,
             "#276419"
            ]
           ]
          },
          "xaxis": {
           "gridcolor": "white",
           "linecolor": "white",
           "ticks": "",
           "title": {
            "standoff": 15
           },
           "zerolinecolor": "white",
           "automargin": true,
           "zerolinewidth": 2
          },
          "yaxis": {
           "gridcolor": "white",
           "linecolor": "white",
           "ticks": "",
           "title": {
            "standoff": 15
           },
           "zerolinecolor": "white",
           "automargin": true,
           "zerolinewidth": 2
          },
          "scene": {
           "xaxis": {
            "backgroundcolor": "#E5ECF6",
            "gridcolor": "white",
            "linecolor": "white",
            "showbackground": true,
            "ticks": "",
            "zerolinecolor": "white",
            "gridwidth": 2
           },
           "yaxis": {
            "backgroundcolor": "#E5ECF6",
            "gridcolor": "white",
            "linecolor": "white",
            "showbackground": true,
            "ticks": "",
            "zerolinecolor": "white",
            "gridwidth": 2
           },
           "zaxis": {
            "backgroundcolor": "#E5ECF6",
            "gridcolor": "white",
            "linecolor": "white",
            "showbackground": true,
            "ticks": "",
            "zerolinecolor": "white",
            "gridwidth": 2
           }
          },
          "shapedefaults": {
           "line": {
            "color": "#2a3f5f"
           }
          },
          "annotationdefaults": {
           "arrowcolor": "#2a3f5f",
           "arrowhead": 0,
           "arrowwidth": 1
          },
          "geo": {
           "bgcolor": "white",
           "landcolor": "#E5ECF6",
           "subunitcolor": "white",
           "showland": true,
           "showlakes": true,
           "lakecolor": "white"
          },
          "title": {
           "x": 0.05
          },
          "mapbox": {
           "style": "light"
          }
         }
        }
       },
       "config": {
        "plotlyServerURL": "https://plot.ly"
       }
      },
      "text/html": [
       "<div>                            <div id=\"868157a0-7b66-4150-aa1f-faa0057cb028\" class=\"plotly-graph-div\" style=\"height:525px; width:100%;\"></div>            <script type=\"text/javascript\">                require([\"plotly\"], function(Plotly) {                    window.PLOTLYENV=window.PLOTLYENV || {};                                    if (document.getElementById(\"868157a0-7b66-4150-aa1f-faa0057cb028\")) {                    Plotly.newPlot(                        \"868157a0-7b66-4150-aa1f-faa0057cb028\",                        [{\"cliponaxis\":false,\"hovertemplate\":[\"subsample (FloatDistribution): 0.0010774094877955334\\u003cextra\\u003e\\u003c\\u002fextra\\u003e\",\"colsample_bytree (FloatDistribution): 0.0017365279726437458\\u003cextra\\u003e\\u003c\\u002fextra\\u003e\",\"min_child_weight (IntDistribution): 0.005082434140288732\\u003cextra\\u003e\\u003c\\u002fextra\\u003e\",\"max_depth (IntDistribution): 0.03082213928221316\\u003cextra\\u003e\\u003c\\u002fextra\\u003e\",\"reg_alpha (FloatDistribution): 0.03132430463563759\\u003cextra\\u003e\\u003c\\u002fextra\\u003e\",\"reg_lambda (FloatDistribution): 0.08258028857652934\\u003cextra\\u003e\\u003c\\u002fextra\\u003e\",\"gamma (FloatDistribution): 0.11003071739459466\\u003cextra\\u003e\\u003c\\u002fextra\\u003e\",\"n_estimators (IntDistribution): 0.1802082387920156\\u003cextra\\u003e\\u003c\\u002fextra\\u003e\",\"learning_rate (FloatDistribution): 0.5571379397182817\\u003cextra\\u003e\\u003c\\u002fextra\\u003e\"],\"name\":\"Objective Value\",\"orientation\":\"h\",\"text\":[\"\\u003c0.01\",\"\\u003c0.01\",\"\\u003c0.01\",\"0.03\",\"0.03\",\"0.08\",\"0.11\",\"0.18\",\"0.56\"],\"textposition\":\"outside\",\"x\":[0.0010774094877955334,0.0017365279726437458,0.005082434140288732,0.03082213928221316,0.03132430463563759,0.08258028857652934,0.11003071739459466,0.1802082387920156,0.5571379397182817],\"y\":[\"subsample\",\"colsample_bytree\",\"min_child_weight\",\"max_depth\",\"reg_alpha\",\"reg_lambda\",\"gamma\",\"n_estimators\",\"learning_rate\"],\"type\":\"bar\"}],                        {\"title\":{\"text\":\"Hyperparameter Importances\"},\"xaxis\":{\"title\":{\"text\":\"Hyperparameter Importance\"}},\"yaxis\":{\"title\":{\"text\":\"Hyperparameter\"}},\"template\":{\"data\":{\"histogram2dcontour\":[{\"type\":\"histogram2dcontour\",\"colorbar\":{\"outlinewidth\":0,\"ticks\":\"\"},\"colorscale\":[[0.0,\"#0d0887\"],[0.1111111111111111,\"#46039f\"],[0.2222222222222222,\"#7201a8\"],[0.3333333333333333,\"#9c179e\"],[0.4444444444444444,\"#bd3786\"],[0.5555555555555556,\"#d8576b\"],[0.6666666666666666,\"#ed7953\"],[0.7777777777777778,\"#fb9f3a\"],[0.8888888888888888,\"#fdca26\"],[1.0,\"#f0f921\"]]}],\"choropleth\":[{\"type\":\"choropleth\",\"colorbar\":{\"outlinewidth\":0,\"ticks\":\"\"}}],\"histogram2d\":[{\"type\":\"histogram2d\",\"colorbar\":{\"outlinewidth\":0,\"ticks\":\"\"},\"colorscale\":[[0.0,\"#0d0887\"],[0.1111111111111111,\"#46039f\"],[0.2222222222222222,\"#7201a8\"],[0.3333333333333333,\"#9c179e\"],[0.4444444444444444,\"#bd3786\"],[0.5555555555555556,\"#d8576b\"],[0.6666666666666666,\"#ed7953\"],[0.7777777777777778,\"#fb9f3a\"],[0.8888888888888888,\"#fdca26\"],[1.0,\"#f0f921\"]]}],\"heatmap\":[{\"type\":\"heatmap\",\"colorbar\":{\"outlinewidth\":0,\"ticks\":\"\"},\"colorscale\":[[0.0,\"#0d0887\"],[0.1111111111111111,\"#46039f\"],[0.2222222222222222,\"#7201a8\"],[0.3333333333333333,\"#9c179e\"],[0.4444444444444444,\"#bd3786\"],[0.5555555555555556,\"#d8576b\"],[0.6666666666666666,\"#ed7953\"],[0.7777777777777778,\"#fb9f3a\"],[0.8888888888888888,\"#fdca26\"],[1.0,\"#f0f921\"]]}],\"heatmapgl\":[{\"type\":\"heatmapgl\",\"colorbar\":{\"outlinewidth\":0,\"ticks\":\"\"},\"colorscale\":[[0.0,\"#0d0887\"],[0.1111111111111111,\"#46039f\"],[0.2222222222222222,\"#7201a8\"],[0.3333333333333333,\"#9c179e\"],[0.4444444444444444,\"#bd3786\"],[0.5555555555555556,\"#d8576b\"],[0.6666666666666666,\"#ed7953\"],[0.7777777777777778,\"#fb9f3a\"],[0.8888888888888888,\"#fdca26\"],[1.0,\"#f0f921\"]]}],\"contourcarpet\":[{\"type\":\"contourcarpet\",\"colorbar\":{\"outlinewidth\":0,\"ticks\":\"\"}}],\"contour\":[{\"type\":\"contour\",\"colorbar\":{\"outlinewidth\":0,\"ticks\":\"\"},\"colorscale\":[[0.0,\"#0d0887\"],[0.1111111111111111,\"#46039f\"],[0.2222222222222222,\"#7201a8\"],[0.3333333333333333,\"#9c179e\"],[0.4444444444444444,\"#bd3786\"],[0.5555555555555556,\"#d8576b\"],[0.6666666666666666,\"#ed7953\"],[0.7777777777777778,\"#fb9f3a\"],[0.8888888888888888,\"#fdca26\"],[1.0,\"#f0f921\"]]}],\"surface\":[{\"type\":\"surface\",\"colorbar\":{\"outlinewidth\":0,\"ticks\":\"\"},\"colorscale\":[[0.0,\"#0d0887\"],[0.1111111111111111,\"#46039f\"],[0.2222222222222222,\"#7201a8\"],[0.3333333333333333,\"#9c179e\"],[0.4444444444444444,\"#bd3786\"],[0.5555555555555556,\"#d8576b\"],[0.6666666666666666,\"#ed7953\"],[0.7777777777777778,\"#fb9f3a\"],[0.8888888888888888,\"#fdca26\"],[1.0,\"#f0f921\"]]}],\"mesh3d\":[{\"type\":\"mesh3d\",\"colorbar\":{\"outlinewidth\":0,\"ticks\":\"\"}}],\"scatter\":[{\"fillpattern\":{\"fillmode\":\"overlay\",\"size\":10,\"solidity\":0.2},\"type\":\"scatter\"}],\"parcoords\":[{\"type\":\"parcoords\",\"line\":{\"colorbar\":{\"outlinewidth\":0,\"ticks\":\"\"}}}],\"scatterpolargl\":[{\"type\":\"scatterpolargl\",\"marker\":{\"colorbar\":{\"outlinewidth\":0,\"ticks\":\"\"}}}],\"bar\":[{\"error_x\":{\"color\":\"#2a3f5f\"},\"error_y\":{\"color\":\"#2a3f5f\"},\"marker\":{\"line\":{\"color\":\"#E5ECF6\",\"width\":0.5},\"pattern\":{\"fillmode\":\"overlay\",\"size\":10,\"solidity\":0.2}},\"type\":\"bar\"}],\"scattergeo\":[{\"type\":\"scattergeo\",\"marker\":{\"colorbar\":{\"outlinewidth\":0,\"ticks\":\"\"}}}],\"scatterpolar\":[{\"type\":\"scatterpolar\",\"marker\":{\"colorbar\":{\"outlinewidth\":0,\"ticks\":\"\"}}}],\"histogram\":[{\"marker\":{\"pattern\":{\"fillmode\":\"overlay\",\"size\":10,\"solidity\":0.2}},\"type\":\"histogram\"}],\"scattergl\":[{\"type\":\"scattergl\",\"marker\":{\"colorbar\":{\"outlinewidth\":0,\"ticks\":\"\"}}}],\"scatter3d\":[{\"type\":\"scatter3d\",\"line\":{\"colorbar\":{\"outlinewidth\":0,\"ticks\":\"\"}},\"marker\":{\"colorbar\":{\"outlinewidth\":0,\"ticks\":\"\"}}}],\"scattermapbox\":[{\"type\":\"scattermapbox\",\"marker\":{\"colorbar\":{\"outlinewidth\":0,\"ticks\":\"\"}}}],\"scatterternary\":[{\"type\":\"scatterternary\",\"marker\":{\"colorbar\":{\"outlinewidth\":0,\"ticks\":\"\"}}}],\"scattercarpet\":[{\"type\":\"scattercarpet\",\"marker\":{\"colorbar\":{\"outlinewidth\":0,\"ticks\":\"\"}}}],\"carpet\":[{\"aaxis\":{\"endlinecolor\":\"#2a3f5f\",\"gridcolor\":\"white\",\"linecolor\":\"white\",\"minorgridcolor\":\"white\",\"startlinecolor\":\"#2a3f5f\"},\"baxis\":{\"endlinecolor\":\"#2a3f5f\",\"gridcolor\":\"white\",\"linecolor\":\"white\",\"minorgridcolor\":\"white\",\"startlinecolor\":\"#2a3f5f\"},\"type\":\"carpet\"}],\"table\":[{\"cells\":{\"fill\":{\"color\":\"#EBF0F8\"},\"line\":{\"color\":\"white\"}},\"header\":{\"fill\":{\"color\":\"#C8D4E3\"},\"line\":{\"color\":\"white\"}},\"type\":\"table\"}],\"barpolar\":[{\"marker\":{\"line\":{\"color\":\"#E5ECF6\",\"width\":0.5},\"pattern\":{\"fillmode\":\"overlay\",\"size\":10,\"solidity\":0.2}},\"type\":\"barpolar\"}],\"pie\":[{\"automargin\":true,\"type\":\"pie\"}]},\"layout\":{\"autotypenumbers\":\"strict\",\"colorway\":[\"#636efa\",\"#EF553B\",\"#00cc96\",\"#ab63fa\",\"#FFA15A\",\"#19d3f3\",\"#FF6692\",\"#B6E880\",\"#FF97FF\",\"#FECB52\"],\"font\":{\"color\":\"#2a3f5f\"},\"hovermode\":\"closest\",\"hoverlabel\":{\"align\":\"left\"},\"paper_bgcolor\":\"white\",\"plot_bgcolor\":\"#E5ECF6\",\"polar\":{\"bgcolor\":\"#E5ECF6\",\"angularaxis\":{\"gridcolor\":\"white\",\"linecolor\":\"white\",\"ticks\":\"\"},\"radialaxis\":{\"gridcolor\":\"white\",\"linecolor\":\"white\",\"ticks\":\"\"}},\"ternary\":{\"bgcolor\":\"#E5ECF6\",\"aaxis\":{\"gridcolor\":\"white\",\"linecolor\":\"white\",\"ticks\":\"\"},\"baxis\":{\"gridcolor\":\"white\",\"linecolor\":\"white\",\"ticks\":\"\"},\"caxis\":{\"gridcolor\":\"white\",\"linecolor\":\"white\",\"ticks\":\"\"}},\"coloraxis\":{\"colorbar\":{\"outlinewidth\":0,\"ticks\":\"\"}},\"colorscale\":{\"sequential\":[[0.0,\"#0d0887\"],[0.1111111111111111,\"#46039f\"],[0.2222222222222222,\"#7201a8\"],[0.3333333333333333,\"#9c179e\"],[0.4444444444444444,\"#bd3786\"],[0.5555555555555556,\"#d8576b\"],[0.6666666666666666,\"#ed7953\"],[0.7777777777777778,\"#fb9f3a\"],[0.8888888888888888,\"#fdca26\"],[1.0,\"#f0f921\"]],\"sequentialminus\":[[0.0,\"#0d0887\"],[0.1111111111111111,\"#46039f\"],[0.2222222222222222,\"#7201a8\"],[0.3333333333333333,\"#9c179e\"],[0.4444444444444444,\"#bd3786\"],[0.5555555555555556,\"#d8576b\"],[0.6666666666666666,\"#ed7953\"],[0.7777777777777778,\"#fb9f3a\"],[0.8888888888888888,\"#fdca26\"],[1.0,\"#f0f921\"]],\"diverging\":[[0,\"#8e0152\"],[0.1,\"#c51b7d\"],[0.2,\"#de77ae\"],[0.3,\"#f1b6da\"],[0.4,\"#fde0ef\"],[0.5,\"#f7f7f7\"],[0.6,\"#e6f5d0\"],[0.7,\"#b8e186\"],[0.8,\"#7fbc41\"],[0.9,\"#4d9221\"],[1,\"#276419\"]]},\"xaxis\":{\"gridcolor\":\"white\",\"linecolor\":\"white\",\"ticks\":\"\",\"title\":{\"standoff\":15},\"zerolinecolor\":\"white\",\"automargin\":true,\"zerolinewidth\":2},\"yaxis\":{\"gridcolor\":\"white\",\"linecolor\":\"white\",\"ticks\":\"\",\"title\":{\"standoff\":15},\"zerolinecolor\":\"white\",\"automargin\":true,\"zerolinewidth\":2},\"scene\":{\"xaxis\":{\"backgroundcolor\":\"#E5ECF6\",\"gridcolor\":\"white\",\"linecolor\":\"white\",\"showbackground\":true,\"ticks\":\"\",\"zerolinecolor\":\"white\",\"gridwidth\":2},\"yaxis\":{\"backgroundcolor\":\"#E5ECF6\",\"gridcolor\":\"white\",\"linecolor\":\"white\",\"showbackground\":true,\"ticks\":\"\",\"zerolinecolor\":\"white\",\"gridwidth\":2},\"zaxis\":{\"backgroundcolor\":\"#E5ECF6\",\"gridcolor\":\"white\",\"linecolor\":\"white\",\"showbackground\":true,\"ticks\":\"\",\"zerolinecolor\":\"white\",\"gridwidth\":2}},\"shapedefaults\":{\"line\":{\"color\":\"#2a3f5f\"}},\"annotationdefaults\":{\"arrowcolor\":\"#2a3f5f\",\"arrowhead\":0,\"arrowwidth\":1},\"geo\":{\"bgcolor\":\"white\",\"landcolor\":\"#E5ECF6\",\"subunitcolor\":\"white\",\"showland\":true,\"showlakes\":true,\"lakecolor\":\"white\"},\"title\":{\"x\":0.05},\"mapbox\":{\"style\":\"light\"}}}},                        {\"responsive\": true}                    ).then(function(){\n",
       "                            \n",
       "var gd = document.getElementById('868157a0-7b66-4150-aa1f-faa0057cb028');\n",
       "var x = new MutationObserver(function (mutations, observer) {{\n",
       "        var display = window.getComputedStyle(gd).display;\n",
       "        if (!display || display === 'none') {{\n",
       "            console.log([gd, 'removed!']);\n",
       "            Plotly.purge(gd);\n",
       "            observer.disconnect();\n",
       "        }}\n",
       "}});\n",
       "\n",
       "// Listen for the removal of the full notebook cells\n",
       "var notebookContainer = gd.closest('#notebook-container');\n",
       "if (notebookContainer) {{\n",
       "    x.observe(notebookContainer, {childList: true});\n",
       "}}\n",
       "\n",
       "// Listen for the clearing of the current output cell\n",
       "var outputEl = gd.closest('.output');\n",
       "if (outputEl) {{\n",
       "    x.observe(outputEl, {childList: true});\n",
       "}}\n",
       "\n",
       "                        })                };                });            </script>        </div>"
      ]
     },
     "metadata": {},
     "output_type": "display_data"
    }
   ],
   "execution_count": 278
  },
  {
   "metadata": {},
   "cell_type": "markdown",
   "source": "#### Model Training",
   "id": "d615ca7b79cec949"
  },
  {
   "metadata": {
    "ExecuteTime": {
     "end_time": "2024-12-11T23:17:59.995537Z",
     "start_time": "2024-12-11T23:17:59.965352Z"
    }
   },
   "cell_type": "code",
   "source": [
    "# Get the best hyperparameters\n",
    "best_params_xg = study_xg.best_params"
   ],
   "id": "877397990c9ffd37",
   "outputs": [],
   "execution_count": 279
  },
  {
   "metadata": {
    "ExecuteTime": {
     "end_time": "2024-12-11T23:18:00.035806Z",
     "start_time": "2024-12-11T23:18:00.015894Z"
    }
   },
   "cell_type": "code",
   "source": [
    "# Initialize XGBoost model with best hyperparameters\n",
    "xgb_model = XGBRegressor(\n",
    "    random_state=42,\n",
    "    **best_params_xg\n",
    ")"
   ],
   "id": "b75b34022f3059d4",
   "outputs": [],
   "execution_count": 280
  },
  {
   "metadata": {
    "ExecuteTime": {
     "end_time": "2024-12-11T23:18:01.725476Z",
     "start_time": "2024-12-11T23:18:00.053564Z"
    }
   },
   "cell_type": "code",
   "source": [
    "# Fit the model\n",
    "xgb_model.fit(X_train, y_train)"
   ],
   "id": "e1b62ea4bdedaab6",
   "outputs": [
    {
     "data": {
      "text/plain": [
       "XGBRegressor(base_score=None, booster=None, callbacks=None,\n",
       "             colsample_bylevel=None, colsample_bynode=None,\n",
       "             colsample_bytree=0.6381946140549961, device=None,\n",
       "             early_stopping_rounds=None, enable_categorical=False,\n",
       "             eval_metric=None, feature_types=None, gamma=7.51823881766076,\n",
       "             grow_policy=None, importance_type=None,\n",
       "             interaction_constraints=None, learning_rate=0.06356088259455811,\n",
       "             max_bin=None, max_cat_threshold=None, max_cat_to_onehot=None,\n",
       "             max_delta_step=None, max_depth=4, max_leaves=None,\n",
       "             min_child_weight=4, missing=nan, monotone_constraints=None,\n",
       "             multi_strategy=None, n_estimators=737, n_jobs=None,\n",
       "             num_parallel_tree=None, random_state=42, ...)"
      ],
      "text/html": [
       "<style>#sk-container-id-21 {\n",
       "  /* Definition of color scheme common for light and dark mode */\n",
       "  --sklearn-color-text: black;\n",
       "  --sklearn-color-line: gray;\n",
       "  /* Definition of color scheme for unfitted estimators */\n",
       "  --sklearn-color-unfitted-level-0: #fff5e6;\n",
       "  --sklearn-color-unfitted-level-1: #f6e4d2;\n",
       "  --sklearn-color-unfitted-level-2: #ffe0b3;\n",
       "  --sklearn-color-unfitted-level-3: chocolate;\n",
       "  /* Definition of color scheme for fitted estimators */\n",
       "  --sklearn-color-fitted-level-0: #f0f8ff;\n",
       "  --sklearn-color-fitted-level-1: #d4ebff;\n",
       "  --sklearn-color-fitted-level-2: #b3dbfd;\n",
       "  --sklearn-color-fitted-level-3: cornflowerblue;\n",
       "\n",
       "  /* Specific color for light theme */\n",
       "  --sklearn-color-text-on-default-background: var(--sg-text-color, var(--theme-code-foreground, var(--jp-content-font-color1, black)));\n",
       "  --sklearn-color-background: var(--sg-background-color, var(--theme-background, var(--jp-layout-color0, white)));\n",
       "  --sklearn-color-border-box: var(--sg-text-color, var(--theme-code-foreground, var(--jp-content-font-color1, black)));\n",
       "  --sklearn-color-icon: #696969;\n",
       "\n",
       "  @media (prefers-color-scheme: dark) {\n",
       "    /* Redefinition of color scheme for dark theme */\n",
       "    --sklearn-color-text-on-default-background: var(--sg-text-color, var(--theme-code-foreground, var(--jp-content-font-color1, white)));\n",
       "    --sklearn-color-background: var(--sg-background-color, var(--theme-background, var(--jp-layout-color0, #111)));\n",
       "    --sklearn-color-border-box: var(--sg-text-color, var(--theme-code-foreground, var(--jp-content-font-color1, white)));\n",
       "    --sklearn-color-icon: #878787;\n",
       "  }\n",
       "}\n",
       "\n",
       "#sk-container-id-21 {\n",
       "  color: var(--sklearn-color-text);\n",
       "}\n",
       "\n",
       "#sk-container-id-21 pre {\n",
       "  padding: 0;\n",
       "}\n",
       "\n",
       "#sk-container-id-21 input.sk-hidden--visually {\n",
       "  border: 0;\n",
       "  clip: rect(1px 1px 1px 1px);\n",
       "  clip: rect(1px, 1px, 1px, 1px);\n",
       "  height: 1px;\n",
       "  margin: -1px;\n",
       "  overflow: hidden;\n",
       "  padding: 0;\n",
       "  position: absolute;\n",
       "  width: 1px;\n",
       "}\n",
       "\n",
       "#sk-container-id-21 div.sk-dashed-wrapped {\n",
       "  border: 1px dashed var(--sklearn-color-line);\n",
       "  margin: 0 0.4em 0.5em 0.4em;\n",
       "  box-sizing: border-box;\n",
       "  padding-bottom: 0.4em;\n",
       "  background-color: var(--sklearn-color-background);\n",
       "}\n",
       "\n",
       "#sk-container-id-21 div.sk-container {\n",
       "  /* jupyter's `normalize.less` sets `[hidden] { display: none; }`\n",
       "     but bootstrap.min.css set `[hidden] { display: none !important; }`\n",
       "     so we also need the `!important` here to be able to override the\n",
       "     default hidden behavior on the sphinx rendered scikit-learn.org.\n",
       "     See: https://github.com/scikit-learn/scikit-learn/issues/21755 */\n",
       "  display: inline-block !important;\n",
       "  position: relative;\n",
       "}\n",
       "\n",
       "#sk-container-id-21 div.sk-text-repr-fallback {\n",
       "  display: none;\n",
       "}\n",
       "\n",
       "div.sk-parallel-item,\n",
       "div.sk-serial,\n",
       "div.sk-item {\n",
       "  /* draw centered vertical line to link estimators */\n",
       "  background-image: linear-gradient(var(--sklearn-color-text-on-default-background), var(--sklearn-color-text-on-default-background));\n",
       "  background-size: 2px 100%;\n",
       "  background-repeat: no-repeat;\n",
       "  background-position: center center;\n",
       "}\n",
       "\n",
       "/* Parallel-specific style estimator block */\n",
       "\n",
       "#sk-container-id-21 div.sk-parallel-item::after {\n",
       "  content: \"\";\n",
       "  width: 100%;\n",
       "  border-bottom: 2px solid var(--sklearn-color-text-on-default-background);\n",
       "  flex-grow: 1;\n",
       "}\n",
       "\n",
       "#sk-container-id-21 div.sk-parallel {\n",
       "  display: flex;\n",
       "  align-items: stretch;\n",
       "  justify-content: center;\n",
       "  background-color: var(--sklearn-color-background);\n",
       "  position: relative;\n",
       "}\n",
       "\n",
       "#sk-container-id-21 div.sk-parallel-item {\n",
       "  display: flex;\n",
       "  flex-direction: column;\n",
       "}\n",
       "\n",
       "#sk-container-id-21 div.sk-parallel-item:first-child::after {\n",
       "  align-self: flex-end;\n",
       "  width: 50%;\n",
       "}\n",
       "\n",
       "#sk-container-id-21 div.sk-parallel-item:last-child::after {\n",
       "  align-self: flex-start;\n",
       "  width: 50%;\n",
       "}\n",
       "\n",
       "#sk-container-id-21 div.sk-parallel-item:only-child::after {\n",
       "  width: 0;\n",
       "}\n",
       "\n",
       "/* Serial-specific style estimator block */\n",
       "\n",
       "#sk-container-id-21 div.sk-serial {\n",
       "  display: flex;\n",
       "  flex-direction: column;\n",
       "  align-items: center;\n",
       "  background-color: var(--sklearn-color-background);\n",
       "  padding-right: 1em;\n",
       "  padding-left: 1em;\n",
       "}\n",
       "\n",
       "\n",
       "/* Toggleable style: style used for estimator/Pipeline/ColumnTransformer box that is\n",
       "clickable and can be expanded/collapsed.\n",
       "- Pipeline and ColumnTransformer use this feature and define the default style\n",
       "- Estimators will overwrite some part of the style using the `sk-estimator` class\n",
       "*/\n",
       "\n",
       "/* Pipeline and ColumnTransformer style (default) */\n",
       "\n",
       "#sk-container-id-21 div.sk-toggleable {\n",
       "  /* Default theme specific background. It is overwritten whether we have a\n",
       "  specific estimator or a Pipeline/ColumnTransformer */\n",
       "  background-color: var(--sklearn-color-background);\n",
       "}\n",
       "\n",
       "/* Toggleable label */\n",
       "#sk-container-id-21 label.sk-toggleable__label {\n",
       "  cursor: pointer;\n",
       "  display: block;\n",
       "  width: 100%;\n",
       "  margin-bottom: 0;\n",
       "  padding: 0.5em;\n",
       "  box-sizing: border-box;\n",
       "  text-align: center;\n",
       "}\n",
       "\n",
       "#sk-container-id-21 label.sk-toggleable__label-arrow:before {\n",
       "  /* Arrow on the left of the label */\n",
       "  content: \"▸\";\n",
       "  float: left;\n",
       "  margin-right: 0.25em;\n",
       "  color: var(--sklearn-color-icon);\n",
       "}\n",
       "\n",
       "#sk-container-id-21 label.sk-toggleable__label-arrow:hover:before {\n",
       "  color: var(--sklearn-color-text);\n",
       "}\n",
       "\n",
       "/* Toggleable content - dropdown */\n",
       "\n",
       "#sk-container-id-21 div.sk-toggleable__content {\n",
       "  max-height: 0;\n",
       "  max-width: 0;\n",
       "  overflow: hidden;\n",
       "  text-align: left;\n",
       "  /* unfitted */\n",
       "  background-color: var(--sklearn-color-unfitted-level-0);\n",
       "}\n",
       "\n",
       "#sk-container-id-21 div.sk-toggleable__content.fitted {\n",
       "  /* fitted */\n",
       "  background-color: var(--sklearn-color-fitted-level-0);\n",
       "}\n",
       "\n",
       "#sk-container-id-21 div.sk-toggleable__content pre {\n",
       "  margin: 0.2em;\n",
       "  border-radius: 0.25em;\n",
       "  color: var(--sklearn-color-text);\n",
       "  /* unfitted */\n",
       "  background-color: var(--sklearn-color-unfitted-level-0);\n",
       "}\n",
       "\n",
       "#sk-container-id-21 div.sk-toggleable__content.fitted pre {\n",
       "  /* unfitted */\n",
       "  background-color: var(--sklearn-color-fitted-level-0);\n",
       "}\n",
       "\n",
       "#sk-container-id-21 input.sk-toggleable__control:checked~div.sk-toggleable__content {\n",
       "  /* Expand drop-down */\n",
       "  max-height: 200px;\n",
       "  max-width: 100%;\n",
       "  overflow: auto;\n",
       "}\n",
       "\n",
       "#sk-container-id-21 input.sk-toggleable__control:checked~label.sk-toggleable__label-arrow:before {\n",
       "  content: \"▾\";\n",
       "}\n",
       "\n",
       "/* Pipeline/ColumnTransformer-specific style */\n",
       "\n",
       "#sk-container-id-21 div.sk-label input.sk-toggleable__control:checked~label.sk-toggleable__label {\n",
       "  color: var(--sklearn-color-text);\n",
       "  background-color: var(--sklearn-color-unfitted-level-2);\n",
       "}\n",
       "\n",
       "#sk-container-id-21 div.sk-label.fitted input.sk-toggleable__control:checked~label.sk-toggleable__label {\n",
       "  background-color: var(--sklearn-color-fitted-level-2);\n",
       "}\n",
       "\n",
       "/* Estimator-specific style */\n",
       "\n",
       "/* Colorize estimator box */\n",
       "#sk-container-id-21 div.sk-estimator input.sk-toggleable__control:checked~label.sk-toggleable__label {\n",
       "  /* unfitted */\n",
       "  background-color: var(--sklearn-color-unfitted-level-2);\n",
       "}\n",
       "\n",
       "#sk-container-id-21 div.sk-estimator.fitted input.sk-toggleable__control:checked~label.sk-toggleable__label {\n",
       "  /* fitted */\n",
       "  background-color: var(--sklearn-color-fitted-level-2);\n",
       "}\n",
       "\n",
       "#sk-container-id-21 div.sk-label label.sk-toggleable__label,\n",
       "#sk-container-id-21 div.sk-label label {\n",
       "  /* The background is the default theme color */\n",
       "  color: var(--sklearn-color-text-on-default-background);\n",
       "}\n",
       "\n",
       "/* On hover, darken the color of the background */\n",
       "#sk-container-id-21 div.sk-label:hover label.sk-toggleable__label {\n",
       "  color: var(--sklearn-color-text);\n",
       "  background-color: var(--sklearn-color-unfitted-level-2);\n",
       "}\n",
       "\n",
       "/* Label box, darken color on hover, fitted */\n",
       "#sk-container-id-21 div.sk-label.fitted:hover label.sk-toggleable__label.fitted {\n",
       "  color: var(--sklearn-color-text);\n",
       "  background-color: var(--sklearn-color-fitted-level-2);\n",
       "}\n",
       "\n",
       "/* Estimator label */\n",
       "\n",
       "#sk-container-id-21 div.sk-label label {\n",
       "  font-family: monospace;\n",
       "  font-weight: bold;\n",
       "  display: inline-block;\n",
       "  line-height: 1.2em;\n",
       "}\n",
       "\n",
       "#sk-container-id-21 div.sk-label-container {\n",
       "  text-align: center;\n",
       "}\n",
       "\n",
       "/* Estimator-specific */\n",
       "#sk-container-id-21 div.sk-estimator {\n",
       "  font-family: monospace;\n",
       "  border: 1px dotted var(--sklearn-color-border-box);\n",
       "  border-radius: 0.25em;\n",
       "  box-sizing: border-box;\n",
       "  margin-bottom: 0.5em;\n",
       "  /* unfitted */\n",
       "  background-color: var(--sklearn-color-unfitted-level-0);\n",
       "}\n",
       "\n",
       "#sk-container-id-21 div.sk-estimator.fitted {\n",
       "  /* fitted */\n",
       "  background-color: var(--sklearn-color-fitted-level-0);\n",
       "}\n",
       "\n",
       "/* on hover */\n",
       "#sk-container-id-21 div.sk-estimator:hover {\n",
       "  /* unfitted */\n",
       "  background-color: var(--sklearn-color-unfitted-level-2);\n",
       "}\n",
       "\n",
       "#sk-container-id-21 div.sk-estimator.fitted:hover {\n",
       "  /* fitted */\n",
       "  background-color: var(--sklearn-color-fitted-level-2);\n",
       "}\n",
       "\n",
       "/* Specification for estimator info (e.g. \"i\" and \"?\") */\n",
       "\n",
       "/* Common style for \"i\" and \"?\" */\n",
       "\n",
       ".sk-estimator-doc-link,\n",
       "a:link.sk-estimator-doc-link,\n",
       "a:visited.sk-estimator-doc-link {\n",
       "  float: right;\n",
       "  font-size: smaller;\n",
       "  line-height: 1em;\n",
       "  font-family: monospace;\n",
       "  background-color: var(--sklearn-color-background);\n",
       "  border-radius: 1em;\n",
       "  height: 1em;\n",
       "  width: 1em;\n",
       "  text-decoration: none !important;\n",
       "  margin-left: 1ex;\n",
       "  /* unfitted */\n",
       "  border: var(--sklearn-color-unfitted-level-1) 1pt solid;\n",
       "  color: var(--sklearn-color-unfitted-level-1);\n",
       "}\n",
       "\n",
       ".sk-estimator-doc-link.fitted,\n",
       "a:link.sk-estimator-doc-link.fitted,\n",
       "a:visited.sk-estimator-doc-link.fitted {\n",
       "  /* fitted */\n",
       "  border: var(--sklearn-color-fitted-level-1) 1pt solid;\n",
       "  color: var(--sklearn-color-fitted-level-1);\n",
       "}\n",
       "\n",
       "/* On hover */\n",
       "div.sk-estimator:hover .sk-estimator-doc-link:hover,\n",
       ".sk-estimator-doc-link:hover,\n",
       "div.sk-label-container:hover .sk-estimator-doc-link:hover,\n",
       ".sk-estimator-doc-link:hover {\n",
       "  /* unfitted */\n",
       "  background-color: var(--sklearn-color-unfitted-level-3);\n",
       "  color: var(--sklearn-color-background);\n",
       "  text-decoration: none;\n",
       "}\n",
       "\n",
       "div.sk-estimator.fitted:hover .sk-estimator-doc-link.fitted:hover,\n",
       ".sk-estimator-doc-link.fitted:hover,\n",
       "div.sk-label-container:hover .sk-estimator-doc-link.fitted:hover,\n",
       ".sk-estimator-doc-link.fitted:hover {\n",
       "  /* fitted */\n",
       "  background-color: var(--sklearn-color-fitted-level-3);\n",
       "  color: var(--sklearn-color-background);\n",
       "  text-decoration: none;\n",
       "}\n",
       "\n",
       "/* Span, style for the box shown on hovering the info icon */\n",
       ".sk-estimator-doc-link span {\n",
       "  display: none;\n",
       "  z-index: 9999;\n",
       "  position: relative;\n",
       "  font-weight: normal;\n",
       "  right: .2ex;\n",
       "  padding: .5ex;\n",
       "  margin: .5ex;\n",
       "  width: min-content;\n",
       "  min-width: 20ex;\n",
       "  max-width: 50ex;\n",
       "  color: var(--sklearn-color-text);\n",
       "  box-shadow: 2pt 2pt 4pt #999;\n",
       "  /* unfitted */\n",
       "  background: var(--sklearn-color-unfitted-level-0);\n",
       "  border: .5pt solid var(--sklearn-color-unfitted-level-3);\n",
       "}\n",
       "\n",
       ".sk-estimator-doc-link.fitted span {\n",
       "  /* fitted */\n",
       "  background: var(--sklearn-color-fitted-level-0);\n",
       "  border: var(--sklearn-color-fitted-level-3);\n",
       "}\n",
       "\n",
       ".sk-estimator-doc-link:hover span {\n",
       "  display: block;\n",
       "}\n",
       "\n",
       "/* \"?\"-specific style due to the `<a>` HTML tag */\n",
       "\n",
       "#sk-container-id-21 a.estimator_doc_link {\n",
       "  float: right;\n",
       "  font-size: 1rem;\n",
       "  line-height: 1em;\n",
       "  font-family: monospace;\n",
       "  background-color: var(--sklearn-color-background);\n",
       "  border-radius: 1rem;\n",
       "  height: 1rem;\n",
       "  width: 1rem;\n",
       "  text-decoration: none;\n",
       "  /* unfitted */\n",
       "  color: var(--sklearn-color-unfitted-level-1);\n",
       "  border: var(--sklearn-color-unfitted-level-1) 1pt solid;\n",
       "}\n",
       "\n",
       "#sk-container-id-21 a.estimator_doc_link.fitted {\n",
       "  /* fitted */\n",
       "  border: var(--sklearn-color-fitted-level-1) 1pt solid;\n",
       "  color: var(--sklearn-color-fitted-level-1);\n",
       "}\n",
       "\n",
       "/* On hover */\n",
       "#sk-container-id-21 a.estimator_doc_link:hover {\n",
       "  /* unfitted */\n",
       "  background-color: var(--sklearn-color-unfitted-level-3);\n",
       "  color: var(--sklearn-color-background);\n",
       "  text-decoration: none;\n",
       "}\n",
       "\n",
       "#sk-container-id-21 a.estimator_doc_link.fitted:hover {\n",
       "  /* fitted */\n",
       "  background-color: var(--sklearn-color-fitted-level-3);\n",
       "}\n",
       "</style><div id=\"sk-container-id-21\" class=\"sk-top-container\"><div class=\"sk-text-repr-fallback\"><pre>XGBRegressor(base_score=None, booster=None, callbacks=None,\n",
       "             colsample_bylevel=None, colsample_bynode=None,\n",
       "             colsample_bytree=0.6381946140549961, device=None,\n",
       "             early_stopping_rounds=None, enable_categorical=False,\n",
       "             eval_metric=None, feature_types=None, gamma=7.51823881766076,\n",
       "             grow_policy=None, importance_type=None,\n",
       "             interaction_constraints=None, learning_rate=0.06356088259455811,\n",
       "             max_bin=None, max_cat_threshold=None, max_cat_to_onehot=None,\n",
       "             max_delta_step=None, max_depth=4, max_leaves=None,\n",
       "             min_child_weight=4, missing=nan, monotone_constraints=None,\n",
       "             multi_strategy=None, n_estimators=737, n_jobs=None,\n",
       "             num_parallel_tree=None, random_state=42, ...)</pre><b>In a Jupyter environment, please rerun this cell to show the HTML representation or trust the notebook. <br />On GitHub, the HTML representation is unable to render, please try loading this page with nbviewer.org.</b></div><div class=\"sk-container\" hidden><div class=\"sk-item\"><div class=\"sk-estimator fitted sk-toggleable\"><input class=\"sk-toggleable__control sk-hidden--visually\" id=\"sk-estimator-id-35\" type=\"checkbox\" checked><label for=\"sk-estimator-id-35\" class=\"sk-toggleable__label fitted sk-toggleable__label-arrow fitted\">&nbsp;XGBRegressor<span class=\"sk-estimator-doc-link fitted\">i<span>Fitted</span></span></label><div class=\"sk-toggleable__content fitted\"><pre>XGBRegressor(base_score=None, booster=None, callbacks=None,\n",
       "             colsample_bylevel=None, colsample_bynode=None,\n",
       "             colsample_bytree=0.6381946140549961, device=None,\n",
       "             early_stopping_rounds=None, enable_categorical=False,\n",
       "             eval_metric=None, feature_types=None, gamma=7.51823881766076,\n",
       "             grow_policy=None, importance_type=None,\n",
       "             interaction_constraints=None, learning_rate=0.06356088259455811,\n",
       "             max_bin=None, max_cat_threshold=None, max_cat_to_onehot=None,\n",
       "             max_delta_step=None, max_depth=4, max_leaves=None,\n",
       "             min_child_weight=4, missing=nan, monotone_constraints=None,\n",
       "             multi_strategy=None, n_estimators=737, n_jobs=None,\n",
       "             num_parallel_tree=None, random_state=42, ...)</pre></div> </div></div></div></div>"
      ]
     },
     "execution_count": 281,
     "metadata": {},
     "output_type": "execute_result"
    }
   ],
   "execution_count": 281
  },
  {
   "metadata": {},
   "cell_type": "markdown",
   "source": "#### Model Evaluation",
   "id": "38db2e27827c233f"
  },
  {
   "metadata": {
    "ExecuteTime": {
     "end_time": "2024-12-11T23:18:05.824304Z",
     "start_time": "2024-12-11T23:18:05.731880Z"
    }
   },
   "cell_type": "code",
   "source": [
    "y_pred_xgb_train = xgb_model.predict(X_train)\n",
    "y_pred_xgb_test = xgb_model.predict(X_test)"
   ],
   "id": "6b621f8dd216728c",
   "outputs": [],
   "execution_count": 282
  },
  {
   "metadata": {
    "ExecuteTime": {
     "end_time": "2024-12-11T23:18:06.789119Z",
     "start_time": "2024-12-11T23:18:06.690680Z"
    }
   },
   "cell_type": "code",
   "source": [
    "# plot top 10 features\n",
    "plt.figure(figsize=(10, 6))\n",
    "plt.barh(X.columns[np.argsort(xgb_model.feature_importances_)[::-1][:10]],\n",
    "         xgb_model.feature_importances_[np.argsort(xgb_model.feature_importances_)[::-1][:10]])\n",
    "plt.xlabel('Feature Importance')\n",
    "plt.ylabel('Feature')\n",
    "plt.title('Top 10 Features')\n",
    "plt.show()"
   ],
   "id": "4b286db9154a2171",
   "outputs": [
    {
     "data": {
      "text/plain": [
       "<Figure size 1000x600 with 1 Axes>"
      ],
      "image/png": "[encoded data removed]"
     },
     "metadata": {},
     "output_type": "display_data"
    }
   ],
   "execution_count": 283
  },
  {
   "metadata": {},
   "cell_type": "markdown",
   "source": "#### Model Saving",
   "id": "629e5107e6548474"
  },
  {
   "metadata": {
    "ExecuteTime": {
     "end_time": "2024-12-11T23:18:06.815648Z",
     "start_time": "2024-12-11T23:18:06.793312Z"
    }
   },
   "cell_type": "code",
   "source": [
    "# Save the model\n",
    "pickle.dump(xgb_model, open('../models/AVB_xgb.pkl', 'wb'))"
   ],
   "id": "27e9f3abfa37a64a",
   "outputs": [],
   "execution_count": 284
  },
  {
   "metadata": {},
   "cell_type": "markdown",
   "source": "## Conclusion",
   "id": "ad5d6ff48c3a8a07"
  },
  {
   "metadata": {
    "ExecuteTime": {
     "end_time": "2024-12-11T23:18:06.856959Z",
     "start_time": "2024-12-11T23:18:06.829021Z"
    }
   },
   "cell_type": "code",
   "source": [
    "models = ['Random Forest', 'AdaBoost', 'XGBoost']\n",
    "predictions_train = [y_pred_rf_train, y_pred_ada_train, y_pred_xgb_train]\n",
    "predictions_test = [y_pred_rf_test, y_pred_ada_test, y_pred_xgb_test]\n",
    "\n",
    "utils.evaluate_models(models=models, predictions_train=predictions_train, predictions_test=predictions_test, X=X,\n",
    "                      y_train=y_train, y_test=y_test, task='regression')"
   ],
   "id": "dd5b14efeadec0c3",
   "outputs": [
    {
     "data": {
      "text/plain": [
       "                              Random Forest    AdaBoost     XGBoost\n",
       "Metric                  Type                                       \n",
       "Mean Absolute Error     Train      2.627485    7.707232    0.936837\n",
       "Mean Squared Error      Train     12.317544   83.136376    1.390495\n",
       "Root Mean Squared Error Train      3.509636    9.117915    1.179193\n",
       "R-squared               Train      0.983039    0.885525    0.998085\n",
       "Adjusted R-squared      Train      0.980277     0.86688    0.997774\n",
       "Mean Absolute Error     Test      14.333128   16.504559   17.212718\n",
       "Mean Squared Error      Test     407.778655  522.096113  464.386665\n",
       "Root Mean Squared Error Test       20.19353   22.849423   21.549633\n",
       "R-squared               Test      -0.279126   -0.637718   -0.456694\n",
       "Adjusted R-squared      Test      -1.896843    -2.70895   -2.298985"
      ],
      "text/html": [
       "<div>\n",
       "<style scoped>\n",
       "    .dataframe tbody tr th:only-of-type {\n",
       "        vertical-align: middle;\n",
       "    }\n",
       "\n",
       "    .dataframe tbody tr th {\n",
       "        vertical-align: top;\n",
       "    }\n",
       "\n",
       "    .dataframe thead th {\n",
       "        text-align: right;\n",
       "    }\n",
       "</style>\n",
       "<table border=\"1\" class=\"dataframe\">\n",
       "  <thead>\n",
       "    <tr style=\"text-align: right;\">\n",
       "      <th></th>\n",
       "      <th></th>\n",
       "      <th>Random Forest</th>\n",
       "      <th>AdaBoost</th>\n",
       "      <th>XGBoost</th>\n",
       "    </tr>\n",
       "    <tr>\n",
       "      <th>Metric</th>\n",
       "      <th>Type</th>\n",
       "      <th></th>\n",
       "      <th></th>\n",
       "      <th></th>\n",
       "    </tr>\n",
       "  </thead>\n",
       "  <tbody>\n",
       "    <tr>\n",
       "      <th>Mean Absolute Error</th>\n",
       "      <th>Train</th>\n",
       "      <td>2.627485</td>\n",
       "      <td>7.707232</td>\n",
       "      <td>0.936837</td>\n",
       "    </tr>\n",
       "    <tr>\n",
       "      <th>Mean Squared Error</th>\n",
       "      <th>Train</th>\n",
       "      <td>12.317544</td>\n",
       "      <td>83.136376</td>\n",
       "      <td>1.390495</td>\n",
       "    </tr>\n",
       "    <tr>\n",
       "      <th>Root Mean Squared Error</th>\n",
       "      <th>Train</th>\n",
       "      <td>3.509636</td>\n",
       "      <td>9.117915</td>\n",
       "      <td>1.179193</td>\n",
       "    </tr>\n",
       "    <tr>\n",
       "      <th>R-squared</th>\n",
       "      <th>Train</th>\n",
       "      <td>0.983039</td>\n",
       "      <td>0.885525</td>\n",
       "      <td>0.998085</td>\n",
       "    </tr>\n",
       "    <tr>\n",
       "      <th>Adjusted R-squared</th>\n",
       "      <th>Train</th>\n",
       "      <td>0.980277</td>\n",
       "      <td>0.86688</td>\n",
       "      <td>0.997774</td>\n",
       "    </tr>\n",
       "    <tr>\n",
       "      <th>Mean Absolute Error</th>\n",
       "      <th>Test</th>\n",
       "      <td>14.333128</td>\n",
       "      <td>16.504559</td>\n",
       "      <td>17.212718</td>\n",
       "    </tr>\n",
       "    <tr>\n",
       "      <th>Mean Squared Error</th>\n",
       "      <th>Test</th>\n",
       "      <td>407.778655</td>\n",
       "      <td>522.096113</td>\n",
       "      <td>464.386665</td>\n",
       "    </tr>\n",
       "    <tr>\n",
       "      <th>Root Mean Squared Error</th>\n",
       "      <th>Test</th>\n",
       "      <td>20.19353</td>\n",
       "      <td>22.849423</td>\n",
       "      <td>21.549633</td>\n",
       "    </tr>\n",
       "    <tr>\n",
       "      <th>R-squared</th>\n",
       "      <th>Test</th>\n",
       "      <td>-0.279126</td>\n",
       "      <td>-0.637718</td>\n",
       "      <td>-0.456694</td>\n",
       "    </tr>\n",
       "    <tr>\n",
       "      <th>Adjusted R-squared</th>\n",
       "      <th>Test</th>\n",
       "      <td>-1.896843</td>\n",
       "      <td>-2.70895</td>\n",
       "      <td>-2.298985</td>\n",
       "    </tr>\n",
       "  </tbody>\n",
       "</table>\n",
       "</div>"
      ]
     },
     "execution_count": 285,
     "metadata": {},
     "output_type": "execute_result"
    }
   ],
   "execution_count": 285
  }
 ],
 "metadata": {
  "kernelspec": {
   "display_name": "Python 3 (ipykernel)",
   "language": "python",
   "name": "python3"
  },
  "language_info": {
   "codemirror_mode": {
    "name": "ipython",
    "version": 3
   },
   "file_extension": ".py",
   "mimetype": "text/x-python",
   "name": "python",
   "nbconvert_exporter": "python",
   "pygments_lexer": "ipython3",
   "version": "3.12.7"
  }
 },
 "nbformat": 4,
 "nbformat_minor": 5
}
