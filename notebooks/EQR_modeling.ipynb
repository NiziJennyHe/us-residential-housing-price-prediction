{
 "cells": [
  {
   "cell_type": "markdown",
   "id": "160ae98ebfedb0c3",
   "metadata": {},
   "source": [
    "# Equity Apartments Trust Price Prediction"
   ]
  },
  {
   "cell_type": "code",
   "execution_count": 14,
   "id": "cdb6c0af34af046",
   "metadata": {
    "ExecuteTime": {
     "end_time": "2024-12-11T23:32:37.107163Z",
     "start_time": "2024-12-11T23:32:37.026794Z"
    }
   },
   "outputs": [
    {
     "name": "stdout",
     "output_type": "stream",
     "text": [
      "The autoreload extension is already loaded. To reload it, use:\n",
      "  %reload_ext autoreload\n"
     ]
    }
   ],
   "source": [
    "import pickle\n",
    "\n",
    "import matplotlib.pyplot as plt\n",
    "import numpy as np\n",
    "import optuna\n",
    "import pandas as pd\n",
    "import seaborn as sns\n",
    "from optuna import visualization as vis\n",
    "from sklearn.ensemble import RandomForestRegressor, AdaBoostRegressor\n",
    "from sklearn.metrics import make_scorer, root_mean_squared_error\n",
    "from sklearn.model_selection import KFold, cross_val_score, train_test_split\n",
    "from sklearn.tree import DecisionTreeRegressor\n",
    "from xgboost import XGBRegressor\n",
    "\n",
    "import utils\n",
    "\n",
    "%load_ext autoreload\n",
    "%autoreload 2"
   ]
  },
  {
   "cell_type": "markdown",
   "id": "caefd51b87d1c8ee",
   "metadata": {},
   "source": [
    "## Data Preparation"
   ]
  },
  {
   "cell_type": "code",
   "execution_count": 5,
   "id": "ed58055e7ee8087d",
   "metadata": {
    "ExecuteTime": {
     "end_time": "2024-12-11T23:32:37.283751Z",
     "start_time": "2024-12-11T23:32:37.136593Z"
    }
   },
   "outputs": [
    {
     "data": {
      "text/html": [
       "<div>\n",
       "<style scoped>\n",
       "    .dataframe tbody tr th:only-of-type {\n",
       "        vertical-align: middle;\n",
       "    }\n",
       "\n",
       "    .dataframe tbody tr th {\n",
       "        vertical-align: top;\n",
       "    }\n",
       "\n",
       "    .dataframe thead th {\n",
       "        text-align: right;\n",
       "    }\n",
       "</style>\n",
       "<table border=\"1\" class=\"dataframe\">\n",
       "  <thead>\n",
       "    <tr style=\"text-align: right;\">\n",
       "      <th></th>\n",
       "      <th>date</th>\n",
       "      <th>State</th>\n",
       "      <th>adjusted_average_new_listings</th>\n",
       "      <th>adjusted_average_new_listings_yoy</th>\n",
       "      <th>average_pending_sales_listing_updates</th>\n",
       "      <th>average_pending_sales_listing_updates_yoy</th>\n",
       "      <th>off_market_in_two_weeks</th>\n",
       "      <th>off_market_in_two_weeks_yoy</th>\n",
       "      <th>adjusted_average_homes_sold</th>\n",
       "      <th>adjusted_average_homes_sold_yoy</th>\n",
       "      <th>...</th>\n",
       "      <th>months_of_supply</th>\n",
       "      <th>months_of_supply_yoy</th>\n",
       "      <th>median_pending_sqft</th>\n",
       "      <th>median_pending_sqft_yoy</th>\n",
       "      <th>average_sale_to_list_ratio</th>\n",
       "      <th>average_sale_to_list_ratio_yoy</th>\n",
       "      <th>median_sale_ppsf</th>\n",
       "      <th>median_sale_ppsf_yoy</th>\n",
       "      <th>ZORI</th>\n",
       "      <th>ZHVI</th>\n",
       "    </tr>\n",
       "  </thead>\n",
       "  <tbody>\n",
       "    <tr>\n",
       "      <th>0</th>\n",
       "      <td>2016-12-30</td>\n",
       "      <td>AL</td>\n",
       "      <td>43.000000</td>\n",
       "      <td>-0.556701</td>\n",
       "      <td>52.000000</td>\n",
       "      <td>-0.174603</td>\n",
       "      <td>3.000000</td>\n",
       "      <td>-0.571429</td>\n",
       "      <td>36.000000</td>\n",
       "      <td>0.161290</td>\n",
       "      <td>...</td>\n",
       "      <td>37.555556</td>\n",
       "      <td>-11.831541</td>\n",
       "      <td>1994.000000</td>\n",
       "      <td>-0.005982</td>\n",
       "      <td>0.962797</td>\n",
       "      <td>-0.005236</td>\n",
       "      <td>99.543540</td>\n",
       "      <td>0.022577</td>\n",
       "      <td>1122.650058</td>\n",
       "      <td>216066.470760</td>\n",
       "    </tr>\n",
       "    <tr>\n",
       "      <th>22</th>\n",
       "      <td>2016-12-30</td>\n",
       "      <td>NM</td>\n",
       "      <td>114.313585</td>\n",
       "      <td>0.084512</td>\n",
       "      <td>134.713228</td>\n",
       "      <td>0.382836</td>\n",
       "      <td>20.912155</td>\n",
       "      <td>0.233377</td>\n",
       "      <td>49.089377</td>\n",
       "      <td>-0.202766</td>\n",
       "      <td>...</td>\n",
       "      <td>34.912703</td>\n",
       "      <td>3.409213</td>\n",
       "      <td>1581.070352</td>\n",
       "      <td>0.000619</td>\n",
       "      <td>0.968729</td>\n",
       "      <td>-0.003238</td>\n",
       "      <td>123.185945</td>\n",
       "      <td>-0.022682</td>\n",
       "      <td>1000.213260</td>\n",
       "      <td>214940.891096</td>\n",
       "    </tr>\n",
       "    <tr>\n",
       "      <th>23</th>\n",
       "      <td>2016-12-30</td>\n",
       "      <td>NV</td>\n",
       "      <td>73.000000</td>\n",
       "      <td>-0.401639</td>\n",
       "      <td>119.000000</td>\n",
       "      <td>-0.201342</td>\n",
       "      <td>11.000000</td>\n",
       "      <td>-0.312500</td>\n",
       "      <td>85.000000</td>\n",
       "      <td>-0.174757</td>\n",
       "      <td>...</td>\n",
       "      <td>22.976471</td>\n",
       "      <td>4.889092</td>\n",
       "      <td>1534.000000</td>\n",
       "      <td>0.009875</td>\n",
       "      <td>0.975629</td>\n",
       "      <td>-0.001425</td>\n",
       "      <td>171.276080</td>\n",
       "      <td>0.051403</td>\n",
       "      <td>1148.605311</td>\n",
       "      <td>305904.466295</td>\n",
       "    </tr>\n",
       "    <tr>\n",
       "      <th>24</th>\n",
       "      <td>2016-12-30</td>\n",
       "      <td>NY</td>\n",
       "      <td>151.742276</td>\n",
       "      <td>-0.169707</td>\n",
       "      <td>92.002294</td>\n",
       "      <td>-0.282131</td>\n",
       "      <td>3.498929</td>\n",
       "      <td>0.101171</td>\n",
       "      <td>96.855613</td>\n",
       "      <td>-0.176365</td>\n",
       "      <td>...</td>\n",
       "      <td>33.720803</td>\n",
       "      <td>2.649503</td>\n",
       "      <td>1349.549098</td>\n",
       "      <td>-0.060022</td>\n",
       "      <td>0.969925</td>\n",
       "      <td>0.004392</td>\n",
       "      <td>328.973719</td>\n",
       "      <td>0.029551</td>\n",
       "      <td>1895.798229</td>\n",
       "      <td>456494.835558</td>\n",
       "    </tr>\n",
       "    <tr>\n",
       "      <th>25</th>\n",
       "      <td>2016-12-30</td>\n",
       "      <td>OH</td>\n",
       "      <td>148.807790</td>\n",
       "      <td>-0.110787</td>\n",
       "      <td>141.400560</td>\n",
       "      <td>-0.119257</td>\n",
       "      <td>8.218554</td>\n",
       "      <td>0.395212</td>\n",
       "      <td>89.297186</td>\n",
       "      <td>-0.161583</td>\n",
       "      <td>...</td>\n",
       "      <td>30.830572</td>\n",
       "      <td>-0.016809</td>\n",
       "      <td>1560.083967</td>\n",
       "      <td>0.006244</td>\n",
       "      <td>0.960467</td>\n",
       "      <td>0.020897</td>\n",
       "      <td>76.917214</td>\n",
       "      <td>0.094313</td>\n",
       "      <td>843.742553</td>\n",
       "      <td>129419.574891</td>\n",
       "    </tr>\n",
       "    <tr>\n",
       "      <th>...</th>\n",
       "      <td>...</td>\n",
       "      <td>...</td>\n",
       "      <td>...</td>\n",
       "      <td>...</td>\n",
       "      <td>...</td>\n",
       "      <td>...</td>\n",
       "      <td>...</td>\n",
       "      <td>...</td>\n",
       "      <td>...</td>\n",
       "      <td>...</td>\n",
       "      <td>...</td>\n",
       "      <td>...</td>\n",
       "      <td>...</td>\n",
       "      <td>...</td>\n",
       "      <td>...</td>\n",
       "      <td>...</td>\n",
       "      <td>...</td>\n",
       "      <td>...</td>\n",
       "      <td>...</td>\n",
       "      <td>...</td>\n",
       "      <td>...</td>\n",
       "    </tr>\n",
       "    <tr>\n",
       "      <th>18425</th>\n",
       "      <td>2024-11-01</td>\n",
       "      <td>MA</td>\n",
       "      <td>97.090933</td>\n",
       "      <td>-0.041412</td>\n",
       "      <td>108.639851</td>\n",
       "      <td>0.122470</td>\n",
       "      <td>22.133546</td>\n",
       "      <td>0.093218</td>\n",
       "      <td>94.045135</td>\n",
       "      <td>0.329857</td>\n",
       "      <td>...</td>\n",
       "      <td>12.019740</td>\n",
       "      <td>-2.424043</td>\n",
       "      <td>1628.974114</td>\n",
       "      <td>0.013848</td>\n",
       "      <td>1.001044</td>\n",
       "      <td>-0.003737</td>\n",
       "      <td>407.260117</td>\n",
       "      <td>0.051139</td>\n",
       "      <td>2594.192374</td>\n",
       "      <td>625927.096790</td>\n",
       "    </tr>\n",
       "    <tr>\n",
       "      <th>18426</th>\n",
       "      <td>2024-11-01</td>\n",
       "      <td>MD</td>\n",
       "      <td>95.834211</td>\n",
       "      <td>0.211162</td>\n",
       "      <td>108.185107</td>\n",
       "      <td>0.159219</td>\n",
       "      <td>27.503864</td>\n",
       "      <td>0.048320</td>\n",
       "      <td>85.445557</td>\n",
       "      <td>0.262958</td>\n",
       "      <td>...</td>\n",
       "      <td>12.788671</td>\n",
       "      <td>-0.572449</td>\n",
       "      <td>1767.211363</td>\n",
       "      <td>-0.016668</td>\n",
       "      <td>0.998137</td>\n",
       "      <td>0.001047</td>\n",
       "      <td>221.888798</td>\n",
       "      <td>0.042522</td>\n",
       "      <td>1943.986460</td>\n",
       "      <td>396332.990533</td>\n",
       "    </tr>\n",
       "    <tr>\n",
       "      <th>18427</th>\n",
       "      <td>2024-11-01</td>\n",
       "      <td>ME</td>\n",
       "      <td>34.411858</td>\n",
       "      <td>0.313887</td>\n",
       "      <td>39.709881</td>\n",
       "      <td>0.830392</td>\n",
       "      <td>6.226087</td>\n",
       "      <td>0.024200</td>\n",
       "      <td>26.207115</td>\n",
       "      <td>0.097976</td>\n",
       "      <td>...</td>\n",
       "      <td>15.972631</td>\n",
       "      <td>3.528026</td>\n",
       "      <td>1569.513439</td>\n",
       "      <td>0.029284</td>\n",
       "      <td>0.975217</td>\n",
       "      <td>-0.004498</td>\n",
       "      <td>184.368299</td>\n",
       "      <td>0.006300</td>\n",
       "      <td>1536.475750</td>\n",
       "      <td>299791.577634</td>\n",
       "    </tr>\n",
       "    <tr>\n",
       "      <th>18416</th>\n",
       "      <td>2024-11-01</td>\n",
       "      <td>GA</td>\n",
       "      <td>25.704628</td>\n",
       "      <td>-0.165583</td>\n",
       "      <td>28.377602</td>\n",
       "      <td>-0.020919</td>\n",
       "      <td>5.882505</td>\n",
       "      <td>0.030047</td>\n",
       "      <td>21.229142</td>\n",
       "      <td>0.355209</td>\n",
       "      <td>...</td>\n",
       "      <td>21.932300</td>\n",
       "      <td>-0.595328</td>\n",
       "      <td>1743.028643</td>\n",
       "      <td>-0.022036</td>\n",
       "      <td>0.970562</td>\n",
       "      <td>-0.001474</td>\n",
       "      <td>159.285000</td>\n",
       "      <td>0.115485</td>\n",
       "      <td>1541.986132</td>\n",
       "      <td>255540.577007</td>\n",
       "    </tr>\n",
       "    <tr>\n",
       "      <th>18455</th>\n",
       "      <td>2024-11-01</td>\n",
       "      <td>WY</td>\n",
       "      <td>27.000000</td>\n",
       "      <td>0.080000</td>\n",
       "      <td>20.000000</td>\n",
       "      <td>-0.285714</td>\n",
       "      <td>5.000000</td>\n",
       "      <td>-0.166667</td>\n",
       "      <td>24.000000</td>\n",
       "      <td>0.333333</td>\n",
       "      <td>...</td>\n",
       "      <td>9.208333</td>\n",
       "      <td>-2.513889</td>\n",
       "      <td>1974.000000</td>\n",
       "      <td>0.192029</td>\n",
       "      <td>0.987222</td>\n",
       "      <td>0.010982</td>\n",
       "      <td>171.437135</td>\n",
       "      <td>0.271712</td>\n",
       "      <td>1311.863248</td>\n",
       "      <td>295675.494623</td>\n",
       "    </tr>\n",
       "  </tbody>\n",
       "</table>\n",
       "<p>18456 rows × 36 columns</p>\n",
       "</div>"
      ],
      "text/plain": [
       "             date State  adjusted_average_new_listings  \\\n",
       "0      2016-12-30    AL                      43.000000   \n",
       "22     2016-12-30    NM                     114.313585   \n",
       "23     2016-12-30    NV                      73.000000   \n",
       "24     2016-12-30    NY                     151.742276   \n",
       "25     2016-12-30    OH                     148.807790   \n",
       "...           ...   ...                            ...   \n",
       "18425  2024-11-01    MA                      97.090933   \n",
       "18426  2024-11-01    MD                      95.834211   \n",
       "18427  2024-11-01    ME                      34.411858   \n",
       "18416  2024-11-01    GA                      25.704628   \n",
       "18455  2024-11-01    WY                      27.000000   \n",
       "\n",
       "       adjusted_average_new_listings_yoy  \\\n",
       "0                              -0.556701   \n",
       "22                              0.084512   \n",
       "23                             -0.401639   \n",
       "24                             -0.169707   \n",
       "25                             -0.110787   \n",
       "...                                  ...   \n",
       "18425                          -0.041412   \n",
       "18426                           0.211162   \n",
       "18427                           0.313887   \n",
       "18416                          -0.165583   \n",
       "18455                           0.080000   \n",
       "\n",
       "       average_pending_sales_listing_updates  \\\n",
       "0                                  52.000000   \n",
       "22                                134.713228   \n",
       "23                                119.000000   \n",
       "24                                 92.002294   \n",
       "25                                141.400560   \n",
       "...                                      ...   \n",
       "18425                             108.639851   \n",
       "18426                             108.185107   \n",
       "18427                              39.709881   \n",
       "18416                              28.377602   \n",
       "18455                              20.000000   \n",
       "\n",
       "       average_pending_sales_listing_updates_yoy  off_market_in_two_weeks  \\\n",
       "0                                      -0.174603                 3.000000   \n",
       "22                                      0.382836                20.912155   \n",
       "23                                     -0.201342                11.000000   \n",
       "24                                     -0.282131                 3.498929   \n",
       "25                                     -0.119257                 8.218554   \n",
       "...                                          ...                      ...   \n",
       "18425                                   0.122470                22.133546   \n",
       "18426                                   0.159219                27.503864   \n",
       "18427                                   0.830392                 6.226087   \n",
       "18416                                  -0.020919                 5.882505   \n",
       "18455                                  -0.285714                 5.000000   \n",
       "\n",
       "       off_market_in_two_weeks_yoy  adjusted_average_homes_sold  \\\n",
       "0                        -0.571429                    36.000000   \n",
       "22                        0.233377                    49.089377   \n",
       "23                       -0.312500                    85.000000   \n",
       "24                        0.101171                    96.855613   \n",
       "25                        0.395212                    89.297186   \n",
       "...                            ...                          ...   \n",
       "18425                     0.093218                    94.045135   \n",
       "18426                     0.048320                    85.445557   \n",
       "18427                     0.024200                    26.207115   \n",
       "18416                     0.030047                    21.229142   \n",
       "18455                    -0.166667                    24.000000   \n",
       "\n",
       "       adjusted_average_homes_sold_yoy  ...  months_of_supply  \\\n",
       "0                             0.161290  ...         37.555556   \n",
       "22                           -0.202766  ...         34.912703   \n",
       "23                           -0.174757  ...         22.976471   \n",
       "24                           -0.176365  ...         33.720803   \n",
       "25                           -0.161583  ...         30.830572   \n",
       "...                                ...  ...               ...   \n",
       "18425                         0.329857  ...         12.019740   \n",
       "18426                         0.262958  ...         12.788671   \n",
       "18427                         0.097976  ...         15.972631   \n",
       "18416                         0.355209  ...         21.932300   \n",
       "18455                         0.333333  ...          9.208333   \n",
       "\n",
       "       months_of_supply_yoy  median_pending_sqft  median_pending_sqft_yoy  \\\n",
       "0                -11.831541          1994.000000                -0.005982   \n",
       "22                 3.409213          1581.070352                 0.000619   \n",
       "23                 4.889092          1534.000000                 0.009875   \n",
       "24                 2.649503          1349.549098                -0.060022   \n",
       "25                -0.016809          1560.083967                 0.006244   \n",
       "...                     ...                  ...                      ...   \n",
       "18425             -2.424043          1628.974114                 0.013848   \n",
       "18426             -0.572449          1767.211363                -0.016668   \n",
       "18427              3.528026          1569.513439                 0.029284   \n",
       "18416             -0.595328          1743.028643                -0.022036   \n",
       "18455             -2.513889          1974.000000                 0.192029   \n",
       "\n",
       "       average_sale_to_list_ratio  average_sale_to_list_ratio_yoy  \\\n",
       "0                        0.962797                       -0.005236   \n",
       "22                       0.968729                       -0.003238   \n",
       "23                       0.975629                       -0.001425   \n",
       "24                       0.969925                        0.004392   \n",
       "25                       0.960467                        0.020897   \n",
       "...                           ...                             ...   \n",
       "18425                    1.001044                       -0.003737   \n",
       "18426                    0.998137                        0.001047   \n",
       "18427                    0.975217                       -0.004498   \n",
       "18416                    0.970562                       -0.001474   \n",
       "18455                    0.987222                        0.010982   \n",
       "\n",
       "       median_sale_ppsf  median_sale_ppsf_yoy         ZORI           ZHVI  \n",
       "0             99.543540              0.022577  1122.650058  216066.470760  \n",
       "22           123.185945             -0.022682  1000.213260  214940.891096  \n",
       "23           171.276080              0.051403  1148.605311  305904.466295  \n",
       "24           328.973719              0.029551  1895.798229  456494.835558  \n",
       "25            76.917214              0.094313   843.742553  129419.574891  \n",
       "...                 ...                   ...          ...            ...  \n",
       "18425        407.260117              0.051139  2594.192374  625927.096790  \n",
       "18426        221.888798              0.042522  1943.986460  396332.990533  \n",
       "18427        184.368299              0.006300  1536.475750  299791.577634  \n",
       "18416        159.285000              0.115485  1541.986132  255540.577007  \n",
       "18455        171.437135              0.271712  1311.863248  295675.494623  \n",
       "\n",
       "[18456 rows x 36 columns]"
      ]
     },
     "execution_count": 5,
     "metadata": {},
     "output_type": "execute_result"
    }
   ],
   "source": [
    "# Load the data\n",
    "df = pd.read_csv('../data/final_data.csv')\n",
    "# sort by date\n",
    "df = df.sort_values(by='date')\n",
    "df"
   ]
  },
  {
   "cell_type": "code",
   "execution_count": 6,
   "id": "e8f33928539f14b",
   "metadata": {
    "ExecuteTime": {
     "end_time": "2024-12-11T23:32:37.402919Z",
     "start_time": "2024-12-11T23:32:37.332965Z"
    }
   },
   "outputs": [
    {
     "data": {
      "text/html": [
       "<div>\n",
       "<style scoped>\n",
       "    .dataframe tbody tr th:only-of-type {\n",
       "        vertical-align: middle;\n",
       "    }\n",
       "\n",
       "    .dataframe tbody tr th {\n",
       "        vertical-align: top;\n",
       "    }\n",
       "\n",
       "    .dataframe thead th {\n",
       "        text-align: right;\n",
       "    }\n",
       "</style>\n",
       "<table border=\"1\" class=\"dataframe\">\n",
       "  <thead>\n",
       "    <tr style=\"text-align: right;\">\n",
       "      <th></th>\n",
       "      <th>adjusted_average_new_listings</th>\n",
       "      <th>adjusted_average_new_listings_yoy</th>\n",
       "      <th>average_pending_sales_listing_updates</th>\n",
       "      <th>average_pending_sales_listing_updates_yoy</th>\n",
       "      <th>off_market_in_two_weeks</th>\n",
       "      <th>off_market_in_two_weeks_yoy</th>\n",
       "      <th>adjusted_average_homes_sold</th>\n",
       "      <th>adjusted_average_homes_sold_yoy</th>\n",
       "      <th>median_new_listing_price</th>\n",
       "      <th>median_new_listing_price_yoy</th>\n",
       "      <th>...</th>\n",
       "      <th>months_of_supply</th>\n",
       "      <th>months_of_supply_yoy</th>\n",
       "      <th>median_pending_sqft</th>\n",
       "      <th>median_pending_sqft_yoy</th>\n",
       "      <th>average_sale_to_list_ratio</th>\n",
       "      <th>average_sale_to_list_ratio_yoy</th>\n",
       "      <th>median_sale_ppsf</th>\n",
       "      <th>median_sale_ppsf_yoy</th>\n",
       "      <th>ZORI</th>\n",
       "      <th>ZHVI</th>\n",
       "    </tr>\n",
       "  </thead>\n",
       "  <tbody>\n",
       "    <tr>\n",
       "      <th>count</th>\n",
       "      <td>18456.000000</td>\n",
       "      <td>18456.000000</td>\n",
       "      <td>18456.000000</td>\n",
       "      <td>18456.000000</td>\n",
       "      <td>18456.000000</td>\n",
       "      <td>18456.000000</td>\n",
       "      <td>18456.000000</td>\n",
       "      <td>18456.000000</td>\n",
       "      <td>18456.000000</td>\n",
       "      <td>18456.000000</td>\n",
       "      <td>...</td>\n",
       "      <td>18456.000000</td>\n",
       "      <td>18456.000000</td>\n",
       "      <td>18456.000000</td>\n",
       "      <td>18456.000000</td>\n",
       "      <td>18456.000000</td>\n",
       "      <td>18456.000000</td>\n",
       "      <td>18456.000000</td>\n",
       "      <td>18456.000000</td>\n",
       "      <td>18456.000000</td>\n",
       "      <td>18456.000000</td>\n",
       "    </tr>\n",
       "    <tr>\n",
       "      <th>mean</th>\n",
       "      <td>224.822185</td>\n",
       "      <td>0.020352</td>\n",
       "      <td>228.979772</td>\n",
       "      <td>0.016517</td>\n",
       "      <td>57.717817</td>\n",
       "      <td>0.265805</td>\n",
       "      <td>190.655146</td>\n",
       "      <td>0.017660</td>\n",
       "      <td>356879.316094</td>\n",
       "      <td>0.077466</td>\n",
       "      <td>...</td>\n",
       "      <td>13.636546</td>\n",
       "      <td>-0.454951</td>\n",
       "      <td>1740.661655</td>\n",
       "      <td>0.010256</td>\n",
       "      <td>0.991642</td>\n",
       "      <td>0.001699</td>\n",
       "      <td>206.673428</td>\n",
       "      <td>0.078572</td>\n",
       "      <td>1515.914613</td>\n",
       "      <td>338363.084043</td>\n",
       "    </tr>\n",
       "    <tr>\n",
       "      <th>std</th>\n",
       "      <td>268.399737</td>\n",
       "      <td>0.252885</td>\n",
       "      <td>277.258932</td>\n",
       "      <td>0.293648</td>\n",
       "      <td>75.809862</td>\n",
       "      <td>1.074286</td>\n",
       "      <td>226.218136</td>\n",
       "      <td>0.258654</td>\n",
       "      <td>145058.128008</td>\n",
       "      <td>0.088239</td>\n",
       "      <td>...</td>\n",
       "      <td>6.712299</td>\n",
       "      <td>5.333714</td>\n",
       "      <td>239.320561</td>\n",
       "      <td>0.071756</td>\n",
       "      <td>0.018139</td>\n",
       "      <td>0.014420</td>\n",
       "      <td>117.353164</td>\n",
       "      <td>0.077867</td>\n",
       "      <td>419.397500</td>\n",
       "      <td>147694.948987</td>\n",
       "    </tr>\n",
       "    <tr>\n",
       "      <th>min</th>\n",
       "      <td>4.000000</td>\n",
       "      <td>-0.846920</td>\n",
       "      <td>6.000000</td>\n",
       "      <td>-0.911950</td>\n",
       "      <td>0.000000</td>\n",
       "      <td>-1.000000</td>\n",
       "      <td>5.871287</td>\n",
       "      <td>-0.840433</td>\n",
       "      <td>73450.000000</td>\n",
       "      <td>-0.680511</td>\n",
       "      <td>...</td>\n",
       "      <td>2.360043</td>\n",
       "      <td>-92.758503</td>\n",
       "      <td>814.000000</td>\n",
       "      <td>-0.387527</td>\n",
       "      <td>0.900450</td>\n",
       "      <td>-0.089645</td>\n",
       "      <td>55.159332</td>\n",
       "      <td>-0.468836</td>\n",
       "      <td>698.509937</td>\n",
       "      <td>84040.300712</td>\n",
       "    </tr>\n",
       "    <tr>\n",
       "      <th>25%</th>\n",
       "      <td>78.000000</td>\n",
       "      <td>-0.109911</td>\n",
       "      <td>82.000000</td>\n",
       "      <td>-0.119166</td>\n",
       "      <td>15.700872</td>\n",
       "      <td>-0.165918</td>\n",
       "      <td>70.003369</td>\n",
       "      <td>-0.130728</td>\n",
       "      <td>255538.988678</td>\n",
       "      <td>0.028102</td>\n",
       "      <td>...</td>\n",
       "      <td>8.962673</td>\n",
       "      <td>-2.758122</td>\n",
       "      <td>1595.991905</td>\n",
       "      <td>-0.024072</td>\n",
       "      <td>0.979629</td>\n",
       "      <td>-0.004696</td>\n",
       "      <td>135.614105</td>\n",
       "      <td>0.031558</td>\n",
       "      <td>1212.348959</td>\n",
       "      <td>229266.392067</td>\n",
       "    </tr>\n",
       "    <tr>\n",
       "      <th>50%</th>\n",
       "      <td>147.000227</td>\n",
       "      <td>0.005099</td>\n",
       "      <td>152.890582</td>\n",
       "      <td>-0.011288</td>\n",
       "      <td>32.076813</td>\n",
       "      <td>0.069249</td>\n",
       "      <td>127.582461</td>\n",
       "      <td>-0.007770</td>\n",
       "      <td>316702.743756</td>\n",
       "      <td>0.068650</td>\n",
       "      <td>...</td>\n",
       "      <td>12.272461</td>\n",
       "      <td>-0.297261</td>\n",
       "      <td>1732.524705</td>\n",
       "      <td>0.006440</td>\n",
       "      <td>0.989610</td>\n",
       "      <td>0.001766</td>\n",
       "      <td>169.675033</td>\n",
       "      <td>0.068387</td>\n",
       "      <td>1433.380442</td>\n",
       "      <td>299045.004648</td>\n",
       "    </tr>\n",
       "    <tr>\n",
       "      <th>75%</th>\n",
       "      <td>237.769617</td>\n",
       "      <td>0.111253</td>\n",
       "      <td>238.005492</td>\n",
       "      <td>0.104181</td>\n",
       "      <td>66.831753</td>\n",
       "      <td>0.412722</td>\n",
       "      <td>202.562952</td>\n",
       "      <td>0.115053</td>\n",
       "      <td>425760.055916</td>\n",
       "      <td>0.118067</td>\n",
       "      <td>...</td>\n",
       "      <td>16.750018</td>\n",
       "      <td>1.906682</td>\n",
       "      <td>1875.542798</td>\n",
       "      <td>0.039469</td>\n",
       "      <td>1.001578</td>\n",
       "      <td>0.008937</td>\n",
       "      <td>230.560699</td>\n",
       "      <td>0.116866</td>\n",
       "      <td>1757.839478</td>\n",
       "      <td>404140.550752</td>\n",
       "    </tr>\n",
       "    <tr>\n",
       "      <th>max</th>\n",
       "      <td>1938.274806</td>\n",
       "      <td>7.306175</td>\n",
       "      <td>2068.905801</td>\n",
       "      <td>13.941223</td>\n",
       "      <td>900.482199</td>\n",
       "      <td>55.000000</td>\n",
       "      <td>2069.351800</td>\n",
       "      <td>3.762365</td>\n",
       "      <td>997500.000000</td>\n",
       "      <td>1.118367</td>\n",
       "      <td>...</td>\n",
       "      <td>117.757692</td>\n",
       "      <td>94.271909</td>\n",
       "      <td>2879.872908</td>\n",
       "      <td>1.105556</td>\n",
       "      <td>1.090251</td>\n",
       "      <td>0.088707</td>\n",
       "      <td>829.763339</td>\n",
       "      <td>1.262682</td>\n",
       "      <td>2910.561059</td>\n",
       "      <td>923341.979821</td>\n",
       "    </tr>\n",
       "  </tbody>\n",
       "</table>\n",
       "<p>8 rows × 34 columns</p>\n",
       "</div>"
      ],
      "text/plain": [
       "       adjusted_average_new_listings  adjusted_average_new_listings_yoy  \\\n",
       "count                   18456.000000                       18456.000000   \n",
       "mean                      224.822185                           0.020352   \n",
       "std                       268.399737                           0.252885   \n",
       "min                         4.000000                          -0.846920   \n",
       "25%                        78.000000                          -0.109911   \n",
       "50%                       147.000227                           0.005099   \n",
       "75%                       237.769617                           0.111253   \n",
       "max                      1938.274806                           7.306175   \n",
       "\n",
       "       average_pending_sales_listing_updates  \\\n",
       "count                           18456.000000   \n",
       "mean                              228.979772   \n",
       "std                               277.258932   \n",
       "min                                 6.000000   \n",
       "25%                                82.000000   \n",
       "50%                               152.890582   \n",
       "75%                               238.005492   \n",
       "max                              2068.905801   \n",
       "\n",
       "       average_pending_sales_listing_updates_yoy  off_market_in_two_weeks  \\\n",
       "count                               18456.000000             18456.000000   \n",
       "mean                                    0.016517                57.717817   \n",
       "std                                     0.293648                75.809862   \n",
       "min                                    -0.911950                 0.000000   \n",
       "25%                                    -0.119166                15.700872   \n",
       "50%                                    -0.011288                32.076813   \n",
       "75%                                     0.104181                66.831753   \n",
       "max                                    13.941223               900.482199   \n",
       "\n",
       "       off_market_in_two_weeks_yoy  adjusted_average_homes_sold  \\\n",
       "count                 18456.000000                 18456.000000   \n",
       "mean                      0.265805                   190.655146   \n",
       "std                       1.074286                   226.218136   \n",
       "min                      -1.000000                     5.871287   \n",
       "25%                      -0.165918                    70.003369   \n",
       "50%                       0.069249                   127.582461   \n",
       "75%                       0.412722                   202.562952   \n",
       "max                      55.000000                  2069.351800   \n",
       "\n",
       "       adjusted_average_homes_sold_yoy  median_new_listing_price  \\\n",
       "count                     18456.000000              18456.000000   \n",
       "mean                          0.017660             356879.316094   \n",
       "std                           0.258654             145058.128008   \n",
       "min                          -0.840433              73450.000000   \n",
       "25%                          -0.130728             255538.988678   \n",
       "50%                          -0.007770             316702.743756   \n",
       "75%                           0.115053             425760.055916   \n",
       "max                           3.762365             997500.000000   \n",
       "\n",
       "       median_new_listing_price_yoy  ...  months_of_supply  \\\n",
       "count                  18456.000000  ...      18456.000000   \n",
       "mean                       0.077466  ...         13.636546   \n",
       "std                        0.088239  ...          6.712299   \n",
       "min                       -0.680511  ...          2.360043   \n",
       "25%                        0.028102  ...          8.962673   \n",
       "50%                        0.068650  ...         12.272461   \n",
       "75%                        0.118067  ...         16.750018   \n",
       "max                        1.118367  ...        117.757692   \n",
       "\n",
       "       months_of_supply_yoy  median_pending_sqft  median_pending_sqft_yoy  \\\n",
       "count          18456.000000         18456.000000             18456.000000   \n",
       "mean              -0.454951          1740.661655                 0.010256   \n",
       "std                5.333714           239.320561                 0.071756   \n",
       "min              -92.758503           814.000000                -0.387527   \n",
       "25%               -2.758122          1595.991905                -0.024072   \n",
       "50%               -0.297261          1732.524705                 0.006440   \n",
       "75%                1.906682          1875.542798                 0.039469   \n",
       "max               94.271909          2879.872908                 1.105556   \n",
       "\n",
       "       average_sale_to_list_ratio  average_sale_to_list_ratio_yoy  \\\n",
       "count                18456.000000                    18456.000000   \n",
       "mean                     0.991642                        0.001699   \n",
       "std                      0.018139                        0.014420   \n",
       "min                      0.900450                       -0.089645   \n",
       "25%                      0.979629                       -0.004696   \n",
       "50%                      0.989610                        0.001766   \n",
       "75%                      1.001578                        0.008937   \n",
       "max                      1.090251                        0.088707   \n",
       "\n",
       "       median_sale_ppsf  median_sale_ppsf_yoy          ZORI           ZHVI  \n",
       "count      18456.000000          18456.000000  18456.000000   18456.000000  \n",
       "mean         206.673428              0.078572   1515.914613  338363.084043  \n",
       "std          117.353164              0.077867    419.397500  147694.948987  \n",
       "min           55.159332             -0.468836    698.509937   84040.300712  \n",
       "25%          135.614105              0.031558   1212.348959  229266.392067  \n",
       "50%          169.675033              0.068387   1433.380442  299045.004648  \n",
       "75%          230.560699              0.116866   1757.839478  404140.550752  \n",
       "max          829.763339              1.262682   2910.561059  923341.979821  \n",
       "\n",
       "[8 rows x 34 columns]"
      ]
     },
     "execution_count": 6,
     "metadata": {},
     "output_type": "execute_result"
    }
   ],
   "source": [
    "# describe the data\n",
    "df.describe()"
   ]
  },
  {
   "cell_type": "markdown",
   "id": "7bbe7f4b2de11780",
   "metadata": {},
   "source": [
    "### Regional Filter"
   ]
  },
  {
   "cell_type": "code",
   "execution_count": 7,
   "id": "96182d8b97c0385b",
   "metadata": {
    "ExecuteTime": {
     "end_time": "2024-12-11T23:32:37.525143Z",
     "start_time": "2024-12-11T23:32:37.495047Z"
    }
   },
   "outputs": [
    {
     "data": {
      "text/html": [
       "<div>\n",
       "<style scoped>\n",
       "    .dataframe tbody tr th:only-of-type {\n",
       "        vertical-align: middle;\n",
       "    }\n",
       "\n",
       "    .dataframe tbody tr th {\n",
       "        vertical-align: top;\n",
       "    }\n",
       "\n",
       "    .dataframe thead th {\n",
       "        text-align: right;\n",
       "    }\n",
       "</style>\n",
       "<table border=\"1\" class=\"dataframe\">\n",
       "  <thead>\n",
       "    <tr style=\"text-align: right;\">\n",
       "      <th></th>\n",
       "      <th>date</th>\n",
       "      <th>State</th>\n",
       "      <th>adjusted_average_new_listings</th>\n",
       "      <th>adjusted_average_new_listings_yoy</th>\n",
       "      <th>average_pending_sales_listing_updates</th>\n",
       "      <th>average_pending_sales_listing_updates_yoy</th>\n",
       "      <th>off_market_in_two_weeks</th>\n",
       "      <th>off_market_in_two_weeks_yoy</th>\n",
       "      <th>adjusted_average_homes_sold</th>\n",
       "      <th>adjusted_average_homes_sold_yoy</th>\n",
       "      <th>...</th>\n",
       "      <th>months_of_supply</th>\n",
       "      <th>months_of_supply_yoy</th>\n",
       "      <th>median_pending_sqft</th>\n",
       "      <th>median_pending_sqft_yoy</th>\n",
       "      <th>average_sale_to_list_ratio</th>\n",
       "      <th>average_sale_to_list_ratio_yoy</th>\n",
       "      <th>median_sale_ppsf</th>\n",
       "      <th>median_sale_ppsf_yoy</th>\n",
       "      <th>ZORI</th>\n",
       "      <th>ZHVI</th>\n",
       "    </tr>\n",
       "  </thead>\n",
       "  <tbody>\n",
       "    <tr>\n",
       "      <th>24</th>\n",
       "      <td>2016-12-30</td>\n",
       "      <td>NY</td>\n",
       "      <td>151.742276</td>\n",
       "      <td>-0.169707</td>\n",
       "      <td>92.002294</td>\n",
       "      <td>-0.282131</td>\n",
       "      <td>3.498929</td>\n",
       "      <td>0.101171</td>\n",
       "      <td>96.855613</td>\n",
       "      <td>-0.176365</td>\n",
       "      <td>...</td>\n",
       "      <td>33.720803</td>\n",
       "      <td>2.649503</td>\n",
       "      <td>1349.549098</td>\n",
       "      <td>-0.060022</td>\n",
       "      <td>0.969925</td>\n",
       "      <td>0.004392</td>\n",
       "      <td>328.973719</td>\n",
       "      <td>0.029551</td>\n",
       "      <td>1895.798229</td>\n",
       "      <td>456494.835558</td>\n",
       "    </tr>\n",
       "    <tr>\n",
       "      <th>36</th>\n",
       "      <td>2016-12-30</td>\n",
       "      <td>WA</td>\n",
       "      <td>204.418965</td>\n",
       "      <td>-0.207611</td>\n",
       "      <td>212.651097</td>\n",
       "      <td>-0.244751</td>\n",
       "      <td>59.000302</td>\n",
       "      <td>-0.007422</td>\n",
       "      <td>178.338031</td>\n",
       "      <td>-0.062777</td>\n",
       "      <td>...</td>\n",
       "      <td>12.728302</td>\n",
       "      <td>-0.133441</td>\n",
       "      <td>1764.748440</td>\n",
       "      <td>0.005044</td>\n",
       "      <td>1.000935</td>\n",
       "      <td>0.008768</td>\n",
       "      <td>198.389570</td>\n",
       "      <td>0.128863</td>\n",
       "      <td>1353.784035</td>\n",
       "      <td>349653.898163</td>\n",
       "    </tr>\n",
       "    <tr>\n",
       "      <th>3</th>\n",
       "      <td>2016-12-30</td>\n",
       "      <td>CA</td>\n",
       "      <td>612.258489</td>\n",
       "      <td>-0.166035</td>\n",
       "      <td>494.876903</td>\n",
       "      <td>-0.161775</td>\n",
       "      <td>51.993744</td>\n",
       "      <td>-0.202137</td>\n",
       "      <td>449.127889</td>\n",
       "      <td>-0.100053</td>\n",
       "      <td>...</td>\n",
       "      <td>16.392470</td>\n",
       "      <td>1.228898</td>\n",
       "      <td>1565.083335</td>\n",
       "      <td>0.005876</td>\n",
       "      <td>0.987203</td>\n",
       "      <td>0.000618</td>\n",
       "      <td>281.519117</td>\n",
       "      <td>0.052298</td>\n",
       "      <td>1733.103784</td>\n",
       "      <td>424866.748029</td>\n",
       "    </tr>\n",
       "    <tr>\n",
       "      <th>4</th>\n",
       "      <td>2016-12-30</td>\n",
       "      <td>CO</td>\n",
       "      <td>116.748688</td>\n",
       "      <td>-0.142112</td>\n",
       "      <td>113.713386</td>\n",
       "      <td>-0.122118</td>\n",
       "      <td>28.049738</td>\n",
       "      <td>0.623202</td>\n",
       "      <td>90.909974</td>\n",
       "      <td>-0.055629</td>\n",
       "      <td>...</td>\n",
       "      <td>15.428519</td>\n",
       "      <td>-1.889838</td>\n",
       "      <td>2021.811483</td>\n",
       "      <td>0.068551</td>\n",
       "      <td>0.989235</td>\n",
       "      <td>-0.001155</td>\n",
       "      <td>162.279162</td>\n",
       "      <td>0.084925</td>\n",
       "      <td>1356.071288</td>\n",
       "      <td>337328.649093</td>\n",
       "    </tr>\n",
       "    <tr>\n",
       "      <th>5</th>\n",
       "      <td>2016-12-30</td>\n",
       "      <td>DC</td>\n",
       "      <td>171.000000</td>\n",
       "      <td>-0.044693</td>\n",
       "      <td>126.000000</td>\n",
       "      <td>-0.059701</td>\n",
       "      <td>19.000000</td>\n",
       "      <td>-0.472222</td>\n",
       "      <td>124.000000</td>\n",
       "      <td>-0.107914</td>\n",
       "      <td>...</td>\n",
       "      <td>11.588710</td>\n",
       "      <td>1.394465</td>\n",
       "      <td>1086.000000</td>\n",
       "      <td>-0.174144</td>\n",
       "      <td>1.003606</td>\n",
       "      <td>0.021006</td>\n",
       "      <td>464.101620</td>\n",
       "      <td>0.169856</td>\n",
       "      <td>2035.593059</td>\n",
       "      <td>513690.678929</td>\n",
       "    </tr>\n",
       "    <tr>\n",
       "      <th>...</th>\n",
       "      <td>...</td>\n",
       "      <td>...</td>\n",
       "      <td>...</td>\n",
       "      <td>...</td>\n",
       "      <td>...</td>\n",
       "      <td>...</td>\n",
       "      <td>...</td>\n",
       "      <td>...</td>\n",
       "      <td>...</td>\n",
       "      <td>...</td>\n",
       "      <td>...</td>\n",
       "      <td>...</td>\n",
       "      <td>...</td>\n",
       "      <td>...</td>\n",
       "      <td>...</td>\n",
       "      <td>...</td>\n",
       "      <td>...</td>\n",
       "      <td>...</td>\n",
       "      <td>...</td>\n",
       "      <td>...</td>\n",
       "      <td>...</td>\n",
       "    </tr>\n",
       "    <tr>\n",
       "      <th>18452</th>\n",
       "      <td>2024-11-01</td>\n",
       "      <td>WA</td>\n",
       "      <td>156.067062</td>\n",
       "      <td>0.103779</td>\n",
       "      <td>206.177883</td>\n",
       "      <td>0.143892</td>\n",
       "      <td>65.596130</td>\n",
       "      <td>0.229365</td>\n",
       "      <td>202.261453</td>\n",
       "      <td>0.301700</td>\n",
       "      <td>...</td>\n",
       "      <td>13.174977</td>\n",
       "      <td>-0.520094</td>\n",
       "      <td>1828.096801</td>\n",
       "      <td>0.041181</td>\n",
       "      <td>0.992876</td>\n",
       "      <td>0.003316</td>\n",
       "      <td>376.619631</td>\n",
       "      <td>0.054799</td>\n",
       "      <td>1974.242008</td>\n",
       "      <td>625140.177926</td>\n",
       "    </tr>\n",
       "    <tr>\n",
       "      <th>18410</th>\n",
       "      <td>2024-11-01</td>\n",
       "      <td>CA</td>\n",
       "      <td>485.363465</td>\n",
       "      <td>-0.014643</td>\n",
       "      <td>438.143763</td>\n",
       "      <td>0.051820</td>\n",
       "      <td>78.583198</td>\n",
       "      <td>-0.061486</td>\n",
       "      <td>409.294958</td>\n",
       "      <td>0.375200</td>\n",
       "      <td>...</td>\n",
       "      <td>15.506285</td>\n",
       "      <td>-1.907167</td>\n",
       "      <td>1629.691293</td>\n",
       "      <td>0.019704</td>\n",
       "      <td>0.996406</td>\n",
       "      <td>-0.003339</td>\n",
       "      <td>476.271513</td>\n",
       "      <td>0.031950</td>\n",
       "      <td>2647.937095</td>\n",
       "      <td>753402.067886</td>\n",
       "    </tr>\n",
       "    <tr>\n",
       "      <th>18411</th>\n",
       "      <td>2024-11-01</td>\n",
       "      <td>CO</td>\n",
       "      <td>95.583021</td>\n",
       "      <td>-0.122014</td>\n",
       "      <td>129.962599</td>\n",
       "      <td>0.141787</td>\n",
       "      <td>16.703387</td>\n",
       "      <td>0.070053</td>\n",
       "      <td>108.415986</td>\n",
       "      <td>0.368317</td>\n",
       "      <td>...</td>\n",
       "      <td>18.808834</td>\n",
       "      <td>-1.775119</td>\n",
       "      <td>2079.424344</td>\n",
       "      <td>0.108283</td>\n",
       "      <td>0.980707</td>\n",
       "      <td>0.001308</td>\n",
       "      <td>332.639221</td>\n",
       "      <td>0.053223</td>\n",
       "      <td>2288.342408</td>\n",
       "      <td>590639.295058</td>\n",
       "    </tr>\n",
       "    <tr>\n",
       "      <th>18413</th>\n",
       "      <td>2024-11-01</td>\n",
       "      <td>DC</td>\n",
       "      <td>188.000000</td>\n",
       "      <td>0.392593</td>\n",
       "      <td>170.000000</td>\n",
       "      <td>0.205674</td>\n",
       "      <td>11.000000</td>\n",
       "      <td>-0.576923</td>\n",
       "      <td>114.000000</td>\n",
       "      <td>0.187500</td>\n",
       "      <td>...</td>\n",
       "      <td>26.640351</td>\n",
       "      <td>0.348684</td>\n",
       "      <td>1371.500000</td>\n",
       "      <td>-0.085667</td>\n",
       "      <td>0.987483</td>\n",
       "      <td>-0.002573</td>\n",
       "      <td>489.004385</td>\n",
       "      <td>-0.043402</td>\n",
       "      <td>2520.749001</td>\n",
       "      <td>602763.948227</td>\n",
       "    </tr>\n",
       "    <tr>\n",
       "      <th>18425</th>\n",
       "      <td>2024-11-01</td>\n",
       "      <td>MA</td>\n",
       "      <td>97.090933</td>\n",
       "      <td>-0.041412</td>\n",
       "      <td>108.639851</td>\n",
       "      <td>0.122470</td>\n",
       "      <td>22.133546</td>\n",
       "      <td>0.093218</td>\n",
       "      <td>94.045135</td>\n",
       "      <td>0.329857</td>\n",
       "      <td>...</td>\n",
       "      <td>12.019740</td>\n",
       "      <td>-2.424043</td>\n",
       "      <td>1628.974114</td>\n",
       "      <td>0.013848</td>\n",
       "      <td>1.001044</td>\n",
       "      <td>-0.003737</td>\n",
       "      <td>407.260117</td>\n",
       "      <td>0.051139</td>\n",
       "      <td>2594.192374</td>\n",
       "      <td>625927.096790</td>\n",
       "    </tr>\n",
       "  </tbody>\n",
       "</table>\n",
       "<p>2460 rows × 36 columns</p>\n",
       "</div>"
      ],
      "text/plain": [
       "             date State  adjusted_average_new_listings  \\\n",
       "24     2016-12-30    NY                     151.742276   \n",
       "36     2016-12-30    WA                     204.418965   \n",
       "3      2016-12-30    CA                     612.258489   \n",
       "4      2016-12-30    CO                     116.748688   \n",
       "5      2016-12-30    DC                     171.000000   \n",
       "...           ...   ...                            ...   \n",
       "18452  2024-11-01    WA                     156.067062   \n",
       "18410  2024-11-01    CA                     485.363465   \n",
       "18411  2024-11-01    CO                      95.583021   \n",
       "18413  2024-11-01    DC                     188.000000   \n",
       "18425  2024-11-01    MA                      97.090933   \n",
       "\n",
       "       adjusted_average_new_listings_yoy  \\\n",
       "24                             -0.169707   \n",
       "36                             -0.207611   \n",
       "3                              -0.166035   \n",
       "4                              -0.142112   \n",
       "5                              -0.044693   \n",
       "...                                  ...   \n",
       "18452                           0.103779   \n",
       "18410                          -0.014643   \n",
       "18411                          -0.122014   \n",
       "18413                           0.392593   \n",
       "18425                          -0.041412   \n",
       "\n",
       "       average_pending_sales_listing_updates  \\\n",
       "24                                 92.002294   \n",
       "36                                212.651097   \n",
       "3                                 494.876903   \n",
       "4                                 113.713386   \n",
       "5                                 126.000000   \n",
       "...                                      ...   \n",
       "18452                             206.177883   \n",
       "18410                             438.143763   \n",
       "18411                             129.962599   \n",
       "18413                             170.000000   \n",
       "18425                             108.639851   \n",
       "\n",
       "       average_pending_sales_listing_updates_yoy  off_market_in_two_weeks  \\\n",
       "24                                     -0.282131                 3.498929   \n",
       "36                                     -0.244751                59.000302   \n",
       "3                                      -0.161775                51.993744   \n",
       "4                                      -0.122118                28.049738   \n",
       "5                                      -0.059701                19.000000   \n",
       "...                                          ...                      ...   \n",
       "18452                                   0.143892                65.596130   \n",
       "18410                                   0.051820                78.583198   \n",
       "18411                                   0.141787                16.703387   \n",
       "18413                                   0.205674                11.000000   \n",
       "18425                                   0.122470                22.133546   \n",
       "\n",
       "       off_market_in_two_weeks_yoy  adjusted_average_homes_sold  \\\n",
       "24                        0.101171                    96.855613   \n",
       "36                       -0.007422                   178.338031   \n",
       "3                        -0.202137                   449.127889   \n",
       "4                         0.623202                    90.909974   \n",
       "5                        -0.472222                   124.000000   \n",
       "...                            ...                          ...   \n",
       "18452                     0.229365                   202.261453   \n",
       "18410                    -0.061486                   409.294958   \n",
       "18411                     0.070053                   108.415986   \n",
       "18413                    -0.576923                   114.000000   \n",
       "18425                     0.093218                    94.045135   \n",
       "\n",
       "       adjusted_average_homes_sold_yoy  ...  months_of_supply  \\\n",
       "24                           -0.176365  ...         33.720803   \n",
       "36                           -0.062777  ...         12.728302   \n",
       "3                            -0.100053  ...         16.392470   \n",
       "4                            -0.055629  ...         15.428519   \n",
       "5                            -0.107914  ...         11.588710   \n",
       "...                                ...  ...               ...   \n",
       "18452                         0.301700  ...         13.174977   \n",
       "18410                         0.375200  ...         15.506285   \n",
       "18411                         0.368317  ...         18.808834   \n",
       "18413                         0.187500  ...         26.640351   \n",
       "18425                         0.329857  ...         12.019740   \n",
       "\n",
       "       months_of_supply_yoy  median_pending_sqft  median_pending_sqft_yoy  \\\n",
       "24                 2.649503          1349.549098                -0.060022   \n",
       "36                -0.133441          1764.748440                 0.005044   \n",
       "3                  1.228898          1565.083335                 0.005876   \n",
       "4                 -1.889838          2021.811483                 0.068551   \n",
       "5                  1.394465          1086.000000                -0.174144   \n",
       "...                     ...                  ...                      ...   \n",
       "18452             -0.520094          1828.096801                 0.041181   \n",
       "18410             -1.907167          1629.691293                 0.019704   \n",
       "18411             -1.775119          2079.424344                 0.108283   \n",
       "18413              0.348684          1371.500000                -0.085667   \n",
       "18425             -2.424043          1628.974114                 0.013848   \n",
       "\n",
       "       average_sale_to_list_ratio  average_sale_to_list_ratio_yoy  \\\n",
       "24                       0.969925                        0.004392   \n",
       "36                       1.000935                        0.008768   \n",
       "3                        0.987203                        0.000618   \n",
       "4                        0.989235                       -0.001155   \n",
       "5                        1.003606                        0.021006   \n",
       "...                           ...                             ...   \n",
       "18452                    0.992876                        0.003316   \n",
       "18410                    0.996406                       -0.003339   \n",
       "18411                    0.980707                        0.001308   \n",
       "18413                    0.987483                       -0.002573   \n",
       "18425                    1.001044                       -0.003737   \n",
       "\n",
       "       median_sale_ppsf  median_sale_ppsf_yoy         ZORI           ZHVI  \n",
       "24           328.973719              0.029551  1895.798229  456494.835558  \n",
       "36           198.389570              0.128863  1353.784035  349653.898163  \n",
       "3            281.519117              0.052298  1733.103784  424866.748029  \n",
       "4            162.279162              0.084925  1356.071288  337328.649093  \n",
       "5            464.101620              0.169856  2035.593059  513690.678929  \n",
       "...                 ...                   ...          ...            ...  \n",
       "18452        376.619631              0.054799  1974.242008  625140.177926  \n",
       "18410        476.271513              0.031950  2647.937095  753402.067886  \n",
       "18411        332.639221              0.053223  2288.342408  590639.295058  \n",
       "18413        489.004385             -0.043402  2520.749001  602763.948227  \n",
       "18425        407.260117              0.051139  2594.192374  625927.096790  \n",
       "\n",
       "[2460 rows x 36 columns]"
      ]
     },
     "execution_count": 7,
     "metadata": {},
     "output_type": "execute_result"
    }
   ],
   "source": [
    "# include only rows where state is within California, Colorado, Connecticut, DC, Florida, Maryland, Mass, New Jersey, New York, North Carolina, Texas, Virginia, Washington\n",
    "df = df[(df['State'] == 'CA') | (df['State'] == 'CO') | (df['State'] == 'DC') | (df['State'] == 'MA') | (\n",
    "        df['State'] == 'NY') | (df['State'] == 'WA')]\n",
    "df"
   ]
  },
  {
   "cell_type": "markdown",
   "id": "21b85cc11512b5b9",
   "metadata": {},
   "source": [
    "### Aggregate Rows by Date"
   ]
  },
  {
   "cell_type": "code",
   "execution_count": 8,
   "id": "24b50b493cd75668",
   "metadata": {
    "ExecuteTime": {
     "end_time": "2024-12-11T23:32:39.526323Z",
     "start_time": "2024-12-11T23:32:37.641171Z"
    }
   },
   "outputs": [
    {
     "data": {
      "text/html": [
       "<div>\n",
       "<style scoped>\n",
       "    .dataframe tbody tr th:only-of-type {\n",
       "        vertical-align: middle;\n",
       "    }\n",
       "\n",
       "    .dataframe tbody tr th {\n",
       "        vertical-align: top;\n",
       "    }\n",
       "\n",
       "    .dataframe thead th {\n",
       "        text-align: right;\n",
       "    }\n",
       "</style>\n",
       "<table border=\"1\" class=\"dataframe\">\n",
       "  <thead>\n",
       "    <tr style=\"text-align: right;\">\n",
       "      <th></th>\n",
       "      <th>date</th>\n",
       "      <th>adjusted_average_new_listings</th>\n",
       "      <th>adjusted_average_new_listings_yoy</th>\n",
       "      <th>average_pending_sales_listing_updates</th>\n",
       "      <th>average_pending_sales_listing_updates_yoy</th>\n",
       "      <th>off_market_in_two_weeks</th>\n",
       "      <th>off_market_in_two_weeks_yoy</th>\n",
       "      <th>adjusted_average_homes_sold</th>\n",
       "      <th>adjusted_average_homes_sold_yoy</th>\n",
       "      <th>median_new_listing_price</th>\n",
       "      <th>...</th>\n",
       "      <th>months_of_supply</th>\n",
       "      <th>months_of_supply_yoy</th>\n",
       "      <th>median_pending_sqft</th>\n",
       "      <th>median_pending_sqft_yoy</th>\n",
       "      <th>average_sale_to_list_ratio</th>\n",
       "      <th>average_sale_to_list_ratio_yoy</th>\n",
       "      <th>median_sale_ppsf</th>\n",
       "      <th>median_sale_ppsf_yoy</th>\n",
       "      <th>ZORI</th>\n",
       "      <th>ZHVI</th>\n",
       "    </tr>\n",
       "  </thead>\n",
       "  <tbody>\n",
       "    <tr>\n",
       "      <th>0</th>\n",
       "      <td>2016-12-30</td>\n",
       "      <td>426.750393</td>\n",
       "      <td>-0.162737</td>\n",
       "      <td>346.635046</td>\n",
       "      <td>-0.186138</td>\n",
       "      <td>41.217969</td>\n",
       "      <td>-0.058406</td>\n",
       "      <td>314.001316</td>\n",
       "      <td>-0.104653</td>\n",
       "      <td>437912.411911</td>\n",
       "      <td>...</td>\n",
       "      <td>18.317896</td>\n",
       "      <td>0.836410</td>\n",
       "      <td>1583.289473</td>\n",
       "      <td>-0.001599</td>\n",
       "      <td>0.986028</td>\n",
       "      <td>0.002547</td>\n",
       "      <td>266.823204</td>\n",
       "      <td>0.062113</td>\n",
       "      <td>1676.681996</td>\n",
       "      <td>410095.137865</td>\n",
       "    </tr>\n",
       "    <tr>\n",
       "      <th>1</th>\n",
       "      <td>2017-01-06</td>\n",
       "      <td>514.622987</td>\n",
       "      <td>-0.056746</td>\n",
       "      <td>462.675962</td>\n",
       "      <td>-0.088444</td>\n",
       "      <td>90.222193</td>\n",
       "      <td>0.007176</td>\n",
       "      <td>382.031795</td>\n",
       "      <td>0.022868</td>\n",
       "      <td>438478.830942</td>\n",
       "      <td>...</td>\n",
       "      <td>14.346146</td>\n",
       "      <td>-1.572309</td>\n",
       "      <td>1576.387424</td>\n",
       "      <td>0.016473</td>\n",
       "      <td>0.985284</td>\n",
       "      <td>0.003240</td>\n",
       "      <td>271.763984</td>\n",
       "      <td>0.090351</td>\n",
       "      <td>1680.522541</td>\n",
       "      <td>414477.750108</td>\n",
       "    </tr>\n",
       "    <tr>\n",
       "      <th>2</th>\n",
       "      <td>2017-01-13</td>\n",
       "      <td>482.547548</td>\n",
       "      <td>-0.036794</td>\n",
       "      <td>488.751404</td>\n",
       "      <td>0.000238</td>\n",
       "      <td>114.627752</td>\n",
       "      <td>0.124496</td>\n",
       "      <td>330.004917</td>\n",
       "      <td>0.094829</td>\n",
       "      <td>444002.701797</td>\n",
       "      <td>...</td>\n",
       "      <td>16.989561</td>\n",
       "      <td>-2.865483</td>\n",
       "      <td>1593.976798</td>\n",
       "      <td>0.014398</td>\n",
       "      <td>0.984053</td>\n",
       "      <td>0.001278</td>\n",
       "      <td>266.223404</td>\n",
       "      <td>0.078999</td>\n",
       "      <td>1669.345386</td>\n",
       "      <td>411548.521474</td>\n",
       "    </tr>\n",
       "    <tr>\n",
       "      <th>3</th>\n",
       "      <td>2017-01-20</td>\n",
       "      <td>477.944547</td>\n",
       "      <td>-0.027232</td>\n",
       "      <td>497.221581</td>\n",
       "      <td>-0.088102</td>\n",
       "      <td>110.605881</td>\n",
       "      <td>0.168165</td>\n",
       "      <td>353.432620</td>\n",
       "      <td>-0.154790</td>\n",
       "      <td>459291.410393</td>\n",
       "      <td>...</td>\n",
       "      <td>16.208286</td>\n",
       "      <td>1.122910</td>\n",
       "      <td>1593.658058</td>\n",
       "      <td>0.016812</td>\n",
       "      <td>0.985843</td>\n",
       "      <td>0.003522</td>\n",
       "      <td>263.667077</td>\n",
       "      <td>0.088752</td>\n",
       "      <td>1695.821479</td>\n",
       "      <td>419692.558814</td>\n",
       "    </tr>\n",
       "    <tr>\n",
       "      <th>4</th>\n",
       "      <td>2017-01-27</td>\n",
       "      <td>551.138359</td>\n",
       "      <td>-0.012793</td>\n",
       "      <td>539.438213</td>\n",
       "      <td>0.008837</td>\n",
       "      <td>129.264554</td>\n",
       "      <td>0.208939</td>\n",
       "      <td>406.563286</td>\n",
       "      <td>0.393411</td>\n",
       "      <td>472513.516942</td>\n",
       "      <td>...</td>\n",
       "      <td>13.575256</td>\n",
       "      <td>-6.525796</td>\n",
       "      <td>1583.990313</td>\n",
       "      <td>-0.022375</td>\n",
       "      <td>0.985436</td>\n",
       "      <td>0.002497</td>\n",
       "      <td>272.160821</td>\n",
       "      <td>0.088665</td>\n",
       "      <td>1711.696305</td>\n",
       "      <td>427212.377375</td>\n",
       "    </tr>\n",
       "    <tr>\n",
       "      <th>...</th>\n",
       "      <td>...</td>\n",
       "      <td>...</td>\n",
       "      <td>...</td>\n",
       "      <td>...</td>\n",
       "      <td>...</td>\n",
       "      <td>...</td>\n",
       "      <td>...</td>\n",
       "      <td>...</td>\n",
       "      <td>...</td>\n",
       "      <td>...</td>\n",
       "      <td>...</td>\n",
       "      <td>...</td>\n",
       "      <td>...</td>\n",
       "      <td>...</td>\n",
       "      <td>...</td>\n",
       "      <td>...</td>\n",
       "      <td>...</td>\n",
       "      <td>...</td>\n",
       "      <td>...</td>\n",
       "      <td>...</td>\n",
       "      <td>...</td>\n",
       "    </tr>\n",
       "    <tr>\n",
       "      <th>405</th>\n",
       "      <td>2024-10-04</td>\n",
       "      <td>382.532630</td>\n",
       "      <td>0.105904</td>\n",
       "      <td>338.513449</td>\n",
       "      <td>0.205168</td>\n",
       "      <td>63.778033</td>\n",
       "      <td>0.999517</td>\n",
       "      <td>274.351958</td>\n",
       "      <td>0.187074</td>\n",
       "      <td>733017.766794</td>\n",
       "      <td>...</td>\n",
       "      <td>16.916471</td>\n",
       "      <td>0.332584</td>\n",
       "      <td>1685.464176</td>\n",
       "      <td>0.019456</td>\n",
       "      <td>0.996360</td>\n",
       "      <td>-0.003163</td>\n",
       "      <td>474.722632</td>\n",
       "      <td>0.049177</td>\n",
       "      <td>2556.382112</td>\n",
       "      <td>702853.064957</td>\n",
       "    </tr>\n",
       "    <tr>\n",
       "      <th>406</th>\n",
       "      <td>2024-10-11</td>\n",
       "      <td>368.212842</td>\n",
       "      <td>0.094253</td>\n",
       "      <td>325.634022</td>\n",
       "      <td>0.136880</td>\n",
       "      <td>64.379384</td>\n",
       "      <td>0.247223</td>\n",
       "      <td>259.874136</td>\n",
       "      <td>0.000060</td>\n",
       "      <td>737639.595902</td>\n",
       "      <td>...</td>\n",
       "      <td>18.063496</td>\n",
       "      <td>3.357058</td>\n",
       "      <td>1672.086162</td>\n",
       "      <td>0.019034</td>\n",
       "      <td>0.997074</td>\n",
       "      <td>-0.002523</td>\n",
       "      <td>461.427606</td>\n",
       "      <td>0.028697</td>\n",
       "      <td>2556.457078</td>\n",
       "      <td>702011.579112</td>\n",
       "    </tr>\n",
       "    <tr>\n",
       "      <th>407</th>\n",
       "      <td>2024-10-18</td>\n",
       "      <td>342.271209</td>\n",
       "      <td>0.092552</td>\n",
       "      <td>322.501253</td>\n",
       "      <td>0.147292</td>\n",
       "      <td>62.246501</td>\n",
       "      <td>0.146192</td>\n",
       "      <td>294.862937</td>\n",
       "      <td>0.112067</td>\n",
       "      <td>735964.727595</td>\n",
       "      <td>...</td>\n",
       "      <td>15.960001</td>\n",
       "      <td>1.175175</td>\n",
       "      <td>1678.840153</td>\n",
       "      <td>0.035062</td>\n",
       "      <td>0.995863</td>\n",
       "      <td>-0.001722</td>\n",
       "      <td>464.590138</td>\n",
       "      <td>0.029733</td>\n",
       "      <td>2560.228953</td>\n",
       "      <td>704960.654387</td>\n",
       "    </tr>\n",
       "    <tr>\n",
       "      <th>408</th>\n",
       "      <td>2024-10-25</td>\n",
       "      <td>306.243546</td>\n",
       "      <td>-0.008846</td>\n",
       "      <td>314.265931</td>\n",
       "      <td>0.138411</td>\n",
       "      <td>62.780487</td>\n",
       "      <td>0.087798</td>\n",
       "      <td>317.518368</td>\n",
       "      <td>0.159057</td>\n",
       "      <td>723690.734183</td>\n",
       "      <td>...</td>\n",
       "      <td>14.188741</td>\n",
       "      <td>0.345061</td>\n",
       "      <td>1680.644697</td>\n",
       "      <td>0.019092</td>\n",
       "      <td>0.994800</td>\n",
       "      <td>-0.001199</td>\n",
       "      <td>460.858122</td>\n",
       "      <td>0.030300</td>\n",
       "      <td>2530.508370</td>\n",
       "      <td>697751.217738</td>\n",
       "    </tr>\n",
       "    <tr>\n",
       "      <th>409</th>\n",
       "      <td>2024-11-01</td>\n",
       "      <td>320.256063</td>\n",
       "      <td>0.005539</td>\n",
       "      <td>300.949964</td>\n",
       "      <td>0.094603</td>\n",
       "      <td>54.487073</td>\n",
       "      <td>0.041079</td>\n",
       "      <td>276.311411</td>\n",
       "      <td>0.321346</td>\n",
       "      <td>727187.799963</td>\n",
       "      <td>...</td>\n",
       "      <td>16.799520</td>\n",
       "      <td>-1.690540</td>\n",
       "      <td>1673.686817</td>\n",
       "      <td>0.034984</td>\n",
       "      <td>0.993122</td>\n",
       "      <td>-0.001377</td>\n",
       "      <td>470.407911</td>\n",
       "      <td>0.042791</td>\n",
       "      <td>2553.161440</td>\n",
       "      <td>700046.910820</td>\n",
       "    </tr>\n",
       "  </tbody>\n",
       "</table>\n",
       "<p>410 rows × 35 columns</p>\n",
       "</div>"
      ],
      "text/plain": [
       "           date  adjusted_average_new_listings  \\\n",
       "0    2016-12-30                     426.750393   \n",
       "1    2017-01-06                     514.622987   \n",
       "2    2017-01-13                     482.547548   \n",
       "3    2017-01-20                     477.944547   \n",
       "4    2017-01-27                     551.138359   \n",
       "..          ...                            ...   \n",
       "405  2024-10-04                     382.532630   \n",
       "406  2024-10-11                     368.212842   \n",
       "407  2024-10-18                     342.271209   \n",
       "408  2024-10-25                     306.243546   \n",
       "409  2024-11-01                     320.256063   \n",
       "\n",
       "     adjusted_average_new_listings_yoy  average_pending_sales_listing_updates  \\\n",
       "0                            -0.162737                             346.635046   \n",
       "1                            -0.056746                             462.675962   \n",
       "2                            -0.036794                             488.751404   \n",
       "3                            -0.027232                             497.221581   \n",
       "4                            -0.012793                             539.438213   \n",
       "..                                 ...                                    ...   \n",
       "405                           0.105904                             338.513449   \n",
       "406                           0.094253                             325.634022   \n",
       "407                           0.092552                             322.501253   \n",
       "408                          -0.008846                             314.265931   \n",
       "409                           0.005539                             300.949964   \n",
       "\n",
       "     average_pending_sales_listing_updates_yoy  off_market_in_two_weeks  \\\n",
       "0                                    -0.186138                41.217969   \n",
       "1                                    -0.088444                90.222193   \n",
       "2                                     0.000238               114.627752   \n",
       "3                                    -0.088102               110.605881   \n",
       "4                                     0.008837               129.264554   \n",
       "..                                         ...                      ...   \n",
       "405                                   0.205168                63.778033   \n",
       "406                                   0.136880                64.379384   \n",
       "407                                   0.147292                62.246501   \n",
       "408                                   0.138411                62.780487   \n",
       "409                                   0.094603                54.487073   \n",
       "\n",
       "     off_market_in_two_weeks_yoy  adjusted_average_homes_sold  \\\n",
       "0                      -0.058406                   314.001316   \n",
       "1                       0.007176                   382.031795   \n",
       "2                       0.124496                   330.004917   \n",
       "3                       0.168165                   353.432620   \n",
       "4                       0.208939                   406.563286   \n",
       "..                           ...                          ...   \n",
       "405                     0.999517                   274.351958   \n",
       "406                     0.247223                   259.874136   \n",
       "407                     0.146192                   294.862937   \n",
       "408                     0.087798                   317.518368   \n",
       "409                     0.041079                   276.311411   \n",
       "\n",
       "     adjusted_average_homes_sold_yoy  median_new_listing_price  ...  \\\n",
       "0                          -0.104653             437912.411911  ...   \n",
       "1                           0.022868             438478.830942  ...   \n",
       "2                           0.094829             444002.701797  ...   \n",
       "3                          -0.154790             459291.410393  ...   \n",
       "4                           0.393411             472513.516942  ...   \n",
       "..                               ...                       ...  ...   \n",
       "405                         0.187074             733017.766794  ...   \n",
       "406                         0.000060             737639.595902  ...   \n",
       "407                         0.112067             735964.727595  ...   \n",
       "408                         0.159057             723690.734183  ...   \n",
       "409                         0.321346             727187.799963  ...   \n",
       "\n",
       "     months_of_supply  months_of_supply_yoy  median_pending_sqft  \\\n",
       "0           18.317896              0.836410          1583.289473   \n",
       "1           14.346146             -1.572309          1576.387424   \n",
       "2           16.989561             -2.865483          1593.976798   \n",
       "3           16.208286              1.122910          1593.658058   \n",
       "4           13.575256             -6.525796          1583.990313   \n",
       "..                ...                   ...                  ...   \n",
       "405         16.916471              0.332584          1685.464176   \n",
       "406         18.063496              3.357058          1672.086162   \n",
       "407         15.960001              1.175175          1678.840153   \n",
       "408         14.188741              0.345061          1680.644697   \n",
       "409         16.799520             -1.690540          1673.686817   \n",
       "\n",
       "     median_pending_sqft_yoy  average_sale_to_list_ratio  \\\n",
       "0                  -0.001599                    0.986028   \n",
       "1                   0.016473                    0.985284   \n",
       "2                   0.014398                    0.984053   \n",
       "3                   0.016812                    0.985843   \n",
       "4                  -0.022375                    0.985436   \n",
       "..                       ...                         ...   \n",
       "405                 0.019456                    0.996360   \n",
       "406                 0.019034                    0.997074   \n",
       "407                 0.035062                    0.995863   \n",
       "408                 0.019092                    0.994800   \n",
       "409                 0.034984                    0.993122   \n",
       "\n",
       "     average_sale_to_list_ratio_yoy  median_sale_ppsf  median_sale_ppsf_yoy  \\\n",
       "0                          0.002547        266.823204              0.062113   \n",
       "1                          0.003240        271.763984              0.090351   \n",
       "2                          0.001278        266.223404              0.078999   \n",
       "3                          0.003522        263.667077              0.088752   \n",
       "4                          0.002497        272.160821              0.088665   \n",
       "..                              ...               ...                   ...   \n",
       "405                       -0.003163        474.722632              0.049177   \n",
       "406                       -0.002523        461.427606              0.028697   \n",
       "407                       -0.001722        464.590138              0.029733   \n",
       "408                       -0.001199        460.858122              0.030300   \n",
       "409                       -0.001377        470.407911              0.042791   \n",
       "\n",
       "            ZORI           ZHVI  \n",
       "0    1676.681996  410095.137865  \n",
       "1    1680.522541  414477.750108  \n",
       "2    1669.345386  411548.521474  \n",
       "3    1695.821479  419692.558814  \n",
       "4    1711.696305  427212.377375  \n",
       "..           ...            ...  \n",
       "405  2556.382112  702853.064957  \n",
       "406  2556.457078  702011.579112  \n",
       "407  2560.228953  704960.654387  \n",
       "408  2530.508370  697751.217738  \n",
       "409  2553.161440  700046.910820  \n",
       "\n",
       "[410 rows x 35 columns]"
      ]
     },
     "execution_count": 8,
     "metadata": {},
     "output_type": "execute_result"
    }
   ],
   "source": [
    "df = utils.process_data(df.drop(columns='State'), utils.features_weighted, groupby='date')\n",
    "df"
   ]
  },
  {
   "cell_type": "markdown",
   "id": "4a16a85d36d73f00",
   "metadata": {},
   "source": [
    "### Add AlphaVantage Data"
   ]
  },
  {
   "cell_type": "code",
   "execution_count": 9,
   "id": "d52e59f9285b180c",
   "metadata": {
    "ExecuteTime": {
     "end_time": "2024-12-11T23:32:40.351094Z",
     "start_time": "2024-12-11T23:32:40.209812Z"
    }
   },
   "outputs": [
    {
     "data": {
      "text/html": [
       "<div>\n",
       "<style scoped>\n",
       "    .dataframe tbody tr th:only-of-type {\n",
       "        vertical-align: middle;\n",
       "    }\n",
       "\n",
       "    .dataframe tbody tr th {\n",
       "        vertical-align: top;\n",
       "    }\n",
       "\n",
       "    .dataframe thead th {\n",
       "        text-align: right;\n",
       "    }\n",
       "</style>\n",
       "<table border=\"1\" class=\"dataframe\">\n",
       "  <thead>\n",
       "    <tr style=\"text-align: right;\">\n",
       "      <th></th>\n",
       "      <th>date</th>\n",
       "      <th>SPY_adj_close</th>\n",
       "      <th>SPY_return_1day</th>\n",
       "      <th>SPY_return_1week</th>\n",
       "      <th>SPY_return_1month</th>\n",
       "      <th>SPY_return_3month</th>\n",
       "      <th>EQR_adj_close</th>\n",
       "      <th>EQR_adj_close_1day</th>\n",
       "      <th>EQR_adj_close_1week</th>\n",
       "      <th>EQR_adj_close_1month</th>\n",
       "      <th>...</th>\n",
       "      <th>AVB_adj_close_3month</th>\n",
       "      <th>INVH_adj_close</th>\n",
       "      <th>INVH_adj_close_1day</th>\n",
       "      <th>INVH_adj_close_1week</th>\n",
       "      <th>INVH_adj_close_1month</th>\n",
       "      <th>INVH_adj_close_3month</th>\n",
       "      <th>unemployment</th>\n",
       "      <th>fed_funds</th>\n",
       "      <th>3monhth_treasury_yield</th>\n",
       "      <th>cpi</th>\n",
       "    </tr>\n",
       "  </thead>\n",
       "  <tbody>\n",
       "    <tr>\n",
       "      <th>0</th>\n",
       "      <td>2017-02-03</td>\n",
       "      <td>201.410539</td>\n",
       "      <td>-0.001788</td>\n",
       "      <td>0.009462</td>\n",
       "      <td>0.036496</td>\n",
       "      <td>0.045656</td>\n",
       "      <td>45.852975</td>\n",
       "      <td>45.989668</td>\n",
       "      <td>47.030055</td>\n",
       "      <td>47.402165</td>\n",
       "      <td>...</td>\n",
       "      <td>148.539775</td>\n",
       "      <td>17.272979</td>\n",
       "      <td>17.356707</td>\n",
       "      <td>17.599516</td>\n",
       "      <td>18.353064</td>\n",
       "      <td>18.018154</td>\n",
       "      <td>0.047</td>\n",
       "      <td>0.000098</td>\n",
       "      <td>0.0065</td>\n",
       "      <td>2.42839</td>\n",
       "    </tr>\n",
       "    <tr>\n",
       "      <th>1</th>\n",
       "      <td>2017-02-10</td>\n",
       "      <td>203.316271</td>\n",
       "      <td>0.005443</td>\n",
       "      <td>0.015464</td>\n",
       "      <td>0.027213</td>\n",
       "      <td>0.038761</td>\n",
       "      <td>47.030055</td>\n",
       "      <td>47.189531</td>\n",
       "      <td>46.764263</td>\n",
       "      <td>47.516076</td>\n",
       "      <td>...</td>\n",
       "      <td>149.262275</td>\n",
       "      <td>17.599516</td>\n",
       "      <td>17.582771</td>\n",
       "      <td>17.708362</td>\n",
       "      <td>17.900935</td>\n",
       "      <td>17.959545</td>\n",
       "      <td>0.046</td>\n",
       "      <td>0.000104</td>\n",
       "      <td>0.0066</td>\n",
       "      <td>2.43603</td>\n",
       "    </tr>\n",
       "    <tr>\n",
       "      <th>2</th>\n",
       "      <td>2017-02-17</td>\n",
       "      <td>206.460293</td>\n",
       "      <td>0.005955</td>\n",
       "      <td>0.008592</td>\n",
       "      <td>0.011536</td>\n",
       "      <td>0.025677</td>\n",
       "      <td>46.764263</td>\n",
       "      <td>47.402165</td>\n",
       "      <td>48.040066</td>\n",
       "      <td>47.986908</td>\n",
       "      <td>...</td>\n",
       "      <td>149.238969</td>\n",
       "      <td>17.708362</td>\n",
       "      <td>17.976290</td>\n",
       "      <td>18.260964</td>\n",
       "      <td>18.034899</td>\n",
       "      <td>17.941583</td>\n",
       "      <td>0.046</td>\n",
       "      <td>0.000102</td>\n",
       "      <td>0.0066</td>\n",
       "      <td>2.43603</td>\n",
       "    </tr>\n",
       "    <tr>\n",
       "      <th>3</th>\n",
       "      <td>2017-02-24</td>\n",
       "      <td>207.909361</td>\n",
       "      <td>0.001563</td>\n",
       "      <td>0.007096</td>\n",
       "      <td>-0.007860</td>\n",
       "      <td>0.016153</td>\n",
       "      <td>47.675551</td>\n",
       "      <td>48.040066</td>\n",
       "      <td>47.326224</td>\n",
       "      <td>48.178335</td>\n",
       "      <td>...</td>\n",
       "      <td>149.137974</td>\n",
       "      <td>18.085136</td>\n",
       "      <td>18.260964</td>\n",
       "      <td>18.260964</td>\n",
       "      <td>18.068390</td>\n",
       "      <td>18.193454</td>\n",
       "      <td>0.046</td>\n",
       "      <td>0.000100</td>\n",
       "      <td>0.0066</td>\n",
       "      <td>2.43603</td>\n",
       "    </tr>\n",
       "    <tr>\n",
       "      <th>4</th>\n",
       "      <td>2017-03-03</td>\n",
       "      <td>209.384761</td>\n",
       "      <td>-0.002978</td>\n",
       "      <td>-0.003062</td>\n",
       "      <td>-0.006931</td>\n",
       "      <td>0.017333</td>\n",
       "      <td>47.326224</td>\n",
       "      <td>47.402165</td>\n",
       "      <td>47.052837</td>\n",
       "      <td>47.627201</td>\n",
       "      <td>...</td>\n",
       "      <td>148.633001</td>\n",
       "      <td>18.260964</td>\n",
       "      <td>18.353064</td>\n",
       "      <td>17.917681</td>\n",
       "      <td>18.277709</td>\n",
       "      <td>17.933188</td>\n",
       "      <td>0.046</td>\n",
       "      <td>0.000117</td>\n",
       "      <td>0.0065</td>\n",
       "      <td>2.43603</td>\n",
       "    </tr>\n",
       "    <tr>\n",
       "      <th>...</th>\n",
       "      <td>...</td>\n",
       "      <td>...</td>\n",
       "      <td>...</td>\n",
       "      <td>...</td>\n",
       "      <td>...</td>\n",
       "      <td>...</td>\n",
       "      <td>...</td>\n",
       "      <td>...</td>\n",
       "      <td>...</td>\n",
       "      <td>...</td>\n",
       "      <td>...</td>\n",
       "      <td>...</td>\n",
       "      <td>...</td>\n",
       "      <td>...</td>\n",
       "      <td>...</td>\n",
       "      <td>...</td>\n",
       "      <td>...</td>\n",
       "      <td>...</td>\n",
       "      <td>...</td>\n",
       "      <td>...</td>\n",
       "      <td>...</td>\n",
       "    </tr>\n",
       "    <tr>\n",
       "      <th>381</th>\n",
       "      <td>2024-08-16</td>\n",
       "      <td>552.612504</td>\n",
       "      <td>0.009561</td>\n",
       "      <td>0.014108</td>\n",
       "      <td>0.015389</td>\n",
       "      <td>0.083508</td>\n",
       "      <td>70.775391</td>\n",
       "      <td>70.953791</td>\n",
       "      <td>72.975662</td>\n",
       "      <td>77.078870</td>\n",
       "      <td>...</td>\n",
       "      <td>232.210000</td>\n",
       "      <td>35.000079</td>\n",
       "      <td>35.347302</td>\n",
       "      <td>35.863177</td>\n",
       "      <td>36.478257</td>\n",
       "      <td>33.830000</td>\n",
       "      <td>0.042</td>\n",
       "      <td>0.000999</td>\n",
       "      <td>0.0533</td>\n",
       "      <td>3.14796</td>\n",
       "    </tr>\n",
       "    <tr>\n",
       "      <th>382</th>\n",
       "      <td>2024-08-23</td>\n",
       "      <td>560.408556</td>\n",
       "      <td>-0.002384</td>\n",
       "      <td>0.002757</td>\n",
       "      <td>0.016526</td>\n",
       "      <td>0.049502</td>\n",
       "      <td>72.975662</td>\n",
       "      <td>72.281883</td>\n",
       "      <td>74.214553</td>\n",
       "      <td>76.751803</td>\n",
       "      <td>...</td>\n",
       "      <td>229.220000</td>\n",
       "      <td>35.863177</td>\n",
       "      <td>35.545716</td>\n",
       "      <td>36.547702</td>\n",
       "      <td>36.210400</td>\n",
       "      <td>34.150000</td>\n",
       "      <td>0.042</td>\n",
       "      <td>0.000990</td>\n",
       "      <td>0.0533</td>\n",
       "      <td>3.14796</td>\n",
       "    </tr>\n",
       "    <tr>\n",
       "      <th>383</th>\n",
       "      <td>2024-08-30</td>\n",
       "      <td>561.953809</td>\n",
       "      <td>-0.020579</td>\n",
       "      <td>-0.030638</td>\n",
       "      <td>0.021009</td>\n",
       "      <td>0.063308</td>\n",
       "      <td>74.214553</td>\n",
       "      <td>74.987622</td>\n",
       "      <td>74.432598</td>\n",
       "      <td>74.460000</td>\n",
       "      <td>...</td>\n",
       "      <td>232.900000</td>\n",
       "      <td>36.547702</td>\n",
       "      <td>36.974290</td>\n",
       "      <td>35.406826</td>\n",
       "      <td>35.260000</td>\n",
       "      <td>33.840000</td>\n",
       "      <td>0.042</td>\n",
       "      <td>0.000979</td>\n",
       "      <td>0.0533</td>\n",
       "      <td>3.14796</td>\n",
       "    </tr>\n",
       "    <tr>\n",
       "      <th>384</th>\n",
       "      <td>2024-09-06</td>\n",
       "      <td>538.705224</td>\n",
       "      <td>0.011196</td>\n",
       "      <td>0.040066</td>\n",
       "      <td>0.063624</td>\n",
       "      <td>0.120520</td>\n",
       "      <td>73.679352</td>\n",
       "      <td>74.432598</td>\n",
       "      <td>77.386115</td>\n",
       "      <td>73.530000</td>\n",
       "      <td>...</td>\n",
       "      <td>230.800000</td>\n",
       "      <td>35.664763</td>\n",
       "      <td>35.406826</td>\n",
       "      <td>36.726274</td>\n",
       "      <td>34.540000</td>\n",
       "      <td>33.900000</td>\n",
       "      <td>0.041</td>\n",
       "      <td>0.000968</td>\n",
       "      <td>0.0533</td>\n",
       "      <td>3.15301</td>\n",
       "    </tr>\n",
       "    <tr>\n",
       "      <th>385</th>\n",
       "      <td>2024-09-13</td>\n",
       "      <td>560.288924</td>\n",
       "      <td>0.001477</td>\n",
       "      <td>0.014209</td>\n",
       "      <td>0.034431</td>\n",
       "      <td>0.079229</td>\n",
       "      <td>77.386115</td>\n",
       "      <td>77.078870</td>\n",
       "      <td>75.899446</td>\n",
       "      <td>73.090000</td>\n",
       "      <td>...</td>\n",
       "      <td>226.990000</td>\n",
       "      <td>36.726274</td>\n",
       "      <td>36.478257</td>\n",
       "      <td>35.754049</td>\n",
       "      <td>33.750000</td>\n",
       "      <td>33.680000</td>\n",
       "      <td>0.041</td>\n",
       "      <td>0.000950</td>\n",
       "      <td>0.0533</td>\n",
       "      <td>3.15301</td>\n",
       "    </tr>\n",
       "  </tbody>\n",
       "</table>\n",
       "<p>386 rows × 30 columns</p>\n",
       "</div>"
      ],
      "text/plain": [
       "           date  SPY_adj_close  SPY_return_1day  SPY_return_1week  \\\n",
       "0    2017-02-03     201.410539        -0.001788          0.009462   \n",
       "1    2017-02-10     203.316271         0.005443          0.015464   \n",
       "2    2017-02-17     206.460293         0.005955          0.008592   \n",
       "3    2017-02-24     207.909361         0.001563          0.007096   \n",
       "4    2017-03-03     209.384761        -0.002978         -0.003062   \n",
       "..          ...            ...              ...               ...   \n",
       "381  2024-08-16     552.612504         0.009561          0.014108   \n",
       "382  2024-08-23     560.408556        -0.002384          0.002757   \n",
       "383  2024-08-30     561.953809        -0.020579         -0.030638   \n",
       "384  2024-09-06     538.705224         0.011196          0.040066   \n",
       "385  2024-09-13     560.288924         0.001477          0.014209   \n",
       "\n",
       "     SPY_return_1month  SPY_return_3month  EQR_adj_close  EQR_adj_close_1day  \\\n",
       "0             0.036496           0.045656      45.852975           45.989668   \n",
       "1             0.027213           0.038761      47.030055           47.189531   \n",
       "2             0.011536           0.025677      46.764263           47.402165   \n",
       "3            -0.007860           0.016153      47.675551           48.040066   \n",
       "4            -0.006931           0.017333      47.326224           47.402165   \n",
       "..                 ...                ...            ...                 ...   \n",
       "381           0.015389           0.083508      70.775391           70.953791   \n",
       "382           0.016526           0.049502      72.975662           72.281883   \n",
       "383           0.021009           0.063308      74.214553           74.987622   \n",
       "384           0.063624           0.120520      73.679352           74.432598   \n",
       "385           0.034431           0.079229      77.386115           77.078870   \n",
       "\n",
       "     EQR_adj_close_1week  EQR_adj_close_1month  ...  AVB_adj_close_3month  \\\n",
       "0              47.030055             47.402165  ...            148.539775   \n",
       "1              46.764263             47.516076  ...            149.262275   \n",
       "2              48.040066             47.986908  ...            149.238969   \n",
       "3              47.326224             48.178335  ...            149.137974   \n",
       "4              47.052837             47.627201  ...            148.633001   \n",
       "..                   ...                   ...  ...                   ...   \n",
       "381            72.975662             77.078870  ...            232.210000   \n",
       "382            74.214553             76.751803  ...            229.220000   \n",
       "383            74.432598             74.460000  ...            232.900000   \n",
       "384            77.386115             73.530000  ...            230.800000   \n",
       "385            75.899446             73.090000  ...            226.990000   \n",
       "\n",
       "     INVH_adj_close  INVH_adj_close_1day  INVH_adj_close_1week  \\\n",
       "0         17.272979            17.356707             17.599516   \n",
       "1         17.599516            17.582771             17.708362   \n",
       "2         17.708362            17.976290             18.260964   \n",
       "3         18.085136            18.260964             18.260964   \n",
       "4         18.260964            18.353064             17.917681   \n",
       "..              ...                  ...                   ...   \n",
       "381       35.000079            35.347302             35.863177   \n",
       "382       35.863177            35.545716             36.547702   \n",
       "383       36.547702            36.974290             35.406826   \n",
       "384       35.664763            35.406826             36.726274   \n",
       "385       36.726274            36.478257             35.754049   \n",
       "\n",
       "     INVH_adj_close_1month  INVH_adj_close_3month  unemployment  fed_funds  \\\n",
       "0                18.353064              18.018154         0.047   0.000098   \n",
       "1                17.900935              17.959545         0.046   0.000104   \n",
       "2                18.034899              17.941583         0.046   0.000102   \n",
       "3                18.068390              18.193454         0.046   0.000100   \n",
       "4                18.277709              17.933188         0.046   0.000117   \n",
       "..                     ...                    ...           ...        ...   \n",
       "381              36.478257              33.830000         0.042   0.000999   \n",
       "382              36.210400              34.150000         0.042   0.000990   \n",
       "383              35.260000              33.840000         0.042   0.000979   \n",
       "384              34.540000              33.900000         0.041   0.000968   \n",
       "385              33.750000              33.680000         0.041   0.000950   \n",
       "\n",
       "     3monhth_treasury_yield      cpi  \n",
       "0                    0.0065  2.42839  \n",
       "1                    0.0066  2.43603  \n",
       "2                    0.0066  2.43603  \n",
       "3                    0.0066  2.43603  \n",
       "4                    0.0065  2.43603  \n",
       "..                      ...      ...  \n",
       "381                  0.0533  3.14796  \n",
       "382                  0.0533  3.14796  \n",
       "383                  0.0533  3.14796  \n",
       "384                  0.0533  3.15301  \n",
       "385                  0.0533  3.15301  \n",
       "\n",
       "[386 rows x 30 columns]"
      ]
     },
     "execution_count": 9,
     "metadata": {},
     "output_type": "execute_result"
    }
   ],
   "source": [
    "#Read alpha vantage data\n",
    "file_path_av = \"../data/av_data.csv\"\n",
    "df_av = pd.read_csv(file_path_av)\n",
    "df_av = df_av.drop(columns=['Unnamed: 0'])\n",
    "df_av"
   ]
  },
  {
   "cell_type": "code",
   "execution_count": 10,
   "id": "c012cae9543dea5",
   "metadata": {
    "ExecuteTime": {
     "end_time": "2024-12-11T23:32:41.180669Z",
     "start_time": "2024-12-11T23:32:41.116876Z"
    }
   },
   "outputs": [
    {
     "data": {
      "text/html": [
       "<div>\n",
       "<style scoped>\n",
       "    .dataframe tbody tr th:only-of-type {\n",
       "        vertical-align: middle;\n",
       "    }\n",
       "\n",
       "    .dataframe tbody tr th {\n",
       "        vertical-align: top;\n",
       "    }\n",
       "\n",
       "    .dataframe thead th {\n",
       "        text-align: right;\n",
       "    }\n",
       "</style>\n",
       "<table border=\"1\" class=\"dataframe\">\n",
       "  <thead>\n",
       "    <tr style=\"text-align: right;\">\n",
       "      <th></th>\n",
       "      <th>date</th>\n",
       "      <th>adjusted_average_new_listings</th>\n",
       "      <th>adjusted_average_new_listings_yoy</th>\n",
       "      <th>average_pending_sales_listing_updates</th>\n",
       "      <th>average_pending_sales_listing_updates_yoy</th>\n",
       "      <th>off_market_in_two_weeks</th>\n",
       "      <th>off_market_in_two_weeks_yoy</th>\n",
       "      <th>adjusted_average_homes_sold</th>\n",
       "      <th>adjusted_average_homes_sold_yoy</th>\n",
       "      <th>median_new_listing_price</th>\n",
       "      <th>...</th>\n",
       "      <th>AVB_adj_close_3month</th>\n",
       "      <th>INVH_adj_close</th>\n",
       "      <th>INVH_adj_close_1day</th>\n",
       "      <th>INVH_adj_close_1week</th>\n",
       "      <th>INVH_adj_close_1month</th>\n",
       "      <th>INVH_adj_close_3month</th>\n",
       "      <th>unemployment</th>\n",
       "      <th>fed_funds</th>\n",
       "      <th>3monhth_treasury_yield</th>\n",
       "      <th>cpi</th>\n",
       "    </tr>\n",
       "  </thead>\n",
       "  <tbody>\n",
       "    <tr>\n",
       "      <th>5</th>\n",
       "      <td>2017-02-03</td>\n",
       "      <td>548.772452</td>\n",
       "      <td>-0.046394</td>\n",
       "      <td>547.732738</td>\n",
       "      <td>-0.054225</td>\n",
       "      <td>139.120589</td>\n",
       "      <td>0.072120</td>\n",
       "      <td>323.218660</td>\n",
       "      <td>-0.018295</td>\n",
       "      <td>470406.760147</td>\n",
       "      <td>...</td>\n",
       "      <td>148.539775</td>\n",
       "      <td>17.272979</td>\n",
       "      <td>17.356707</td>\n",
       "      <td>17.599516</td>\n",
       "      <td>18.353064</td>\n",
       "      <td>18.018154</td>\n",
       "      <td>0.047</td>\n",
       "      <td>0.000098</td>\n",
       "      <td>0.0065</td>\n",
       "      <td>2.42839</td>\n",
       "    </tr>\n",
       "    <tr>\n",
       "      <th>6</th>\n",
       "      <td>2017-02-10</td>\n",
       "      <td>543.885113</td>\n",
       "      <td>-0.031627</td>\n",
       "      <td>584.136574</td>\n",
       "      <td>0.028103</td>\n",
       "      <td>143.491242</td>\n",
       "      <td>0.141865</td>\n",
       "      <td>401.217684</td>\n",
       "      <td>0.244176</td>\n",
       "      <td>470034.917067</td>\n",
       "      <td>...</td>\n",
       "      <td>149.262275</td>\n",
       "      <td>17.599516</td>\n",
       "      <td>17.582771</td>\n",
       "      <td>17.708362</td>\n",
       "      <td>17.900935</td>\n",
       "      <td>17.959545</td>\n",
       "      <td>0.046</td>\n",
       "      <td>0.000104</td>\n",
       "      <td>0.0066</td>\n",
       "      <td>2.43603</td>\n",
       "    </tr>\n",
       "    <tr>\n",
       "      <th>7</th>\n",
       "      <td>2017-02-17</td>\n",
       "      <td>540.158761</td>\n",
       "      <td>-0.084154</td>\n",
       "      <td>552.112960</td>\n",
       "      <td>-0.090483</td>\n",
       "      <td>134.317990</td>\n",
       "      <td>0.073751</td>\n",
       "      <td>359.615586</td>\n",
       "      <td>-0.135684</td>\n",
       "      <td>468865.864989</td>\n",
       "      <td>...</td>\n",
       "      <td>149.238969</td>\n",
       "      <td>17.708362</td>\n",
       "      <td>17.976290</td>\n",
       "      <td>18.260964</td>\n",
       "      <td>18.034899</td>\n",
       "      <td>17.941583</td>\n",
       "      <td>0.046</td>\n",
       "      <td>0.000102</td>\n",
       "      <td>0.0066</td>\n",
       "      <td>2.43603</td>\n",
       "    </tr>\n",
       "    <tr>\n",
       "      <th>8</th>\n",
       "      <td>2017-02-24</td>\n",
       "      <td>627.814169</td>\n",
       "      <td>-0.071756</td>\n",
       "      <td>597.987743</td>\n",
       "      <td>-0.039632</td>\n",
       "      <td>152.616311</td>\n",
       "      <td>0.576183</td>\n",
       "      <td>489.413106</td>\n",
       "      <td>0.135456</td>\n",
       "      <td>482414.109001</td>\n",
       "      <td>...</td>\n",
       "      <td>149.137974</td>\n",
       "      <td>18.085136</td>\n",
       "      <td>18.260964</td>\n",
       "      <td>18.260964</td>\n",
       "      <td>18.068390</td>\n",
       "      <td>18.193454</td>\n",
       "      <td>0.046</td>\n",
       "      <td>0.000100</td>\n",
       "      <td>0.0066</td>\n",
       "      <td>2.43603</td>\n",
       "    </tr>\n",
       "    <tr>\n",
       "      <th>9</th>\n",
       "      <td>2017-03-03</td>\n",
       "      <td>611.186201</td>\n",
       "      <td>0.007191</td>\n",
       "      <td>578.317472</td>\n",
       "      <td>-0.036050</td>\n",
       "      <td>155.094802</td>\n",
       "      <td>0.091772</td>\n",
       "      <td>399.432796</td>\n",
       "      <td>0.066991</td>\n",
       "      <td>532426.422988</td>\n",
       "      <td>...</td>\n",
       "      <td>148.633001</td>\n",
       "      <td>18.260964</td>\n",
       "      <td>18.353064</td>\n",
       "      <td>17.917681</td>\n",
       "      <td>18.277709</td>\n",
       "      <td>17.933188</td>\n",
       "      <td>0.046</td>\n",
       "      <td>0.000117</td>\n",
       "      <td>0.0065</td>\n",
       "      <td>2.43603</td>\n",
       "    </tr>\n",
       "    <tr>\n",
       "      <th>...</th>\n",
       "      <td>...</td>\n",
       "      <td>...</td>\n",
       "      <td>...</td>\n",
       "      <td>...</td>\n",
       "      <td>...</td>\n",
       "      <td>...</td>\n",
       "      <td>...</td>\n",
       "      <td>...</td>\n",
       "      <td>...</td>\n",
       "      <td>...</td>\n",
       "      <td>...</td>\n",
       "      <td>...</td>\n",
       "      <td>...</td>\n",
       "      <td>...</td>\n",
       "      <td>...</td>\n",
       "      <td>...</td>\n",
       "      <td>...</td>\n",
       "      <td>...</td>\n",
       "      <td>...</td>\n",
       "      <td>...</td>\n",
       "      <td>...</td>\n",
       "    </tr>\n",
       "    <tr>\n",
       "      <th>398</th>\n",
       "      <td>2024-08-16</td>\n",
       "      <td>376.803700</td>\n",
       "      <td>0.087944</td>\n",
       "      <td>331.746735</td>\n",
       "      <td>-0.038061</td>\n",
       "      <td>66.903375</td>\n",
       "      <td>0.613024</td>\n",
       "      <td>291.259358</td>\n",
       "      <td>-0.008890</td>\n",
       "      <td>716359.366070</td>\n",
       "      <td>...</td>\n",
       "      <td>232.210000</td>\n",
       "      <td>35.000079</td>\n",
       "      <td>35.347302</td>\n",
       "      <td>35.863177</td>\n",
       "      <td>36.478257</td>\n",
       "      <td>33.830000</td>\n",
       "      <td>0.042</td>\n",
       "      <td>0.000999</td>\n",
       "      <td>0.0533</td>\n",
       "      <td>3.14796</td>\n",
       "    </tr>\n",
       "    <tr>\n",
       "      <th>399</th>\n",
       "      <td>2024-08-23</td>\n",
       "      <td>318.465056</td>\n",
       "      <td>0.032335</td>\n",
       "      <td>346.746468</td>\n",
       "      <td>0.034682</td>\n",
       "      <td>66.259595</td>\n",
       "      <td>0.047036</td>\n",
       "      <td>354.645058</td>\n",
       "      <td>0.045073</td>\n",
       "      <td>718513.626398</td>\n",
       "      <td>...</td>\n",
       "      <td>229.220000</td>\n",
       "      <td>35.863177</td>\n",
       "      <td>35.545716</td>\n",
       "      <td>36.547702</td>\n",
       "      <td>36.210400</td>\n",
       "      <td>34.150000</td>\n",
       "      <td>0.042</td>\n",
       "      <td>0.000990</td>\n",
       "      <td>0.0533</td>\n",
       "      <td>3.14796</td>\n",
       "    </tr>\n",
       "    <tr>\n",
       "      <th>400</th>\n",
       "      <td>2024-08-30</td>\n",
       "      <td>421.869001</td>\n",
       "      <td>0.099688</td>\n",
       "      <td>292.078365</td>\n",
       "      <td>0.043316</td>\n",
       "      <td>54.520741</td>\n",
       "      <td>0.122183</td>\n",
       "      <td>235.190609</td>\n",
       "      <td>0.044457</td>\n",
       "      <td>732624.680741</td>\n",
       "      <td>...</td>\n",
       "      <td>232.900000</td>\n",
       "      <td>36.547702</td>\n",
       "      <td>36.974290</td>\n",
       "      <td>35.406826</td>\n",
       "      <td>35.260000</td>\n",
       "      <td>33.840000</td>\n",
       "      <td>0.042</td>\n",
       "      <td>0.000979</td>\n",
       "      <td>0.0533</td>\n",
       "      <td>3.14796</td>\n",
       "    </tr>\n",
       "    <tr>\n",
       "      <th>401</th>\n",
       "      <td>2024-09-06</td>\n",
       "      <td>424.796160</td>\n",
       "      <td>0.131145</td>\n",
       "      <td>332.823205</td>\n",
       "      <td>0.042387</td>\n",
       "      <td>66.586909</td>\n",
       "      <td>-0.047748</td>\n",
       "      <td>276.808245</td>\n",
       "      <td>-0.006505</td>\n",
       "      <td>740072.064514</td>\n",
       "      <td>...</td>\n",
       "      <td>230.800000</td>\n",
       "      <td>35.664763</td>\n",
       "      <td>35.406826</td>\n",
       "      <td>36.726274</td>\n",
       "      <td>34.540000</td>\n",
       "      <td>33.900000</td>\n",
       "      <td>0.041</td>\n",
       "      <td>0.000968</td>\n",
       "      <td>0.0533</td>\n",
       "      <td>3.15301</td>\n",
       "    </tr>\n",
       "    <tr>\n",
       "      <th>402</th>\n",
       "      <td>2024-09-13</td>\n",
       "      <td>410.387260</td>\n",
       "      <td>0.175049</td>\n",
       "      <td>345.048978</td>\n",
       "      <td>0.066249</td>\n",
       "      <td>73.238825</td>\n",
       "      <td>0.524252</td>\n",
       "      <td>279.389485</td>\n",
       "      <td>0.034230</td>\n",
       "      <td>746200.577889</td>\n",
       "      <td>...</td>\n",
       "      <td>226.990000</td>\n",
       "      <td>36.726274</td>\n",
       "      <td>36.478257</td>\n",
       "      <td>35.754049</td>\n",
       "      <td>33.750000</td>\n",
       "      <td>33.680000</td>\n",
       "      <td>0.041</td>\n",
       "      <td>0.000950</td>\n",
       "      <td>0.0533</td>\n",
       "      <td>3.15301</td>\n",
       "    </tr>\n",
       "  </tbody>\n",
       "</table>\n",
       "<p>386 rows × 64 columns</p>\n",
       "</div>"
      ],
      "text/plain": [
       "           date  adjusted_average_new_listings  \\\n",
       "5    2017-02-03                     548.772452   \n",
       "6    2017-02-10                     543.885113   \n",
       "7    2017-02-17                     540.158761   \n",
       "8    2017-02-24                     627.814169   \n",
       "9    2017-03-03                     611.186201   \n",
       "..          ...                            ...   \n",
       "398  2024-08-16                     376.803700   \n",
       "399  2024-08-23                     318.465056   \n",
       "400  2024-08-30                     421.869001   \n",
       "401  2024-09-06                     424.796160   \n",
       "402  2024-09-13                     410.387260   \n",
       "\n",
       "     adjusted_average_new_listings_yoy  average_pending_sales_listing_updates  \\\n",
       "5                            -0.046394                             547.732738   \n",
       "6                            -0.031627                             584.136574   \n",
       "7                            -0.084154                             552.112960   \n",
       "8                            -0.071756                             597.987743   \n",
       "9                             0.007191                             578.317472   \n",
       "..                                 ...                                    ...   \n",
       "398                           0.087944                             331.746735   \n",
       "399                           0.032335                             346.746468   \n",
       "400                           0.099688                             292.078365   \n",
       "401                           0.131145                             332.823205   \n",
       "402                           0.175049                             345.048978   \n",
       "\n",
       "     average_pending_sales_listing_updates_yoy  off_market_in_two_weeks  \\\n",
       "5                                    -0.054225               139.120589   \n",
       "6                                     0.028103               143.491242   \n",
       "7                                    -0.090483               134.317990   \n",
       "8                                    -0.039632               152.616311   \n",
       "9                                    -0.036050               155.094802   \n",
       "..                                         ...                      ...   \n",
       "398                                  -0.038061                66.903375   \n",
       "399                                   0.034682                66.259595   \n",
       "400                                   0.043316                54.520741   \n",
       "401                                   0.042387                66.586909   \n",
       "402                                   0.066249                73.238825   \n",
       "\n",
       "     off_market_in_two_weeks_yoy  adjusted_average_homes_sold  \\\n",
       "5                       0.072120                   323.218660   \n",
       "6                       0.141865                   401.217684   \n",
       "7                       0.073751                   359.615586   \n",
       "8                       0.576183                   489.413106   \n",
       "9                       0.091772                   399.432796   \n",
       "..                           ...                          ...   \n",
       "398                     0.613024                   291.259358   \n",
       "399                     0.047036                   354.645058   \n",
       "400                     0.122183                   235.190609   \n",
       "401                    -0.047748                   276.808245   \n",
       "402                     0.524252                   279.389485   \n",
       "\n",
       "     adjusted_average_homes_sold_yoy  median_new_listing_price  ...  \\\n",
       "5                          -0.018295             470406.760147  ...   \n",
       "6                           0.244176             470034.917067  ...   \n",
       "7                          -0.135684             468865.864989  ...   \n",
       "8                           0.135456             482414.109001  ...   \n",
       "9                           0.066991             532426.422988  ...   \n",
       "..                               ...                       ...  ...   \n",
       "398                        -0.008890             716359.366070  ...   \n",
       "399                         0.045073             718513.626398  ...   \n",
       "400                         0.044457             732624.680741  ...   \n",
       "401                        -0.006505             740072.064514  ...   \n",
       "402                         0.034230             746200.577889  ...   \n",
       "\n",
       "     AVB_adj_close_3month  INVH_adj_close  INVH_adj_close_1day  \\\n",
       "5              148.539775       17.272979            17.356707   \n",
       "6              149.262275       17.599516            17.582771   \n",
       "7              149.238969       17.708362            17.976290   \n",
       "8              149.137974       18.085136            18.260964   \n",
       "9              148.633001       18.260964            18.353064   \n",
       "..                    ...             ...                  ...   \n",
       "398            232.210000       35.000079            35.347302   \n",
       "399            229.220000       35.863177            35.545716   \n",
       "400            232.900000       36.547702            36.974290   \n",
       "401            230.800000       35.664763            35.406826   \n",
       "402            226.990000       36.726274            36.478257   \n",
       "\n",
       "     INVH_adj_close_1week  INVH_adj_close_1month  INVH_adj_close_3month  \\\n",
       "5               17.599516              18.353064              18.018154   \n",
       "6               17.708362              17.900935              17.959545   \n",
       "7               18.260964              18.034899              17.941583   \n",
       "8               18.260964              18.068390              18.193454   \n",
       "9               17.917681              18.277709              17.933188   \n",
       "..                    ...                    ...                    ...   \n",
       "398             35.863177              36.478257              33.830000   \n",
       "399             36.547702              36.210400              34.150000   \n",
       "400             35.406826              35.260000              33.840000   \n",
       "401             36.726274              34.540000              33.900000   \n",
       "402             35.754049              33.750000              33.680000   \n",
       "\n",
       "     unemployment  fed_funds  3monhth_treasury_yield      cpi  \n",
       "5           0.047   0.000098                  0.0065  2.42839  \n",
       "6           0.046   0.000104                  0.0066  2.43603  \n",
       "7           0.046   0.000102                  0.0066  2.43603  \n",
       "8           0.046   0.000100                  0.0066  2.43603  \n",
       "9           0.046   0.000117                  0.0065  2.43603  \n",
       "..            ...        ...                     ...      ...  \n",
       "398         0.042   0.000999                  0.0533  3.14796  \n",
       "399         0.042   0.000990                  0.0533  3.14796  \n",
       "400         0.042   0.000979                  0.0533  3.14796  \n",
       "401         0.041   0.000968                  0.0533  3.15301  \n",
       "402         0.041   0.000950                  0.0533  3.15301  \n",
       "\n",
       "[386 rows x 64 columns]"
      ]
     },
     "execution_count": 10,
     "metadata": {},
     "output_type": "execute_result"
    }
   ],
   "source": [
    "df = pd.merge(df, df_av,\n",
    "              on=[\"date\"],\n",
    "              how=\"left\")\n",
    "df.dropna(inplace=True)\n",
    "df"
   ]
  },
  {
   "cell_type": "markdown",
   "id": "6fe419509bf5acdf",
   "metadata": {},
   "source": [
    "### Splitting Data"
   ]
  },
  {
   "cell_type": "code",
   "execution_count": 11,
   "id": "f59b319c3091580c",
   "metadata": {
    "ExecuteTime": {
     "end_time": "2024-12-11T23:32:41.445693Z",
     "start_time": "2024-12-11T23:32:41.424135Z"
    }
   },
   "outputs": [],
   "source": [
    "# Split the data into features and target\n",
    "X = df.drop(columns=['date', 'EQR_adj_close_1day', 'ESS_adj_close_1day', 'AVB_adj_close_1day', 'INVH_adj_close_1day',\n",
    "                     'EQR_adj_close_1week', 'ESS_adj_close_1week', 'AVB_adj_close_1week', 'INVH_adj_close_1week',\n",
    "                     'EQR_adj_close', 'ESS_adj_close', 'AVB_adj_close', 'INVH_adj_close', 'EQR_adj_close_1month',\n",
    "                     'ESS_adj_close_1month', 'AVB_adj_close_1month', 'INVH_adj_close_1month', 'EQR_adj_close_3month',\n",
    "                     'ESS_adj_close_3month', 'AVB_adj_close_3month', 'INVH_adj_close_3month'])\n",
    "y = df['EQR_adj_close_1week']"
   ]
  },
  {
   "cell_type": "code",
   "execution_count": 28,
   "id": "a439b407",
   "metadata": {},
   "outputs": [
    {
     "data": {
      "image/png": "[encoded data removed]",
      "text/plain": [
       "<Figure size 640x480 with 1 Axes>"
      ]
     },
     "metadata": {},
     "output_type": "display_data"
    }
   ],
   "source": [
    "#target variable distribution\n",
    "plt.hist(y, bins=20, edgecolor='black')\n",
    "plt.title('Distribution of target variable (EQR)')\n",
    "plt.xlabel('Values')\n",
    "plt.ylabel('Frequency')\n",
    "plt.show()"
   ]
  },
  {
   "cell_type": "code",
   "execution_count": 27,
   "id": "abf4eceb",
   "metadata": {},
   "outputs": [
    {
     "data": {
      "image/png": "[encoded data removed]",
      "text/plain": [
       "<Figure size 2000x1000 with 9 Axes>"
      ]
     },
     "metadata": {},
     "output_type": "display_data"
    }
   ],
   "source": [
    "#feature distribution\n",
    "selected_features = X[[\"median_new_listing_price\", \"months_of_supply\",\"percent_active_listings_with_price_drops\", \"SPY_return_1week\", \"ZORI\", \"active_listings\", \"fed_funds\", \"unemployment\"]]\n",
    "selected_features.hist(bins=20, figsize=(20, 10))\n",
    "plt.tight_layout()\n",
    "plt.show()"
   ]
  },
  {
   "cell_type": "code",
   "execution_count": 17,
   "id": "5add07fa",
   "metadata": {},
   "outputs": [
    {
     "data": {
      "text/plain": [
       "<Axes: >"
      ]
     },
     "execution_count": 17,
     "metadata": {},
     "output_type": "execute_result"
    },
    {
     "data": {
      "image/png": "[encoded data removed]",
      "text/plain": [
       "<Figure size 640x480 with 2 Axes>"
      ]
     },
     "metadata": {},
     "output_type": "display_data"
    }
   ],
   "source": [
    "#Correlation\n",
    "corr = X.corr()\n",
    "sns.heatmap(corr, annot = False, cmap = \"coolwarm\")"
   ]
  },
  {
   "cell_type": "markdown",
   "id": "4c42df68202c3697",
   "metadata": {},
   "source": [
    "### Train-Test Split"
   ]
  },
  {
   "cell_type": "code",
   "execution_count": 30,
   "id": "df61e336e108575f",
   "metadata": {
    "ExecuteTime": {
     "end_time": "2024-12-11T23:32:41.790581Z",
     "start_time": "2024-12-11T23:32:41.717135Z"
    }
   },
   "outputs": [],
   "source": [
    "X_train, X_test, y_train, y_test = train_test_split(X, y, test_size=0.15, random_state=42, shuffle=False)"
   ]
  },
  {
   "cell_type": "markdown",
   "id": "decfd0efe725826c",
   "metadata": {},
   "source": [
    "## Modeling"
   ]
  },
  {
   "cell_type": "code",
   "execution_count": 31,
   "id": "ae2b2ec12eabdd83",
   "metadata": {
    "ExecuteTime": {
     "end_time": "2024-12-11T23:32:42.108734Z",
     "start_time": "2024-12-11T23:32:42.051771Z"
    }
   },
   "outputs": [],
   "source": [
    "# define scorer and cross-validation\n",
    "scorer = make_scorer(root_mean_squared_error, greater_is_better=False)\n",
    "cv = KFold(n_splits=20, shuffle=True, random_state=42)\n",
    "n_trials = 15"
   ]
  },
  {
   "cell_type": "markdown",
   "id": "1be2cb850a4635e0",
   "metadata": {},
   "source": [
    "### Random Forest"
   ]
  },
  {
   "cell_type": "markdown",
   "id": "d38b31142bf8e99d",
   "metadata": {},
   "source": [
    "#### Hyperparameter Tuning"
   ]
  },
  {
   "cell_type": "code",
   "execution_count": 32,
   "id": "386cf90a279cea3",
   "metadata": {
    "ExecuteTime": {
     "end_time": "2024-12-11T23:32:42.372573Z",
     "start_time": "2024-12-11T23:32:42.334918Z"
    }
   },
   "outputs": [],
   "source": [
    "# Hyperparameter search space\n",
    "def objective(trial):\n",
    "    # Hyperparameter search space\n",
    "    n_estimators = trial.suggest_int('n_estimators', 50, 500)\n",
    "    max_depth = trial.suggest_int('max_depth', 2, 8)\n",
    "    min_samples_split = trial.suggest_int('min_samples_split', 2, 10)\n",
    "    min_samples_leaf = trial.suggest_int('min_samples_leaf', 1, 10)\n",
    "    max_features = trial.suggest_categorical('max_features', ['sqrt', 'log2', None])\n",
    "\n",
    "    # Create the Random Forest model with suggested hyperparameters\n",
    "    rf = RandomForestRegressor(\n",
    "        n_estimators=n_estimators,\n",
    "        max_depth=max_depth,\n",
    "        min_samples_split=min_samples_split,\n",
    "        min_samples_leaf=min_samples_leaf,\n",
    "        max_features=max_features,\n",
    "        random_state=42\n",
    "    )\n",
    "\n",
    "    scores = cross_val_score(rf, X_train, y_train, scoring=scorer, cv=cv, n_jobs=-1)\n",
    "\n",
    "    return -np.mean(scores)"
   ]
  },
  {
   "cell_type": "code",
   "execution_count": 33,
   "id": "c003abc9b898921",
   "metadata": {
    "ExecuteTime": {
     "end_time": "2024-12-11T23:33:06.103025Z",
     "start_time": "2024-12-11T23:32:42.602029Z"
    }
   },
   "outputs": [
    {
     "name": "stderr",
     "output_type": "stream",
     "text": [
      "[I 2024-12-11 18:32:42,646] A new study created in memory with name: rf_tuning\n"
     ]
    },
    {
     "data": {
      "application/vnd.jupyter.widget-view+json": {
       "model_id": "45843130d73848778d7218e9f421ed51",
       "version_major": 2,
       "version_minor": 0
      },
      "text/plain": [
       "  0%|          | 0/15 [00:00<?, ?it/s]"
      ]
     },
     "metadata": {},
     "output_type": "display_data"
    },
    {
     "name": "stdout",
     "output_type": "stream",
     "text": [
      "[I 2024-12-11 18:32:45,894] Trial 0 finished with value: 5.547287139529821 and parameters: {'n_estimators': 413, 'max_depth': 2, 'min_samples_split': 9, 'min_samples_leaf': 5, 'max_features': 'log2'}. Best is trial 0 with value: 5.547287139529821.\n",
      "[I 2024-12-11 18:32:49,043] Trial 1 finished with value: 2.8578460071992327 and parameters: {'n_estimators': 306, 'max_depth': 4, 'min_samples_split': 6, 'min_samples_leaf': 4, 'max_features': None}. Best is trial 1 with value: 2.8578460071992327.\n",
      "[I 2024-12-11 18:32:50,871] Trial 2 finished with value: 2.67450419944887 and parameters: {'n_estimators': 169, 'max_depth': 5, 'min_samples_split': 2, 'min_samples_leaf': 6, 'max_features': None}. Best is trial 2 with value: 2.67450419944887.\n",
      "[I 2024-12-11 18:32:52,582] Trial 3 finished with value: 4.6401944963858766 and parameters: {'n_estimators': 281, 'max_depth': 2, 'min_samples_split': 3, 'min_samples_leaf': 10, 'max_features': None}. Best is trial 2 with value: 2.67450419944887.\n",
      "[I 2024-12-11 18:32:53,007] Trial 4 finished with value: 5.428123062535759 and parameters: {'n_estimators': 171, 'max_depth': 2, 'min_samples_split': 2, 'min_samples_leaf': 10, 'max_features': 'sqrt'}. Best is trial 2 with value: 2.67450419944887.\n",
      "[I 2024-12-11 18:32:53,653] Trial 5 finished with value: 3.031197670735925 and parameters: {'n_estimators': 70, 'max_depth': 4, 'min_samples_split': 10, 'min_samples_leaf': 10, 'max_features': None}. Best is trial 2 with value: 2.67450419944887.\n",
      "[I 2024-12-11 18:32:56,194] Trial 6 finished with value: 4.641225966488734 and parameters: {'n_estimators': 442, 'max_depth': 2, 'min_samples_split': 8, 'min_samples_leaf': 8, 'max_features': None}. Best is trial 2 with value: 2.67450419944887.\n",
      "[I 2024-12-11 18:32:56,753] Trial 7 finished with value: 3.2032354644278755 and parameters: {'n_estimators': 169, 'max_depth': 6, 'min_samples_split': 2, 'min_samples_leaf': 9, 'max_features': 'sqrt'}. Best is trial 2 with value: 2.67450419944887.\n",
      "[I 2024-12-11 18:32:58,600] Trial 8 finished with value: 3.328710758604803 and parameters: {'n_estimators': 241, 'max_depth': 3, 'min_samples_split': 2, 'min_samples_leaf': 4, 'max_features': None}. Best is trial 2 with value: 2.67450419944887.\n",
      "[I 2024-12-11 18:32:58,939] Trial 9 finished with value: 4.325330503096641 and parameters: {'n_estimators': 123, 'max_depth': 3, 'min_samples_split': 10, 'min_samples_leaf': 8, 'max_features': 'sqrt'}. Best is trial 2 with value: 2.67450419944887.\n",
      "[I 2024-12-11 18:33:00,210] Trial 10 finished with value: 2.5323240495757293 and parameters: {'n_estimators': 357, 'max_depth': 8, 'min_samples_split': 5, 'min_samples_leaf': 1, 'max_features': 'log2'}. Best is trial 10 with value: 2.5323240495757293.\n",
      "[I 2024-12-11 18:33:01,512] Trial 11 finished with value: 2.5332302489406335 and parameters: {'n_estimators': 349, 'max_depth': 8, 'min_samples_split': 5, 'min_samples_leaf': 1, 'max_features': 'log2'}. Best is trial 10 with value: 2.5323240495757293.\n",
      "[I 2024-12-11 18:33:02,808] Trial 12 finished with value: 2.5322219283162237 and parameters: {'n_estimators': 350, 'max_depth': 8, 'min_samples_split': 5, 'min_samples_leaf': 1, 'max_features': 'log2'}. Best is trial 12 with value: 2.5322219283162237.\n",
      "[I 2024-12-11 18:33:04,577] Trial 13 finished with value: 2.529736924570928 and parameters: {'n_estimators': 497, 'max_depth': 8, 'min_samples_split': 5, 'min_samples_leaf': 1, 'max_features': 'log2'}. Best is trial 13 with value: 2.529736924570928.\n",
      "[I 2024-12-11 18:33:06,095] Trial 14 finished with value: 2.6349925025631045 and parameters: {'n_estimators': 459, 'max_depth': 7, 'min_samples_split': 4, 'min_samples_leaf': 2, 'max_features': 'log2'}. Best is trial 13 with value: 2.529736924570928.\n"
     ]
    }
   ],
   "source": [
    "study_rf = optuna.create_study(direction='minimize', study_name='rf_tuning')\n",
    "study_rf.optimize(objective, n_trials=n_trials, show_progress_bar=True)"
   ]
  },
  {
   "cell_type": "code",
   "execution_count": 34,
   "id": "1cfe8881a0419f46",
   "metadata": {
    "ExecuteTime": {
     "end_time": "2024-12-11T23:33:06.239170Z",
     "start_time": "2024-12-11T23:33:06.110623Z"
    }
   },
   "outputs": [
    {
     "data": {
      "application/vnd.plotly.v1+json": {
       "config": {
        "plotlyServerURL": "https://plot.ly"
       },
       "data": [
        {
         "mode": "markers",
         "name": "Objective Value",
         "type": "scatter",
         "x": [
          0,
          1,
          2,
          3,
          4,
          5,
          6,
          7,
          8,
          9,
          10,
          11,
          12,
          13,
          14
         ],
         "y": [
          5.547287139529821,
          2.8578460071992327,
          2.67450419944887,
          4.6401944963858766,
          5.428123062535759,
          3.031197670735925,
          4.641225966488734,
          3.2032354644278755,
          3.328710758604803,
          4.325330503096641,
          2.5323240495757293,
          2.5332302489406335,
          2.5322219283162237,
          2.529736924570928,
          2.6349925025631045
         ]
        },
        {
         "mode": "lines",
         "name": "Best Value",
         "type": "scatter",
         "x": [
          0,
          1,
          2,
          3,
          4,
          5,
          6,
          7,
          8,
          9,
          10,
          11,
          12,
          13,
          14
         ],
         "y": [
          5.547287139529821,
          2.8578460071992327,
          2.67450419944887,
          2.67450419944887,
          2.67450419944887,
          2.67450419944887,
          2.67450419944887,
          2.67450419944887,
          2.67450419944887,
          2.67450419944887,
          2.5323240495757293,
          2.5323240495757293,
          2.5322219283162237,
          2.529736924570928,
          2.529736924570928
         ]
        },
        {
         "marker": {
          "color": "#cccccc"
         },
         "mode": "markers",
         "name": "Infeasible Trial",
         "showlegend": false,
         "type": "scatter",
         "x": [],
         "y": []
        }
       ],
       "layout": {
        "template": {
         "data": {
          "bar": [
           {
            "error_x": {
             "color": "#2a3f5f"
            },
            "error_y": {
             "color": "#2a3f5f"
            },
            "marker": {
             "line": {
              "color": "#E5ECF6",
              "width": 0.5
             },
             "pattern": {
              "fillmode": "overlay",
              "size": 10,
              "solidity": 0.2
             }
            },
            "type": "bar"
           }
          ],
          "barpolar": [
           {
            "marker": {
             "line": {
              "color": "#E5ECF6",
              "width": 0.5
             },
             "pattern": {
              "fillmode": "overlay",
              "size": 10,
              "solidity": 0.2
             }
            },
            "type": "barpolar"
           }
          ],
          "carpet": [
           {
            "aaxis": {
             "endlinecolor": "#2a3f5f",
             "gridcolor": "white",
             "linecolor": "white",
             "minorgridcolor": "white",
             "startlinecolor": "#2a3f5f"
            },
            "baxis": {
             "endlinecolor": "#2a3f5f",
             "gridcolor": "white",
             "linecolor": "white",
             "minorgridcolor": "white",
             "startlinecolor": "#2a3f5f"
            },
            "type": "carpet"
           }
          ],
          "choropleth": [
           {
            "colorbar": {
             "outlinewidth": 0,
             "ticks": ""
            },
            "type": "choropleth"
           }
          ],
          "contour": [
           {
            "colorbar": {
             "outlinewidth": 0,
             "ticks": ""
            },
            "colorscale": [
             [
              0,
              "#0d0887"
             ],
             [
              0.1111111111111111,
              "#46039f"
             ],
             [
              0.2222222222222222,
              "#7201a8"
             ],
             [
              0.3333333333333333,
              "#9c179e"
             ],
             [
              0.4444444444444444,
              "#bd3786"
             ],
             [
              0.5555555555555556,
              "#d8576b"
             ],
             [
              0.6666666666666666,
              "#ed7953"
             ],
             [
              0.7777777777777778,
              "#fb9f3a"
             ],
             [
              0.8888888888888888,
              "#fdca26"
             ],
             [
              1,
              "#f0f921"
             ]
            ],
            "type": "contour"
           }
          ],
          "contourcarpet": [
           {
            "colorbar": {
             "outlinewidth": 0,
             "ticks": ""
            },
            "type": "contourcarpet"
           }
          ],
          "heatmap": [
           {
            "colorbar": {
             "outlinewidth": 0,
             "ticks": ""
            },
            "colorscale": [
             [
              0,
              "#0d0887"
             ],
             [
              0.1111111111111111,
              "#46039f"
             ],
             [
              0.2222222222222222,
              "#7201a8"
             ],
             [
              0.3333333333333333,
              "#9c179e"
             ],
             [
              0.4444444444444444,
              "#bd3786"
             ],
             [
              0.5555555555555556,
              "#d8576b"
             ],
             [
              0.6666666666666666,
              "#ed7953"
             ],
             [
              0.7777777777777778,
              "#fb9f3a"
             ],
             [
              0.8888888888888888,
              "#fdca26"
             ],
             [
              1,
              "#f0f921"
             ]
            ],
            "type": "heatmap"
           }
          ],
          "heatmapgl": [
           {
            "colorbar": {
             "outlinewidth": 0,
             "ticks": ""
            },
            "colorscale": [
             [
              0,
              "#0d0887"
             ],
             [
              0.1111111111111111,
              "#46039f"
             ],
             [
              0.2222222222222222,
              "#7201a8"
             ],
             [
              0.3333333333333333,
              "#9c179e"
             ],
             [
              0.4444444444444444,
              "#bd3786"
             ],
             [
              0.5555555555555556,
              "#d8576b"
             ],
             [
              0.6666666666666666,
              "#ed7953"
             ],
             [
              0.7777777777777778,
              "#fb9f3a"
             ],
             [
              0.8888888888888888,
              "#fdca26"
             ],
             [
              1,
              "#f0f921"
             ]
            ],
            "type": "heatmapgl"
           }
          ],
          "histogram": [
           {
            "marker": {
             "pattern": {
              "fillmode": "overlay",
              "size": 10,
              "solidity": 0.2
             }
            },
            "type": "histogram"
           }
          ],
          "histogram2d": [
           {
            "colorbar": {
             "outlinewidth": 0,
             "ticks": ""
            },
            "colorscale": [
             [
              0,
              "#0d0887"
             ],
             [
              0.1111111111111111,
              "#46039f"
             ],
             [
              0.2222222222222222,
              "#7201a8"
             ],
             [
              0.3333333333333333,
              "#9c179e"
             ],
             [
              0.4444444444444444,
              "#bd3786"
             ],
             [
              0.5555555555555556,
              "#d8576b"
             ],
             [
              0.6666666666666666,
              "#ed7953"
             ],
             [
              0.7777777777777778,
              "#fb9f3a"
             ],
             [
              0.8888888888888888,
              "#fdca26"
             ],
             [
              1,
              "#f0f921"
             ]
            ],
            "type": "histogram2d"
           }
          ],
          "histogram2dcontour": [
           {
            "colorbar": {
             "outlinewidth": 0,
             "ticks": ""
            },
            "colorscale": [
             [
              0,
              "#0d0887"
             ],
             [
              0.1111111111111111,
              "#46039f"
             ],
             [
              0.2222222222222222,
              "#7201a8"
             ],
             [
              0.3333333333333333,
              "#9c179e"
             ],
             [
              0.4444444444444444,
              "#bd3786"
             ],
             [
              0.5555555555555556,
              "#d8576b"
             ],
             [
              0.6666666666666666,
              "#ed7953"
             ],
             [
              0.7777777777777778,
              "#fb9f3a"
             ],
             [
              0.8888888888888888,
              "#fdca26"
             ],
             [
              1,
              "#f0f921"
             ]
            ],
            "type": "histogram2dcontour"
           }
          ],
          "mesh3d": [
           {
            "colorbar": {
             "outlinewidth": 0,
             "ticks": ""
            },
            "type": "mesh3d"
           }
          ],
          "parcoords": [
           {
            "line": {
             "colorbar": {
              "outlinewidth": 0,
              "ticks": ""
             }
            },
            "type": "parcoords"
           }
          ],
          "pie": [
           {
            "automargin": true,
            "type": "pie"
           }
          ],
          "scatter": [
           {
            "fillpattern": {
             "fillmode": "overlay",
             "size": 10,
             "solidity": 0.2
            },
            "type": "scatter"
           }
          ],
          "scatter3d": [
           {
            "line": {
             "colorbar": {
              "outlinewidth": 0,
              "ticks": ""
             }
            },
            "marker": {
             "colorbar": {
              "outlinewidth": 0,
              "ticks": ""
             }
            },
            "type": "scatter3d"
           }
          ],
          "scattercarpet": [
           {
            "marker": {
             "colorbar": {
              "outlinewidth": 0,
              "ticks": ""
             }
            },
            "type": "scattercarpet"
           }
          ],
          "scattergeo": [
           {
            "marker": {
             "colorbar": {
              "outlinewidth": 0,
              "ticks": ""
             }
            },
            "type": "scattergeo"
           }
          ],
          "scattergl": [
           {
            "marker": {
             "colorbar": {
              "outlinewidth": 0,
              "ticks": ""
             }
            },
            "type": "scattergl"
           }
          ],
          "scattermapbox": [
           {
            "marker": {
             "colorbar": {
              "outlinewidth": 0,
              "ticks": ""
             }
            },
            "type": "scattermapbox"
           }
          ],
          "scatterpolar": [
           {
            "marker": {
             "colorbar": {
              "outlinewidth": 0,
              "ticks": ""
             }
            },
            "type": "scatterpolar"
           }
          ],
          "scatterpolargl": [
           {
            "marker": {
             "colorbar": {
              "outlinewidth": 0,
              "ticks": ""
             }
            },
            "type": "scatterpolargl"
           }
          ],
          "scatterternary": [
           {
            "marker": {
             "colorbar": {
              "outlinewidth": 0,
              "ticks": ""
             }
            },
            "type": "scatterternary"
           }
          ],
          "surface": [
           {
            "colorbar": {
             "outlinewidth": 0,
             "ticks": ""
            },
            "colorscale": [
             [
              0,
              "#0d0887"
             ],
             [
              0.1111111111111111,
              "#46039f"
             ],
             [
              0.2222222222222222,
              "#7201a8"
             ],
             [
              0.3333333333333333,
              "#9c179e"
             ],
             [
              0.4444444444444444,
              "#bd3786"
             ],
             [
              0.5555555555555556,
              "#d8576b"
             ],
             [
              0.6666666666666666,
              "#ed7953"
             ],
             [
              0.7777777777777778,
              "#fb9f3a"
             ],
             [
              0.8888888888888888,
              "#fdca26"
             ],
             [
              1,
              "#f0f921"
             ]
            ],
            "type": "surface"
           }
          ],
          "table": [
           {
            "cells": {
             "fill": {
              "color": "#EBF0F8"
             },
             "line": {
              "color": "white"
             }
            },
            "header": {
             "fill": {
              "color": "#C8D4E3"
             },
             "line": {
              "color": "white"
             }
            },
            "type": "table"
           }
          ]
         },
         "layout": {
          "annotationdefaults": {
           "arrowcolor": "#2a3f5f",
           "arrowhead": 0,
           "arrowwidth": 1
          },
          "autotypenumbers": "strict",
          "coloraxis": {
           "colorbar": {
            "outlinewidth": 0,
            "ticks": ""
           }
          },
          "colorscale": {
           "diverging": [
            [
             0,
             "#8e0152"
            ],
            [
             0.1,
             "#c51b7d"
            ],
            [
             0.2,
             "#de77ae"
            ],
            [
             0.3,
             "#f1b6da"
            ],
            [
             0.4,
             "#fde0ef"
            ],
            [
             0.5,
             "#f7f7f7"
            ],
            [
             0.6,
             "#e6f5d0"
            ],
            [
             0.7,
             "#b8e186"
            ],
            [
             0.8,
             "#7fbc41"
            ],
            [
             0.9,
             "#4d9221"
            ],
            [
             1,
             "#276419"
            ]
           ],
           "sequential": [
            [
             0,
             "#0d0887"
            ],
            [
             0.1111111111111111,
             "#46039f"
            ],
            [
             0.2222222222222222,
             "#7201a8"
            ],
            [
             0.3333333333333333,
             "#9c179e"
            ],
            [
             0.4444444444444444,
             "#bd3786"
            ],
            [
             0.5555555555555556,
             "#d8576b"
            ],
            [
             0.6666666666666666,
             "#ed7953"
            ],
            [
             0.7777777777777778,
             "#fb9f3a"
            ],
            [
             0.8888888888888888,
             "#fdca26"
            ],
            [
             1,
             "#f0f921"
            ]
           ],
           "sequentialminus": [
            [
             0,
             "#0d0887"
            ],
            [
             0.1111111111111111,
             "#46039f"
            ],
            [
             0.2222222222222222,
             "#7201a8"
            ],
            [
             0.3333333333333333,
             "#9c179e"
            ],
            [
             0.4444444444444444,
             "#bd3786"
            ],
            [
             0.5555555555555556,
             "#d8576b"
            ],
            [
             0.6666666666666666,
             "#ed7953"
            ],
            [
             0.7777777777777778,
             "#fb9f3a"
            ],
            [
             0.8888888888888888,
             "#fdca26"
            ],
            [
             1,
             "#f0f921"
            ]
           ]
          },
          "colorway": [
           "#636efa",
           "#EF553B",
           "#00cc96",
           "#ab63fa",
           "#FFA15A",
           "#19d3f3",
           "#FF6692",
           "#B6E880",
           "#FF97FF",
           "#FECB52"
          ],
          "font": {
           "color": "#2a3f5f"
          },
          "geo": {
           "bgcolor": "white",
           "lakecolor": "white",
           "landcolor": "#E5ECF6",
           "showlakes": true,
           "showland": true,
           "subunitcolor": "white"
          },
          "hoverlabel": {
           "align": "left"
          },
          "hovermode": "closest",
          "mapbox": {
           "style": "light"
          },
          "paper_bgcolor": "white",
          "plot_bgcolor": "#E5ECF6",
          "polar": {
           "angularaxis": {
            "gridcolor": "white",
            "linecolor": "white",
            "ticks": ""
           },
           "bgcolor": "#E5ECF6",
           "radialaxis": {
            "gridcolor": "white",
            "linecolor": "white",
            "ticks": ""
           }
          },
          "scene": {
           "xaxis": {
            "backgroundcolor": "#E5ECF6",
            "gridcolor": "white",
            "gridwidth": 2,
            "linecolor": "white",
            "showbackground": true,
            "ticks": "",
            "zerolinecolor": "white"
           },
           "yaxis": {
            "backgroundcolor": "#E5ECF6",
            "gridcolor": "white",
            "gridwidth": 2,
            "linecolor": "white",
            "showbackground": true,
            "ticks": "",
            "zerolinecolor": "white"
           },
           "zaxis": {
            "backgroundcolor": "#E5ECF6",
            "gridcolor": "white",
            "gridwidth": 2,
            "linecolor": "white",
            "showbackground": true,
            "ticks": "",
            "zerolinecolor": "white"
           }
          },
          "shapedefaults": {
           "line": {
            "color": "#2a3f5f"
           }
          },
          "ternary": {
           "aaxis": {
            "gridcolor": "white",
            "linecolor": "white",
            "ticks": ""
           },
           "baxis": {
            "gridcolor": "white",
            "linecolor": "white",
            "ticks": ""
           },
           "bgcolor": "#E5ECF6",
           "caxis": {
            "gridcolor": "white",
            "linecolor": "white",
            "ticks": ""
           }
          },
          "title": {
           "x": 0.05
          },
          "xaxis": {
           "automargin": true,
           "gridcolor": "white",
           "linecolor": "white",
           "ticks": "",
           "title": {
            "standoff": 15
           },
           "zerolinecolor": "white",
           "zerolinewidth": 2
          },
          "yaxis": {
           "automargin": true,
           "gridcolor": "white",
           "linecolor": "white",
           "ticks": "",
           "title": {
            "standoff": 15
           },
           "zerolinecolor": "white",
           "zerolinewidth": 2
          }
         }
        },
        "title": {
         "text": "Optimization History Plot"
        },
        "xaxis": {
         "title": {
          "text": "Trial"
         }
        },
        "yaxis": {
         "title": {
          "text": "Objective Value"
         }
        }
       }
      },
      "text/html": [
       "<div>                            <div id=\"d3985e05-43fd-4438-b4ba-9d674a09e1c0\" class=\"plotly-graph-div\" style=\"height:525px; width:100%;\"></div>            <script type=\"text/javascript\">                require([\"plotly\"], function(Plotly) {                    window.PLOTLYENV=window.PLOTLYENV || {};                                    if (document.getElementById(\"d3985e05-43fd-4438-b4ba-9d674a09e1c0\")) {                    Plotly.newPlot(                        \"d3985e05-43fd-4438-b4ba-9d674a09e1c0\",                        [{\"mode\":\"markers\",\"name\":\"Objective Value\",\"x\":[0,1,2,3,4,5,6,7,8,9,10,11,12,13,14],\"y\":[5.547287139529821,2.8578460071992327,2.67450419944887,4.6401944963858766,5.428123062535759,3.031197670735925,4.641225966488734,3.2032354644278755,3.328710758604803,4.325330503096641,2.5323240495757293,2.5332302489406335,2.5322219283162237,2.529736924570928,2.6349925025631045],\"type\":\"scatter\"},{\"mode\":\"lines\",\"name\":\"Best Value\",\"x\":[0,1,2,3,4,5,6,7,8,9,10,11,12,13,14],\"y\":[5.547287139529821,2.8578460071992327,2.67450419944887,2.67450419944887,2.67450419944887,2.67450419944887,2.67450419944887,2.67450419944887,2.67450419944887,2.67450419944887,2.5323240495757293,2.5323240495757293,2.5322219283162237,2.529736924570928,2.529736924570928],\"type\":\"scatter\"},{\"marker\":{\"color\":\"#cccccc\"},\"mode\":\"markers\",\"name\":\"Infeasible Trial\",\"showlegend\":false,\"x\":[],\"y\":[],\"type\":\"scatter\"}],                        {\"title\":{\"text\":\"Optimization History Plot\"},\"xaxis\":{\"title\":{\"text\":\"Trial\"}},\"yaxis\":{\"title\":{\"text\":\"Objective Value\"}},\"template\":{\"data\":{\"histogram2dcontour\":[{\"type\":\"histogram2dcontour\",\"colorbar\":{\"outlinewidth\":0,\"ticks\":\"\"},\"colorscale\":[[0.0,\"#0d0887\"],[0.1111111111111111,\"#46039f\"],[0.2222222222222222,\"#7201a8\"],[0.3333333333333333,\"#9c179e\"],[0.4444444444444444,\"#bd3786\"],[0.5555555555555556,\"#d8576b\"],[0.6666666666666666,\"#ed7953\"],[0.7777777777777778,\"#fb9f3a\"],[0.8888888888888888,\"#fdca26\"],[1.0,\"#f0f921\"]]}],\"choropleth\":[{\"type\":\"choropleth\",\"colorbar\":{\"outlinewidth\":0,\"ticks\":\"\"}}],\"histogram2d\":[{\"type\":\"histogram2d\",\"colorbar\":{\"outlinewidth\":0,\"ticks\":\"\"},\"colorscale\":[[0.0,\"#0d0887\"],[0.1111111111111111,\"#46039f\"],[0.2222222222222222,\"#7201a8\"],[0.3333333333333333,\"#9c179e\"],[0.4444444444444444,\"#bd3786\"],[0.5555555555555556,\"#d8576b\"],[0.6666666666666666,\"#ed7953\"],[0.7777777777777778,\"#fb9f3a\"],[0.8888888888888888,\"#fdca26\"],[1.0,\"#f0f921\"]]}],\"heatmap\":[{\"type\":\"heatmap\",\"colorbar\":{\"outlinewidth\":0,\"ticks\":\"\"},\"colorscale\":[[0.0,\"#0d0887\"],[0.1111111111111111,\"#46039f\"],[0.2222222222222222,\"#7201a8\"],[0.3333333333333333,\"#9c179e\"],[0.4444444444444444,\"#bd3786\"],[0.5555555555555556,\"#d8576b\"],[0.6666666666666666,\"#ed7953\"],[0.7777777777777778,\"#fb9f3a\"],[0.8888888888888888,\"#fdca26\"],[1.0,\"#f0f921\"]]}],\"heatmapgl\":[{\"type\":\"heatmapgl\",\"colorbar\":{\"outlinewidth\":0,\"ticks\":\"\"},\"colorscale\":[[0.0,\"#0d0887\"],[0.1111111111111111,\"#46039f\"],[0.2222222222222222,\"#7201a8\"],[0.3333333333333333,\"#9c179e\"],[0.4444444444444444,\"#bd3786\"],[0.5555555555555556,\"#d8576b\"],[0.6666666666666666,\"#ed7953\"],[0.7777777777777778,\"#fb9f3a\"],[0.8888888888888888,\"#fdca26\"],[1.0,\"#f0f921\"]]}],\"contourcarpet\":[{\"type\":\"contourcarpet\",\"colorbar\":{\"outlinewidth\":0,\"ticks\":\"\"}}],\"contour\":[{\"type\":\"contour\",\"colorbar\":{\"outlinewidth\":0,\"ticks\":\"\"},\"colorscale\":[[0.0,\"#0d0887\"],[0.1111111111111111,\"#46039f\"],[0.2222222222222222,\"#7201a8\"],[0.3333333333333333,\"#9c179e\"],[0.4444444444444444,\"#bd3786\"],[0.5555555555555556,\"#d8576b\"],[0.6666666666666666,\"#ed7953\"],[0.7777777777777778,\"#fb9f3a\"],[0.8888888888888888,\"#fdca26\"],[1.0,\"#f0f921\"]]}],\"surface\":[{\"type\":\"surface\",\"colorbar\":{\"outlinewidth\":0,\"ticks\":\"\"},\"colorscale\":[[0.0,\"#0d0887\"],[0.1111111111111111,\"#46039f\"],[0.2222222222222222,\"#7201a8\"],[0.3333333333333333,\"#9c179e\"],[0.4444444444444444,\"#bd3786\"],[0.5555555555555556,\"#d8576b\"],[0.6666666666666666,\"#ed7953\"],[0.7777777777777778,\"#fb9f3a\"],[0.8888888888888888,\"#fdca26\"],[1.0,\"#f0f921\"]]}],\"mesh3d\":[{\"type\":\"mesh3d\",\"colorbar\":{\"outlinewidth\":0,\"ticks\":\"\"}}],\"scatter\":[{\"fillpattern\":{\"fillmode\":\"overlay\",\"size\":10,\"solidity\":0.2},\"type\":\"scatter\"}],\"parcoords\":[{\"type\":\"parcoords\",\"line\":{\"colorbar\":{\"outlinewidth\":0,\"ticks\":\"\"}}}],\"scatterpolargl\":[{\"type\":\"scatterpolargl\",\"marker\":{\"colorbar\":{\"outlinewidth\":0,\"ticks\":\"\"}}}],\"bar\":[{\"error_x\":{\"color\":\"#2a3f5f\"},\"error_y\":{\"color\":\"#2a3f5f\"},\"marker\":{\"line\":{\"color\":\"#E5ECF6\",\"width\":0.5},\"pattern\":{\"fillmode\":\"overlay\",\"size\":10,\"solidity\":0.2}},\"type\":\"bar\"}],\"scattergeo\":[{\"type\":\"scattergeo\",\"marker\":{\"colorbar\":{\"outlinewidth\":0,\"ticks\":\"\"}}}],\"scatterpolar\":[{\"type\":\"scatterpolar\",\"marker\":{\"colorbar\":{\"outlinewidth\":0,\"ticks\":\"\"}}}],\"histogram\":[{\"marker\":{\"pattern\":{\"fillmode\":\"overlay\",\"size\":10,\"solidity\":0.2}},\"type\":\"histogram\"}],\"scattergl\":[{\"type\":\"scattergl\",\"marker\":{\"colorbar\":{\"outlinewidth\":0,\"ticks\":\"\"}}}],\"scatter3d\":[{\"type\":\"scatter3d\",\"line\":{\"colorbar\":{\"outlinewidth\":0,\"ticks\":\"\"}},\"marker\":{\"colorbar\":{\"outlinewidth\":0,\"ticks\":\"\"}}}],\"scattermapbox\":[{\"type\":\"scattermapbox\",\"marker\":{\"colorbar\":{\"outlinewidth\":0,\"ticks\":\"\"}}}],\"scatterternary\":[{\"type\":\"scatterternary\",\"marker\":{\"colorbar\":{\"outlinewidth\":0,\"ticks\":\"\"}}}],\"scattercarpet\":[{\"type\":\"scattercarpet\",\"marker\":{\"colorbar\":{\"outlinewidth\":0,\"ticks\":\"\"}}}],\"carpet\":[{\"aaxis\":{\"endlinecolor\":\"#2a3f5f\",\"gridcolor\":\"white\",\"linecolor\":\"white\",\"minorgridcolor\":\"white\",\"startlinecolor\":\"#2a3f5f\"},\"baxis\":{\"endlinecolor\":\"#2a3f5f\",\"gridcolor\":\"white\",\"linecolor\":\"white\",\"minorgridcolor\":\"white\",\"startlinecolor\":\"#2a3f5f\"},\"type\":\"carpet\"}],\"table\":[{\"cells\":{\"fill\":{\"color\":\"#EBF0F8\"},\"line\":{\"color\":\"white\"}},\"header\":{\"fill\":{\"color\":\"#C8D4E3\"},\"line\":{\"color\":\"white\"}},\"type\":\"table\"}],\"barpolar\":[{\"marker\":{\"line\":{\"color\":\"#E5ECF6\",\"width\":0.5},\"pattern\":{\"fillmode\":\"overlay\",\"size\":10,\"solidity\":0.2}},\"type\":\"barpolar\"}],\"pie\":[{\"automargin\":true,\"type\":\"pie\"}]},\"layout\":{\"autotypenumbers\":\"strict\",\"colorway\":[\"#636efa\",\"#EF553B\",\"#00cc96\",\"#ab63fa\",\"#FFA15A\",\"#19d3f3\",\"#FF6692\",\"#B6E880\",\"#FF97FF\",\"#FECB52\"],\"font\":{\"color\":\"#2a3f5f\"},\"hovermode\":\"closest\",\"hoverlabel\":{\"align\":\"left\"},\"paper_bgcolor\":\"white\",\"plot_bgcolor\":\"#E5ECF6\",\"polar\":{\"bgcolor\":\"#E5ECF6\",\"angularaxis\":{\"gridcolor\":\"white\",\"linecolor\":\"white\",\"ticks\":\"\"},\"radialaxis\":{\"gridcolor\":\"white\",\"linecolor\":\"white\",\"ticks\":\"\"}},\"ternary\":{\"bgcolor\":\"#E5ECF6\",\"aaxis\":{\"gridcolor\":\"white\",\"linecolor\":\"white\",\"ticks\":\"\"},\"baxis\":{\"gridcolor\":\"white\",\"linecolor\":\"white\",\"ticks\":\"\"},\"caxis\":{\"gridcolor\":\"white\",\"linecolor\":\"white\",\"ticks\":\"\"}},\"coloraxis\":{\"colorbar\":{\"outlinewidth\":0,\"ticks\":\"\"}},\"colorscale\":{\"sequential\":[[0.0,\"#0d0887\"],[0.1111111111111111,\"#46039f\"],[0.2222222222222222,\"#7201a8\"],[0.3333333333333333,\"#9c179e\"],[0.4444444444444444,\"#bd3786\"],[0.5555555555555556,\"#d8576b\"],[0.6666666666666666,\"#ed7953\"],[0.7777777777777778,\"#fb9f3a\"],[0.8888888888888888,\"#fdca26\"],[1.0,\"#f0f921\"]],\"sequentialminus\":[[0.0,\"#0d0887\"],[0.1111111111111111,\"#46039f\"],[0.2222222222222222,\"#7201a8\"],[0.3333333333333333,\"#9c179e\"],[0.4444444444444444,\"#bd3786\"],[0.5555555555555556,\"#d8576b\"],[0.6666666666666666,\"#ed7953\"],[0.7777777777777778,\"#fb9f3a\"],[0.8888888888888888,\"#fdca26\"],[1.0,\"#f0f921\"]],\"diverging\":[[0,\"#8e0152\"],[0.1,\"#c51b7d\"],[0.2,\"#de77ae\"],[0.3,\"#f1b6da\"],[0.4,\"#fde0ef\"],[0.5,\"#f7f7f7\"],[0.6,\"#e6f5d0\"],[0.7,\"#b8e186\"],[0.8,\"#7fbc41\"],[0.9,\"#4d9221\"],[1,\"#276419\"]]},\"xaxis\":{\"gridcolor\":\"white\",\"linecolor\":\"white\",\"ticks\":\"\",\"title\":{\"standoff\":15},\"zerolinecolor\":\"white\",\"automargin\":true,\"zerolinewidth\":2},\"yaxis\":{\"gridcolor\":\"white\",\"linecolor\":\"white\",\"ticks\":\"\",\"title\":{\"standoff\":15},\"zerolinecolor\":\"white\",\"automargin\":true,\"zerolinewidth\":2},\"scene\":{\"xaxis\":{\"backgroundcolor\":\"#E5ECF6\",\"gridcolor\":\"white\",\"linecolor\":\"white\",\"showbackground\":true,\"ticks\":\"\",\"zerolinecolor\":\"white\",\"gridwidth\":2},\"yaxis\":{\"backgroundcolor\":\"#E5ECF6\",\"gridcolor\":\"white\",\"linecolor\":\"white\",\"showbackground\":true,\"ticks\":\"\",\"zerolinecolor\":\"white\",\"gridwidth\":2},\"zaxis\":{\"backgroundcolor\":\"#E5ECF6\",\"gridcolor\":\"white\",\"linecolor\":\"white\",\"showbackground\":true,\"ticks\":\"\",\"zerolinecolor\":\"white\",\"gridwidth\":2}},\"shapedefaults\":{\"line\":{\"color\":\"#2a3f5f\"}},\"annotationdefaults\":{\"arrowcolor\":\"#2a3f5f\",\"arrowhead\":0,\"arrowwidth\":1},\"geo\":{\"bgcolor\":\"white\",\"landcolor\":\"#E5ECF6\",\"subunitcolor\":\"white\",\"showland\":true,\"showlakes\":true,\"lakecolor\":\"white\"},\"title\":{\"x\":0.05},\"mapbox\":{\"style\":\"light\"}}}},                        {\"responsive\": true}                    ).then(function(){\n",
       "                            \n",
       "var gd = document.getElementById('d3985e05-43fd-4438-b4ba-9d674a09e1c0');\n",
       "var x = new MutationObserver(function (mutations, observer) {{\n",
       "        var display = window.getComputedStyle(gd).display;\n",
       "        if (!display || display === 'none') {{\n",
       "            console.log([gd, 'removed!']);\n",
       "            Plotly.purge(gd);\n",
       "            observer.disconnect();\n",
       "        }}\n",
       "}});\n",
       "\n",
       "// Listen for the removal of the full notebook cells\n",
       "var notebookContainer = gd.closest('#notebook-container');\n",
       "if (notebookContainer) {{\n",
       "    x.observe(notebookContainer, {childList: true});\n",
       "}}\n",
       "\n",
       "// Listen for the clearing of the current output cell\n",
       "var outputEl = gd.closest('.output');\n",
       "if (outputEl) {{\n",
       "    x.observe(outputEl, {childList: true});\n",
       "}}\n",
       "\n",
       "                        })                };                });            </script>        </div>"
      ]
     },
     "metadata": {},
     "output_type": "display_data"
    },
    {
     "data": {
      "application/vnd.plotly.v1+json": {
       "config": {
        "plotlyServerURL": "https://plot.ly"
       },
       "data": [
        {
         "cliponaxis": false,
         "hovertemplate": [
          "n_estimators (IntDistribution): 0.011560793696765123<extra></extra>",
          "min_samples_leaf (IntDistribution): 0.029950224266918176<extra></extra>",
          "min_samples_split (IntDistribution): 0.05249503683529149<extra></extra>",
          "max_features (CategoricalDistribution): 0.055430771159484325<extra></extra>",
          "max_depth (IntDistribution): 0.8505631740415409<extra></extra>"
         ],
         "name": "Objective Value",
         "orientation": "h",
         "text": [
          "0.01",
          "0.03",
          "0.05",
          "0.06",
          "0.85"
         ],
         "textposition": "outside",
         "type": "bar",
         "x": [
          0.011560793696765123,
          0.029950224266918176,
          0.05249503683529149,
          0.055430771159484325,
          0.8505631740415409
         ],
         "y": [
          "n_estimators",
          "min_samples_leaf",
          "min_samples_split",
          "max_features",
          "max_depth"
         ]
        }
       ],
       "layout": {
        "template": {
         "data": {
          "bar": [
           {
            "error_x": {
             "color": "#2a3f5f"
            },
            "error_y": {
             "color": "#2a3f5f"
            },
            "marker": {
             "line": {
              "color": "#E5ECF6",
              "width": 0.5
             },
             "pattern": {
              "fillmode": "overlay",
              "size": 10,
              "solidity": 0.2
             }
            },
            "type": "bar"
           }
          ],
          "barpolar": [
           {
            "marker": {
             "line": {
              "color": "#E5ECF6",
              "width": 0.5
             },
             "pattern": {
              "fillmode": "overlay",
              "size": 10,
              "solidity": 0.2
             }
            },
            "type": "barpolar"
           }
          ],
          "carpet": [
           {
            "aaxis": {
             "endlinecolor": "#2a3f5f",
             "gridcolor": "white",
             "linecolor": "white",
             "minorgridcolor": "white",
             "startlinecolor": "#2a3f5f"
            },
            "baxis": {
             "endlinecolor": "#2a3f5f",
             "gridcolor": "white",
             "linecolor": "white",
             "minorgridcolor": "white",
             "startlinecolor": "#2a3f5f"
            },
            "type": "carpet"
           }
          ],
          "choropleth": [
           {
            "colorbar": {
             "outlinewidth": 0,
             "ticks": ""
            },
            "type": "choropleth"
           }
          ],
          "contour": [
           {
            "colorbar": {
             "outlinewidth": 0,
             "ticks": ""
            },
            "colorscale": [
             [
              0,
              "#0d0887"
             ],
             [
              0.1111111111111111,
              "#46039f"
             ],
             [
              0.2222222222222222,
              "#7201a8"
             ],
             [
              0.3333333333333333,
              "#9c179e"
             ],
             [
              0.4444444444444444,
              "#bd3786"
             ],
             [
              0.5555555555555556,
              "#d8576b"
             ],
             [
              0.6666666666666666,
              "#ed7953"
             ],
             [
              0.7777777777777778,
              "#fb9f3a"
             ],
             [
              0.8888888888888888,
              "#fdca26"
             ],
             [
              1,
              "#f0f921"
             ]
            ],
            "type": "contour"
           }
          ],
          "contourcarpet": [
           {
            "colorbar": {
             "outlinewidth": 0,
             "ticks": ""
            },
            "type": "contourcarpet"
           }
          ],
          "heatmap": [
           {
            "colorbar": {
             "outlinewidth": 0,
             "ticks": ""
            },
            "colorscale": [
             [
              0,
              "#0d0887"
             ],
             [
              0.1111111111111111,
              "#46039f"
             ],
             [
              0.2222222222222222,
              "#7201a8"
             ],
             [
              0.3333333333333333,
              "#9c179e"
             ],
             [
              0.4444444444444444,
              "#bd3786"
             ],
             [
              0.5555555555555556,
              "#d8576b"
             ],
             [
              0.6666666666666666,
              "#ed7953"
             ],
             [
              0.7777777777777778,
              "#fb9f3a"
             ],
             [
              0.8888888888888888,
              "#fdca26"
             ],
             [
              1,
              "#f0f921"
             ]
            ],
            "type": "heatmap"
           }
          ],
          "heatmapgl": [
           {
            "colorbar": {
             "outlinewidth": 0,
             "ticks": ""
            },
            "colorscale": [
             [
              0,
              "#0d0887"
             ],
             [
              0.1111111111111111,
              "#46039f"
             ],
             [
              0.2222222222222222,
              "#7201a8"
             ],
             [
              0.3333333333333333,
              "#9c179e"
             ],
             [
              0.4444444444444444,
              "#bd3786"
             ],
             [
              0.5555555555555556,
              "#d8576b"
             ],
             [
              0.6666666666666666,
              "#ed7953"
             ],
             [
              0.7777777777777778,
              "#fb9f3a"
             ],
             [
              0.8888888888888888,
              "#fdca26"
             ],
             [
              1,
              "#f0f921"
             ]
            ],
            "type": "heatmapgl"
           }
          ],
          "histogram": [
           {
            "marker": {
             "pattern": {
              "fillmode": "overlay",
              "size": 10,
              "solidity": 0.2
             }
            },
            "type": "histogram"
           }
          ],
          "histogram2d": [
           {
            "colorbar": {
             "outlinewidth": 0,
             "ticks": ""
            },
            "colorscale": [
             [
              0,
              "#0d0887"
             ],
             [
              0.1111111111111111,
              "#46039f"
             ],
             [
              0.2222222222222222,
              "#7201a8"
             ],
             [
              0.3333333333333333,
              "#9c179e"
             ],
             [
              0.4444444444444444,
              "#bd3786"
             ],
             [
              0.5555555555555556,
              "#d8576b"
             ],
             [
              0.6666666666666666,
              "#ed7953"
             ],
             [
              0.7777777777777778,
              "#fb9f3a"
             ],
             [
              0.8888888888888888,
              "#fdca26"
             ],
             [
              1,
              "#f0f921"
             ]
            ],
            "type": "histogram2d"
           }
          ],
          "histogram2dcontour": [
           {
            "colorbar": {
             "outlinewidth": 0,
             "ticks": ""
            },
            "colorscale": [
             [
              0,
              "#0d0887"
             ],
             [
              0.1111111111111111,
              "#46039f"
             ],
             [
              0.2222222222222222,
              "#7201a8"
             ],
             [
              0.3333333333333333,
              "#9c179e"
             ],
             [
              0.4444444444444444,
              "#bd3786"
             ],
             [
              0.5555555555555556,
              "#d8576b"
             ],
             [
              0.6666666666666666,
              "#ed7953"
             ],
             [
              0.7777777777777778,
              "#fb9f3a"
             ],
             [
              0.8888888888888888,
              "#fdca26"
             ],
             [
              1,
              "#f0f921"
             ]
            ],
            "type": "histogram2dcontour"
           }
          ],
          "mesh3d": [
           {
            "colorbar": {
             "outlinewidth": 0,
             "ticks": ""
            },
            "type": "mesh3d"
           }
          ],
          "parcoords": [
           {
            "line": {
             "colorbar": {
              "outlinewidth": 0,
              "ticks": ""
             }
            },
            "type": "parcoords"
           }
          ],
          "pie": [
           {
            "automargin": true,
            "type": "pie"
           }
          ],
          "scatter": [
           {
            "fillpattern": {
             "fillmode": "overlay",
             "size": 10,
             "solidity": 0.2
            },
            "type": "scatter"
           }
          ],
          "scatter3d": [
           {
            "line": {
             "colorbar": {
              "outlinewidth": 0,
              "ticks": ""
             }
            },
            "marker": {
             "colorbar": {
              "outlinewidth": 0,
              "ticks": ""
             }
            },
            "type": "scatter3d"
           }
          ],
          "scattercarpet": [
           {
            "marker": {
             "colorbar": {
              "outlinewidth": 0,
              "ticks": ""
             }
            },
            "type": "scattercarpet"
           }
          ],
          "scattergeo": [
           {
            "marker": {
             "colorbar": {
              "outlinewidth": 0,
              "ticks": ""
             }
            },
            "type": "scattergeo"
           }
          ],
          "scattergl": [
           {
            "marker": {
             "colorbar": {
              "outlinewidth": 0,
              "ticks": ""
             }
            },
            "type": "scattergl"
           }
          ],
          "scattermapbox": [
           {
            "marker": {
             "colorbar": {
              "outlinewidth": 0,
              "ticks": ""
             }
            },
            "type": "scattermapbox"
           }
          ],
          "scatterpolar": [
           {
            "marker": {
             "colorbar": {
              "outlinewidth": 0,
              "ticks": ""
             }
            },
            "type": "scatterpolar"
           }
          ],
          "scatterpolargl": [
           {
            "marker": {
             "colorbar": {
              "outlinewidth": 0,
              "ticks": ""
             }
            },
            "type": "scatterpolargl"
           }
          ],
          "scatterternary": [
           {
            "marker": {
             "colorbar": {
              "outlinewidth": 0,
              "ticks": ""
             }
            },
            "type": "scatterternary"
           }
          ],
          "surface": [
           {
            "colorbar": {
             "outlinewidth": 0,
             "ticks": ""
            },
            "colorscale": [
             [
              0,
              "#0d0887"
             ],
             [
              0.1111111111111111,
              "#46039f"
             ],
             [
              0.2222222222222222,
              "#7201a8"
             ],
             [
              0.3333333333333333,
              "#9c179e"
             ],
             [
              0.4444444444444444,
              "#bd3786"
             ],
             [
              0.5555555555555556,
              "#d8576b"
             ],
             [
              0.6666666666666666,
              "#ed7953"
             ],
             [
              0.7777777777777778,
              "#fb9f3a"
             ],
             [
              0.8888888888888888,
              "#fdca26"
             ],
             [
              1,
              "#f0f921"
             ]
            ],
            "type": "surface"
           }
          ],
          "table": [
           {
            "cells": {
             "fill": {
              "color": "#EBF0F8"
             },
             "line": {
              "color": "white"
             }
            },
            "header": {
             "fill": {
              "color": "#C8D4E3"
             },
             "line": {
              "color": "white"
             }
            },
            "type": "table"
           }
          ]
         },
         "layout": {
          "annotationdefaults": {
           "arrowcolor": "#2a3f5f",
           "arrowhead": 0,
           "arrowwidth": 1
          },
          "autotypenumbers": "strict",
          "coloraxis": {
           "colorbar": {
            "outlinewidth": 0,
            "ticks": ""
           }
          },
          "colorscale": {
           "diverging": [
            [
             0,
             "#8e0152"
            ],
            [
             0.1,
             "#c51b7d"
            ],
            [
             0.2,
             "#de77ae"
            ],
            [
             0.3,
             "#f1b6da"
            ],
            [
             0.4,
             "#fde0ef"
            ],
            [
             0.5,
             "#f7f7f7"
            ],
            [
             0.6,
             "#e6f5d0"
            ],
            [
             0.7,
             "#b8e186"
            ],
            [
             0.8,
             "#7fbc41"
            ],
            [
             0.9,
             "#4d9221"
            ],
            [
             1,
             "#276419"
            ]
           ],
           "sequential": [
            [
             0,
             "#0d0887"
            ],
            [
             0.1111111111111111,
             "#46039f"
            ],
            [
             0.2222222222222222,
             "#7201a8"
            ],
            [
             0.3333333333333333,
             "#9c179e"
            ],
            [
             0.4444444444444444,
             "#bd3786"
            ],
            [
             0.5555555555555556,
             "#d8576b"
            ],
            [
             0.6666666666666666,
             "#ed7953"
            ],
            [
             0.7777777777777778,
             "#fb9f3a"
            ],
            [
             0.8888888888888888,
             "#fdca26"
            ],
            [
             1,
             "#f0f921"
            ]
           ],
           "sequentialminus": [
            [
             0,
             "#0d0887"
            ],
            [
             0.1111111111111111,
             "#46039f"
            ],
            [
             0.2222222222222222,
             "#7201a8"
            ],
            [
             0.3333333333333333,
             "#9c179e"
            ],
            [
             0.4444444444444444,
             "#bd3786"
            ],
            [
             0.5555555555555556,
             "#d8576b"
            ],
            [
             0.6666666666666666,
             "#ed7953"
            ],
            [
             0.7777777777777778,
             "#fb9f3a"
            ],
            [
             0.8888888888888888,
             "#fdca26"
            ],
            [
             1,
             "#f0f921"
            ]
           ]
          },
          "colorway": [
           "#636efa",
           "#EF553B",
           "#00cc96",
           "#ab63fa",
           "#FFA15A",
           "#19d3f3",
           "#FF6692",
           "#B6E880",
           "#FF97FF",
           "#FECB52"
          ],
          "font": {
           "color": "#2a3f5f"
          },
          "geo": {
           "bgcolor": "white",
           "lakecolor": "white",
           "landcolor": "#E5ECF6",
           "showlakes": true,
           "showland": true,
           "subunitcolor": "white"
          },
          "hoverlabel": {
           "align": "left"
          },
          "hovermode": "closest",
          "mapbox": {
           "style": "light"
          },
          "paper_bgcolor": "white",
          "plot_bgcolor": "#E5ECF6",
          "polar": {
           "angularaxis": {
            "gridcolor": "white",
            "linecolor": "white",
            "ticks": ""
           },
           "bgcolor": "#E5ECF6",
           "radialaxis": {
            "gridcolor": "white",
            "linecolor": "white",
            "ticks": ""
           }
          },
          "scene": {
           "xaxis": {
            "backgroundcolor": "#E5ECF6",
            "gridcolor": "white",
            "gridwidth": 2,
            "linecolor": "white",
            "showbackground": true,
            "ticks": "",
            "zerolinecolor": "white"
           },
           "yaxis": {
            "backgroundcolor": "#E5ECF6",
            "gridcolor": "white",
            "gridwidth": 2,
            "linecolor": "white",
            "showbackground": true,
            "ticks": "",
            "zerolinecolor": "white"
           },
           "zaxis": {
            "backgroundcolor": "#E5ECF6",
            "gridcolor": "white",
            "gridwidth": 2,
            "linecolor": "white",
            "showbackground": true,
            "ticks": "",
            "zerolinecolor": "white"
           }
          },
          "shapedefaults": {
           "line": {
            "color": "#2a3f5f"
           }
          },
          "ternary": {
           "aaxis": {
            "gridcolor": "white",
            "linecolor": "white",
            "ticks": ""
           },
           "baxis": {
            "gridcolor": "white",
            "linecolor": "white",
            "ticks": ""
           },
           "bgcolor": "#E5ECF6",
           "caxis": {
            "gridcolor": "white",
            "linecolor": "white",
            "ticks": ""
           }
          },
          "title": {
           "x": 0.05
          },
          "xaxis": {
           "automargin": true,
           "gridcolor": "white",
           "linecolor": "white",
           "ticks": "",
           "title": {
            "standoff": 15
           },
           "zerolinecolor": "white",
           "zerolinewidth": 2
          },
          "yaxis": {
           "automargin": true,
           "gridcolor": "white",
           "linecolor": "white",
           "ticks": "",
           "title": {
            "standoff": 15
           },
           "zerolinecolor": "white",
           "zerolinewidth": 2
          }
         }
        },
        "title": {
         "text": "Hyperparameter Importances"
        },
        "xaxis": {
         "title": {
          "text": "Hyperparameter Importance"
         }
        },
        "yaxis": {
         "title": {
          "text": "Hyperparameter"
         }
        }
       }
      },
      "text/html": [
       "<div>                            <div id=\"6df0586a-934e-4a23-a5b9-a1f7ee58252f\" class=\"plotly-graph-div\" style=\"height:525px; width:100%;\"></div>            <script type=\"text/javascript\">                require([\"plotly\"], function(Plotly) {                    window.PLOTLYENV=window.PLOTLYENV || {};                                    if (document.getElementById(\"6df0586a-934e-4a23-a5b9-a1f7ee58252f\")) {                    Plotly.newPlot(                        \"6df0586a-934e-4a23-a5b9-a1f7ee58252f\",                        [{\"cliponaxis\":false,\"hovertemplate\":[\"n_estimators (IntDistribution): 0.011560793696765123\\u003cextra\\u003e\\u003c\\u002fextra\\u003e\",\"min_samples_leaf (IntDistribution): 0.029950224266918176\\u003cextra\\u003e\\u003c\\u002fextra\\u003e\",\"min_samples_split (IntDistribution): 0.05249503683529149\\u003cextra\\u003e\\u003c\\u002fextra\\u003e\",\"max_features (CategoricalDistribution): 0.055430771159484325\\u003cextra\\u003e\\u003c\\u002fextra\\u003e\",\"max_depth (IntDistribution): 0.8505631740415409\\u003cextra\\u003e\\u003c\\u002fextra\\u003e\"],\"name\":\"Objective Value\",\"orientation\":\"h\",\"text\":[\"0.01\",\"0.03\",\"0.05\",\"0.06\",\"0.85\"],\"textposition\":\"outside\",\"x\":[0.011560793696765123,0.029950224266918176,0.05249503683529149,0.055430771159484325,0.8505631740415409],\"y\":[\"n_estimators\",\"min_samples_leaf\",\"min_samples_split\",\"max_features\",\"max_depth\"],\"type\":\"bar\"}],                        {\"title\":{\"text\":\"Hyperparameter Importances\"},\"xaxis\":{\"title\":{\"text\":\"Hyperparameter Importance\"}},\"yaxis\":{\"title\":{\"text\":\"Hyperparameter\"}},\"template\":{\"data\":{\"histogram2dcontour\":[{\"type\":\"histogram2dcontour\",\"colorbar\":{\"outlinewidth\":0,\"ticks\":\"\"},\"colorscale\":[[0.0,\"#0d0887\"],[0.1111111111111111,\"#46039f\"],[0.2222222222222222,\"#7201a8\"],[0.3333333333333333,\"#9c179e\"],[0.4444444444444444,\"#bd3786\"],[0.5555555555555556,\"#d8576b\"],[0.6666666666666666,\"#ed7953\"],[0.7777777777777778,\"#fb9f3a\"],[0.8888888888888888,\"#fdca26\"],[1.0,\"#f0f921\"]]}],\"choropleth\":[{\"type\":\"choropleth\",\"colorbar\":{\"outlinewidth\":0,\"ticks\":\"\"}}],\"histogram2d\":[{\"type\":\"histogram2d\",\"colorbar\":{\"outlinewidth\":0,\"ticks\":\"\"},\"colorscale\":[[0.0,\"#0d0887\"],[0.1111111111111111,\"#46039f\"],[0.2222222222222222,\"#7201a8\"],[0.3333333333333333,\"#9c179e\"],[0.4444444444444444,\"#bd3786\"],[0.5555555555555556,\"#d8576b\"],[0.6666666666666666,\"#ed7953\"],[0.7777777777777778,\"#fb9f3a\"],[0.8888888888888888,\"#fdca26\"],[1.0,\"#f0f921\"]]}],\"heatmap\":[{\"type\":\"heatmap\",\"colorbar\":{\"outlinewidth\":0,\"ticks\":\"\"},\"colorscale\":[[0.0,\"#0d0887\"],[0.1111111111111111,\"#46039f\"],[0.2222222222222222,\"#7201a8\"],[0.3333333333333333,\"#9c179e\"],[0.4444444444444444,\"#bd3786\"],[0.5555555555555556,\"#d8576b\"],[0.6666666666666666,\"#ed7953\"],[0.7777777777777778,\"#fb9f3a\"],[0.8888888888888888,\"#fdca26\"],[1.0,\"#f0f921\"]]}],\"heatmapgl\":[{\"type\":\"heatmapgl\",\"colorbar\":{\"outlinewidth\":0,\"ticks\":\"\"},\"colorscale\":[[0.0,\"#0d0887\"],[0.1111111111111111,\"#46039f\"],[0.2222222222222222,\"#7201a8\"],[0.3333333333333333,\"#9c179e\"],[0.4444444444444444,\"#bd3786\"],[0.5555555555555556,\"#d8576b\"],[0.6666666666666666,\"#ed7953\"],[0.7777777777777778,\"#fb9f3a\"],[0.8888888888888888,\"#fdca26\"],[1.0,\"#f0f921\"]]}],\"contourcarpet\":[{\"type\":\"contourcarpet\",\"colorbar\":{\"outlinewidth\":0,\"ticks\":\"\"}}],\"contour\":[{\"type\":\"contour\",\"colorbar\":{\"outlinewidth\":0,\"ticks\":\"\"},\"colorscale\":[[0.0,\"#0d0887\"],[0.1111111111111111,\"#46039f\"],[0.2222222222222222,\"#7201a8\"],[0.3333333333333333,\"#9c179e\"],[0.4444444444444444,\"#bd3786\"],[0.5555555555555556,\"#d8576b\"],[0.6666666666666666,\"#ed7953\"],[0.7777777777777778,\"#fb9f3a\"],[0.8888888888888888,\"#fdca26\"],[1.0,\"#f0f921\"]]}],\"surface\":[{\"type\":\"surface\",\"colorbar\":{\"outlinewidth\":0,\"ticks\":\"\"},\"colorscale\":[[0.0,\"#0d0887\"],[0.1111111111111111,\"#46039f\"],[0.2222222222222222,\"#7201a8\"],[0.3333333333333333,\"#9c179e\"],[0.4444444444444444,\"#bd3786\"],[0.5555555555555556,\"#d8576b\"],[0.6666666666666666,\"#ed7953\"],[0.7777777777777778,\"#fb9f3a\"],[0.8888888888888888,\"#fdca26\"],[1.0,\"#f0f921\"]]}],\"mesh3d\":[{\"type\":\"mesh3d\",\"colorbar\":{\"outlinewidth\":0,\"ticks\":\"\"}}],\"scatter\":[{\"fillpattern\":{\"fillmode\":\"overlay\",\"size\":10,\"solidity\":0.2},\"type\":\"scatter\"}],\"parcoords\":[{\"type\":\"parcoords\",\"line\":{\"colorbar\":{\"outlinewidth\":0,\"ticks\":\"\"}}}],\"scatterpolargl\":[{\"type\":\"scatterpolargl\",\"marker\":{\"colorbar\":{\"outlinewidth\":0,\"ticks\":\"\"}}}],\"bar\":[{\"error_x\":{\"color\":\"#2a3f5f\"},\"error_y\":{\"color\":\"#2a3f5f\"},\"marker\":{\"line\":{\"color\":\"#E5ECF6\",\"width\":0.5},\"pattern\":{\"fillmode\":\"overlay\",\"size\":10,\"solidity\":0.2}},\"type\":\"bar\"}],\"scattergeo\":[{\"type\":\"scattergeo\",\"marker\":{\"colorbar\":{\"outlinewidth\":0,\"ticks\":\"\"}}}],\"scatterpolar\":[{\"type\":\"scatterpolar\",\"marker\":{\"colorbar\":{\"outlinewidth\":0,\"ticks\":\"\"}}}],\"histogram\":[{\"marker\":{\"pattern\":{\"fillmode\":\"overlay\",\"size\":10,\"solidity\":0.2}},\"type\":\"histogram\"}],\"scattergl\":[{\"type\":\"scattergl\",\"marker\":{\"colorbar\":{\"outlinewidth\":0,\"ticks\":\"\"}}}],\"scatter3d\":[{\"type\":\"scatter3d\",\"line\":{\"colorbar\":{\"outlinewidth\":0,\"ticks\":\"\"}},\"marker\":{\"colorbar\":{\"outlinewidth\":0,\"ticks\":\"\"}}}],\"scattermapbox\":[{\"type\":\"scattermapbox\",\"marker\":{\"colorbar\":{\"outlinewidth\":0,\"ticks\":\"\"}}}],\"scatterternary\":[{\"type\":\"scatterternary\",\"marker\":{\"colorbar\":{\"outlinewidth\":0,\"ticks\":\"\"}}}],\"scattercarpet\":[{\"type\":\"scattercarpet\",\"marker\":{\"colorbar\":{\"outlinewidth\":0,\"ticks\":\"\"}}}],\"carpet\":[{\"aaxis\":{\"endlinecolor\":\"#2a3f5f\",\"gridcolor\":\"white\",\"linecolor\":\"white\",\"minorgridcolor\":\"white\",\"startlinecolor\":\"#2a3f5f\"},\"baxis\":{\"endlinecolor\":\"#2a3f5f\",\"gridcolor\":\"white\",\"linecolor\":\"white\",\"minorgridcolor\":\"white\",\"startlinecolor\":\"#2a3f5f\"},\"type\":\"carpet\"}],\"table\":[{\"cells\":{\"fill\":{\"color\":\"#EBF0F8\"},\"line\":{\"color\":\"white\"}},\"header\":{\"fill\":{\"color\":\"#C8D4E3\"},\"line\":{\"color\":\"white\"}},\"type\":\"table\"}],\"barpolar\":[{\"marker\":{\"line\":{\"color\":\"#E5ECF6\",\"width\":0.5},\"pattern\":{\"fillmode\":\"overlay\",\"size\":10,\"solidity\":0.2}},\"type\":\"barpolar\"}],\"pie\":[{\"automargin\":true,\"type\":\"pie\"}]},\"layout\":{\"autotypenumbers\":\"strict\",\"colorway\":[\"#636efa\",\"#EF553B\",\"#00cc96\",\"#ab63fa\",\"#FFA15A\",\"#19d3f3\",\"#FF6692\",\"#B6E880\",\"#FF97FF\",\"#FECB52\"],\"font\":{\"color\":\"#2a3f5f\"},\"hovermode\":\"closest\",\"hoverlabel\":{\"align\":\"left\"},\"paper_bgcolor\":\"white\",\"plot_bgcolor\":\"#E5ECF6\",\"polar\":{\"bgcolor\":\"#E5ECF6\",\"angularaxis\":{\"gridcolor\":\"white\",\"linecolor\":\"white\",\"ticks\":\"\"},\"radialaxis\":{\"gridcolor\":\"white\",\"linecolor\":\"white\",\"ticks\":\"\"}},\"ternary\":{\"bgcolor\":\"#E5ECF6\",\"aaxis\":{\"gridcolor\":\"white\",\"linecolor\":\"white\",\"ticks\":\"\"},\"baxis\":{\"gridcolor\":\"white\",\"linecolor\":\"white\",\"ticks\":\"\"},\"caxis\":{\"gridcolor\":\"white\",\"linecolor\":\"white\",\"ticks\":\"\"}},\"coloraxis\":{\"colorbar\":{\"outlinewidth\":0,\"ticks\":\"\"}},\"colorscale\":{\"sequential\":[[0.0,\"#0d0887\"],[0.1111111111111111,\"#46039f\"],[0.2222222222222222,\"#7201a8\"],[0.3333333333333333,\"#9c179e\"],[0.4444444444444444,\"#bd3786\"],[0.5555555555555556,\"#d8576b\"],[0.6666666666666666,\"#ed7953\"],[0.7777777777777778,\"#fb9f3a\"],[0.8888888888888888,\"#fdca26\"],[1.0,\"#f0f921\"]],\"sequentialminus\":[[0.0,\"#0d0887\"],[0.1111111111111111,\"#46039f\"],[0.2222222222222222,\"#7201a8\"],[0.3333333333333333,\"#9c179e\"],[0.4444444444444444,\"#bd3786\"],[0.5555555555555556,\"#d8576b\"],[0.6666666666666666,\"#ed7953\"],[0.7777777777777778,\"#fb9f3a\"],[0.8888888888888888,\"#fdca26\"],[1.0,\"#f0f921\"]],\"diverging\":[[0,\"#8e0152\"],[0.1,\"#c51b7d\"],[0.2,\"#de77ae\"],[0.3,\"#f1b6da\"],[0.4,\"#fde0ef\"],[0.5,\"#f7f7f7\"],[0.6,\"#e6f5d0\"],[0.7,\"#b8e186\"],[0.8,\"#7fbc41\"],[0.9,\"#4d9221\"],[1,\"#276419\"]]},\"xaxis\":{\"gridcolor\":\"white\",\"linecolor\":\"white\",\"ticks\":\"\",\"title\":{\"standoff\":15},\"zerolinecolor\":\"white\",\"automargin\":true,\"zerolinewidth\":2},\"yaxis\":{\"gridcolor\":\"white\",\"linecolor\":\"white\",\"ticks\":\"\",\"title\":{\"standoff\":15},\"zerolinecolor\":\"white\",\"automargin\":true,\"zerolinewidth\":2},\"scene\":{\"xaxis\":{\"backgroundcolor\":\"#E5ECF6\",\"gridcolor\":\"white\",\"linecolor\":\"white\",\"showbackground\":true,\"ticks\":\"\",\"zerolinecolor\":\"white\",\"gridwidth\":2},\"yaxis\":{\"backgroundcolor\":\"#E5ECF6\",\"gridcolor\":\"white\",\"linecolor\":\"white\",\"showbackground\":true,\"ticks\":\"\",\"zerolinecolor\":\"white\",\"gridwidth\":2},\"zaxis\":{\"backgroundcolor\":\"#E5ECF6\",\"gridcolor\":\"white\",\"linecolor\":\"white\",\"showbackground\":true,\"ticks\":\"\",\"zerolinecolor\":\"white\",\"gridwidth\":2}},\"shapedefaults\":{\"line\":{\"color\":\"#2a3f5f\"}},\"annotationdefaults\":{\"arrowcolor\":\"#2a3f5f\",\"arrowhead\":0,\"arrowwidth\":1},\"geo\":{\"bgcolor\":\"white\",\"landcolor\":\"#E5ECF6\",\"subunitcolor\":\"white\",\"showland\":true,\"showlakes\":true,\"lakecolor\":\"white\"},\"title\":{\"x\":0.05},\"mapbox\":{\"style\":\"light\"}}}},                        {\"responsive\": true}                    ).then(function(){\n",
       "                            \n",
       "var gd = document.getElementById('6df0586a-934e-4a23-a5b9-a1f7ee58252f');\n",
       "var x = new MutationObserver(function (mutations, observer) {{\n",
       "        var display = window.getComputedStyle(gd).display;\n",
       "        if (!display || display === 'none') {{\n",
       "            console.log([gd, 'removed!']);\n",
       "            Plotly.purge(gd);\n",
       "            observer.disconnect();\n",
       "        }}\n",
       "}});\n",
       "\n",
       "// Listen for the removal of the full notebook cells\n",
       "var notebookContainer = gd.closest('#notebook-container');\n",
       "if (notebookContainer) {{\n",
       "    x.observe(notebookContainer, {childList: true});\n",
       "}}\n",
       "\n",
       "// Listen for the clearing of the current output cell\n",
       "var outputEl = gd.closest('.output');\n",
       "if (outputEl) {{\n",
       "    x.observe(outputEl, {childList: true});\n",
       "}}\n",
       "\n",
       "                        })                };                });            </script>        </div>"
      ]
     },
     "metadata": {},
     "output_type": "display_data"
    }
   ],
   "source": [
    "vis.plot_optimization_history(study_rf).show()\n",
    "vis.plot_param_importances(study_rf).show()"
   ]
  },
  {
   "cell_type": "markdown",
   "id": "5e6302fa070161ef",
   "metadata": {},
   "source": [
    "#### Model Training"
   ]
  },
  {
   "cell_type": "code",
   "execution_count": 35,
   "id": "858471111e5946f0",
   "metadata": {
    "ExecuteTime": {
     "end_time": "2024-12-11T23:33:06.289109Z",
     "start_time": "2024-12-11T23:33:06.255926Z"
    }
   },
   "outputs": [],
   "source": [
    "# Get the best hyperparameters\n",
    "best_params_rf = study_rf.best_params"
   ]
  },
  {
   "cell_type": "code",
   "execution_count": 36,
   "id": "fe5a5c9343b11903",
   "metadata": {
    "ExecuteTime": {
     "end_time": "2024-12-11T23:33:06.314488Z",
     "start_time": "2024-12-11T23:33:06.298609Z"
    }
   },
   "outputs": [],
   "source": [
    "# Create the Random Forest model with best hyperparameters\n",
    "rf = RandomForestRegressor(\n",
    "    n_estimators=best_params_rf['n_estimators'],\n",
    "    max_depth=best_params_rf['max_depth'],\n",
    "    min_samples_split=best_params_rf['min_samples_split'],\n",
    "    min_samples_leaf=best_params_rf['min_samples_leaf'],\n",
    "    max_features=best_params_rf['max_features'],\n",
    "    random_state=42\n",
    ")"
   ]
  },
  {
   "cell_type": "code",
   "execution_count": 37,
   "id": "9fd3504a2a972b37",
   "metadata": {
    "ExecuteTime": {
     "end_time": "2024-12-11T23:33:06.698137Z",
     "start_time": "2024-12-11T23:33:06.328993Z"
    }
   },
   "outputs": [
    {
     "data": {
      "text/html": [
       "<style>#sk-container-id-2 {\n",
       "  /* Definition of color scheme common for light and dark mode */\n",
       "  --sklearn-color-text: black;\n",
       "  --sklearn-color-line: gray;\n",
       "  /* Definition of color scheme for unfitted estimators */\n",
       "  --sklearn-color-unfitted-level-0: #fff5e6;\n",
       "  --sklearn-color-unfitted-level-1: #f6e4d2;\n",
       "  --sklearn-color-unfitted-level-2: #ffe0b3;\n",
       "  --sklearn-color-unfitted-level-3: chocolate;\n",
       "  /* Definition of color scheme for fitted estimators */\n",
       "  --sklearn-color-fitted-level-0: #f0f8ff;\n",
       "  --sklearn-color-fitted-level-1: #d4ebff;\n",
       "  --sklearn-color-fitted-level-2: #b3dbfd;\n",
       "  --sklearn-color-fitted-level-3: cornflowerblue;\n",
       "\n",
       "  /* Specific color for light theme */\n",
       "  --sklearn-color-text-on-default-background: var(--sg-text-color, var(--theme-code-foreground, var(--jp-content-font-color1, black)));\n",
       "  --sklearn-color-background: var(--sg-background-color, var(--theme-background, var(--jp-layout-color0, white)));\n",
       "  --sklearn-color-border-box: var(--sg-text-color, var(--theme-code-foreground, var(--jp-content-font-color1, black)));\n",
       "  --sklearn-color-icon: #696969;\n",
       "\n",
       "  @media (prefers-color-scheme: dark) {\n",
       "    /* Redefinition of color scheme for dark theme */\n",
       "    --sklearn-color-text-on-default-background: var(--sg-text-color, var(--theme-code-foreground, var(--jp-content-font-color1, white)));\n",
       "    --sklearn-color-background: var(--sg-background-color, var(--theme-background, var(--jp-layout-color0, #111)));\n",
       "    --sklearn-color-border-box: var(--sg-text-color, var(--theme-code-foreground, var(--jp-content-font-color1, white)));\n",
       "    --sklearn-color-icon: #878787;\n",
       "  }\n",
       "}\n",
       "\n",
       "#sk-container-id-2 {\n",
       "  color: var(--sklearn-color-text);\n",
       "}\n",
       "\n",
       "#sk-container-id-2 pre {\n",
       "  padding: 0;\n",
       "}\n",
       "\n",
       "#sk-container-id-2 input.sk-hidden--visually {\n",
       "  border: 0;\n",
       "  clip: rect(1px 1px 1px 1px);\n",
       "  clip: rect(1px, 1px, 1px, 1px);\n",
       "  height: 1px;\n",
       "  margin: -1px;\n",
       "  overflow: hidden;\n",
       "  padding: 0;\n",
       "  position: absolute;\n",
       "  width: 1px;\n",
       "}\n",
       "\n",
       "#sk-container-id-2 div.sk-dashed-wrapped {\n",
       "  border: 1px dashed var(--sklearn-color-line);\n",
       "  margin: 0 0.4em 0.5em 0.4em;\n",
       "  box-sizing: border-box;\n",
       "  padding-bottom: 0.4em;\n",
       "  background-color: var(--sklearn-color-background);\n",
       "}\n",
       "\n",
       "#sk-container-id-2 div.sk-container {\n",
       "  /* jupyter's `normalize.less` sets `[hidden] { display: none; }`\n",
       "     but bootstrap.min.css set `[hidden] { display: none !important; }`\n",
       "     so we also need the `!important` here to be able to override the\n",
       "     default hidden behavior on the sphinx rendered scikit-learn.org.\n",
       "     See: https://github.com/scikit-learn/scikit-learn/issues/21755 */\n",
       "  display: inline-block !important;\n",
       "  position: relative;\n",
       "}\n",
       "\n",
       "#sk-container-id-2 div.sk-text-repr-fallback {\n",
       "  display: none;\n",
       "}\n",
       "\n",
       "div.sk-parallel-item,\n",
       "div.sk-serial,\n",
       "div.sk-item {\n",
       "  /* draw centered vertical line to link estimators */\n",
       "  background-image: linear-gradient(var(--sklearn-color-text-on-default-background), var(--sklearn-color-text-on-default-background));\n",
       "  background-size: 2px 100%;\n",
       "  background-repeat: no-repeat;\n",
       "  background-position: center center;\n",
       "}\n",
       "\n",
       "/* Parallel-specific style estimator block */\n",
       "\n",
       "#sk-container-id-2 div.sk-parallel-item::after {\n",
       "  content: \"\";\n",
       "  width: 100%;\n",
       "  border-bottom: 2px solid var(--sklearn-color-text-on-default-background);\n",
       "  flex-grow: 1;\n",
       "}\n",
       "\n",
       "#sk-container-id-2 div.sk-parallel {\n",
       "  display: flex;\n",
       "  align-items: stretch;\n",
       "  justify-content: center;\n",
       "  background-color: var(--sklearn-color-background);\n",
       "  position: relative;\n",
       "}\n",
       "\n",
       "#sk-container-id-2 div.sk-parallel-item {\n",
       "  display: flex;\n",
       "  flex-direction: column;\n",
       "}\n",
       "\n",
       "#sk-container-id-2 div.sk-parallel-item:first-child::after {\n",
       "  align-self: flex-end;\n",
       "  width: 50%;\n",
       "}\n",
       "\n",
       "#sk-container-id-2 div.sk-parallel-item:last-child::after {\n",
       "  align-self: flex-start;\n",
       "  width: 50%;\n",
       "}\n",
       "\n",
       "#sk-container-id-2 div.sk-parallel-item:only-child::after {\n",
       "  width: 0;\n",
       "}\n",
       "\n",
       "/* Serial-specific style estimator block */\n",
       "\n",
       "#sk-container-id-2 div.sk-serial {\n",
       "  display: flex;\n",
       "  flex-direction: column;\n",
       "  align-items: center;\n",
       "  background-color: var(--sklearn-color-background);\n",
       "  padding-right: 1em;\n",
       "  padding-left: 1em;\n",
       "}\n",
       "\n",
       "\n",
       "/* Toggleable style: style used for estimator/Pipeline/ColumnTransformer box that is\n",
       "clickable and can be expanded/collapsed.\n",
       "- Pipeline and ColumnTransformer use this feature and define the default style\n",
       "- Estimators will overwrite some part of the style using the `sk-estimator` class\n",
       "*/\n",
       "\n",
       "/* Pipeline and ColumnTransformer style (default) */\n",
       "\n",
       "#sk-container-id-2 div.sk-toggleable {\n",
       "  /* Default theme specific background. It is overwritten whether we have a\n",
       "  specific estimator or a Pipeline/ColumnTransformer */\n",
       "  background-color: var(--sklearn-color-background);\n",
       "}\n",
       "\n",
       "/* Toggleable label */\n",
       "#sk-container-id-2 label.sk-toggleable__label {\n",
       "  cursor: pointer;\n",
       "  display: block;\n",
       "  width: 100%;\n",
       "  margin-bottom: 0;\n",
       "  padding: 0.5em;\n",
       "  box-sizing: border-box;\n",
       "  text-align: center;\n",
       "}\n",
       "\n",
       "#sk-container-id-2 label.sk-toggleable__label-arrow:before {\n",
       "  /* Arrow on the left of the label */\n",
       "  content: \"▸\";\n",
       "  float: left;\n",
       "  margin-right: 0.25em;\n",
       "  color: var(--sklearn-color-icon);\n",
       "}\n",
       "\n",
       "#sk-container-id-2 label.sk-toggleable__label-arrow:hover:before {\n",
       "  color: var(--sklearn-color-text);\n",
       "}\n",
       "\n",
       "/* Toggleable content - dropdown */\n",
       "\n",
       "#sk-container-id-2 div.sk-toggleable__content {\n",
       "  max-height: 0;\n",
       "  max-width: 0;\n",
       "  overflow: hidden;\n",
       "  text-align: left;\n",
       "  /* unfitted */\n",
       "  background-color: var(--sklearn-color-unfitted-level-0);\n",
       "}\n",
       "\n",
       "#sk-container-id-2 div.sk-toggleable__content.fitted {\n",
       "  /* fitted */\n",
       "  background-color: var(--sklearn-color-fitted-level-0);\n",
       "}\n",
       "\n",
       "#sk-container-id-2 div.sk-toggleable__content pre {\n",
       "  margin: 0.2em;\n",
       "  border-radius: 0.25em;\n",
       "  color: var(--sklearn-color-text);\n",
       "  /* unfitted */\n",
       "  background-color: var(--sklearn-color-unfitted-level-0);\n",
       "}\n",
       "\n",
       "#sk-container-id-2 div.sk-toggleable__content.fitted pre {\n",
       "  /* unfitted */\n",
       "  background-color: var(--sklearn-color-fitted-level-0);\n",
       "}\n",
       "\n",
       "#sk-container-id-2 input.sk-toggleable__control:checked~div.sk-toggleable__content {\n",
       "  /* Expand drop-down */\n",
       "  max-height: 200px;\n",
       "  max-width: 100%;\n",
       "  overflow: auto;\n",
       "}\n",
       "\n",
       "#sk-container-id-2 input.sk-toggleable__control:checked~label.sk-toggleable__label-arrow:before {\n",
       "  content: \"▾\";\n",
       "}\n",
       "\n",
       "/* Pipeline/ColumnTransformer-specific style */\n",
       "\n",
       "#sk-container-id-2 div.sk-label input.sk-toggleable__control:checked~label.sk-toggleable__label {\n",
       "  color: var(--sklearn-color-text);\n",
       "  background-color: var(--sklearn-color-unfitted-level-2);\n",
       "}\n",
       "\n",
       "#sk-container-id-2 div.sk-label.fitted input.sk-toggleable__control:checked~label.sk-toggleable__label {\n",
       "  background-color: var(--sklearn-color-fitted-level-2);\n",
       "}\n",
       "\n",
       "/* Estimator-specific style */\n",
       "\n",
       "/* Colorize estimator box */\n",
       "#sk-container-id-2 div.sk-estimator input.sk-toggleable__control:checked~label.sk-toggleable__label {\n",
       "  /* unfitted */\n",
       "  background-color: var(--sklearn-color-unfitted-level-2);\n",
       "}\n",
       "\n",
       "#sk-container-id-2 div.sk-estimator.fitted input.sk-toggleable__control:checked~label.sk-toggleable__label {\n",
       "  /* fitted */\n",
       "  background-color: var(--sklearn-color-fitted-level-2);\n",
       "}\n",
       "\n",
       "#sk-container-id-2 div.sk-label label.sk-toggleable__label,\n",
       "#sk-container-id-2 div.sk-label label {\n",
       "  /* The background is the default theme color */\n",
       "  color: var(--sklearn-color-text-on-default-background);\n",
       "}\n",
       "\n",
       "/* On hover, darken the color of the background */\n",
       "#sk-container-id-2 div.sk-label:hover label.sk-toggleable__label {\n",
       "  color: var(--sklearn-color-text);\n",
       "  background-color: var(--sklearn-color-unfitted-level-2);\n",
       "}\n",
       "\n",
       "/* Label box, darken color on hover, fitted */\n",
       "#sk-container-id-2 div.sk-label.fitted:hover label.sk-toggleable__label.fitted {\n",
       "  color: var(--sklearn-color-text);\n",
       "  background-color: var(--sklearn-color-fitted-level-2);\n",
       "}\n",
       "\n",
       "/* Estimator label */\n",
       "\n",
       "#sk-container-id-2 div.sk-label label {\n",
       "  font-family: monospace;\n",
       "  font-weight: bold;\n",
       "  display: inline-block;\n",
       "  line-height: 1.2em;\n",
       "}\n",
       "\n",
       "#sk-container-id-2 div.sk-label-container {\n",
       "  text-align: center;\n",
       "}\n",
       "\n",
       "/* Estimator-specific */\n",
       "#sk-container-id-2 div.sk-estimator {\n",
       "  font-family: monospace;\n",
       "  border: 1px dotted var(--sklearn-color-border-box);\n",
       "  border-radius: 0.25em;\n",
       "  box-sizing: border-box;\n",
       "  margin-bottom: 0.5em;\n",
       "  /* unfitted */\n",
       "  background-color: var(--sklearn-color-unfitted-level-0);\n",
       "}\n",
       "\n",
       "#sk-container-id-2 div.sk-estimator.fitted {\n",
       "  /* fitted */\n",
       "  background-color: var(--sklearn-color-fitted-level-0);\n",
       "}\n",
       "\n",
       "/* on hover */\n",
       "#sk-container-id-2 div.sk-estimator:hover {\n",
       "  /* unfitted */\n",
       "  background-color: var(--sklearn-color-unfitted-level-2);\n",
       "}\n",
       "\n",
       "#sk-container-id-2 div.sk-estimator.fitted:hover {\n",
       "  /* fitted */\n",
       "  background-color: var(--sklearn-color-fitted-level-2);\n",
       "}\n",
       "\n",
       "/* Specification for estimator info (e.g. \"i\" and \"?\") */\n",
       "\n",
       "/* Common style for \"i\" and \"?\" */\n",
       "\n",
       ".sk-estimator-doc-link,\n",
       "a:link.sk-estimator-doc-link,\n",
       "a:visited.sk-estimator-doc-link {\n",
       "  float: right;\n",
       "  font-size: smaller;\n",
       "  line-height: 1em;\n",
       "  font-family: monospace;\n",
       "  background-color: var(--sklearn-color-background);\n",
       "  border-radius: 1em;\n",
       "  height: 1em;\n",
       "  width: 1em;\n",
       "  text-decoration: none !important;\n",
       "  margin-left: 1ex;\n",
       "  /* unfitted */\n",
       "  border: var(--sklearn-color-unfitted-level-1) 1pt solid;\n",
       "  color: var(--sklearn-color-unfitted-level-1);\n",
       "}\n",
       "\n",
       ".sk-estimator-doc-link.fitted,\n",
       "a:link.sk-estimator-doc-link.fitted,\n",
       "a:visited.sk-estimator-doc-link.fitted {\n",
       "  /* fitted */\n",
       "  border: var(--sklearn-color-fitted-level-1) 1pt solid;\n",
       "  color: var(--sklearn-color-fitted-level-1);\n",
       "}\n",
       "\n",
       "/* On hover */\n",
       "div.sk-estimator:hover .sk-estimator-doc-link:hover,\n",
       ".sk-estimator-doc-link:hover,\n",
       "div.sk-label-container:hover .sk-estimator-doc-link:hover,\n",
       ".sk-estimator-doc-link:hover {\n",
       "  /* unfitted */\n",
       "  background-color: var(--sklearn-color-unfitted-level-3);\n",
       "  color: var(--sklearn-color-background);\n",
       "  text-decoration: none;\n",
       "}\n",
       "\n",
       "div.sk-estimator.fitted:hover .sk-estimator-doc-link.fitted:hover,\n",
       ".sk-estimator-doc-link.fitted:hover,\n",
       "div.sk-label-container:hover .sk-estimator-doc-link.fitted:hover,\n",
       ".sk-estimator-doc-link.fitted:hover {\n",
       "  /* fitted */\n",
       "  background-color: var(--sklearn-color-fitted-level-3);\n",
       "  color: var(--sklearn-color-background);\n",
       "  text-decoration: none;\n",
       "}\n",
       "\n",
       "/* Span, style for the box shown on hovering the info icon */\n",
       ".sk-estimator-doc-link span {\n",
       "  display: none;\n",
       "  z-index: 9999;\n",
       "  position: relative;\n",
       "  font-weight: normal;\n",
       "  right: .2ex;\n",
       "  padding: .5ex;\n",
       "  margin: .5ex;\n",
       "  width: min-content;\n",
       "  min-width: 20ex;\n",
       "  max-width: 50ex;\n",
       "  color: var(--sklearn-color-text);\n",
       "  box-shadow: 2pt 2pt 4pt #999;\n",
       "  /* unfitted */\n",
       "  background: var(--sklearn-color-unfitted-level-0);\n",
       "  border: .5pt solid var(--sklearn-color-unfitted-level-3);\n",
       "}\n",
       "\n",
       ".sk-estimator-doc-link.fitted span {\n",
       "  /* fitted */\n",
       "  background: var(--sklearn-color-fitted-level-0);\n",
       "  border: var(--sklearn-color-fitted-level-3);\n",
       "}\n",
       "\n",
       ".sk-estimator-doc-link:hover span {\n",
       "  display: block;\n",
       "}\n",
       "\n",
       "/* \"?\"-specific style due to the `<a>` HTML tag */\n",
       "\n",
       "#sk-container-id-2 a.estimator_doc_link {\n",
       "  float: right;\n",
       "  font-size: 1rem;\n",
       "  line-height: 1em;\n",
       "  font-family: monospace;\n",
       "  background-color: var(--sklearn-color-background);\n",
       "  border-radius: 1rem;\n",
       "  height: 1rem;\n",
       "  width: 1rem;\n",
       "  text-decoration: none;\n",
       "  /* unfitted */\n",
       "  color: var(--sklearn-color-unfitted-level-1);\n",
       "  border: var(--sklearn-color-unfitted-level-1) 1pt solid;\n",
       "}\n",
       "\n",
       "#sk-container-id-2 a.estimator_doc_link.fitted {\n",
       "  /* fitted */\n",
       "  border: var(--sklearn-color-fitted-level-1) 1pt solid;\n",
       "  color: var(--sklearn-color-fitted-level-1);\n",
       "}\n",
       "\n",
       "/* On hover */\n",
       "#sk-container-id-2 a.estimator_doc_link:hover {\n",
       "  /* unfitted */\n",
       "  background-color: var(--sklearn-color-unfitted-level-3);\n",
       "  color: var(--sklearn-color-background);\n",
       "  text-decoration: none;\n",
       "}\n",
       "\n",
       "#sk-container-id-2 a.estimator_doc_link.fitted:hover {\n",
       "  /* fitted */\n",
       "  background-color: var(--sklearn-color-fitted-level-3);\n",
       "}\n",
       "</style><div id=\"sk-container-id-2\" class=\"sk-top-container\"><div class=\"sk-text-repr-fallback\"><pre>RandomForestRegressor(max_depth=8, max_features=&#x27;log2&#x27;, min_samples_split=5,\n",
       "                      n_estimators=497, random_state=42)</pre><b>In a Jupyter environment, please rerun this cell to show the HTML representation or trust the notebook. <br />On GitHub, the HTML representation is unable to render, please try loading this page with nbviewer.org.</b></div><div class=\"sk-container\" hidden><div class=\"sk-item\"><div class=\"sk-estimator fitted sk-toggleable\"><input class=\"sk-toggleable__control sk-hidden--visually\" id=\"sk-estimator-id-2\" type=\"checkbox\" checked><label for=\"sk-estimator-id-2\" class=\"sk-toggleable__label fitted sk-toggleable__label-arrow fitted\">&nbsp;&nbsp;RandomForestRegressor<a class=\"sk-estimator-doc-link fitted\" rel=\"noreferrer\" target=\"_blank\" href=\"https://scikit-learn.org/1.5/modules/generated/sklearn.ensemble.RandomForestRegressor.html\">?<span>Documentation for RandomForestRegressor</span></a><span class=\"sk-estimator-doc-link fitted\">i<span>Fitted</span></span></label><div class=\"sk-toggleable__content fitted\"><pre>RandomForestRegressor(max_depth=8, max_features=&#x27;log2&#x27;, min_samples_split=5,\n",
       "                      n_estimators=497, random_state=42)</pre></div> </div></div></div></div>"
      ],
      "text/plain": [
       "RandomForestRegressor(max_depth=8, max_features='log2', min_samples_split=5,\n",
       "                      n_estimators=497, random_state=42)"
      ]
     },
     "execution_count": 37,
     "metadata": {},
     "output_type": "execute_result"
    }
   ],
   "source": [
    "# Fit the model\n",
    "rf.fit(X_train, y_train)"
   ]
  },
  {
   "cell_type": "markdown",
   "id": "40d79e7526eda5a6",
   "metadata": {},
   "source": [
    "#### Model Evaluation"
   ]
  },
  {
   "cell_type": "code",
   "execution_count": 38,
   "id": "e89ebfc968d0d822",
   "metadata": {
    "ExecuteTime": {
     "end_time": "2024-12-11T23:33:06.742429Z",
     "start_time": "2024-12-11T23:33:06.709473Z"
    }
   },
   "outputs": [],
   "source": [
    "y_pred_rf_train = rf.predict(X_train)\n",
    "y_pred_rf_test = rf.predict(X_test)"
   ]
  },
  {
   "cell_type": "code",
   "execution_count": 39,
   "id": "7b3a3f805c3dd13c",
   "metadata": {
    "ExecuteTime": {
     "end_time": "2024-12-11T23:33:06.903512Z",
     "start_time": "2024-12-11T23:33:06.753107Z"
    }
   },
   "outputs": [
    {
     "data": {
      "image/png": "[encoded data removed]",
      "text/plain": [
       "<Figure size 1000x600 with 1 Axes>"
      ]
     },
     "metadata": {},
     "output_type": "display_data"
    }
   ],
   "source": [
    "# plot top 10 features\n",
    "plt.figure(figsize=(10, 6))\n",
    "plt.barh(X.columns[np.argsort(rf.feature_importances_)[::-1][:10]],\n",
    "         rf.feature_importances_[np.argsort(rf.feature_importances_)[::-1][:10]])\n",
    "plt.xlabel('Feature Importance')\n",
    "plt.ylabel('Feature')\n",
    "plt.title('Top 10 Features')\n",
    "plt.show()"
   ]
  },
  {
   "cell_type": "code",
   "execution_count": 66,
   "id": "f6bad6e6660b6bf3",
   "metadata": {
    "ExecuteTime": {
     "end_time": "2024-12-11T23:34:09.726419Z",
     "start_time": "2024-12-11T23:34:09.641474Z"
    }
   },
   "outputs": [
    {
     "data": {
      "image/png": "[encoded data removed]",
      "text/plain": [
       "<Figure size 1000x600 with 1 Axes>"
      ]
     },
     "metadata": {},
     "output_type": "display_data"
    }
   ],
   "source": [
    "# show predicted vs actual\n",
    "plt.figure(figsize=(10, 6))\n",
    "plt.plot(y_test.index, y_test, label='Actual')\n",
    "plt.plot(y_test.index, y_pred_rf_test, label='Predicted')\n",
    "plt.xlabel('Date')\n",
    "plt.ylabel('Price')\n",
    "plt.title('AdaBoost Predicted vs Actual')\n",
    "plt.legend()\n",
    "plt.show()"
   ]
  },
  {
   "cell_type": "markdown",
   "id": "2dd18c5eccbcfa0f",
   "metadata": {},
   "source": [
    "#### Model Saving"
   ]
  },
  {
   "cell_type": "code",
   "execution_count": 40,
   "id": "f36ded17b85a740b",
   "metadata": {
    "ExecuteTime": {
     "end_time": "2024-12-11T23:33:06.965686Z",
     "start_time": "2024-12-11T23:33:06.926308Z"
    }
   },
   "outputs": [],
   "source": [
    "# Save the model\n",
    "pickle.dump(rf, open('../models/EQR_rf.pkl', 'wb'))"
   ]
  },
  {
   "cell_type": "markdown",
   "id": "618b0297-996f-4b05-9226-6e9154f89154",
   "metadata": {},
   "source": [
    "### AdaBoost"
   ]
  },
  {
   "cell_type": "markdown",
   "id": "a428d8a4-abf0-4462-8b78-2669917d0502",
   "metadata": {},
   "source": [
    "#### Hyperparameter Tuning"
   ]
  },
  {
   "cell_type": "code",
   "execution_count": 41,
   "id": "10fc7a7eb9f6bce4",
   "metadata": {
    "ExecuteTime": {
     "end_time": "2024-12-11T23:33:07.014187Z",
     "start_time": "2024-12-11T23:33:06.985758Z"
    }
   },
   "outputs": [],
   "source": [
    "def objective(trial):\n",
    "    # Hyperparameter search space for the base Decision Tree\n",
    "    max_depth = trial.suggest_int('max_depth', 1, 2)  # Depth of the tree\n",
    "    min_samples_split = trial.suggest_int('min_samples_split', 2, 10)  # Minimum samples to split a node\n",
    "    min_samples_leaf = trial.suggest_int('min_samples_leaf', 1, 10)  # Minimum samples in a leaf node\n",
    "    max_features = trial.suggest_categorical('max_features',\n",
    "                                             [None, 'sqrt', 'log2'])  # Features to consider for splitting\n",
    "\n",
    "    # Hyperparameter search space for AdaBoost\n",
    "    n_estimators = trial.suggest_int('n_estimators', 50, 500)\n",
    "    learning_rate = trial.suggest_float('learning_rate', 0.01, 1.0, log=True)\n",
    "\n",
    "    # Define the base estimator (Decision Tree)\n",
    "    base_estimator = DecisionTreeRegressor(\n",
    "        max_depth=max_depth,\n",
    "        min_samples_split=min_samples_split,\n",
    "        min_samples_leaf=min_samples_leaf,\n",
    "        max_features=max_features,\n",
    "        random_state=42\n",
    "    )\n",
    "\n",
    "    # Define the AdaBoost model\n",
    "    model = AdaBoostRegressor(\n",
    "        estimator=base_estimator,\n",
    "        n_estimators=n_estimators,\n",
    "        learning_rate=learning_rate,\n",
    "        random_state=42\n",
    "    )\n",
    "\n",
    "    scores = cross_val_score(model, X_train, y_train, scoring=scorer, cv=cv, n_jobs=-1)\n",
    "\n",
    "    return -scores.mean()"
   ]
  },
  {
   "cell_type": "code",
   "execution_count": 42,
   "id": "37d56a2a2f15f7ea",
   "metadata": {
    "ExecuteTime": {
     "end_time": "2024-12-11T23:33:19.185505Z",
     "start_time": "2024-12-11T23:33:07.032202Z"
    }
   },
   "outputs": [
    {
     "name": "stderr",
     "output_type": "stream",
     "text": [
      "[I 2024-12-11 18:33:07,050] A new study created in memory with name: ada_tuning\n"
     ]
    },
    {
     "data": {
      "application/vnd.jupyter.widget-view+json": {
       "model_id": "fab40de6acc049789f750754324fce20",
       "version_major": 2,
       "version_minor": 0
      },
      "text/plain": [
       "  0%|          | 0/15 [00:00<?, ?it/s]"
      ]
     },
     "metadata": {},
     "output_type": "display_data"
    },
    {
     "name": "stdout",
     "output_type": "stream",
     "text": [
      "[I 2024-12-11 18:33:07,239] Trial 0 finished with value: 7.3395504772814135 and parameters: {'max_depth': 1, 'min_samples_split': 8, 'min_samples_leaf': 5, 'max_features': 'log2', 'n_estimators': 169, 'learning_rate': 0.23178898534202255}. Best is trial 0 with value: 7.3395504772814135.\n",
      "[I 2024-12-11 18:33:07,723] Trial 1 finished with value: 7.312790583836721 and parameters: {'max_depth': 1, 'min_samples_split': 9, 'min_samples_leaf': 1, 'max_features': 'log2', 'n_estimators': 154, 'learning_rate': 0.010075238391226699}. Best is trial 1 with value: 7.312790583836721.\n",
      "[I 2024-12-11 18:33:08,276] Trial 2 finished with value: 7.205175744408665 and parameters: {'max_depth': 1, 'min_samples_split': 10, 'min_samples_leaf': 10, 'max_features': 'sqrt', 'n_estimators': 161, 'learning_rate': 0.03341919582985652}. Best is trial 2 with value: 7.205175744408665.\n",
      "[I 2024-12-11 18:33:09,781] Trial 3 finished with value: 4.394406070867282 and parameters: {'max_depth': 2, 'min_samples_split': 7, 'min_samples_leaf': 9, 'max_features': 'sqrt', 'n_estimators': 492, 'learning_rate': 0.0815625192219124}. Best is trial 3 with value: 4.394406070867282.\n",
      "[I 2024-12-11 18:33:10,358] Trial 4 finished with value: 7.2372741448605336 and parameters: {'max_depth': 1, 'min_samples_split': 10, 'min_samples_leaf': 7, 'max_features': 'log2', 'n_estimators': 195, 'learning_rate': 0.025356987486541256}. Best is trial 3 with value: 4.394406070867282.\n",
      "[I 2024-12-11 18:33:11,095] Trial 5 finished with value: 4.412656542602049 and parameters: {'max_depth': 2, 'min_samples_split': 2, 'min_samples_leaf': 10, 'max_features': 'log2', 'n_estimators': 241, 'learning_rate': 0.1848135730004497}. Best is trial 3 with value: 4.394406070867282.\n",
      "[I 2024-12-11 18:33:11,188] Trial 6 finished with value: 7.373587163970305 and parameters: {'max_depth': 1, 'min_samples_split': 10, 'min_samples_leaf': 8, 'max_features': 'log2', 'n_estimators': 371, 'learning_rate': 0.8684859459849417}. Best is trial 3 with value: 4.394406070867282.\n",
      "[I 2024-12-11 18:33:11,982] Trial 7 finished with value: 4.561232484778738 and parameters: {'max_depth': 2, 'min_samples_split': 5, 'min_samples_leaf': 9, 'max_features': 'log2', 'n_estimators': 265, 'learning_rate': 0.03487398828134035}. Best is trial 3 with value: 4.394406070867282.\n",
      "[I 2024-12-11 18:33:13,510] Trial 8 finished with value: 7.123836232629951 and parameters: {'max_depth': 1, 'min_samples_split': 10, 'min_samples_leaf': 4, 'max_features': None, 'n_estimators': 307, 'learning_rate': 0.01589450293940934}. Best is trial 3 with value: 4.394406070867282.\n",
      "[I 2024-12-11 18:33:14,458] Trial 9 finished with value: 4.407501052500797 and parameters: {'max_depth': 2, 'min_samples_split': 10, 'min_samples_leaf': 10, 'max_features': 'log2', 'n_estimators': 418, 'learning_rate': 0.2541979993032461}. Best is trial 3 with value: 4.394406070867282.\n",
      "[I 2024-12-11 18:33:15,652] Trial 10 finished with value: 4.365197238772839 and parameters: {'max_depth': 2, 'min_samples_split': 6, 'min_samples_leaf': 7, 'max_features': 'sqrt', 'n_estimators': 491, 'learning_rate': 0.08279334710925507}. Best is trial 10 with value: 4.365197238772839.\n",
      "[I 2024-12-11 18:33:17,001] Trial 11 finished with value: 4.400751151724572 and parameters: {'max_depth': 2, 'min_samples_split': 6, 'min_samples_leaf': 7, 'max_features': 'sqrt', 'n_estimators': 480, 'learning_rate': 0.06849999622858015}. Best is trial 10 with value: 4.365197238772839.\n",
      "[I 2024-12-11 18:33:18,057] Trial 12 finished with value: 4.35474094502726 and parameters: {'max_depth': 2, 'min_samples_split': 4, 'min_samples_leaf': 6, 'max_features': 'sqrt', 'n_estimators': 497, 'learning_rate': 0.08819269935239582}. Best is trial 12 with value: 4.35474094502726.\n",
      "[I 2024-12-11 18:33:18,306] Trial 13 finished with value: 4.642892537501719 and parameters: {'max_depth': 2, 'min_samples_split': 4, 'min_samples_leaf': 3, 'max_features': 'sqrt', 'n_estimators': 73, 'learning_rate': 0.1036690617919584}. Best is trial 12 with value: 4.35474094502726.\n",
      "[I 2024-12-11 18:33:19,182] Trial 14 finished with value: 4.277807944752356 and parameters: {'max_depth': 2, 'min_samples_split': 3, 'min_samples_leaf': 6, 'max_features': 'sqrt', 'n_estimators': 409, 'learning_rate': 0.438127723216328}. Best is trial 14 with value: 4.277807944752356.\n"
     ]
    }
   ],
   "source": [
    "# Optimize hyperparameters\n",
    "study_ada = optuna.create_study(direction='minimize', study_name='ada_tuning')\n",
    "study_ada.optimize(objective, n_trials=n_trials, show_progress_bar=True)"
   ]
  },
  {
   "cell_type": "code",
   "execution_count": 43,
   "id": "3503710e9d16913b",
   "metadata": {
    "ExecuteTime": {
     "end_time": "2024-12-11T23:33:19.307792Z",
     "start_time": "2024-12-11T23:33:19.199731Z"
    }
   },
   "outputs": [
    {
     "data": {
      "application/vnd.plotly.v1+json": {
       "config": {
        "plotlyServerURL": "https://plot.ly"
       },
       "data": [
        {
         "mode": "markers",
         "name": "Objective Value",
         "type": "scatter",
         "x": [
          0,
          1,
          2,
          3,
          4,
          5,
          6,
          7,
          8,
          9,
          10,
          11,
          12,
          13,
          14
         ],
         "y": [
          7.3395504772814135,
          7.312790583836721,
          7.205175744408665,
          4.394406070867282,
          7.2372741448605336,
          4.412656542602049,
          7.373587163970305,
          4.561232484778738,
          7.123836232629951,
          4.407501052500797,
          4.365197238772839,
          4.400751151724572,
          4.35474094502726,
          4.642892537501719,
          4.277807944752356
         ]
        },
        {
         "mode": "lines",
         "name": "Best Value",
         "type": "scatter",
         "x": [
          0,
          1,
          2,
          3,
          4,
          5,
          6,
          7,
          8,
          9,
          10,
          11,
          12,
          13,
          14
         ],
         "y": [
          7.3395504772814135,
          7.312790583836721,
          7.205175744408665,
          4.394406070867282,
          4.394406070867282,
          4.394406070867282,
          4.394406070867282,
          4.394406070867282,
          4.394406070867282,
          4.394406070867282,
          4.365197238772839,
          4.365197238772839,
          4.35474094502726,
          4.35474094502726,
          4.277807944752356
         ]
        },
        {
         "marker": {
          "color": "#cccccc"
         },
         "mode": "markers",
         "name": "Infeasible Trial",
         "showlegend": false,
         "type": "scatter",
         "x": [],
         "y": []
        }
       ],
       "layout": {
        "template": {
         "data": {
          "bar": [
           {
            "error_x": {
             "color": "#2a3f5f"
            },
            "error_y": {
             "color": "#2a3f5f"
            },
            "marker": {
             "line": {
              "color": "#E5ECF6",
              "width": 0.5
             },
             "pattern": {
              "fillmode": "overlay",
              "size": 10,
              "solidity": 0.2
             }
            },
            "type": "bar"
           }
          ],
          "barpolar": [
           {
            "marker": {
             "line": {
              "color": "#E5ECF6",
              "width": 0.5
             },
             "pattern": {
              "fillmode": "overlay",
              "size": 10,
              "solidity": 0.2
             }
            },
            "type": "barpolar"
           }
          ],
          "carpet": [
           {
            "aaxis": {
             "endlinecolor": "#2a3f5f",
             "gridcolor": "white",
             "linecolor": "white",
             "minorgridcolor": "white",
             "startlinecolor": "#2a3f5f"
            },
            "baxis": {
             "endlinecolor": "#2a3f5f",
             "gridcolor": "white",
             "linecolor": "white",
             "minorgridcolor": "white",
             "startlinecolor": "#2a3f5f"
            },
            "type": "carpet"
           }
          ],
          "choropleth": [
           {
            "colorbar": {
             "outlinewidth": 0,
             "ticks": ""
            },
            "type": "choropleth"
           }
          ],
          "contour": [
           {
            "colorbar": {
             "outlinewidth": 0,
             "ticks": ""
            },
            "colorscale": [
             [
              0,
              "#0d0887"
             ],
             [
              0.1111111111111111,
              "#46039f"
             ],
             [
              0.2222222222222222,
              "#7201a8"
             ],
             [
              0.3333333333333333,
              "#9c179e"
             ],
             [
              0.4444444444444444,
              "#bd3786"
             ],
             [
              0.5555555555555556,
              "#d8576b"
             ],
             [
              0.6666666666666666,
              "#ed7953"
             ],
             [
              0.7777777777777778,
              "#fb9f3a"
             ],
             [
              0.8888888888888888,
              "#fdca26"
             ],
             [
              1,
              "#f0f921"
             ]
            ],
            "type": "contour"
           }
          ],
          "contourcarpet": [
           {
            "colorbar": {
             "outlinewidth": 0,
             "ticks": ""
            },
            "type": "contourcarpet"
           }
          ],
          "heatmap": [
           {
            "colorbar": {
             "outlinewidth": 0,
             "ticks": ""
            },
            "colorscale": [
             [
              0,
              "#0d0887"
             ],
             [
              0.1111111111111111,
              "#46039f"
             ],
             [
              0.2222222222222222,
              "#7201a8"
             ],
             [
              0.3333333333333333,
              "#9c179e"
             ],
             [
              0.4444444444444444,
              "#bd3786"
             ],
             [
              0.5555555555555556,
              "#d8576b"
             ],
             [
              0.6666666666666666,
              "#ed7953"
             ],
             [
              0.7777777777777778,
              "#fb9f3a"
             ],
             [
              0.8888888888888888,
              "#fdca26"
             ],
             [
              1,
              "#f0f921"
             ]
            ],
            "type": "heatmap"
           }
          ],
          "heatmapgl": [
           {
            "colorbar": {
             "outlinewidth": 0,
             "ticks": ""
            },
            "colorscale": [
             [
              0,
              "#0d0887"
             ],
             [
              0.1111111111111111,
              "#46039f"
             ],
             [
              0.2222222222222222,
              "#7201a8"
             ],
             [
              0.3333333333333333,
              "#9c179e"
             ],
             [
              0.4444444444444444,
              "#bd3786"
             ],
             [
              0.5555555555555556,
              "#d8576b"
             ],
             [
              0.6666666666666666,
              "#ed7953"
             ],
             [
              0.7777777777777778,
              "#fb9f3a"
             ],
             [
              0.8888888888888888,
              "#fdca26"
             ],
             [
              1,
              "#f0f921"
             ]
            ],
            "type": "heatmapgl"
           }
          ],
          "histogram": [
           {
            "marker": {
             "pattern": {
              "fillmode": "overlay",
              "size": 10,
              "solidity": 0.2
             }
            },
            "type": "histogram"
           }
          ],
          "histogram2d": [
           {
            "colorbar": {
             "outlinewidth": 0,
             "ticks": ""
            },
            "colorscale": [
             [
              0,
              "#0d0887"
             ],
             [
              0.1111111111111111,
              "#46039f"
             ],
             [
              0.2222222222222222,
              "#7201a8"
             ],
             [
              0.3333333333333333,
              "#9c179e"
             ],
             [
              0.4444444444444444,
              "#bd3786"
             ],
             [
              0.5555555555555556,
              "#d8576b"
             ],
             [
              0.6666666666666666,
              "#ed7953"
             ],
             [
              0.7777777777777778,
              "#fb9f3a"
             ],
             [
              0.8888888888888888,
              "#fdca26"
             ],
             [
              1,
              "#f0f921"
             ]
            ],
            "type": "histogram2d"
           }
          ],
          "histogram2dcontour": [
           {
            "colorbar": {
             "outlinewidth": 0,
             "ticks": ""
            },
            "colorscale": [
             [
              0,
              "#0d0887"
             ],
             [
              0.1111111111111111,
              "#46039f"
             ],
             [
              0.2222222222222222,
              "#7201a8"
             ],
             [
              0.3333333333333333,
              "#9c179e"
             ],
             [
              0.4444444444444444,
              "#bd3786"
             ],
             [
              0.5555555555555556,
              "#d8576b"
             ],
             [
              0.6666666666666666,
              "#ed7953"
             ],
             [
              0.7777777777777778,
              "#fb9f3a"
             ],
             [
              0.8888888888888888,
              "#fdca26"
             ],
             [
              1,
              "#f0f921"
             ]
            ],
            "type": "histogram2dcontour"
           }
          ],
          "mesh3d": [
           {
            "colorbar": {
             "outlinewidth": 0,
             "ticks": ""
            },
            "type": "mesh3d"
           }
          ],
          "parcoords": [
           {
            "line": {
             "colorbar": {
              "outlinewidth": 0,
              "ticks": ""
             }
            },
            "type": "parcoords"
           }
          ],
          "pie": [
           {
            "automargin": true,
            "type": "pie"
           }
          ],
          "scatter": [
           {
            "fillpattern": {
             "fillmode": "overlay",
             "size": 10,
             "solidity": 0.2
            },
            "type": "scatter"
           }
          ],
          "scatter3d": [
           {
            "line": {
             "colorbar": {
              "outlinewidth": 0,
              "ticks": ""
             }
            },
            "marker": {
             "colorbar": {
              "outlinewidth": 0,
              "ticks": ""
             }
            },
            "type": "scatter3d"
           }
          ],
          "scattercarpet": [
           {
            "marker": {
             "colorbar": {
              "outlinewidth": 0,
              "ticks": ""
             }
            },
            "type": "scattercarpet"
           }
          ],
          "scattergeo": [
           {
            "marker": {
             "colorbar": {
              "outlinewidth": 0,
              "ticks": ""
             }
            },
            "type": "scattergeo"
           }
          ],
          "scattergl": [
           {
            "marker": {
             "colorbar": {
              "outlinewidth": 0,
              "ticks": ""
             }
            },
            "type": "scattergl"
           }
          ],
          "scattermapbox": [
           {
            "marker": {
             "colorbar": {
              "outlinewidth": 0,
              "ticks": ""
             }
            },
            "type": "scattermapbox"
           }
          ],
          "scatterpolar": [
           {
            "marker": {
             "colorbar": {
              "outlinewidth": 0,
              "ticks": ""
             }
            },
            "type": "scatterpolar"
           }
          ],
          "scatterpolargl": [
           {
            "marker": {
             "colorbar": {
              "outlinewidth": 0,
              "ticks": ""
             }
            },
            "type": "scatterpolargl"
           }
          ],
          "scatterternary": [
           {
            "marker": {
             "colorbar": {
              "outlinewidth": 0,
              "ticks": ""
             }
            },
            "type": "scatterternary"
           }
          ],
          "surface": [
           {
            "colorbar": {
             "outlinewidth": 0,
             "ticks": ""
            },
            "colorscale": [
             [
              0,
              "#0d0887"
             ],
             [
              0.1111111111111111,
              "#46039f"
             ],
             [
              0.2222222222222222,
              "#7201a8"
             ],
             [
              0.3333333333333333,
              "#9c179e"
             ],
             [
              0.4444444444444444,
              "#bd3786"
             ],
             [
              0.5555555555555556,
              "#d8576b"
             ],
             [
              0.6666666666666666,
              "#ed7953"
             ],
             [
              0.7777777777777778,
              "#fb9f3a"
             ],
             [
              0.8888888888888888,
              "#fdca26"
             ],
             [
              1,
              "#f0f921"
             ]
            ],
            "type": "surface"
           }
          ],
          "table": [
           {
            "cells": {
             "fill": {
              "color": "#EBF0F8"
             },
             "line": {
              "color": "white"
             }
            },
            "header": {
             "fill": {
              "color": "#C8D4E3"
             },
             "line": {
              "color": "white"
             }
            },
            "type": "table"
           }
          ]
         },
         "layout": {
          "annotationdefaults": {
           "arrowcolor": "#2a3f5f",
           "arrowhead": 0,
           "arrowwidth": 1
          },
          "autotypenumbers": "strict",
          "coloraxis": {
           "colorbar": {
            "outlinewidth": 0,
            "ticks": ""
           }
          },
          "colorscale": {
           "diverging": [
            [
             0,
             "#8e0152"
            ],
            [
             0.1,
             "#c51b7d"
            ],
            [
             0.2,
             "#de77ae"
            ],
            [
             0.3,
             "#f1b6da"
            ],
            [
             0.4,
             "#fde0ef"
            ],
            [
             0.5,
             "#f7f7f7"
            ],
            [
             0.6,
             "#e6f5d0"
            ],
            [
             0.7,
             "#b8e186"
            ],
            [
             0.8,
             "#7fbc41"
            ],
            [
             0.9,
             "#4d9221"
            ],
            [
             1,
             "#276419"
            ]
           ],
           "sequential": [
            [
             0,
             "#0d0887"
            ],
            [
             0.1111111111111111,
             "#46039f"
            ],
            [
             0.2222222222222222,
             "#7201a8"
            ],
            [
             0.3333333333333333,
             "#9c179e"
            ],
            [
             0.4444444444444444,
             "#bd3786"
            ],
            [
             0.5555555555555556,
             "#d8576b"
            ],
            [
             0.6666666666666666,
             "#ed7953"
            ],
            [
             0.7777777777777778,
             "#fb9f3a"
            ],
            [
             0.8888888888888888,
             "#fdca26"
            ],
            [
             1,
             "#f0f921"
            ]
           ],
           "sequentialminus": [
            [
             0,
             "#0d0887"
            ],
            [
             0.1111111111111111,
             "#46039f"
            ],
            [
             0.2222222222222222,
             "#7201a8"
            ],
            [
             0.3333333333333333,
             "#9c179e"
            ],
            [
             0.4444444444444444,
             "#bd3786"
            ],
            [
             0.5555555555555556,
             "#d8576b"
            ],
            [
             0.6666666666666666,
             "#ed7953"
            ],
            [
             0.7777777777777778,
             "#fb9f3a"
            ],
            [
             0.8888888888888888,
             "#fdca26"
            ],
            [
             1,
             "#f0f921"
            ]
           ]
          },
          "colorway": [
           "#636efa",
           "#EF553B",
           "#00cc96",
           "#ab63fa",
           "#FFA15A",
           "#19d3f3",
           "#FF6692",
           "#B6E880",
           "#FF97FF",
           "#FECB52"
          ],
          "font": {
           "color": "#2a3f5f"
          },
          "geo": {
           "bgcolor": "white",
           "lakecolor": "white",
           "landcolor": "#E5ECF6",
           "showlakes": true,
           "showland": true,
           "subunitcolor": "white"
          },
          "hoverlabel": {
           "align": "left"
          },
          "hovermode": "closest",
          "mapbox": {
           "style": "light"
          },
          "paper_bgcolor": "white",
          "plot_bgcolor": "#E5ECF6",
          "polar": {
           "angularaxis": {
            "gridcolor": "white",
            "linecolor": "white",
            "ticks": ""
           },
           "bgcolor": "#E5ECF6",
           "radialaxis": {
            "gridcolor": "white",
            "linecolor": "white",
            "ticks": ""
           }
          },
          "scene": {
           "xaxis": {
            "backgroundcolor": "#E5ECF6",
            "gridcolor": "white",
            "gridwidth": 2,
            "linecolor": "white",
            "showbackground": true,
            "ticks": "",
            "zerolinecolor": "white"
           },
           "yaxis": {
            "backgroundcolor": "#E5ECF6",
            "gridcolor": "white",
            "gridwidth": 2,
            "linecolor": "white",
            "showbackground": true,
            "ticks": "",
            "zerolinecolor": "white"
           },
           "zaxis": {
            "backgroundcolor": "#E5ECF6",
            "gridcolor": "white",
            "gridwidth": 2,
            "linecolor": "white",
            "showbackground": true,
            "ticks": "",
            "zerolinecolor": "white"
           }
          },
          "shapedefaults": {
           "line": {
            "color": "#2a3f5f"
           }
          },
          "ternary": {
           "aaxis": {
            "gridcolor": "white",
            "linecolor": "white",
            "ticks": ""
           },
           "baxis": {
            "gridcolor": "white",
            "linecolor": "white",
            "ticks": ""
           },
           "bgcolor": "#E5ECF6",
           "caxis": {
            "gridcolor": "white",
            "linecolor": "white",
            "ticks": ""
           }
          },
          "title": {
           "x": 0.05
          },
          "xaxis": {
           "automargin": true,
           "gridcolor": "white",
           "linecolor": "white",
           "ticks": "",
           "title": {
            "standoff": 15
           },
           "zerolinecolor": "white",
           "zerolinewidth": 2
          },
          "yaxis": {
           "automargin": true,
           "gridcolor": "white",
           "linecolor": "white",
           "ticks": "",
           "title": {
            "standoff": 15
           },
           "zerolinecolor": "white",
           "zerolinewidth": 2
          }
         }
        },
        "title": {
         "text": "Optimization History Plot"
        },
        "xaxis": {
         "title": {
          "text": "Trial"
         }
        },
        "yaxis": {
         "title": {
          "text": "Objective Value"
         }
        }
       }
      },
      "text/html": [
       "<div>                            <div id=\"60f9933e-5190-426d-ad10-e2baf3f77c11\" class=\"plotly-graph-div\" style=\"height:525px; width:100%;\"></div>            <script type=\"text/javascript\">                require([\"plotly\"], function(Plotly) {                    window.PLOTLYENV=window.PLOTLYENV || {};                                    if (document.getElementById(\"60f9933e-5190-426d-ad10-e2baf3f77c11\")) {                    Plotly.newPlot(                        \"60f9933e-5190-426d-ad10-e2baf3f77c11\",                        [{\"mode\":\"markers\",\"name\":\"Objective Value\",\"x\":[0,1,2,3,4,5,6,7,8,9,10,11,12,13,14],\"y\":[7.3395504772814135,7.312790583836721,7.205175744408665,4.394406070867282,7.2372741448605336,4.412656542602049,7.373587163970305,4.561232484778738,7.123836232629951,4.407501052500797,4.365197238772839,4.400751151724572,4.35474094502726,4.642892537501719,4.277807944752356],\"type\":\"scatter\"},{\"mode\":\"lines\",\"name\":\"Best Value\",\"x\":[0,1,2,3,4,5,6,7,8,9,10,11,12,13,14],\"y\":[7.3395504772814135,7.312790583836721,7.205175744408665,4.394406070867282,4.394406070867282,4.394406070867282,4.394406070867282,4.394406070867282,4.394406070867282,4.394406070867282,4.365197238772839,4.365197238772839,4.35474094502726,4.35474094502726,4.277807944752356],\"type\":\"scatter\"},{\"marker\":{\"color\":\"#cccccc\"},\"mode\":\"markers\",\"name\":\"Infeasible Trial\",\"showlegend\":false,\"x\":[],\"y\":[],\"type\":\"scatter\"}],                        {\"title\":{\"text\":\"Optimization History Plot\"},\"xaxis\":{\"title\":{\"text\":\"Trial\"}},\"yaxis\":{\"title\":{\"text\":\"Objective Value\"}},\"template\":{\"data\":{\"histogram2dcontour\":[{\"type\":\"histogram2dcontour\",\"colorbar\":{\"outlinewidth\":0,\"ticks\":\"\"},\"colorscale\":[[0.0,\"#0d0887\"],[0.1111111111111111,\"#46039f\"],[0.2222222222222222,\"#7201a8\"],[0.3333333333333333,\"#9c179e\"],[0.4444444444444444,\"#bd3786\"],[0.5555555555555556,\"#d8576b\"],[0.6666666666666666,\"#ed7953\"],[0.7777777777777778,\"#fb9f3a\"],[0.8888888888888888,\"#fdca26\"],[1.0,\"#f0f921\"]]}],\"choropleth\":[{\"type\":\"choropleth\",\"colorbar\":{\"outlinewidth\":0,\"ticks\":\"\"}}],\"histogram2d\":[{\"type\":\"histogram2d\",\"colorbar\":{\"outlinewidth\":0,\"ticks\":\"\"},\"colorscale\":[[0.0,\"#0d0887\"],[0.1111111111111111,\"#46039f\"],[0.2222222222222222,\"#7201a8\"],[0.3333333333333333,\"#9c179e\"],[0.4444444444444444,\"#bd3786\"],[0.5555555555555556,\"#d8576b\"],[0.6666666666666666,\"#ed7953\"],[0.7777777777777778,\"#fb9f3a\"],[0.8888888888888888,\"#fdca26\"],[1.0,\"#f0f921\"]]}],\"heatmap\":[{\"type\":\"heatmap\",\"colorbar\":{\"outlinewidth\":0,\"ticks\":\"\"},\"colorscale\":[[0.0,\"#0d0887\"],[0.1111111111111111,\"#46039f\"],[0.2222222222222222,\"#7201a8\"],[0.3333333333333333,\"#9c179e\"],[0.4444444444444444,\"#bd3786\"],[0.5555555555555556,\"#d8576b\"],[0.6666666666666666,\"#ed7953\"],[0.7777777777777778,\"#fb9f3a\"],[0.8888888888888888,\"#fdca26\"],[1.0,\"#f0f921\"]]}],\"heatmapgl\":[{\"type\":\"heatmapgl\",\"colorbar\":{\"outlinewidth\":0,\"ticks\":\"\"},\"colorscale\":[[0.0,\"#0d0887\"],[0.1111111111111111,\"#46039f\"],[0.2222222222222222,\"#7201a8\"],[0.3333333333333333,\"#9c179e\"],[0.4444444444444444,\"#bd3786\"],[0.5555555555555556,\"#d8576b\"],[0.6666666666666666,\"#ed7953\"],[0.7777777777777778,\"#fb9f3a\"],[0.8888888888888888,\"#fdca26\"],[1.0,\"#f0f921\"]]}],\"contourcarpet\":[{\"type\":\"contourcarpet\",\"colorbar\":{\"outlinewidth\":0,\"ticks\":\"\"}}],\"contour\":[{\"type\":\"contour\",\"colorbar\":{\"outlinewidth\":0,\"ticks\":\"\"},\"colorscale\":[[0.0,\"#0d0887\"],[0.1111111111111111,\"#46039f\"],[0.2222222222222222,\"#7201a8\"],[0.3333333333333333,\"#9c179e\"],[0.4444444444444444,\"#bd3786\"],[0.5555555555555556,\"#d8576b\"],[0.6666666666666666,\"#ed7953\"],[0.7777777777777778,\"#fb9f3a\"],[0.8888888888888888,\"#fdca26\"],[1.0,\"#f0f921\"]]}],\"surface\":[{\"type\":\"surface\",\"colorbar\":{\"outlinewidth\":0,\"ticks\":\"\"},\"colorscale\":[[0.0,\"#0d0887\"],[0.1111111111111111,\"#46039f\"],[0.2222222222222222,\"#7201a8\"],[0.3333333333333333,\"#9c179e\"],[0.4444444444444444,\"#bd3786\"],[0.5555555555555556,\"#d8576b\"],[0.6666666666666666,\"#ed7953\"],[0.7777777777777778,\"#fb9f3a\"],[0.8888888888888888,\"#fdca26\"],[1.0,\"#f0f921\"]]}],\"mesh3d\":[{\"type\":\"mesh3d\",\"colorbar\":{\"outlinewidth\":0,\"ticks\":\"\"}}],\"scatter\":[{\"fillpattern\":{\"fillmode\":\"overlay\",\"size\":10,\"solidity\":0.2},\"type\":\"scatter\"}],\"parcoords\":[{\"type\":\"parcoords\",\"line\":{\"colorbar\":{\"outlinewidth\":0,\"ticks\":\"\"}}}],\"scatterpolargl\":[{\"type\":\"scatterpolargl\",\"marker\":{\"colorbar\":{\"outlinewidth\":0,\"ticks\":\"\"}}}],\"bar\":[{\"error_x\":{\"color\":\"#2a3f5f\"},\"error_y\":{\"color\":\"#2a3f5f\"},\"marker\":{\"line\":{\"color\":\"#E5ECF6\",\"width\":0.5},\"pattern\":{\"fillmode\":\"overlay\",\"size\":10,\"solidity\":0.2}},\"type\":\"bar\"}],\"scattergeo\":[{\"type\":\"scattergeo\",\"marker\":{\"colorbar\":{\"outlinewidth\":0,\"ticks\":\"\"}}}],\"scatterpolar\":[{\"type\":\"scatterpolar\",\"marker\":{\"colorbar\":{\"outlinewidth\":0,\"ticks\":\"\"}}}],\"histogram\":[{\"marker\":{\"pattern\":{\"fillmode\":\"overlay\",\"size\":10,\"solidity\":0.2}},\"type\":\"histogram\"}],\"scattergl\":[{\"type\":\"scattergl\",\"marker\":{\"colorbar\":{\"outlinewidth\":0,\"ticks\":\"\"}}}],\"scatter3d\":[{\"type\":\"scatter3d\",\"line\":{\"colorbar\":{\"outlinewidth\":0,\"ticks\":\"\"}},\"marker\":{\"colorbar\":{\"outlinewidth\":0,\"ticks\":\"\"}}}],\"scattermapbox\":[{\"type\":\"scattermapbox\",\"marker\":{\"colorbar\":{\"outlinewidth\":0,\"ticks\":\"\"}}}],\"scatterternary\":[{\"type\":\"scatterternary\",\"marker\":{\"colorbar\":{\"outlinewidth\":0,\"ticks\":\"\"}}}],\"scattercarpet\":[{\"type\":\"scattercarpet\",\"marker\":{\"colorbar\":{\"outlinewidth\":0,\"ticks\":\"\"}}}],\"carpet\":[{\"aaxis\":{\"endlinecolor\":\"#2a3f5f\",\"gridcolor\":\"white\",\"linecolor\":\"white\",\"minorgridcolor\":\"white\",\"startlinecolor\":\"#2a3f5f\"},\"baxis\":{\"endlinecolor\":\"#2a3f5f\",\"gridcolor\":\"white\",\"linecolor\":\"white\",\"minorgridcolor\":\"white\",\"startlinecolor\":\"#2a3f5f\"},\"type\":\"carpet\"}],\"table\":[{\"cells\":{\"fill\":{\"color\":\"#EBF0F8\"},\"line\":{\"color\":\"white\"}},\"header\":{\"fill\":{\"color\":\"#C8D4E3\"},\"line\":{\"color\":\"white\"}},\"type\":\"table\"}],\"barpolar\":[{\"marker\":{\"line\":{\"color\":\"#E5ECF6\",\"width\":0.5},\"pattern\":{\"fillmode\":\"overlay\",\"size\":10,\"solidity\":0.2}},\"type\":\"barpolar\"}],\"pie\":[{\"automargin\":true,\"type\":\"pie\"}]},\"layout\":{\"autotypenumbers\":\"strict\",\"colorway\":[\"#636efa\",\"#EF553B\",\"#00cc96\",\"#ab63fa\",\"#FFA15A\",\"#19d3f3\",\"#FF6692\",\"#B6E880\",\"#FF97FF\",\"#FECB52\"],\"font\":{\"color\":\"#2a3f5f\"},\"hovermode\":\"closest\",\"hoverlabel\":{\"align\":\"left\"},\"paper_bgcolor\":\"white\",\"plot_bgcolor\":\"#E5ECF6\",\"polar\":{\"bgcolor\":\"#E5ECF6\",\"angularaxis\":{\"gridcolor\":\"white\",\"linecolor\":\"white\",\"ticks\":\"\"},\"radialaxis\":{\"gridcolor\":\"white\",\"linecolor\":\"white\",\"ticks\":\"\"}},\"ternary\":{\"bgcolor\":\"#E5ECF6\",\"aaxis\":{\"gridcolor\":\"white\",\"linecolor\":\"white\",\"ticks\":\"\"},\"baxis\":{\"gridcolor\":\"white\",\"linecolor\":\"white\",\"ticks\":\"\"},\"caxis\":{\"gridcolor\":\"white\",\"linecolor\":\"white\",\"ticks\":\"\"}},\"coloraxis\":{\"colorbar\":{\"outlinewidth\":0,\"ticks\":\"\"}},\"colorscale\":{\"sequential\":[[0.0,\"#0d0887\"],[0.1111111111111111,\"#46039f\"],[0.2222222222222222,\"#7201a8\"],[0.3333333333333333,\"#9c179e\"],[0.4444444444444444,\"#bd3786\"],[0.5555555555555556,\"#d8576b\"],[0.6666666666666666,\"#ed7953\"],[0.7777777777777778,\"#fb9f3a\"],[0.8888888888888888,\"#fdca26\"],[1.0,\"#f0f921\"]],\"sequentialminus\":[[0.0,\"#0d0887\"],[0.1111111111111111,\"#46039f\"],[0.2222222222222222,\"#7201a8\"],[0.3333333333333333,\"#9c179e\"],[0.4444444444444444,\"#bd3786\"],[0.5555555555555556,\"#d8576b\"],[0.6666666666666666,\"#ed7953\"],[0.7777777777777778,\"#fb9f3a\"],[0.8888888888888888,\"#fdca26\"],[1.0,\"#f0f921\"]],\"diverging\":[[0,\"#8e0152\"],[0.1,\"#c51b7d\"],[0.2,\"#de77ae\"],[0.3,\"#f1b6da\"],[0.4,\"#fde0ef\"],[0.5,\"#f7f7f7\"],[0.6,\"#e6f5d0\"],[0.7,\"#b8e186\"],[0.8,\"#7fbc41\"],[0.9,\"#4d9221\"],[1,\"#276419\"]]},\"xaxis\":{\"gridcolor\":\"white\",\"linecolor\":\"white\",\"ticks\":\"\",\"title\":{\"standoff\":15},\"zerolinecolor\":\"white\",\"automargin\":true,\"zerolinewidth\":2},\"yaxis\":{\"gridcolor\":\"white\",\"linecolor\":\"white\",\"ticks\":\"\",\"title\":{\"standoff\":15},\"zerolinecolor\":\"white\",\"automargin\":true,\"zerolinewidth\":2},\"scene\":{\"xaxis\":{\"backgroundcolor\":\"#E5ECF6\",\"gridcolor\":\"white\",\"linecolor\":\"white\",\"showbackground\":true,\"ticks\":\"\",\"zerolinecolor\":\"white\",\"gridwidth\":2},\"yaxis\":{\"backgroundcolor\":\"#E5ECF6\",\"gridcolor\":\"white\",\"linecolor\":\"white\",\"showbackground\":true,\"ticks\":\"\",\"zerolinecolor\":\"white\",\"gridwidth\":2},\"zaxis\":{\"backgroundcolor\":\"#E5ECF6\",\"gridcolor\":\"white\",\"linecolor\":\"white\",\"showbackground\":true,\"ticks\":\"\",\"zerolinecolor\":\"white\",\"gridwidth\":2}},\"shapedefaults\":{\"line\":{\"color\":\"#2a3f5f\"}},\"annotationdefaults\":{\"arrowcolor\":\"#2a3f5f\",\"arrowhead\":0,\"arrowwidth\":1},\"geo\":{\"bgcolor\":\"white\",\"landcolor\":\"#E5ECF6\",\"subunitcolor\":\"white\",\"showland\":true,\"showlakes\":true,\"lakecolor\":\"white\"},\"title\":{\"x\":0.05},\"mapbox\":{\"style\":\"light\"}}}},                        {\"responsive\": true}                    ).then(function(){\n",
       "                            \n",
       "var gd = document.getElementById('60f9933e-5190-426d-ad10-e2baf3f77c11');\n",
       "var x = new MutationObserver(function (mutations, observer) {{\n",
       "        var display = window.getComputedStyle(gd).display;\n",
       "        if (!display || display === 'none') {{\n",
       "            console.log([gd, 'removed!']);\n",
       "            Plotly.purge(gd);\n",
       "            observer.disconnect();\n",
       "        }}\n",
       "}});\n",
       "\n",
       "// Listen for the removal of the full notebook cells\n",
       "var notebookContainer = gd.closest('#notebook-container');\n",
       "if (notebookContainer) {{\n",
       "    x.observe(notebookContainer, {childList: true});\n",
       "}}\n",
       "\n",
       "// Listen for the clearing of the current output cell\n",
       "var outputEl = gd.closest('.output');\n",
       "if (outputEl) {{\n",
       "    x.observe(outputEl, {childList: true});\n",
       "}}\n",
       "\n",
       "                        })                };                });            </script>        </div>"
      ]
     },
     "metadata": {},
     "output_type": "display_data"
    },
    {
     "data": {
      "application/vnd.plotly.v1+json": {
       "config": {
        "plotlyServerURL": "https://plot.ly"
       },
       "data": [
        {
         "cliponaxis": false,
         "hovertemplate": [
          "learning_rate (FloatDistribution): 0.00020825250093848595<extra></extra>",
          "min_samples_leaf (IntDistribution): 0.0003393900444587537<extra></extra>",
          "max_features (CategoricalDistribution): 0.016087997856893653<extra></extra>",
          "n_estimators (IntDistribution): 0.03266100615203721<extra></extra>",
          "min_samples_split (IntDistribution): 0.1711135620391119<extra></extra>",
          "max_depth (IntDistribution): 0.7795897914065599<extra></extra>"
         ],
         "name": "Objective Value",
         "orientation": "h",
         "text": [
          "<0.01",
          "<0.01",
          "0.02",
          "0.03",
          "0.17",
          "0.78"
         ],
         "textposition": "outside",
         "type": "bar",
         "x": [
          0.00020825250093848595,
          0.0003393900444587537,
          0.016087997856893653,
          0.03266100615203721,
          0.1711135620391119,
          0.7795897914065599
         ],
         "y": [
          "learning_rate",
          "min_samples_leaf",
          "max_features",
          "n_estimators",
          "min_samples_split",
          "max_depth"
         ]
        }
       ],
       "layout": {
        "template": {
         "data": {
          "bar": [
           {
            "error_x": {
             "color": "#2a3f5f"
            },
            "error_y": {
             "color": "#2a3f5f"
            },
            "marker": {
             "line": {
              "color": "#E5ECF6",
              "width": 0.5
             },
             "pattern": {
              "fillmode": "overlay",
              "size": 10,
              "solidity": 0.2
             }
            },
            "type": "bar"
           }
          ],
          "barpolar": [
           {
            "marker": {
             "line": {
              "color": "#E5ECF6",
              "width": 0.5
             },
             "pattern": {
              "fillmode": "overlay",
              "size": 10,
              "solidity": 0.2
             }
            },
            "type": "barpolar"
           }
          ],
          "carpet": [
           {
            "aaxis": {
             "endlinecolor": "#2a3f5f",
             "gridcolor": "white",
             "linecolor": "white",
             "minorgridcolor": "white",
             "startlinecolor": "#2a3f5f"
            },
            "baxis": {
             "endlinecolor": "#2a3f5f",
             "gridcolor": "white",
             "linecolor": "white",
             "minorgridcolor": "white",
             "startlinecolor": "#2a3f5f"
            },
            "type": "carpet"
           }
          ],
          "choropleth": [
           {
            "colorbar": {
             "outlinewidth": 0,
             "ticks": ""
            },
            "type": "choropleth"
           }
          ],
          "contour": [
           {
            "colorbar": {
             "outlinewidth": 0,
             "ticks": ""
            },
            "colorscale": [
             [
              0,
              "#0d0887"
             ],
             [
              0.1111111111111111,
              "#46039f"
             ],
             [
              0.2222222222222222,
              "#7201a8"
             ],
             [
              0.3333333333333333,
              "#9c179e"
             ],
             [
              0.4444444444444444,
              "#bd3786"
             ],
             [
              0.5555555555555556,
              "#d8576b"
             ],
             [
              0.6666666666666666,
              "#ed7953"
             ],
             [
              0.7777777777777778,
              "#fb9f3a"
             ],
             [
              0.8888888888888888,
              "#fdca26"
             ],
             [
              1,
              "#f0f921"
             ]
            ],
            "type": "contour"
           }
          ],
          "contourcarpet": [
           {
            "colorbar": {
             "outlinewidth": 0,
             "ticks": ""
            },
            "type": "contourcarpet"
           }
          ],
          "heatmap": [
           {
            "colorbar": {
             "outlinewidth": 0,
             "ticks": ""
            },
            "colorscale": [
             [
              0,
              "#0d0887"
             ],
             [
              0.1111111111111111,
              "#46039f"
             ],
             [
              0.2222222222222222,
              "#7201a8"
             ],
             [
              0.3333333333333333,
              "#9c179e"
             ],
             [
              0.4444444444444444,
              "#bd3786"
             ],
             [
              0.5555555555555556,
              "#d8576b"
             ],
             [
              0.6666666666666666,
              "#ed7953"
             ],
             [
              0.7777777777777778,
              "#fb9f3a"
             ],
             [
              0.8888888888888888,
              "#fdca26"
             ],
             [
              1,
              "#f0f921"
             ]
            ],
            "type": "heatmap"
           }
          ],
          "heatmapgl": [
           {
            "colorbar": {
             "outlinewidth": 0,
             "ticks": ""
            },
            "colorscale": [
             [
              0,
              "#0d0887"
             ],
             [
              0.1111111111111111,
              "#46039f"
             ],
             [
              0.2222222222222222,
              "#7201a8"
             ],
             [
              0.3333333333333333,
              "#9c179e"
             ],
             [
              0.4444444444444444,
              "#bd3786"
             ],
             [
              0.5555555555555556,
              "#d8576b"
             ],
             [
              0.6666666666666666,
              "#ed7953"
             ],
             [
              0.7777777777777778,
              "#fb9f3a"
             ],
             [
              0.8888888888888888,
              "#fdca26"
             ],
             [
              1,
              "#f0f921"
             ]
            ],
            "type": "heatmapgl"
           }
          ],
          "histogram": [
           {
            "marker": {
             "pattern": {
              "fillmode": "overlay",
              "size": 10,
              "solidity": 0.2
             }
            },
            "type": "histogram"
           }
          ],
          "histogram2d": [
           {
            "colorbar": {
             "outlinewidth": 0,
             "ticks": ""
            },
            "colorscale": [
             [
              0,
              "#0d0887"
             ],
             [
              0.1111111111111111,
              "#46039f"
             ],
             [
              0.2222222222222222,
              "#7201a8"
             ],
             [
              0.3333333333333333,
              "#9c179e"
             ],
             [
              0.4444444444444444,
              "#bd3786"
             ],
             [
              0.5555555555555556,
              "#d8576b"
             ],
             [
              0.6666666666666666,
              "#ed7953"
             ],
             [
              0.7777777777777778,
              "#fb9f3a"
             ],
             [
              0.8888888888888888,
              "#fdca26"
             ],
             [
              1,
              "#f0f921"
             ]
            ],
            "type": "histogram2d"
           }
          ],
          "histogram2dcontour": [
           {
            "colorbar": {
             "outlinewidth": 0,
             "ticks": ""
            },
            "colorscale": [
             [
              0,
              "#0d0887"
             ],
             [
              0.1111111111111111,
              "#46039f"
             ],
             [
              0.2222222222222222,
              "#7201a8"
             ],
             [
              0.3333333333333333,
              "#9c179e"
             ],
             [
              0.4444444444444444,
              "#bd3786"
             ],
             [
              0.5555555555555556,
              "#d8576b"
             ],
             [
              0.6666666666666666,
              "#ed7953"
             ],
             [
              0.7777777777777778,
              "#fb9f3a"
             ],
             [
              0.8888888888888888,
              "#fdca26"
             ],
             [
              1,
              "#f0f921"
             ]
            ],
            "type": "histogram2dcontour"
           }
          ],
          "mesh3d": [
           {
            "colorbar": {
             "outlinewidth": 0,
             "ticks": ""
            },
            "type": "mesh3d"
           }
          ],
          "parcoords": [
           {
            "line": {
             "colorbar": {
              "outlinewidth": 0,
              "ticks": ""
             }
            },
            "type": "parcoords"
           }
          ],
          "pie": [
           {
            "automargin": true,
            "type": "pie"
           }
          ],
          "scatter": [
           {
            "fillpattern": {
             "fillmode": "overlay",
             "size": 10,
             "solidity": 0.2
            },
            "type": "scatter"
           }
          ],
          "scatter3d": [
           {
            "line": {
             "colorbar": {
              "outlinewidth": 0,
              "ticks": ""
             }
            },
            "marker": {
             "colorbar": {
              "outlinewidth": 0,
              "ticks": ""
             }
            },
            "type": "scatter3d"
           }
          ],
          "scattercarpet": [
           {
            "marker": {
             "colorbar": {
              "outlinewidth": 0,
              "ticks": ""
             }
            },
            "type": "scattercarpet"
           }
          ],
          "scattergeo": [
           {
            "marker": {
             "colorbar": {
              "outlinewidth": 0,
              "ticks": ""
             }
            },
            "type": "scattergeo"
           }
          ],
          "scattergl": [
           {
            "marker": {
             "colorbar": {
              "outlinewidth": 0,
              "ticks": ""
             }
            },
            "type": "scattergl"
           }
          ],
          "scattermapbox": [
           {
            "marker": {
             "colorbar": {
              "outlinewidth": 0,
              "ticks": ""
             }
            },
            "type": "scattermapbox"
           }
          ],
          "scatterpolar": [
           {
            "marker": {
             "colorbar": {
              "outlinewidth": 0,
              "ticks": ""
             }
            },
            "type": "scatterpolar"
           }
          ],
          "scatterpolargl": [
           {
            "marker": {
             "colorbar": {
              "outlinewidth": 0,
              "ticks": ""
             }
            },
            "type": "scatterpolargl"
           }
          ],
          "scatterternary": [
           {
            "marker": {
             "colorbar": {
              "outlinewidth": 0,
              "ticks": ""
             }
            },
            "type": "scatterternary"
           }
          ],
          "surface": [
           {
            "colorbar": {
             "outlinewidth": 0,
             "ticks": ""
            },
            "colorscale": [
             [
              0,
              "#0d0887"
             ],
             [
              0.1111111111111111,
              "#46039f"
             ],
             [
              0.2222222222222222,
              "#7201a8"
             ],
             [
              0.3333333333333333,
              "#9c179e"
             ],
             [
              0.4444444444444444,
              "#bd3786"
             ],
             [
              0.5555555555555556,
              "#d8576b"
             ],
             [
              0.6666666666666666,
              "#ed7953"
             ],
             [
              0.7777777777777778,
              "#fb9f3a"
             ],
             [
              0.8888888888888888,
              "#fdca26"
             ],
             [
              1,
              "#f0f921"
             ]
            ],
            "type": "surface"
           }
          ],
          "table": [
           {
            "cells": {
             "fill": {
              "color": "#EBF0F8"
             },
             "line": {
              "color": "white"
             }
            },
            "header": {
             "fill": {
              "color": "#C8D4E3"
             },
             "line": {
              "color": "white"
             }
            },
            "type": "table"
           }
          ]
         },
         "layout": {
          "annotationdefaults": {
           "arrowcolor": "#2a3f5f",
           "arrowhead": 0,
           "arrowwidth": 1
          },
          "autotypenumbers": "strict",
          "coloraxis": {
           "colorbar": {
            "outlinewidth": 0,
            "ticks": ""
           }
          },
          "colorscale": {
           "diverging": [
            [
             0,
             "#8e0152"
            ],
            [
             0.1,
             "#c51b7d"
            ],
            [
             0.2,
             "#de77ae"
            ],
            [
             0.3,
             "#f1b6da"
            ],
            [
             0.4,
             "#fde0ef"
            ],
            [
             0.5,
             "#f7f7f7"
            ],
            [
             0.6,
             "#e6f5d0"
            ],
            [
             0.7,
             "#b8e186"
            ],
            [
             0.8,
             "#7fbc41"
            ],
            [
             0.9,
             "#4d9221"
            ],
            [
             1,
             "#276419"
            ]
           ],
           "sequential": [
            [
             0,
             "#0d0887"
            ],
            [
             0.1111111111111111,
             "#46039f"
            ],
            [
             0.2222222222222222,
             "#7201a8"
            ],
            [
             0.3333333333333333,
             "#9c179e"
            ],
            [
             0.4444444444444444,
             "#bd3786"
            ],
            [
             0.5555555555555556,
             "#d8576b"
            ],
            [
             0.6666666666666666,
             "#ed7953"
            ],
            [
             0.7777777777777778,
             "#fb9f3a"
            ],
            [
             0.8888888888888888,
             "#fdca26"
            ],
            [
             1,
             "#f0f921"
            ]
           ],
           "sequentialminus": [
            [
             0,
             "#0d0887"
            ],
            [
             0.1111111111111111,
             "#46039f"
            ],
            [
             0.2222222222222222,
             "#7201a8"
            ],
            [
             0.3333333333333333,
             "#9c179e"
            ],
            [
             0.4444444444444444,
             "#bd3786"
            ],
            [
             0.5555555555555556,
             "#d8576b"
            ],
            [
             0.6666666666666666,
             "#ed7953"
            ],
            [
             0.7777777777777778,
             "#fb9f3a"
            ],
            [
             0.8888888888888888,
             "#fdca26"
            ],
            [
             1,
             "#f0f921"
            ]
           ]
          },
          "colorway": [
           "#636efa",
           "#EF553B",
           "#00cc96",
           "#ab63fa",
           "#FFA15A",
           "#19d3f3",
           "#FF6692",
           "#B6E880",
           "#FF97FF",
           "#FECB52"
          ],
          "font": {
           "color": "#2a3f5f"
          },
          "geo": {
           "bgcolor": "white",
           "lakecolor": "white",
           "landcolor": "#E5ECF6",
           "showlakes": true,
           "showland": true,
           "subunitcolor": "white"
          },
          "hoverlabel": {
           "align": "left"
          },
          "hovermode": "closest",
          "mapbox": {
           "style": "light"
          },
          "paper_bgcolor": "white",
          "plot_bgcolor": "#E5ECF6",
          "polar": {
           "angularaxis": {
            "gridcolor": "white",
            "linecolor": "white",
            "ticks": ""
           },
           "bgcolor": "#E5ECF6",
           "radialaxis": {
            "gridcolor": "white",
            "linecolor": "white",
            "ticks": ""
           }
          },
          "scene": {
           "xaxis": {
            "backgroundcolor": "#E5ECF6",
            "gridcolor": "white",
            "gridwidth": 2,
            "linecolor": "white",
            "showbackground": true,
            "ticks": "",
            "zerolinecolor": "white"
           },
           "yaxis": {
            "backgroundcolor": "#E5ECF6",
            "gridcolor": "white",
            "gridwidth": 2,
            "linecolor": "white",
            "showbackground": true,
            "ticks": "",
            "zerolinecolor": "white"
           },
           "zaxis": {
            "backgroundcolor": "#E5ECF6",
            "gridcolor": "white",
            "gridwidth": 2,
            "linecolor": "white",
            "showbackground": true,
            "ticks": "",
            "zerolinecolor": "white"
           }
          },
          "shapedefaults": {
           "line": {
            "color": "#2a3f5f"
           }
          },
          "ternary": {
           "aaxis": {
            "gridcolor": "white",
            "linecolor": "white",
            "ticks": ""
           },
           "baxis": {
            "gridcolor": "white",
            "linecolor": "white",
            "ticks": ""
           },
           "bgcolor": "#E5ECF6",
           "caxis": {
            "gridcolor": "white",
            "linecolor": "white",
            "ticks": ""
           }
          },
          "title": {
           "x": 0.05
          },
          "xaxis": {
           "automargin": true,
           "gridcolor": "white",
           "linecolor": "white",
           "ticks": "",
           "title": {
            "standoff": 15
           },
           "zerolinecolor": "white",
           "zerolinewidth": 2
          },
          "yaxis": {
           "automargin": true,
           "gridcolor": "white",
           "linecolor": "white",
           "ticks": "",
           "title": {
            "standoff": 15
           },
           "zerolinecolor": "white",
           "zerolinewidth": 2
          }
         }
        },
        "title": {
         "text": "Hyperparameter Importances"
        },
        "xaxis": {
         "title": {
          "text": "Hyperparameter Importance"
         }
        },
        "yaxis": {
         "title": {
          "text": "Hyperparameter"
         }
        }
       }
      },
      "text/html": [
       "<div>                            <div id=\"f746ebce-b85e-44f4-9e58-231d0c1a34fa\" class=\"plotly-graph-div\" style=\"height:525px; width:100%;\"></div>            <script type=\"text/javascript\">                require([\"plotly\"], function(Plotly) {                    window.PLOTLYENV=window.PLOTLYENV || {};                                    if (document.getElementById(\"f746ebce-b85e-44f4-9e58-231d0c1a34fa\")) {                    Plotly.newPlot(                        \"f746ebce-b85e-44f4-9e58-231d0c1a34fa\",                        [{\"cliponaxis\":false,\"hovertemplate\":[\"learning_rate (FloatDistribution): 0.00020825250093848595\\u003cextra\\u003e\\u003c\\u002fextra\\u003e\",\"min_samples_leaf (IntDistribution): 0.0003393900444587537\\u003cextra\\u003e\\u003c\\u002fextra\\u003e\",\"max_features (CategoricalDistribution): 0.016087997856893653\\u003cextra\\u003e\\u003c\\u002fextra\\u003e\",\"n_estimators (IntDistribution): 0.03266100615203721\\u003cextra\\u003e\\u003c\\u002fextra\\u003e\",\"min_samples_split (IntDistribution): 0.1711135620391119\\u003cextra\\u003e\\u003c\\u002fextra\\u003e\",\"max_depth (IntDistribution): 0.7795897914065599\\u003cextra\\u003e\\u003c\\u002fextra\\u003e\"],\"name\":\"Objective Value\",\"orientation\":\"h\",\"text\":[\"\\u003c0.01\",\"\\u003c0.01\",\"0.02\",\"0.03\",\"0.17\",\"0.78\"],\"textposition\":\"outside\",\"x\":[0.00020825250093848595,0.0003393900444587537,0.016087997856893653,0.03266100615203721,0.1711135620391119,0.7795897914065599],\"y\":[\"learning_rate\",\"min_samples_leaf\",\"max_features\",\"n_estimators\",\"min_samples_split\",\"max_depth\"],\"type\":\"bar\"}],                        {\"title\":{\"text\":\"Hyperparameter Importances\"},\"xaxis\":{\"title\":{\"text\":\"Hyperparameter Importance\"}},\"yaxis\":{\"title\":{\"text\":\"Hyperparameter\"}},\"template\":{\"data\":{\"histogram2dcontour\":[{\"type\":\"histogram2dcontour\",\"colorbar\":{\"outlinewidth\":0,\"ticks\":\"\"},\"colorscale\":[[0.0,\"#0d0887\"],[0.1111111111111111,\"#46039f\"],[0.2222222222222222,\"#7201a8\"],[0.3333333333333333,\"#9c179e\"],[0.4444444444444444,\"#bd3786\"],[0.5555555555555556,\"#d8576b\"],[0.6666666666666666,\"#ed7953\"],[0.7777777777777778,\"#fb9f3a\"],[0.8888888888888888,\"#fdca26\"],[1.0,\"#f0f921\"]]}],\"choropleth\":[{\"type\":\"choropleth\",\"colorbar\":{\"outlinewidth\":0,\"ticks\":\"\"}}],\"histogram2d\":[{\"type\":\"histogram2d\",\"colorbar\":{\"outlinewidth\":0,\"ticks\":\"\"},\"colorscale\":[[0.0,\"#0d0887\"],[0.1111111111111111,\"#46039f\"],[0.2222222222222222,\"#7201a8\"],[0.3333333333333333,\"#9c179e\"],[0.4444444444444444,\"#bd3786\"],[0.5555555555555556,\"#d8576b\"],[0.6666666666666666,\"#ed7953\"],[0.7777777777777778,\"#fb9f3a\"],[0.8888888888888888,\"#fdca26\"],[1.0,\"#f0f921\"]]}],\"heatmap\":[{\"type\":\"heatmap\",\"colorbar\":{\"outlinewidth\":0,\"ticks\":\"\"},\"colorscale\":[[0.0,\"#0d0887\"],[0.1111111111111111,\"#46039f\"],[0.2222222222222222,\"#7201a8\"],[0.3333333333333333,\"#9c179e\"],[0.4444444444444444,\"#bd3786\"],[0.5555555555555556,\"#d8576b\"],[0.6666666666666666,\"#ed7953\"],[0.7777777777777778,\"#fb9f3a\"],[0.8888888888888888,\"#fdca26\"],[1.0,\"#f0f921\"]]}],\"heatmapgl\":[{\"type\":\"heatmapgl\",\"colorbar\":{\"outlinewidth\":0,\"ticks\":\"\"},\"colorscale\":[[0.0,\"#0d0887\"],[0.1111111111111111,\"#46039f\"],[0.2222222222222222,\"#7201a8\"],[0.3333333333333333,\"#9c179e\"],[0.4444444444444444,\"#bd3786\"],[0.5555555555555556,\"#d8576b\"],[0.6666666666666666,\"#ed7953\"],[0.7777777777777778,\"#fb9f3a\"],[0.8888888888888888,\"#fdca26\"],[1.0,\"#f0f921\"]]}],\"contourcarpet\":[{\"type\":\"contourcarpet\",\"colorbar\":{\"outlinewidth\":0,\"ticks\":\"\"}}],\"contour\":[{\"type\":\"contour\",\"colorbar\":{\"outlinewidth\":0,\"ticks\":\"\"},\"colorscale\":[[0.0,\"#0d0887\"],[0.1111111111111111,\"#46039f\"],[0.2222222222222222,\"#7201a8\"],[0.3333333333333333,\"#9c179e\"],[0.4444444444444444,\"#bd3786\"],[0.5555555555555556,\"#d8576b\"],[0.6666666666666666,\"#ed7953\"],[0.7777777777777778,\"#fb9f3a\"],[0.8888888888888888,\"#fdca26\"],[1.0,\"#f0f921\"]]}],\"surface\":[{\"type\":\"surface\",\"colorbar\":{\"outlinewidth\":0,\"ticks\":\"\"},\"colorscale\":[[0.0,\"#0d0887\"],[0.1111111111111111,\"#46039f\"],[0.2222222222222222,\"#7201a8\"],[0.3333333333333333,\"#9c179e\"],[0.4444444444444444,\"#bd3786\"],[0.5555555555555556,\"#d8576b\"],[0.6666666666666666,\"#ed7953\"],[0.7777777777777778,\"#fb9f3a\"],[0.8888888888888888,\"#fdca26\"],[1.0,\"#f0f921\"]]}],\"mesh3d\":[{\"type\":\"mesh3d\",\"colorbar\":{\"outlinewidth\":0,\"ticks\":\"\"}}],\"scatter\":[{\"fillpattern\":{\"fillmode\":\"overlay\",\"size\":10,\"solidity\":0.2},\"type\":\"scatter\"}],\"parcoords\":[{\"type\":\"parcoords\",\"line\":{\"colorbar\":{\"outlinewidth\":0,\"ticks\":\"\"}}}],\"scatterpolargl\":[{\"type\":\"scatterpolargl\",\"marker\":{\"colorbar\":{\"outlinewidth\":0,\"ticks\":\"\"}}}],\"bar\":[{\"error_x\":{\"color\":\"#2a3f5f\"},\"error_y\":{\"color\":\"#2a3f5f\"},\"marker\":{\"line\":{\"color\":\"#E5ECF6\",\"width\":0.5},\"pattern\":{\"fillmode\":\"overlay\",\"size\":10,\"solidity\":0.2}},\"type\":\"bar\"}],\"scattergeo\":[{\"type\":\"scattergeo\",\"marker\":{\"colorbar\":{\"outlinewidth\":0,\"ticks\":\"\"}}}],\"scatterpolar\":[{\"type\":\"scatterpolar\",\"marker\":{\"colorbar\":{\"outlinewidth\":0,\"ticks\":\"\"}}}],\"histogram\":[{\"marker\":{\"pattern\":{\"fillmode\":\"overlay\",\"size\":10,\"solidity\":0.2}},\"type\":\"histogram\"}],\"scattergl\":[{\"type\":\"scattergl\",\"marker\":{\"colorbar\":{\"outlinewidth\":0,\"ticks\":\"\"}}}],\"scatter3d\":[{\"type\":\"scatter3d\",\"line\":{\"colorbar\":{\"outlinewidth\":0,\"ticks\":\"\"}},\"marker\":{\"colorbar\":{\"outlinewidth\":0,\"ticks\":\"\"}}}],\"scattermapbox\":[{\"type\":\"scattermapbox\",\"marker\":{\"colorbar\":{\"outlinewidth\":0,\"ticks\":\"\"}}}],\"scatterternary\":[{\"type\":\"scatterternary\",\"marker\":{\"colorbar\":{\"outlinewidth\":0,\"ticks\":\"\"}}}],\"scattercarpet\":[{\"type\":\"scattercarpet\",\"marker\":{\"colorbar\":{\"outlinewidth\":0,\"ticks\":\"\"}}}],\"carpet\":[{\"aaxis\":{\"endlinecolor\":\"#2a3f5f\",\"gridcolor\":\"white\",\"linecolor\":\"white\",\"minorgridcolor\":\"white\",\"startlinecolor\":\"#2a3f5f\"},\"baxis\":{\"endlinecolor\":\"#2a3f5f\",\"gridcolor\":\"white\",\"linecolor\":\"white\",\"minorgridcolor\":\"white\",\"startlinecolor\":\"#2a3f5f\"},\"type\":\"carpet\"}],\"table\":[{\"cells\":{\"fill\":{\"color\":\"#EBF0F8\"},\"line\":{\"color\":\"white\"}},\"header\":{\"fill\":{\"color\":\"#C8D4E3\"},\"line\":{\"color\":\"white\"}},\"type\":\"table\"}],\"barpolar\":[{\"marker\":{\"line\":{\"color\":\"#E5ECF6\",\"width\":0.5},\"pattern\":{\"fillmode\":\"overlay\",\"size\":10,\"solidity\":0.2}},\"type\":\"barpolar\"}],\"pie\":[{\"automargin\":true,\"type\":\"pie\"}]},\"layout\":{\"autotypenumbers\":\"strict\",\"colorway\":[\"#636efa\",\"#EF553B\",\"#00cc96\",\"#ab63fa\",\"#FFA15A\",\"#19d3f3\",\"#FF6692\",\"#B6E880\",\"#FF97FF\",\"#FECB52\"],\"font\":{\"color\":\"#2a3f5f\"},\"hovermode\":\"closest\",\"hoverlabel\":{\"align\":\"left\"},\"paper_bgcolor\":\"white\",\"plot_bgcolor\":\"#E5ECF6\",\"polar\":{\"bgcolor\":\"#E5ECF6\",\"angularaxis\":{\"gridcolor\":\"white\",\"linecolor\":\"white\",\"ticks\":\"\"},\"radialaxis\":{\"gridcolor\":\"white\",\"linecolor\":\"white\",\"ticks\":\"\"}},\"ternary\":{\"bgcolor\":\"#E5ECF6\",\"aaxis\":{\"gridcolor\":\"white\",\"linecolor\":\"white\",\"ticks\":\"\"},\"baxis\":{\"gridcolor\":\"white\",\"linecolor\":\"white\",\"ticks\":\"\"},\"caxis\":{\"gridcolor\":\"white\",\"linecolor\":\"white\",\"ticks\":\"\"}},\"coloraxis\":{\"colorbar\":{\"outlinewidth\":0,\"ticks\":\"\"}},\"colorscale\":{\"sequential\":[[0.0,\"#0d0887\"],[0.1111111111111111,\"#46039f\"],[0.2222222222222222,\"#7201a8\"],[0.3333333333333333,\"#9c179e\"],[0.4444444444444444,\"#bd3786\"],[0.5555555555555556,\"#d8576b\"],[0.6666666666666666,\"#ed7953\"],[0.7777777777777778,\"#fb9f3a\"],[0.8888888888888888,\"#fdca26\"],[1.0,\"#f0f921\"]],\"sequentialminus\":[[0.0,\"#0d0887\"],[0.1111111111111111,\"#46039f\"],[0.2222222222222222,\"#7201a8\"],[0.3333333333333333,\"#9c179e\"],[0.4444444444444444,\"#bd3786\"],[0.5555555555555556,\"#d8576b\"],[0.6666666666666666,\"#ed7953\"],[0.7777777777777778,\"#fb9f3a\"],[0.8888888888888888,\"#fdca26\"],[1.0,\"#f0f921\"]],\"diverging\":[[0,\"#8e0152\"],[0.1,\"#c51b7d\"],[0.2,\"#de77ae\"],[0.3,\"#f1b6da\"],[0.4,\"#fde0ef\"],[0.5,\"#f7f7f7\"],[0.6,\"#e6f5d0\"],[0.7,\"#b8e186\"],[0.8,\"#7fbc41\"],[0.9,\"#4d9221\"],[1,\"#276419\"]]},\"xaxis\":{\"gridcolor\":\"white\",\"linecolor\":\"white\",\"ticks\":\"\",\"title\":{\"standoff\":15},\"zerolinecolor\":\"white\",\"automargin\":true,\"zerolinewidth\":2},\"yaxis\":{\"gridcolor\":\"white\",\"linecolor\":\"white\",\"ticks\":\"\",\"title\":{\"standoff\":15},\"zerolinecolor\":\"white\",\"automargin\":true,\"zerolinewidth\":2},\"scene\":{\"xaxis\":{\"backgroundcolor\":\"#E5ECF6\",\"gridcolor\":\"white\",\"linecolor\":\"white\",\"showbackground\":true,\"ticks\":\"\",\"zerolinecolor\":\"white\",\"gridwidth\":2},\"yaxis\":{\"backgroundcolor\":\"#E5ECF6\",\"gridcolor\":\"white\",\"linecolor\":\"white\",\"showbackground\":true,\"ticks\":\"\",\"zerolinecolor\":\"white\",\"gridwidth\":2},\"zaxis\":{\"backgroundcolor\":\"#E5ECF6\",\"gridcolor\":\"white\",\"linecolor\":\"white\",\"showbackground\":true,\"ticks\":\"\",\"zerolinecolor\":\"white\",\"gridwidth\":2}},\"shapedefaults\":{\"line\":{\"color\":\"#2a3f5f\"}},\"annotationdefaults\":{\"arrowcolor\":\"#2a3f5f\",\"arrowhead\":0,\"arrowwidth\":1},\"geo\":{\"bgcolor\":\"white\",\"landcolor\":\"#E5ECF6\",\"subunitcolor\":\"white\",\"showland\":true,\"showlakes\":true,\"lakecolor\":\"white\"},\"title\":{\"x\":0.05},\"mapbox\":{\"style\":\"light\"}}}},                        {\"responsive\": true}                    ).then(function(){\n",
       "                            \n",
       "var gd = document.getElementById('f746ebce-b85e-44f4-9e58-231d0c1a34fa');\n",
       "var x = new MutationObserver(function (mutations, observer) {{\n",
       "        var display = window.getComputedStyle(gd).display;\n",
       "        if (!display || display === 'none') {{\n",
       "            console.log([gd, 'removed!']);\n",
       "            Plotly.purge(gd);\n",
       "            observer.disconnect();\n",
       "        }}\n",
       "}});\n",
       "\n",
       "// Listen for the removal of the full notebook cells\n",
       "var notebookContainer = gd.closest('#notebook-container');\n",
       "if (notebookContainer) {{\n",
       "    x.observe(notebookContainer, {childList: true});\n",
       "}}\n",
       "\n",
       "// Listen for the clearing of the current output cell\n",
       "var outputEl = gd.closest('.output');\n",
       "if (outputEl) {{\n",
       "    x.observe(outputEl, {childList: true});\n",
       "}}\n",
       "\n",
       "                        })                };                });            </script>        </div>"
      ]
     },
     "metadata": {},
     "output_type": "display_data"
    }
   ],
   "source": [
    "# Visualizations\n",
    "vis.plot_optimization_history(study_ada).show()\n",
    "vis.plot_param_importances(study_ada).show()"
   ]
  },
  {
   "cell_type": "markdown",
   "id": "84af9992e5ef29",
   "metadata": {},
   "source": [
    "#### Model Training"
   ]
  },
  {
   "cell_type": "code",
   "execution_count": 44,
   "id": "b25541167525f53d",
   "metadata": {
    "ExecuteTime": {
     "end_time": "2024-12-11T23:33:19.346907Z",
     "start_time": "2024-12-11T23:33:19.321161Z"
    }
   },
   "outputs": [],
   "source": [
    "# Get the best hyperparameters\n",
    "best_params_ada = study_ada.best_params"
   ]
  },
  {
   "cell_type": "code",
   "execution_count": 45,
   "id": "cd187baa0ef7c2ae",
   "metadata": {
    "ExecuteTime": {
     "end_time": "2024-12-11T23:33:19.383093Z",
     "start_time": "2024-12-11T23:33:19.368709Z"
    }
   },
   "outputs": [],
   "source": [
    "# Create the AdaBoost model with best hyperparameters\n",
    "dt = DecisionTreeRegressor(\n",
    "    max_depth=best_params_ada['max_depth'],\n",
    "    min_samples_split=best_params_ada['min_samples_split'],\n",
    "    min_samples_leaf=best_params_ada['min_samples_leaf'],\n",
    "    max_features=best_params_ada['max_features'],\n",
    "    random_state=42\n",
    ")\n",
    "\n",
    "ab = AdaBoostRegressor(\n",
    "    estimator=dt,\n",
    "    n_estimators=best_params_ada['n_estimators'],\n",
    "    learning_rate=best_params_ada['learning_rate'],\n",
    "    random_state=42\n",
    ")"
   ]
  },
  {
   "cell_type": "code",
   "execution_count": 46,
   "id": "bebba119764a1caa",
   "metadata": {
    "ExecuteTime": {
     "end_time": "2024-12-11T23:33:19.511529Z",
     "start_time": "2024-12-11T23:33:19.386121Z"
    }
   },
   "outputs": [
    {
     "data": {
      "text/html": [
       "<style>#sk-container-id-3 {\n",
       "  /* Definition of color scheme common for light and dark mode */\n",
       "  --sklearn-color-text: black;\n",
       "  --sklearn-color-line: gray;\n",
       "  /* Definition of color scheme for unfitted estimators */\n",
       "  --sklearn-color-unfitted-level-0: #fff5e6;\n",
       "  --sklearn-color-unfitted-level-1: #f6e4d2;\n",
       "  --sklearn-color-unfitted-level-2: #ffe0b3;\n",
       "  --sklearn-color-unfitted-level-3: chocolate;\n",
       "  /* Definition of color scheme for fitted estimators */\n",
       "  --sklearn-color-fitted-level-0: #f0f8ff;\n",
       "  --sklearn-color-fitted-level-1: #d4ebff;\n",
       "  --sklearn-color-fitted-level-2: #b3dbfd;\n",
       "  --sklearn-color-fitted-level-3: cornflowerblue;\n",
       "\n",
       "  /* Specific color for light theme */\n",
       "  --sklearn-color-text-on-default-background: var(--sg-text-color, var(--theme-code-foreground, var(--jp-content-font-color1, black)));\n",
       "  --sklearn-color-background: var(--sg-background-color, var(--theme-background, var(--jp-layout-color0, white)));\n",
       "  --sklearn-color-border-box: var(--sg-text-color, var(--theme-code-foreground, var(--jp-content-font-color1, black)));\n",
       "  --sklearn-color-icon: #696969;\n",
       "\n",
       "  @media (prefers-color-scheme: dark) {\n",
       "    /* Redefinition of color scheme for dark theme */\n",
       "    --sklearn-color-text-on-default-background: var(--sg-text-color, var(--theme-code-foreground, var(--jp-content-font-color1, white)));\n",
       "    --sklearn-color-background: var(--sg-background-color, var(--theme-background, var(--jp-layout-color0, #111)));\n",
       "    --sklearn-color-border-box: var(--sg-text-color, var(--theme-code-foreground, var(--jp-content-font-color1, white)));\n",
       "    --sklearn-color-icon: #878787;\n",
       "  }\n",
       "}\n",
       "\n",
       "#sk-container-id-3 {\n",
       "  color: var(--sklearn-color-text);\n",
       "}\n",
       "\n",
       "#sk-container-id-3 pre {\n",
       "  padding: 0;\n",
       "}\n",
       "\n",
       "#sk-container-id-3 input.sk-hidden--visually {\n",
       "  border: 0;\n",
       "  clip: rect(1px 1px 1px 1px);\n",
       "  clip: rect(1px, 1px, 1px, 1px);\n",
       "  height: 1px;\n",
       "  margin: -1px;\n",
       "  overflow: hidden;\n",
       "  padding: 0;\n",
       "  position: absolute;\n",
       "  width: 1px;\n",
       "}\n",
       "\n",
       "#sk-container-id-3 div.sk-dashed-wrapped {\n",
       "  border: 1px dashed var(--sklearn-color-line);\n",
       "  margin: 0 0.4em 0.5em 0.4em;\n",
       "  box-sizing: border-box;\n",
       "  padding-bottom: 0.4em;\n",
       "  background-color: var(--sklearn-color-background);\n",
       "}\n",
       "\n",
       "#sk-container-id-3 div.sk-container {\n",
       "  /* jupyter's `normalize.less` sets `[hidden] { display: none; }`\n",
       "     but bootstrap.min.css set `[hidden] { display: none !important; }`\n",
       "     so we also need the `!important` here to be able to override the\n",
       "     default hidden behavior on the sphinx rendered scikit-learn.org.\n",
       "     See: https://github.com/scikit-learn/scikit-learn/issues/21755 */\n",
       "  display: inline-block !important;\n",
       "  position: relative;\n",
       "}\n",
       "\n",
       "#sk-container-id-3 div.sk-text-repr-fallback {\n",
       "  display: none;\n",
       "}\n",
       "\n",
       "div.sk-parallel-item,\n",
       "div.sk-serial,\n",
       "div.sk-item {\n",
       "  /* draw centered vertical line to link estimators */\n",
       "  background-image: linear-gradient(var(--sklearn-color-text-on-default-background), var(--sklearn-color-text-on-default-background));\n",
       "  background-size: 2px 100%;\n",
       "  background-repeat: no-repeat;\n",
       "  background-position: center center;\n",
       "}\n",
       "\n",
       "/* Parallel-specific style estimator block */\n",
       "\n",
       "#sk-container-id-3 div.sk-parallel-item::after {\n",
       "  content: \"\";\n",
       "  width: 100%;\n",
       "  border-bottom: 2px solid var(--sklearn-color-text-on-default-background);\n",
       "  flex-grow: 1;\n",
       "}\n",
       "\n",
       "#sk-container-id-3 div.sk-parallel {\n",
       "  display: flex;\n",
       "  align-items: stretch;\n",
       "  justify-content: center;\n",
       "  background-color: var(--sklearn-color-background);\n",
       "  position: relative;\n",
       "}\n",
       "\n",
       "#sk-container-id-3 div.sk-parallel-item {\n",
       "  display: flex;\n",
       "  flex-direction: column;\n",
       "}\n",
       "\n",
       "#sk-container-id-3 div.sk-parallel-item:first-child::after {\n",
       "  align-self: flex-end;\n",
       "  width: 50%;\n",
       "}\n",
       "\n",
       "#sk-container-id-3 div.sk-parallel-item:last-child::after {\n",
       "  align-self: flex-start;\n",
       "  width: 50%;\n",
       "}\n",
       "\n",
       "#sk-container-id-3 div.sk-parallel-item:only-child::after {\n",
       "  width: 0;\n",
       "}\n",
       "\n",
       "/* Serial-specific style estimator block */\n",
       "\n",
       "#sk-container-id-3 div.sk-serial {\n",
       "  display: flex;\n",
       "  flex-direction: column;\n",
       "  align-items: center;\n",
       "  background-color: var(--sklearn-color-background);\n",
       "  padding-right: 1em;\n",
       "  padding-left: 1em;\n",
       "}\n",
       "\n",
       "\n",
       "/* Toggleable style: style used for estimator/Pipeline/ColumnTransformer box that is\n",
       "clickable and can be expanded/collapsed.\n",
       "- Pipeline and ColumnTransformer use this feature and define the default style\n",
       "- Estimators will overwrite some part of the style using the `sk-estimator` class\n",
       "*/\n",
       "\n",
       "/* Pipeline and ColumnTransformer style (default) */\n",
       "\n",
       "#sk-container-id-3 div.sk-toggleable {\n",
       "  /* Default theme specific background. It is overwritten whether we have a\n",
       "  specific estimator or a Pipeline/ColumnTransformer */\n",
       "  background-color: var(--sklearn-color-background);\n",
       "}\n",
       "\n",
       "/* Toggleable label */\n",
       "#sk-container-id-3 label.sk-toggleable__label {\n",
       "  cursor: pointer;\n",
       "  display: block;\n",
       "  width: 100%;\n",
       "  margin-bottom: 0;\n",
       "  padding: 0.5em;\n",
       "  box-sizing: border-box;\n",
       "  text-align: center;\n",
       "}\n",
       "\n",
       "#sk-container-id-3 label.sk-toggleable__label-arrow:before {\n",
       "  /* Arrow on the left of the label */\n",
       "  content: \"▸\";\n",
       "  float: left;\n",
       "  margin-right: 0.25em;\n",
       "  color: var(--sklearn-color-icon);\n",
       "}\n",
       "\n",
       "#sk-container-id-3 label.sk-toggleable__label-arrow:hover:before {\n",
       "  color: var(--sklearn-color-text);\n",
       "}\n",
       "\n",
       "/* Toggleable content - dropdown */\n",
       "\n",
       "#sk-container-id-3 div.sk-toggleable__content {\n",
       "  max-height: 0;\n",
       "  max-width: 0;\n",
       "  overflow: hidden;\n",
       "  text-align: left;\n",
       "  /* unfitted */\n",
       "  background-color: var(--sklearn-color-unfitted-level-0);\n",
       "}\n",
       "\n",
       "#sk-container-id-3 div.sk-toggleable__content.fitted {\n",
       "  /* fitted */\n",
       "  background-color: var(--sklearn-color-fitted-level-0);\n",
       "}\n",
       "\n",
       "#sk-container-id-3 div.sk-toggleable__content pre {\n",
       "  margin: 0.2em;\n",
       "  border-radius: 0.25em;\n",
       "  color: var(--sklearn-color-text);\n",
       "  /* unfitted */\n",
       "  background-color: var(--sklearn-color-unfitted-level-0);\n",
       "}\n",
       "\n",
       "#sk-container-id-3 div.sk-toggleable__content.fitted pre {\n",
       "  /* unfitted */\n",
       "  background-color: var(--sklearn-color-fitted-level-0);\n",
       "}\n",
       "\n",
       "#sk-container-id-3 input.sk-toggleable__control:checked~div.sk-toggleable__content {\n",
       "  /* Expand drop-down */\n",
       "  max-height: 200px;\n",
       "  max-width: 100%;\n",
       "  overflow: auto;\n",
       "}\n",
       "\n",
       "#sk-container-id-3 input.sk-toggleable__control:checked~label.sk-toggleable__label-arrow:before {\n",
       "  content: \"▾\";\n",
       "}\n",
       "\n",
       "/* Pipeline/ColumnTransformer-specific style */\n",
       "\n",
       "#sk-container-id-3 div.sk-label input.sk-toggleable__control:checked~label.sk-toggleable__label {\n",
       "  color: var(--sklearn-color-text);\n",
       "  background-color: var(--sklearn-color-unfitted-level-2);\n",
       "}\n",
       "\n",
       "#sk-container-id-3 div.sk-label.fitted input.sk-toggleable__control:checked~label.sk-toggleable__label {\n",
       "  background-color: var(--sklearn-color-fitted-level-2);\n",
       "}\n",
       "\n",
       "/* Estimator-specific style */\n",
       "\n",
       "/* Colorize estimator box */\n",
       "#sk-container-id-3 div.sk-estimator input.sk-toggleable__control:checked~label.sk-toggleable__label {\n",
       "  /* unfitted */\n",
       "  background-color: var(--sklearn-color-unfitted-level-2);\n",
       "}\n",
       "\n",
       "#sk-container-id-3 div.sk-estimator.fitted input.sk-toggleable__control:checked~label.sk-toggleable__label {\n",
       "  /* fitted */\n",
       "  background-color: var(--sklearn-color-fitted-level-2);\n",
       "}\n",
       "\n",
       "#sk-container-id-3 div.sk-label label.sk-toggleable__label,\n",
       "#sk-container-id-3 div.sk-label label {\n",
       "  /* The background is the default theme color */\n",
       "  color: var(--sklearn-color-text-on-default-background);\n",
       "}\n",
       "\n",
       "/* On hover, darken the color of the background */\n",
       "#sk-container-id-3 div.sk-label:hover label.sk-toggleable__label {\n",
       "  color: var(--sklearn-color-text);\n",
       "  background-color: var(--sklearn-color-unfitted-level-2);\n",
       "}\n",
       "\n",
       "/* Label box, darken color on hover, fitted */\n",
       "#sk-container-id-3 div.sk-label.fitted:hover label.sk-toggleable__label.fitted {\n",
       "  color: var(--sklearn-color-text);\n",
       "  background-color: var(--sklearn-color-fitted-level-2);\n",
       "}\n",
       "\n",
       "/* Estimator label */\n",
       "\n",
       "#sk-container-id-3 div.sk-label label {\n",
       "  font-family: monospace;\n",
       "  font-weight: bold;\n",
       "  display: inline-block;\n",
       "  line-height: 1.2em;\n",
       "}\n",
       "\n",
       "#sk-container-id-3 div.sk-label-container {\n",
       "  text-align: center;\n",
       "}\n",
       "\n",
       "/* Estimator-specific */\n",
       "#sk-container-id-3 div.sk-estimator {\n",
       "  font-family: monospace;\n",
       "  border: 1px dotted var(--sklearn-color-border-box);\n",
       "  border-radius: 0.25em;\n",
       "  box-sizing: border-box;\n",
       "  margin-bottom: 0.5em;\n",
       "  /* unfitted */\n",
       "  background-color: var(--sklearn-color-unfitted-level-0);\n",
       "}\n",
       "\n",
       "#sk-container-id-3 div.sk-estimator.fitted {\n",
       "  /* fitted */\n",
       "  background-color: var(--sklearn-color-fitted-level-0);\n",
       "}\n",
       "\n",
       "/* on hover */\n",
       "#sk-container-id-3 div.sk-estimator:hover {\n",
       "  /* unfitted */\n",
       "  background-color: var(--sklearn-color-unfitted-level-2);\n",
       "}\n",
       "\n",
       "#sk-container-id-3 div.sk-estimator.fitted:hover {\n",
       "  /* fitted */\n",
       "  background-color: var(--sklearn-color-fitted-level-2);\n",
       "}\n",
       "\n",
       "/* Specification for estimator info (e.g. \"i\" and \"?\") */\n",
       "\n",
       "/* Common style for \"i\" and \"?\" */\n",
       "\n",
       ".sk-estimator-doc-link,\n",
       "a:link.sk-estimator-doc-link,\n",
       "a:visited.sk-estimator-doc-link {\n",
       "  float: right;\n",
       "  font-size: smaller;\n",
       "  line-height: 1em;\n",
       "  font-family: monospace;\n",
       "  background-color: var(--sklearn-color-background);\n",
       "  border-radius: 1em;\n",
       "  height: 1em;\n",
       "  width: 1em;\n",
       "  text-decoration: none !important;\n",
       "  margin-left: 1ex;\n",
       "  /* unfitted */\n",
       "  border: var(--sklearn-color-unfitted-level-1) 1pt solid;\n",
       "  color: var(--sklearn-color-unfitted-level-1);\n",
       "}\n",
       "\n",
       ".sk-estimator-doc-link.fitted,\n",
       "a:link.sk-estimator-doc-link.fitted,\n",
       "a:visited.sk-estimator-doc-link.fitted {\n",
       "  /* fitted */\n",
       "  border: var(--sklearn-color-fitted-level-1) 1pt solid;\n",
       "  color: var(--sklearn-color-fitted-level-1);\n",
       "}\n",
       "\n",
       "/* On hover */\n",
       "div.sk-estimator:hover .sk-estimator-doc-link:hover,\n",
       ".sk-estimator-doc-link:hover,\n",
       "div.sk-label-container:hover .sk-estimator-doc-link:hover,\n",
       ".sk-estimator-doc-link:hover {\n",
       "  /* unfitted */\n",
       "  background-color: var(--sklearn-color-unfitted-level-3);\n",
       "  color: var(--sklearn-color-background);\n",
       "  text-decoration: none;\n",
       "}\n",
       "\n",
       "div.sk-estimator.fitted:hover .sk-estimator-doc-link.fitted:hover,\n",
       ".sk-estimator-doc-link.fitted:hover,\n",
       "div.sk-label-container:hover .sk-estimator-doc-link.fitted:hover,\n",
       ".sk-estimator-doc-link.fitted:hover {\n",
       "  /* fitted */\n",
       "  background-color: var(--sklearn-color-fitted-level-3);\n",
       "  color: var(--sklearn-color-background);\n",
       "  text-decoration: none;\n",
       "}\n",
       "\n",
       "/* Span, style for the box shown on hovering the info icon */\n",
       ".sk-estimator-doc-link span {\n",
       "  display: none;\n",
       "  z-index: 9999;\n",
       "  position: relative;\n",
       "  font-weight: normal;\n",
       "  right: .2ex;\n",
       "  padding: .5ex;\n",
       "  margin: .5ex;\n",
       "  width: min-content;\n",
       "  min-width: 20ex;\n",
       "  max-width: 50ex;\n",
       "  color: var(--sklearn-color-text);\n",
       "  box-shadow: 2pt 2pt 4pt #999;\n",
       "  /* unfitted */\n",
       "  background: var(--sklearn-color-unfitted-level-0);\n",
       "  border: .5pt solid var(--sklearn-color-unfitted-level-3);\n",
       "}\n",
       "\n",
       ".sk-estimator-doc-link.fitted span {\n",
       "  /* fitted */\n",
       "  background: var(--sklearn-color-fitted-level-0);\n",
       "  border: var(--sklearn-color-fitted-level-3);\n",
       "}\n",
       "\n",
       ".sk-estimator-doc-link:hover span {\n",
       "  display: block;\n",
       "}\n",
       "\n",
       "/* \"?\"-specific style due to the `<a>` HTML tag */\n",
       "\n",
       "#sk-container-id-3 a.estimator_doc_link {\n",
       "  float: right;\n",
       "  font-size: 1rem;\n",
       "  line-height: 1em;\n",
       "  font-family: monospace;\n",
       "  background-color: var(--sklearn-color-background);\n",
       "  border-radius: 1rem;\n",
       "  height: 1rem;\n",
       "  width: 1rem;\n",
       "  text-decoration: none;\n",
       "  /* unfitted */\n",
       "  color: var(--sklearn-color-unfitted-level-1);\n",
       "  border: var(--sklearn-color-unfitted-level-1) 1pt solid;\n",
       "}\n",
       "\n",
       "#sk-container-id-3 a.estimator_doc_link.fitted {\n",
       "  /* fitted */\n",
       "  border: var(--sklearn-color-fitted-level-1) 1pt solid;\n",
       "  color: var(--sklearn-color-fitted-level-1);\n",
       "}\n",
       "\n",
       "/* On hover */\n",
       "#sk-container-id-3 a.estimator_doc_link:hover {\n",
       "  /* unfitted */\n",
       "  background-color: var(--sklearn-color-unfitted-level-3);\n",
       "  color: var(--sklearn-color-background);\n",
       "  text-decoration: none;\n",
       "}\n",
       "\n",
       "#sk-container-id-3 a.estimator_doc_link.fitted:hover {\n",
       "  /* fitted */\n",
       "  background-color: var(--sklearn-color-fitted-level-3);\n",
       "}\n",
       "</style><div id=\"sk-container-id-3\" class=\"sk-top-container\"><div class=\"sk-text-repr-fallback\"><pre>AdaBoostRegressor(estimator=DecisionTreeRegressor(max_depth=2,\n",
       "                                                  max_features=&#x27;sqrt&#x27;,\n",
       "                                                  min_samples_leaf=6,\n",
       "                                                  min_samples_split=3,\n",
       "                                                  random_state=42),\n",
       "                  learning_rate=0.438127723216328, n_estimators=409,\n",
       "                  random_state=42)</pre><b>In a Jupyter environment, please rerun this cell to show the HTML representation or trust the notebook. <br />On GitHub, the HTML representation is unable to render, please try loading this page with nbviewer.org.</b></div><div class=\"sk-container\" hidden><div class=\"sk-item sk-dashed-wrapped\"><div class=\"sk-label-container\"><div class=\"sk-label fitted sk-toggleable\"><input class=\"sk-toggleable__control sk-hidden--visually\" id=\"sk-estimator-id-3\" type=\"checkbox\" ><label for=\"sk-estimator-id-3\" class=\"sk-toggleable__label fitted sk-toggleable__label-arrow fitted\">&nbsp;&nbsp;AdaBoostRegressor<a class=\"sk-estimator-doc-link fitted\" rel=\"noreferrer\" target=\"_blank\" href=\"https://scikit-learn.org/1.5/modules/generated/sklearn.ensemble.AdaBoostRegressor.html\">?<span>Documentation for AdaBoostRegressor</span></a><span class=\"sk-estimator-doc-link fitted\">i<span>Fitted</span></span></label><div class=\"sk-toggleable__content fitted\"><pre>AdaBoostRegressor(estimator=DecisionTreeRegressor(max_depth=2,\n",
       "                                                  max_features=&#x27;sqrt&#x27;,\n",
       "                                                  min_samples_leaf=6,\n",
       "                                                  min_samples_split=3,\n",
       "                                                  random_state=42),\n",
       "                  learning_rate=0.438127723216328, n_estimators=409,\n",
       "                  random_state=42)</pre></div> </div></div><div class=\"sk-parallel\"><div class=\"sk-parallel-item\"><div class=\"sk-item\"><div class=\"sk-label-container\"><div class=\"sk-label fitted sk-toggleable\"><input class=\"sk-toggleable__control sk-hidden--visually\" id=\"sk-estimator-id-4\" type=\"checkbox\" ><label for=\"sk-estimator-id-4\" class=\"sk-toggleable__label fitted sk-toggleable__label-arrow fitted\">estimator: DecisionTreeRegressor</label><div class=\"sk-toggleable__content fitted\"><pre>DecisionTreeRegressor(max_depth=2, max_features=&#x27;sqrt&#x27;, min_samples_leaf=6,\n",
       "                      min_samples_split=3, random_state=42)</pre></div> </div></div><div class=\"sk-serial\"><div class=\"sk-item\"><div class=\"sk-estimator fitted sk-toggleable\"><input class=\"sk-toggleable__control sk-hidden--visually\" id=\"sk-estimator-id-5\" type=\"checkbox\" ><label for=\"sk-estimator-id-5\" class=\"sk-toggleable__label fitted sk-toggleable__label-arrow fitted\">&nbsp;DecisionTreeRegressor<a class=\"sk-estimator-doc-link fitted\" rel=\"noreferrer\" target=\"_blank\" href=\"https://scikit-learn.org/1.5/modules/generated/sklearn.tree.DecisionTreeRegressor.html\">?<span>Documentation for DecisionTreeRegressor</span></a></label><div class=\"sk-toggleable__content fitted\"><pre>DecisionTreeRegressor(max_depth=2, max_features=&#x27;sqrt&#x27;, min_samples_leaf=6,\n",
       "                      min_samples_split=3, random_state=42)</pre></div> </div></div></div></div></div></div></div></div></div>"
      ],
      "text/plain": [
       "AdaBoostRegressor(estimator=DecisionTreeRegressor(max_depth=2,\n",
       "                                                  max_features='sqrt',\n",
       "                                                  min_samples_leaf=6,\n",
       "                                                  min_samples_split=3,\n",
       "                                                  random_state=42),\n",
       "                  learning_rate=0.438127723216328, n_estimators=409,\n",
       "                  random_state=42)"
      ]
     },
     "execution_count": 46,
     "metadata": {},
     "output_type": "execute_result"
    }
   ],
   "source": [
    "# Fit the model\n",
    "ab.fit(X_train, y_train)"
   ]
  },
  {
   "cell_type": "markdown",
   "id": "8915d82d7c457b7f",
   "metadata": {},
   "source": [
    "#### Model Evaluation"
   ]
  },
  {
   "cell_type": "code",
   "execution_count": 47,
   "id": "9c0ac0ae50f964a6",
   "metadata": {
    "ExecuteTime": {
     "end_time": "2024-12-11T23:33:19.553573Z",
     "start_time": "2024-12-11T23:33:19.522589Z"
    }
   },
   "outputs": [],
   "source": [
    "y_pred_ada_train = ab.predict(X_train)\n",
    "y_pred_ada_test = ab.predict(X_test)"
   ]
  },
  {
   "cell_type": "code",
   "execution_count": 48,
   "id": "917403bda6963f9c",
   "metadata": {
    "ExecuteTime": {
     "end_time": "2024-12-11T23:33:19.647587Z",
     "start_time": "2024-12-11T23:33:19.564395Z"
    }
   },
   "outputs": [
    {
     "data": {
      "image/png": "[encoded data removed]",
      "text/plain": [
       "<Figure size 1000x600 with 1 Axes>"
      ]
     },
     "metadata": {},
     "output_type": "display_data"
    }
   ],
   "source": [
    "# plot top 10 features\n",
    "plt.figure(figsize=(10, 6))\n",
    "plt.barh(X.columns[np.argsort(ab.feature_importances_)[::-1][:10]],\n",
    "         ab.feature_importances_[np.argsort(ab.feature_importances_)[::-1][:10]])\n",
    "plt.xlabel('Feature Importance')\n",
    "plt.ylabel('Feature')\n",
    "plt.title('Top 10 Features')\n",
    "plt.show()"
   ]
  },
  {
   "cell_type": "code",
   "execution_count": 49,
   "id": "bed2f9f295fc6de6",
   "metadata": {
    "ExecuteTime": {
     "end_time": "2024-12-11T23:33:19.732891Z",
     "start_time": "2024-12-11T23:33:19.660846Z"
    }
   },
   "outputs": [
    {
     "data": {
      "image/png": "[encoded data removed]",
      "text/plain": [
       "<Figure size 1000x600 with 1 Axes>"
      ]
     },
     "metadata": {},
     "output_type": "display_data"
    }
   ],
   "source": [
    "# show predicted vs actual\n",
    "plt.figure(figsize=(10, 6))\n",
    "plt.plot(y_test.index, y_test, label='Actual')\n",
    "plt.plot(y_test.index, y_pred_ada_test, label='Predicted')\n",
    "plt.xlabel('Date')\n",
    "plt.ylabel('Price')\n",
    "plt.title('AdaBoost Predicted vs Actual')\n",
    "plt.legend()\n",
    "plt.show()"
   ]
  },
  {
   "cell_type": "markdown",
   "id": "4a6aa6a4af228375",
   "metadata": {},
   "source": [
    "#### Model Saving"
   ]
  },
  {
   "cell_type": "code",
   "execution_count": 50,
   "id": "36c370e827008f99",
   "metadata": {
    "ExecuteTime": {
     "end_time": "2024-12-11T23:33:19.761552Z",
     "start_time": "2024-12-11T23:33:19.744769Z"
    }
   },
   "outputs": [],
   "source": [
    "# Save the model\n",
    "pickle.dump(ab, open('../models/EQR_ada.pkl', 'wb'))"
   ]
  },
  {
   "cell_type": "markdown",
   "id": "7c72d40f-cc32-45b3-92a4-6e007fa636a6",
   "metadata": {},
   "source": [
    "### XGBoost"
   ]
  },
  {
   "cell_type": "markdown",
   "id": "a711e506-6e56-4151-98e5-8a2b3fda5dc1",
   "metadata": {},
   "source": [
    "#### Hyperparameter Tuning"
   ]
  },
  {
   "cell_type": "code",
   "execution_count": 51,
   "id": "fad078c5-6c7b-406b-b060-8af0f974fec6",
   "metadata": {
    "ExecuteTime": {
     "end_time": "2024-12-11T23:33:19.786953Z",
     "start_time": "2024-12-11T23:33:19.771439Z"
    }
   },
   "outputs": [],
   "source": [
    "# Hyperparameter search space\n",
    "def objective(trial):\n",
    "    # Define the hyperparameter search space\n",
    "    param = {\n",
    "        \"n_estimators\": trial.suggest_int(\"n_estimators\", 50, 1000),\n",
    "        \"max_depth\": trial.suggest_int(\"max_depth\", 3, 6),\n",
    "        \"learning_rate\": trial.suggest_float(\"learning_rate\", 1e-4, 0.3, log=True),\n",
    "        \"subsample\": trial.suggest_float(\"subsample\", 0.3, 1.0),\n",
    "        \"colsample_bytree\": trial.suggest_float(\"colsample_bytree\", 0.5, 1.0),\n",
    "        \"gamma\": trial.suggest_float(\"gamma\", 0, 10),\n",
    "        \"min_child_weight\": trial.suggest_int(\"min_child_weight\", 1, 10),\n",
    "        \"reg_alpha\": trial.suggest_float(\"reg_alpha\", 0, 1),  # L1 regularization\n",
    "        \"reg_lambda\": trial.suggest_float(\"reg_lambda\", 0, 5),  # L2 regularization\n",
    "    }\n",
    "\n",
    "    # Initialize XGBoost model\n",
    "    model = XGBRegressor(random_state=42, **param)\n",
    "\n",
    "    scores = cross_val_score(model, X_train, y_train, scoring=scorer, cv=cv, n_jobs=-1)\n",
    "\n",
    "    return -scores.mean()"
   ]
  },
  {
   "cell_type": "code",
   "execution_count": 52,
   "id": "9a9f14e79f9bbbff",
   "metadata": {
    "ExecuteTime": {
     "end_time": "2024-12-11T23:33:47.904328Z",
     "start_time": "2024-12-11T23:33:19.797572Z"
    }
   },
   "outputs": [
    {
     "name": "stderr",
     "output_type": "stream",
     "text": [
      "[I 2024-12-11 18:33:19,811] A new study created in memory with name: xg_tuning\n"
     ]
    },
    {
     "data": {
      "application/vnd.jupyter.widget-view+json": {
       "model_id": "7dcb29c5f8f341faad1d54990f5f0d20",
       "version_major": 2,
       "version_minor": 0
      },
      "text/plain": [
       "  0%|          | 0/15 [00:00<?, ?it/s]"
      ]
     },
     "metadata": {},
     "output_type": "display_data"
    },
    {
     "name": "stdout",
     "output_type": "stream",
     "text": [
      "[I 2024-12-11 18:33:21,230] Trial 0 finished with value: 6.049600984273538 and parameters: {'n_estimators': 336, 'max_depth': 4, 'learning_rate': 0.001946151486863181, 'subsample': 0.7751686893002665, 'colsample_bytree': 0.7650110316506589, 'gamma': 4.104223570973428, 'min_child_weight': 3, 'reg_alpha': 0.5949023876530287, 'reg_lambda': 2.8969894704312122}. Best is trial 0 with value: 6.049600984273538.\n",
      "[I 2024-12-11 18:33:22,489] Trial 1 finished with value: 2.3034600266797183 and parameters: {'n_estimators': 553, 'max_depth': 3, 'learning_rate': 0.014067705598392356, 'subsample': 0.5389438874673977, 'colsample_bytree': 0.7492063589456327, 'gamma': 1.2855750198964466, 'min_child_weight': 8, 'reg_alpha': 0.41401114556565766, 'reg_lambda': 1.180318516207589}. Best is trial 1 with value: 2.3034600266797183.\n",
      "[I 2024-12-11 18:33:24,546] Trial 2 finished with value: 2.2558665869675254 and parameters: {'n_estimators': 830, 'max_depth': 5, 'learning_rate': 0.009208945712275308, 'subsample': 0.39761141149881224, 'colsample_bytree': 0.595124432977604, 'gamma': 5.201074979508454, 'min_child_weight': 8, 'reg_alpha': 0.6171520687247628, 'reg_lambda': 3.444952853053414}. Best is trial 2 with value: 2.2558665869675254.\n",
      "[I 2024-12-11 18:33:25,702] Trial 3 finished with value: 2.3874413941908075 and parameters: {'n_estimators': 880, 'max_depth': 5, 'learning_rate': 0.1905855831466998, 'subsample': 0.4834984612329089, 'colsample_bytree': 0.7989492053770557, 'gamma': 6.394303068359549, 'min_child_weight': 7, 'reg_alpha': 0.41102662081505037, 'reg_lambda': 2.9400262651455695}. Best is trial 2 with value: 2.2558665869675254.\n",
      "[I 2024-12-11 18:33:26,255] Trial 4 finished with value: 2.952934479838151 and parameters: {'n_estimators': 133, 'max_depth': 4, 'learning_rate': 0.015859729955768963, 'subsample': 0.9188589053254158, 'colsample_bytree': 0.7131636219886528, 'gamma': 4.831098207358895, 'min_child_weight': 4, 'reg_alpha': 0.17132923204213057, 'reg_lambda': 0.7437133447778144}. Best is trial 2 with value: 2.2558665869675254.\n",
      "[I 2024-12-11 18:33:27,220] Trial 5 finished with value: 9.277246804151897 and parameters: {'n_estimators': 519, 'max_depth': 3, 'learning_rate': 0.00016166391923288565, 'subsample': 0.47361893057706905, 'colsample_bytree': 0.6385117728957699, 'gamma': 3.4809399026684638, 'min_child_weight': 10, 'reg_alpha': 0.6305194355997307, 'reg_lambda': 4.2709189769982006}. Best is trial 2 with value: 2.2558665869675254.\n",
      "[I 2024-12-11 18:33:27,397] Trial 6 finished with value: 2.494919323028408 and parameters: {'n_estimators': 51, 'max_depth': 5, 'learning_rate': 0.24976424396563984, 'subsample': 0.7783535645622025, 'colsample_bytree': 0.5589007910281544, 'gamma': 9.250808773873008, 'min_child_weight': 4, 'reg_alpha': 0.3171074345001462, 'reg_lambda': 1.4606745206745986}. Best is trial 2 with value: 2.2558665869675254.\n",
      "[I 2024-12-11 18:33:33,356] Trial 7 finished with value: 2.341540287566672 and parameters: {'n_estimators': 859, 'max_depth': 6, 'learning_rate': 0.005414569933056128, 'subsample': 0.7333277849356229, 'colsample_bytree': 0.5439223729148088, 'gamma': 2.2248014921184414, 'min_child_weight': 1, 'reg_alpha': 0.5545397926925861, 'reg_lambda': 3.4835833293919336}. Best is trial 2 with value: 2.2558665869675254.\n",
      "[I 2024-12-11 18:33:35,998] Trial 8 finished with value: 2.2711293464300466 and parameters: {'n_estimators': 849, 'max_depth': 3, 'learning_rate': 0.011358138279797602, 'subsample': 0.6816550665312248, 'colsample_bytree': 0.6757865226001654, 'gamma': 1.629436161515777, 'min_child_weight': 4, 'reg_alpha': 0.742690752545438, 'reg_lambda': 2.8602887456575257}. Best is trial 2 with value: 2.2558665869675254.\n",
      "[I 2024-12-11 18:33:37,887] Trial 9 finished with value: 2.301269548673822 and parameters: {'n_estimators': 589, 'max_depth': 5, 'learning_rate': 0.021110769665710374, 'subsample': 0.9570219678945912, 'colsample_bytree': 0.8598059469537173, 'gamma': 8.566356835753329, 'min_child_weight': 7, 'reg_alpha': 0.44124257462984173, 'reg_lambda': 2.1170553222873885}. Best is trial 2 with value: 2.2558665869675254.\n",
      "[I 2024-12-11 18:33:40,412] Trial 10 finished with value: 6.805155499929832 and parameters: {'n_estimators': 981, 'max_depth': 6, 'learning_rate': 0.0006470927667600578, 'subsample': 0.31207634063236595, 'colsample_bytree': 0.979304067027583, 'gamma': 6.458374474519056, 'min_child_weight': 10, 'reg_alpha': 0.9718107758005146, 'reg_lambda': 4.726676728106286}. Best is trial 2 with value: 2.2558665869675254.\n",
      "[I 2024-12-11 18:33:43,191] Trial 11 finished with value: 2.134298580481238 and parameters: {'n_estimators': 769, 'max_depth': 4, 'learning_rate': 0.05566066062300032, 'subsample': 0.30320216272808825, 'colsample_bytree': 0.6162390817232444, 'gamma': 0.2086036706818135, 'min_child_weight': 6, 'reg_alpha': 0.8063307094930932, 'reg_lambda': 3.3958393800421636}. Best is trial 11 with value: 2.134298580481238.\n",
      "[I 2024-12-11 18:33:45,152] Trial 12 finished with value: 2.0940592959669693 and parameters: {'n_estimators': 726, 'max_depth': 4, 'learning_rate': 0.05144729261533029, 'subsample': 0.3239261049451175, 'colsample_bytree': 0.6111511777431242, 'gamma': 0.3152741218754418, 'min_child_weight': 6, 'reg_alpha': 0.8710472381067335, 'reg_lambda': 3.8727648648571367}. Best is trial 12 with value: 2.0940592959669693.\n",
      "[I 2024-12-11 18:33:46,570] Trial 13 finished with value: 2.1277413693552076 and parameters: {'n_estimators': 671, 'max_depth': 4, 'learning_rate': 0.07267227727139153, 'subsample': 0.30376022306070005, 'colsample_bytree': 0.5083115633908413, 'gamma': 0.26691297989074436, 'min_child_weight': 6, 'reg_alpha': 0.9287682269146634, 'reg_lambda': 4.089255637123213}. Best is trial 12 with value: 2.0940592959669693.\n",
      "[I 2024-12-11 18:33:47,896] Trial 14 finished with value: 2.2122132576593017 and parameters: {'n_estimators': 677, 'max_depth': 4, 'learning_rate': 0.06622583025205411, 'subsample': 0.3919383013764777, 'colsample_bytree': 0.500898414240994, 'gamma': 0.3711335754630258, 'min_child_weight': 6, 'reg_alpha': 0.9893369976804871, 'reg_lambda': 4.145241276727086}. Best is trial 12 with value: 2.0940592959669693.\n"
     ]
    }
   ],
   "source": [
    "# Optimize hyperparameters\n",
    "study_xg = optuna.create_study(direction='minimize', study_name='xg_tuning')\n",
    "study_xg.optimize(objective, n_trials=n_trials, show_progress_bar=True)"
   ]
  },
  {
   "cell_type": "code",
   "execution_count": 53,
   "id": "51d0dbc5c4e8f9d2",
   "metadata": {
    "ExecuteTime": {
     "end_time": "2024-12-11T23:33:48.074635Z",
     "start_time": "2024-12-11T23:33:47.942875Z"
    }
   },
   "outputs": [
    {
     "data": {
      "application/vnd.plotly.v1+json": {
       "config": {
        "plotlyServerURL": "https://plot.ly"
       },
       "data": [
        {
         "mode": "markers",
         "name": "Objective Value",
         "type": "scatter",
         "x": [
          0,
          1,
          2,
          3,
          4,
          5,
          6,
          7,
          8,
          9,
          10,
          11,
          12,
          13,
          14
         ],
         "y": [
          6.049600984273538,
          2.3034600266797183,
          2.2558665869675254,
          2.3874413941908075,
          2.952934479838151,
          9.277246804151897,
          2.494919323028408,
          2.341540287566672,
          2.2711293464300466,
          2.301269548673822,
          6.805155499929832,
          2.134298580481238,
          2.0940592959669693,
          2.1277413693552076,
          2.2122132576593017
         ]
        },
        {
         "mode": "lines",
         "name": "Best Value",
         "type": "scatter",
         "x": [
          0,
          1,
          2,
          3,
          4,
          5,
          6,
          7,
          8,
          9,
          10,
          11,
          12,
          13,
          14
         ],
         "y": [
          6.049600984273538,
          2.3034600266797183,
          2.2558665869675254,
          2.2558665869675254,
          2.2558665869675254,
          2.2558665869675254,
          2.2558665869675254,
          2.2558665869675254,
          2.2558665869675254,
          2.2558665869675254,
          2.2558665869675254,
          2.134298580481238,
          2.0940592959669693,
          2.0940592959669693,
          2.0940592959669693
         ]
        },
        {
         "marker": {
          "color": "#cccccc"
         },
         "mode": "markers",
         "name": "Infeasible Trial",
         "showlegend": false,
         "type": "scatter",
         "x": [],
         "y": []
        }
       ],
       "layout": {
        "template": {
         "data": {
          "bar": [
           {
            "error_x": {
             "color": "#2a3f5f"
            },
            "error_y": {
             "color": "#2a3f5f"
            },
            "marker": {
             "line": {
              "color": "#E5ECF6",
              "width": 0.5
             },
             "pattern": {
              "fillmode": "overlay",
              "size": 10,
              "solidity": 0.2
             }
            },
            "type": "bar"
           }
          ],
          "barpolar": [
           {
            "marker": {
             "line": {
              "color": "#E5ECF6",
              "width": 0.5
             },
             "pattern": {
              "fillmode": "overlay",
              "size": 10,
              "solidity": 0.2
             }
            },
            "type": "barpolar"
           }
          ],
          "carpet": [
           {
            "aaxis": {
             "endlinecolor": "#2a3f5f",
             "gridcolor": "white",
             "linecolor": "white",
             "minorgridcolor": "white",
             "startlinecolor": "#2a3f5f"
            },
            "baxis": {
             "endlinecolor": "#2a3f5f",
             "gridcolor": "white",
             "linecolor": "white",
             "minorgridcolor": "white",
             "startlinecolor": "#2a3f5f"
            },
            "type": "carpet"
           }
          ],
          "choropleth": [
           {
            "colorbar": {
             "outlinewidth": 0,
             "ticks": ""
            },
            "type": "choropleth"
           }
          ],
          "contour": [
           {
            "colorbar": {
             "outlinewidth": 0,
             "ticks": ""
            },
            "colorscale": [
             [
              0,
              "#0d0887"
             ],
             [
              0.1111111111111111,
              "#46039f"
             ],
             [
              0.2222222222222222,
              "#7201a8"
             ],
             [
              0.3333333333333333,
              "#9c179e"
             ],
             [
              0.4444444444444444,
              "#bd3786"
             ],
             [
              0.5555555555555556,
              "#d8576b"
             ],
             [
              0.6666666666666666,
              "#ed7953"
             ],
             [
              0.7777777777777778,
              "#fb9f3a"
             ],
             [
              0.8888888888888888,
              "#fdca26"
             ],
             [
              1,
              "#f0f921"
             ]
            ],
            "type": "contour"
           }
          ],
          "contourcarpet": [
           {
            "colorbar": {
             "outlinewidth": 0,
             "ticks": ""
            },
            "type": "contourcarpet"
           }
          ],
          "heatmap": [
           {
            "colorbar": {
             "outlinewidth": 0,
             "ticks": ""
            },
            "colorscale": [
             [
              0,
              "#0d0887"
             ],
             [
              0.1111111111111111,
              "#46039f"
             ],
             [
              0.2222222222222222,
              "#7201a8"
             ],
             [
              0.3333333333333333,
              "#9c179e"
             ],
             [
              0.4444444444444444,
              "#bd3786"
             ],
             [
              0.5555555555555556,
              "#d8576b"
             ],
             [
              0.6666666666666666,
              "#ed7953"
             ],
             [
              0.7777777777777778,
              "#fb9f3a"
             ],
             [
              0.8888888888888888,
              "#fdca26"
             ],
             [
              1,
              "#f0f921"
             ]
            ],
            "type": "heatmap"
           }
          ],
          "heatmapgl": [
           {
            "colorbar": {
             "outlinewidth": 0,
             "ticks": ""
            },
            "colorscale": [
             [
              0,
              "#0d0887"
             ],
             [
              0.1111111111111111,
              "#46039f"
             ],
             [
              0.2222222222222222,
              "#7201a8"
             ],
             [
              0.3333333333333333,
              "#9c179e"
             ],
             [
              0.4444444444444444,
              "#bd3786"
             ],
             [
              0.5555555555555556,
              "#d8576b"
             ],
             [
              0.6666666666666666,
              "#ed7953"
             ],
             [
              0.7777777777777778,
              "#fb9f3a"
             ],
             [
              0.8888888888888888,
              "#fdca26"
             ],
             [
              1,
              "#f0f921"
             ]
            ],
            "type": "heatmapgl"
           }
          ],
          "histogram": [
           {
            "marker": {
             "pattern": {
              "fillmode": "overlay",
              "size": 10,
              "solidity": 0.2
             }
            },
            "type": "histogram"
           }
          ],
          "histogram2d": [
           {
            "colorbar": {
             "outlinewidth": 0,
             "ticks": ""
            },
            "colorscale": [
             [
              0,
              "#0d0887"
             ],
             [
              0.1111111111111111,
              "#46039f"
             ],
             [
              0.2222222222222222,
              "#7201a8"
             ],
             [
              0.3333333333333333,
              "#9c179e"
             ],
             [
              0.4444444444444444,
              "#bd3786"
             ],
             [
              0.5555555555555556,
              "#d8576b"
             ],
             [
              0.6666666666666666,
              "#ed7953"
             ],
             [
              0.7777777777777778,
              "#fb9f3a"
             ],
             [
              0.8888888888888888,
              "#fdca26"
             ],
             [
              1,
              "#f0f921"
             ]
            ],
            "type": "histogram2d"
           }
          ],
          "histogram2dcontour": [
           {
            "colorbar": {
             "outlinewidth": 0,
             "ticks": ""
            },
            "colorscale": [
             [
              0,
              "#0d0887"
             ],
             [
              0.1111111111111111,
              "#46039f"
             ],
             [
              0.2222222222222222,
              "#7201a8"
             ],
             [
              0.3333333333333333,
              "#9c179e"
             ],
             [
              0.4444444444444444,
              "#bd3786"
             ],
             [
              0.5555555555555556,
              "#d8576b"
             ],
             [
              0.6666666666666666,
              "#ed7953"
             ],
             [
              0.7777777777777778,
              "#fb9f3a"
             ],
             [
              0.8888888888888888,
              "#fdca26"
             ],
             [
              1,
              "#f0f921"
             ]
            ],
            "type": "histogram2dcontour"
           }
          ],
          "mesh3d": [
           {
            "colorbar": {
             "outlinewidth": 0,
             "ticks": ""
            },
            "type": "mesh3d"
           }
          ],
          "parcoords": [
           {
            "line": {
             "colorbar": {
              "outlinewidth": 0,
              "ticks": ""
             }
            },
            "type": "parcoords"
           }
          ],
          "pie": [
           {
            "automargin": true,
            "type": "pie"
           }
          ],
          "scatter": [
           {
            "fillpattern": {
             "fillmode": "overlay",
             "size": 10,
             "solidity": 0.2
            },
            "type": "scatter"
           }
          ],
          "scatter3d": [
           {
            "line": {
             "colorbar": {
              "outlinewidth": 0,
              "ticks": ""
             }
            },
            "marker": {
             "colorbar": {
              "outlinewidth": 0,
              "ticks": ""
             }
            },
            "type": "scatter3d"
           }
          ],
          "scattercarpet": [
           {
            "marker": {
             "colorbar": {
              "outlinewidth": 0,
              "ticks": ""
             }
            },
            "type": "scattercarpet"
           }
          ],
          "scattergeo": [
           {
            "marker": {
             "colorbar": {
              "outlinewidth": 0,
              "ticks": ""
             }
            },
            "type": "scattergeo"
           }
          ],
          "scattergl": [
           {
            "marker": {
             "colorbar": {
              "outlinewidth": 0,
              "ticks": ""
             }
            },
            "type": "scattergl"
           }
          ],
          "scattermapbox": [
           {
            "marker": {
             "colorbar": {
              "outlinewidth": 0,
              "ticks": ""
             }
            },
            "type": "scattermapbox"
           }
          ],
          "scatterpolar": [
           {
            "marker": {
             "colorbar": {
              "outlinewidth": 0,
              "ticks": ""
             }
            },
            "type": "scatterpolar"
           }
          ],
          "scatterpolargl": [
           {
            "marker": {
             "colorbar": {
              "outlinewidth": 0,
              "ticks": ""
             }
            },
            "type": "scatterpolargl"
           }
          ],
          "scatterternary": [
           {
            "marker": {
             "colorbar": {
              "outlinewidth": 0,
              "ticks": ""
             }
            },
            "type": "scatterternary"
           }
          ],
          "surface": [
           {
            "colorbar": {
             "outlinewidth": 0,
             "ticks": ""
            },
            "colorscale": [
             [
              0,
              "#0d0887"
             ],
             [
              0.1111111111111111,
              "#46039f"
             ],
             [
              0.2222222222222222,
              "#7201a8"
             ],
             [
              0.3333333333333333,
              "#9c179e"
             ],
             [
              0.4444444444444444,
              "#bd3786"
             ],
             [
              0.5555555555555556,
              "#d8576b"
             ],
             [
              0.6666666666666666,
              "#ed7953"
             ],
             [
              0.7777777777777778,
              "#fb9f3a"
             ],
             [
              0.8888888888888888,
              "#fdca26"
             ],
             [
              1,
              "#f0f921"
             ]
            ],
            "type": "surface"
           }
          ],
          "table": [
           {
            "cells": {
             "fill": {
              "color": "#EBF0F8"
             },
             "line": {
              "color": "white"
             }
            },
            "header": {
             "fill": {
              "color": "#C8D4E3"
             },
             "line": {
              "color": "white"
             }
            },
            "type": "table"
           }
          ]
         },
         "layout": {
          "annotationdefaults": {
           "arrowcolor": "#2a3f5f",
           "arrowhead": 0,
           "arrowwidth": 1
          },
          "autotypenumbers": "strict",
          "coloraxis": {
           "colorbar": {
            "outlinewidth": 0,
            "ticks": ""
           }
          },
          "colorscale": {
           "diverging": [
            [
             0,
             "#8e0152"
            ],
            [
             0.1,
             "#c51b7d"
            ],
            [
             0.2,
             "#de77ae"
            ],
            [
             0.3,
             "#f1b6da"
            ],
            [
             0.4,
             "#fde0ef"
            ],
            [
             0.5,
             "#f7f7f7"
            ],
            [
             0.6,
             "#e6f5d0"
            ],
            [
             0.7,
             "#b8e186"
            ],
            [
             0.8,
             "#7fbc41"
            ],
            [
             0.9,
             "#4d9221"
            ],
            [
             1,
             "#276419"
            ]
           ],
           "sequential": [
            [
             0,
             "#0d0887"
            ],
            [
             0.1111111111111111,
             "#46039f"
            ],
            [
             0.2222222222222222,
             "#7201a8"
            ],
            [
             0.3333333333333333,
             "#9c179e"
            ],
            [
             0.4444444444444444,
             "#bd3786"
            ],
            [
             0.5555555555555556,
             "#d8576b"
            ],
            [
             0.6666666666666666,
             "#ed7953"
            ],
            [
             0.7777777777777778,
             "#fb9f3a"
            ],
            [
             0.8888888888888888,
             "#fdca26"
            ],
            [
             1,
             "#f0f921"
            ]
           ],
           "sequentialminus": [
            [
             0,
             "#0d0887"
            ],
            [
             0.1111111111111111,
             "#46039f"
            ],
            [
             0.2222222222222222,
             "#7201a8"
            ],
            [
             0.3333333333333333,
             "#9c179e"
            ],
            [
             0.4444444444444444,
             "#bd3786"
            ],
            [
             0.5555555555555556,
             "#d8576b"
            ],
            [
             0.6666666666666666,
             "#ed7953"
            ],
            [
             0.7777777777777778,
             "#fb9f3a"
            ],
            [
             0.8888888888888888,
             "#fdca26"
            ],
            [
             1,
             "#f0f921"
            ]
           ]
          },
          "colorway": [
           "#636efa",
           "#EF553B",
           "#00cc96",
           "#ab63fa",
           "#FFA15A",
           "#19d3f3",
           "#FF6692",
           "#B6E880",
           "#FF97FF",
           "#FECB52"
          ],
          "font": {
           "color": "#2a3f5f"
          },
          "geo": {
           "bgcolor": "white",
           "lakecolor": "white",
           "landcolor": "#E5ECF6",
           "showlakes": true,
           "showland": true,
           "subunitcolor": "white"
          },
          "hoverlabel": {
           "align": "left"
          },
          "hovermode": "closest",
          "mapbox": {
           "style": "light"
          },
          "paper_bgcolor": "white",
          "plot_bgcolor": "#E5ECF6",
          "polar": {
           "angularaxis": {
            "gridcolor": "white",
            "linecolor": "white",
            "ticks": ""
           },
           "bgcolor": "#E5ECF6",
           "radialaxis": {
            "gridcolor": "white",
            "linecolor": "white",
            "ticks": ""
           }
          },
          "scene": {
           "xaxis": {
            "backgroundcolor": "#E5ECF6",
            "gridcolor": "white",
            "gridwidth": 2,
            "linecolor": "white",
            "showbackground": true,
            "ticks": "",
            "zerolinecolor": "white"
           },
           "yaxis": {
            "backgroundcolor": "#E5ECF6",
            "gridcolor": "white",
            "gridwidth": 2,
            "linecolor": "white",
            "showbackground": true,
            "ticks": "",
            "zerolinecolor": "white"
           },
           "zaxis": {
            "backgroundcolor": "#E5ECF6",
            "gridcolor": "white",
            "gridwidth": 2,
            "linecolor": "white",
            "showbackground": true,
            "ticks": "",
            "zerolinecolor": "white"
           }
          },
          "shapedefaults": {
           "line": {
            "color": "#2a3f5f"
           }
          },
          "ternary": {
           "aaxis": {
            "gridcolor": "white",
            "linecolor": "white",
            "ticks": ""
           },
           "baxis": {
            "gridcolor": "white",
            "linecolor": "white",
            "ticks": ""
           },
           "bgcolor": "#E5ECF6",
           "caxis": {
            "gridcolor": "white",
            "linecolor": "white",
            "ticks": ""
           }
          },
          "title": {
           "x": 0.05
          },
          "xaxis": {
           "automargin": true,
           "gridcolor": "white",
           "linecolor": "white",
           "ticks": "",
           "title": {
            "standoff": 15
           },
           "zerolinecolor": "white",
           "zerolinewidth": 2
          },
          "yaxis": {
           "automargin": true,
           "gridcolor": "white",
           "linecolor": "white",
           "ticks": "",
           "title": {
            "standoff": 15
           },
           "zerolinecolor": "white",
           "zerolinewidth": 2
          }
         }
        },
        "title": {
         "text": "Optimization History Plot"
        },
        "xaxis": {
         "title": {
          "text": "Trial"
         }
        },
        "yaxis": {
         "title": {
          "text": "Objective Value"
         }
        }
       }
      },
      "text/html": [
       "<div>                            <div id=\"593af6a3-90e5-439f-bef8-a7cf14fe228a\" class=\"plotly-graph-div\" style=\"height:525px; width:100%;\"></div>            <script type=\"text/javascript\">                require([\"plotly\"], function(Plotly) {                    window.PLOTLYENV=window.PLOTLYENV || {};                                    if (document.getElementById(\"593af6a3-90e5-439f-bef8-a7cf14fe228a\")) {                    Plotly.newPlot(                        \"593af6a3-90e5-439f-bef8-a7cf14fe228a\",                        [{\"mode\":\"markers\",\"name\":\"Objective Value\",\"x\":[0,1,2,3,4,5,6,7,8,9,10,11,12,13,14],\"y\":[6.049600984273538,2.3034600266797183,2.2558665869675254,2.3874413941908075,2.952934479838151,9.277246804151897,2.494919323028408,2.341540287566672,2.2711293464300466,2.301269548673822,6.805155499929832,2.134298580481238,2.0940592959669693,2.1277413693552076,2.2122132576593017],\"type\":\"scatter\"},{\"mode\":\"lines\",\"name\":\"Best Value\",\"x\":[0,1,2,3,4,5,6,7,8,9,10,11,12,13,14],\"y\":[6.049600984273538,2.3034600266797183,2.2558665869675254,2.2558665869675254,2.2558665869675254,2.2558665869675254,2.2558665869675254,2.2558665869675254,2.2558665869675254,2.2558665869675254,2.2558665869675254,2.134298580481238,2.0940592959669693,2.0940592959669693,2.0940592959669693],\"type\":\"scatter\"},{\"marker\":{\"color\":\"#cccccc\"},\"mode\":\"markers\",\"name\":\"Infeasible Trial\",\"showlegend\":false,\"x\":[],\"y\":[],\"type\":\"scatter\"}],                        {\"title\":{\"text\":\"Optimization History Plot\"},\"xaxis\":{\"title\":{\"text\":\"Trial\"}},\"yaxis\":{\"title\":{\"text\":\"Objective Value\"}},\"template\":{\"data\":{\"histogram2dcontour\":[{\"type\":\"histogram2dcontour\",\"colorbar\":{\"outlinewidth\":0,\"ticks\":\"\"},\"colorscale\":[[0.0,\"#0d0887\"],[0.1111111111111111,\"#46039f\"],[0.2222222222222222,\"#7201a8\"],[0.3333333333333333,\"#9c179e\"],[0.4444444444444444,\"#bd3786\"],[0.5555555555555556,\"#d8576b\"],[0.6666666666666666,\"#ed7953\"],[0.7777777777777778,\"#fb9f3a\"],[0.8888888888888888,\"#fdca26\"],[1.0,\"#f0f921\"]]}],\"choropleth\":[{\"type\":\"choropleth\",\"colorbar\":{\"outlinewidth\":0,\"ticks\":\"\"}}],\"histogram2d\":[{\"type\":\"histogram2d\",\"colorbar\":{\"outlinewidth\":0,\"ticks\":\"\"},\"colorscale\":[[0.0,\"#0d0887\"],[0.1111111111111111,\"#46039f\"],[0.2222222222222222,\"#7201a8\"],[0.3333333333333333,\"#9c179e\"],[0.4444444444444444,\"#bd3786\"],[0.5555555555555556,\"#d8576b\"],[0.6666666666666666,\"#ed7953\"],[0.7777777777777778,\"#fb9f3a\"],[0.8888888888888888,\"#fdca26\"],[1.0,\"#f0f921\"]]}],\"heatmap\":[{\"type\":\"heatmap\",\"colorbar\":{\"outlinewidth\":0,\"ticks\":\"\"},\"colorscale\":[[0.0,\"#0d0887\"],[0.1111111111111111,\"#46039f\"],[0.2222222222222222,\"#7201a8\"],[0.3333333333333333,\"#9c179e\"],[0.4444444444444444,\"#bd3786\"],[0.5555555555555556,\"#d8576b\"],[0.6666666666666666,\"#ed7953\"],[0.7777777777777778,\"#fb9f3a\"],[0.8888888888888888,\"#fdca26\"],[1.0,\"#f0f921\"]]}],\"heatmapgl\":[{\"type\":\"heatmapgl\",\"colorbar\":{\"outlinewidth\":0,\"ticks\":\"\"},\"colorscale\":[[0.0,\"#0d0887\"],[0.1111111111111111,\"#46039f\"],[0.2222222222222222,\"#7201a8\"],[0.3333333333333333,\"#9c179e\"],[0.4444444444444444,\"#bd3786\"],[0.5555555555555556,\"#d8576b\"],[0.6666666666666666,\"#ed7953\"],[0.7777777777777778,\"#fb9f3a\"],[0.8888888888888888,\"#fdca26\"],[1.0,\"#f0f921\"]]}],\"contourcarpet\":[{\"type\":\"contourcarpet\",\"colorbar\":{\"outlinewidth\":0,\"ticks\":\"\"}}],\"contour\":[{\"type\":\"contour\",\"colorbar\":{\"outlinewidth\":0,\"ticks\":\"\"},\"colorscale\":[[0.0,\"#0d0887\"],[0.1111111111111111,\"#46039f\"],[0.2222222222222222,\"#7201a8\"],[0.3333333333333333,\"#9c179e\"],[0.4444444444444444,\"#bd3786\"],[0.5555555555555556,\"#d8576b\"],[0.6666666666666666,\"#ed7953\"],[0.7777777777777778,\"#fb9f3a\"],[0.8888888888888888,\"#fdca26\"],[1.0,\"#f0f921\"]]}],\"surface\":[{\"type\":\"surface\",\"colorbar\":{\"outlinewidth\":0,\"ticks\":\"\"},\"colorscale\":[[0.0,\"#0d0887\"],[0.1111111111111111,\"#46039f\"],[0.2222222222222222,\"#7201a8\"],[0.3333333333333333,\"#9c179e\"],[0.4444444444444444,\"#bd3786\"],[0.5555555555555556,\"#d8576b\"],[0.6666666666666666,\"#ed7953\"],[0.7777777777777778,\"#fb9f3a\"],[0.8888888888888888,\"#fdca26\"],[1.0,\"#f0f921\"]]}],\"mesh3d\":[{\"type\":\"mesh3d\",\"colorbar\":{\"outlinewidth\":0,\"ticks\":\"\"}}],\"scatter\":[{\"fillpattern\":{\"fillmode\":\"overlay\",\"size\":10,\"solidity\":0.2},\"type\":\"scatter\"}],\"parcoords\":[{\"type\":\"parcoords\",\"line\":{\"colorbar\":{\"outlinewidth\":0,\"ticks\":\"\"}}}],\"scatterpolargl\":[{\"type\":\"scatterpolargl\",\"marker\":{\"colorbar\":{\"outlinewidth\":0,\"ticks\":\"\"}}}],\"bar\":[{\"error_x\":{\"color\":\"#2a3f5f\"},\"error_y\":{\"color\":\"#2a3f5f\"},\"marker\":{\"line\":{\"color\":\"#E5ECF6\",\"width\":0.5},\"pattern\":{\"fillmode\":\"overlay\",\"size\":10,\"solidity\":0.2}},\"type\":\"bar\"}],\"scattergeo\":[{\"type\":\"scattergeo\",\"marker\":{\"colorbar\":{\"outlinewidth\":0,\"ticks\":\"\"}}}],\"scatterpolar\":[{\"type\":\"scatterpolar\",\"marker\":{\"colorbar\":{\"outlinewidth\":0,\"ticks\":\"\"}}}],\"histogram\":[{\"marker\":{\"pattern\":{\"fillmode\":\"overlay\",\"size\":10,\"solidity\":0.2}},\"type\":\"histogram\"}],\"scattergl\":[{\"type\":\"scattergl\",\"marker\":{\"colorbar\":{\"outlinewidth\":0,\"ticks\":\"\"}}}],\"scatter3d\":[{\"type\":\"scatter3d\",\"line\":{\"colorbar\":{\"outlinewidth\":0,\"ticks\":\"\"}},\"marker\":{\"colorbar\":{\"outlinewidth\":0,\"ticks\":\"\"}}}],\"scattermapbox\":[{\"type\":\"scattermapbox\",\"marker\":{\"colorbar\":{\"outlinewidth\":0,\"ticks\":\"\"}}}],\"scatterternary\":[{\"type\":\"scatterternary\",\"marker\":{\"colorbar\":{\"outlinewidth\":0,\"ticks\":\"\"}}}],\"scattercarpet\":[{\"type\":\"scattercarpet\",\"marker\":{\"colorbar\":{\"outlinewidth\":0,\"ticks\":\"\"}}}],\"carpet\":[{\"aaxis\":{\"endlinecolor\":\"#2a3f5f\",\"gridcolor\":\"white\",\"linecolor\":\"white\",\"minorgridcolor\":\"white\",\"startlinecolor\":\"#2a3f5f\"},\"baxis\":{\"endlinecolor\":\"#2a3f5f\",\"gridcolor\":\"white\",\"linecolor\":\"white\",\"minorgridcolor\":\"white\",\"startlinecolor\":\"#2a3f5f\"},\"type\":\"carpet\"}],\"table\":[{\"cells\":{\"fill\":{\"color\":\"#EBF0F8\"},\"line\":{\"color\":\"white\"}},\"header\":{\"fill\":{\"color\":\"#C8D4E3\"},\"line\":{\"color\":\"white\"}},\"type\":\"table\"}],\"barpolar\":[{\"marker\":{\"line\":{\"color\":\"#E5ECF6\",\"width\":0.5},\"pattern\":{\"fillmode\":\"overlay\",\"size\":10,\"solidity\":0.2}},\"type\":\"barpolar\"}],\"pie\":[{\"automargin\":true,\"type\":\"pie\"}]},\"layout\":{\"autotypenumbers\":\"strict\",\"colorway\":[\"#636efa\",\"#EF553B\",\"#00cc96\",\"#ab63fa\",\"#FFA15A\",\"#19d3f3\",\"#FF6692\",\"#B6E880\",\"#FF97FF\",\"#FECB52\"],\"font\":{\"color\":\"#2a3f5f\"},\"hovermode\":\"closest\",\"hoverlabel\":{\"align\":\"left\"},\"paper_bgcolor\":\"white\",\"plot_bgcolor\":\"#E5ECF6\",\"polar\":{\"bgcolor\":\"#E5ECF6\",\"angularaxis\":{\"gridcolor\":\"white\",\"linecolor\":\"white\",\"ticks\":\"\"},\"radialaxis\":{\"gridcolor\":\"white\",\"linecolor\":\"white\",\"ticks\":\"\"}},\"ternary\":{\"bgcolor\":\"#E5ECF6\",\"aaxis\":{\"gridcolor\":\"white\",\"linecolor\":\"white\",\"ticks\":\"\"},\"baxis\":{\"gridcolor\":\"white\",\"linecolor\":\"white\",\"ticks\":\"\"},\"caxis\":{\"gridcolor\":\"white\",\"linecolor\":\"white\",\"ticks\":\"\"}},\"coloraxis\":{\"colorbar\":{\"outlinewidth\":0,\"ticks\":\"\"}},\"colorscale\":{\"sequential\":[[0.0,\"#0d0887\"],[0.1111111111111111,\"#46039f\"],[0.2222222222222222,\"#7201a8\"],[0.3333333333333333,\"#9c179e\"],[0.4444444444444444,\"#bd3786\"],[0.5555555555555556,\"#d8576b\"],[0.6666666666666666,\"#ed7953\"],[0.7777777777777778,\"#fb9f3a\"],[0.8888888888888888,\"#fdca26\"],[1.0,\"#f0f921\"]],\"sequentialminus\":[[0.0,\"#0d0887\"],[0.1111111111111111,\"#46039f\"],[0.2222222222222222,\"#7201a8\"],[0.3333333333333333,\"#9c179e\"],[0.4444444444444444,\"#bd3786\"],[0.5555555555555556,\"#d8576b\"],[0.6666666666666666,\"#ed7953\"],[0.7777777777777778,\"#fb9f3a\"],[0.8888888888888888,\"#fdca26\"],[1.0,\"#f0f921\"]],\"diverging\":[[0,\"#8e0152\"],[0.1,\"#c51b7d\"],[0.2,\"#de77ae\"],[0.3,\"#f1b6da\"],[0.4,\"#fde0ef\"],[0.5,\"#f7f7f7\"],[0.6,\"#e6f5d0\"],[0.7,\"#b8e186\"],[0.8,\"#7fbc41\"],[0.9,\"#4d9221\"],[1,\"#276419\"]]},\"xaxis\":{\"gridcolor\":\"white\",\"linecolor\":\"white\",\"ticks\":\"\",\"title\":{\"standoff\":15},\"zerolinecolor\":\"white\",\"automargin\":true,\"zerolinewidth\":2},\"yaxis\":{\"gridcolor\":\"white\",\"linecolor\":\"white\",\"ticks\":\"\",\"title\":{\"standoff\":15},\"zerolinecolor\":\"white\",\"automargin\":true,\"zerolinewidth\":2},\"scene\":{\"xaxis\":{\"backgroundcolor\":\"#E5ECF6\",\"gridcolor\":\"white\",\"linecolor\":\"white\",\"showbackground\":true,\"ticks\":\"\",\"zerolinecolor\":\"white\",\"gridwidth\":2},\"yaxis\":{\"backgroundcolor\":\"#E5ECF6\",\"gridcolor\":\"white\",\"linecolor\":\"white\",\"showbackground\":true,\"ticks\":\"\",\"zerolinecolor\":\"white\",\"gridwidth\":2},\"zaxis\":{\"backgroundcolor\":\"#E5ECF6\",\"gridcolor\":\"white\",\"linecolor\":\"white\",\"showbackground\":true,\"ticks\":\"\",\"zerolinecolor\":\"white\",\"gridwidth\":2}},\"shapedefaults\":{\"line\":{\"color\":\"#2a3f5f\"}},\"annotationdefaults\":{\"arrowcolor\":\"#2a3f5f\",\"arrowhead\":0,\"arrowwidth\":1},\"geo\":{\"bgcolor\":\"white\",\"landcolor\":\"#E5ECF6\",\"subunitcolor\":\"white\",\"showland\":true,\"showlakes\":true,\"lakecolor\":\"white\"},\"title\":{\"x\":0.05},\"mapbox\":{\"style\":\"light\"}}}},                        {\"responsive\": true}                    ).then(function(){\n",
       "                            \n",
       "var gd = document.getElementById('593af6a3-90e5-439f-bef8-a7cf14fe228a');\n",
       "var x = new MutationObserver(function (mutations, observer) {{\n",
       "        var display = window.getComputedStyle(gd).display;\n",
       "        if (!display || display === 'none') {{\n",
       "            console.log([gd, 'removed!']);\n",
       "            Plotly.purge(gd);\n",
       "            observer.disconnect();\n",
       "        }}\n",
       "}});\n",
       "\n",
       "// Listen for the removal of the full notebook cells\n",
       "var notebookContainer = gd.closest('#notebook-container');\n",
       "if (notebookContainer) {{\n",
       "    x.observe(notebookContainer, {childList: true});\n",
       "}}\n",
       "\n",
       "// Listen for the clearing of the current output cell\n",
       "var outputEl = gd.closest('.output');\n",
       "if (outputEl) {{\n",
       "    x.observe(outputEl, {childList: true});\n",
       "}}\n",
       "\n",
       "                        })                };                });            </script>        </div>"
      ]
     },
     "metadata": {},
     "output_type": "display_data"
    },
    {
     "data": {
      "application/vnd.plotly.v1+json": {
       "config": {
        "plotlyServerURL": "https://plot.ly"
       },
       "data": [
        {
         "cliponaxis": false,
         "hovertemplate": [
          "max_depth (IntDistribution): 0.0003869200561016851<extra></extra>",
          "gamma (FloatDistribution): 0.0037906028954550353<extra></extra>",
          "min_child_weight (IntDistribution): 0.047142732668085434<extra></extra>",
          "colsample_bytree (FloatDistribution): 0.04950463896285568<extra></extra>",
          "subsample (FloatDistribution): 0.05338510820412813<extra></extra>",
          "n_estimators (IntDistribution): 0.05757303407826927<extra></extra>",
          "reg_alpha (FloatDistribution): 0.06093451789390314<extra></extra>",
          "reg_lambda (FloatDistribution): 0.11419379869930303<extra></extra>",
          "learning_rate (FloatDistribution): 0.6130886465418985<extra></extra>"
         ],
         "name": "Objective Value",
         "orientation": "h",
         "text": [
          "<0.01",
          "<0.01",
          "0.05",
          "0.05",
          "0.05",
          "0.06",
          "0.06",
          "0.11",
          "0.61"
         ],
         "textposition": "outside",
         "type": "bar",
         "x": [
          0.0003869200561016851,
          0.0037906028954550353,
          0.047142732668085434,
          0.04950463896285568,
          0.05338510820412813,
          0.05757303407826927,
          0.06093451789390314,
          0.11419379869930303,
          0.6130886465418985
         ],
         "y": [
          "max_depth",
          "gamma",
          "min_child_weight",
          "colsample_bytree",
          "subsample",
          "n_estimators",
          "reg_alpha",
          "reg_lambda",
          "learning_rate"
         ]
        }
       ],
       "layout": {
        "template": {
         "data": {
          "bar": [
           {
            "error_x": {
             "color": "#2a3f5f"
            },
            "error_y": {
             "color": "#2a3f5f"
            },
            "marker": {
             "line": {
              "color": "#E5ECF6",
              "width": 0.5
             },
             "pattern": {
              "fillmode": "overlay",
              "size": 10,
              "solidity": 0.2
             }
            },
            "type": "bar"
           }
          ],
          "barpolar": [
           {
            "marker": {
             "line": {
              "color": "#E5ECF6",
              "width": 0.5
             },
             "pattern": {
              "fillmode": "overlay",
              "size": 10,
              "solidity": 0.2
             }
            },
            "type": "barpolar"
           }
          ],
          "carpet": [
           {
            "aaxis": {
             "endlinecolor": "#2a3f5f",
             "gridcolor": "white",
             "linecolor": "white",
             "minorgridcolor": "white",
             "startlinecolor": "#2a3f5f"
            },
            "baxis": {
             "endlinecolor": "#2a3f5f",
             "gridcolor": "white",
             "linecolor": "white",
             "minorgridcolor": "white",
             "startlinecolor": "#2a3f5f"
            },
            "type": "carpet"
           }
          ],
          "choropleth": [
           {
            "colorbar": {
             "outlinewidth": 0,
             "ticks": ""
            },
            "type": "choropleth"
           }
          ],
          "contour": [
           {
            "colorbar": {
             "outlinewidth": 0,
             "ticks": ""
            },
            "colorscale": [
             [
              0,
              "#0d0887"
             ],
             [
              0.1111111111111111,
              "#46039f"
             ],
             [
              0.2222222222222222,
              "#7201a8"
             ],
             [
              0.3333333333333333,
              "#9c179e"
             ],
             [
              0.4444444444444444,
              "#bd3786"
             ],
             [
              0.5555555555555556,
              "#d8576b"
             ],
             [
              0.6666666666666666,
              "#ed7953"
             ],
             [
              0.7777777777777778,
              "#fb9f3a"
             ],
             [
              0.8888888888888888,
              "#fdca26"
             ],
             [
              1,
              "#f0f921"
             ]
            ],
            "type": "contour"
           }
          ],
          "contourcarpet": [
           {
            "colorbar": {
             "outlinewidth": 0,
             "ticks": ""
            },
            "type": "contourcarpet"
           }
          ],
          "heatmap": [
           {
            "colorbar": {
             "outlinewidth": 0,
             "ticks": ""
            },
            "colorscale": [
             [
              0,
              "#0d0887"
             ],
             [
              0.1111111111111111,
              "#46039f"
             ],
             [
              0.2222222222222222,
              "#7201a8"
             ],
             [
              0.3333333333333333,
              "#9c179e"
             ],
             [
              0.4444444444444444,
              "#bd3786"
             ],
             [
              0.5555555555555556,
              "#d8576b"
             ],
             [
              0.6666666666666666,
              "#ed7953"
             ],
             [
              0.7777777777777778,
              "#fb9f3a"
             ],
             [
              0.8888888888888888,
              "#fdca26"
             ],
             [
              1,
              "#f0f921"
             ]
            ],
            "type": "heatmap"
           }
          ],
          "heatmapgl": [
           {
            "colorbar": {
             "outlinewidth": 0,
             "ticks": ""
            },
            "colorscale": [
             [
              0,
              "#0d0887"
             ],
             [
              0.1111111111111111,
              "#46039f"
             ],
             [
              0.2222222222222222,
              "#7201a8"
             ],
             [
              0.3333333333333333,
              "#9c179e"
             ],
             [
              0.4444444444444444,
              "#bd3786"
             ],
             [
              0.5555555555555556,
              "#d8576b"
             ],
             [
              0.6666666666666666,
              "#ed7953"
             ],
             [
              0.7777777777777778,
              "#fb9f3a"
             ],
             [
              0.8888888888888888,
              "#fdca26"
             ],
             [
              1,
              "#f0f921"
             ]
            ],
            "type": "heatmapgl"
           }
          ],
          "histogram": [
           {
            "marker": {
             "pattern": {
              "fillmode": "overlay",
              "size": 10,
              "solidity": 0.2
             }
            },
            "type": "histogram"
           }
          ],
          "histogram2d": [
           {
            "colorbar": {
             "outlinewidth": 0,
             "ticks": ""
            },
            "colorscale": [
             [
              0,
              "#0d0887"
             ],
             [
              0.1111111111111111,
              "#46039f"
             ],
             [
              0.2222222222222222,
              "#7201a8"
             ],
             [
              0.3333333333333333,
              "#9c179e"
             ],
             [
              0.4444444444444444,
              "#bd3786"
             ],
             [
              0.5555555555555556,
              "#d8576b"
             ],
             [
              0.6666666666666666,
              "#ed7953"
             ],
             [
              0.7777777777777778,
              "#fb9f3a"
             ],
             [
              0.8888888888888888,
              "#fdca26"
             ],
             [
              1,
              "#f0f921"
             ]
            ],
            "type": "histogram2d"
           }
          ],
          "histogram2dcontour": [
           {
            "colorbar": {
             "outlinewidth": 0,
             "ticks": ""
            },
            "colorscale": [
             [
              0,
              "#0d0887"
             ],
             [
              0.1111111111111111,
              "#46039f"
             ],
             [
              0.2222222222222222,
              "#7201a8"
             ],
             [
              0.3333333333333333,
              "#9c179e"
             ],
             [
              0.4444444444444444,
              "#bd3786"
             ],
             [
              0.5555555555555556,
              "#d8576b"
             ],
             [
              0.6666666666666666,
              "#ed7953"
             ],
             [
              0.7777777777777778,
              "#fb9f3a"
             ],
             [
              0.8888888888888888,
              "#fdca26"
             ],
             [
              1,
              "#f0f921"
             ]
            ],
            "type": "histogram2dcontour"
           }
          ],
          "mesh3d": [
           {
            "colorbar": {
             "outlinewidth": 0,
             "ticks": ""
            },
            "type": "mesh3d"
           }
          ],
          "parcoords": [
           {
            "line": {
             "colorbar": {
              "outlinewidth": 0,
              "ticks": ""
             }
            },
            "type": "parcoords"
           }
          ],
          "pie": [
           {
            "automargin": true,
            "type": "pie"
           }
          ],
          "scatter": [
           {
            "fillpattern": {
             "fillmode": "overlay",
             "size": 10,
             "solidity": 0.2
            },
            "type": "scatter"
           }
          ],
          "scatter3d": [
           {
            "line": {
             "colorbar": {
              "outlinewidth": 0,
              "ticks": ""
             }
            },
            "marker": {
             "colorbar": {
              "outlinewidth": 0,
              "ticks": ""
             }
            },
            "type": "scatter3d"
           }
          ],
          "scattercarpet": [
           {
            "marker": {
             "colorbar": {
              "outlinewidth": 0,
              "ticks": ""
             }
            },
            "type": "scattercarpet"
           }
          ],
          "scattergeo": [
           {
            "marker": {
             "colorbar": {
              "outlinewidth": 0,
              "ticks": ""
             }
            },
            "type": "scattergeo"
           }
          ],
          "scattergl": [
           {
            "marker": {
             "colorbar": {
              "outlinewidth": 0,
              "ticks": ""
             }
            },
            "type": "scattergl"
           }
          ],
          "scattermapbox": [
           {
            "marker": {
             "colorbar": {
              "outlinewidth": 0,
              "ticks": ""
             }
            },
            "type": "scattermapbox"
           }
          ],
          "scatterpolar": [
           {
            "marker": {
             "colorbar": {
              "outlinewidth": 0,
              "ticks": ""
             }
            },
            "type": "scatterpolar"
           }
          ],
          "scatterpolargl": [
           {
            "marker": {
             "colorbar": {
              "outlinewidth": 0,
              "ticks": ""
             }
            },
            "type": "scatterpolargl"
           }
          ],
          "scatterternary": [
           {
            "marker": {
             "colorbar": {
              "outlinewidth": 0,
              "ticks": ""
             }
            },
            "type": "scatterternary"
           }
          ],
          "surface": [
           {
            "colorbar": {
             "outlinewidth": 0,
             "ticks": ""
            },
            "colorscale": [
             [
              0,
              "#0d0887"
             ],
             [
              0.1111111111111111,
              "#46039f"
             ],
             [
              0.2222222222222222,
              "#7201a8"
             ],
             [
              0.3333333333333333,
              "#9c179e"
             ],
             [
              0.4444444444444444,
              "#bd3786"
             ],
             [
              0.5555555555555556,
              "#d8576b"
             ],
             [
              0.6666666666666666,
              "#ed7953"
             ],
             [
              0.7777777777777778,
              "#fb9f3a"
             ],
             [
              0.8888888888888888,
              "#fdca26"
             ],
             [
              1,
              "#f0f921"
             ]
            ],
            "type": "surface"
           }
          ],
          "table": [
           {
            "cells": {
             "fill": {
              "color": "#EBF0F8"
             },
             "line": {
              "color": "white"
             }
            },
            "header": {
             "fill": {
              "color": "#C8D4E3"
             },
             "line": {
              "color": "white"
             }
            },
            "type": "table"
           }
          ]
         },
         "layout": {
          "annotationdefaults": {
           "arrowcolor": "#2a3f5f",
           "arrowhead": 0,
           "arrowwidth": 1
          },
          "autotypenumbers": "strict",
          "coloraxis": {
           "colorbar": {
            "outlinewidth": 0,
            "ticks": ""
           }
          },
          "colorscale": {
           "diverging": [
            [
             0,
             "#8e0152"
            ],
            [
             0.1,
             "#c51b7d"
            ],
            [
             0.2,
             "#de77ae"
            ],
            [
             0.3,
             "#f1b6da"
            ],
            [
             0.4,
             "#fde0ef"
            ],
            [
             0.5,
             "#f7f7f7"
            ],
            [
             0.6,
             "#e6f5d0"
            ],
            [
             0.7,
             "#b8e186"
            ],
            [
             0.8,
             "#7fbc41"
            ],
            [
             0.9,
             "#4d9221"
            ],
            [
             1,
             "#276419"
            ]
           ],
           "sequential": [
            [
             0,
             "#0d0887"
            ],
            [
             0.1111111111111111,
             "#46039f"
            ],
            [
             0.2222222222222222,
             "#7201a8"
            ],
            [
             0.3333333333333333,
             "#9c179e"
            ],
            [
             0.4444444444444444,
             "#bd3786"
            ],
            [
             0.5555555555555556,
             "#d8576b"
            ],
            [
             0.6666666666666666,
             "#ed7953"
            ],
            [
             0.7777777777777778,
             "#fb9f3a"
            ],
            [
             0.8888888888888888,
             "#fdca26"
            ],
            [
             1,
             "#f0f921"
            ]
           ],
           "sequentialminus": [
            [
             0,
             "#0d0887"
            ],
            [
             0.1111111111111111,
             "#46039f"
            ],
            [
             0.2222222222222222,
             "#7201a8"
            ],
            [
             0.3333333333333333,
             "#9c179e"
            ],
            [
             0.4444444444444444,
             "#bd3786"
            ],
            [
             0.5555555555555556,
             "#d8576b"
            ],
            [
             0.6666666666666666,
             "#ed7953"
            ],
            [
             0.7777777777777778,
             "#fb9f3a"
            ],
            [
             0.8888888888888888,
             "#fdca26"
            ],
            [
             1,
             "#f0f921"
            ]
           ]
          },
          "colorway": [
           "#636efa",
           "#EF553B",
           "#00cc96",
           "#ab63fa",
           "#FFA15A",
           "#19d3f3",
           "#FF6692",
           "#B6E880",
           "#FF97FF",
           "#FECB52"
          ],
          "font": {
           "color": "#2a3f5f"
          },
          "geo": {
           "bgcolor": "white",
           "lakecolor": "white",
           "landcolor": "#E5ECF6",
           "showlakes": true,
           "showland": true,
           "subunitcolor": "white"
          },
          "hoverlabel": {
           "align": "left"
          },
          "hovermode": "closest",
          "mapbox": {
           "style": "light"
          },
          "paper_bgcolor": "white",
          "plot_bgcolor": "#E5ECF6",
          "polar": {
           "angularaxis": {
            "gridcolor": "white",
            "linecolor": "white",
            "ticks": ""
           },
           "bgcolor": "#E5ECF6",
           "radialaxis": {
            "gridcolor": "white",
            "linecolor": "white",
            "ticks": ""
           }
          },
          "scene": {
           "xaxis": {
            "backgroundcolor": "#E5ECF6",
            "gridcolor": "white",
            "gridwidth": 2,
            "linecolor": "white",
            "showbackground": true,
            "ticks": "",
            "zerolinecolor": "white"
           },
           "yaxis": {
            "backgroundcolor": "#E5ECF6",
            "gridcolor": "white",
            "gridwidth": 2,
            "linecolor": "white",
            "showbackground": true,
            "ticks": "",
            "zerolinecolor": "white"
           },
           "zaxis": {
            "backgroundcolor": "#E5ECF6",
            "gridcolor": "white",
            "gridwidth": 2,
            "linecolor": "white",
            "showbackground": true,
            "ticks": "",
            "zerolinecolor": "white"
           }
          },
          "shapedefaults": {
           "line": {
            "color": "#2a3f5f"
           }
          },
          "ternary": {
           "aaxis": {
            "gridcolor": "white",
            "linecolor": "white",
            "ticks": ""
           },
           "baxis": {
            "gridcolor": "white",
            "linecolor": "white",
            "ticks": ""
           },
           "bgcolor": "#E5ECF6",
           "caxis": {
            "gridcolor": "white",
            "linecolor": "white",
            "ticks": ""
           }
          },
          "title": {
           "x": 0.05
          },
          "xaxis": {
           "automargin": true,
           "gridcolor": "white",
           "linecolor": "white",
           "ticks": "",
           "title": {
            "standoff": 15
           },
           "zerolinecolor": "white",
           "zerolinewidth": 2
          },
          "yaxis": {
           "automargin": true,
           "gridcolor": "white",
           "linecolor": "white",
           "ticks": "",
           "title": {
            "standoff": 15
           },
           "zerolinecolor": "white",
           "zerolinewidth": 2
          }
         }
        },
        "title": {
         "text": "Hyperparameter Importances"
        },
        "xaxis": {
         "title": {
          "text": "Hyperparameter Importance"
         }
        },
        "yaxis": {
         "title": {
          "text": "Hyperparameter"
         }
        }
       }
      },
      "text/html": [
       "<div>                            <div id=\"45ba8292-9e6c-4f5a-b349-f2eaa85c12c9\" class=\"plotly-graph-div\" style=\"height:525px; width:100%;\"></div>            <script type=\"text/javascript\">                require([\"plotly\"], function(Plotly) {                    window.PLOTLYENV=window.PLOTLYENV || {};                                    if (document.getElementById(\"45ba8292-9e6c-4f5a-b349-f2eaa85c12c9\")) {                    Plotly.newPlot(                        \"45ba8292-9e6c-4f5a-b349-f2eaa85c12c9\",                        [{\"cliponaxis\":false,\"hovertemplate\":[\"max_depth (IntDistribution): 0.0003869200561016851\\u003cextra\\u003e\\u003c\\u002fextra\\u003e\",\"gamma (FloatDistribution): 0.0037906028954550353\\u003cextra\\u003e\\u003c\\u002fextra\\u003e\",\"min_child_weight (IntDistribution): 0.047142732668085434\\u003cextra\\u003e\\u003c\\u002fextra\\u003e\",\"colsample_bytree (FloatDistribution): 0.04950463896285568\\u003cextra\\u003e\\u003c\\u002fextra\\u003e\",\"subsample (FloatDistribution): 0.05338510820412813\\u003cextra\\u003e\\u003c\\u002fextra\\u003e\",\"n_estimators (IntDistribution): 0.05757303407826927\\u003cextra\\u003e\\u003c\\u002fextra\\u003e\",\"reg_alpha (FloatDistribution): 0.06093451789390314\\u003cextra\\u003e\\u003c\\u002fextra\\u003e\",\"reg_lambda (FloatDistribution): 0.11419379869930303\\u003cextra\\u003e\\u003c\\u002fextra\\u003e\",\"learning_rate (FloatDistribution): 0.6130886465418985\\u003cextra\\u003e\\u003c\\u002fextra\\u003e\"],\"name\":\"Objective Value\",\"orientation\":\"h\",\"text\":[\"\\u003c0.01\",\"\\u003c0.01\",\"0.05\",\"0.05\",\"0.05\",\"0.06\",\"0.06\",\"0.11\",\"0.61\"],\"textposition\":\"outside\",\"x\":[0.0003869200561016851,0.0037906028954550353,0.047142732668085434,0.04950463896285568,0.05338510820412813,0.05757303407826927,0.06093451789390314,0.11419379869930303,0.6130886465418985],\"y\":[\"max_depth\",\"gamma\",\"min_child_weight\",\"colsample_bytree\",\"subsample\",\"n_estimators\",\"reg_alpha\",\"reg_lambda\",\"learning_rate\"],\"type\":\"bar\"}],                        {\"title\":{\"text\":\"Hyperparameter Importances\"},\"xaxis\":{\"title\":{\"text\":\"Hyperparameter Importance\"}},\"yaxis\":{\"title\":{\"text\":\"Hyperparameter\"}},\"template\":{\"data\":{\"histogram2dcontour\":[{\"type\":\"histogram2dcontour\",\"colorbar\":{\"outlinewidth\":0,\"ticks\":\"\"},\"colorscale\":[[0.0,\"#0d0887\"],[0.1111111111111111,\"#46039f\"],[0.2222222222222222,\"#7201a8\"],[0.3333333333333333,\"#9c179e\"],[0.4444444444444444,\"#bd3786\"],[0.5555555555555556,\"#d8576b\"],[0.6666666666666666,\"#ed7953\"],[0.7777777777777778,\"#fb9f3a\"],[0.8888888888888888,\"#fdca26\"],[1.0,\"#f0f921\"]]}],\"choropleth\":[{\"type\":\"choropleth\",\"colorbar\":{\"outlinewidth\":0,\"ticks\":\"\"}}],\"histogram2d\":[{\"type\":\"histogram2d\",\"colorbar\":{\"outlinewidth\":0,\"ticks\":\"\"},\"colorscale\":[[0.0,\"#0d0887\"],[0.1111111111111111,\"#46039f\"],[0.2222222222222222,\"#7201a8\"],[0.3333333333333333,\"#9c179e\"],[0.4444444444444444,\"#bd3786\"],[0.5555555555555556,\"#d8576b\"],[0.6666666666666666,\"#ed7953\"],[0.7777777777777778,\"#fb9f3a\"],[0.8888888888888888,\"#fdca26\"],[1.0,\"#f0f921\"]]}],\"heatmap\":[{\"type\":\"heatmap\",\"colorbar\":{\"outlinewidth\":0,\"ticks\":\"\"},\"colorscale\":[[0.0,\"#0d0887\"],[0.1111111111111111,\"#46039f\"],[0.2222222222222222,\"#7201a8\"],[0.3333333333333333,\"#9c179e\"],[0.4444444444444444,\"#bd3786\"],[0.5555555555555556,\"#d8576b\"],[0.6666666666666666,\"#ed7953\"],[0.7777777777777778,\"#fb9f3a\"],[0.8888888888888888,\"#fdca26\"],[1.0,\"#f0f921\"]]}],\"heatmapgl\":[{\"type\":\"heatmapgl\",\"colorbar\":{\"outlinewidth\":0,\"ticks\":\"\"},\"colorscale\":[[0.0,\"#0d0887\"],[0.1111111111111111,\"#46039f\"],[0.2222222222222222,\"#7201a8\"],[0.3333333333333333,\"#9c179e\"],[0.4444444444444444,\"#bd3786\"],[0.5555555555555556,\"#d8576b\"],[0.6666666666666666,\"#ed7953\"],[0.7777777777777778,\"#fb9f3a\"],[0.8888888888888888,\"#fdca26\"],[1.0,\"#f0f921\"]]}],\"contourcarpet\":[{\"type\":\"contourcarpet\",\"colorbar\":{\"outlinewidth\":0,\"ticks\":\"\"}}],\"contour\":[{\"type\":\"contour\",\"colorbar\":{\"outlinewidth\":0,\"ticks\":\"\"},\"colorscale\":[[0.0,\"#0d0887\"],[0.1111111111111111,\"#46039f\"],[0.2222222222222222,\"#7201a8\"],[0.3333333333333333,\"#9c179e\"],[0.4444444444444444,\"#bd3786\"],[0.5555555555555556,\"#d8576b\"],[0.6666666666666666,\"#ed7953\"],[0.7777777777777778,\"#fb9f3a\"],[0.8888888888888888,\"#fdca26\"],[1.0,\"#f0f921\"]]}],\"surface\":[{\"type\":\"surface\",\"colorbar\":{\"outlinewidth\":0,\"ticks\":\"\"},\"colorscale\":[[0.0,\"#0d0887\"],[0.1111111111111111,\"#46039f\"],[0.2222222222222222,\"#7201a8\"],[0.3333333333333333,\"#9c179e\"],[0.4444444444444444,\"#bd3786\"],[0.5555555555555556,\"#d8576b\"],[0.6666666666666666,\"#ed7953\"],[0.7777777777777778,\"#fb9f3a\"],[0.8888888888888888,\"#fdca26\"],[1.0,\"#f0f921\"]]}],\"mesh3d\":[{\"type\":\"mesh3d\",\"colorbar\":{\"outlinewidth\":0,\"ticks\":\"\"}}],\"scatter\":[{\"fillpattern\":{\"fillmode\":\"overlay\",\"size\":10,\"solidity\":0.2},\"type\":\"scatter\"}],\"parcoords\":[{\"type\":\"parcoords\",\"line\":{\"colorbar\":{\"outlinewidth\":0,\"ticks\":\"\"}}}],\"scatterpolargl\":[{\"type\":\"scatterpolargl\",\"marker\":{\"colorbar\":{\"outlinewidth\":0,\"ticks\":\"\"}}}],\"bar\":[{\"error_x\":{\"color\":\"#2a3f5f\"},\"error_y\":{\"color\":\"#2a3f5f\"},\"marker\":{\"line\":{\"color\":\"#E5ECF6\",\"width\":0.5},\"pattern\":{\"fillmode\":\"overlay\",\"size\":10,\"solidity\":0.2}},\"type\":\"bar\"}],\"scattergeo\":[{\"type\":\"scattergeo\",\"marker\":{\"colorbar\":{\"outlinewidth\":0,\"ticks\":\"\"}}}],\"scatterpolar\":[{\"type\":\"scatterpolar\",\"marker\":{\"colorbar\":{\"outlinewidth\":0,\"ticks\":\"\"}}}],\"histogram\":[{\"marker\":{\"pattern\":{\"fillmode\":\"overlay\",\"size\":10,\"solidity\":0.2}},\"type\":\"histogram\"}],\"scattergl\":[{\"type\":\"scattergl\",\"marker\":{\"colorbar\":{\"outlinewidth\":0,\"ticks\":\"\"}}}],\"scatter3d\":[{\"type\":\"scatter3d\",\"line\":{\"colorbar\":{\"outlinewidth\":0,\"ticks\":\"\"}},\"marker\":{\"colorbar\":{\"outlinewidth\":0,\"ticks\":\"\"}}}],\"scattermapbox\":[{\"type\":\"scattermapbox\",\"marker\":{\"colorbar\":{\"outlinewidth\":0,\"ticks\":\"\"}}}],\"scatterternary\":[{\"type\":\"scatterternary\",\"marker\":{\"colorbar\":{\"outlinewidth\":0,\"ticks\":\"\"}}}],\"scattercarpet\":[{\"type\":\"scattercarpet\",\"marker\":{\"colorbar\":{\"outlinewidth\":0,\"ticks\":\"\"}}}],\"carpet\":[{\"aaxis\":{\"endlinecolor\":\"#2a3f5f\",\"gridcolor\":\"white\",\"linecolor\":\"white\",\"minorgridcolor\":\"white\",\"startlinecolor\":\"#2a3f5f\"},\"baxis\":{\"endlinecolor\":\"#2a3f5f\",\"gridcolor\":\"white\",\"linecolor\":\"white\",\"minorgridcolor\":\"white\",\"startlinecolor\":\"#2a3f5f\"},\"type\":\"carpet\"}],\"table\":[{\"cells\":{\"fill\":{\"color\":\"#EBF0F8\"},\"line\":{\"color\":\"white\"}},\"header\":{\"fill\":{\"color\":\"#C8D4E3\"},\"line\":{\"color\":\"white\"}},\"type\":\"table\"}],\"barpolar\":[{\"marker\":{\"line\":{\"color\":\"#E5ECF6\",\"width\":0.5},\"pattern\":{\"fillmode\":\"overlay\",\"size\":10,\"solidity\":0.2}},\"type\":\"barpolar\"}],\"pie\":[{\"automargin\":true,\"type\":\"pie\"}]},\"layout\":{\"autotypenumbers\":\"strict\",\"colorway\":[\"#636efa\",\"#EF553B\",\"#00cc96\",\"#ab63fa\",\"#FFA15A\",\"#19d3f3\",\"#FF6692\",\"#B6E880\",\"#FF97FF\",\"#FECB52\"],\"font\":{\"color\":\"#2a3f5f\"},\"hovermode\":\"closest\",\"hoverlabel\":{\"align\":\"left\"},\"paper_bgcolor\":\"white\",\"plot_bgcolor\":\"#E5ECF6\",\"polar\":{\"bgcolor\":\"#E5ECF6\",\"angularaxis\":{\"gridcolor\":\"white\",\"linecolor\":\"white\",\"ticks\":\"\"},\"radialaxis\":{\"gridcolor\":\"white\",\"linecolor\":\"white\",\"ticks\":\"\"}},\"ternary\":{\"bgcolor\":\"#E5ECF6\",\"aaxis\":{\"gridcolor\":\"white\",\"linecolor\":\"white\",\"ticks\":\"\"},\"baxis\":{\"gridcolor\":\"white\",\"linecolor\":\"white\",\"ticks\":\"\"},\"caxis\":{\"gridcolor\":\"white\",\"linecolor\":\"white\",\"ticks\":\"\"}},\"coloraxis\":{\"colorbar\":{\"outlinewidth\":0,\"ticks\":\"\"}},\"colorscale\":{\"sequential\":[[0.0,\"#0d0887\"],[0.1111111111111111,\"#46039f\"],[0.2222222222222222,\"#7201a8\"],[0.3333333333333333,\"#9c179e\"],[0.4444444444444444,\"#bd3786\"],[0.5555555555555556,\"#d8576b\"],[0.6666666666666666,\"#ed7953\"],[0.7777777777777778,\"#fb9f3a\"],[0.8888888888888888,\"#fdca26\"],[1.0,\"#f0f921\"]],\"sequentialminus\":[[0.0,\"#0d0887\"],[0.1111111111111111,\"#46039f\"],[0.2222222222222222,\"#7201a8\"],[0.3333333333333333,\"#9c179e\"],[0.4444444444444444,\"#bd3786\"],[0.5555555555555556,\"#d8576b\"],[0.6666666666666666,\"#ed7953\"],[0.7777777777777778,\"#fb9f3a\"],[0.8888888888888888,\"#fdca26\"],[1.0,\"#f0f921\"]],\"diverging\":[[0,\"#8e0152\"],[0.1,\"#c51b7d\"],[0.2,\"#de77ae\"],[0.3,\"#f1b6da\"],[0.4,\"#fde0ef\"],[0.5,\"#f7f7f7\"],[0.6,\"#e6f5d0\"],[0.7,\"#b8e186\"],[0.8,\"#7fbc41\"],[0.9,\"#4d9221\"],[1,\"#276419\"]]},\"xaxis\":{\"gridcolor\":\"white\",\"linecolor\":\"white\",\"ticks\":\"\",\"title\":{\"standoff\":15},\"zerolinecolor\":\"white\",\"automargin\":true,\"zerolinewidth\":2},\"yaxis\":{\"gridcolor\":\"white\",\"linecolor\":\"white\",\"ticks\":\"\",\"title\":{\"standoff\":15},\"zerolinecolor\":\"white\",\"automargin\":true,\"zerolinewidth\":2},\"scene\":{\"xaxis\":{\"backgroundcolor\":\"#E5ECF6\",\"gridcolor\":\"white\",\"linecolor\":\"white\",\"showbackground\":true,\"ticks\":\"\",\"zerolinecolor\":\"white\",\"gridwidth\":2},\"yaxis\":{\"backgroundcolor\":\"#E5ECF6\",\"gridcolor\":\"white\",\"linecolor\":\"white\",\"showbackground\":true,\"ticks\":\"\",\"zerolinecolor\":\"white\",\"gridwidth\":2},\"zaxis\":{\"backgroundcolor\":\"#E5ECF6\",\"gridcolor\":\"white\",\"linecolor\":\"white\",\"showbackground\":true,\"ticks\":\"\",\"zerolinecolor\":\"white\",\"gridwidth\":2}},\"shapedefaults\":{\"line\":{\"color\":\"#2a3f5f\"}},\"annotationdefaults\":{\"arrowcolor\":\"#2a3f5f\",\"arrowhead\":0,\"arrowwidth\":1},\"geo\":{\"bgcolor\":\"white\",\"landcolor\":\"#E5ECF6\",\"subunitcolor\":\"white\",\"showland\":true,\"showlakes\":true,\"lakecolor\":\"white\"},\"title\":{\"x\":0.05},\"mapbox\":{\"style\":\"light\"}}}},                        {\"responsive\": true}                    ).then(function(){\n",
       "                            \n",
       "var gd = document.getElementById('45ba8292-9e6c-4f5a-b349-f2eaa85c12c9');\n",
       "var x = new MutationObserver(function (mutations, observer) {{\n",
       "        var display = window.getComputedStyle(gd).display;\n",
       "        if (!display || display === 'none') {{\n",
       "            console.log([gd, 'removed!']);\n",
       "            Plotly.purge(gd);\n",
       "            observer.disconnect();\n",
       "        }}\n",
       "}});\n",
       "\n",
       "// Listen for the removal of the full notebook cells\n",
       "var notebookContainer = gd.closest('#notebook-container');\n",
       "if (notebookContainer) {{\n",
       "    x.observe(notebookContainer, {childList: true});\n",
       "}}\n",
       "\n",
       "// Listen for the clearing of the current output cell\n",
       "var outputEl = gd.closest('.output');\n",
       "if (outputEl) {{\n",
       "    x.observe(outputEl, {childList: true});\n",
       "}}\n",
       "\n",
       "                        })                };                });            </script>        </div>"
      ]
     },
     "metadata": {},
     "output_type": "display_data"
    }
   ],
   "source": [
    "# Visualizations\n",
    "vis.plot_optimization_history(study_xg).show()\n",
    "vis.plot_param_importances(study_xg).show()"
   ]
  },
  {
   "cell_type": "markdown",
   "id": "d615ca7b79cec949",
   "metadata": {},
   "source": [
    "#### Model Training"
   ]
  },
  {
   "cell_type": "code",
   "execution_count": 54,
   "id": "877397990c9ffd37",
   "metadata": {
    "ExecuteTime": {
     "end_time": "2024-12-11T23:33:48.095066Z",
     "start_time": "2024-12-11T23:33:48.078183Z"
    }
   },
   "outputs": [],
   "source": [
    "# Get the best hyperparameters\n",
    "best_params_xg = study_xg.best_params"
   ]
  },
  {
   "cell_type": "code",
   "execution_count": 55,
   "id": "b75b34022f3059d4",
   "metadata": {
    "ExecuteTime": {
     "end_time": "2024-12-11T23:33:48.122471Z",
     "start_time": "2024-12-11T23:33:48.107182Z"
    }
   },
   "outputs": [],
   "source": [
    "# Initialize XGBoost model with best hyperparameters\n",
    "xgb_model = XGBRegressor(\n",
    "    random_state=42,\n",
    "    **best_params_xg\n",
    ")"
   ]
  },
  {
   "cell_type": "code",
   "execution_count": 56,
   "id": "e1b62ea4bdedaab6",
   "metadata": {
    "ExecuteTime": {
     "end_time": "2024-12-11T23:33:48.623104Z",
     "start_time": "2024-12-11T23:33:48.134089Z"
    }
   },
   "outputs": [
    {
     "data": {
      "text/html": [
       "<style>#sk-container-id-4 {\n",
       "  /* Definition of color scheme common for light and dark mode */\n",
       "  --sklearn-color-text: black;\n",
       "  --sklearn-color-line: gray;\n",
       "  /* Definition of color scheme for unfitted estimators */\n",
       "  --sklearn-color-unfitted-level-0: #fff5e6;\n",
       "  --sklearn-color-unfitted-level-1: #f6e4d2;\n",
       "  --sklearn-color-unfitted-level-2: #ffe0b3;\n",
       "  --sklearn-color-unfitted-level-3: chocolate;\n",
       "  /* Definition of color scheme for fitted estimators */\n",
       "  --sklearn-color-fitted-level-0: #f0f8ff;\n",
       "  --sklearn-color-fitted-level-1: #d4ebff;\n",
       "  --sklearn-color-fitted-level-2: #b3dbfd;\n",
       "  --sklearn-color-fitted-level-3: cornflowerblue;\n",
       "\n",
       "  /* Specific color for light theme */\n",
       "  --sklearn-color-text-on-default-background: var(--sg-text-color, var(--theme-code-foreground, var(--jp-content-font-color1, black)));\n",
       "  --sklearn-color-background: var(--sg-background-color, var(--theme-background, var(--jp-layout-color0, white)));\n",
       "  --sklearn-color-border-box: var(--sg-text-color, var(--theme-code-foreground, var(--jp-content-font-color1, black)));\n",
       "  --sklearn-color-icon: #696969;\n",
       "\n",
       "  @media (prefers-color-scheme: dark) {\n",
       "    /* Redefinition of color scheme for dark theme */\n",
       "    --sklearn-color-text-on-default-background: var(--sg-text-color, var(--theme-code-foreground, var(--jp-content-font-color1, white)));\n",
       "    --sklearn-color-background: var(--sg-background-color, var(--theme-background, var(--jp-layout-color0, #111)));\n",
       "    --sklearn-color-border-box: var(--sg-text-color, var(--theme-code-foreground, var(--jp-content-font-color1, white)));\n",
       "    --sklearn-color-icon: #878787;\n",
       "  }\n",
       "}\n",
       "\n",
       "#sk-container-id-4 {\n",
       "  color: var(--sklearn-color-text);\n",
       "}\n",
       "\n",
       "#sk-container-id-4 pre {\n",
       "  padding: 0;\n",
       "}\n",
       "\n",
       "#sk-container-id-4 input.sk-hidden--visually {\n",
       "  border: 0;\n",
       "  clip: rect(1px 1px 1px 1px);\n",
       "  clip: rect(1px, 1px, 1px, 1px);\n",
       "  height: 1px;\n",
       "  margin: -1px;\n",
       "  overflow: hidden;\n",
       "  padding: 0;\n",
       "  position: absolute;\n",
       "  width: 1px;\n",
       "}\n",
       "\n",
       "#sk-container-id-4 div.sk-dashed-wrapped {\n",
       "  border: 1px dashed var(--sklearn-color-line);\n",
       "  margin: 0 0.4em 0.5em 0.4em;\n",
       "  box-sizing: border-box;\n",
       "  padding-bottom: 0.4em;\n",
       "  background-color: var(--sklearn-color-background);\n",
       "}\n",
       "\n",
       "#sk-container-id-4 div.sk-container {\n",
       "  /* jupyter's `normalize.less` sets `[hidden] { display: none; }`\n",
       "     but bootstrap.min.css set `[hidden] { display: none !important; }`\n",
       "     so we also need the `!important` here to be able to override the\n",
       "     default hidden behavior on the sphinx rendered scikit-learn.org.\n",
       "     See: https://github.com/scikit-learn/scikit-learn/issues/21755 */\n",
       "  display: inline-block !important;\n",
       "  position: relative;\n",
       "}\n",
       "\n",
       "#sk-container-id-4 div.sk-text-repr-fallback {\n",
       "  display: none;\n",
       "}\n",
       "\n",
       "div.sk-parallel-item,\n",
       "div.sk-serial,\n",
       "div.sk-item {\n",
       "  /* draw centered vertical line to link estimators */\n",
       "  background-image: linear-gradient(var(--sklearn-color-text-on-default-background), var(--sklearn-color-text-on-default-background));\n",
       "  background-size: 2px 100%;\n",
       "  background-repeat: no-repeat;\n",
       "  background-position: center center;\n",
       "}\n",
       "\n",
       "/* Parallel-specific style estimator block */\n",
       "\n",
       "#sk-container-id-4 div.sk-parallel-item::after {\n",
       "  content: \"\";\n",
       "  width: 100%;\n",
       "  border-bottom: 2px solid var(--sklearn-color-text-on-default-background);\n",
       "  flex-grow: 1;\n",
       "}\n",
       "\n",
       "#sk-container-id-4 div.sk-parallel {\n",
       "  display: flex;\n",
       "  align-items: stretch;\n",
       "  justify-content: center;\n",
       "  background-color: var(--sklearn-color-background);\n",
       "  position: relative;\n",
       "}\n",
       "\n",
       "#sk-container-id-4 div.sk-parallel-item {\n",
       "  display: flex;\n",
       "  flex-direction: column;\n",
       "}\n",
       "\n",
       "#sk-container-id-4 div.sk-parallel-item:first-child::after {\n",
       "  align-self: flex-end;\n",
       "  width: 50%;\n",
       "}\n",
       "\n",
       "#sk-container-id-4 div.sk-parallel-item:last-child::after {\n",
       "  align-self: flex-start;\n",
       "  width: 50%;\n",
       "}\n",
       "\n",
       "#sk-container-id-4 div.sk-parallel-item:only-child::after {\n",
       "  width: 0;\n",
       "}\n",
       "\n",
       "/* Serial-specific style estimator block */\n",
       "\n",
       "#sk-container-id-4 div.sk-serial {\n",
       "  display: flex;\n",
       "  flex-direction: column;\n",
       "  align-items: center;\n",
       "  background-color: var(--sklearn-color-background);\n",
       "  padding-right: 1em;\n",
       "  padding-left: 1em;\n",
       "}\n",
       "\n",
       "\n",
       "/* Toggleable style: style used for estimator/Pipeline/ColumnTransformer box that is\n",
       "clickable and can be expanded/collapsed.\n",
       "- Pipeline and ColumnTransformer use this feature and define the default style\n",
       "- Estimators will overwrite some part of the style using the `sk-estimator` class\n",
       "*/\n",
       "\n",
       "/* Pipeline and ColumnTransformer style (default) */\n",
       "\n",
       "#sk-container-id-4 div.sk-toggleable {\n",
       "  /* Default theme specific background. It is overwritten whether we have a\n",
       "  specific estimator or a Pipeline/ColumnTransformer */\n",
       "  background-color: var(--sklearn-color-background);\n",
       "}\n",
       "\n",
       "/* Toggleable label */\n",
       "#sk-container-id-4 label.sk-toggleable__label {\n",
       "  cursor: pointer;\n",
       "  display: block;\n",
       "  width: 100%;\n",
       "  margin-bottom: 0;\n",
       "  padding: 0.5em;\n",
       "  box-sizing: border-box;\n",
       "  text-align: center;\n",
       "}\n",
       "\n",
       "#sk-container-id-4 label.sk-toggleable__label-arrow:before {\n",
       "  /* Arrow on the left of the label */\n",
       "  content: \"▸\";\n",
       "  float: left;\n",
       "  margin-right: 0.25em;\n",
       "  color: var(--sklearn-color-icon);\n",
       "}\n",
       "\n",
       "#sk-container-id-4 label.sk-toggleable__label-arrow:hover:before {\n",
       "  color: var(--sklearn-color-text);\n",
       "}\n",
       "\n",
       "/* Toggleable content - dropdown */\n",
       "\n",
       "#sk-container-id-4 div.sk-toggleable__content {\n",
       "  max-height: 0;\n",
       "  max-width: 0;\n",
       "  overflow: hidden;\n",
       "  text-align: left;\n",
       "  /* unfitted */\n",
       "  background-color: var(--sklearn-color-unfitted-level-0);\n",
       "}\n",
       "\n",
       "#sk-container-id-4 div.sk-toggleable__content.fitted {\n",
       "  /* fitted */\n",
       "  background-color: var(--sklearn-color-fitted-level-0);\n",
       "}\n",
       "\n",
       "#sk-container-id-4 div.sk-toggleable__content pre {\n",
       "  margin: 0.2em;\n",
       "  border-radius: 0.25em;\n",
       "  color: var(--sklearn-color-text);\n",
       "  /* unfitted */\n",
       "  background-color: var(--sklearn-color-unfitted-level-0);\n",
       "}\n",
       "\n",
       "#sk-container-id-4 div.sk-toggleable__content.fitted pre {\n",
       "  /* unfitted */\n",
       "  background-color: var(--sklearn-color-fitted-level-0);\n",
       "}\n",
       "\n",
       "#sk-container-id-4 input.sk-toggleable__control:checked~div.sk-toggleable__content {\n",
       "  /* Expand drop-down */\n",
       "  max-height: 200px;\n",
       "  max-width: 100%;\n",
       "  overflow: auto;\n",
       "}\n",
       "\n",
       "#sk-container-id-4 input.sk-toggleable__control:checked~label.sk-toggleable__label-arrow:before {\n",
       "  content: \"▾\";\n",
       "}\n",
       "\n",
       "/* Pipeline/ColumnTransformer-specific style */\n",
       "\n",
       "#sk-container-id-4 div.sk-label input.sk-toggleable__control:checked~label.sk-toggleable__label {\n",
       "  color: var(--sklearn-color-text);\n",
       "  background-color: var(--sklearn-color-unfitted-level-2);\n",
       "}\n",
       "\n",
       "#sk-container-id-4 div.sk-label.fitted input.sk-toggleable__control:checked~label.sk-toggleable__label {\n",
       "  background-color: var(--sklearn-color-fitted-level-2);\n",
       "}\n",
       "\n",
       "/* Estimator-specific style */\n",
       "\n",
       "/* Colorize estimator box */\n",
       "#sk-container-id-4 div.sk-estimator input.sk-toggleable__control:checked~label.sk-toggleable__label {\n",
       "  /* unfitted */\n",
       "  background-color: var(--sklearn-color-unfitted-level-2);\n",
       "}\n",
       "\n",
       "#sk-container-id-4 div.sk-estimator.fitted input.sk-toggleable__control:checked~label.sk-toggleable__label {\n",
       "  /* fitted */\n",
       "  background-color: var(--sklearn-color-fitted-level-2);\n",
       "}\n",
       "\n",
       "#sk-container-id-4 div.sk-label label.sk-toggleable__label,\n",
       "#sk-container-id-4 div.sk-label label {\n",
       "  /* The background is the default theme color */\n",
       "  color: var(--sklearn-color-text-on-default-background);\n",
       "}\n",
       "\n",
       "/* On hover, darken the color of the background */\n",
       "#sk-container-id-4 div.sk-label:hover label.sk-toggleable__label {\n",
       "  color: var(--sklearn-color-text);\n",
       "  background-color: var(--sklearn-color-unfitted-level-2);\n",
       "}\n",
       "\n",
       "/* Label box, darken color on hover, fitted */\n",
       "#sk-container-id-4 div.sk-label.fitted:hover label.sk-toggleable__label.fitted {\n",
       "  color: var(--sklearn-color-text);\n",
       "  background-color: var(--sklearn-color-fitted-level-2);\n",
       "}\n",
       "\n",
       "/* Estimator label */\n",
       "\n",
       "#sk-container-id-4 div.sk-label label {\n",
       "  font-family: monospace;\n",
       "  font-weight: bold;\n",
       "  display: inline-block;\n",
       "  line-height: 1.2em;\n",
       "}\n",
       "\n",
       "#sk-container-id-4 div.sk-label-container {\n",
       "  text-align: center;\n",
       "}\n",
       "\n",
       "/* Estimator-specific */\n",
       "#sk-container-id-4 div.sk-estimator {\n",
       "  font-family: monospace;\n",
       "  border: 1px dotted var(--sklearn-color-border-box);\n",
       "  border-radius: 0.25em;\n",
       "  box-sizing: border-box;\n",
       "  margin-bottom: 0.5em;\n",
       "  /* unfitted */\n",
       "  background-color: var(--sklearn-color-unfitted-level-0);\n",
       "}\n",
       "\n",
       "#sk-container-id-4 div.sk-estimator.fitted {\n",
       "  /* fitted */\n",
       "  background-color: var(--sklearn-color-fitted-level-0);\n",
       "}\n",
       "\n",
       "/* on hover */\n",
       "#sk-container-id-4 div.sk-estimator:hover {\n",
       "  /* unfitted */\n",
       "  background-color: var(--sklearn-color-unfitted-level-2);\n",
       "}\n",
       "\n",
       "#sk-container-id-4 div.sk-estimator.fitted:hover {\n",
       "  /* fitted */\n",
       "  background-color: var(--sklearn-color-fitted-level-2);\n",
       "}\n",
       "\n",
       "/* Specification for estimator info (e.g. \"i\" and \"?\") */\n",
       "\n",
       "/* Common style for \"i\" and \"?\" */\n",
       "\n",
       ".sk-estimator-doc-link,\n",
       "a:link.sk-estimator-doc-link,\n",
       "a:visited.sk-estimator-doc-link {\n",
       "  float: right;\n",
       "  font-size: smaller;\n",
       "  line-height: 1em;\n",
       "  font-family: monospace;\n",
       "  background-color: var(--sklearn-color-background);\n",
       "  border-radius: 1em;\n",
       "  height: 1em;\n",
       "  width: 1em;\n",
       "  text-decoration: none !important;\n",
       "  margin-left: 1ex;\n",
       "  /* unfitted */\n",
       "  border: var(--sklearn-color-unfitted-level-1) 1pt solid;\n",
       "  color: var(--sklearn-color-unfitted-level-1);\n",
       "}\n",
       "\n",
       ".sk-estimator-doc-link.fitted,\n",
       "a:link.sk-estimator-doc-link.fitted,\n",
       "a:visited.sk-estimator-doc-link.fitted {\n",
       "  /* fitted */\n",
       "  border: var(--sklearn-color-fitted-level-1) 1pt solid;\n",
       "  color: var(--sklearn-color-fitted-level-1);\n",
       "}\n",
       "\n",
       "/* On hover */\n",
       "div.sk-estimator:hover .sk-estimator-doc-link:hover,\n",
       ".sk-estimator-doc-link:hover,\n",
       "div.sk-label-container:hover .sk-estimator-doc-link:hover,\n",
       ".sk-estimator-doc-link:hover {\n",
       "  /* unfitted */\n",
       "  background-color: var(--sklearn-color-unfitted-level-3);\n",
       "  color: var(--sklearn-color-background);\n",
       "  text-decoration: none;\n",
       "}\n",
       "\n",
       "div.sk-estimator.fitted:hover .sk-estimator-doc-link.fitted:hover,\n",
       ".sk-estimator-doc-link.fitted:hover,\n",
       "div.sk-label-container:hover .sk-estimator-doc-link.fitted:hover,\n",
       ".sk-estimator-doc-link.fitted:hover {\n",
       "  /* fitted */\n",
       "  background-color: var(--sklearn-color-fitted-level-3);\n",
       "  color: var(--sklearn-color-background);\n",
       "  text-decoration: none;\n",
       "}\n",
       "\n",
       "/* Span, style for the box shown on hovering the info icon */\n",
       ".sk-estimator-doc-link span {\n",
       "  display: none;\n",
       "  z-index: 9999;\n",
       "  position: relative;\n",
       "  font-weight: normal;\n",
       "  right: .2ex;\n",
       "  padding: .5ex;\n",
       "  margin: .5ex;\n",
       "  width: min-content;\n",
       "  min-width: 20ex;\n",
       "  max-width: 50ex;\n",
       "  color: var(--sklearn-color-text);\n",
       "  box-shadow: 2pt 2pt 4pt #999;\n",
       "  /* unfitted */\n",
       "  background: var(--sklearn-color-unfitted-level-0);\n",
       "  border: .5pt solid var(--sklearn-color-unfitted-level-3);\n",
       "}\n",
       "\n",
       ".sk-estimator-doc-link.fitted span {\n",
       "  /* fitted */\n",
       "  background: var(--sklearn-color-fitted-level-0);\n",
       "  border: var(--sklearn-color-fitted-level-3);\n",
       "}\n",
       "\n",
       ".sk-estimator-doc-link:hover span {\n",
       "  display: block;\n",
       "}\n",
       "\n",
       "/* \"?\"-specific style due to the `<a>` HTML tag */\n",
       "\n",
       "#sk-container-id-4 a.estimator_doc_link {\n",
       "  float: right;\n",
       "  font-size: 1rem;\n",
       "  line-height: 1em;\n",
       "  font-family: monospace;\n",
       "  background-color: var(--sklearn-color-background);\n",
       "  border-radius: 1rem;\n",
       "  height: 1rem;\n",
       "  width: 1rem;\n",
       "  text-decoration: none;\n",
       "  /* unfitted */\n",
       "  color: var(--sklearn-color-unfitted-level-1);\n",
       "  border: var(--sklearn-color-unfitted-level-1) 1pt solid;\n",
       "}\n",
       "\n",
       "#sk-container-id-4 a.estimator_doc_link.fitted {\n",
       "  /* fitted */\n",
       "  border: var(--sklearn-color-fitted-level-1) 1pt solid;\n",
       "  color: var(--sklearn-color-fitted-level-1);\n",
       "}\n",
       "\n",
       "/* On hover */\n",
       "#sk-container-id-4 a.estimator_doc_link:hover {\n",
       "  /* unfitted */\n",
       "  background-color: var(--sklearn-color-unfitted-level-3);\n",
       "  color: var(--sklearn-color-background);\n",
       "  text-decoration: none;\n",
       "}\n",
       "\n",
       "#sk-container-id-4 a.estimator_doc_link.fitted:hover {\n",
       "  /* fitted */\n",
       "  background-color: var(--sklearn-color-fitted-level-3);\n",
       "}\n",
       "</style><div id=\"sk-container-id-4\" class=\"sk-top-container\"><div class=\"sk-text-repr-fallback\"><pre>XGBRegressor(base_score=None, booster=None, callbacks=None,\n",
       "             colsample_bylevel=None, colsample_bynode=None,\n",
       "             colsample_bytree=0.6111511777431242, device=None,\n",
       "             early_stopping_rounds=None, enable_categorical=False,\n",
       "             eval_metric=None, feature_types=None, gamma=0.3152741218754418,\n",
       "             grow_policy=None, importance_type=None,\n",
       "             interaction_constraints=None, learning_rate=0.05144729261533029,\n",
       "             max_bin=None, max_cat_threshold=None, max_cat_to_onehot=None,\n",
       "             max_delta_step=None, max_depth=4, max_leaves=None,\n",
       "             min_child_weight=6, missing=nan, monotone_constraints=None,\n",
       "             multi_strategy=None, n_estimators=726, n_jobs=None,\n",
       "             num_parallel_tree=None, random_state=42, ...)</pre><b>In a Jupyter environment, please rerun this cell to show the HTML representation or trust the notebook. <br />On GitHub, the HTML representation is unable to render, please try loading this page with nbviewer.org.</b></div><div class=\"sk-container\" hidden><div class=\"sk-item\"><div class=\"sk-estimator fitted sk-toggleable\"><input class=\"sk-toggleable__control sk-hidden--visually\" id=\"sk-estimator-id-6\" type=\"checkbox\" checked><label for=\"sk-estimator-id-6\" class=\"sk-toggleable__label fitted sk-toggleable__label-arrow fitted\">&nbsp;XGBRegressor<span class=\"sk-estimator-doc-link fitted\">i<span>Fitted</span></span></label><div class=\"sk-toggleable__content fitted\"><pre>XGBRegressor(base_score=None, booster=None, callbacks=None,\n",
       "             colsample_bylevel=None, colsample_bynode=None,\n",
       "             colsample_bytree=0.6111511777431242, device=None,\n",
       "             early_stopping_rounds=None, enable_categorical=False,\n",
       "             eval_metric=None, feature_types=None, gamma=0.3152741218754418,\n",
       "             grow_policy=None, importance_type=None,\n",
       "             interaction_constraints=None, learning_rate=0.05144729261533029,\n",
       "             max_bin=None, max_cat_threshold=None, max_cat_to_onehot=None,\n",
       "             max_delta_step=None, max_depth=4, max_leaves=None,\n",
       "             min_child_weight=6, missing=nan, monotone_constraints=None,\n",
       "             multi_strategy=None, n_estimators=726, n_jobs=None,\n",
       "             num_parallel_tree=None, random_state=42, ...)</pre></div> </div></div></div></div>"
      ],
      "text/plain": [
       "XGBRegressor(base_score=None, booster=None, callbacks=None,\n",
       "             colsample_bylevel=None, colsample_bynode=None,\n",
       "             colsample_bytree=0.6111511777431242, device=None,\n",
       "             early_stopping_rounds=None, enable_categorical=False,\n",
       "             eval_metric=None, feature_types=None, gamma=0.3152741218754418,\n",
       "             grow_policy=None, importance_type=None,\n",
       "             interaction_constraints=None, learning_rate=0.05144729261533029,\n",
       "             max_bin=None, max_cat_threshold=None, max_cat_to_onehot=None,\n",
       "             max_delta_step=None, max_depth=4, max_leaves=None,\n",
       "             min_child_weight=6, missing=nan, monotone_constraints=None,\n",
       "             multi_strategy=None, n_estimators=726, n_jobs=None,\n",
       "             num_parallel_tree=None, random_state=42, ...)"
      ]
     },
     "execution_count": 56,
     "metadata": {},
     "output_type": "execute_result"
    }
   ],
   "source": [
    "# Fit the model\n",
    "xgb_model.fit(X_train, y_train)"
   ]
  },
  {
   "cell_type": "markdown",
   "id": "38db2e27827c233f",
   "metadata": {},
   "source": [
    "#### Model Evaluation"
   ]
  },
  {
   "cell_type": "code",
   "execution_count": 57,
   "id": "6b621f8dd216728c",
   "metadata": {
    "ExecuteTime": {
     "end_time": "2024-12-11T23:33:48.672484Z",
     "start_time": "2024-12-11T23:33:48.647602Z"
    }
   },
   "outputs": [],
   "source": [
    "y_pred_xgb_train = xgb_model.predict(X_train)\n",
    "y_pred_xgb_test = xgb_model.predict(X_test)"
   ]
  },
  {
   "cell_type": "code",
   "execution_count": 58,
   "id": "4b286db9154a2171",
   "metadata": {
    "ExecuteTime": {
     "end_time": "2024-12-11T23:33:48.775834Z",
     "start_time": "2024-12-11T23:33:48.676161Z"
    }
   },
   "outputs": [
    {
     "data": {
      "image/png": "[encoded data removed]",
      "text/plain": [
       "<Figure size 1000x600 with 1 Axes>"
      ]
     },
     "metadata": {},
     "output_type": "display_data"
    }
   ],
   "source": [
    "# plot top 10 features\n",
    "plt.figure(figsize=(10, 6))\n",
    "plt.barh(X.columns[np.argsort(xgb_model.feature_importances_)[::-1][:10]],\n",
    "         xgb_model.feature_importances_[np.argsort(xgb_model.feature_importances_)[::-1][:10]])\n",
    "plt.xlabel('Feature Importance')\n",
    "plt.ylabel('Feature')\n",
    "plt.title('Top 10 Features')\n",
    "plt.show()"
   ]
  },
  {
   "cell_type": "markdown",
   "id": "a4bb1d72d8f0a4bd",
   "metadata": {},
   "source": [
    "#### Model Saving"
   ]
  },
  {
   "cell_type": "code",
   "execution_count": 59,
   "id": "1f8edb921066327c",
   "metadata": {
    "ExecuteTime": {
     "end_time": "2024-12-11T23:33:48.816493Z",
     "start_time": "2024-12-11T23:33:48.793108Z"
    }
   },
   "outputs": [],
   "source": [
    "# Save the model\n",
    "pickle.dump(xgb_model, open('../models/EQR_xgb.pkl', 'wb'))"
   ]
  },
  {
   "cell_type": "markdown",
   "id": "ad5d6ff48c3a8a07",
   "metadata": {},
   "source": [
    "## Conclusion"
   ]
  },
  {
   "cell_type": "code",
   "execution_count": 60,
   "id": "dd5b14efeadec0c3",
   "metadata": {
    "ExecuteTime": {
     "end_time": "2024-12-11T23:33:48.859848Z",
     "start_time": "2024-12-11T23:33:48.830183Z"
    }
   },
   "outputs": [
    {
     "data": {
      "text/html": [
       "<div>\n",
       "<style scoped>\n",
       "    .dataframe tbody tr th:only-of-type {\n",
       "        vertical-align: middle;\n",
       "    }\n",
       "\n",
       "    .dataframe tbody tr th {\n",
       "        vertical-align: top;\n",
       "    }\n",
       "\n",
       "    .dataframe thead th {\n",
       "        text-align: right;\n",
       "    }\n",
       "</style>\n",
       "<table border=\"1\" class=\"dataframe\">\n",
       "  <thead>\n",
       "    <tr style=\"text-align: right;\">\n",
       "      <th></th>\n",
       "      <th></th>\n",
       "      <th>Random Forest</th>\n",
       "      <th>AdaBoost</th>\n",
       "      <th>XGBoost</th>\n",
       "    </tr>\n",
       "    <tr>\n",
       "      <th>Metric</th>\n",
       "      <th>Type</th>\n",
       "      <th></th>\n",
       "      <th></th>\n",
       "      <th></th>\n",
       "    </tr>\n",
       "  </thead>\n",
       "  <tbody>\n",
       "    <tr>\n",
       "      <th>Mean Absolute Error</th>\n",
       "      <th>Train</th>\n",
       "      <td>0.959358</td>\n",
       "      <td>3.27476</td>\n",
       "      <td>0.268645</td>\n",
       "    </tr>\n",
       "    <tr>\n",
       "      <th>Mean Squared Error</th>\n",
       "      <th>Train</th>\n",
       "      <td>1.566963</td>\n",
       "      <td>15.675373</td>\n",
       "      <td>0.122026</td>\n",
       "    </tr>\n",
       "    <tr>\n",
       "      <th>Root Mean Squared Error</th>\n",
       "      <th>Train</th>\n",
       "      <td>1.251784</td>\n",
       "      <td>3.959214</td>\n",
       "      <td>0.349323</td>\n",
       "    </tr>\n",
       "    <tr>\n",
       "      <th>R-squared</th>\n",
       "      <th>Train</th>\n",
       "      <td>0.983841</td>\n",
       "      <td>0.838353</td>\n",
       "      <td>0.998742</td>\n",
       "    </tr>\n",
       "    <tr>\n",
       "      <th>Adjusted R-squared</th>\n",
       "      <th>Train</th>\n",
       "      <td>0.981395</td>\n",
       "      <td>0.813878</td>\n",
       "      <td>0.998551</td>\n",
       "    </tr>\n",
       "    <tr>\n",
       "      <th>Mean Absolute Error</th>\n",
       "      <th>Test</th>\n",
       "      <td>5.08065</td>\n",
       "      <td>4.988588</td>\n",
       "      <td>4.750876</td>\n",
       "    </tr>\n",
       "    <tr>\n",
       "      <th>Mean Squared Error</th>\n",
       "      <th>Test</th>\n",
       "      <td>39.860562</td>\n",
       "      <td>35.856413</td>\n",
       "      <td>33.638143</td>\n",
       "    </tr>\n",
       "    <tr>\n",
       "      <th>Root Mean Squared Error</th>\n",
       "      <th>Test</th>\n",
       "      <td>6.313522</td>\n",
       "      <td>5.988022</td>\n",
       "      <td>5.79984</td>\n",
       "    </tr>\n",
       "    <tr>\n",
       "      <th>R-squared</th>\n",
       "      <th>Test</th>\n",
       "      <td>-0.073868</td>\n",
       "      <td>0.034006</td>\n",
       "      <td>0.093768</td>\n",
       "    </tr>\n",
       "    <tr>\n",
       "      <th>Adjusted R-squared</th>\n",
       "      <th>Test</th>\n",
       "      <td>-3.372178</td>\n",
       "      <td>-2.932976</td>\n",
       "      <td>-2.689661</td>\n",
       "    </tr>\n",
       "  </tbody>\n",
       "</table>\n",
       "</div>"
      ],
      "text/plain": [
       "                              Random Forest   AdaBoost    XGBoost\n",
       "Metric                  Type                                     \n",
       "Mean Absolute Error     Train      0.959358    3.27476   0.268645\n",
       "Mean Squared Error      Train      1.566963  15.675373   0.122026\n",
       "Root Mean Squared Error Train      1.251784   3.959214   0.349323\n",
       "R-squared               Train      0.983841   0.838353   0.998742\n",
       "Adjusted R-squared      Train      0.981395   0.813878   0.998551\n",
       "Mean Absolute Error     Test        5.08065   4.988588   4.750876\n",
       "Mean Squared Error      Test      39.860562  35.856413  33.638143\n",
       "Root Mean Squared Error Test       6.313522   5.988022    5.79984\n",
       "R-squared               Test      -0.073868   0.034006   0.093768\n",
       "Adjusted R-squared      Test      -3.372178  -2.932976  -2.689661"
      ]
     },
     "execution_count": 60,
     "metadata": {},
     "output_type": "execute_result"
    }
   ],
   "source": [
    "models = ['Random Forest', 'AdaBoost', 'XGBoost']\n",
    "predictions_train = [y_pred_rf_train, y_pred_ada_train, y_pred_xgb_train]\n",
    "predictions_test = [y_pred_rf_test, y_pred_ada_test, y_pred_xgb_test]\n",
    "\n",
    "utils.evaluate_models(models=models, predictions_train=predictions_train, predictions_test=predictions_test, X=X,\n",
    "                      y_train=y_train, y_test=y_test, task='regression')"
   ]
  }
 ],
 "metadata": {
  "kernelspec": {
   "display_name": "base",
   "language": "python",
   "name": "python3"
  },
  "language_info": {
   "codemirror_mode": {
    "name": "ipython",
    "version": 3
   },
   "file_extension": ".py",
   "mimetype": "text/x-python",
   "name": "python",
   "nbconvert_exporter": "python",
   "pygments_lexer": "ipython3",
   "version": "3.12.2"
  }
 },
 "nbformat": 4,
 "nbformat_minor": 5
}
