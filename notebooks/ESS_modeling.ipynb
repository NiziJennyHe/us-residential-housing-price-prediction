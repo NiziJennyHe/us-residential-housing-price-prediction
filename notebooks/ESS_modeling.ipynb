{
 "cells": [
  {
   "cell_type": "markdown",
   "id": "160ae98ebfedb0c3",
   "metadata": {},
   "source": [
    "# Essex Property Trust Price Prediction"
   ]
  },
  {
   "cell_type": "code",
   "execution_count": 16,
   "id": "cdb6c0af34af046",
   "metadata": {
    "ExecuteTime": {
     "end_time": "2024-12-11T23:02:20.990011Z",
     "start_time": "2024-12-11T23:02:20.970466Z"
    }
   },
   "outputs": [
    {
     "name": "stdout",
     "output_type": "stream",
     "text": [
      "The autoreload extension is already loaded. To reload it, use:\n",
      "  %reload_ext autoreload\n"
     ]
    }
   ],
   "source": [
    "import pickle\n",
    "\n",
    "import matplotlib.pyplot as plt\n",
    "import numpy as np\n",
    "import optuna\n",
    "import pandas as pd\n",
    "import seaborn as sns\n",
    "from optuna import visualization as vis\n",
    "from sklearn.ensemble import RandomForestRegressor, AdaBoostRegressor\n",
    "from sklearn.metrics import make_scorer, root_mean_squared_error\n",
    "from sklearn.model_selection import KFold, cross_val_score, train_test_split\n",
    "from sklearn.tree import DecisionTreeRegressor\n",
    "from xgboost import XGBRegressor\n",
    "\n",
    "import utils\n",
    "%load_ext autoreload\n",
    "%autoreload 2"
   ]
  },
  {
   "cell_type": "markdown",
   "id": "caefd51b87d1c8ee",
   "metadata": {},
   "source": [
    "## Data Preparation"
   ]
  },
  {
   "cell_type": "code",
   "execution_count": 4,
   "id": "ed58055e7ee8087d",
   "metadata": {
    "ExecuteTime": {
     "end_time": "2024-12-11T23:02:21.116078Z",
     "start_time": "2024-12-11T23:02:21.014648Z"
    }
   },
   "outputs": [
    {
     "data": {
      "text/html": [
       "<div>\n",
       "<style scoped>\n",
       "    .dataframe tbody tr th:only-of-type {\n",
       "        vertical-align: middle;\n",
       "    }\n",
       "\n",
       "    .dataframe tbody tr th {\n",
       "        vertical-align: top;\n",
       "    }\n",
       "\n",
       "    .dataframe thead th {\n",
       "        text-align: right;\n",
       "    }\n",
       "</style>\n",
       "<table border=\"1\" class=\"dataframe\">\n",
       "  <thead>\n",
       "    <tr style=\"text-align: right;\">\n",
       "      <th></th>\n",
       "      <th>date</th>\n",
       "      <th>State</th>\n",
       "      <th>adjusted_average_new_listings</th>\n",
       "      <th>adjusted_average_new_listings_yoy</th>\n",
       "      <th>average_pending_sales_listing_updates</th>\n",
       "      <th>average_pending_sales_listing_updates_yoy</th>\n",
       "      <th>off_market_in_two_weeks</th>\n",
       "      <th>off_market_in_two_weeks_yoy</th>\n",
       "      <th>adjusted_average_homes_sold</th>\n",
       "      <th>adjusted_average_homes_sold_yoy</th>\n",
       "      <th>...</th>\n",
       "      <th>months_of_supply</th>\n",
       "      <th>months_of_supply_yoy</th>\n",
       "      <th>median_pending_sqft</th>\n",
       "      <th>median_pending_sqft_yoy</th>\n",
       "      <th>average_sale_to_list_ratio</th>\n",
       "      <th>average_sale_to_list_ratio_yoy</th>\n",
       "      <th>median_sale_ppsf</th>\n",
       "      <th>median_sale_ppsf_yoy</th>\n",
       "      <th>ZORI</th>\n",
       "      <th>ZHVI</th>\n",
       "    </tr>\n",
       "  </thead>\n",
       "  <tbody>\n",
       "    <tr>\n",
       "      <th>0</th>\n",
       "      <td>2016-12-30</td>\n",
       "      <td>AL</td>\n",
       "      <td>43.000000</td>\n",
       "      <td>-0.556701</td>\n",
       "      <td>52.000000</td>\n",
       "      <td>-0.174603</td>\n",
       "      <td>3.000000</td>\n",
       "      <td>-0.571429</td>\n",
       "      <td>36.000000</td>\n",
       "      <td>0.161290</td>\n",
       "      <td>...</td>\n",
       "      <td>37.555556</td>\n",
       "      <td>-11.831541</td>\n",
       "      <td>1994.000000</td>\n",
       "      <td>-0.005982</td>\n",
       "      <td>0.962797</td>\n",
       "      <td>-0.005236</td>\n",
       "      <td>99.543540</td>\n",
       "      <td>0.022577</td>\n",
       "      <td>1122.650058</td>\n",
       "      <td>216066.470760</td>\n",
       "    </tr>\n",
       "    <tr>\n",
       "      <th>22</th>\n",
       "      <td>2016-12-30</td>\n",
       "      <td>NM</td>\n",
       "      <td>114.313585</td>\n",
       "      <td>0.084512</td>\n",
       "      <td>134.713228</td>\n",
       "      <td>0.382836</td>\n",
       "      <td>20.912155</td>\n",
       "      <td>0.233377</td>\n",
       "      <td>49.089377</td>\n",
       "      <td>-0.202766</td>\n",
       "      <td>...</td>\n",
       "      <td>34.912703</td>\n",
       "      <td>3.409213</td>\n",
       "      <td>1581.070352</td>\n",
       "      <td>0.000619</td>\n",
       "      <td>0.968729</td>\n",
       "      <td>-0.003238</td>\n",
       "      <td>123.185945</td>\n",
       "      <td>-0.022682</td>\n",
       "      <td>1000.213260</td>\n",
       "      <td>214940.891096</td>\n",
       "    </tr>\n",
       "    <tr>\n",
       "      <th>23</th>\n",
       "      <td>2016-12-30</td>\n",
       "      <td>NV</td>\n",
       "      <td>73.000000</td>\n",
       "      <td>-0.401639</td>\n",
       "      <td>119.000000</td>\n",
       "      <td>-0.201342</td>\n",
       "      <td>11.000000</td>\n",
       "      <td>-0.312500</td>\n",
       "      <td>85.000000</td>\n",
       "      <td>-0.174757</td>\n",
       "      <td>...</td>\n",
       "      <td>22.976471</td>\n",
       "      <td>4.889092</td>\n",
       "      <td>1534.000000</td>\n",
       "      <td>0.009875</td>\n",
       "      <td>0.975629</td>\n",
       "      <td>-0.001425</td>\n",
       "      <td>171.276080</td>\n",
       "      <td>0.051403</td>\n",
       "      <td>1148.605311</td>\n",
       "      <td>305904.466295</td>\n",
       "    </tr>\n",
       "    <tr>\n",
       "      <th>24</th>\n",
       "      <td>2016-12-30</td>\n",
       "      <td>NY</td>\n",
       "      <td>151.742276</td>\n",
       "      <td>-0.169707</td>\n",
       "      <td>92.002294</td>\n",
       "      <td>-0.282131</td>\n",
       "      <td>3.498929</td>\n",
       "      <td>0.101171</td>\n",
       "      <td>96.855613</td>\n",
       "      <td>-0.176365</td>\n",
       "      <td>...</td>\n",
       "      <td>33.720803</td>\n",
       "      <td>2.649503</td>\n",
       "      <td>1349.549098</td>\n",
       "      <td>-0.060022</td>\n",
       "      <td>0.969925</td>\n",
       "      <td>0.004392</td>\n",
       "      <td>328.973719</td>\n",
       "      <td>0.029551</td>\n",
       "      <td>1895.798229</td>\n",
       "      <td>456494.835558</td>\n",
       "    </tr>\n",
       "    <tr>\n",
       "      <th>25</th>\n",
       "      <td>2016-12-30</td>\n",
       "      <td>OH</td>\n",
       "      <td>148.807790</td>\n",
       "      <td>-0.110787</td>\n",
       "      <td>141.400560</td>\n",
       "      <td>-0.119257</td>\n",
       "      <td>8.218554</td>\n",
       "      <td>0.395212</td>\n",
       "      <td>89.297186</td>\n",
       "      <td>-0.161583</td>\n",
       "      <td>...</td>\n",
       "      <td>30.830572</td>\n",
       "      <td>-0.016809</td>\n",
       "      <td>1560.083967</td>\n",
       "      <td>0.006244</td>\n",
       "      <td>0.960467</td>\n",
       "      <td>0.020897</td>\n",
       "      <td>76.917214</td>\n",
       "      <td>0.094313</td>\n",
       "      <td>843.742553</td>\n",
       "      <td>129419.574891</td>\n",
       "    </tr>\n",
       "    <tr>\n",
       "      <th>...</th>\n",
       "      <td>...</td>\n",
       "      <td>...</td>\n",
       "      <td>...</td>\n",
       "      <td>...</td>\n",
       "      <td>...</td>\n",
       "      <td>...</td>\n",
       "      <td>...</td>\n",
       "      <td>...</td>\n",
       "      <td>...</td>\n",
       "      <td>...</td>\n",
       "      <td>...</td>\n",
       "      <td>...</td>\n",
       "      <td>...</td>\n",
       "      <td>...</td>\n",
       "      <td>...</td>\n",
       "      <td>...</td>\n",
       "      <td>...</td>\n",
       "      <td>...</td>\n",
       "      <td>...</td>\n",
       "      <td>...</td>\n",
       "      <td>...</td>\n",
       "    </tr>\n",
       "    <tr>\n",
       "      <th>18425</th>\n",
       "      <td>2024-11-01</td>\n",
       "      <td>MA</td>\n",
       "      <td>97.090933</td>\n",
       "      <td>-0.041412</td>\n",
       "      <td>108.639851</td>\n",
       "      <td>0.122470</td>\n",
       "      <td>22.133546</td>\n",
       "      <td>0.093218</td>\n",
       "      <td>94.045135</td>\n",
       "      <td>0.329857</td>\n",
       "      <td>...</td>\n",
       "      <td>12.019740</td>\n",
       "      <td>-2.424043</td>\n",
       "      <td>1628.974114</td>\n",
       "      <td>0.013848</td>\n",
       "      <td>1.001044</td>\n",
       "      <td>-0.003737</td>\n",
       "      <td>407.260117</td>\n",
       "      <td>0.051139</td>\n",
       "      <td>2594.192374</td>\n",
       "      <td>625927.096790</td>\n",
       "    </tr>\n",
       "    <tr>\n",
       "      <th>18426</th>\n",
       "      <td>2024-11-01</td>\n",
       "      <td>MD</td>\n",
       "      <td>95.834211</td>\n",
       "      <td>0.211162</td>\n",
       "      <td>108.185107</td>\n",
       "      <td>0.159219</td>\n",
       "      <td>27.503864</td>\n",
       "      <td>0.048320</td>\n",
       "      <td>85.445557</td>\n",
       "      <td>0.262958</td>\n",
       "      <td>...</td>\n",
       "      <td>12.788671</td>\n",
       "      <td>-0.572449</td>\n",
       "      <td>1767.211363</td>\n",
       "      <td>-0.016668</td>\n",
       "      <td>0.998137</td>\n",
       "      <td>0.001047</td>\n",
       "      <td>221.888798</td>\n",
       "      <td>0.042522</td>\n",
       "      <td>1943.986460</td>\n",
       "      <td>396332.990533</td>\n",
       "    </tr>\n",
       "    <tr>\n",
       "      <th>18427</th>\n",
       "      <td>2024-11-01</td>\n",
       "      <td>ME</td>\n",
       "      <td>34.411858</td>\n",
       "      <td>0.313887</td>\n",
       "      <td>39.709881</td>\n",
       "      <td>0.830392</td>\n",
       "      <td>6.226087</td>\n",
       "      <td>0.024200</td>\n",
       "      <td>26.207115</td>\n",
       "      <td>0.097976</td>\n",
       "      <td>...</td>\n",
       "      <td>15.972631</td>\n",
       "      <td>3.528026</td>\n",
       "      <td>1569.513439</td>\n",
       "      <td>0.029284</td>\n",
       "      <td>0.975217</td>\n",
       "      <td>-0.004498</td>\n",
       "      <td>184.368299</td>\n",
       "      <td>0.006300</td>\n",
       "      <td>1536.475750</td>\n",
       "      <td>299791.577634</td>\n",
       "    </tr>\n",
       "    <tr>\n",
       "      <th>18416</th>\n",
       "      <td>2024-11-01</td>\n",
       "      <td>GA</td>\n",
       "      <td>25.704628</td>\n",
       "      <td>-0.165583</td>\n",
       "      <td>28.377602</td>\n",
       "      <td>-0.020919</td>\n",
       "      <td>5.882505</td>\n",
       "      <td>0.030047</td>\n",
       "      <td>21.229142</td>\n",
       "      <td>0.355209</td>\n",
       "      <td>...</td>\n",
       "      <td>21.932300</td>\n",
       "      <td>-0.595328</td>\n",
       "      <td>1743.028643</td>\n",
       "      <td>-0.022036</td>\n",
       "      <td>0.970562</td>\n",
       "      <td>-0.001474</td>\n",
       "      <td>159.285000</td>\n",
       "      <td>0.115485</td>\n",
       "      <td>1541.986132</td>\n",
       "      <td>255540.577007</td>\n",
       "    </tr>\n",
       "    <tr>\n",
       "      <th>18455</th>\n",
       "      <td>2024-11-01</td>\n",
       "      <td>WY</td>\n",
       "      <td>27.000000</td>\n",
       "      <td>0.080000</td>\n",
       "      <td>20.000000</td>\n",
       "      <td>-0.285714</td>\n",
       "      <td>5.000000</td>\n",
       "      <td>-0.166667</td>\n",
       "      <td>24.000000</td>\n",
       "      <td>0.333333</td>\n",
       "      <td>...</td>\n",
       "      <td>9.208333</td>\n",
       "      <td>-2.513889</td>\n",
       "      <td>1974.000000</td>\n",
       "      <td>0.192029</td>\n",
       "      <td>0.987222</td>\n",
       "      <td>0.010982</td>\n",
       "      <td>171.437135</td>\n",
       "      <td>0.271712</td>\n",
       "      <td>1311.863248</td>\n",
       "      <td>295675.494623</td>\n",
       "    </tr>\n",
       "  </tbody>\n",
       "</table>\n",
       "<p>18456 rows × 36 columns</p>\n",
       "</div>"
      ],
      "text/plain": [
       "             date State  adjusted_average_new_listings  \\\n",
       "0      2016-12-30    AL                      43.000000   \n",
       "22     2016-12-30    NM                     114.313585   \n",
       "23     2016-12-30    NV                      73.000000   \n",
       "24     2016-12-30    NY                     151.742276   \n",
       "25     2016-12-30    OH                     148.807790   \n",
       "...           ...   ...                            ...   \n",
       "18425  2024-11-01    MA                      97.090933   \n",
       "18426  2024-11-01    MD                      95.834211   \n",
       "18427  2024-11-01    ME                      34.411858   \n",
       "18416  2024-11-01    GA                      25.704628   \n",
       "18455  2024-11-01    WY                      27.000000   \n",
       "\n",
       "       adjusted_average_new_listings_yoy  \\\n",
       "0                              -0.556701   \n",
       "22                              0.084512   \n",
       "23                             -0.401639   \n",
       "24                             -0.169707   \n",
       "25                             -0.110787   \n",
       "...                                  ...   \n",
       "18425                          -0.041412   \n",
       "18426                           0.211162   \n",
       "18427                           0.313887   \n",
       "18416                          -0.165583   \n",
       "18455                           0.080000   \n",
       "\n",
       "       average_pending_sales_listing_updates  \\\n",
       "0                                  52.000000   \n",
       "22                                134.713228   \n",
       "23                                119.000000   \n",
       "24                                 92.002294   \n",
       "25                                141.400560   \n",
       "...                                      ...   \n",
       "18425                             108.639851   \n",
       "18426                             108.185107   \n",
       "18427                              39.709881   \n",
       "18416                              28.377602   \n",
       "18455                              20.000000   \n",
       "\n",
       "       average_pending_sales_listing_updates_yoy  off_market_in_two_weeks  \\\n",
       "0                                      -0.174603                 3.000000   \n",
       "22                                      0.382836                20.912155   \n",
       "23                                     -0.201342                11.000000   \n",
       "24                                     -0.282131                 3.498929   \n",
       "25                                     -0.119257                 8.218554   \n",
       "...                                          ...                      ...   \n",
       "18425                                   0.122470                22.133546   \n",
       "18426                                   0.159219                27.503864   \n",
       "18427                                   0.830392                 6.226087   \n",
       "18416                                  -0.020919                 5.882505   \n",
       "18455                                  -0.285714                 5.000000   \n",
       "\n",
       "       off_market_in_two_weeks_yoy  adjusted_average_homes_sold  \\\n",
       "0                        -0.571429                    36.000000   \n",
       "22                        0.233377                    49.089377   \n",
       "23                       -0.312500                    85.000000   \n",
       "24                        0.101171                    96.855613   \n",
       "25                        0.395212                    89.297186   \n",
       "...                            ...                          ...   \n",
       "18425                     0.093218                    94.045135   \n",
       "18426                     0.048320                    85.445557   \n",
       "18427                     0.024200                    26.207115   \n",
       "18416                     0.030047                    21.229142   \n",
       "18455                    -0.166667                    24.000000   \n",
       "\n",
       "       adjusted_average_homes_sold_yoy  ...  months_of_supply  \\\n",
       "0                             0.161290  ...         37.555556   \n",
       "22                           -0.202766  ...         34.912703   \n",
       "23                           -0.174757  ...         22.976471   \n",
       "24                           -0.176365  ...         33.720803   \n",
       "25                           -0.161583  ...         30.830572   \n",
       "...                                ...  ...               ...   \n",
       "18425                         0.329857  ...         12.019740   \n",
       "18426                         0.262958  ...         12.788671   \n",
       "18427                         0.097976  ...         15.972631   \n",
       "18416                         0.355209  ...         21.932300   \n",
       "18455                         0.333333  ...          9.208333   \n",
       "\n",
       "       months_of_supply_yoy  median_pending_sqft  median_pending_sqft_yoy  \\\n",
       "0                -11.831541          1994.000000                -0.005982   \n",
       "22                 3.409213          1581.070352                 0.000619   \n",
       "23                 4.889092          1534.000000                 0.009875   \n",
       "24                 2.649503          1349.549098                -0.060022   \n",
       "25                -0.016809          1560.083967                 0.006244   \n",
       "...                     ...                  ...                      ...   \n",
       "18425             -2.424043          1628.974114                 0.013848   \n",
       "18426             -0.572449          1767.211363                -0.016668   \n",
       "18427              3.528026          1569.513439                 0.029284   \n",
       "18416             -0.595328          1743.028643                -0.022036   \n",
       "18455             -2.513889          1974.000000                 0.192029   \n",
       "\n",
       "       average_sale_to_list_ratio  average_sale_to_list_ratio_yoy  \\\n",
       "0                        0.962797                       -0.005236   \n",
       "22                       0.968729                       -0.003238   \n",
       "23                       0.975629                       -0.001425   \n",
       "24                       0.969925                        0.004392   \n",
       "25                       0.960467                        0.020897   \n",
       "...                           ...                             ...   \n",
       "18425                    1.001044                       -0.003737   \n",
       "18426                    0.998137                        0.001047   \n",
       "18427                    0.975217                       -0.004498   \n",
       "18416                    0.970562                       -0.001474   \n",
       "18455                    0.987222                        0.010982   \n",
       "\n",
       "       median_sale_ppsf  median_sale_ppsf_yoy         ZORI           ZHVI  \n",
       "0             99.543540              0.022577  1122.650058  216066.470760  \n",
       "22           123.185945             -0.022682  1000.213260  214940.891096  \n",
       "23           171.276080              0.051403  1148.605311  305904.466295  \n",
       "24           328.973719              0.029551  1895.798229  456494.835558  \n",
       "25            76.917214              0.094313   843.742553  129419.574891  \n",
       "...                 ...                   ...          ...            ...  \n",
       "18425        407.260117              0.051139  2594.192374  625927.096790  \n",
       "18426        221.888798              0.042522  1943.986460  396332.990533  \n",
       "18427        184.368299              0.006300  1536.475750  299791.577634  \n",
       "18416        159.285000              0.115485  1541.986132  255540.577007  \n",
       "18455        171.437135              0.271712  1311.863248  295675.494623  \n",
       "\n",
       "[18456 rows x 36 columns]"
      ]
     },
     "execution_count": 4,
     "metadata": {},
     "output_type": "execute_result"
    }
   ],
   "source": [
    "# Load the data\n",
    "df = pd.read_csv('../data/final_data.csv')\n",
    "# sort by date\n",
    "df = df.sort_values(by='date')\n",
    "df"
   ]
  },
  {
   "cell_type": "code",
   "execution_count": 5,
   "id": "e8f33928539f14b",
   "metadata": {
    "ExecuteTime": {
     "end_time": "2024-12-11T23:02:21.209099Z",
     "start_time": "2024-12-11T23:02:21.146693Z"
    }
   },
   "outputs": [
    {
     "data": {
      "text/html": [
       "<div>\n",
       "<style scoped>\n",
       "    .dataframe tbody tr th:only-of-type {\n",
       "        vertical-align: middle;\n",
       "    }\n",
       "\n",
       "    .dataframe tbody tr th {\n",
       "        vertical-align: top;\n",
       "    }\n",
       "\n",
       "    .dataframe thead th {\n",
       "        text-align: right;\n",
       "    }\n",
       "</style>\n",
       "<table border=\"1\" class=\"dataframe\">\n",
       "  <thead>\n",
       "    <tr style=\"text-align: right;\">\n",
       "      <th></th>\n",
       "      <th>adjusted_average_new_listings</th>\n",
       "      <th>adjusted_average_new_listings_yoy</th>\n",
       "      <th>average_pending_sales_listing_updates</th>\n",
       "      <th>average_pending_sales_listing_updates_yoy</th>\n",
       "      <th>off_market_in_two_weeks</th>\n",
       "      <th>off_market_in_two_weeks_yoy</th>\n",
       "      <th>adjusted_average_homes_sold</th>\n",
       "      <th>adjusted_average_homes_sold_yoy</th>\n",
       "      <th>median_new_listing_price</th>\n",
       "      <th>median_new_listing_price_yoy</th>\n",
       "      <th>...</th>\n",
       "      <th>months_of_supply</th>\n",
       "      <th>months_of_supply_yoy</th>\n",
       "      <th>median_pending_sqft</th>\n",
       "      <th>median_pending_sqft_yoy</th>\n",
       "      <th>average_sale_to_list_ratio</th>\n",
       "      <th>average_sale_to_list_ratio_yoy</th>\n",
       "      <th>median_sale_ppsf</th>\n",
       "      <th>median_sale_ppsf_yoy</th>\n",
       "      <th>ZORI</th>\n",
       "      <th>ZHVI</th>\n",
       "    </tr>\n",
       "  </thead>\n",
       "  <tbody>\n",
       "    <tr>\n",
       "      <th>count</th>\n",
       "      <td>18456.000000</td>\n",
       "      <td>18456.000000</td>\n",
       "      <td>18456.000000</td>\n",
       "      <td>18456.000000</td>\n",
       "      <td>18456.000000</td>\n",
       "      <td>18456.000000</td>\n",
       "      <td>18456.000000</td>\n",
       "      <td>18456.000000</td>\n",
       "      <td>18456.000000</td>\n",
       "      <td>18456.000000</td>\n",
       "      <td>...</td>\n",
       "      <td>18456.000000</td>\n",
       "      <td>18456.000000</td>\n",
       "      <td>18456.000000</td>\n",
       "      <td>18456.000000</td>\n",
       "      <td>18456.000000</td>\n",
       "      <td>18456.000000</td>\n",
       "      <td>18456.000000</td>\n",
       "      <td>18456.000000</td>\n",
       "      <td>18456.000000</td>\n",
       "      <td>18456.000000</td>\n",
       "    </tr>\n",
       "    <tr>\n",
       "      <th>mean</th>\n",
       "      <td>224.822185</td>\n",
       "      <td>0.020352</td>\n",
       "      <td>228.979772</td>\n",
       "      <td>0.016517</td>\n",
       "      <td>57.717817</td>\n",
       "      <td>0.265805</td>\n",
       "      <td>190.655146</td>\n",
       "      <td>0.017660</td>\n",
       "      <td>356879.316094</td>\n",
       "      <td>0.077466</td>\n",
       "      <td>...</td>\n",
       "      <td>13.636546</td>\n",
       "      <td>-0.454951</td>\n",
       "      <td>1740.661655</td>\n",
       "      <td>0.010256</td>\n",
       "      <td>0.991642</td>\n",
       "      <td>0.001699</td>\n",
       "      <td>206.673428</td>\n",
       "      <td>0.078572</td>\n",
       "      <td>1515.914613</td>\n",
       "      <td>338363.084043</td>\n",
       "    </tr>\n",
       "    <tr>\n",
       "      <th>std</th>\n",
       "      <td>268.399737</td>\n",
       "      <td>0.252885</td>\n",
       "      <td>277.258932</td>\n",
       "      <td>0.293648</td>\n",
       "      <td>75.809862</td>\n",
       "      <td>1.074286</td>\n",
       "      <td>226.218136</td>\n",
       "      <td>0.258654</td>\n",
       "      <td>145058.128008</td>\n",
       "      <td>0.088239</td>\n",
       "      <td>...</td>\n",
       "      <td>6.712299</td>\n",
       "      <td>5.333714</td>\n",
       "      <td>239.320561</td>\n",
       "      <td>0.071756</td>\n",
       "      <td>0.018139</td>\n",
       "      <td>0.014420</td>\n",
       "      <td>117.353164</td>\n",
       "      <td>0.077867</td>\n",
       "      <td>419.397500</td>\n",
       "      <td>147694.948987</td>\n",
       "    </tr>\n",
       "    <tr>\n",
       "      <th>min</th>\n",
       "      <td>4.000000</td>\n",
       "      <td>-0.846920</td>\n",
       "      <td>6.000000</td>\n",
       "      <td>-0.911950</td>\n",
       "      <td>0.000000</td>\n",
       "      <td>-1.000000</td>\n",
       "      <td>5.871287</td>\n",
       "      <td>-0.840433</td>\n",
       "      <td>73450.000000</td>\n",
       "      <td>-0.680511</td>\n",
       "      <td>...</td>\n",
       "      <td>2.360043</td>\n",
       "      <td>-92.758503</td>\n",
       "      <td>814.000000</td>\n",
       "      <td>-0.387527</td>\n",
       "      <td>0.900450</td>\n",
       "      <td>-0.089645</td>\n",
       "      <td>55.159332</td>\n",
       "      <td>-0.468836</td>\n",
       "      <td>698.509937</td>\n",
       "      <td>84040.300712</td>\n",
       "    </tr>\n",
       "    <tr>\n",
       "      <th>25%</th>\n",
       "      <td>78.000000</td>\n",
       "      <td>-0.109911</td>\n",
       "      <td>82.000000</td>\n",
       "      <td>-0.119166</td>\n",
       "      <td>15.700872</td>\n",
       "      <td>-0.165918</td>\n",
       "      <td>70.003369</td>\n",
       "      <td>-0.130728</td>\n",
       "      <td>255538.988678</td>\n",
       "      <td>0.028102</td>\n",
       "      <td>...</td>\n",
       "      <td>8.962673</td>\n",
       "      <td>-2.758122</td>\n",
       "      <td>1595.991905</td>\n",
       "      <td>-0.024072</td>\n",
       "      <td>0.979629</td>\n",
       "      <td>-0.004696</td>\n",
       "      <td>135.614105</td>\n",
       "      <td>0.031558</td>\n",
       "      <td>1212.348959</td>\n",
       "      <td>229266.392067</td>\n",
       "    </tr>\n",
       "    <tr>\n",
       "      <th>50%</th>\n",
       "      <td>147.000227</td>\n",
       "      <td>0.005099</td>\n",
       "      <td>152.890582</td>\n",
       "      <td>-0.011288</td>\n",
       "      <td>32.076813</td>\n",
       "      <td>0.069249</td>\n",
       "      <td>127.582461</td>\n",
       "      <td>-0.007770</td>\n",
       "      <td>316702.743756</td>\n",
       "      <td>0.068650</td>\n",
       "      <td>...</td>\n",
       "      <td>12.272461</td>\n",
       "      <td>-0.297261</td>\n",
       "      <td>1732.524705</td>\n",
       "      <td>0.006440</td>\n",
       "      <td>0.989610</td>\n",
       "      <td>0.001766</td>\n",
       "      <td>169.675033</td>\n",
       "      <td>0.068387</td>\n",
       "      <td>1433.380442</td>\n",
       "      <td>299045.004648</td>\n",
       "    </tr>\n",
       "    <tr>\n",
       "      <th>75%</th>\n",
       "      <td>237.769617</td>\n",
       "      <td>0.111253</td>\n",
       "      <td>238.005492</td>\n",
       "      <td>0.104181</td>\n",
       "      <td>66.831753</td>\n",
       "      <td>0.412722</td>\n",
       "      <td>202.562952</td>\n",
       "      <td>0.115053</td>\n",
       "      <td>425760.055916</td>\n",
       "      <td>0.118067</td>\n",
       "      <td>...</td>\n",
       "      <td>16.750018</td>\n",
       "      <td>1.906682</td>\n",
       "      <td>1875.542798</td>\n",
       "      <td>0.039469</td>\n",
       "      <td>1.001578</td>\n",
       "      <td>0.008937</td>\n",
       "      <td>230.560699</td>\n",
       "      <td>0.116866</td>\n",
       "      <td>1757.839478</td>\n",
       "      <td>404140.550752</td>\n",
       "    </tr>\n",
       "    <tr>\n",
       "      <th>max</th>\n",
       "      <td>1938.274806</td>\n",
       "      <td>7.306175</td>\n",
       "      <td>2068.905801</td>\n",
       "      <td>13.941223</td>\n",
       "      <td>900.482199</td>\n",
       "      <td>55.000000</td>\n",
       "      <td>2069.351800</td>\n",
       "      <td>3.762365</td>\n",
       "      <td>997500.000000</td>\n",
       "      <td>1.118367</td>\n",
       "      <td>...</td>\n",
       "      <td>117.757692</td>\n",
       "      <td>94.271909</td>\n",
       "      <td>2879.872908</td>\n",
       "      <td>1.105556</td>\n",
       "      <td>1.090251</td>\n",
       "      <td>0.088707</td>\n",
       "      <td>829.763339</td>\n",
       "      <td>1.262682</td>\n",
       "      <td>2910.561059</td>\n",
       "      <td>923341.979821</td>\n",
       "    </tr>\n",
       "  </tbody>\n",
       "</table>\n",
       "<p>8 rows × 34 columns</p>\n",
       "</div>"
      ],
      "text/plain": [
       "       adjusted_average_new_listings  adjusted_average_new_listings_yoy  \\\n",
       "count                   18456.000000                       18456.000000   \n",
       "mean                      224.822185                           0.020352   \n",
       "std                       268.399737                           0.252885   \n",
       "min                         4.000000                          -0.846920   \n",
       "25%                        78.000000                          -0.109911   \n",
       "50%                       147.000227                           0.005099   \n",
       "75%                       237.769617                           0.111253   \n",
       "max                      1938.274806                           7.306175   \n",
       "\n",
       "       average_pending_sales_listing_updates  \\\n",
       "count                           18456.000000   \n",
       "mean                              228.979772   \n",
       "std                               277.258932   \n",
       "min                                 6.000000   \n",
       "25%                                82.000000   \n",
       "50%                               152.890582   \n",
       "75%                               238.005492   \n",
       "max                              2068.905801   \n",
       "\n",
       "       average_pending_sales_listing_updates_yoy  off_market_in_two_weeks  \\\n",
       "count                               18456.000000             18456.000000   \n",
       "mean                                    0.016517                57.717817   \n",
       "std                                     0.293648                75.809862   \n",
       "min                                    -0.911950                 0.000000   \n",
       "25%                                    -0.119166                15.700872   \n",
       "50%                                    -0.011288                32.076813   \n",
       "75%                                     0.104181                66.831753   \n",
       "max                                    13.941223               900.482199   \n",
       "\n",
       "       off_market_in_two_weeks_yoy  adjusted_average_homes_sold  \\\n",
       "count                 18456.000000                 18456.000000   \n",
       "mean                      0.265805                   190.655146   \n",
       "std                       1.074286                   226.218136   \n",
       "min                      -1.000000                     5.871287   \n",
       "25%                      -0.165918                    70.003369   \n",
       "50%                       0.069249                   127.582461   \n",
       "75%                       0.412722                   202.562952   \n",
       "max                      55.000000                  2069.351800   \n",
       "\n",
       "       adjusted_average_homes_sold_yoy  median_new_listing_price  \\\n",
       "count                     18456.000000              18456.000000   \n",
       "mean                          0.017660             356879.316094   \n",
       "std                           0.258654             145058.128008   \n",
       "min                          -0.840433              73450.000000   \n",
       "25%                          -0.130728             255538.988678   \n",
       "50%                          -0.007770             316702.743756   \n",
       "75%                           0.115053             425760.055916   \n",
       "max                           3.762365             997500.000000   \n",
       "\n",
       "       median_new_listing_price_yoy  ...  months_of_supply  \\\n",
       "count                  18456.000000  ...      18456.000000   \n",
       "mean                       0.077466  ...         13.636546   \n",
       "std                        0.088239  ...          6.712299   \n",
       "min                       -0.680511  ...          2.360043   \n",
       "25%                        0.028102  ...          8.962673   \n",
       "50%                        0.068650  ...         12.272461   \n",
       "75%                        0.118067  ...         16.750018   \n",
       "max                        1.118367  ...        117.757692   \n",
       "\n",
       "       months_of_supply_yoy  median_pending_sqft  median_pending_sqft_yoy  \\\n",
       "count          18456.000000         18456.000000             18456.000000   \n",
       "mean              -0.454951          1740.661655                 0.010256   \n",
       "std                5.333714           239.320561                 0.071756   \n",
       "min              -92.758503           814.000000                -0.387527   \n",
       "25%               -2.758122          1595.991905                -0.024072   \n",
       "50%               -0.297261          1732.524705                 0.006440   \n",
       "75%                1.906682          1875.542798                 0.039469   \n",
       "max               94.271909          2879.872908                 1.105556   \n",
       "\n",
       "       average_sale_to_list_ratio  average_sale_to_list_ratio_yoy  \\\n",
       "count                18456.000000                    18456.000000   \n",
       "mean                     0.991642                        0.001699   \n",
       "std                      0.018139                        0.014420   \n",
       "min                      0.900450                       -0.089645   \n",
       "25%                      0.979629                       -0.004696   \n",
       "50%                      0.989610                        0.001766   \n",
       "75%                      1.001578                        0.008937   \n",
       "max                      1.090251                        0.088707   \n",
       "\n",
       "       median_sale_ppsf  median_sale_ppsf_yoy          ZORI           ZHVI  \n",
       "count      18456.000000          18456.000000  18456.000000   18456.000000  \n",
       "mean         206.673428              0.078572   1515.914613  338363.084043  \n",
       "std          117.353164              0.077867    419.397500  147694.948987  \n",
       "min           55.159332             -0.468836    698.509937   84040.300712  \n",
       "25%          135.614105              0.031558   1212.348959  229266.392067  \n",
       "50%          169.675033              0.068387   1433.380442  299045.004648  \n",
       "75%          230.560699              0.116866   1757.839478  404140.550752  \n",
       "max          829.763339              1.262682   2910.561059  923341.979821  \n",
       "\n",
       "[8 rows x 34 columns]"
      ]
     },
     "execution_count": 5,
     "metadata": {},
     "output_type": "execute_result"
    }
   ],
   "source": [
    "# describe the data\n",
    "df.describe()"
   ]
  },
  {
   "cell_type": "markdown",
   "id": "7bbe7f4b2de11780",
   "metadata": {},
   "source": [
    "### Regional Filter"
   ]
  },
  {
   "cell_type": "code",
   "execution_count": 6,
   "id": "96182d8b97c0385b",
   "metadata": {
    "ExecuteTime": {
     "end_time": "2024-12-11T23:02:21.282565Z",
     "start_time": "2024-12-11T23:02:21.254944Z"
    }
   },
   "outputs": [
    {
     "data": {
      "text/html": [
       "<div>\n",
       "<style scoped>\n",
       "    .dataframe tbody tr th:only-of-type {\n",
       "        vertical-align: middle;\n",
       "    }\n",
       "\n",
       "    .dataframe tbody tr th {\n",
       "        vertical-align: top;\n",
       "    }\n",
       "\n",
       "    .dataframe thead th {\n",
       "        text-align: right;\n",
       "    }\n",
       "</style>\n",
       "<table border=\"1\" class=\"dataframe\">\n",
       "  <thead>\n",
       "    <tr style=\"text-align: right;\">\n",
       "      <th></th>\n",
       "      <th>date</th>\n",
       "      <th>State</th>\n",
       "      <th>adjusted_average_new_listings</th>\n",
       "      <th>adjusted_average_new_listings_yoy</th>\n",
       "      <th>average_pending_sales_listing_updates</th>\n",
       "      <th>average_pending_sales_listing_updates_yoy</th>\n",
       "      <th>off_market_in_two_weeks</th>\n",
       "      <th>off_market_in_two_weeks_yoy</th>\n",
       "      <th>adjusted_average_homes_sold</th>\n",
       "      <th>adjusted_average_homes_sold_yoy</th>\n",
       "      <th>...</th>\n",
       "      <th>months_of_supply</th>\n",
       "      <th>months_of_supply_yoy</th>\n",
       "      <th>median_pending_sqft</th>\n",
       "      <th>median_pending_sqft_yoy</th>\n",
       "      <th>average_sale_to_list_ratio</th>\n",
       "      <th>average_sale_to_list_ratio_yoy</th>\n",
       "      <th>median_sale_ppsf</th>\n",
       "      <th>median_sale_ppsf_yoy</th>\n",
       "      <th>ZORI</th>\n",
       "      <th>ZHVI</th>\n",
       "    </tr>\n",
       "  </thead>\n",
       "  <tbody>\n",
       "    <tr>\n",
       "      <th>36</th>\n",
       "      <td>2016-12-30</td>\n",
       "      <td>WA</td>\n",
       "      <td>204.418965</td>\n",
       "      <td>-0.207611</td>\n",
       "      <td>212.651097</td>\n",
       "      <td>-0.244751</td>\n",
       "      <td>59.000302</td>\n",
       "      <td>-0.007422</td>\n",
       "      <td>178.338031</td>\n",
       "      <td>-0.062777</td>\n",
       "      <td>...</td>\n",
       "      <td>12.728302</td>\n",
       "      <td>-0.133441</td>\n",
       "      <td>1764.748440</td>\n",
       "      <td>0.005044</td>\n",
       "      <td>1.000935</td>\n",
       "      <td>0.008768</td>\n",
       "      <td>198.389570</td>\n",
       "      <td>0.128863</td>\n",
       "      <td>1353.784035</td>\n",
       "      <td>349653.898163</td>\n",
       "    </tr>\n",
       "    <tr>\n",
       "      <th>3</th>\n",
       "      <td>2016-12-30</td>\n",
       "      <td>CA</td>\n",
       "      <td>612.258489</td>\n",
       "      <td>-0.166035</td>\n",
       "      <td>494.876903</td>\n",
       "      <td>-0.161775</td>\n",
       "      <td>51.993744</td>\n",
       "      <td>-0.202137</td>\n",
       "      <td>449.127889</td>\n",
       "      <td>-0.100053</td>\n",
       "      <td>...</td>\n",
       "      <td>16.392470</td>\n",
       "      <td>1.228898</td>\n",
       "      <td>1565.083335</td>\n",
       "      <td>0.005876</td>\n",
       "      <td>0.987203</td>\n",
       "      <td>0.000618</td>\n",
       "      <td>281.519117</td>\n",
       "      <td>0.052298</td>\n",
       "      <td>1733.103784</td>\n",
       "      <td>424866.748029</td>\n",
       "    </tr>\n",
       "    <tr>\n",
       "      <th>77</th>\n",
       "      <td>2017-01-06</td>\n",
       "      <td>WA</td>\n",
       "      <td>248.013923</td>\n",
       "      <td>-0.064950</td>\n",
       "      <td>291.138541</td>\n",
       "      <td>-0.276793</td>\n",
       "      <td>117.224943</td>\n",
       "      <td>-0.061403</td>\n",
       "      <td>231.313123</td>\n",
       "      <td>0.086815</td>\n",
       "      <td>...</td>\n",
       "      <td>9.260636</td>\n",
       "      <td>-2.060815</td>\n",
       "      <td>1742.989632</td>\n",
       "      <td>-0.019540</td>\n",
       "      <td>0.997046</td>\n",
       "      <td>0.006741</td>\n",
       "      <td>199.713876</td>\n",
       "      <td>0.112473</td>\n",
       "      <td>1358.658663</td>\n",
       "      <td>355589.930506</td>\n",
       "    </tr>\n",
       "    <tr>\n",
       "      <th>42</th>\n",
       "      <td>2017-01-06</td>\n",
       "      <td>CA</td>\n",
       "      <td>747.257657</td>\n",
       "      <td>-0.073031</td>\n",
       "      <td>653.256018</td>\n",
       "      <td>-0.086655</td>\n",
       "      <td>116.174599</td>\n",
       "      <td>-0.126654</td>\n",
       "      <td>533.480079</td>\n",
       "      <td>-0.033111</td>\n",
       "      <td>...</td>\n",
       "      <td>14.166396</td>\n",
       "      <td>0.140973</td>\n",
       "      <td>1552.412051</td>\n",
       "      <td>0.006431</td>\n",
       "      <td>0.986344</td>\n",
       "      <td>0.001448</td>\n",
       "      <td>281.394758</td>\n",
       "      <td>0.069794</td>\n",
       "      <td>1740.895621</td>\n",
       "      <td>429453.852062</td>\n",
       "    </tr>\n",
       "    <tr>\n",
       "      <th>119</th>\n",
       "      <td>2017-01-13</td>\n",
       "      <td>WA</td>\n",
       "      <td>256.647328</td>\n",
       "      <td>-0.009700</td>\n",
       "      <td>308.923774</td>\n",
       "      <td>-0.148468</td>\n",
       "      <td>145.222410</td>\n",
       "      <td>0.104478</td>\n",
       "      <td>219.513882</td>\n",
       "      <td>0.358655</td>\n",
       "      <td>...</td>\n",
       "      <td>9.475460</td>\n",
       "      <td>-5.000135</td>\n",
       "      <td>1761.979401</td>\n",
       "      <td>0.004950</td>\n",
       "      <td>0.995787</td>\n",
       "      <td>0.000726</td>\n",
       "      <td>195.707123</td>\n",
       "      <td>0.090180</td>\n",
       "      <td>1359.347851</td>\n",
       "      <td>355831.683516</td>\n",
       "    </tr>\n",
       "    <tr>\n",
       "      <th>...</th>\n",
       "      <td>...</td>\n",
       "      <td>...</td>\n",
       "      <td>...</td>\n",
       "      <td>...</td>\n",
       "      <td>...</td>\n",
       "      <td>...</td>\n",
       "      <td>...</td>\n",
       "      <td>...</td>\n",
       "      <td>...</td>\n",
       "      <td>...</td>\n",
       "      <td>...</td>\n",
       "      <td>...</td>\n",
       "      <td>...</td>\n",
       "      <td>...</td>\n",
       "      <td>...</td>\n",
       "      <td>...</td>\n",
       "      <td>...</td>\n",
       "      <td>...</td>\n",
       "      <td>...</td>\n",
       "      <td>...</td>\n",
       "      <td>...</td>\n",
       "    </tr>\n",
       "    <tr>\n",
       "      <th>18310</th>\n",
       "      <td>2024-10-18</td>\n",
       "      <td>CA</td>\n",
       "      <td>497.763299</td>\n",
       "      <td>0.069887</td>\n",
       "      <td>467.581939</td>\n",
       "      <td>0.125817</td>\n",
       "      <td>84.174654</td>\n",
       "      <td>-0.029601</td>\n",
       "      <td>425.782446</td>\n",
       "      <td>0.112061</td>\n",
       "      <td>...</td>\n",
       "      <td>14.762282</td>\n",
       "      <td>1.695616</td>\n",
       "      <td>1643.832385</td>\n",
       "      <td>0.025401</td>\n",
       "      <td>1.000579</td>\n",
       "      <td>-0.000927</td>\n",
       "      <td>483.999470</td>\n",
       "      <td>0.028471</td>\n",
       "      <td>2668.967550</td>\n",
       "      <td>763102.655481</td>\n",
       "    </tr>\n",
       "    <tr>\n",
       "      <th>18402</th>\n",
       "      <td>2024-10-25</td>\n",
       "      <td>WA</td>\n",
       "      <td>172.693857</td>\n",
       "      <td>0.064097</td>\n",
       "      <td>217.219203</td>\n",
       "      <td>0.169964</td>\n",
       "      <td>84.456051</td>\n",
       "      <td>0.106496</td>\n",
       "      <td>249.304481</td>\n",
       "      <td>0.249193</td>\n",
       "      <td>...</td>\n",
       "      <td>11.027499</td>\n",
       "      <td>0.637130</td>\n",
       "      <td>1823.859138</td>\n",
       "      <td>-0.009283</td>\n",
       "      <td>0.992264</td>\n",
       "      <td>0.001180</td>\n",
       "      <td>354.396527</td>\n",
       "      <td>0.051614</td>\n",
       "      <td>1977.263708</td>\n",
       "      <td>610915.621249</td>\n",
       "    </tr>\n",
       "    <tr>\n",
       "      <th>18360</th>\n",
       "      <td>2024-10-25</td>\n",
       "      <td>CA</td>\n",
       "      <td>448.478489</td>\n",
       "      <td>-0.059305</td>\n",
       "      <td>459.537713</td>\n",
       "      <td>0.090284</td>\n",
       "      <td>86.421338</td>\n",
       "      <td>0.082381</td>\n",
       "      <td>457.131289</td>\n",
       "      <td>0.188565</td>\n",
       "      <td>...</td>\n",
       "      <td>13.289253</td>\n",
       "      <td>0.452021</td>\n",
       "      <td>1634.338944</td>\n",
       "      <td>0.012376</td>\n",
       "      <td>0.997766</td>\n",
       "      <td>-0.001808</td>\n",
       "      <td>483.171615</td>\n",
       "      <td>0.031278</td>\n",
       "      <td>2665.526894</td>\n",
       "      <td>760999.665713</td>\n",
       "    </tr>\n",
       "    <tr>\n",
       "      <th>18452</th>\n",
       "      <td>2024-11-01</td>\n",
       "      <td>WA</td>\n",
       "      <td>156.067062</td>\n",
       "      <td>0.103779</td>\n",
       "      <td>206.177883</td>\n",
       "      <td>0.143892</td>\n",
       "      <td>65.596130</td>\n",
       "      <td>0.229365</td>\n",
       "      <td>202.261453</td>\n",
       "      <td>0.301700</td>\n",
       "      <td>...</td>\n",
       "      <td>13.174977</td>\n",
       "      <td>-0.520094</td>\n",
       "      <td>1828.096801</td>\n",
       "      <td>0.041181</td>\n",
       "      <td>0.992876</td>\n",
       "      <td>0.003316</td>\n",
       "      <td>376.619631</td>\n",
       "      <td>0.054799</td>\n",
       "      <td>1974.242008</td>\n",
       "      <td>625140.177926</td>\n",
       "    </tr>\n",
       "    <tr>\n",
       "      <th>18410</th>\n",
       "      <td>2024-11-01</td>\n",
       "      <td>CA</td>\n",
       "      <td>485.363465</td>\n",
       "      <td>-0.014643</td>\n",
       "      <td>438.143763</td>\n",
       "      <td>0.051820</td>\n",
       "      <td>78.583198</td>\n",
       "      <td>-0.061486</td>\n",
       "      <td>409.294958</td>\n",
       "      <td>0.375200</td>\n",
       "      <td>...</td>\n",
       "      <td>15.506285</td>\n",
       "      <td>-1.907167</td>\n",
       "      <td>1629.691293</td>\n",
       "      <td>0.019704</td>\n",
       "      <td>0.996406</td>\n",
       "      <td>-0.003339</td>\n",
       "      <td>476.271513</td>\n",
       "      <td>0.031950</td>\n",
       "      <td>2647.937095</td>\n",
       "      <td>753402.067886</td>\n",
       "    </tr>\n",
       "  </tbody>\n",
       "</table>\n",
       "<p>820 rows × 36 columns</p>\n",
       "</div>"
      ],
      "text/plain": [
       "             date State  adjusted_average_new_listings  \\\n",
       "36     2016-12-30    WA                     204.418965   \n",
       "3      2016-12-30    CA                     612.258489   \n",
       "77     2017-01-06    WA                     248.013923   \n",
       "42     2017-01-06    CA                     747.257657   \n",
       "119    2017-01-13    WA                     256.647328   \n",
       "...           ...   ...                            ...   \n",
       "18310  2024-10-18    CA                     497.763299   \n",
       "18402  2024-10-25    WA                     172.693857   \n",
       "18360  2024-10-25    CA                     448.478489   \n",
       "18452  2024-11-01    WA                     156.067062   \n",
       "18410  2024-11-01    CA                     485.363465   \n",
       "\n",
       "       adjusted_average_new_listings_yoy  \\\n",
       "36                             -0.207611   \n",
       "3                              -0.166035   \n",
       "77                             -0.064950   \n",
       "42                             -0.073031   \n",
       "119                            -0.009700   \n",
       "...                                  ...   \n",
       "18310                           0.069887   \n",
       "18402                           0.064097   \n",
       "18360                          -0.059305   \n",
       "18452                           0.103779   \n",
       "18410                          -0.014643   \n",
       "\n",
       "       average_pending_sales_listing_updates  \\\n",
       "36                                212.651097   \n",
       "3                                 494.876903   \n",
       "77                                291.138541   \n",
       "42                                653.256018   \n",
       "119                               308.923774   \n",
       "...                                      ...   \n",
       "18310                             467.581939   \n",
       "18402                             217.219203   \n",
       "18360                             459.537713   \n",
       "18452                             206.177883   \n",
       "18410                             438.143763   \n",
       "\n",
       "       average_pending_sales_listing_updates_yoy  off_market_in_two_weeks  \\\n",
       "36                                     -0.244751                59.000302   \n",
       "3                                      -0.161775                51.993744   \n",
       "77                                     -0.276793               117.224943   \n",
       "42                                     -0.086655               116.174599   \n",
       "119                                    -0.148468               145.222410   \n",
       "...                                          ...                      ...   \n",
       "18310                                   0.125817                84.174654   \n",
       "18402                                   0.169964                84.456051   \n",
       "18360                                   0.090284                86.421338   \n",
       "18452                                   0.143892                65.596130   \n",
       "18410                                   0.051820                78.583198   \n",
       "\n",
       "       off_market_in_two_weeks_yoy  adjusted_average_homes_sold  \\\n",
       "36                       -0.007422                   178.338031   \n",
       "3                        -0.202137                   449.127889   \n",
       "77                       -0.061403                   231.313123   \n",
       "42                       -0.126654                   533.480079   \n",
       "119                       0.104478                   219.513882   \n",
       "...                            ...                          ...   \n",
       "18310                    -0.029601                   425.782446   \n",
       "18402                     0.106496                   249.304481   \n",
       "18360                     0.082381                   457.131289   \n",
       "18452                     0.229365                   202.261453   \n",
       "18410                    -0.061486                   409.294958   \n",
       "\n",
       "       adjusted_average_homes_sold_yoy  ...  months_of_supply  \\\n",
       "36                           -0.062777  ...         12.728302   \n",
       "3                            -0.100053  ...         16.392470   \n",
       "77                            0.086815  ...          9.260636   \n",
       "42                           -0.033111  ...         14.166396   \n",
       "119                           0.358655  ...          9.475460   \n",
       "...                                ...  ...               ...   \n",
       "18310                         0.112061  ...         14.762282   \n",
       "18402                         0.249193  ...         11.027499   \n",
       "18360                         0.188565  ...         13.289253   \n",
       "18452                         0.301700  ...         13.174977   \n",
       "18410                         0.375200  ...         15.506285   \n",
       "\n",
       "       months_of_supply_yoy  median_pending_sqft  median_pending_sqft_yoy  \\\n",
       "36                -0.133441          1764.748440                 0.005044   \n",
       "3                  1.228898          1565.083335                 0.005876   \n",
       "77                -2.060815          1742.989632                -0.019540   \n",
       "42                 0.140973          1552.412051                 0.006431   \n",
       "119               -5.000135          1761.979401                 0.004950   \n",
       "...                     ...                  ...                      ...   \n",
       "18310              1.695616          1643.832385                 0.025401   \n",
       "18402              0.637130          1823.859138                -0.009283   \n",
       "18360              0.452021          1634.338944                 0.012376   \n",
       "18452             -0.520094          1828.096801                 0.041181   \n",
       "18410             -1.907167          1629.691293                 0.019704   \n",
       "\n",
       "       average_sale_to_list_ratio  average_sale_to_list_ratio_yoy  \\\n",
       "36                       1.000935                        0.008768   \n",
       "3                        0.987203                        0.000618   \n",
       "77                       0.997046                        0.006741   \n",
       "42                       0.986344                        0.001448   \n",
       "119                      0.995787                        0.000726   \n",
       "...                           ...                             ...   \n",
       "18310                    1.000579                       -0.000927   \n",
       "18402                    0.992264                        0.001180   \n",
       "18360                    0.997766                       -0.001808   \n",
       "18452                    0.992876                        0.003316   \n",
       "18410                    0.996406                       -0.003339   \n",
       "\n",
       "       median_sale_ppsf  median_sale_ppsf_yoy         ZORI           ZHVI  \n",
       "36           198.389570              0.128863  1353.784035  349653.898163  \n",
       "3            281.519117              0.052298  1733.103784  424866.748029  \n",
       "77           199.713876              0.112473  1358.658663  355589.930506  \n",
       "42           281.394758              0.069794  1740.895621  429453.852062  \n",
       "119          195.707123              0.090180  1359.347851  355831.683516  \n",
       "...                 ...                   ...          ...            ...  \n",
       "18310        483.999470              0.028471  2668.967550  763102.655481  \n",
       "18402        354.396527              0.051614  1977.263708  610915.621249  \n",
       "18360        483.171615              0.031278  2665.526894  760999.665713  \n",
       "18452        376.619631              0.054799  1974.242008  625140.177926  \n",
       "18410        476.271513              0.031950  2647.937095  753402.067886  \n",
       "\n",
       "[820 rows x 36 columns]"
      ]
     },
     "execution_count": 6,
     "metadata": {},
     "output_type": "execute_result"
    }
   ],
   "source": [
    "# include only rows where state is either California or Washington\n",
    "df = df[(df['State'] == 'CA') | (df['State'] == 'WA')]\n",
    "df"
   ]
  },
  {
   "cell_type": "markdown",
   "id": "21b85cc11512b5b9",
   "metadata": {},
   "source": [
    "### Aggregate Rows by Date"
   ]
  },
  {
   "cell_type": "code",
   "execution_count": 7,
   "id": "24b50b493cd75668",
   "metadata": {
    "ExecuteTime": {
     "end_time": "2024-12-11T23:02:22.294482Z",
     "start_time": "2024-12-11T23:02:21.443445Z"
    }
   },
   "outputs": [
    {
     "data": {
      "text/html": [
       "<div>\n",
       "<style scoped>\n",
       "    .dataframe tbody tr th:only-of-type {\n",
       "        vertical-align: middle;\n",
       "    }\n",
       "\n",
       "    .dataframe tbody tr th {\n",
       "        vertical-align: top;\n",
       "    }\n",
       "\n",
       "    .dataframe thead th {\n",
       "        text-align: right;\n",
       "    }\n",
       "</style>\n",
       "<table border=\"1\" class=\"dataframe\">\n",
       "  <thead>\n",
       "    <tr style=\"text-align: right;\">\n",
       "      <th></th>\n",
       "      <th>date</th>\n",
       "      <th>adjusted_average_new_listings</th>\n",
       "      <th>adjusted_average_new_listings_yoy</th>\n",
       "      <th>average_pending_sales_listing_updates</th>\n",
       "      <th>average_pending_sales_listing_updates_yoy</th>\n",
       "      <th>off_market_in_two_weeks</th>\n",
       "      <th>off_market_in_two_weeks_yoy</th>\n",
       "      <th>adjusted_average_homes_sold</th>\n",
       "      <th>adjusted_average_homes_sold_yoy</th>\n",
       "      <th>median_new_listing_price</th>\n",
       "      <th>...</th>\n",
       "      <th>months_of_supply</th>\n",
       "      <th>months_of_supply_yoy</th>\n",
       "      <th>median_pending_sqft</th>\n",
       "      <th>median_pending_sqft_yoy</th>\n",
       "      <th>average_sale_to_list_ratio</th>\n",
       "      <th>average_sale_to_list_ratio_yoy</th>\n",
       "      <th>median_sale_ppsf</th>\n",
       "      <th>median_sale_ppsf_yoy</th>\n",
       "      <th>ZORI</th>\n",
       "      <th>ZHVI</th>\n",
       "    </tr>\n",
       "  </thead>\n",
       "  <tbody>\n",
       "    <tr>\n",
       "      <th>0</th>\n",
       "      <td>2016-12-30</td>\n",
       "      <td>554.414115</td>\n",
       "      <td>-0.171932</td>\n",
       "      <td>454.848474</td>\n",
       "      <td>-0.173544</td>\n",
       "      <td>52.987493</td>\n",
       "      <td>-0.174521</td>\n",
       "      <td>410.721435</td>\n",
       "      <td>-0.094766</td>\n",
       "      <td>442009.864001</td>\n",
       "      <td>...</td>\n",
       "      <td>15.872776</td>\n",
       "      <td>1.035675</td>\n",
       "      <td>1593.402079</td>\n",
       "      <td>0.005758</td>\n",
       "      <td>0.989151</td>\n",
       "      <td>0.001774</td>\n",
       "      <td>269.728752</td>\n",
       "      <td>0.063157</td>\n",
       "      <td>1679.304404</td>\n",
       "      <td>414199.218288</td>\n",
       "    </tr>\n",
       "    <tr>\n",
       "      <th>1</th>\n",
       "      <td>2017-01-06</td>\n",
       "      <td>676.813588</td>\n",
       "      <td>-0.071891</td>\n",
       "      <td>602.160678</td>\n",
       "      <td>-0.113483</td>\n",
       "      <td>116.322804</td>\n",
       "      <td>-0.117447</td>\n",
       "      <td>490.843851</td>\n",
       "      <td>-0.016189</td>\n",
       "      <td>451041.329472</td>\n",
       "      <td>...</td>\n",
       "      <td>13.474186</td>\n",
       "      <td>-0.169703</td>\n",
       "      <td>1579.302845</td>\n",
       "      <td>0.002767</td>\n",
       "      <td>0.987854</td>\n",
       "      <td>0.002195</td>\n",
       "      <td>269.869458</td>\n",
       "      <td>0.075816</td>\n",
       "      <td>1686.961390</td>\n",
       "      <td>419031.537567</td>\n",
       "    </tr>\n",
       "    <tr>\n",
       "      <th>2</th>\n",
       "      <td>2017-01-13</td>\n",
       "      <td>644.893426</td>\n",
       "      <td>-0.078692</td>\n",
       "      <td>654.156298</td>\n",
       "      <td>-0.034049</td>\n",
       "      <td>155.127284</td>\n",
       "      <td>0.050054</td>\n",
       "      <td>435.792077</td>\n",
       "      <td>0.102375</td>\n",
       "      <td>456040.273829</td>\n",
       "      <td>...</td>\n",
       "      <td>15.027766</td>\n",
       "      <td>-2.209880</td>\n",
       "      <td>1587.168951</td>\n",
       "      <td>0.010043</td>\n",
       "      <td>0.987059</td>\n",
       "      <td>0.000179</td>\n",
       "      <td>268.377220</td>\n",
       "      <td>0.066502</td>\n",
       "      <td>1682.382269</td>\n",
       "      <td>417593.341691</td>\n",
       "    </tr>\n",
       "    <tr>\n",
       "      <th>3</th>\n",
       "      <td>2017-01-20</td>\n",
       "      <td>659.007840</td>\n",
       "      <td>-0.085025</td>\n",
       "      <td>691.659937</td>\n",
       "      <td>-0.143232</td>\n",
       "      <td>156.052896</td>\n",
       "      <td>-0.107219</td>\n",
       "      <td>483.133128</td>\n",
       "      <td>-0.162244</td>\n",
       "      <td>463722.627092</td>\n",
       "      <td>...</td>\n",
       "      <td>13.935507</td>\n",
       "      <td>1.717658</td>\n",
       "      <td>1566.009519</td>\n",
       "      <td>-0.005050</td>\n",
       "      <td>0.990080</td>\n",
       "      <td>0.002402</td>\n",
       "      <td>263.072149</td>\n",
       "      <td>0.072523</td>\n",
       "      <td>1693.727288</td>\n",
       "      <td>421687.744392</td>\n",
       "    </tr>\n",
       "    <tr>\n",
       "      <th>4</th>\n",
       "      <td>2017-01-27</td>\n",
       "      <td>714.651845</td>\n",
       "      <td>-0.042475</td>\n",
       "      <td>703.256537</td>\n",
       "      <td>-0.021130</td>\n",
       "      <td>170.723375</td>\n",
       "      <td>-0.028651</td>\n",
       "      <td>522.618803</td>\n",
       "      <td>0.346299</td>\n",
       "      <td>466241.055927</td>\n",
       "      <td>...</td>\n",
       "      <td>12.454856</td>\n",
       "      <td>-5.021336</td>\n",
       "      <td>1598.506636</td>\n",
       "      <td>0.011450</td>\n",
       "      <td>0.988244</td>\n",
       "      <td>0.000384</td>\n",
       "      <td>270.971076</td>\n",
       "      <td>0.078342</td>\n",
       "      <td>1689.846866</td>\n",
       "      <td>421797.247483</td>\n",
       "    </tr>\n",
       "    <tr>\n",
       "      <th>...</th>\n",
       "      <td>...</td>\n",
       "      <td>...</td>\n",
       "      <td>...</td>\n",
       "      <td>...</td>\n",
       "      <td>...</td>\n",
       "      <td>...</td>\n",
       "      <td>...</td>\n",
       "      <td>...</td>\n",
       "      <td>...</td>\n",
       "      <td>...</td>\n",
       "      <td>...</td>\n",
       "      <td>...</td>\n",
       "      <td>...</td>\n",
       "      <td>...</td>\n",
       "      <td>...</td>\n",
       "      <td>...</td>\n",
       "      <td>...</td>\n",
       "      <td>...</td>\n",
       "      <td>...</td>\n",
       "      <td>...</td>\n",
       "      <td>...</td>\n",
       "    </tr>\n",
       "    <tr>\n",
       "      <th>405</th>\n",
       "      <td>2024-10-04</td>\n",
       "      <td>500.995458</td>\n",
       "      <td>0.105776</td>\n",
       "      <td>453.196204</td>\n",
       "      <td>0.221872</td>\n",
       "      <td>86.118287</td>\n",
       "      <td>-0.001794</td>\n",
       "      <td>366.826699</td>\n",
       "      <td>0.211374</td>\n",
       "      <td>750260.557331</td>\n",
       "      <td>...</td>\n",
       "      <td>15.153929</td>\n",
       "      <td>0.828023</td>\n",
       "      <td>1696.223270</td>\n",
       "      <td>0.028630</td>\n",
       "      <td>0.999103</td>\n",
       "      <td>-0.003202</td>\n",
       "      <td>472.109612</td>\n",
       "      <td>0.045555</td>\n",
       "      <td>2538.466091</td>\n",
       "      <td>736688.693354</td>\n",
       "    </tr>\n",
       "    <tr>\n",
       "      <th>406</th>\n",
       "      <td>2024-10-11</td>\n",
       "      <td>484.037242</td>\n",
       "      <td>0.102969</td>\n",
       "      <td>441.347476</td>\n",
       "      <td>0.187395</td>\n",
       "      <td>87.953549</td>\n",
       "      <td>0.112873</td>\n",
       "      <td>349.201197</td>\n",
       "      <td>0.024618</td>\n",
       "      <td>758889.727966</td>\n",
       "      <td>...</td>\n",
       "      <td>15.942627</td>\n",
       "      <td>3.311749</td>\n",
       "      <td>1666.305252</td>\n",
       "      <td>0.003029</td>\n",
       "      <td>0.999652</td>\n",
       "      <td>-0.003366</td>\n",
       "      <td>463.540093</td>\n",
       "      <td>0.034025</td>\n",
       "      <td>2540.734838</td>\n",
       "      <td>736617.568277</td>\n",
       "    </tr>\n",
       "    <tr>\n",
       "      <th>407</th>\n",
       "      <td>2024-10-18</td>\n",
       "      <td>442.632245</td>\n",
       "      <td>0.091410</td>\n",
       "      <td>422.670694</td>\n",
       "      <td>0.148859</td>\n",
       "      <td>83.262818</td>\n",
       "      <td>0.026642</td>\n",
       "      <td>392.011670</td>\n",
       "      <td>0.142004</td>\n",
       "      <td>755465.796627</td>\n",
       "      <td>...</td>\n",
       "      <td>14.113722</td>\n",
       "      <td>1.401127</td>\n",
       "      <td>1679.602929</td>\n",
       "      <td>0.023989</td>\n",
       "      <td>0.999053</td>\n",
       "      <td>-0.000664</td>\n",
       "      <td>461.128824</td>\n",
       "      <td>0.027073</td>\n",
       "      <td>2541.260966</td>\n",
       "      <td>735481.985721</td>\n",
       "    </tr>\n",
       "    <tr>\n",
       "      <th>408</th>\n",
       "      <td>2024-10-25</td>\n",
       "      <td>396.605139</td>\n",
       "      <td>-0.036093</td>\n",
       "      <td>413.959130</td>\n",
       "      <td>0.105272</td>\n",
       "      <td>86.051680</td>\n",
       "      <td>0.086917</td>\n",
       "      <td>418.040377</td>\n",
       "      <td>0.199969</td>\n",
       "      <td>753561.541014</td>\n",
       "      <td>...</td>\n",
       "      <td>12.863831</td>\n",
       "      <td>0.486839</td>\n",
       "      <td>1669.986497</td>\n",
       "      <td>0.008302</td>\n",
       "      <td>0.996731</td>\n",
       "      <td>-0.001246</td>\n",
       "      <td>458.949833</td>\n",
       "      <td>0.035103</td>\n",
       "      <td>2536.068930</td>\n",
       "      <td>732769.803659</td>\n",
       "    </tr>\n",
       "    <tr>\n",
       "      <th>409</th>\n",
       "      <td>2024-11-01</td>\n",
       "      <td>432.222030</td>\n",
       "      <td>0.004468</td>\n",
       "      <td>400.709404</td>\n",
       "      <td>0.066678</td>\n",
       "      <td>76.487361</td>\n",
       "      <td>-0.014549</td>\n",
       "      <td>375.884154</td>\n",
       "      <td>0.363339</td>\n",
       "      <td>736652.383281</td>\n",
       "      <td>...</td>\n",
       "      <td>15.130061</td>\n",
       "      <td>-1.683323</td>\n",
       "      <td>1661.709722</td>\n",
       "      <td>0.023170</td>\n",
       "      <td>0.995836</td>\n",
       "      <td>-0.002265</td>\n",
       "      <td>460.189819</td>\n",
       "      <td>0.035638</td>\n",
       "      <td>2539.217037</td>\n",
       "      <td>732703.326960</td>\n",
       "    </tr>\n",
       "  </tbody>\n",
       "</table>\n",
       "<p>410 rows × 35 columns</p>\n",
       "</div>"
      ],
      "text/plain": [
       "           date  adjusted_average_new_listings  \\\n",
       "0    2016-12-30                     554.414115   \n",
       "1    2017-01-06                     676.813588   \n",
       "2    2017-01-13                     644.893426   \n",
       "3    2017-01-20                     659.007840   \n",
       "4    2017-01-27                     714.651845   \n",
       "..          ...                            ...   \n",
       "405  2024-10-04                     500.995458   \n",
       "406  2024-10-11                     484.037242   \n",
       "407  2024-10-18                     442.632245   \n",
       "408  2024-10-25                     396.605139   \n",
       "409  2024-11-01                     432.222030   \n",
       "\n",
       "     adjusted_average_new_listings_yoy  average_pending_sales_listing_updates  \\\n",
       "0                            -0.171932                             454.848474   \n",
       "1                            -0.071891                             602.160678   \n",
       "2                            -0.078692                             654.156298   \n",
       "3                            -0.085025                             691.659937   \n",
       "4                            -0.042475                             703.256537   \n",
       "..                                 ...                                    ...   \n",
       "405                           0.105776                             453.196204   \n",
       "406                           0.102969                             441.347476   \n",
       "407                           0.091410                             422.670694   \n",
       "408                          -0.036093                             413.959130   \n",
       "409                           0.004468                             400.709404   \n",
       "\n",
       "     average_pending_sales_listing_updates_yoy  off_market_in_two_weeks  \\\n",
       "0                                    -0.173544                52.987493   \n",
       "1                                    -0.113483               116.322804   \n",
       "2                                    -0.034049               155.127284   \n",
       "3                                    -0.143232               156.052896   \n",
       "4                                    -0.021130               170.723375   \n",
       "..                                         ...                      ...   \n",
       "405                                   0.221872                86.118287   \n",
       "406                                   0.187395                87.953549   \n",
       "407                                   0.148859                83.262818   \n",
       "408                                   0.105272                86.051680   \n",
       "409                                   0.066678                76.487361   \n",
       "\n",
       "     off_market_in_two_weeks_yoy  adjusted_average_homes_sold  \\\n",
       "0                      -0.174521                   410.721435   \n",
       "1                      -0.117447                   490.843851   \n",
       "2                       0.050054                   435.792077   \n",
       "3                      -0.107219                   483.133128   \n",
       "4                      -0.028651                   522.618803   \n",
       "..                           ...                          ...   \n",
       "405                    -0.001794                   366.826699   \n",
       "406                     0.112873                   349.201197   \n",
       "407                     0.026642                   392.011670   \n",
       "408                     0.086917                   418.040377   \n",
       "409                    -0.014549                   375.884154   \n",
       "\n",
       "     adjusted_average_homes_sold_yoy  median_new_listing_price  ...  \\\n",
       "0                          -0.094766             442009.864001  ...   \n",
       "1                          -0.016189             451041.329472  ...   \n",
       "2                           0.102375             456040.273829  ...   \n",
       "3                          -0.162244             463722.627092  ...   \n",
       "4                           0.346299             466241.055927  ...   \n",
       "..                               ...                       ...  ...   \n",
       "405                         0.211374             750260.557331  ...   \n",
       "406                         0.024618             758889.727966  ...   \n",
       "407                         0.142004             755465.796627  ...   \n",
       "408                         0.199969             753561.541014  ...   \n",
       "409                         0.363339             736652.383281  ...   \n",
       "\n",
       "     months_of_supply  months_of_supply_yoy  median_pending_sqft  \\\n",
       "0           15.872776              1.035675          1593.402079   \n",
       "1           13.474186             -0.169703          1579.302845   \n",
       "2           15.027766             -2.209880          1587.168951   \n",
       "3           13.935507              1.717658          1566.009519   \n",
       "4           12.454856             -5.021336          1598.506636   \n",
       "..                ...                   ...                  ...   \n",
       "405         15.153929              0.828023          1696.223270   \n",
       "406         15.942627              3.311749          1666.305252   \n",
       "407         14.113722              1.401127          1679.602929   \n",
       "408         12.863831              0.486839          1669.986497   \n",
       "409         15.130061             -1.683323          1661.709722   \n",
       "\n",
       "     median_pending_sqft_yoy  average_sale_to_list_ratio  \\\n",
       "0                   0.005758                    0.989151   \n",
       "1                   0.002767                    0.987854   \n",
       "2                   0.010043                    0.987059   \n",
       "3                  -0.005050                    0.990080   \n",
       "4                   0.011450                    0.988244   \n",
       "..                       ...                         ...   \n",
       "405                 0.028630                    0.999103   \n",
       "406                 0.003029                    0.999652   \n",
       "407                 0.023989                    0.999053   \n",
       "408                 0.008302                    0.996731   \n",
       "409                 0.023170                    0.995836   \n",
       "\n",
       "     average_sale_to_list_ratio_yoy  median_sale_ppsf  median_sale_ppsf_yoy  \\\n",
       "0                          0.001774        269.728752              0.063157   \n",
       "1                          0.002195        269.869458              0.075816   \n",
       "2                          0.000179        268.377220              0.066502   \n",
       "3                          0.002402        263.072149              0.072523   \n",
       "4                          0.000384        270.971076              0.078342   \n",
       "..                              ...               ...                   ...   \n",
       "405                       -0.003202        472.109612              0.045555   \n",
       "406                       -0.003366        463.540093              0.034025   \n",
       "407                       -0.000664        461.128824              0.027073   \n",
       "408                       -0.001246        458.949833              0.035103   \n",
       "409                       -0.002265        460.189819              0.035638   \n",
       "\n",
       "            ZORI           ZHVI  \n",
       "0    1679.304404  414199.218288  \n",
       "1    1686.961390  419031.537567  \n",
       "2    1682.382269  417593.341691  \n",
       "3    1693.727288  421687.744392  \n",
       "4    1689.846866  421797.247483  \n",
       "..           ...            ...  \n",
       "405  2538.466091  736688.693354  \n",
       "406  2540.734838  736617.568277  \n",
       "407  2541.260966  735481.985721  \n",
       "408  2536.068930  732769.803659  \n",
       "409  2539.217037  732703.326960  \n",
       "\n",
       "[410 rows x 35 columns]"
      ]
     },
     "execution_count": 7,
     "metadata": {},
     "output_type": "execute_result"
    }
   ],
   "source": [
    "df = utils.process_data(df.drop(columns='State'), utils.features_weighted, groupby='date')\n",
    "df"
   ]
  },
  {
   "cell_type": "markdown",
   "id": "10a3880100a700e4",
   "metadata": {},
   "source": [
    "### Add AlphaVantage Data"
   ]
  },
  {
   "cell_type": "code",
   "execution_count": 8,
   "id": "3b50821d8ca83f40",
   "metadata": {
    "ExecuteTime": {
     "end_time": "2024-12-11T23:02:22.439406Z",
     "start_time": "2024-12-11T23:02:22.411671Z"
    }
   },
   "outputs": [
    {
     "data": {
      "text/html": [
       "<div>\n",
       "<style scoped>\n",
       "    .dataframe tbody tr th:only-of-type {\n",
       "        vertical-align: middle;\n",
       "    }\n",
       "\n",
       "    .dataframe tbody tr th {\n",
       "        vertical-align: top;\n",
       "    }\n",
       "\n",
       "    .dataframe thead th {\n",
       "        text-align: right;\n",
       "    }\n",
       "</style>\n",
       "<table border=\"1\" class=\"dataframe\">\n",
       "  <thead>\n",
       "    <tr style=\"text-align: right;\">\n",
       "      <th></th>\n",
       "      <th>date</th>\n",
       "      <th>SPY_adj_close</th>\n",
       "      <th>SPY_return_1day</th>\n",
       "      <th>SPY_return_1week</th>\n",
       "      <th>SPY_return_1month</th>\n",
       "      <th>SPY_return_3month</th>\n",
       "      <th>EQR_adj_close</th>\n",
       "      <th>EQR_adj_close_1day</th>\n",
       "      <th>EQR_adj_close_1week</th>\n",
       "      <th>EQR_adj_close_1month</th>\n",
       "      <th>...</th>\n",
       "      <th>AVB_adj_close_3month</th>\n",
       "      <th>INVH_adj_close</th>\n",
       "      <th>INVH_adj_close_1day</th>\n",
       "      <th>INVH_adj_close_1week</th>\n",
       "      <th>INVH_adj_close_1month</th>\n",
       "      <th>INVH_adj_close_3month</th>\n",
       "      <th>unemployment</th>\n",
       "      <th>fed_funds</th>\n",
       "      <th>3monhth_treasury_yield</th>\n",
       "      <th>cpi</th>\n",
       "    </tr>\n",
       "  </thead>\n",
       "  <tbody>\n",
       "    <tr>\n",
       "      <th>0</th>\n",
       "      <td>2017-02-03</td>\n",
       "      <td>201.410539</td>\n",
       "      <td>-0.001788</td>\n",
       "      <td>0.009462</td>\n",
       "      <td>0.036496</td>\n",
       "      <td>0.045656</td>\n",
       "      <td>45.852975</td>\n",
       "      <td>45.989668</td>\n",
       "      <td>47.030055</td>\n",
       "      <td>47.402165</td>\n",
       "      <td>...</td>\n",
       "      <td>148.539775</td>\n",
       "      <td>17.272979</td>\n",
       "      <td>17.356707</td>\n",
       "      <td>17.599516</td>\n",
       "      <td>18.353064</td>\n",
       "      <td>18.018154</td>\n",
       "      <td>0.047</td>\n",
       "      <td>0.000098</td>\n",
       "      <td>0.0065</td>\n",
       "      <td>2.42839</td>\n",
       "    </tr>\n",
       "    <tr>\n",
       "      <th>1</th>\n",
       "      <td>2017-02-10</td>\n",
       "      <td>203.316271</td>\n",
       "      <td>0.005443</td>\n",
       "      <td>0.015464</td>\n",
       "      <td>0.027213</td>\n",
       "      <td>0.038761</td>\n",
       "      <td>47.030055</td>\n",
       "      <td>47.189531</td>\n",
       "      <td>46.764263</td>\n",
       "      <td>47.516076</td>\n",
       "      <td>...</td>\n",
       "      <td>149.262275</td>\n",
       "      <td>17.599516</td>\n",
       "      <td>17.582771</td>\n",
       "      <td>17.708362</td>\n",
       "      <td>17.900935</td>\n",
       "      <td>17.959545</td>\n",
       "      <td>0.046</td>\n",
       "      <td>0.000104</td>\n",
       "      <td>0.0066</td>\n",
       "      <td>2.43603</td>\n",
       "    </tr>\n",
       "    <tr>\n",
       "      <th>2</th>\n",
       "      <td>2017-02-17</td>\n",
       "      <td>206.460293</td>\n",
       "      <td>0.005955</td>\n",
       "      <td>0.008592</td>\n",
       "      <td>0.011536</td>\n",
       "      <td>0.025677</td>\n",
       "      <td>46.764263</td>\n",
       "      <td>47.402165</td>\n",
       "      <td>48.040066</td>\n",
       "      <td>47.986908</td>\n",
       "      <td>...</td>\n",
       "      <td>149.238969</td>\n",
       "      <td>17.708362</td>\n",
       "      <td>17.976290</td>\n",
       "      <td>18.260964</td>\n",
       "      <td>18.034899</td>\n",
       "      <td>17.941583</td>\n",
       "      <td>0.046</td>\n",
       "      <td>0.000102</td>\n",
       "      <td>0.0066</td>\n",
       "      <td>2.43603</td>\n",
       "    </tr>\n",
       "    <tr>\n",
       "      <th>3</th>\n",
       "      <td>2017-02-24</td>\n",
       "      <td>207.909361</td>\n",
       "      <td>0.001563</td>\n",
       "      <td>0.007096</td>\n",
       "      <td>-0.007860</td>\n",
       "      <td>0.016153</td>\n",
       "      <td>47.675551</td>\n",
       "      <td>48.040066</td>\n",
       "      <td>47.326224</td>\n",
       "      <td>48.178335</td>\n",
       "      <td>...</td>\n",
       "      <td>149.137974</td>\n",
       "      <td>18.085136</td>\n",
       "      <td>18.260964</td>\n",
       "      <td>18.260964</td>\n",
       "      <td>18.068390</td>\n",
       "      <td>18.193454</td>\n",
       "      <td>0.046</td>\n",
       "      <td>0.000100</td>\n",
       "      <td>0.0066</td>\n",
       "      <td>2.43603</td>\n",
       "    </tr>\n",
       "    <tr>\n",
       "      <th>4</th>\n",
       "      <td>2017-03-03</td>\n",
       "      <td>209.384761</td>\n",
       "      <td>-0.002978</td>\n",
       "      <td>-0.003062</td>\n",
       "      <td>-0.006931</td>\n",
       "      <td>0.017333</td>\n",
       "      <td>47.326224</td>\n",
       "      <td>47.402165</td>\n",
       "      <td>47.052837</td>\n",
       "      <td>47.627201</td>\n",
       "      <td>...</td>\n",
       "      <td>148.633001</td>\n",
       "      <td>18.260964</td>\n",
       "      <td>18.353064</td>\n",
       "      <td>17.917681</td>\n",
       "      <td>18.277709</td>\n",
       "      <td>17.933188</td>\n",
       "      <td>0.046</td>\n",
       "      <td>0.000117</td>\n",
       "      <td>0.0065</td>\n",
       "      <td>2.43603</td>\n",
       "    </tr>\n",
       "    <tr>\n",
       "      <th>...</th>\n",
       "      <td>...</td>\n",
       "      <td>...</td>\n",
       "      <td>...</td>\n",
       "      <td>...</td>\n",
       "      <td>...</td>\n",
       "      <td>...</td>\n",
       "      <td>...</td>\n",
       "      <td>...</td>\n",
       "      <td>...</td>\n",
       "      <td>...</td>\n",
       "      <td>...</td>\n",
       "      <td>...</td>\n",
       "      <td>...</td>\n",
       "      <td>...</td>\n",
       "      <td>...</td>\n",
       "      <td>...</td>\n",
       "      <td>...</td>\n",
       "      <td>...</td>\n",
       "      <td>...</td>\n",
       "      <td>...</td>\n",
       "      <td>...</td>\n",
       "    </tr>\n",
       "    <tr>\n",
       "      <th>381</th>\n",
       "      <td>2024-08-16</td>\n",
       "      <td>552.612504</td>\n",
       "      <td>0.009561</td>\n",
       "      <td>0.014108</td>\n",
       "      <td>0.015389</td>\n",
       "      <td>0.083508</td>\n",
       "      <td>70.775391</td>\n",
       "      <td>70.953791</td>\n",
       "      <td>72.975662</td>\n",
       "      <td>77.078870</td>\n",
       "      <td>...</td>\n",
       "      <td>232.210000</td>\n",
       "      <td>35.000079</td>\n",
       "      <td>35.347302</td>\n",
       "      <td>35.863177</td>\n",
       "      <td>36.478257</td>\n",
       "      <td>33.830000</td>\n",
       "      <td>0.042</td>\n",
       "      <td>0.000999</td>\n",
       "      <td>0.0533</td>\n",
       "      <td>3.14796</td>\n",
       "    </tr>\n",
       "    <tr>\n",
       "      <th>382</th>\n",
       "      <td>2024-08-23</td>\n",
       "      <td>560.408556</td>\n",
       "      <td>-0.002384</td>\n",
       "      <td>0.002757</td>\n",
       "      <td>0.016526</td>\n",
       "      <td>0.049502</td>\n",
       "      <td>72.975662</td>\n",
       "      <td>72.281883</td>\n",
       "      <td>74.214553</td>\n",
       "      <td>76.751803</td>\n",
       "      <td>...</td>\n",
       "      <td>229.220000</td>\n",
       "      <td>35.863177</td>\n",
       "      <td>35.545716</td>\n",
       "      <td>36.547702</td>\n",
       "      <td>36.210400</td>\n",
       "      <td>34.150000</td>\n",
       "      <td>0.042</td>\n",
       "      <td>0.000990</td>\n",
       "      <td>0.0533</td>\n",
       "      <td>3.14796</td>\n",
       "    </tr>\n",
       "    <tr>\n",
       "      <th>383</th>\n",
       "      <td>2024-08-30</td>\n",
       "      <td>561.953809</td>\n",
       "      <td>-0.020579</td>\n",
       "      <td>-0.030638</td>\n",
       "      <td>0.021009</td>\n",
       "      <td>0.063308</td>\n",
       "      <td>74.214553</td>\n",
       "      <td>74.987622</td>\n",
       "      <td>74.432598</td>\n",
       "      <td>74.460000</td>\n",
       "      <td>...</td>\n",
       "      <td>232.900000</td>\n",
       "      <td>36.547702</td>\n",
       "      <td>36.974290</td>\n",
       "      <td>35.406826</td>\n",
       "      <td>35.260000</td>\n",
       "      <td>33.840000</td>\n",
       "      <td>0.042</td>\n",
       "      <td>0.000979</td>\n",
       "      <td>0.0533</td>\n",
       "      <td>3.14796</td>\n",
       "    </tr>\n",
       "    <tr>\n",
       "      <th>384</th>\n",
       "      <td>2024-09-06</td>\n",
       "      <td>538.705224</td>\n",
       "      <td>0.011196</td>\n",
       "      <td>0.040066</td>\n",
       "      <td>0.063624</td>\n",
       "      <td>0.120520</td>\n",
       "      <td>73.679352</td>\n",
       "      <td>74.432598</td>\n",
       "      <td>77.386115</td>\n",
       "      <td>73.530000</td>\n",
       "      <td>...</td>\n",
       "      <td>230.800000</td>\n",
       "      <td>35.664763</td>\n",
       "      <td>35.406826</td>\n",
       "      <td>36.726274</td>\n",
       "      <td>34.540000</td>\n",
       "      <td>33.900000</td>\n",
       "      <td>0.041</td>\n",
       "      <td>0.000968</td>\n",
       "      <td>0.0533</td>\n",
       "      <td>3.15301</td>\n",
       "    </tr>\n",
       "    <tr>\n",
       "      <th>385</th>\n",
       "      <td>2024-09-13</td>\n",
       "      <td>560.288924</td>\n",
       "      <td>0.001477</td>\n",
       "      <td>0.014209</td>\n",
       "      <td>0.034431</td>\n",
       "      <td>0.079229</td>\n",
       "      <td>77.386115</td>\n",
       "      <td>77.078870</td>\n",
       "      <td>75.899446</td>\n",
       "      <td>73.090000</td>\n",
       "      <td>...</td>\n",
       "      <td>226.990000</td>\n",
       "      <td>36.726274</td>\n",
       "      <td>36.478257</td>\n",
       "      <td>35.754049</td>\n",
       "      <td>33.750000</td>\n",
       "      <td>33.680000</td>\n",
       "      <td>0.041</td>\n",
       "      <td>0.000950</td>\n",
       "      <td>0.0533</td>\n",
       "      <td>3.15301</td>\n",
       "    </tr>\n",
       "  </tbody>\n",
       "</table>\n",
       "<p>386 rows × 30 columns</p>\n",
       "</div>"
      ],
      "text/plain": [
       "           date  SPY_adj_close  SPY_return_1day  SPY_return_1week  \\\n",
       "0    2017-02-03     201.410539        -0.001788          0.009462   \n",
       "1    2017-02-10     203.316271         0.005443          0.015464   \n",
       "2    2017-02-17     206.460293         0.005955          0.008592   \n",
       "3    2017-02-24     207.909361         0.001563          0.007096   \n",
       "4    2017-03-03     209.384761        -0.002978         -0.003062   \n",
       "..          ...            ...              ...               ...   \n",
       "381  2024-08-16     552.612504         0.009561          0.014108   \n",
       "382  2024-08-23     560.408556        -0.002384          0.002757   \n",
       "383  2024-08-30     561.953809        -0.020579         -0.030638   \n",
       "384  2024-09-06     538.705224         0.011196          0.040066   \n",
       "385  2024-09-13     560.288924         0.001477          0.014209   \n",
       "\n",
       "     SPY_return_1month  SPY_return_3month  EQR_adj_close  EQR_adj_close_1day  \\\n",
       "0             0.036496           0.045656      45.852975           45.989668   \n",
       "1             0.027213           0.038761      47.030055           47.189531   \n",
       "2             0.011536           0.025677      46.764263           47.402165   \n",
       "3            -0.007860           0.016153      47.675551           48.040066   \n",
       "4            -0.006931           0.017333      47.326224           47.402165   \n",
       "..                 ...                ...            ...                 ...   \n",
       "381           0.015389           0.083508      70.775391           70.953791   \n",
       "382           0.016526           0.049502      72.975662           72.281883   \n",
       "383           0.021009           0.063308      74.214553           74.987622   \n",
       "384           0.063624           0.120520      73.679352           74.432598   \n",
       "385           0.034431           0.079229      77.386115           77.078870   \n",
       "\n",
       "     EQR_adj_close_1week  EQR_adj_close_1month  ...  AVB_adj_close_3month  \\\n",
       "0              47.030055             47.402165  ...            148.539775   \n",
       "1              46.764263             47.516076  ...            149.262275   \n",
       "2              48.040066             47.986908  ...            149.238969   \n",
       "3              47.326224             48.178335  ...            149.137974   \n",
       "4              47.052837             47.627201  ...            148.633001   \n",
       "..                   ...                   ...  ...                   ...   \n",
       "381            72.975662             77.078870  ...            232.210000   \n",
       "382            74.214553             76.751803  ...            229.220000   \n",
       "383            74.432598             74.460000  ...            232.900000   \n",
       "384            77.386115             73.530000  ...            230.800000   \n",
       "385            75.899446             73.090000  ...            226.990000   \n",
       "\n",
       "     INVH_adj_close  INVH_adj_close_1day  INVH_adj_close_1week  \\\n",
       "0         17.272979            17.356707             17.599516   \n",
       "1         17.599516            17.582771             17.708362   \n",
       "2         17.708362            17.976290             18.260964   \n",
       "3         18.085136            18.260964             18.260964   \n",
       "4         18.260964            18.353064             17.917681   \n",
       "..              ...                  ...                   ...   \n",
       "381       35.000079            35.347302             35.863177   \n",
       "382       35.863177            35.545716             36.547702   \n",
       "383       36.547702            36.974290             35.406826   \n",
       "384       35.664763            35.406826             36.726274   \n",
       "385       36.726274            36.478257             35.754049   \n",
       "\n",
       "     INVH_adj_close_1month  INVH_adj_close_3month  unemployment  fed_funds  \\\n",
       "0                18.353064              18.018154         0.047   0.000098   \n",
       "1                17.900935              17.959545         0.046   0.000104   \n",
       "2                18.034899              17.941583         0.046   0.000102   \n",
       "3                18.068390              18.193454         0.046   0.000100   \n",
       "4                18.277709              17.933188         0.046   0.000117   \n",
       "..                     ...                    ...           ...        ...   \n",
       "381              36.478257              33.830000         0.042   0.000999   \n",
       "382              36.210400              34.150000         0.042   0.000990   \n",
       "383              35.260000              33.840000         0.042   0.000979   \n",
       "384              34.540000              33.900000         0.041   0.000968   \n",
       "385              33.750000              33.680000         0.041   0.000950   \n",
       "\n",
       "     3monhth_treasury_yield      cpi  \n",
       "0                    0.0065  2.42839  \n",
       "1                    0.0066  2.43603  \n",
       "2                    0.0066  2.43603  \n",
       "3                    0.0066  2.43603  \n",
       "4                    0.0065  2.43603  \n",
       "..                      ...      ...  \n",
       "381                  0.0533  3.14796  \n",
       "382                  0.0533  3.14796  \n",
       "383                  0.0533  3.14796  \n",
       "384                  0.0533  3.15301  \n",
       "385                  0.0533  3.15301  \n",
       "\n",
       "[386 rows x 30 columns]"
      ]
     },
     "execution_count": 8,
     "metadata": {},
     "output_type": "execute_result"
    }
   ],
   "source": [
    "#Read alpha vantage data\n",
    "file_path_av = \"../data/av_data.csv\"\n",
    "df_av = pd.read_csv(file_path_av)\n",
    "df_av = df_av.drop(columns=['Unnamed: 0'])\n",
    "df_av"
   ]
  },
  {
   "cell_type": "code",
   "execution_count": 9,
   "id": "80196c8dad61035f",
   "metadata": {
    "ExecuteTime": {
     "end_time": "2024-12-11T23:02:22.598122Z",
     "start_time": "2024-12-11T23:02:22.567540Z"
    }
   },
   "outputs": [
    {
     "data": {
      "text/html": [
       "<div>\n",
       "<style scoped>\n",
       "    .dataframe tbody tr th:only-of-type {\n",
       "        vertical-align: middle;\n",
       "    }\n",
       "\n",
       "    .dataframe tbody tr th {\n",
       "        vertical-align: top;\n",
       "    }\n",
       "\n",
       "    .dataframe thead th {\n",
       "        text-align: right;\n",
       "    }\n",
       "</style>\n",
       "<table border=\"1\" class=\"dataframe\">\n",
       "  <thead>\n",
       "    <tr style=\"text-align: right;\">\n",
       "      <th></th>\n",
       "      <th>date</th>\n",
       "      <th>adjusted_average_new_listings</th>\n",
       "      <th>adjusted_average_new_listings_yoy</th>\n",
       "      <th>average_pending_sales_listing_updates</th>\n",
       "      <th>average_pending_sales_listing_updates_yoy</th>\n",
       "      <th>off_market_in_two_weeks</th>\n",
       "      <th>off_market_in_two_weeks_yoy</th>\n",
       "      <th>adjusted_average_homes_sold</th>\n",
       "      <th>adjusted_average_homes_sold_yoy</th>\n",
       "      <th>median_new_listing_price</th>\n",
       "      <th>...</th>\n",
       "      <th>AVB_adj_close_3month</th>\n",
       "      <th>INVH_adj_close</th>\n",
       "      <th>INVH_adj_close_1day</th>\n",
       "      <th>INVH_adj_close_1week</th>\n",
       "      <th>INVH_adj_close_1month</th>\n",
       "      <th>INVH_adj_close_3month</th>\n",
       "      <th>unemployment</th>\n",
       "      <th>fed_funds</th>\n",
       "      <th>3monhth_treasury_yield</th>\n",
       "      <th>cpi</th>\n",
       "    </tr>\n",
       "  </thead>\n",
       "  <tbody>\n",
       "    <tr>\n",
       "      <th>5</th>\n",
       "      <td>2017-02-03</td>\n",
       "      <td>709.685404</td>\n",
       "      <td>-0.119737</td>\n",
       "      <td>720.005883</td>\n",
       "      <td>-0.047961</td>\n",
       "      <td>180.987245</td>\n",
       "      <td>0.022327</td>\n",
       "      <td>421.209491</td>\n",
       "      <td>0.008467</td>\n",
       "      <td>475660.616728</td>\n",
       "      <td>...</td>\n",
       "      <td>148.539775</td>\n",
       "      <td>17.272979</td>\n",
       "      <td>17.356707</td>\n",
       "      <td>17.599516</td>\n",
       "      <td>18.353064</td>\n",
       "      <td>18.018154</td>\n",
       "      <td>0.047</td>\n",
       "      <td>0.000098</td>\n",
       "      <td>0.0065</td>\n",
       "      <td>2.42839</td>\n",
       "    </tr>\n",
       "    <tr>\n",
       "      <th>6</th>\n",
       "      <td>2017-02-10</td>\n",
       "      <td>707.514737</td>\n",
       "      <td>-0.074800</td>\n",
       "      <td>762.801404</td>\n",
       "      <td>-0.019896</td>\n",
       "      <td>186.386196</td>\n",
       "      <td>0.001974</td>\n",
       "      <td>522.031628</td>\n",
       "      <td>0.234482</td>\n",
       "      <td>470921.410683</td>\n",
       "      <td>...</td>\n",
       "      <td>149.262275</td>\n",
       "      <td>17.599516</td>\n",
       "      <td>17.582771</td>\n",
       "      <td>17.708362</td>\n",
       "      <td>17.900935</td>\n",
       "      <td>17.959545</td>\n",
       "      <td>0.046</td>\n",
       "      <td>0.000104</td>\n",
       "      <td>0.0066</td>\n",
       "      <td>2.43603</td>\n",
       "    </tr>\n",
       "    <tr>\n",
       "      <th>7</th>\n",
       "      <td>2017-02-17</td>\n",
       "      <td>713.732614</td>\n",
       "      <td>-0.107414</td>\n",
       "      <td>739.998389</td>\n",
       "      <td>-0.104281</td>\n",
       "      <td>180.496498</td>\n",
       "      <td>-0.086735</td>\n",
       "      <td>482.257077</td>\n",
       "      <td>-0.113660</td>\n",
       "      <td>471796.500785</td>\n",
       "      <td>...</td>\n",
       "      <td>149.238969</td>\n",
       "      <td>17.708362</td>\n",
       "      <td>17.976290</td>\n",
       "      <td>18.260964</td>\n",
       "      <td>18.034899</td>\n",
       "      <td>17.941583</td>\n",
       "      <td>0.046</td>\n",
       "      <td>0.000102</td>\n",
       "      <td>0.0066</td>\n",
       "      <td>2.43603</td>\n",
       "    </tr>\n",
       "    <tr>\n",
       "      <th>8</th>\n",
       "      <td>2017-02-24</td>\n",
       "      <td>814.894703</td>\n",
       "      <td>-0.092835</td>\n",
       "      <td>790.498468</td>\n",
       "      <td>-0.094623</td>\n",
       "      <td>202.385183</td>\n",
       "      <td>-0.092471</td>\n",
       "      <td>647.153556</td>\n",
       "      <td>0.101944</td>\n",
       "      <td>487216.587024</td>\n",
       "      <td>...</td>\n",
       "      <td>149.137974</td>\n",
       "      <td>18.085136</td>\n",
       "      <td>18.260964</td>\n",
       "      <td>18.260964</td>\n",
       "      <td>18.068390</td>\n",
       "      <td>18.193454</td>\n",
       "      <td>0.046</td>\n",
       "      <td>0.000100</td>\n",
       "      <td>0.0066</td>\n",
       "      <td>2.43603</td>\n",
       "    </tr>\n",
       "    <tr>\n",
       "      <th>9</th>\n",
       "      <td>2017-03-03</td>\n",
       "      <td>824.703229</td>\n",
       "      <td>0.003200</td>\n",
       "      <td>808.597635</td>\n",
       "      <td>-0.091901</td>\n",
       "      <td>215.616902</td>\n",
       "      <td>-0.056982</td>\n",
       "      <td>558.711365</td>\n",
       "      <td>0.065437</td>\n",
       "      <td>490705.352236</td>\n",
       "      <td>...</td>\n",
       "      <td>148.633001</td>\n",
       "      <td>18.260964</td>\n",
       "      <td>18.353064</td>\n",
       "      <td>17.917681</td>\n",
       "      <td>18.277709</td>\n",
       "      <td>17.933188</td>\n",
       "      <td>0.046</td>\n",
       "      <td>0.000117</td>\n",
       "      <td>0.0065</td>\n",
       "      <td>2.43603</td>\n",
       "    </tr>\n",
       "    <tr>\n",
       "      <th>...</th>\n",
       "      <td>...</td>\n",
       "      <td>...</td>\n",
       "      <td>...</td>\n",
       "      <td>...</td>\n",
       "      <td>...</td>\n",
       "      <td>...</td>\n",
       "      <td>...</td>\n",
       "      <td>...</td>\n",
       "      <td>...</td>\n",
       "      <td>...</td>\n",
       "      <td>...</td>\n",
       "      <td>...</td>\n",
       "      <td>...</td>\n",
       "      <td>...</td>\n",
       "      <td>...</td>\n",
       "      <td>...</td>\n",
       "      <td>...</td>\n",
       "      <td>...</td>\n",
       "      <td>...</td>\n",
       "      <td>...</td>\n",
       "      <td>...</td>\n",
       "    </tr>\n",
       "    <tr>\n",
       "      <th>398</th>\n",
       "      <td>2024-08-16</td>\n",
       "      <td>505.091687</td>\n",
       "      <td>0.110730</td>\n",
       "      <td>443.159856</td>\n",
       "      <td>-0.014616</td>\n",
       "      <td>91.741224</td>\n",
       "      <td>-0.108346</td>\n",
       "      <td>388.175951</td>\n",
       "      <td>0.021739</td>\n",
       "      <td>758449.195068</td>\n",
       "      <td>...</td>\n",
       "      <td>232.210000</td>\n",
       "      <td>35.000079</td>\n",
       "      <td>35.347302</td>\n",
       "      <td>35.863177</td>\n",
       "      <td>36.478257</td>\n",
       "      <td>33.830000</td>\n",
       "      <td>0.042</td>\n",
       "      <td>0.000999</td>\n",
       "      <td>0.0533</td>\n",
       "      <td>3.14796</td>\n",
       "    </tr>\n",
       "    <tr>\n",
       "      <th>399</th>\n",
       "      <td>2024-08-23</td>\n",
       "      <td>426.333901</td>\n",
       "      <td>0.032050</td>\n",
       "      <td>462.946335</td>\n",
       "      <td>0.048293</td>\n",
       "      <td>90.338970</td>\n",
       "      <td>-0.141974</td>\n",
       "      <td>466.383370</td>\n",
       "      <td>0.072838</td>\n",
       "      <td>739685.543218</td>\n",
       "      <td>...</td>\n",
       "      <td>229.220000</td>\n",
       "      <td>35.863177</td>\n",
       "      <td>35.545716</td>\n",
       "      <td>36.547702</td>\n",
       "      <td>36.210400</td>\n",
       "      <td>34.150000</td>\n",
       "      <td>0.042</td>\n",
       "      <td>0.000990</td>\n",
       "      <td>0.0533</td>\n",
       "      <td>3.14796</td>\n",
       "    </tr>\n",
       "    <tr>\n",
       "      <th>400</th>\n",
       "      <td>2024-08-30</td>\n",
       "      <td>537.114423</td>\n",
       "      <td>0.109485</td>\n",
       "      <td>392.656293</td>\n",
       "      <td>0.030933</td>\n",
       "      <td>74.370896</td>\n",
       "      <td>-0.105866</td>\n",
       "      <td>315.094031</td>\n",
       "      <td>0.084566</td>\n",
       "      <td>768653.091827</td>\n",
       "      <td>...</td>\n",
       "      <td>232.900000</td>\n",
       "      <td>36.547702</td>\n",
       "      <td>36.974290</td>\n",
       "      <td>35.406826</td>\n",
       "      <td>35.260000</td>\n",
       "      <td>33.840000</td>\n",
       "      <td>0.042</td>\n",
       "      <td>0.000979</td>\n",
       "      <td>0.0533</td>\n",
       "      <td>3.14796</td>\n",
       "    </tr>\n",
       "    <tr>\n",
       "      <th>401</th>\n",
       "      <td>2024-09-06</td>\n",
       "      <td>546.843739</td>\n",
       "      <td>0.095513</td>\n",
       "      <td>445.436203</td>\n",
       "      <td>0.049800</td>\n",
       "      <td>89.942456</td>\n",
       "      <td>-0.118106</td>\n",
       "      <td>371.844819</td>\n",
       "      <td>0.020441</td>\n",
       "      <td>768070.337225</td>\n",
       "      <td>...</td>\n",
       "      <td>230.800000</td>\n",
       "      <td>35.664763</td>\n",
       "      <td>35.406826</td>\n",
       "      <td>36.726274</td>\n",
       "      <td>34.540000</td>\n",
       "      <td>33.900000</td>\n",
       "      <td>0.041</td>\n",
       "      <td>0.000968</td>\n",
       "      <td>0.0533</td>\n",
       "      <td>3.15301</td>\n",
       "    </tr>\n",
       "    <tr>\n",
       "      <th>402</th>\n",
       "      <td>2024-09-13</td>\n",
       "      <td>528.942958</td>\n",
       "      <td>0.168230</td>\n",
       "      <td>464.161431</td>\n",
       "      <td>0.076726</td>\n",
       "      <td>98.548724</td>\n",
       "      <td>-0.039448</td>\n",
       "      <td>374.616757</td>\n",
       "      <td>0.049317</td>\n",
       "      <td>775018.448207</td>\n",
       "      <td>...</td>\n",
       "      <td>226.990000</td>\n",
       "      <td>36.726274</td>\n",
       "      <td>36.478257</td>\n",
       "      <td>35.754049</td>\n",
       "      <td>33.750000</td>\n",
       "      <td>33.680000</td>\n",
       "      <td>0.041</td>\n",
       "      <td>0.000950</td>\n",
       "      <td>0.0533</td>\n",
       "      <td>3.15301</td>\n",
       "    </tr>\n",
       "  </tbody>\n",
       "</table>\n",
       "<p>386 rows × 64 columns</p>\n",
       "</div>"
      ],
      "text/plain": [
       "           date  adjusted_average_new_listings  \\\n",
       "5    2017-02-03                     709.685404   \n",
       "6    2017-02-10                     707.514737   \n",
       "7    2017-02-17                     713.732614   \n",
       "8    2017-02-24                     814.894703   \n",
       "9    2017-03-03                     824.703229   \n",
       "..          ...                            ...   \n",
       "398  2024-08-16                     505.091687   \n",
       "399  2024-08-23                     426.333901   \n",
       "400  2024-08-30                     537.114423   \n",
       "401  2024-09-06                     546.843739   \n",
       "402  2024-09-13                     528.942958   \n",
       "\n",
       "     adjusted_average_new_listings_yoy  average_pending_sales_listing_updates  \\\n",
       "5                            -0.119737                             720.005883   \n",
       "6                            -0.074800                             762.801404   \n",
       "7                            -0.107414                             739.998389   \n",
       "8                            -0.092835                             790.498468   \n",
       "9                             0.003200                             808.597635   \n",
       "..                                 ...                                    ...   \n",
       "398                           0.110730                             443.159856   \n",
       "399                           0.032050                             462.946335   \n",
       "400                           0.109485                             392.656293   \n",
       "401                           0.095513                             445.436203   \n",
       "402                           0.168230                             464.161431   \n",
       "\n",
       "     average_pending_sales_listing_updates_yoy  off_market_in_two_weeks  \\\n",
       "5                                    -0.047961               180.987245   \n",
       "6                                    -0.019896               186.386196   \n",
       "7                                    -0.104281               180.496498   \n",
       "8                                    -0.094623               202.385183   \n",
       "9                                    -0.091901               215.616902   \n",
       "..                                         ...                      ...   \n",
       "398                                  -0.014616                91.741224   \n",
       "399                                   0.048293                90.338970   \n",
       "400                                   0.030933                74.370896   \n",
       "401                                   0.049800                89.942456   \n",
       "402                                   0.076726                98.548724   \n",
       "\n",
       "     off_market_in_two_weeks_yoy  adjusted_average_homes_sold  \\\n",
       "5                       0.022327                   421.209491   \n",
       "6                       0.001974                   522.031628   \n",
       "7                      -0.086735                   482.257077   \n",
       "8                      -0.092471                   647.153556   \n",
       "9                      -0.056982                   558.711365   \n",
       "..                           ...                          ...   \n",
       "398                    -0.108346                   388.175951   \n",
       "399                    -0.141974                   466.383370   \n",
       "400                    -0.105866                   315.094031   \n",
       "401                    -0.118106                   371.844819   \n",
       "402                    -0.039448                   374.616757   \n",
       "\n",
       "     adjusted_average_homes_sold_yoy  median_new_listing_price  ...  \\\n",
       "5                           0.008467             475660.616728  ...   \n",
       "6                           0.234482             470921.410683  ...   \n",
       "7                          -0.113660             471796.500785  ...   \n",
       "8                           0.101944             487216.587024  ...   \n",
       "9                           0.065437             490705.352236  ...   \n",
       "..                               ...                       ...  ...   \n",
       "398                         0.021739             758449.195068  ...   \n",
       "399                         0.072838             739685.543218  ...   \n",
       "400                         0.084566             768653.091827  ...   \n",
       "401                         0.020441             768070.337225  ...   \n",
       "402                         0.049317             775018.448207  ...   \n",
       "\n",
       "     AVB_adj_close_3month  INVH_adj_close  INVH_adj_close_1day  \\\n",
       "5              148.539775       17.272979            17.356707   \n",
       "6              149.262275       17.599516            17.582771   \n",
       "7              149.238969       17.708362            17.976290   \n",
       "8              149.137974       18.085136            18.260964   \n",
       "9              148.633001       18.260964            18.353064   \n",
       "..                    ...             ...                  ...   \n",
       "398            232.210000       35.000079            35.347302   \n",
       "399            229.220000       35.863177            35.545716   \n",
       "400            232.900000       36.547702            36.974290   \n",
       "401            230.800000       35.664763            35.406826   \n",
       "402            226.990000       36.726274            36.478257   \n",
       "\n",
       "     INVH_adj_close_1week  INVH_adj_close_1month  INVH_adj_close_3month  \\\n",
       "5               17.599516              18.353064              18.018154   \n",
       "6               17.708362              17.900935              17.959545   \n",
       "7               18.260964              18.034899              17.941583   \n",
       "8               18.260964              18.068390              18.193454   \n",
       "9               17.917681              18.277709              17.933188   \n",
       "..                    ...                    ...                    ...   \n",
       "398             35.863177              36.478257              33.830000   \n",
       "399             36.547702              36.210400              34.150000   \n",
       "400             35.406826              35.260000              33.840000   \n",
       "401             36.726274              34.540000              33.900000   \n",
       "402             35.754049              33.750000              33.680000   \n",
       "\n",
       "     unemployment  fed_funds  3monhth_treasury_yield      cpi  \n",
       "5           0.047   0.000098                  0.0065  2.42839  \n",
       "6           0.046   0.000104                  0.0066  2.43603  \n",
       "7           0.046   0.000102                  0.0066  2.43603  \n",
       "8           0.046   0.000100                  0.0066  2.43603  \n",
       "9           0.046   0.000117                  0.0065  2.43603  \n",
       "..            ...        ...                     ...      ...  \n",
       "398         0.042   0.000999                  0.0533  3.14796  \n",
       "399         0.042   0.000990                  0.0533  3.14796  \n",
       "400         0.042   0.000979                  0.0533  3.14796  \n",
       "401         0.041   0.000968                  0.0533  3.15301  \n",
       "402         0.041   0.000950                  0.0533  3.15301  \n",
       "\n",
       "[386 rows x 64 columns]"
      ]
     },
     "execution_count": 9,
     "metadata": {},
     "output_type": "execute_result"
    }
   ],
   "source": [
    "df = pd.merge(df, df_av,\n",
    "              on=[\"date\"],\n",
    "              how=\"left\")\n",
    "df.dropna(inplace=True)\n",
    "df"
   ]
  },
  {
   "cell_type": "markdown",
   "id": "6fe419509bf5acdf",
   "metadata": {},
   "source": [
    "### Splitting Data"
   ]
  },
  {
   "cell_type": "code",
   "execution_count": 11,
   "id": "f59b319c3091580c",
   "metadata": {
    "ExecuteTime": {
     "end_time": "2024-12-11T23:02:22.710171Z",
     "start_time": "2024-12-11T23:02:22.692096Z"
    }
   },
   "outputs": [],
   "source": [
    "# Split the data into features and target\n",
    "X = df.drop(columns=['date', 'EQR_adj_close_1day', 'ESS_adj_close_1day', 'AVB_adj_close_1day', 'INVH_adj_close_1day',\n",
    "                     'EQR_adj_close_1week', 'ESS_adj_close_1week', 'AVB_adj_close_1week', 'INVH_adj_close_1week',\n",
    "                     'EQR_adj_close', 'ESS_adj_close', 'AVB_adj_close', 'INVH_adj_close', 'EQR_adj_close_1month',\n",
    "                     'ESS_adj_close_1month', 'AVB_adj_close_1month', 'INVH_adj_close_1month', 'EQR_adj_close_3month',\n",
    "                     'ESS_adj_close_3month', 'AVB_adj_close_3month', 'INVH_adj_close_3month'])\n",
    "y = df['ESS_adj_close_1week']"
   ]
  },
  {
   "cell_type": "code",
   "execution_count": 13,
   "id": "6d156572",
   "metadata": {},
   "outputs": [
    {
     "data": {
      "image/png": "[encoded data removed]",
      "text/plain": [
       "<Figure size 640x480 with 1 Axes>"
      ]
     },
     "metadata": {},
     "output_type": "display_data"
    }
   ],
   "source": [
    "#target variable distribution\n",
    "plt.hist(y, bins=20, edgecolor='black')\n",
    "plt.title('Distribution of target variable (ESS)')\n",
    "plt.xlabel('Values')\n",
    "plt.ylabel('Frequency')\n",
    "plt.show()"
   ]
  },
  {
   "cell_type": "code",
   "execution_count": 14,
   "id": "44a67103",
   "metadata": {},
   "outputs": [
    {
     "data": {
      "image/png": "[encoded data removed]",
      "text/plain": [
       "<Figure size 2000x1000 with 9 Axes>"
      ]
     },
     "metadata": {},
     "output_type": "display_data"
    }
   ],
   "source": [
    "#feature distribution\n",
    "selected_features = X[[\"median_new_listing_price\", \"months_of_supply\",\"percent_active_listings_with_price_drops\", \"SPY_return_1week\", \"ZORI\", \"active_listings\", \"fed_funds\", \"unemployment\"]]\n",
    "selected_features.hist(bins=20, figsize=(20, 10))\n",
    "plt.tight_layout()\n",
    "plt.show()"
   ]
  },
  {
   "cell_type": "code",
   "execution_count": 17,
   "id": "eb1e5e00",
   "metadata": {},
   "outputs": [
    {
     "data": {
      "text/plain": [
       "<Axes: >"
      ]
     },
     "execution_count": 17,
     "metadata": {},
     "output_type": "execute_result"
    },
    {
     "data": {
      "image/png": "[encoded data removed]",
      "text/plain": [
       "<Figure size 640x480 with 2 Axes>"
      ]
     },
     "metadata": {},
     "output_type": "display_data"
    }
   ],
   "source": [
    "#Correlation\n",
    "corr = X.corr()\n",
    "sns.heatmap(corr, annot = False, cmap = \"coolwarm\")"
   ]
  },
  {
   "cell_type": "markdown",
   "id": "4c42df68202c3697",
   "metadata": {},
   "source": [
    "### Train-Test Split"
   ]
  },
  {
   "cell_type": "code",
   "execution_count": 181,
   "id": "df61e336e108575f",
   "metadata": {
    "ExecuteTime": {
     "end_time": "2024-12-11T23:02:22.854825Z",
     "start_time": "2024-12-11T23:02:22.827332Z"
    }
   },
   "outputs": [],
   "source": [
    "X_train, X_test, y_train, y_test = train_test_split(X, y, test_size=0.2, random_state=42, shuffle=False)"
   ]
  },
  {
   "cell_type": "markdown",
   "id": "decfd0efe725826c",
   "metadata": {},
   "source": [
    "## Modeling"
   ]
  },
  {
   "cell_type": "code",
   "execution_count": 182,
   "id": "ae2b2ec12eabdd83",
   "metadata": {
    "ExecuteTime": {
     "end_time": "2024-12-11T23:02:23.023807Z",
     "start_time": "2024-12-11T23:02:22.983553Z"
    }
   },
   "outputs": [],
   "source": [
    "# define scorer and cross-validation\n",
    "scorer = make_scorer(root_mean_squared_error, greater_is_better=False)\n",
    "cv = KFold(n_splits=20, shuffle=True, random_state=42)\n",
    "n_trials = 15"
   ]
  },
  {
   "cell_type": "markdown",
   "id": "1be2cb850a4635e0",
   "metadata": {},
   "source": [
    "### Random Forest"
   ]
  },
  {
   "cell_type": "markdown",
   "id": "d38b31142bf8e99d",
   "metadata": {},
   "source": [
    "#### Hyperparameter Tuning"
   ]
  },
  {
   "cell_type": "code",
   "execution_count": 183,
   "id": "386cf90a279cea3",
   "metadata": {
    "ExecuteTime": {
     "end_time": "2024-12-11T23:02:23.195239Z",
     "start_time": "2024-12-11T23:02:23.175127Z"
    }
   },
   "outputs": [],
   "source": [
    "# Hyperparameter search space\n",
    "def objective(trial):\n",
    "    # Hyperparameter search space\n",
    "    n_estimators = trial.suggest_int('n_estimators', 50, 500)\n",
    "    max_depth = trial.suggest_int('max_depth', 2, 8)\n",
    "    min_samples_split = trial.suggest_int('min_samples_split', 2, 10)\n",
    "    min_samples_leaf = trial.suggest_int('min_samples_leaf', 1, 10)\n",
    "    max_features = trial.suggest_categorical('max_features', ['sqrt', 'log2', None])\n",
    "\n",
    "    # Create the Random Forest model with suggested hyperparameters\n",
    "    rf = RandomForestRegressor(\n",
    "        n_estimators=n_estimators,\n",
    "        max_depth=max_depth,\n",
    "        min_samples_split=min_samples_split,\n",
    "        min_samples_leaf=min_samples_leaf,\n",
    "        max_features=max_features,\n",
    "        random_state=42\n",
    "    )\n",
    "\n",
    "    scores = cross_val_score(rf, X_train, y_train, scoring=scorer, cv=cv, n_jobs=-1)\n",
    "\n",
    "    return -np.mean(scores)"
   ]
  },
  {
   "cell_type": "code",
   "execution_count": 184,
   "id": "c003abc9b898921",
   "metadata": {
    "ExecuteTime": {
     "end_time": "2024-12-11T23:02:47.439895Z",
     "start_time": "2024-12-11T23:02:23.301768Z"
    }
   },
   "outputs": [
    {
     "name": "stderr",
     "output_type": "stream",
     "text": [
      "[I 2024-12-11 18:02:23,320] A new study created in memory with name: rf_tuning\n"
     ]
    },
    {
     "data": {
      "application/vnd.jupyter.widget-view+json": {
       "model_id": "65896e76a8844bcfa23e61143574cc34",
       "version_major": 2,
       "version_minor": 0
      },
      "text/plain": [
       "  0%|          | 0/15 [00:00<?, ?it/s]"
      ]
     },
     "metadata": {},
     "output_type": "display_data"
    },
    {
     "name": "stdout",
     "output_type": "stream",
     "text": [
      "[I 2024-12-11 18:02:26,195] Trial 0 finished with value: 11.025425380981368 and parameters: {'n_estimators': 295, 'max_depth': 5, 'min_samples_split': 3, 'min_samples_leaf': 7, 'max_features': 'log2'}. Best is trial 0 with value: 11.025425380981368.\n",
      "[I 2024-12-11 18:02:26,713] Trial 1 finished with value: 12.23846717582816 and parameters: {'n_estimators': 144, 'max_depth': 4, 'min_samples_split': 10, 'min_samples_leaf': 6, 'max_features': 'log2'}. Best is trial 0 with value: 11.025425380981368.\n",
      "[I 2024-12-11 18:02:27,097] Trial 2 finished with value: 14.448448220079547 and parameters: {'n_estimators': 154, 'max_depth': 3, 'min_samples_split': 2, 'min_samples_leaf': 1, 'max_features': 'sqrt'}. Best is trial 0 with value: 11.025425380981368.\n",
      "[I 2024-12-11 18:02:28,012] Trial 3 finished with value: 15.331935922632468 and parameters: {'n_estimators': 423, 'max_depth': 3, 'min_samples_split': 4, 'min_samples_leaf': 4, 'max_features': 'log2'}. Best is trial 0 with value: 11.025425380981368.\n",
      "[I 2024-12-11 18:02:29,650] Trial 4 finished with value: 8.426431905766032 and parameters: {'n_estimators': 151, 'max_depth': 8, 'min_samples_split': 10, 'min_samples_leaf': 1, 'max_features': None}. Best is trial 4 with value: 8.426431905766032.\n",
      "[I 2024-12-11 18:02:32,913] Trial 5 finished with value: 8.925053287045012 and parameters: {'n_estimators': 346, 'max_depth': 8, 'min_samples_split': 4, 'min_samples_leaf': 6, 'max_features': None}. Best is trial 4 with value: 8.426431905766032.\n",
      "[I 2024-12-11 18:02:33,670] Trial 6 finished with value: 9.705230416767467 and parameters: {'n_estimators': 261, 'max_depth': 5, 'min_samples_split': 9, 'min_samples_leaf': 1, 'max_features': 'sqrt'}. Best is trial 4 with value: 8.426431905766032.\n",
      "[I 2024-12-11 18:02:36,657] Trial 7 finished with value: 10.574287681259182 and parameters: {'n_estimators': 325, 'max_depth': 4, 'min_samples_split': 9, 'min_samples_leaf': 7, 'max_features': None}. Best is trial 4 with value: 8.426431905766032.\n",
      "[I 2024-12-11 18:02:37,972] Trial 8 finished with value: 12.045945040146687 and parameters: {'n_estimators': 460, 'max_depth': 4, 'min_samples_split': 9, 'min_samples_leaf': 3, 'max_features': 'log2'}. Best is trial 4 with value: 8.426431905766032.\n",
      "[I 2024-12-11 18:02:41,139] Trial 9 finished with value: 9.839749746516887 and parameters: {'n_estimators': 376, 'max_depth': 7, 'min_samples_split': 9, 'min_samples_leaf': 10, 'max_features': None}. Best is trial 4 with value: 8.426431905766032.\n",
      "[I 2024-12-11 18:02:41,839] Trial 10 finished with value: 8.59741059901117 and parameters: {'n_estimators': 63, 'max_depth': 7, 'min_samples_split': 7, 'min_samples_leaf': 3, 'max_features': None}. Best is trial 4 with value: 8.426431905766032.\n",
      "[I 2024-12-11 18:02:42,399] Trial 11 finished with value: 8.650189136822732 and parameters: {'n_estimators': 51, 'max_depth': 7, 'min_samples_split': 7, 'min_samples_leaf': 3, 'max_features': None}. Best is trial 4 with value: 8.426431905766032.\n",
      "[I 2024-12-11 18:02:43,160] Trial 12 finished with value: 8.388562882895895 and parameters: {'n_estimators': 64, 'max_depth': 8, 'min_samples_split': 7, 'min_samples_leaf': 2, 'max_features': None}. Best is trial 12 with value: 8.388562882895895.\n",
      "[I 2024-12-11 18:02:45,178] Trial 13 finished with value: 8.17839889709813 and parameters: {'n_estimators': 166, 'max_depth': 8, 'min_samples_split': 6, 'min_samples_leaf': 1, 'max_features': None}. Best is trial 13 with value: 8.17839889709813.\n",
      "[I 2024-12-11 18:02:47,434] Trial 14 finished with value: 8.604594474035567 and parameters: {'n_estimators': 218, 'max_depth': 6, 'min_samples_split': 6, 'min_samples_leaf': 2, 'max_features': None}. Best is trial 13 with value: 8.17839889709813.\n"
     ]
    }
   ],
   "source": [
    "study_rf = optuna.create_study(direction='minimize', study_name='rf_tuning')\n",
    "study_rf.optimize(objective, n_trials=n_trials, show_progress_bar=True)"
   ]
  },
  {
   "cell_type": "code",
   "execution_count": 185,
   "id": "1cfe8881a0419f46",
   "metadata": {
    "ExecuteTime": {
     "end_time": "2024-12-11T23:02:47.595557Z",
     "start_time": "2024-12-11T23:02:47.450447Z"
    }
   },
   "outputs": [
    {
     "data": {
      "application/vnd.plotly.v1+json": {
       "config": {
        "plotlyServerURL": "https://plot.ly"
       },
       "data": [
        {
         "mode": "markers",
         "name": "Objective Value",
         "type": "scatter",
         "x": [
          0,
          1,
          2,
          3,
          4,
          5,
          6,
          7,
          8,
          9,
          10,
          11,
          12,
          13,
          14
         ],
         "y": [
          11.025425380981368,
          12.23846717582816,
          14.448448220079547,
          15.331935922632468,
          8.426431905766032,
          8.925053287045012,
          9.705230416767467,
          10.574287681259182,
          12.045945040146687,
          9.839749746516887,
          8.59741059901117,
          8.650189136822732,
          8.388562882895895,
          8.17839889709813,
          8.604594474035567
         ]
        },
        {
         "mode": "lines",
         "name": "Best Value",
         "type": "scatter",
         "x": [
          0,
          1,
          2,
          3,
          4,
          5,
          6,
          7,
          8,
          9,
          10,
          11,
          12,
          13,
          14
         ],
         "y": [
          11.025425380981368,
          11.025425380981368,
          11.025425380981368,
          11.025425380981368,
          8.426431905766032,
          8.426431905766032,
          8.426431905766032,
          8.426431905766032,
          8.426431905766032,
          8.426431905766032,
          8.426431905766032,
          8.426431905766032,
          8.388562882895895,
          8.17839889709813,
          8.17839889709813
         ]
        },
        {
         "marker": {
          "color": "#cccccc"
         },
         "mode": "markers",
         "name": "Infeasible Trial",
         "showlegend": false,
         "type": "scatter",
         "x": [],
         "y": []
        }
       ],
       "layout": {
        "template": {
         "data": {
          "bar": [
           {
            "error_x": {
             "color": "#2a3f5f"
            },
            "error_y": {
             "color": "#2a3f5f"
            },
            "marker": {
             "line": {
              "color": "#E5ECF6",
              "width": 0.5
             },
             "pattern": {
              "fillmode": "overlay",
              "size": 10,
              "solidity": 0.2
             }
            },
            "type": "bar"
           }
          ],
          "barpolar": [
           {
            "marker": {
             "line": {
              "color": "#E5ECF6",
              "width": 0.5
             },
             "pattern": {
              "fillmode": "overlay",
              "size": 10,
              "solidity": 0.2
             }
            },
            "type": "barpolar"
           }
          ],
          "carpet": [
           {
            "aaxis": {
             "endlinecolor": "#2a3f5f",
             "gridcolor": "white",
             "linecolor": "white",
             "minorgridcolor": "white",
             "startlinecolor": "#2a3f5f"
            },
            "baxis": {
             "endlinecolor": "#2a3f5f",
             "gridcolor": "white",
             "linecolor": "white",
             "minorgridcolor": "white",
             "startlinecolor": "#2a3f5f"
            },
            "type": "carpet"
           }
          ],
          "choropleth": [
           {
            "colorbar": {
             "outlinewidth": 0,
             "ticks": ""
            },
            "type": "choropleth"
           }
          ],
          "contour": [
           {
            "colorbar": {
             "outlinewidth": 0,
             "ticks": ""
            },
            "colorscale": [
             [
              0,
              "#0d0887"
             ],
             [
              0.1111111111111111,
              "#46039f"
             ],
             [
              0.2222222222222222,
              "#7201a8"
             ],
             [
              0.3333333333333333,
              "#9c179e"
             ],
             [
              0.4444444444444444,
              "#bd3786"
             ],
             [
              0.5555555555555556,
              "#d8576b"
             ],
             [
              0.6666666666666666,
              "#ed7953"
             ],
             [
              0.7777777777777778,
              "#fb9f3a"
             ],
             [
              0.8888888888888888,
              "#fdca26"
             ],
             [
              1,
              "#f0f921"
             ]
            ],
            "type": "contour"
           }
          ],
          "contourcarpet": [
           {
            "colorbar": {
             "outlinewidth": 0,
             "ticks": ""
            },
            "type": "contourcarpet"
           }
          ],
          "heatmap": [
           {
            "colorbar": {
             "outlinewidth": 0,
             "ticks": ""
            },
            "colorscale": [
             [
              0,
              "#0d0887"
             ],
             [
              0.1111111111111111,
              "#46039f"
             ],
             [
              0.2222222222222222,
              "#7201a8"
             ],
             [
              0.3333333333333333,
              "#9c179e"
             ],
             [
              0.4444444444444444,
              "#bd3786"
             ],
             [
              0.5555555555555556,
              "#d8576b"
             ],
             [
              0.6666666666666666,
              "#ed7953"
             ],
             [
              0.7777777777777778,
              "#fb9f3a"
             ],
             [
              0.8888888888888888,
              "#fdca26"
             ],
             [
              1,
              "#f0f921"
             ]
            ],
            "type": "heatmap"
           }
          ],
          "heatmapgl": [
           {
            "colorbar": {
             "outlinewidth": 0,
             "ticks": ""
            },
            "colorscale": [
             [
              0,
              "#0d0887"
             ],
             [
              0.1111111111111111,
              "#46039f"
             ],
             [
              0.2222222222222222,
              "#7201a8"
             ],
             [
              0.3333333333333333,
              "#9c179e"
             ],
             [
              0.4444444444444444,
              "#bd3786"
             ],
             [
              0.5555555555555556,
              "#d8576b"
             ],
             [
              0.6666666666666666,
              "#ed7953"
             ],
             [
              0.7777777777777778,
              "#fb9f3a"
             ],
             [
              0.8888888888888888,
              "#fdca26"
             ],
             [
              1,
              "#f0f921"
             ]
            ],
            "type": "heatmapgl"
           }
          ],
          "histogram": [
           {
            "marker": {
             "pattern": {
              "fillmode": "overlay",
              "size": 10,
              "solidity": 0.2
             }
            },
            "type": "histogram"
           }
          ],
          "histogram2d": [
           {
            "colorbar": {
             "outlinewidth": 0,
             "ticks": ""
            },
            "colorscale": [
             [
              0,
              "#0d0887"
             ],
             [
              0.1111111111111111,
              "#46039f"
             ],
             [
              0.2222222222222222,
              "#7201a8"
             ],
             [
              0.3333333333333333,
              "#9c179e"
             ],
             [
              0.4444444444444444,
              "#bd3786"
             ],
             [
              0.5555555555555556,
              "#d8576b"
             ],
             [
              0.6666666666666666,
              "#ed7953"
             ],
             [
              0.7777777777777778,
              "#fb9f3a"
             ],
             [
              0.8888888888888888,
              "#fdca26"
             ],
             [
              1,
              "#f0f921"
             ]
            ],
            "type": "histogram2d"
           }
          ],
          "histogram2dcontour": [
           {
            "colorbar": {
             "outlinewidth": 0,
             "ticks": ""
            },
            "colorscale": [
             [
              0,
              "#0d0887"
             ],
             [
              0.1111111111111111,
              "#46039f"
             ],
             [
              0.2222222222222222,
              "#7201a8"
             ],
             [
              0.3333333333333333,
              "#9c179e"
             ],
             [
              0.4444444444444444,
              "#bd3786"
             ],
             [
              0.5555555555555556,
              "#d8576b"
             ],
             [
              0.6666666666666666,
              "#ed7953"
             ],
             [
              0.7777777777777778,
              "#fb9f3a"
             ],
             [
              0.8888888888888888,
              "#fdca26"
             ],
             [
              1,
              "#f0f921"
             ]
            ],
            "type": "histogram2dcontour"
           }
          ],
          "mesh3d": [
           {
            "colorbar": {
             "outlinewidth": 0,
             "ticks": ""
            },
            "type": "mesh3d"
           }
          ],
          "parcoords": [
           {
            "line": {
             "colorbar": {
              "outlinewidth": 0,
              "ticks": ""
             }
            },
            "type": "parcoords"
           }
          ],
          "pie": [
           {
            "automargin": true,
            "type": "pie"
           }
          ],
          "scatter": [
           {
            "fillpattern": {
             "fillmode": "overlay",
             "size": 10,
             "solidity": 0.2
            },
            "type": "scatter"
           }
          ],
          "scatter3d": [
           {
            "line": {
             "colorbar": {
              "outlinewidth": 0,
              "ticks": ""
             }
            },
            "marker": {
             "colorbar": {
              "outlinewidth": 0,
              "ticks": ""
             }
            },
            "type": "scatter3d"
           }
          ],
          "scattercarpet": [
           {
            "marker": {
             "colorbar": {
              "outlinewidth": 0,
              "ticks": ""
             }
            },
            "type": "scattercarpet"
           }
          ],
          "scattergeo": [
           {
            "marker": {
             "colorbar": {
              "outlinewidth": 0,
              "ticks": ""
             }
            },
            "type": "scattergeo"
           }
          ],
          "scattergl": [
           {
            "marker": {
             "colorbar": {
              "outlinewidth": 0,
              "ticks": ""
             }
            },
            "type": "scattergl"
           }
          ],
          "scattermapbox": [
           {
            "marker": {
             "colorbar": {
              "outlinewidth": 0,
              "ticks": ""
             }
            },
            "type": "scattermapbox"
           }
          ],
          "scatterpolar": [
           {
            "marker": {
             "colorbar": {
              "outlinewidth": 0,
              "ticks": ""
             }
            },
            "type": "scatterpolar"
           }
          ],
          "scatterpolargl": [
           {
            "marker": {
             "colorbar": {
              "outlinewidth": 0,
              "ticks": ""
             }
            },
            "type": "scatterpolargl"
           }
          ],
          "scatterternary": [
           {
            "marker": {
             "colorbar": {
              "outlinewidth": 0,
              "ticks": ""
             }
            },
            "type": "scatterternary"
           }
          ],
          "surface": [
           {
            "colorbar": {
             "outlinewidth": 0,
             "ticks": ""
            },
            "colorscale": [
             [
              0,
              "#0d0887"
             ],
             [
              0.1111111111111111,
              "#46039f"
             ],
             [
              0.2222222222222222,
              "#7201a8"
             ],
             [
              0.3333333333333333,
              "#9c179e"
             ],
             [
              0.4444444444444444,
              "#bd3786"
             ],
             [
              0.5555555555555556,
              "#d8576b"
             ],
             [
              0.6666666666666666,
              "#ed7953"
             ],
             [
              0.7777777777777778,
              "#fb9f3a"
             ],
             [
              0.8888888888888888,
              "#fdca26"
             ],
             [
              1,
              "#f0f921"
             ]
            ],
            "type": "surface"
           }
          ],
          "table": [
           {
            "cells": {
             "fill": {
              "color": "#EBF0F8"
             },
             "line": {
              "color": "white"
             }
            },
            "header": {
             "fill": {
              "color": "#C8D4E3"
             },
             "line": {
              "color": "white"
             }
            },
            "type": "table"
           }
          ]
         },
         "layout": {
          "annotationdefaults": {
           "arrowcolor": "#2a3f5f",
           "arrowhead": 0,
           "arrowwidth": 1
          },
          "autotypenumbers": "strict",
          "coloraxis": {
           "colorbar": {
            "outlinewidth": 0,
            "ticks": ""
           }
          },
          "colorscale": {
           "diverging": [
            [
             0,
             "#8e0152"
            ],
            [
             0.1,
             "#c51b7d"
            ],
            [
             0.2,
             "#de77ae"
            ],
            [
             0.3,
             "#f1b6da"
            ],
            [
             0.4,
             "#fde0ef"
            ],
            [
             0.5,
             "#f7f7f7"
            ],
            [
             0.6,
             "#e6f5d0"
            ],
            [
             0.7,
             "#b8e186"
            ],
            [
             0.8,
             "#7fbc41"
            ],
            [
             0.9,
             "#4d9221"
            ],
            [
             1,
             "#276419"
            ]
           ],
           "sequential": [
            [
             0,
             "#0d0887"
            ],
            [
             0.1111111111111111,
             "#46039f"
            ],
            [
             0.2222222222222222,
             "#7201a8"
            ],
            [
             0.3333333333333333,
             "#9c179e"
            ],
            [
             0.4444444444444444,
             "#bd3786"
            ],
            [
             0.5555555555555556,
             "#d8576b"
            ],
            [
             0.6666666666666666,
             "#ed7953"
            ],
            [
             0.7777777777777778,
             "#fb9f3a"
            ],
            [
             0.8888888888888888,
             "#fdca26"
            ],
            [
             1,
             "#f0f921"
            ]
           ],
           "sequentialminus": [
            [
             0,
             "#0d0887"
            ],
            [
             0.1111111111111111,
             "#46039f"
            ],
            [
             0.2222222222222222,
             "#7201a8"
            ],
            [
             0.3333333333333333,
             "#9c179e"
            ],
            [
             0.4444444444444444,
             "#bd3786"
            ],
            [
             0.5555555555555556,
             "#d8576b"
            ],
            [
             0.6666666666666666,
             "#ed7953"
            ],
            [
             0.7777777777777778,
             "#fb9f3a"
            ],
            [
             0.8888888888888888,
             "#fdca26"
            ],
            [
             1,
             "#f0f921"
            ]
           ]
          },
          "colorway": [
           "#636efa",
           "#EF553B",
           "#00cc96",
           "#ab63fa",
           "#FFA15A",
           "#19d3f3",
           "#FF6692",
           "#B6E880",
           "#FF97FF",
           "#FECB52"
          ],
          "font": {
           "color": "#2a3f5f"
          },
          "geo": {
           "bgcolor": "white",
           "lakecolor": "white",
           "landcolor": "#E5ECF6",
           "showlakes": true,
           "showland": true,
           "subunitcolor": "white"
          },
          "hoverlabel": {
           "align": "left"
          },
          "hovermode": "closest",
          "mapbox": {
           "style": "light"
          },
          "paper_bgcolor": "white",
          "plot_bgcolor": "#E5ECF6",
          "polar": {
           "angularaxis": {
            "gridcolor": "white",
            "linecolor": "white",
            "ticks": ""
           },
           "bgcolor": "#E5ECF6",
           "radialaxis": {
            "gridcolor": "white",
            "linecolor": "white",
            "ticks": ""
           }
          },
          "scene": {
           "xaxis": {
            "backgroundcolor": "#E5ECF6",
            "gridcolor": "white",
            "gridwidth": 2,
            "linecolor": "white",
            "showbackground": true,
            "ticks": "",
            "zerolinecolor": "white"
           },
           "yaxis": {
            "backgroundcolor": "#E5ECF6",
            "gridcolor": "white",
            "gridwidth": 2,
            "linecolor": "white",
            "showbackground": true,
            "ticks": "",
            "zerolinecolor": "white"
           },
           "zaxis": {
            "backgroundcolor": "#E5ECF6",
            "gridcolor": "white",
            "gridwidth": 2,
            "linecolor": "white",
            "showbackground": true,
            "ticks": "",
            "zerolinecolor": "white"
           }
          },
          "shapedefaults": {
           "line": {
            "color": "#2a3f5f"
           }
          },
          "ternary": {
           "aaxis": {
            "gridcolor": "white",
            "linecolor": "white",
            "ticks": ""
           },
           "baxis": {
            "gridcolor": "white",
            "linecolor": "white",
            "ticks": ""
           },
           "bgcolor": "#E5ECF6",
           "caxis": {
            "gridcolor": "white",
            "linecolor": "white",
            "ticks": ""
           }
          },
          "title": {
           "x": 0.05
          },
          "xaxis": {
           "automargin": true,
           "gridcolor": "white",
           "linecolor": "white",
           "ticks": "",
           "title": {
            "standoff": 15
           },
           "zerolinecolor": "white",
           "zerolinewidth": 2
          },
          "yaxis": {
           "automargin": true,
           "gridcolor": "white",
           "linecolor": "white",
           "ticks": "",
           "title": {
            "standoff": 15
           },
           "zerolinecolor": "white",
           "zerolinewidth": 2
          }
         }
        },
        "title": {
         "text": "Optimization History Plot"
        },
        "xaxis": {
         "title": {
          "text": "Trial"
         }
        },
        "yaxis": {
         "title": {
          "text": "Objective Value"
         }
        }
       }
      },
      "text/html": [
       "<div>                            <div id=\"2e5e45d1-b731-4994-93c5-d64098793f1a\" class=\"plotly-graph-div\" style=\"height:525px; width:100%;\"></div>            <script type=\"text/javascript\">                require([\"plotly\"], function(Plotly) {                    window.PLOTLYENV=window.PLOTLYENV || {};                                    if (document.getElementById(\"2e5e45d1-b731-4994-93c5-d64098793f1a\")) {                    Plotly.newPlot(                        \"2e5e45d1-b731-4994-93c5-d64098793f1a\",                        [{\"mode\":\"markers\",\"name\":\"Objective Value\",\"x\":[0,1,2,3,4,5,6,7,8,9,10,11,12,13,14],\"y\":[11.025425380981368,12.23846717582816,14.448448220079547,15.331935922632468,8.426431905766032,8.925053287045012,9.705230416767467,10.574287681259182,12.045945040146687,9.839749746516887,8.59741059901117,8.650189136822732,8.388562882895895,8.17839889709813,8.604594474035567],\"type\":\"scatter\"},{\"mode\":\"lines\",\"name\":\"Best Value\",\"x\":[0,1,2,3,4,5,6,7,8,9,10,11,12,13,14],\"y\":[11.025425380981368,11.025425380981368,11.025425380981368,11.025425380981368,8.426431905766032,8.426431905766032,8.426431905766032,8.426431905766032,8.426431905766032,8.426431905766032,8.426431905766032,8.426431905766032,8.388562882895895,8.17839889709813,8.17839889709813],\"type\":\"scatter\"},{\"marker\":{\"color\":\"#cccccc\"},\"mode\":\"markers\",\"name\":\"Infeasible Trial\",\"showlegend\":false,\"x\":[],\"y\":[],\"type\":\"scatter\"}],                        {\"title\":{\"text\":\"Optimization History Plot\"},\"xaxis\":{\"title\":{\"text\":\"Trial\"}},\"yaxis\":{\"title\":{\"text\":\"Objective Value\"}},\"template\":{\"data\":{\"histogram2dcontour\":[{\"type\":\"histogram2dcontour\",\"colorbar\":{\"outlinewidth\":0,\"ticks\":\"\"},\"colorscale\":[[0.0,\"#0d0887\"],[0.1111111111111111,\"#46039f\"],[0.2222222222222222,\"#7201a8\"],[0.3333333333333333,\"#9c179e\"],[0.4444444444444444,\"#bd3786\"],[0.5555555555555556,\"#d8576b\"],[0.6666666666666666,\"#ed7953\"],[0.7777777777777778,\"#fb9f3a\"],[0.8888888888888888,\"#fdca26\"],[1.0,\"#f0f921\"]]}],\"choropleth\":[{\"type\":\"choropleth\",\"colorbar\":{\"outlinewidth\":0,\"ticks\":\"\"}}],\"histogram2d\":[{\"type\":\"histogram2d\",\"colorbar\":{\"outlinewidth\":0,\"ticks\":\"\"},\"colorscale\":[[0.0,\"#0d0887\"],[0.1111111111111111,\"#46039f\"],[0.2222222222222222,\"#7201a8\"],[0.3333333333333333,\"#9c179e\"],[0.4444444444444444,\"#bd3786\"],[0.5555555555555556,\"#d8576b\"],[0.6666666666666666,\"#ed7953\"],[0.7777777777777778,\"#fb9f3a\"],[0.8888888888888888,\"#fdca26\"],[1.0,\"#f0f921\"]]}],\"heatmap\":[{\"type\":\"heatmap\",\"colorbar\":{\"outlinewidth\":0,\"ticks\":\"\"},\"colorscale\":[[0.0,\"#0d0887\"],[0.1111111111111111,\"#46039f\"],[0.2222222222222222,\"#7201a8\"],[0.3333333333333333,\"#9c179e\"],[0.4444444444444444,\"#bd3786\"],[0.5555555555555556,\"#d8576b\"],[0.6666666666666666,\"#ed7953\"],[0.7777777777777778,\"#fb9f3a\"],[0.8888888888888888,\"#fdca26\"],[1.0,\"#f0f921\"]]}],\"heatmapgl\":[{\"type\":\"heatmapgl\",\"colorbar\":{\"outlinewidth\":0,\"ticks\":\"\"},\"colorscale\":[[0.0,\"#0d0887\"],[0.1111111111111111,\"#46039f\"],[0.2222222222222222,\"#7201a8\"],[0.3333333333333333,\"#9c179e\"],[0.4444444444444444,\"#bd3786\"],[0.5555555555555556,\"#d8576b\"],[0.6666666666666666,\"#ed7953\"],[0.7777777777777778,\"#fb9f3a\"],[0.8888888888888888,\"#fdca26\"],[1.0,\"#f0f921\"]]}],\"contourcarpet\":[{\"type\":\"contourcarpet\",\"colorbar\":{\"outlinewidth\":0,\"ticks\":\"\"}}],\"contour\":[{\"type\":\"contour\",\"colorbar\":{\"outlinewidth\":0,\"ticks\":\"\"},\"colorscale\":[[0.0,\"#0d0887\"],[0.1111111111111111,\"#46039f\"],[0.2222222222222222,\"#7201a8\"],[0.3333333333333333,\"#9c179e\"],[0.4444444444444444,\"#bd3786\"],[0.5555555555555556,\"#d8576b\"],[0.6666666666666666,\"#ed7953\"],[0.7777777777777778,\"#fb9f3a\"],[0.8888888888888888,\"#fdca26\"],[1.0,\"#f0f921\"]]}],\"surface\":[{\"type\":\"surface\",\"colorbar\":{\"outlinewidth\":0,\"ticks\":\"\"},\"colorscale\":[[0.0,\"#0d0887\"],[0.1111111111111111,\"#46039f\"],[0.2222222222222222,\"#7201a8\"],[0.3333333333333333,\"#9c179e\"],[0.4444444444444444,\"#bd3786\"],[0.5555555555555556,\"#d8576b\"],[0.6666666666666666,\"#ed7953\"],[0.7777777777777778,\"#fb9f3a\"],[0.8888888888888888,\"#fdca26\"],[1.0,\"#f0f921\"]]}],\"mesh3d\":[{\"type\":\"mesh3d\",\"colorbar\":{\"outlinewidth\":0,\"ticks\":\"\"}}],\"scatter\":[{\"fillpattern\":{\"fillmode\":\"overlay\",\"size\":10,\"solidity\":0.2},\"type\":\"scatter\"}],\"parcoords\":[{\"type\":\"parcoords\",\"line\":{\"colorbar\":{\"outlinewidth\":0,\"ticks\":\"\"}}}],\"scatterpolargl\":[{\"type\":\"scatterpolargl\",\"marker\":{\"colorbar\":{\"outlinewidth\":0,\"ticks\":\"\"}}}],\"bar\":[{\"error_x\":{\"color\":\"#2a3f5f\"},\"error_y\":{\"color\":\"#2a3f5f\"},\"marker\":{\"line\":{\"color\":\"#E5ECF6\",\"width\":0.5},\"pattern\":{\"fillmode\":\"overlay\",\"size\":10,\"solidity\":0.2}},\"type\":\"bar\"}],\"scattergeo\":[{\"type\":\"scattergeo\",\"marker\":{\"colorbar\":{\"outlinewidth\":0,\"ticks\":\"\"}}}],\"scatterpolar\":[{\"type\":\"scatterpolar\",\"marker\":{\"colorbar\":{\"outlinewidth\":0,\"ticks\":\"\"}}}],\"histogram\":[{\"marker\":{\"pattern\":{\"fillmode\":\"overlay\",\"size\":10,\"solidity\":0.2}},\"type\":\"histogram\"}],\"scattergl\":[{\"type\":\"scattergl\",\"marker\":{\"colorbar\":{\"outlinewidth\":0,\"ticks\":\"\"}}}],\"scatter3d\":[{\"type\":\"scatter3d\",\"line\":{\"colorbar\":{\"outlinewidth\":0,\"ticks\":\"\"}},\"marker\":{\"colorbar\":{\"outlinewidth\":0,\"ticks\":\"\"}}}],\"scattermapbox\":[{\"type\":\"scattermapbox\",\"marker\":{\"colorbar\":{\"outlinewidth\":0,\"ticks\":\"\"}}}],\"scatterternary\":[{\"type\":\"scatterternary\",\"marker\":{\"colorbar\":{\"outlinewidth\":0,\"ticks\":\"\"}}}],\"scattercarpet\":[{\"type\":\"scattercarpet\",\"marker\":{\"colorbar\":{\"outlinewidth\":0,\"ticks\":\"\"}}}],\"carpet\":[{\"aaxis\":{\"endlinecolor\":\"#2a3f5f\",\"gridcolor\":\"white\",\"linecolor\":\"white\",\"minorgridcolor\":\"white\",\"startlinecolor\":\"#2a3f5f\"},\"baxis\":{\"endlinecolor\":\"#2a3f5f\",\"gridcolor\":\"white\",\"linecolor\":\"white\",\"minorgridcolor\":\"white\",\"startlinecolor\":\"#2a3f5f\"},\"type\":\"carpet\"}],\"table\":[{\"cells\":{\"fill\":{\"color\":\"#EBF0F8\"},\"line\":{\"color\":\"white\"}},\"header\":{\"fill\":{\"color\":\"#C8D4E3\"},\"line\":{\"color\":\"white\"}},\"type\":\"table\"}],\"barpolar\":[{\"marker\":{\"line\":{\"color\":\"#E5ECF6\",\"width\":0.5},\"pattern\":{\"fillmode\":\"overlay\",\"size\":10,\"solidity\":0.2}},\"type\":\"barpolar\"}],\"pie\":[{\"automargin\":true,\"type\":\"pie\"}]},\"layout\":{\"autotypenumbers\":\"strict\",\"colorway\":[\"#636efa\",\"#EF553B\",\"#00cc96\",\"#ab63fa\",\"#FFA15A\",\"#19d3f3\",\"#FF6692\",\"#B6E880\",\"#FF97FF\",\"#FECB52\"],\"font\":{\"color\":\"#2a3f5f\"},\"hovermode\":\"closest\",\"hoverlabel\":{\"align\":\"left\"},\"paper_bgcolor\":\"white\",\"plot_bgcolor\":\"#E5ECF6\",\"polar\":{\"bgcolor\":\"#E5ECF6\",\"angularaxis\":{\"gridcolor\":\"white\",\"linecolor\":\"white\",\"ticks\":\"\"},\"radialaxis\":{\"gridcolor\":\"white\",\"linecolor\":\"white\",\"ticks\":\"\"}},\"ternary\":{\"bgcolor\":\"#E5ECF6\",\"aaxis\":{\"gridcolor\":\"white\",\"linecolor\":\"white\",\"ticks\":\"\"},\"baxis\":{\"gridcolor\":\"white\",\"linecolor\":\"white\",\"ticks\":\"\"},\"caxis\":{\"gridcolor\":\"white\",\"linecolor\":\"white\",\"ticks\":\"\"}},\"coloraxis\":{\"colorbar\":{\"outlinewidth\":0,\"ticks\":\"\"}},\"colorscale\":{\"sequential\":[[0.0,\"#0d0887\"],[0.1111111111111111,\"#46039f\"],[0.2222222222222222,\"#7201a8\"],[0.3333333333333333,\"#9c179e\"],[0.4444444444444444,\"#bd3786\"],[0.5555555555555556,\"#d8576b\"],[0.6666666666666666,\"#ed7953\"],[0.7777777777777778,\"#fb9f3a\"],[0.8888888888888888,\"#fdca26\"],[1.0,\"#f0f921\"]],\"sequentialminus\":[[0.0,\"#0d0887\"],[0.1111111111111111,\"#46039f\"],[0.2222222222222222,\"#7201a8\"],[0.3333333333333333,\"#9c179e\"],[0.4444444444444444,\"#bd3786\"],[0.5555555555555556,\"#d8576b\"],[0.6666666666666666,\"#ed7953\"],[0.7777777777777778,\"#fb9f3a\"],[0.8888888888888888,\"#fdca26\"],[1.0,\"#f0f921\"]],\"diverging\":[[0,\"#8e0152\"],[0.1,\"#c51b7d\"],[0.2,\"#de77ae\"],[0.3,\"#f1b6da\"],[0.4,\"#fde0ef\"],[0.5,\"#f7f7f7\"],[0.6,\"#e6f5d0\"],[0.7,\"#b8e186\"],[0.8,\"#7fbc41\"],[0.9,\"#4d9221\"],[1,\"#276419\"]]},\"xaxis\":{\"gridcolor\":\"white\",\"linecolor\":\"white\",\"ticks\":\"\",\"title\":{\"standoff\":15},\"zerolinecolor\":\"white\",\"automargin\":true,\"zerolinewidth\":2},\"yaxis\":{\"gridcolor\":\"white\",\"linecolor\":\"white\",\"ticks\":\"\",\"title\":{\"standoff\":15},\"zerolinecolor\":\"white\",\"automargin\":true,\"zerolinewidth\":2},\"scene\":{\"xaxis\":{\"backgroundcolor\":\"#E5ECF6\",\"gridcolor\":\"white\",\"linecolor\":\"white\",\"showbackground\":true,\"ticks\":\"\",\"zerolinecolor\":\"white\",\"gridwidth\":2},\"yaxis\":{\"backgroundcolor\":\"#E5ECF6\",\"gridcolor\":\"white\",\"linecolor\":\"white\",\"showbackground\":true,\"ticks\":\"\",\"zerolinecolor\":\"white\",\"gridwidth\":2},\"zaxis\":{\"backgroundcolor\":\"#E5ECF6\",\"gridcolor\":\"white\",\"linecolor\":\"white\",\"showbackground\":true,\"ticks\":\"\",\"zerolinecolor\":\"white\",\"gridwidth\":2}},\"shapedefaults\":{\"line\":{\"color\":\"#2a3f5f\"}},\"annotationdefaults\":{\"arrowcolor\":\"#2a3f5f\",\"arrowhead\":0,\"arrowwidth\":1},\"geo\":{\"bgcolor\":\"white\",\"landcolor\":\"#E5ECF6\",\"subunitcolor\":\"white\",\"showland\":true,\"showlakes\":true,\"lakecolor\":\"white\"},\"title\":{\"x\":0.05},\"mapbox\":{\"style\":\"light\"}}}},                        {\"responsive\": true}                    ).then(function(){\n",
       "                            \n",
       "var gd = document.getElementById('2e5e45d1-b731-4994-93c5-d64098793f1a');\n",
       "var x = new MutationObserver(function (mutations, observer) {{\n",
       "        var display = window.getComputedStyle(gd).display;\n",
       "        if (!display || display === 'none') {{\n",
       "            console.log([gd, 'removed!']);\n",
       "            Plotly.purge(gd);\n",
       "            observer.disconnect();\n",
       "        }}\n",
       "}});\n",
       "\n",
       "// Listen for the removal of the full notebook cells\n",
       "var notebookContainer = gd.closest('#notebook-container');\n",
       "if (notebookContainer) {{\n",
       "    x.observe(notebookContainer, {childList: true});\n",
       "}}\n",
       "\n",
       "// Listen for the clearing of the current output cell\n",
       "var outputEl = gd.closest('.output');\n",
       "if (outputEl) {{\n",
       "    x.observe(outputEl, {childList: true});\n",
       "}}\n",
       "\n",
       "                        })                };                });            </script>        </div>"
      ]
     },
     "metadata": {},
     "output_type": "display_data"
    },
    {
     "data": {
      "application/vnd.plotly.v1+json": {
       "config": {
        "plotlyServerURL": "https://plot.ly"
       },
       "data": [
        {
         "cliponaxis": false,
         "hovertemplate": [
          "min_samples_leaf (IntDistribution): 0.018720314221195057<extra></extra>",
          "min_samples_split (IntDistribution): 0.04058408630795595<extra></extra>",
          "n_estimators (IntDistribution): 0.06135789767582561<extra></extra>",
          "max_features (CategoricalDistribution): 0.20606928238178973<extra></extra>",
          "max_depth (IntDistribution): 0.6732684194132336<extra></extra>"
         ],
         "name": "Objective Value",
         "orientation": "h",
         "text": [
          "0.02",
          "0.04",
          "0.06",
          "0.21",
          "0.67"
         ],
         "textposition": "outside",
         "type": "bar",
         "x": [
          0.018720314221195057,
          0.04058408630795595,
          0.06135789767582561,
          0.20606928238178973,
          0.6732684194132336
         ],
         "y": [
          "min_samples_leaf",
          "min_samples_split",
          "n_estimators",
          "max_features",
          "max_depth"
         ]
        }
       ],
       "layout": {
        "template": {
         "data": {
          "bar": [
           {
            "error_x": {
             "color": "#2a3f5f"
            },
            "error_y": {
             "color": "#2a3f5f"
            },
            "marker": {
             "line": {
              "color": "#E5ECF6",
              "width": 0.5
             },
             "pattern": {
              "fillmode": "overlay",
              "size": 10,
              "solidity": 0.2
             }
            },
            "type": "bar"
           }
          ],
          "barpolar": [
           {
            "marker": {
             "line": {
              "color": "#E5ECF6",
              "width": 0.5
             },
             "pattern": {
              "fillmode": "overlay",
              "size": 10,
              "solidity": 0.2
             }
            },
            "type": "barpolar"
           }
          ],
          "carpet": [
           {
            "aaxis": {
             "endlinecolor": "#2a3f5f",
             "gridcolor": "white",
             "linecolor": "white",
             "minorgridcolor": "white",
             "startlinecolor": "#2a3f5f"
            },
            "baxis": {
             "endlinecolor": "#2a3f5f",
             "gridcolor": "white",
             "linecolor": "white",
             "minorgridcolor": "white",
             "startlinecolor": "#2a3f5f"
            },
            "type": "carpet"
           }
          ],
          "choropleth": [
           {
            "colorbar": {
             "outlinewidth": 0,
             "ticks": ""
            },
            "type": "choropleth"
           }
          ],
          "contour": [
           {
            "colorbar": {
             "outlinewidth": 0,
             "ticks": ""
            },
            "colorscale": [
             [
              0,
              "#0d0887"
             ],
             [
              0.1111111111111111,
              "#46039f"
             ],
             [
              0.2222222222222222,
              "#7201a8"
             ],
             [
              0.3333333333333333,
              "#9c179e"
             ],
             [
              0.4444444444444444,
              "#bd3786"
             ],
             [
              0.5555555555555556,
              "#d8576b"
             ],
             [
              0.6666666666666666,
              "#ed7953"
             ],
             [
              0.7777777777777778,
              "#fb9f3a"
             ],
             [
              0.8888888888888888,
              "#fdca26"
             ],
             [
              1,
              "#f0f921"
             ]
            ],
            "type": "contour"
           }
          ],
          "contourcarpet": [
           {
            "colorbar": {
             "outlinewidth": 0,
             "ticks": ""
            },
            "type": "contourcarpet"
           }
          ],
          "heatmap": [
           {
            "colorbar": {
             "outlinewidth": 0,
             "ticks": ""
            },
            "colorscale": [
             [
              0,
              "#0d0887"
             ],
             [
              0.1111111111111111,
              "#46039f"
             ],
             [
              0.2222222222222222,
              "#7201a8"
             ],
             [
              0.3333333333333333,
              "#9c179e"
             ],
             [
              0.4444444444444444,
              "#bd3786"
             ],
             [
              0.5555555555555556,
              "#d8576b"
             ],
             [
              0.6666666666666666,
              "#ed7953"
             ],
             [
              0.7777777777777778,
              "#fb9f3a"
             ],
             [
              0.8888888888888888,
              "#fdca26"
             ],
             [
              1,
              "#f0f921"
             ]
            ],
            "type": "heatmap"
           }
          ],
          "heatmapgl": [
           {
            "colorbar": {
             "outlinewidth": 0,
             "ticks": ""
            },
            "colorscale": [
             [
              0,
              "#0d0887"
             ],
             [
              0.1111111111111111,
              "#46039f"
             ],
             [
              0.2222222222222222,
              "#7201a8"
             ],
             [
              0.3333333333333333,
              "#9c179e"
             ],
             [
              0.4444444444444444,
              "#bd3786"
             ],
             [
              0.5555555555555556,
              "#d8576b"
             ],
             [
              0.6666666666666666,
              "#ed7953"
             ],
             [
              0.7777777777777778,
              "#fb9f3a"
             ],
             [
              0.8888888888888888,
              "#fdca26"
             ],
             [
              1,
              "#f0f921"
             ]
            ],
            "type": "heatmapgl"
           }
          ],
          "histogram": [
           {
            "marker": {
             "pattern": {
              "fillmode": "overlay",
              "size": 10,
              "solidity": 0.2
             }
            },
            "type": "histogram"
           }
          ],
          "histogram2d": [
           {
            "colorbar": {
             "outlinewidth": 0,
             "ticks": ""
            },
            "colorscale": [
             [
              0,
              "#0d0887"
             ],
             [
              0.1111111111111111,
              "#46039f"
             ],
             [
              0.2222222222222222,
              "#7201a8"
             ],
             [
              0.3333333333333333,
              "#9c179e"
             ],
             [
              0.4444444444444444,
              "#bd3786"
             ],
             [
              0.5555555555555556,
              "#d8576b"
             ],
             [
              0.6666666666666666,
              "#ed7953"
             ],
             [
              0.7777777777777778,
              "#fb9f3a"
             ],
             [
              0.8888888888888888,
              "#fdca26"
             ],
             [
              1,
              "#f0f921"
             ]
            ],
            "type": "histogram2d"
           }
          ],
          "histogram2dcontour": [
           {
            "colorbar": {
             "outlinewidth": 0,
             "ticks": ""
            },
            "colorscale": [
             [
              0,
              "#0d0887"
             ],
             [
              0.1111111111111111,
              "#46039f"
             ],
             [
              0.2222222222222222,
              "#7201a8"
             ],
             [
              0.3333333333333333,
              "#9c179e"
             ],
             [
              0.4444444444444444,
              "#bd3786"
             ],
             [
              0.5555555555555556,
              "#d8576b"
             ],
             [
              0.6666666666666666,
              "#ed7953"
             ],
             [
              0.7777777777777778,
              "#fb9f3a"
             ],
             [
              0.8888888888888888,
              "#fdca26"
             ],
             [
              1,
              "#f0f921"
             ]
            ],
            "type": "histogram2dcontour"
           }
          ],
          "mesh3d": [
           {
            "colorbar": {
             "outlinewidth": 0,
             "ticks": ""
            },
            "type": "mesh3d"
           }
          ],
          "parcoords": [
           {
            "line": {
             "colorbar": {
              "outlinewidth": 0,
              "ticks": ""
             }
            },
            "type": "parcoords"
           }
          ],
          "pie": [
           {
            "automargin": true,
            "type": "pie"
           }
          ],
          "scatter": [
           {
            "fillpattern": {
             "fillmode": "overlay",
             "size": 10,
             "solidity": 0.2
            },
            "type": "scatter"
           }
          ],
          "scatter3d": [
           {
            "line": {
             "colorbar": {
              "outlinewidth": 0,
              "ticks": ""
             }
            },
            "marker": {
             "colorbar": {
              "outlinewidth": 0,
              "ticks": ""
             }
            },
            "type": "scatter3d"
           }
          ],
          "scattercarpet": [
           {
            "marker": {
             "colorbar": {
              "outlinewidth": 0,
              "ticks": ""
             }
            },
            "type": "scattercarpet"
           }
          ],
          "scattergeo": [
           {
            "marker": {
             "colorbar": {
              "outlinewidth": 0,
              "ticks": ""
             }
            },
            "type": "scattergeo"
           }
          ],
          "scattergl": [
           {
            "marker": {
             "colorbar": {
              "outlinewidth": 0,
              "ticks": ""
             }
            },
            "type": "scattergl"
           }
          ],
          "scattermapbox": [
           {
            "marker": {
             "colorbar": {
              "outlinewidth": 0,
              "ticks": ""
             }
            },
            "type": "scattermapbox"
           }
          ],
          "scatterpolar": [
           {
            "marker": {
             "colorbar": {
              "outlinewidth": 0,
              "ticks": ""
             }
            },
            "type": "scatterpolar"
           }
          ],
          "scatterpolargl": [
           {
            "marker": {
             "colorbar": {
              "outlinewidth": 0,
              "ticks": ""
             }
            },
            "type": "scatterpolargl"
           }
          ],
          "scatterternary": [
           {
            "marker": {
             "colorbar": {
              "outlinewidth": 0,
              "ticks": ""
             }
            },
            "type": "scatterternary"
           }
          ],
          "surface": [
           {
            "colorbar": {
             "outlinewidth": 0,
             "ticks": ""
            },
            "colorscale": [
             [
              0,
              "#0d0887"
             ],
             [
              0.1111111111111111,
              "#46039f"
             ],
             [
              0.2222222222222222,
              "#7201a8"
             ],
             [
              0.3333333333333333,
              "#9c179e"
             ],
             [
              0.4444444444444444,
              "#bd3786"
             ],
             [
              0.5555555555555556,
              "#d8576b"
             ],
             [
              0.6666666666666666,
              "#ed7953"
             ],
             [
              0.7777777777777778,
              "#fb9f3a"
             ],
             [
              0.8888888888888888,
              "#fdca26"
             ],
             [
              1,
              "#f0f921"
             ]
            ],
            "type": "surface"
           }
          ],
          "table": [
           {
            "cells": {
             "fill": {
              "color": "#EBF0F8"
             },
             "line": {
              "color": "white"
             }
            },
            "header": {
             "fill": {
              "color": "#C8D4E3"
             },
             "line": {
              "color": "white"
             }
            },
            "type": "table"
           }
          ]
         },
         "layout": {
          "annotationdefaults": {
           "arrowcolor": "#2a3f5f",
           "arrowhead": 0,
           "arrowwidth": 1
          },
          "autotypenumbers": "strict",
          "coloraxis": {
           "colorbar": {
            "outlinewidth": 0,
            "ticks": ""
           }
          },
          "colorscale": {
           "diverging": [
            [
             0,
             "#8e0152"
            ],
            [
             0.1,
             "#c51b7d"
            ],
            [
             0.2,
             "#de77ae"
            ],
            [
             0.3,
             "#f1b6da"
            ],
            [
             0.4,
             "#fde0ef"
            ],
            [
             0.5,
             "#f7f7f7"
            ],
            [
             0.6,
             "#e6f5d0"
            ],
            [
             0.7,
             "#b8e186"
            ],
            [
             0.8,
             "#7fbc41"
            ],
            [
             0.9,
             "#4d9221"
            ],
            [
             1,
             "#276419"
            ]
           ],
           "sequential": [
            [
             0,
             "#0d0887"
            ],
            [
             0.1111111111111111,
             "#46039f"
            ],
            [
             0.2222222222222222,
             "#7201a8"
            ],
            [
             0.3333333333333333,
             "#9c179e"
            ],
            [
             0.4444444444444444,
             "#bd3786"
            ],
            [
             0.5555555555555556,
             "#d8576b"
            ],
            [
             0.6666666666666666,
             "#ed7953"
            ],
            [
             0.7777777777777778,
             "#fb9f3a"
            ],
            [
             0.8888888888888888,
             "#fdca26"
            ],
            [
             1,
             "#f0f921"
            ]
           ],
           "sequentialminus": [
            [
             0,
             "#0d0887"
            ],
            [
             0.1111111111111111,
             "#46039f"
            ],
            [
             0.2222222222222222,
             "#7201a8"
            ],
            [
             0.3333333333333333,
             "#9c179e"
            ],
            [
             0.4444444444444444,
             "#bd3786"
            ],
            [
             0.5555555555555556,
             "#d8576b"
            ],
            [
             0.6666666666666666,
             "#ed7953"
            ],
            [
             0.7777777777777778,
             "#fb9f3a"
            ],
            [
             0.8888888888888888,
             "#fdca26"
            ],
            [
             1,
             "#f0f921"
            ]
           ]
          },
          "colorway": [
           "#636efa",
           "#EF553B",
           "#00cc96",
           "#ab63fa",
           "#FFA15A",
           "#19d3f3",
           "#FF6692",
           "#B6E880",
           "#FF97FF",
           "#FECB52"
          ],
          "font": {
           "color": "#2a3f5f"
          },
          "geo": {
           "bgcolor": "white",
           "lakecolor": "white",
           "landcolor": "#E5ECF6",
           "showlakes": true,
           "showland": true,
           "subunitcolor": "white"
          },
          "hoverlabel": {
           "align": "left"
          },
          "hovermode": "closest",
          "mapbox": {
           "style": "light"
          },
          "paper_bgcolor": "white",
          "plot_bgcolor": "#E5ECF6",
          "polar": {
           "angularaxis": {
            "gridcolor": "white",
            "linecolor": "white",
            "ticks": ""
           },
           "bgcolor": "#E5ECF6",
           "radialaxis": {
            "gridcolor": "white",
            "linecolor": "white",
            "ticks": ""
           }
          },
          "scene": {
           "xaxis": {
            "backgroundcolor": "#E5ECF6",
            "gridcolor": "white",
            "gridwidth": 2,
            "linecolor": "white",
            "showbackground": true,
            "ticks": "",
            "zerolinecolor": "white"
           },
           "yaxis": {
            "backgroundcolor": "#E5ECF6",
            "gridcolor": "white",
            "gridwidth": 2,
            "linecolor": "white",
            "showbackground": true,
            "ticks": "",
            "zerolinecolor": "white"
           },
           "zaxis": {
            "backgroundcolor": "#E5ECF6",
            "gridcolor": "white",
            "gridwidth": 2,
            "linecolor": "white",
            "showbackground": true,
            "ticks": "",
            "zerolinecolor": "white"
           }
          },
          "shapedefaults": {
           "line": {
            "color": "#2a3f5f"
           }
          },
          "ternary": {
           "aaxis": {
            "gridcolor": "white",
            "linecolor": "white",
            "ticks": ""
           },
           "baxis": {
            "gridcolor": "white",
            "linecolor": "white",
            "ticks": ""
           },
           "bgcolor": "#E5ECF6",
           "caxis": {
            "gridcolor": "white",
            "linecolor": "white",
            "ticks": ""
           }
          },
          "title": {
           "x": 0.05
          },
          "xaxis": {
           "automargin": true,
           "gridcolor": "white",
           "linecolor": "white",
           "ticks": "",
           "title": {
            "standoff": 15
           },
           "zerolinecolor": "white",
           "zerolinewidth": 2
          },
          "yaxis": {
           "automargin": true,
           "gridcolor": "white",
           "linecolor": "white",
           "ticks": "",
           "title": {
            "standoff": 15
           },
           "zerolinecolor": "white",
           "zerolinewidth": 2
          }
         }
        },
        "title": {
         "text": "Hyperparameter Importances"
        },
        "xaxis": {
         "title": {
          "text": "Hyperparameter Importance"
         }
        },
        "yaxis": {
         "title": {
          "text": "Hyperparameter"
         }
        }
       }
      },
      "text/html": [
       "<div>                            <div id=\"a402a52b-1d08-49fd-a2d7-f3df8330ba8a\" class=\"plotly-graph-div\" style=\"height:525px; width:100%;\"></div>            <script type=\"text/javascript\">                require([\"plotly\"], function(Plotly) {                    window.PLOTLYENV=window.PLOTLYENV || {};                                    if (document.getElementById(\"a402a52b-1d08-49fd-a2d7-f3df8330ba8a\")) {                    Plotly.newPlot(                        \"a402a52b-1d08-49fd-a2d7-f3df8330ba8a\",                        [{\"cliponaxis\":false,\"hovertemplate\":[\"min_samples_leaf (IntDistribution): 0.018720314221195057\\u003cextra\\u003e\\u003c\\u002fextra\\u003e\",\"min_samples_split (IntDistribution): 0.04058408630795595\\u003cextra\\u003e\\u003c\\u002fextra\\u003e\",\"n_estimators (IntDistribution): 0.06135789767582561\\u003cextra\\u003e\\u003c\\u002fextra\\u003e\",\"max_features (CategoricalDistribution): 0.20606928238178973\\u003cextra\\u003e\\u003c\\u002fextra\\u003e\",\"max_depth (IntDistribution): 0.6732684194132336\\u003cextra\\u003e\\u003c\\u002fextra\\u003e\"],\"name\":\"Objective Value\",\"orientation\":\"h\",\"text\":[\"0.02\",\"0.04\",\"0.06\",\"0.21\",\"0.67\"],\"textposition\":\"outside\",\"x\":[0.018720314221195057,0.04058408630795595,0.06135789767582561,0.20606928238178973,0.6732684194132336],\"y\":[\"min_samples_leaf\",\"min_samples_split\",\"n_estimators\",\"max_features\",\"max_depth\"],\"type\":\"bar\"}],                        {\"title\":{\"text\":\"Hyperparameter Importances\"},\"xaxis\":{\"title\":{\"text\":\"Hyperparameter Importance\"}},\"yaxis\":{\"title\":{\"text\":\"Hyperparameter\"}},\"template\":{\"data\":{\"histogram2dcontour\":[{\"type\":\"histogram2dcontour\",\"colorbar\":{\"outlinewidth\":0,\"ticks\":\"\"},\"colorscale\":[[0.0,\"#0d0887\"],[0.1111111111111111,\"#46039f\"],[0.2222222222222222,\"#7201a8\"],[0.3333333333333333,\"#9c179e\"],[0.4444444444444444,\"#bd3786\"],[0.5555555555555556,\"#d8576b\"],[0.6666666666666666,\"#ed7953\"],[0.7777777777777778,\"#fb9f3a\"],[0.8888888888888888,\"#fdca26\"],[1.0,\"#f0f921\"]]}],\"choropleth\":[{\"type\":\"choropleth\",\"colorbar\":{\"outlinewidth\":0,\"ticks\":\"\"}}],\"histogram2d\":[{\"type\":\"histogram2d\",\"colorbar\":{\"outlinewidth\":0,\"ticks\":\"\"},\"colorscale\":[[0.0,\"#0d0887\"],[0.1111111111111111,\"#46039f\"],[0.2222222222222222,\"#7201a8\"],[0.3333333333333333,\"#9c179e\"],[0.4444444444444444,\"#bd3786\"],[0.5555555555555556,\"#d8576b\"],[0.6666666666666666,\"#ed7953\"],[0.7777777777777778,\"#fb9f3a\"],[0.8888888888888888,\"#fdca26\"],[1.0,\"#f0f921\"]]}],\"heatmap\":[{\"type\":\"heatmap\",\"colorbar\":{\"outlinewidth\":0,\"ticks\":\"\"},\"colorscale\":[[0.0,\"#0d0887\"],[0.1111111111111111,\"#46039f\"],[0.2222222222222222,\"#7201a8\"],[0.3333333333333333,\"#9c179e\"],[0.4444444444444444,\"#bd3786\"],[0.5555555555555556,\"#d8576b\"],[0.6666666666666666,\"#ed7953\"],[0.7777777777777778,\"#fb9f3a\"],[0.8888888888888888,\"#fdca26\"],[1.0,\"#f0f921\"]]}],\"heatmapgl\":[{\"type\":\"heatmapgl\",\"colorbar\":{\"outlinewidth\":0,\"ticks\":\"\"},\"colorscale\":[[0.0,\"#0d0887\"],[0.1111111111111111,\"#46039f\"],[0.2222222222222222,\"#7201a8\"],[0.3333333333333333,\"#9c179e\"],[0.4444444444444444,\"#bd3786\"],[0.5555555555555556,\"#d8576b\"],[0.6666666666666666,\"#ed7953\"],[0.7777777777777778,\"#fb9f3a\"],[0.8888888888888888,\"#fdca26\"],[1.0,\"#f0f921\"]]}],\"contourcarpet\":[{\"type\":\"contourcarpet\",\"colorbar\":{\"outlinewidth\":0,\"ticks\":\"\"}}],\"contour\":[{\"type\":\"contour\",\"colorbar\":{\"outlinewidth\":0,\"ticks\":\"\"},\"colorscale\":[[0.0,\"#0d0887\"],[0.1111111111111111,\"#46039f\"],[0.2222222222222222,\"#7201a8\"],[0.3333333333333333,\"#9c179e\"],[0.4444444444444444,\"#bd3786\"],[0.5555555555555556,\"#d8576b\"],[0.6666666666666666,\"#ed7953\"],[0.7777777777777778,\"#fb9f3a\"],[0.8888888888888888,\"#fdca26\"],[1.0,\"#f0f921\"]]}],\"surface\":[{\"type\":\"surface\",\"colorbar\":{\"outlinewidth\":0,\"ticks\":\"\"},\"colorscale\":[[0.0,\"#0d0887\"],[0.1111111111111111,\"#46039f\"],[0.2222222222222222,\"#7201a8\"],[0.3333333333333333,\"#9c179e\"],[0.4444444444444444,\"#bd3786\"],[0.5555555555555556,\"#d8576b\"],[0.6666666666666666,\"#ed7953\"],[0.7777777777777778,\"#fb9f3a\"],[0.8888888888888888,\"#fdca26\"],[1.0,\"#f0f921\"]]}],\"mesh3d\":[{\"type\":\"mesh3d\",\"colorbar\":{\"outlinewidth\":0,\"ticks\":\"\"}}],\"scatter\":[{\"fillpattern\":{\"fillmode\":\"overlay\",\"size\":10,\"solidity\":0.2},\"type\":\"scatter\"}],\"parcoords\":[{\"type\":\"parcoords\",\"line\":{\"colorbar\":{\"outlinewidth\":0,\"ticks\":\"\"}}}],\"scatterpolargl\":[{\"type\":\"scatterpolargl\",\"marker\":{\"colorbar\":{\"outlinewidth\":0,\"ticks\":\"\"}}}],\"bar\":[{\"error_x\":{\"color\":\"#2a3f5f\"},\"error_y\":{\"color\":\"#2a3f5f\"},\"marker\":{\"line\":{\"color\":\"#E5ECF6\",\"width\":0.5},\"pattern\":{\"fillmode\":\"overlay\",\"size\":10,\"solidity\":0.2}},\"type\":\"bar\"}],\"scattergeo\":[{\"type\":\"scattergeo\",\"marker\":{\"colorbar\":{\"outlinewidth\":0,\"ticks\":\"\"}}}],\"scatterpolar\":[{\"type\":\"scatterpolar\",\"marker\":{\"colorbar\":{\"outlinewidth\":0,\"ticks\":\"\"}}}],\"histogram\":[{\"marker\":{\"pattern\":{\"fillmode\":\"overlay\",\"size\":10,\"solidity\":0.2}},\"type\":\"histogram\"}],\"scattergl\":[{\"type\":\"scattergl\",\"marker\":{\"colorbar\":{\"outlinewidth\":0,\"ticks\":\"\"}}}],\"scatter3d\":[{\"type\":\"scatter3d\",\"line\":{\"colorbar\":{\"outlinewidth\":0,\"ticks\":\"\"}},\"marker\":{\"colorbar\":{\"outlinewidth\":0,\"ticks\":\"\"}}}],\"scattermapbox\":[{\"type\":\"scattermapbox\",\"marker\":{\"colorbar\":{\"outlinewidth\":0,\"ticks\":\"\"}}}],\"scatterternary\":[{\"type\":\"scatterternary\",\"marker\":{\"colorbar\":{\"outlinewidth\":0,\"ticks\":\"\"}}}],\"scattercarpet\":[{\"type\":\"scattercarpet\",\"marker\":{\"colorbar\":{\"outlinewidth\":0,\"ticks\":\"\"}}}],\"carpet\":[{\"aaxis\":{\"endlinecolor\":\"#2a3f5f\",\"gridcolor\":\"white\",\"linecolor\":\"white\",\"minorgridcolor\":\"white\",\"startlinecolor\":\"#2a3f5f\"},\"baxis\":{\"endlinecolor\":\"#2a3f5f\",\"gridcolor\":\"white\",\"linecolor\":\"white\",\"minorgridcolor\":\"white\",\"startlinecolor\":\"#2a3f5f\"},\"type\":\"carpet\"}],\"table\":[{\"cells\":{\"fill\":{\"color\":\"#EBF0F8\"},\"line\":{\"color\":\"white\"}},\"header\":{\"fill\":{\"color\":\"#C8D4E3\"},\"line\":{\"color\":\"white\"}},\"type\":\"table\"}],\"barpolar\":[{\"marker\":{\"line\":{\"color\":\"#E5ECF6\",\"width\":0.5},\"pattern\":{\"fillmode\":\"overlay\",\"size\":10,\"solidity\":0.2}},\"type\":\"barpolar\"}],\"pie\":[{\"automargin\":true,\"type\":\"pie\"}]},\"layout\":{\"autotypenumbers\":\"strict\",\"colorway\":[\"#636efa\",\"#EF553B\",\"#00cc96\",\"#ab63fa\",\"#FFA15A\",\"#19d3f3\",\"#FF6692\",\"#B6E880\",\"#FF97FF\",\"#FECB52\"],\"font\":{\"color\":\"#2a3f5f\"},\"hovermode\":\"closest\",\"hoverlabel\":{\"align\":\"left\"},\"paper_bgcolor\":\"white\",\"plot_bgcolor\":\"#E5ECF6\",\"polar\":{\"bgcolor\":\"#E5ECF6\",\"angularaxis\":{\"gridcolor\":\"white\",\"linecolor\":\"white\",\"ticks\":\"\"},\"radialaxis\":{\"gridcolor\":\"white\",\"linecolor\":\"white\",\"ticks\":\"\"}},\"ternary\":{\"bgcolor\":\"#E5ECF6\",\"aaxis\":{\"gridcolor\":\"white\",\"linecolor\":\"white\",\"ticks\":\"\"},\"baxis\":{\"gridcolor\":\"white\",\"linecolor\":\"white\",\"ticks\":\"\"},\"caxis\":{\"gridcolor\":\"white\",\"linecolor\":\"white\",\"ticks\":\"\"}},\"coloraxis\":{\"colorbar\":{\"outlinewidth\":0,\"ticks\":\"\"}},\"colorscale\":{\"sequential\":[[0.0,\"#0d0887\"],[0.1111111111111111,\"#46039f\"],[0.2222222222222222,\"#7201a8\"],[0.3333333333333333,\"#9c179e\"],[0.4444444444444444,\"#bd3786\"],[0.5555555555555556,\"#d8576b\"],[0.6666666666666666,\"#ed7953\"],[0.7777777777777778,\"#fb9f3a\"],[0.8888888888888888,\"#fdca26\"],[1.0,\"#f0f921\"]],\"sequentialminus\":[[0.0,\"#0d0887\"],[0.1111111111111111,\"#46039f\"],[0.2222222222222222,\"#7201a8\"],[0.3333333333333333,\"#9c179e\"],[0.4444444444444444,\"#bd3786\"],[0.5555555555555556,\"#d8576b\"],[0.6666666666666666,\"#ed7953\"],[0.7777777777777778,\"#fb9f3a\"],[0.8888888888888888,\"#fdca26\"],[1.0,\"#f0f921\"]],\"diverging\":[[0,\"#8e0152\"],[0.1,\"#c51b7d\"],[0.2,\"#de77ae\"],[0.3,\"#f1b6da\"],[0.4,\"#fde0ef\"],[0.5,\"#f7f7f7\"],[0.6,\"#e6f5d0\"],[0.7,\"#b8e186\"],[0.8,\"#7fbc41\"],[0.9,\"#4d9221\"],[1,\"#276419\"]]},\"xaxis\":{\"gridcolor\":\"white\",\"linecolor\":\"white\",\"ticks\":\"\",\"title\":{\"standoff\":15},\"zerolinecolor\":\"white\",\"automargin\":true,\"zerolinewidth\":2},\"yaxis\":{\"gridcolor\":\"white\",\"linecolor\":\"white\",\"ticks\":\"\",\"title\":{\"standoff\":15},\"zerolinecolor\":\"white\",\"automargin\":true,\"zerolinewidth\":2},\"scene\":{\"xaxis\":{\"backgroundcolor\":\"#E5ECF6\",\"gridcolor\":\"white\",\"linecolor\":\"white\",\"showbackground\":true,\"ticks\":\"\",\"zerolinecolor\":\"white\",\"gridwidth\":2},\"yaxis\":{\"backgroundcolor\":\"#E5ECF6\",\"gridcolor\":\"white\",\"linecolor\":\"white\",\"showbackground\":true,\"ticks\":\"\",\"zerolinecolor\":\"white\",\"gridwidth\":2},\"zaxis\":{\"backgroundcolor\":\"#E5ECF6\",\"gridcolor\":\"white\",\"linecolor\":\"white\",\"showbackground\":true,\"ticks\":\"\",\"zerolinecolor\":\"white\",\"gridwidth\":2}},\"shapedefaults\":{\"line\":{\"color\":\"#2a3f5f\"}},\"annotationdefaults\":{\"arrowcolor\":\"#2a3f5f\",\"arrowhead\":0,\"arrowwidth\":1},\"geo\":{\"bgcolor\":\"white\",\"landcolor\":\"#E5ECF6\",\"subunitcolor\":\"white\",\"showland\":true,\"showlakes\":true,\"lakecolor\":\"white\"},\"title\":{\"x\":0.05},\"mapbox\":{\"style\":\"light\"}}}},                        {\"responsive\": true}                    ).then(function(){\n",
       "                            \n",
       "var gd = document.getElementById('a402a52b-1d08-49fd-a2d7-f3df8330ba8a');\n",
       "var x = new MutationObserver(function (mutations, observer) {{\n",
       "        var display = window.getComputedStyle(gd).display;\n",
       "        if (!display || display === 'none') {{\n",
       "            console.log([gd, 'removed!']);\n",
       "            Plotly.purge(gd);\n",
       "            observer.disconnect();\n",
       "        }}\n",
       "}});\n",
       "\n",
       "// Listen for the removal of the full notebook cells\n",
       "var notebookContainer = gd.closest('#notebook-container');\n",
       "if (notebookContainer) {{\n",
       "    x.observe(notebookContainer, {childList: true});\n",
       "}}\n",
       "\n",
       "// Listen for the clearing of the current output cell\n",
       "var outputEl = gd.closest('.output');\n",
       "if (outputEl) {{\n",
       "    x.observe(outputEl, {childList: true});\n",
       "}}\n",
       "\n",
       "                        })                };                });            </script>        </div>"
      ]
     },
     "metadata": {},
     "output_type": "display_data"
    }
   ],
   "source": [
    "vis.plot_optimization_history(study_rf).show()\n",
    "vis.plot_param_importances(study_rf).show()"
   ]
  },
  {
   "cell_type": "markdown",
   "id": "5e6302fa070161ef",
   "metadata": {},
   "source": [
    "#### Model Training"
   ]
  },
  {
   "cell_type": "code",
   "execution_count": 186,
   "id": "858471111e5946f0",
   "metadata": {
    "ExecuteTime": {
     "end_time": "2024-12-11T23:02:47.645571Z",
     "start_time": "2024-12-11T23:02:47.612398Z"
    }
   },
   "outputs": [],
   "source": [
    "# Get the best hyperparameters\n",
    "best_params_rf = study_rf.best_params"
   ]
  },
  {
   "cell_type": "code",
   "execution_count": 187,
   "id": "fe5a5c9343b11903",
   "metadata": {
    "ExecuteTime": {
     "end_time": "2024-12-11T23:02:47.672302Z",
     "start_time": "2024-12-11T23:02:47.656363Z"
    }
   },
   "outputs": [],
   "source": [
    "# Create the Random Forest model with best hyperparameters\n",
    "rf = RandomForestRegressor(\n",
    "    n_estimators=best_params_rf['n_estimators'],\n",
    "    max_depth=best_params_rf['max_depth'],\n",
    "    min_samples_split=best_params_rf['min_samples_split'],\n",
    "    min_samples_leaf=best_params_rf['min_samples_leaf'],\n",
    "    max_features=best_params_rf['max_features'],\n",
    "    random_state=42\n",
    ")"
   ]
  },
  {
   "cell_type": "code",
   "execution_count": 188,
   "id": "9fd3504a2a972b37",
   "metadata": {
    "ExecuteTime": {
     "end_time": "2024-12-11T23:02:48.268652Z",
     "start_time": "2024-12-11T23:02:47.686624Z"
    }
   },
   "outputs": [
    {
     "data": {
      "text/html": [
       "<style>#sk-container-id-13 {\n",
       "  /* Definition of color scheme common for light and dark mode */\n",
       "  --sklearn-color-text: black;\n",
       "  --sklearn-color-line: gray;\n",
       "  /* Definition of color scheme for unfitted estimators */\n",
       "  --sklearn-color-unfitted-level-0: #fff5e6;\n",
       "  --sklearn-color-unfitted-level-1: #f6e4d2;\n",
       "  --sklearn-color-unfitted-level-2: #ffe0b3;\n",
       "  --sklearn-color-unfitted-level-3: chocolate;\n",
       "  /* Definition of color scheme for fitted estimators */\n",
       "  --sklearn-color-fitted-level-0: #f0f8ff;\n",
       "  --sklearn-color-fitted-level-1: #d4ebff;\n",
       "  --sklearn-color-fitted-level-2: #b3dbfd;\n",
       "  --sklearn-color-fitted-level-3: cornflowerblue;\n",
       "\n",
       "  /* Specific color for light theme */\n",
       "  --sklearn-color-text-on-default-background: var(--sg-text-color, var(--theme-code-foreground, var(--jp-content-font-color1, black)));\n",
       "  --sklearn-color-background: var(--sg-background-color, var(--theme-background, var(--jp-layout-color0, white)));\n",
       "  --sklearn-color-border-box: var(--sg-text-color, var(--theme-code-foreground, var(--jp-content-font-color1, black)));\n",
       "  --sklearn-color-icon: #696969;\n",
       "\n",
       "  @media (prefers-color-scheme: dark) {\n",
       "    /* Redefinition of color scheme for dark theme */\n",
       "    --sklearn-color-text-on-default-background: var(--sg-text-color, var(--theme-code-foreground, var(--jp-content-font-color1, white)));\n",
       "    --sklearn-color-background: var(--sg-background-color, var(--theme-background, var(--jp-layout-color0, #111)));\n",
       "    --sklearn-color-border-box: var(--sg-text-color, var(--theme-code-foreground, var(--jp-content-font-color1, white)));\n",
       "    --sklearn-color-icon: #878787;\n",
       "  }\n",
       "}\n",
       "\n",
       "#sk-container-id-13 {\n",
       "  color: var(--sklearn-color-text);\n",
       "}\n",
       "\n",
       "#sk-container-id-13 pre {\n",
       "  padding: 0;\n",
       "}\n",
       "\n",
       "#sk-container-id-13 input.sk-hidden--visually {\n",
       "  border: 0;\n",
       "  clip: rect(1px 1px 1px 1px);\n",
       "  clip: rect(1px, 1px, 1px, 1px);\n",
       "  height: 1px;\n",
       "  margin: -1px;\n",
       "  overflow: hidden;\n",
       "  padding: 0;\n",
       "  position: absolute;\n",
       "  width: 1px;\n",
       "}\n",
       "\n",
       "#sk-container-id-13 div.sk-dashed-wrapped {\n",
       "  border: 1px dashed var(--sklearn-color-line);\n",
       "  margin: 0 0.4em 0.5em 0.4em;\n",
       "  box-sizing: border-box;\n",
       "  padding-bottom: 0.4em;\n",
       "  background-color: var(--sklearn-color-background);\n",
       "}\n",
       "\n",
       "#sk-container-id-13 div.sk-container {\n",
       "  /* jupyter's `normalize.less` sets `[hidden] { display: none; }`\n",
       "     but bootstrap.min.css set `[hidden] { display: none !important; }`\n",
       "     so we also need the `!important` here to be able to override the\n",
       "     default hidden behavior on the sphinx rendered scikit-learn.org.\n",
       "     See: https://github.com/scikit-learn/scikit-learn/issues/21755 */\n",
       "  display: inline-block !important;\n",
       "  position: relative;\n",
       "}\n",
       "\n",
       "#sk-container-id-13 div.sk-text-repr-fallback {\n",
       "  display: none;\n",
       "}\n",
       "\n",
       "div.sk-parallel-item,\n",
       "div.sk-serial,\n",
       "div.sk-item {\n",
       "  /* draw centered vertical line to link estimators */\n",
       "  background-image: linear-gradient(var(--sklearn-color-text-on-default-background), var(--sklearn-color-text-on-default-background));\n",
       "  background-size: 2px 100%;\n",
       "  background-repeat: no-repeat;\n",
       "  background-position: center center;\n",
       "}\n",
       "\n",
       "/* Parallel-specific style estimator block */\n",
       "\n",
       "#sk-container-id-13 div.sk-parallel-item::after {\n",
       "  content: \"\";\n",
       "  width: 100%;\n",
       "  border-bottom: 2px solid var(--sklearn-color-text-on-default-background);\n",
       "  flex-grow: 1;\n",
       "}\n",
       "\n",
       "#sk-container-id-13 div.sk-parallel {\n",
       "  display: flex;\n",
       "  align-items: stretch;\n",
       "  justify-content: center;\n",
       "  background-color: var(--sklearn-color-background);\n",
       "  position: relative;\n",
       "}\n",
       "\n",
       "#sk-container-id-13 div.sk-parallel-item {\n",
       "  display: flex;\n",
       "  flex-direction: column;\n",
       "}\n",
       "\n",
       "#sk-container-id-13 div.sk-parallel-item:first-child::after {\n",
       "  align-self: flex-end;\n",
       "  width: 50%;\n",
       "}\n",
       "\n",
       "#sk-container-id-13 div.sk-parallel-item:last-child::after {\n",
       "  align-self: flex-start;\n",
       "  width: 50%;\n",
       "}\n",
       "\n",
       "#sk-container-id-13 div.sk-parallel-item:only-child::after {\n",
       "  width: 0;\n",
       "}\n",
       "\n",
       "/* Serial-specific style estimator block */\n",
       "\n",
       "#sk-container-id-13 div.sk-serial {\n",
       "  display: flex;\n",
       "  flex-direction: column;\n",
       "  align-items: center;\n",
       "  background-color: var(--sklearn-color-background);\n",
       "  padding-right: 1em;\n",
       "  padding-left: 1em;\n",
       "}\n",
       "\n",
       "\n",
       "/* Toggleable style: style used for estimator/Pipeline/ColumnTransformer box that is\n",
       "clickable and can be expanded/collapsed.\n",
       "- Pipeline and ColumnTransformer use this feature and define the default style\n",
       "- Estimators will overwrite some part of the style using the `sk-estimator` class\n",
       "*/\n",
       "\n",
       "/* Pipeline and ColumnTransformer style (default) */\n",
       "\n",
       "#sk-container-id-13 div.sk-toggleable {\n",
       "  /* Default theme specific background. It is overwritten whether we have a\n",
       "  specific estimator or a Pipeline/ColumnTransformer */\n",
       "  background-color: var(--sklearn-color-background);\n",
       "}\n",
       "\n",
       "/* Toggleable label */\n",
       "#sk-container-id-13 label.sk-toggleable__label {\n",
       "  cursor: pointer;\n",
       "  display: block;\n",
       "  width: 100%;\n",
       "  margin-bottom: 0;\n",
       "  padding: 0.5em;\n",
       "  box-sizing: border-box;\n",
       "  text-align: center;\n",
       "}\n",
       "\n",
       "#sk-container-id-13 label.sk-toggleable__label-arrow:before {\n",
       "  /* Arrow on the left of the label */\n",
       "  content: \"▸\";\n",
       "  float: left;\n",
       "  margin-right: 0.25em;\n",
       "  color: var(--sklearn-color-icon);\n",
       "}\n",
       "\n",
       "#sk-container-id-13 label.sk-toggleable__label-arrow:hover:before {\n",
       "  color: var(--sklearn-color-text);\n",
       "}\n",
       "\n",
       "/* Toggleable content - dropdown */\n",
       "\n",
       "#sk-container-id-13 div.sk-toggleable__content {\n",
       "  max-height: 0;\n",
       "  max-width: 0;\n",
       "  overflow: hidden;\n",
       "  text-align: left;\n",
       "  /* unfitted */\n",
       "  background-color: var(--sklearn-color-unfitted-level-0);\n",
       "}\n",
       "\n",
       "#sk-container-id-13 div.sk-toggleable__content.fitted {\n",
       "  /* fitted */\n",
       "  background-color: var(--sklearn-color-fitted-level-0);\n",
       "}\n",
       "\n",
       "#sk-container-id-13 div.sk-toggleable__content pre {\n",
       "  margin: 0.2em;\n",
       "  border-radius: 0.25em;\n",
       "  color: var(--sklearn-color-text);\n",
       "  /* unfitted */\n",
       "  background-color: var(--sklearn-color-unfitted-level-0);\n",
       "}\n",
       "\n",
       "#sk-container-id-13 div.sk-toggleable__content.fitted pre {\n",
       "  /* unfitted */\n",
       "  background-color: var(--sklearn-color-fitted-level-0);\n",
       "}\n",
       "\n",
       "#sk-container-id-13 input.sk-toggleable__control:checked~div.sk-toggleable__content {\n",
       "  /* Expand drop-down */\n",
       "  max-height: 200px;\n",
       "  max-width: 100%;\n",
       "  overflow: auto;\n",
       "}\n",
       "\n",
       "#sk-container-id-13 input.sk-toggleable__control:checked~label.sk-toggleable__label-arrow:before {\n",
       "  content: \"▾\";\n",
       "}\n",
       "\n",
       "/* Pipeline/ColumnTransformer-specific style */\n",
       "\n",
       "#sk-container-id-13 div.sk-label input.sk-toggleable__control:checked~label.sk-toggleable__label {\n",
       "  color: var(--sklearn-color-text);\n",
       "  background-color: var(--sklearn-color-unfitted-level-2);\n",
       "}\n",
       "\n",
       "#sk-container-id-13 div.sk-label.fitted input.sk-toggleable__control:checked~label.sk-toggleable__label {\n",
       "  background-color: var(--sklearn-color-fitted-level-2);\n",
       "}\n",
       "\n",
       "/* Estimator-specific style */\n",
       "\n",
       "/* Colorize estimator box */\n",
       "#sk-container-id-13 div.sk-estimator input.sk-toggleable__control:checked~label.sk-toggleable__label {\n",
       "  /* unfitted */\n",
       "  background-color: var(--sklearn-color-unfitted-level-2);\n",
       "}\n",
       "\n",
       "#sk-container-id-13 div.sk-estimator.fitted input.sk-toggleable__control:checked~label.sk-toggleable__label {\n",
       "  /* fitted */\n",
       "  background-color: var(--sklearn-color-fitted-level-2);\n",
       "}\n",
       "\n",
       "#sk-container-id-13 div.sk-label label.sk-toggleable__label,\n",
       "#sk-container-id-13 div.sk-label label {\n",
       "  /* The background is the default theme color */\n",
       "  color: var(--sklearn-color-text-on-default-background);\n",
       "}\n",
       "\n",
       "/* On hover, darken the color of the background */\n",
       "#sk-container-id-13 div.sk-label:hover label.sk-toggleable__label {\n",
       "  color: var(--sklearn-color-text);\n",
       "  background-color: var(--sklearn-color-unfitted-level-2);\n",
       "}\n",
       "\n",
       "/* Label box, darken color on hover, fitted */\n",
       "#sk-container-id-13 div.sk-label.fitted:hover label.sk-toggleable__label.fitted {\n",
       "  color: var(--sklearn-color-text);\n",
       "  background-color: var(--sklearn-color-fitted-level-2);\n",
       "}\n",
       "\n",
       "/* Estimator label */\n",
       "\n",
       "#sk-container-id-13 div.sk-label label {\n",
       "  font-family: monospace;\n",
       "  font-weight: bold;\n",
       "  display: inline-block;\n",
       "  line-height: 1.2em;\n",
       "}\n",
       "\n",
       "#sk-container-id-13 div.sk-label-container {\n",
       "  text-align: center;\n",
       "}\n",
       "\n",
       "/* Estimator-specific */\n",
       "#sk-container-id-13 div.sk-estimator {\n",
       "  font-family: monospace;\n",
       "  border: 1px dotted var(--sklearn-color-border-box);\n",
       "  border-radius: 0.25em;\n",
       "  box-sizing: border-box;\n",
       "  margin-bottom: 0.5em;\n",
       "  /* unfitted */\n",
       "  background-color: var(--sklearn-color-unfitted-level-0);\n",
       "}\n",
       "\n",
       "#sk-container-id-13 div.sk-estimator.fitted {\n",
       "  /* fitted */\n",
       "  background-color: var(--sklearn-color-fitted-level-0);\n",
       "}\n",
       "\n",
       "/* on hover */\n",
       "#sk-container-id-13 div.sk-estimator:hover {\n",
       "  /* unfitted */\n",
       "  background-color: var(--sklearn-color-unfitted-level-2);\n",
       "}\n",
       "\n",
       "#sk-container-id-13 div.sk-estimator.fitted:hover {\n",
       "  /* fitted */\n",
       "  background-color: var(--sklearn-color-fitted-level-2);\n",
       "}\n",
       "\n",
       "/* Specification for estimator info (e.g. \"i\" and \"?\") */\n",
       "\n",
       "/* Common style for \"i\" and \"?\" */\n",
       "\n",
       ".sk-estimator-doc-link,\n",
       "a:link.sk-estimator-doc-link,\n",
       "a:visited.sk-estimator-doc-link {\n",
       "  float: right;\n",
       "  font-size: smaller;\n",
       "  line-height: 1em;\n",
       "  font-family: monospace;\n",
       "  background-color: var(--sklearn-color-background);\n",
       "  border-radius: 1em;\n",
       "  height: 1em;\n",
       "  width: 1em;\n",
       "  text-decoration: none !important;\n",
       "  margin-left: 1ex;\n",
       "  /* unfitted */\n",
       "  border: var(--sklearn-color-unfitted-level-1) 1pt solid;\n",
       "  color: var(--sklearn-color-unfitted-level-1);\n",
       "}\n",
       "\n",
       ".sk-estimator-doc-link.fitted,\n",
       "a:link.sk-estimator-doc-link.fitted,\n",
       "a:visited.sk-estimator-doc-link.fitted {\n",
       "  /* fitted */\n",
       "  border: var(--sklearn-color-fitted-level-1) 1pt solid;\n",
       "  color: var(--sklearn-color-fitted-level-1);\n",
       "}\n",
       "\n",
       "/* On hover */\n",
       "div.sk-estimator:hover .sk-estimator-doc-link:hover,\n",
       ".sk-estimator-doc-link:hover,\n",
       "div.sk-label-container:hover .sk-estimator-doc-link:hover,\n",
       ".sk-estimator-doc-link:hover {\n",
       "  /* unfitted */\n",
       "  background-color: var(--sklearn-color-unfitted-level-3);\n",
       "  color: var(--sklearn-color-background);\n",
       "  text-decoration: none;\n",
       "}\n",
       "\n",
       "div.sk-estimator.fitted:hover .sk-estimator-doc-link.fitted:hover,\n",
       ".sk-estimator-doc-link.fitted:hover,\n",
       "div.sk-label-container:hover .sk-estimator-doc-link.fitted:hover,\n",
       ".sk-estimator-doc-link.fitted:hover {\n",
       "  /* fitted */\n",
       "  background-color: var(--sklearn-color-fitted-level-3);\n",
       "  color: var(--sklearn-color-background);\n",
       "  text-decoration: none;\n",
       "}\n",
       "\n",
       "/* Span, style for the box shown on hovering the info icon */\n",
       ".sk-estimator-doc-link span {\n",
       "  display: none;\n",
       "  z-index: 9999;\n",
       "  position: relative;\n",
       "  font-weight: normal;\n",
       "  right: .2ex;\n",
       "  padding: .5ex;\n",
       "  margin: .5ex;\n",
       "  width: min-content;\n",
       "  min-width: 20ex;\n",
       "  max-width: 50ex;\n",
       "  color: var(--sklearn-color-text);\n",
       "  box-shadow: 2pt 2pt 4pt #999;\n",
       "  /* unfitted */\n",
       "  background: var(--sklearn-color-unfitted-level-0);\n",
       "  border: .5pt solid var(--sklearn-color-unfitted-level-3);\n",
       "}\n",
       "\n",
       ".sk-estimator-doc-link.fitted span {\n",
       "  /* fitted */\n",
       "  background: var(--sklearn-color-fitted-level-0);\n",
       "  border: var(--sklearn-color-fitted-level-3);\n",
       "}\n",
       "\n",
       ".sk-estimator-doc-link:hover span {\n",
       "  display: block;\n",
       "}\n",
       "\n",
       "/* \"?\"-specific style due to the `<a>` HTML tag */\n",
       "\n",
       "#sk-container-id-13 a.estimator_doc_link {\n",
       "  float: right;\n",
       "  font-size: 1rem;\n",
       "  line-height: 1em;\n",
       "  font-family: monospace;\n",
       "  background-color: var(--sklearn-color-background);\n",
       "  border-radius: 1rem;\n",
       "  height: 1rem;\n",
       "  width: 1rem;\n",
       "  text-decoration: none;\n",
       "  /* unfitted */\n",
       "  color: var(--sklearn-color-unfitted-level-1);\n",
       "  border: var(--sklearn-color-unfitted-level-1) 1pt solid;\n",
       "}\n",
       "\n",
       "#sk-container-id-13 a.estimator_doc_link.fitted {\n",
       "  /* fitted */\n",
       "  border: var(--sklearn-color-fitted-level-1) 1pt solid;\n",
       "  color: var(--sklearn-color-fitted-level-1);\n",
       "}\n",
       "\n",
       "/* On hover */\n",
       "#sk-container-id-13 a.estimator_doc_link:hover {\n",
       "  /* unfitted */\n",
       "  background-color: var(--sklearn-color-unfitted-level-3);\n",
       "  color: var(--sklearn-color-background);\n",
       "  text-decoration: none;\n",
       "}\n",
       "\n",
       "#sk-container-id-13 a.estimator_doc_link.fitted:hover {\n",
       "  /* fitted */\n",
       "  background-color: var(--sklearn-color-fitted-level-3);\n",
       "}\n",
       "</style><div id=\"sk-container-id-13\" class=\"sk-top-container\"><div class=\"sk-text-repr-fallback\"><pre>RandomForestRegressor(max_depth=8, max_features=None, min_samples_split=6,\n",
       "                      n_estimators=166, random_state=42)</pre><b>In a Jupyter environment, please rerun this cell to show the HTML representation or trust the notebook. <br />On GitHub, the HTML representation is unable to render, please try loading this page with nbviewer.org.</b></div><div class=\"sk-container\" hidden><div class=\"sk-item\"><div class=\"sk-estimator fitted sk-toggleable\"><input class=\"sk-toggleable__control sk-hidden--visually\" id=\"sk-estimator-id-21\" type=\"checkbox\" checked><label for=\"sk-estimator-id-21\" class=\"sk-toggleable__label fitted sk-toggleable__label-arrow fitted\">&nbsp;&nbsp;RandomForestRegressor<a class=\"sk-estimator-doc-link fitted\" rel=\"noreferrer\" target=\"_blank\" href=\"https://scikit-learn.org/1.5/modules/generated/sklearn.ensemble.RandomForestRegressor.html\">?<span>Documentation for RandomForestRegressor</span></a><span class=\"sk-estimator-doc-link fitted\">i<span>Fitted</span></span></label><div class=\"sk-toggleable__content fitted\"><pre>RandomForestRegressor(max_depth=8, max_features=None, min_samples_split=6,\n",
       "                      n_estimators=166, random_state=42)</pre></div> </div></div></div></div>"
      ],
      "text/plain": [
       "RandomForestRegressor(max_depth=8, max_features=None, min_samples_split=6,\n",
       "                      n_estimators=166, random_state=42)"
      ]
     },
     "execution_count": 188,
     "metadata": {},
     "output_type": "execute_result"
    }
   ],
   "source": [
    "# Fit the model\n",
    "rf.fit(X_train, y_train)"
   ]
  },
  {
   "cell_type": "markdown",
   "id": "40d79e7526eda5a6",
   "metadata": {},
   "source": [
    "#### Model Evaluation"
   ]
  },
  {
   "cell_type": "code",
   "execution_count": 189,
   "id": "e89ebfc968d0d822",
   "metadata": {
    "ExecuteTime": {
     "end_time": "2024-12-11T23:02:48.316328Z",
     "start_time": "2024-12-11T23:02:48.288995Z"
    }
   },
   "outputs": [],
   "source": [
    "y_pred_rf_train = rf.predict(X_train)\n",
    "y_pred_rf_test = rf.predict(X_test)"
   ]
  },
  {
   "cell_type": "code",
   "execution_count": 190,
   "id": "7b3a3f805c3dd13c",
   "metadata": {
    "ExecuteTime": {
     "end_time": "2024-12-11T23:02:48.558081Z",
     "start_time": "2024-12-11T23:02:48.342886Z"
    }
   },
   "outputs": [
    {
     "data": {
      "image/png": "[encoded data removed]",
      "text/plain": [
       "<Figure size 1000x600 with 1 Axes>"
      ]
     },
     "metadata": {},
     "output_type": "display_data"
    }
   ],
   "source": [
    "# plot top 10 features\n",
    "plt.figure(figsize=(10, 6))\n",
    "plt.barh(X.columns[np.argsort(rf.feature_importances_)[::-1][:10]],\n",
    "         rf.feature_importances_[np.argsort(rf.feature_importances_)[::-1][:10]])\n",
    "plt.xlabel('Feature Importance')\n",
    "plt.ylabel('Feature')\n",
    "plt.title('Top 10 Features')\n",
    "plt.show()"
   ]
  },
  {
   "cell_type": "code",
   "execution_count": 191,
   "id": "8c2a412e6059dec1",
   "metadata": {
    "ExecuteTime": {
     "end_time": "2024-12-11T23:02:48.703580Z",
     "start_time": "2024-12-11T23:02:48.585865Z"
    }
   },
   "outputs": [
    {
     "data": {
      "image/png": "[encoded data removed]",
      "text/plain": [
       "<Figure size 1000x600 with 1 Axes>"
      ]
     },
     "metadata": {},
     "output_type": "display_data"
    }
   ],
   "source": [
    "# show predicted vs actual\n",
    "plt.figure(figsize=(10, 6))\n",
    "plt.plot(y_test.index, y_test, label='Actual')\n",
    "plt.plot(y_test.index, y_pred_rf_test, label='Predicted')\n",
    "plt.xlabel('Date')\n",
    "plt.ylabel('Price')\n",
    "plt.title('Random Forest Predicted vs Actual')\n",
    "plt.legend()\n",
    "plt.show()"
   ]
  },
  {
   "cell_type": "markdown",
   "id": "8ca5d7faaca9c783",
   "metadata": {},
   "source": [
    "#### Model Saving"
   ]
  },
  {
   "cell_type": "code",
   "execution_count": 192,
   "id": "cbce99e24c42f188",
   "metadata": {
    "ExecuteTime": {
     "end_time": "2024-12-11T23:02:48.745092Z",
     "start_time": "2024-12-11T23:02:48.720034Z"
    }
   },
   "outputs": [],
   "source": [
    "# Save the model\n",
    "pickle.dump(rf, open('../models/ESS_rf.pkl', 'wb'))"
   ]
  },
  {
   "cell_type": "markdown",
   "id": "618b0297-996f-4b05-9226-6e9154f89154",
   "metadata": {},
   "source": [
    "### AdaBoost"
   ]
  },
  {
   "cell_type": "markdown",
   "id": "a428d8a4-abf0-4462-8b78-2669917d0502",
   "metadata": {},
   "source": [
    "#### Hyperparameter Tuning"
   ]
  },
  {
   "cell_type": "code",
   "execution_count": 193,
   "id": "10fc7a7eb9f6bce4",
   "metadata": {
    "ExecuteTime": {
     "end_time": "2024-12-11T23:02:48.786890Z",
     "start_time": "2024-12-11T23:02:48.760567Z"
    }
   },
   "outputs": [],
   "source": [
    "def objective(trial):\n",
    "    # Hyperparameter search space for the base Decision Tree\n",
    "    max_depth = trial.suggest_int('max_depth', 1, 2)  # Depth of the tree\n",
    "    min_samples_split = trial.suggest_int('min_samples_split', 2, 10)  # Minimum samples to split a node\n",
    "    min_samples_leaf = trial.suggest_int('min_samples_leaf', 1, 10)  # Minimum samples in a leaf node\n",
    "    max_features = trial.suggest_categorical('max_features',\n",
    "                                             [None, 'sqrt', 'log2'])  # Features to consider for splitting\n",
    "\n",
    "    # Hyperparameter search space for AdaBoost\n",
    "    n_estimators = trial.suggest_int('n_estimators', 50, 500)\n",
    "    learning_rate = trial.suggest_float('learning_rate', 0.01, 1.0, log=True)\n",
    "\n",
    "    # Define the base estimator (Decision Tree)\n",
    "    base_estimator = DecisionTreeRegressor(\n",
    "        max_depth=max_depth,\n",
    "        min_samples_split=min_samples_split,\n",
    "        min_samples_leaf=min_samples_leaf,\n",
    "        max_features=max_features,\n",
    "        random_state=42\n",
    "    )\n",
    "\n",
    "    # Define the AdaBoost model\n",
    "    model = AdaBoostRegressor(\n",
    "        estimator=base_estimator,\n",
    "        n_estimators=n_estimators,\n",
    "        learning_rate=learning_rate,\n",
    "        random_state=42\n",
    "    )\n",
    "\n",
    "    scores = cross_val_score(model, X_train, y_train, scoring=scorer, cv=cv, n_jobs=-1)\n",
    "\n",
    "    return -scores.mean()"
   ]
  },
  {
   "cell_type": "code",
   "execution_count": 194,
   "id": "37d56a2a2f15f7ea",
   "metadata": {
    "ExecuteTime": {
     "end_time": "2024-12-11T23:02:56.242409Z",
     "start_time": "2024-12-11T23:02:48.808233Z"
    }
   },
   "outputs": [
    {
     "name": "stderr",
     "output_type": "stream",
     "text": [
      "[I 2024-12-11 18:02:48,826] A new study created in memory with name: ada_tuning\n"
     ]
    },
    {
     "data": {
      "application/vnd.jupyter.widget-view+json": {
       "model_id": "d7b03c0f59c6466c949b03f0d74b2510",
       "version_major": 2,
       "version_minor": 0
      },
      "text/plain": [
       "  0%|          | 0/15 [00:00<?, ?it/s]"
      ]
     },
     "metadata": {},
     "output_type": "display_data"
    },
    {
     "name": "stdout",
     "output_type": "stream",
     "text": [
      "[I 2024-12-11 18:02:49,001] Trial 0 finished with value: 25.27809813030141 and parameters: {'max_depth': 1, 'min_samples_split': 5, 'min_samples_leaf': 3, 'max_features': None, 'n_estimators': 54, 'learning_rate': 0.3536268325576905}. Best is trial 0 with value: 25.27809813030141.\n",
      "[I 2024-12-11 18:02:49,076] Trial 1 finished with value: 26.178023909472053 and parameters: {'max_depth': 1, 'min_samples_split': 6, 'min_samples_leaf': 9, 'max_features': 'sqrt', 'n_estimators': 52, 'learning_rate': 0.4352530907081255}. Best is trial 0 with value: 25.27809813030141.\n",
      "[I 2024-12-11 18:02:49,281] Trial 2 finished with value: 25.20377148874635 and parameters: {'max_depth': 1, 'min_samples_split': 5, 'min_samples_leaf': 5, 'max_features': None, 'n_estimators': 302, 'learning_rate': 0.20218157260301506}. Best is trial 2 with value: 25.20377148874635.\n",
      "[I 2024-12-11 18:02:49,478] Trial 3 finished with value: 26.15037373827668 and parameters: {'max_depth': 1, 'min_samples_split': 3, 'min_samples_leaf': 10, 'max_features': 'sqrt', 'n_estimators': 282, 'learning_rate': 0.10956643119207028}. Best is trial 2 with value: 25.20377148874635.\n",
      "[I 2024-12-11 18:02:49,674] Trial 4 finished with value: 26.18027027439245 and parameters: {'max_depth': 1, 'min_samples_split': 6, 'min_samples_leaf': 10, 'max_features': 'log2', 'n_estimators': 339, 'learning_rate': 0.09919109712818729}. Best is trial 2 with value: 25.20377148874635.\n",
      "[I 2024-12-11 18:02:50,307] Trial 5 finished with value: 25.79959066351426 and parameters: {'max_depth': 1, 'min_samples_split': 8, 'min_samples_leaf': 8, 'max_features': None, 'n_estimators': 141, 'learning_rate': 0.029043273780823865}. Best is trial 2 with value: 25.20377148874635.\n",
      "[I 2024-12-11 18:02:50,799] Trial 6 finished with value: 17.33612782041149 and parameters: {'max_depth': 2, 'min_samples_split': 7, 'min_samples_leaf': 3, 'max_features': 'log2', 'n_estimators': 471, 'learning_rate': 0.18638283591467872}. Best is trial 6 with value: 17.33612782041149.\n",
      "[I 2024-12-11 18:02:51,211] Trial 7 finished with value: 16.225219391380136 and parameters: {'max_depth': 2, 'min_samples_split': 4, 'min_samples_leaf': 10, 'max_features': 'sqrt', 'n_estimators': 494, 'learning_rate': 0.8612982597811715}. Best is trial 7 with value: 16.225219391380136.\n",
      "[I 2024-12-11 18:02:52,114] Trial 8 finished with value: 17.02054141076665 and parameters: {'max_depth': 2, 'min_samples_split': 10, 'min_samples_leaf': 6, 'max_features': None, 'n_estimators': 275, 'learning_rate': 0.15927095747120906}. Best is trial 7 with value: 16.225219391380136.\n",
      "[I 2024-12-11 18:02:52,759] Trial 9 finished with value: 18.207880339308343 and parameters: {'max_depth': 2, 'min_samples_split': 4, 'min_samples_leaf': 8, 'max_features': 'log2', 'n_estimators': 242, 'learning_rate': 0.032215472065170545}. Best is trial 7 with value: 16.225219391380136.\n",
      "[I 2024-12-11 18:02:53,452] Trial 10 finished with value: 15.104309760131775 and parameters: {'max_depth': 2, 'min_samples_split': 2, 'min_samples_leaf': 1, 'max_features': 'sqrt', 'n_estimators': 500, 'learning_rate': 0.8525958341124389}. Best is trial 10 with value: 15.104309760131775.\n",
      "[I 2024-12-11 18:02:53,966] Trial 11 finished with value: 15.924362564049947 and parameters: {'max_depth': 2, 'min_samples_split': 2, 'min_samples_leaf': 1, 'max_features': 'sqrt', 'n_estimators': 496, 'learning_rate': 0.9643545863545837}. Best is trial 10 with value: 15.104309760131775.\n",
      "[I 2024-12-11 18:02:54,465] Trial 12 finished with value: 15.68626497454321 and parameters: {'max_depth': 2, 'min_samples_split': 2, 'min_samples_leaf': 1, 'max_features': 'sqrt', 'n_estimators': 406, 'learning_rate': 0.8045224316467616}. Best is trial 10 with value: 15.104309760131775.\n",
      "[I 2024-12-11 18:02:55,767] Trial 13 finished with value: 18.256211757312915 and parameters: {'max_depth': 2, 'min_samples_split': 2, 'min_samples_leaf': 1, 'max_features': 'sqrt', 'n_estimators': 410, 'learning_rate': 0.010838982286157872}. Best is trial 10 with value: 15.104309760131775.\n",
      "[I 2024-12-11 18:02:56,240] Trial 14 finished with value: 16.281623191621716 and parameters: {'max_depth': 2, 'min_samples_split': 2, 'min_samples_leaf': 3, 'max_features': 'sqrt', 'n_estimators': 403, 'learning_rate': 0.4954441436221276}. Best is trial 10 with value: 15.104309760131775.\n"
     ]
    }
   ],
   "source": [
    "# Optimize hyperparameters\n",
    "study_ada = optuna.create_study(direction='minimize', study_name='ada_tuning')\n",
    "study_ada.optimize(objective, n_trials=n_trials, show_progress_bar=True)"
   ]
  },
  {
   "cell_type": "code",
   "execution_count": 195,
   "id": "3503710e9d16913b",
   "metadata": {
    "ExecuteTime": {
     "end_time": "2024-12-11T23:02:56.497682Z",
     "start_time": "2024-12-11T23:02:56.404564Z"
    }
   },
   "outputs": [
    {
     "data": {
      "application/vnd.plotly.v1+json": {
       "config": {
        "plotlyServerURL": "https://plot.ly"
       },
       "data": [
        {
         "mode": "markers",
         "name": "Objective Value",
         "type": "scatter",
         "x": [
          0,
          1,
          2,
          3,
          4,
          5,
          6,
          7,
          8,
          9,
          10,
          11,
          12,
          13,
          14
         ],
         "y": [
          25.27809813030141,
          26.178023909472053,
          25.20377148874635,
          26.15037373827668,
          26.18027027439245,
          25.79959066351426,
          17.33612782041149,
          16.225219391380136,
          17.02054141076665,
          18.207880339308343,
          15.104309760131775,
          15.924362564049947,
          15.68626497454321,
          18.256211757312915,
          16.281623191621716
         ]
        },
        {
         "mode": "lines",
         "name": "Best Value",
         "type": "scatter",
         "x": [
          0,
          1,
          2,
          3,
          4,
          5,
          6,
          7,
          8,
          9,
          10,
          11,
          12,
          13,
          14
         ],
         "y": [
          25.27809813030141,
          25.27809813030141,
          25.20377148874635,
          25.20377148874635,
          25.20377148874635,
          25.20377148874635,
          17.33612782041149,
          16.225219391380136,
          16.225219391380136,
          16.225219391380136,
          15.104309760131775,
          15.104309760131775,
          15.104309760131775,
          15.104309760131775,
          15.104309760131775
         ]
        },
        {
         "marker": {
          "color": "#cccccc"
         },
         "mode": "markers",
         "name": "Infeasible Trial",
         "showlegend": false,
         "type": "scatter",
         "x": [],
         "y": []
        }
       ],
       "layout": {
        "template": {
         "data": {
          "bar": [
           {
            "error_x": {
             "color": "#2a3f5f"
            },
            "error_y": {
             "color": "#2a3f5f"
            },
            "marker": {
             "line": {
              "color": "#E5ECF6",
              "width": 0.5
             },
             "pattern": {
              "fillmode": "overlay",
              "size": 10,
              "solidity": 0.2
             }
            },
            "type": "bar"
           }
          ],
          "barpolar": [
           {
            "marker": {
             "line": {
              "color": "#E5ECF6",
              "width": 0.5
             },
             "pattern": {
              "fillmode": "overlay",
              "size": 10,
              "solidity": 0.2
             }
            },
            "type": "barpolar"
           }
          ],
          "carpet": [
           {
            "aaxis": {
             "endlinecolor": "#2a3f5f",
             "gridcolor": "white",
             "linecolor": "white",
             "minorgridcolor": "white",
             "startlinecolor": "#2a3f5f"
            },
            "baxis": {
             "endlinecolor": "#2a3f5f",
             "gridcolor": "white",
             "linecolor": "white",
             "minorgridcolor": "white",
             "startlinecolor": "#2a3f5f"
            },
            "type": "carpet"
           }
          ],
          "choropleth": [
           {
            "colorbar": {
             "outlinewidth": 0,
             "ticks": ""
            },
            "type": "choropleth"
           }
          ],
          "contour": [
           {
            "colorbar": {
             "outlinewidth": 0,
             "ticks": ""
            },
            "colorscale": [
             [
              0,
              "#0d0887"
             ],
             [
              0.1111111111111111,
              "#46039f"
             ],
             [
              0.2222222222222222,
              "#7201a8"
             ],
             [
              0.3333333333333333,
              "#9c179e"
             ],
             [
              0.4444444444444444,
              "#bd3786"
             ],
             [
              0.5555555555555556,
              "#d8576b"
             ],
             [
              0.6666666666666666,
              "#ed7953"
             ],
             [
              0.7777777777777778,
              "#fb9f3a"
             ],
             [
              0.8888888888888888,
              "#fdca26"
             ],
             [
              1,
              "#f0f921"
             ]
            ],
            "type": "contour"
           }
          ],
          "contourcarpet": [
           {
            "colorbar": {
             "outlinewidth": 0,
             "ticks": ""
            },
            "type": "contourcarpet"
           }
          ],
          "heatmap": [
           {
            "colorbar": {
             "outlinewidth": 0,
             "ticks": ""
            },
            "colorscale": [
             [
              0,
              "#0d0887"
             ],
             [
              0.1111111111111111,
              "#46039f"
             ],
             [
              0.2222222222222222,
              "#7201a8"
             ],
             [
              0.3333333333333333,
              "#9c179e"
             ],
             [
              0.4444444444444444,
              "#bd3786"
             ],
             [
              0.5555555555555556,
              "#d8576b"
             ],
             [
              0.6666666666666666,
              "#ed7953"
             ],
             [
              0.7777777777777778,
              "#fb9f3a"
             ],
             [
              0.8888888888888888,
              "#fdca26"
             ],
             [
              1,
              "#f0f921"
             ]
            ],
            "type": "heatmap"
           }
          ],
          "heatmapgl": [
           {
            "colorbar": {
             "outlinewidth": 0,
             "ticks": ""
            },
            "colorscale": [
             [
              0,
              "#0d0887"
             ],
             [
              0.1111111111111111,
              "#46039f"
             ],
             [
              0.2222222222222222,
              "#7201a8"
             ],
             [
              0.3333333333333333,
              "#9c179e"
             ],
             [
              0.4444444444444444,
              "#bd3786"
             ],
             [
              0.5555555555555556,
              "#d8576b"
             ],
             [
              0.6666666666666666,
              "#ed7953"
             ],
             [
              0.7777777777777778,
              "#fb9f3a"
             ],
             [
              0.8888888888888888,
              "#fdca26"
             ],
             [
              1,
              "#f0f921"
             ]
            ],
            "type": "heatmapgl"
           }
          ],
          "histogram": [
           {
            "marker": {
             "pattern": {
              "fillmode": "overlay",
              "size": 10,
              "solidity": 0.2
             }
            },
            "type": "histogram"
           }
          ],
          "histogram2d": [
           {
            "colorbar": {
             "outlinewidth": 0,
             "ticks": ""
            },
            "colorscale": [
             [
              0,
              "#0d0887"
             ],
             [
              0.1111111111111111,
              "#46039f"
             ],
             [
              0.2222222222222222,
              "#7201a8"
             ],
             [
              0.3333333333333333,
              "#9c179e"
             ],
             [
              0.4444444444444444,
              "#bd3786"
             ],
             [
              0.5555555555555556,
              "#d8576b"
             ],
             [
              0.6666666666666666,
              "#ed7953"
             ],
             [
              0.7777777777777778,
              "#fb9f3a"
             ],
             [
              0.8888888888888888,
              "#fdca26"
             ],
             [
              1,
              "#f0f921"
             ]
            ],
            "type": "histogram2d"
           }
          ],
          "histogram2dcontour": [
           {
            "colorbar": {
             "outlinewidth": 0,
             "ticks": ""
            },
            "colorscale": [
             [
              0,
              "#0d0887"
             ],
             [
              0.1111111111111111,
              "#46039f"
             ],
             [
              0.2222222222222222,
              "#7201a8"
             ],
             [
              0.3333333333333333,
              "#9c179e"
             ],
             [
              0.4444444444444444,
              "#bd3786"
             ],
             [
              0.5555555555555556,
              "#d8576b"
             ],
             [
              0.6666666666666666,
              "#ed7953"
             ],
             [
              0.7777777777777778,
              "#fb9f3a"
             ],
             [
              0.8888888888888888,
              "#fdca26"
             ],
             [
              1,
              "#f0f921"
             ]
            ],
            "type": "histogram2dcontour"
           }
          ],
          "mesh3d": [
           {
            "colorbar": {
             "outlinewidth": 0,
             "ticks": ""
            },
            "type": "mesh3d"
           }
          ],
          "parcoords": [
           {
            "line": {
             "colorbar": {
              "outlinewidth": 0,
              "ticks": ""
             }
            },
            "type": "parcoords"
           }
          ],
          "pie": [
           {
            "automargin": true,
            "type": "pie"
           }
          ],
          "scatter": [
           {
            "fillpattern": {
             "fillmode": "overlay",
             "size": 10,
             "solidity": 0.2
            },
            "type": "scatter"
           }
          ],
          "scatter3d": [
           {
            "line": {
             "colorbar": {
              "outlinewidth": 0,
              "ticks": ""
             }
            },
            "marker": {
             "colorbar": {
              "outlinewidth": 0,
              "ticks": ""
             }
            },
            "type": "scatter3d"
           }
          ],
          "scattercarpet": [
           {
            "marker": {
             "colorbar": {
              "outlinewidth": 0,
              "ticks": ""
             }
            },
            "type": "scattercarpet"
           }
          ],
          "scattergeo": [
           {
            "marker": {
             "colorbar": {
              "outlinewidth": 0,
              "ticks": ""
             }
            },
            "type": "scattergeo"
           }
          ],
          "scattergl": [
           {
            "marker": {
             "colorbar": {
              "outlinewidth": 0,
              "ticks": ""
             }
            },
            "type": "scattergl"
           }
          ],
          "scattermapbox": [
           {
            "marker": {
             "colorbar": {
              "outlinewidth": 0,
              "ticks": ""
             }
            },
            "type": "scattermapbox"
           }
          ],
          "scatterpolar": [
           {
            "marker": {
             "colorbar": {
              "outlinewidth": 0,
              "ticks": ""
             }
            },
            "type": "scatterpolar"
           }
          ],
          "scatterpolargl": [
           {
            "marker": {
             "colorbar": {
              "outlinewidth": 0,
              "ticks": ""
             }
            },
            "type": "scatterpolargl"
           }
          ],
          "scatterternary": [
           {
            "marker": {
             "colorbar": {
              "outlinewidth": 0,
              "ticks": ""
             }
            },
            "type": "scatterternary"
           }
          ],
          "surface": [
           {
            "colorbar": {
             "outlinewidth": 0,
             "ticks": ""
            },
            "colorscale": [
             [
              0,
              "#0d0887"
             ],
             [
              0.1111111111111111,
              "#46039f"
             ],
             [
              0.2222222222222222,
              "#7201a8"
             ],
             [
              0.3333333333333333,
              "#9c179e"
             ],
             [
              0.4444444444444444,
              "#bd3786"
             ],
             [
              0.5555555555555556,
              "#d8576b"
             ],
             [
              0.6666666666666666,
              "#ed7953"
             ],
             [
              0.7777777777777778,
              "#fb9f3a"
             ],
             [
              0.8888888888888888,
              "#fdca26"
             ],
             [
              1,
              "#f0f921"
             ]
            ],
            "type": "surface"
           }
          ],
          "table": [
           {
            "cells": {
             "fill": {
              "color": "#EBF0F8"
             },
             "line": {
              "color": "white"
             }
            },
            "header": {
             "fill": {
              "color": "#C8D4E3"
             },
             "line": {
              "color": "white"
             }
            },
            "type": "table"
           }
          ]
         },
         "layout": {
          "annotationdefaults": {
           "arrowcolor": "#2a3f5f",
           "arrowhead": 0,
           "arrowwidth": 1
          },
          "autotypenumbers": "strict",
          "coloraxis": {
           "colorbar": {
            "outlinewidth": 0,
            "ticks": ""
           }
          },
          "colorscale": {
           "diverging": [
            [
             0,
             "#8e0152"
            ],
            [
             0.1,
             "#c51b7d"
            ],
            [
             0.2,
             "#de77ae"
            ],
            [
             0.3,
             "#f1b6da"
            ],
            [
             0.4,
             "#fde0ef"
            ],
            [
             0.5,
             "#f7f7f7"
            ],
            [
             0.6,
             "#e6f5d0"
            ],
            [
             0.7,
             "#b8e186"
            ],
            [
             0.8,
             "#7fbc41"
            ],
            [
             0.9,
             "#4d9221"
            ],
            [
             1,
             "#276419"
            ]
           ],
           "sequential": [
            [
             0,
             "#0d0887"
            ],
            [
             0.1111111111111111,
             "#46039f"
            ],
            [
             0.2222222222222222,
             "#7201a8"
            ],
            [
             0.3333333333333333,
             "#9c179e"
            ],
            [
             0.4444444444444444,
             "#bd3786"
            ],
            [
             0.5555555555555556,
             "#d8576b"
            ],
            [
             0.6666666666666666,
             "#ed7953"
            ],
            [
             0.7777777777777778,
             "#fb9f3a"
            ],
            [
             0.8888888888888888,
             "#fdca26"
            ],
            [
             1,
             "#f0f921"
            ]
           ],
           "sequentialminus": [
            [
             0,
             "#0d0887"
            ],
            [
             0.1111111111111111,
             "#46039f"
            ],
            [
             0.2222222222222222,
             "#7201a8"
            ],
            [
             0.3333333333333333,
             "#9c179e"
            ],
            [
             0.4444444444444444,
             "#bd3786"
            ],
            [
             0.5555555555555556,
             "#d8576b"
            ],
            [
             0.6666666666666666,
             "#ed7953"
            ],
            [
             0.7777777777777778,
             "#fb9f3a"
            ],
            [
             0.8888888888888888,
             "#fdca26"
            ],
            [
             1,
             "#f0f921"
            ]
           ]
          },
          "colorway": [
           "#636efa",
           "#EF553B",
           "#00cc96",
           "#ab63fa",
           "#FFA15A",
           "#19d3f3",
           "#FF6692",
           "#B6E880",
           "#FF97FF",
           "#FECB52"
          ],
          "font": {
           "color": "#2a3f5f"
          },
          "geo": {
           "bgcolor": "white",
           "lakecolor": "white",
           "landcolor": "#E5ECF6",
           "showlakes": true,
           "showland": true,
           "subunitcolor": "white"
          },
          "hoverlabel": {
           "align": "left"
          },
          "hovermode": "closest",
          "mapbox": {
           "style": "light"
          },
          "paper_bgcolor": "white",
          "plot_bgcolor": "#E5ECF6",
          "polar": {
           "angularaxis": {
            "gridcolor": "white",
            "linecolor": "white",
            "ticks": ""
           },
           "bgcolor": "#E5ECF6",
           "radialaxis": {
            "gridcolor": "white",
            "linecolor": "white",
            "ticks": ""
           }
          },
          "scene": {
           "xaxis": {
            "backgroundcolor": "#E5ECF6",
            "gridcolor": "white",
            "gridwidth": 2,
            "linecolor": "white",
            "showbackground": true,
            "ticks": "",
            "zerolinecolor": "white"
           },
           "yaxis": {
            "backgroundcolor": "#E5ECF6",
            "gridcolor": "white",
            "gridwidth": 2,
            "linecolor": "white",
            "showbackground": true,
            "ticks": "",
            "zerolinecolor": "white"
           },
           "zaxis": {
            "backgroundcolor": "#E5ECF6",
            "gridcolor": "white",
            "gridwidth": 2,
            "linecolor": "white",
            "showbackground": true,
            "ticks": "",
            "zerolinecolor": "white"
           }
          },
          "shapedefaults": {
           "line": {
            "color": "#2a3f5f"
           }
          },
          "ternary": {
           "aaxis": {
            "gridcolor": "white",
            "linecolor": "white",
            "ticks": ""
           },
           "baxis": {
            "gridcolor": "white",
            "linecolor": "white",
            "ticks": ""
           },
           "bgcolor": "#E5ECF6",
           "caxis": {
            "gridcolor": "white",
            "linecolor": "white",
            "ticks": ""
           }
          },
          "title": {
           "x": 0.05
          },
          "xaxis": {
           "automargin": true,
           "gridcolor": "white",
           "linecolor": "white",
           "ticks": "",
           "title": {
            "standoff": 15
           },
           "zerolinecolor": "white",
           "zerolinewidth": 2
          },
          "yaxis": {
           "automargin": true,
           "gridcolor": "white",
           "linecolor": "white",
           "ticks": "",
           "title": {
            "standoff": 15
           },
           "zerolinecolor": "white",
           "zerolinewidth": 2
          }
         }
        },
        "title": {
         "text": "Optimization History Plot"
        },
        "xaxis": {
         "title": {
          "text": "Trial"
         }
        },
        "yaxis": {
         "title": {
          "text": "Objective Value"
         }
        }
       }
      },
      "text/html": [
       "<div>                            <div id=\"9ec66f20-899b-48c5-b8df-633234437ff7\" class=\"plotly-graph-div\" style=\"height:525px; width:100%;\"></div>            <script type=\"text/javascript\">                require([\"plotly\"], function(Plotly) {                    window.PLOTLYENV=window.PLOTLYENV || {};                                    if (document.getElementById(\"9ec66f20-899b-48c5-b8df-633234437ff7\")) {                    Plotly.newPlot(                        \"9ec66f20-899b-48c5-b8df-633234437ff7\",                        [{\"mode\":\"markers\",\"name\":\"Objective Value\",\"x\":[0,1,2,3,4,5,6,7,8,9,10,11,12,13,14],\"y\":[25.27809813030141,26.178023909472053,25.20377148874635,26.15037373827668,26.18027027439245,25.79959066351426,17.33612782041149,16.225219391380136,17.02054141076665,18.207880339308343,15.104309760131775,15.924362564049947,15.68626497454321,18.256211757312915,16.281623191621716],\"type\":\"scatter\"},{\"mode\":\"lines\",\"name\":\"Best Value\",\"x\":[0,1,2,3,4,5,6,7,8,9,10,11,12,13,14],\"y\":[25.27809813030141,25.27809813030141,25.20377148874635,25.20377148874635,25.20377148874635,25.20377148874635,17.33612782041149,16.225219391380136,16.225219391380136,16.225219391380136,15.104309760131775,15.104309760131775,15.104309760131775,15.104309760131775,15.104309760131775],\"type\":\"scatter\"},{\"marker\":{\"color\":\"#cccccc\"},\"mode\":\"markers\",\"name\":\"Infeasible Trial\",\"showlegend\":false,\"x\":[],\"y\":[],\"type\":\"scatter\"}],                        {\"title\":{\"text\":\"Optimization History Plot\"},\"xaxis\":{\"title\":{\"text\":\"Trial\"}},\"yaxis\":{\"title\":{\"text\":\"Objective Value\"}},\"template\":{\"data\":{\"histogram2dcontour\":[{\"type\":\"histogram2dcontour\",\"colorbar\":{\"outlinewidth\":0,\"ticks\":\"\"},\"colorscale\":[[0.0,\"#0d0887\"],[0.1111111111111111,\"#46039f\"],[0.2222222222222222,\"#7201a8\"],[0.3333333333333333,\"#9c179e\"],[0.4444444444444444,\"#bd3786\"],[0.5555555555555556,\"#d8576b\"],[0.6666666666666666,\"#ed7953\"],[0.7777777777777778,\"#fb9f3a\"],[0.8888888888888888,\"#fdca26\"],[1.0,\"#f0f921\"]]}],\"choropleth\":[{\"type\":\"choropleth\",\"colorbar\":{\"outlinewidth\":0,\"ticks\":\"\"}}],\"histogram2d\":[{\"type\":\"histogram2d\",\"colorbar\":{\"outlinewidth\":0,\"ticks\":\"\"},\"colorscale\":[[0.0,\"#0d0887\"],[0.1111111111111111,\"#46039f\"],[0.2222222222222222,\"#7201a8\"],[0.3333333333333333,\"#9c179e\"],[0.4444444444444444,\"#bd3786\"],[0.5555555555555556,\"#d8576b\"],[0.6666666666666666,\"#ed7953\"],[0.7777777777777778,\"#fb9f3a\"],[0.8888888888888888,\"#fdca26\"],[1.0,\"#f0f921\"]]}],\"heatmap\":[{\"type\":\"heatmap\",\"colorbar\":{\"outlinewidth\":0,\"ticks\":\"\"},\"colorscale\":[[0.0,\"#0d0887\"],[0.1111111111111111,\"#46039f\"],[0.2222222222222222,\"#7201a8\"],[0.3333333333333333,\"#9c179e\"],[0.4444444444444444,\"#bd3786\"],[0.5555555555555556,\"#d8576b\"],[0.6666666666666666,\"#ed7953\"],[0.7777777777777778,\"#fb9f3a\"],[0.8888888888888888,\"#fdca26\"],[1.0,\"#f0f921\"]]}],\"heatmapgl\":[{\"type\":\"heatmapgl\",\"colorbar\":{\"outlinewidth\":0,\"ticks\":\"\"},\"colorscale\":[[0.0,\"#0d0887\"],[0.1111111111111111,\"#46039f\"],[0.2222222222222222,\"#7201a8\"],[0.3333333333333333,\"#9c179e\"],[0.4444444444444444,\"#bd3786\"],[0.5555555555555556,\"#d8576b\"],[0.6666666666666666,\"#ed7953\"],[0.7777777777777778,\"#fb9f3a\"],[0.8888888888888888,\"#fdca26\"],[1.0,\"#f0f921\"]]}],\"contourcarpet\":[{\"type\":\"contourcarpet\",\"colorbar\":{\"outlinewidth\":0,\"ticks\":\"\"}}],\"contour\":[{\"type\":\"contour\",\"colorbar\":{\"outlinewidth\":0,\"ticks\":\"\"},\"colorscale\":[[0.0,\"#0d0887\"],[0.1111111111111111,\"#46039f\"],[0.2222222222222222,\"#7201a8\"],[0.3333333333333333,\"#9c179e\"],[0.4444444444444444,\"#bd3786\"],[0.5555555555555556,\"#d8576b\"],[0.6666666666666666,\"#ed7953\"],[0.7777777777777778,\"#fb9f3a\"],[0.8888888888888888,\"#fdca26\"],[1.0,\"#f0f921\"]]}],\"surface\":[{\"type\":\"surface\",\"colorbar\":{\"outlinewidth\":0,\"ticks\":\"\"},\"colorscale\":[[0.0,\"#0d0887\"],[0.1111111111111111,\"#46039f\"],[0.2222222222222222,\"#7201a8\"],[0.3333333333333333,\"#9c179e\"],[0.4444444444444444,\"#bd3786\"],[0.5555555555555556,\"#d8576b\"],[0.6666666666666666,\"#ed7953\"],[0.7777777777777778,\"#fb9f3a\"],[0.8888888888888888,\"#fdca26\"],[1.0,\"#f0f921\"]]}],\"mesh3d\":[{\"type\":\"mesh3d\",\"colorbar\":{\"outlinewidth\":0,\"ticks\":\"\"}}],\"scatter\":[{\"fillpattern\":{\"fillmode\":\"overlay\",\"size\":10,\"solidity\":0.2},\"type\":\"scatter\"}],\"parcoords\":[{\"type\":\"parcoords\",\"line\":{\"colorbar\":{\"outlinewidth\":0,\"ticks\":\"\"}}}],\"scatterpolargl\":[{\"type\":\"scatterpolargl\",\"marker\":{\"colorbar\":{\"outlinewidth\":0,\"ticks\":\"\"}}}],\"bar\":[{\"error_x\":{\"color\":\"#2a3f5f\"},\"error_y\":{\"color\":\"#2a3f5f\"},\"marker\":{\"line\":{\"color\":\"#E5ECF6\",\"width\":0.5},\"pattern\":{\"fillmode\":\"overlay\",\"size\":10,\"solidity\":0.2}},\"type\":\"bar\"}],\"scattergeo\":[{\"type\":\"scattergeo\",\"marker\":{\"colorbar\":{\"outlinewidth\":0,\"ticks\":\"\"}}}],\"scatterpolar\":[{\"type\":\"scatterpolar\",\"marker\":{\"colorbar\":{\"outlinewidth\":0,\"ticks\":\"\"}}}],\"histogram\":[{\"marker\":{\"pattern\":{\"fillmode\":\"overlay\",\"size\":10,\"solidity\":0.2}},\"type\":\"histogram\"}],\"scattergl\":[{\"type\":\"scattergl\",\"marker\":{\"colorbar\":{\"outlinewidth\":0,\"ticks\":\"\"}}}],\"scatter3d\":[{\"type\":\"scatter3d\",\"line\":{\"colorbar\":{\"outlinewidth\":0,\"ticks\":\"\"}},\"marker\":{\"colorbar\":{\"outlinewidth\":0,\"ticks\":\"\"}}}],\"scattermapbox\":[{\"type\":\"scattermapbox\",\"marker\":{\"colorbar\":{\"outlinewidth\":0,\"ticks\":\"\"}}}],\"scatterternary\":[{\"type\":\"scatterternary\",\"marker\":{\"colorbar\":{\"outlinewidth\":0,\"ticks\":\"\"}}}],\"scattercarpet\":[{\"type\":\"scattercarpet\",\"marker\":{\"colorbar\":{\"outlinewidth\":0,\"ticks\":\"\"}}}],\"carpet\":[{\"aaxis\":{\"endlinecolor\":\"#2a3f5f\",\"gridcolor\":\"white\",\"linecolor\":\"white\",\"minorgridcolor\":\"white\",\"startlinecolor\":\"#2a3f5f\"},\"baxis\":{\"endlinecolor\":\"#2a3f5f\",\"gridcolor\":\"white\",\"linecolor\":\"white\",\"minorgridcolor\":\"white\",\"startlinecolor\":\"#2a3f5f\"},\"type\":\"carpet\"}],\"table\":[{\"cells\":{\"fill\":{\"color\":\"#EBF0F8\"},\"line\":{\"color\":\"white\"}},\"header\":{\"fill\":{\"color\":\"#C8D4E3\"},\"line\":{\"color\":\"white\"}},\"type\":\"table\"}],\"barpolar\":[{\"marker\":{\"line\":{\"color\":\"#E5ECF6\",\"width\":0.5},\"pattern\":{\"fillmode\":\"overlay\",\"size\":10,\"solidity\":0.2}},\"type\":\"barpolar\"}],\"pie\":[{\"automargin\":true,\"type\":\"pie\"}]},\"layout\":{\"autotypenumbers\":\"strict\",\"colorway\":[\"#636efa\",\"#EF553B\",\"#00cc96\",\"#ab63fa\",\"#FFA15A\",\"#19d3f3\",\"#FF6692\",\"#B6E880\",\"#FF97FF\",\"#FECB52\"],\"font\":{\"color\":\"#2a3f5f\"},\"hovermode\":\"closest\",\"hoverlabel\":{\"align\":\"left\"},\"paper_bgcolor\":\"white\",\"plot_bgcolor\":\"#E5ECF6\",\"polar\":{\"bgcolor\":\"#E5ECF6\",\"angularaxis\":{\"gridcolor\":\"white\",\"linecolor\":\"white\",\"ticks\":\"\"},\"radialaxis\":{\"gridcolor\":\"white\",\"linecolor\":\"white\",\"ticks\":\"\"}},\"ternary\":{\"bgcolor\":\"#E5ECF6\",\"aaxis\":{\"gridcolor\":\"white\",\"linecolor\":\"white\",\"ticks\":\"\"},\"baxis\":{\"gridcolor\":\"white\",\"linecolor\":\"white\",\"ticks\":\"\"},\"caxis\":{\"gridcolor\":\"white\",\"linecolor\":\"white\",\"ticks\":\"\"}},\"coloraxis\":{\"colorbar\":{\"outlinewidth\":0,\"ticks\":\"\"}},\"colorscale\":{\"sequential\":[[0.0,\"#0d0887\"],[0.1111111111111111,\"#46039f\"],[0.2222222222222222,\"#7201a8\"],[0.3333333333333333,\"#9c179e\"],[0.4444444444444444,\"#bd3786\"],[0.5555555555555556,\"#d8576b\"],[0.6666666666666666,\"#ed7953\"],[0.7777777777777778,\"#fb9f3a\"],[0.8888888888888888,\"#fdca26\"],[1.0,\"#f0f921\"]],\"sequentialminus\":[[0.0,\"#0d0887\"],[0.1111111111111111,\"#46039f\"],[0.2222222222222222,\"#7201a8\"],[0.3333333333333333,\"#9c179e\"],[0.4444444444444444,\"#bd3786\"],[0.5555555555555556,\"#d8576b\"],[0.6666666666666666,\"#ed7953\"],[0.7777777777777778,\"#fb9f3a\"],[0.8888888888888888,\"#fdca26\"],[1.0,\"#f0f921\"]],\"diverging\":[[0,\"#8e0152\"],[0.1,\"#c51b7d\"],[0.2,\"#de77ae\"],[0.3,\"#f1b6da\"],[0.4,\"#fde0ef\"],[0.5,\"#f7f7f7\"],[0.6,\"#e6f5d0\"],[0.7,\"#b8e186\"],[0.8,\"#7fbc41\"],[0.9,\"#4d9221\"],[1,\"#276419\"]]},\"xaxis\":{\"gridcolor\":\"white\",\"linecolor\":\"white\",\"ticks\":\"\",\"title\":{\"standoff\":15},\"zerolinecolor\":\"white\",\"automargin\":true,\"zerolinewidth\":2},\"yaxis\":{\"gridcolor\":\"white\",\"linecolor\":\"white\",\"ticks\":\"\",\"title\":{\"standoff\":15},\"zerolinecolor\":\"white\",\"automargin\":true,\"zerolinewidth\":2},\"scene\":{\"xaxis\":{\"backgroundcolor\":\"#E5ECF6\",\"gridcolor\":\"white\",\"linecolor\":\"white\",\"showbackground\":true,\"ticks\":\"\",\"zerolinecolor\":\"white\",\"gridwidth\":2},\"yaxis\":{\"backgroundcolor\":\"#E5ECF6\",\"gridcolor\":\"white\",\"linecolor\":\"white\",\"showbackground\":true,\"ticks\":\"\",\"zerolinecolor\":\"white\",\"gridwidth\":2},\"zaxis\":{\"backgroundcolor\":\"#E5ECF6\",\"gridcolor\":\"white\",\"linecolor\":\"white\",\"showbackground\":true,\"ticks\":\"\",\"zerolinecolor\":\"white\",\"gridwidth\":2}},\"shapedefaults\":{\"line\":{\"color\":\"#2a3f5f\"}},\"annotationdefaults\":{\"arrowcolor\":\"#2a3f5f\",\"arrowhead\":0,\"arrowwidth\":1},\"geo\":{\"bgcolor\":\"white\",\"landcolor\":\"#E5ECF6\",\"subunitcolor\":\"white\",\"showland\":true,\"showlakes\":true,\"lakecolor\":\"white\"},\"title\":{\"x\":0.05},\"mapbox\":{\"style\":\"light\"}}}},                        {\"responsive\": true}                    ).then(function(){\n",
       "                            \n",
       "var gd = document.getElementById('9ec66f20-899b-48c5-b8df-633234437ff7');\n",
       "var x = new MutationObserver(function (mutations, observer) {{\n",
       "        var display = window.getComputedStyle(gd).display;\n",
       "        if (!display || display === 'none') {{\n",
       "            console.log([gd, 'removed!']);\n",
       "            Plotly.purge(gd);\n",
       "            observer.disconnect();\n",
       "        }}\n",
       "}});\n",
       "\n",
       "// Listen for the removal of the full notebook cells\n",
       "var notebookContainer = gd.closest('#notebook-container');\n",
       "if (notebookContainer) {{\n",
       "    x.observe(notebookContainer, {childList: true});\n",
       "}}\n",
       "\n",
       "// Listen for the clearing of the current output cell\n",
       "var outputEl = gd.closest('.output');\n",
       "if (outputEl) {{\n",
       "    x.observe(outputEl, {childList: true});\n",
       "}}\n",
       "\n",
       "                        })                };                });            </script>        </div>"
      ]
     },
     "metadata": {},
     "output_type": "display_data"
    },
    {
     "data": {
      "application/vnd.plotly.v1+json": {
       "config": {
        "plotlyServerURL": "https://plot.ly"
       },
       "data": [
        {
         "cliponaxis": false,
         "hovertemplate": [
          "max_features (CategoricalDistribution): 0.0010481646108658764<extra></extra>",
          "min_samples_leaf (IntDistribution): 0.0016601138972514701<extra></extra>",
          "learning_rate (FloatDistribution): 0.020606285030291466<extra></extra>",
          "min_samples_split (IntDistribution): 0.03172712874431456<extra></extra>",
          "n_estimators (IntDistribution): 0.10868978118743992<extra></extra>",
          "max_depth (IntDistribution): 0.8362685265298366<extra></extra>"
         ],
         "name": "Objective Value",
         "orientation": "h",
         "text": [
          "<0.01",
          "<0.01",
          "0.02",
          "0.03",
          "0.11",
          "0.84"
         ],
         "textposition": "outside",
         "type": "bar",
         "x": [
          0.0010481646108658764,
          0.0016601138972514701,
          0.020606285030291466,
          0.03172712874431456,
          0.10868978118743992,
          0.8362685265298366
         ],
         "y": [
          "max_features",
          "min_samples_leaf",
          "learning_rate",
          "min_samples_split",
          "n_estimators",
          "max_depth"
         ]
        }
       ],
       "layout": {
        "template": {
         "data": {
          "bar": [
           {
            "error_x": {
             "color": "#2a3f5f"
            },
            "error_y": {
             "color": "#2a3f5f"
            },
            "marker": {
             "line": {
              "color": "#E5ECF6",
              "width": 0.5
             },
             "pattern": {
              "fillmode": "overlay",
              "size": 10,
              "solidity": 0.2
             }
            },
            "type": "bar"
           }
          ],
          "barpolar": [
           {
            "marker": {
             "line": {
              "color": "#E5ECF6",
              "width": 0.5
             },
             "pattern": {
              "fillmode": "overlay",
              "size": 10,
              "solidity": 0.2
             }
            },
            "type": "barpolar"
           }
          ],
          "carpet": [
           {
            "aaxis": {
             "endlinecolor": "#2a3f5f",
             "gridcolor": "white",
             "linecolor": "white",
             "minorgridcolor": "white",
             "startlinecolor": "#2a3f5f"
            },
            "baxis": {
             "endlinecolor": "#2a3f5f",
             "gridcolor": "white",
             "linecolor": "white",
             "minorgridcolor": "white",
             "startlinecolor": "#2a3f5f"
            },
            "type": "carpet"
           }
          ],
          "choropleth": [
           {
            "colorbar": {
             "outlinewidth": 0,
             "ticks": ""
            },
            "type": "choropleth"
           }
          ],
          "contour": [
           {
            "colorbar": {
             "outlinewidth": 0,
             "ticks": ""
            },
            "colorscale": [
             [
              0,
              "#0d0887"
             ],
             [
              0.1111111111111111,
              "#46039f"
             ],
             [
              0.2222222222222222,
              "#7201a8"
             ],
             [
              0.3333333333333333,
              "#9c179e"
             ],
             [
              0.4444444444444444,
              "#bd3786"
             ],
             [
              0.5555555555555556,
              "#d8576b"
             ],
             [
              0.6666666666666666,
              "#ed7953"
             ],
             [
              0.7777777777777778,
              "#fb9f3a"
             ],
             [
              0.8888888888888888,
              "#fdca26"
             ],
             [
              1,
              "#f0f921"
             ]
            ],
            "type": "contour"
           }
          ],
          "contourcarpet": [
           {
            "colorbar": {
             "outlinewidth": 0,
             "ticks": ""
            },
            "type": "contourcarpet"
           }
          ],
          "heatmap": [
           {
            "colorbar": {
             "outlinewidth": 0,
             "ticks": ""
            },
            "colorscale": [
             [
              0,
              "#0d0887"
             ],
             [
              0.1111111111111111,
              "#46039f"
             ],
             [
              0.2222222222222222,
              "#7201a8"
             ],
             [
              0.3333333333333333,
              "#9c179e"
             ],
             [
              0.4444444444444444,
              "#bd3786"
             ],
             [
              0.5555555555555556,
              "#d8576b"
             ],
             [
              0.6666666666666666,
              "#ed7953"
             ],
             [
              0.7777777777777778,
              "#fb9f3a"
             ],
             [
              0.8888888888888888,
              "#fdca26"
             ],
             [
              1,
              "#f0f921"
             ]
            ],
            "type": "heatmap"
           }
          ],
          "heatmapgl": [
           {
            "colorbar": {
             "outlinewidth": 0,
             "ticks": ""
            },
            "colorscale": [
             [
              0,
              "#0d0887"
             ],
             [
              0.1111111111111111,
              "#46039f"
             ],
             [
              0.2222222222222222,
              "#7201a8"
             ],
             [
              0.3333333333333333,
              "#9c179e"
             ],
             [
              0.4444444444444444,
              "#bd3786"
             ],
             [
              0.5555555555555556,
              "#d8576b"
             ],
             [
              0.6666666666666666,
              "#ed7953"
             ],
             [
              0.7777777777777778,
              "#fb9f3a"
             ],
             [
              0.8888888888888888,
              "#fdca26"
             ],
             [
              1,
              "#f0f921"
             ]
            ],
            "type": "heatmapgl"
           }
          ],
          "histogram": [
           {
            "marker": {
             "pattern": {
              "fillmode": "overlay",
              "size": 10,
              "solidity": 0.2
             }
            },
            "type": "histogram"
           }
          ],
          "histogram2d": [
           {
            "colorbar": {
             "outlinewidth": 0,
             "ticks": ""
            },
            "colorscale": [
             [
              0,
              "#0d0887"
             ],
             [
              0.1111111111111111,
              "#46039f"
             ],
             [
              0.2222222222222222,
              "#7201a8"
             ],
             [
              0.3333333333333333,
              "#9c179e"
             ],
             [
              0.4444444444444444,
              "#bd3786"
             ],
             [
              0.5555555555555556,
              "#d8576b"
             ],
             [
              0.6666666666666666,
              "#ed7953"
             ],
             [
              0.7777777777777778,
              "#fb9f3a"
             ],
             [
              0.8888888888888888,
              "#fdca26"
             ],
             [
              1,
              "#f0f921"
             ]
            ],
            "type": "histogram2d"
           }
          ],
          "histogram2dcontour": [
           {
            "colorbar": {
             "outlinewidth": 0,
             "ticks": ""
            },
            "colorscale": [
             [
              0,
              "#0d0887"
             ],
             [
              0.1111111111111111,
              "#46039f"
             ],
             [
              0.2222222222222222,
              "#7201a8"
             ],
             [
              0.3333333333333333,
              "#9c179e"
             ],
             [
              0.4444444444444444,
              "#bd3786"
             ],
             [
              0.5555555555555556,
              "#d8576b"
             ],
             [
              0.6666666666666666,
              "#ed7953"
             ],
             [
              0.7777777777777778,
              "#fb9f3a"
             ],
             [
              0.8888888888888888,
              "#fdca26"
             ],
             [
              1,
              "#f0f921"
             ]
            ],
            "type": "histogram2dcontour"
           }
          ],
          "mesh3d": [
           {
            "colorbar": {
             "outlinewidth": 0,
             "ticks": ""
            },
            "type": "mesh3d"
           }
          ],
          "parcoords": [
           {
            "line": {
             "colorbar": {
              "outlinewidth": 0,
              "ticks": ""
             }
            },
            "type": "parcoords"
           }
          ],
          "pie": [
           {
            "automargin": true,
            "type": "pie"
           }
          ],
          "scatter": [
           {
            "fillpattern": {
             "fillmode": "overlay",
             "size": 10,
             "solidity": 0.2
            },
            "type": "scatter"
           }
          ],
          "scatter3d": [
           {
            "line": {
             "colorbar": {
              "outlinewidth": 0,
              "ticks": ""
             }
            },
            "marker": {
             "colorbar": {
              "outlinewidth": 0,
              "ticks": ""
             }
            },
            "type": "scatter3d"
           }
          ],
          "scattercarpet": [
           {
            "marker": {
             "colorbar": {
              "outlinewidth": 0,
              "ticks": ""
             }
            },
            "type": "scattercarpet"
           }
          ],
          "scattergeo": [
           {
            "marker": {
             "colorbar": {
              "outlinewidth": 0,
              "ticks": ""
             }
            },
            "type": "scattergeo"
           }
          ],
          "scattergl": [
           {
            "marker": {
             "colorbar": {
              "outlinewidth": 0,
              "ticks": ""
             }
            },
            "type": "scattergl"
           }
          ],
          "scattermapbox": [
           {
            "marker": {
             "colorbar": {
              "outlinewidth": 0,
              "ticks": ""
             }
            },
            "type": "scattermapbox"
           }
          ],
          "scatterpolar": [
           {
            "marker": {
             "colorbar": {
              "outlinewidth": 0,
              "ticks": ""
             }
            },
            "type": "scatterpolar"
           }
          ],
          "scatterpolargl": [
           {
            "marker": {
             "colorbar": {
              "outlinewidth": 0,
              "ticks": ""
             }
            },
            "type": "scatterpolargl"
           }
          ],
          "scatterternary": [
           {
            "marker": {
             "colorbar": {
              "outlinewidth": 0,
              "ticks": ""
             }
            },
            "type": "scatterternary"
           }
          ],
          "surface": [
           {
            "colorbar": {
             "outlinewidth": 0,
             "ticks": ""
            },
            "colorscale": [
             [
              0,
              "#0d0887"
             ],
             [
              0.1111111111111111,
              "#46039f"
             ],
             [
              0.2222222222222222,
              "#7201a8"
             ],
             [
              0.3333333333333333,
              "#9c179e"
             ],
             [
              0.4444444444444444,
              "#bd3786"
             ],
             [
              0.5555555555555556,
              "#d8576b"
             ],
             [
              0.6666666666666666,
              "#ed7953"
             ],
             [
              0.7777777777777778,
              "#fb9f3a"
             ],
             [
              0.8888888888888888,
              "#fdca26"
             ],
             [
              1,
              "#f0f921"
             ]
            ],
            "type": "surface"
           }
          ],
          "table": [
           {
            "cells": {
             "fill": {
              "color": "#EBF0F8"
             },
             "line": {
              "color": "white"
             }
            },
            "header": {
             "fill": {
              "color": "#C8D4E3"
             },
             "line": {
              "color": "white"
             }
            },
            "type": "table"
           }
          ]
         },
         "layout": {
          "annotationdefaults": {
           "arrowcolor": "#2a3f5f",
           "arrowhead": 0,
           "arrowwidth": 1
          },
          "autotypenumbers": "strict",
          "coloraxis": {
           "colorbar": {
            "outlinewidth": 0,
            "ticks": ""
           }
          },
          "colorscale": {
           "diverging": [
            [
             0,
             "#8e0152"
            ],
            [
             0.1,
             "#c51b7d"
            ],
            [
             0.2,
             "#de77ae"
            ],
            [
             0.3,
             "#f1b6da"
            ],
            [
             0.4,
             "#fde0ef"
            ],
            [
             0.5,
             "#f7f7f7"
            ],
            [
             0.6,
             "#e6f5d0"
            ],
            [
             0.7,
             "#b8e186"
            ],
            [
             0.8,
             "#7fbc41"
            ],
            [
             0.9,
             "#4d9221"
            ],
            [
             1,
             "#276419"
            ]
           ],
           "sequential": [
            [
             0,
             "#0d0887"
            ],
            [
             0.1111111111111111,
             "#46039f"
            ],
            [
             0.2222222222222222,
             "#7201a8"
            ],
            [
             0.3333333333333333,
             "#9c179e"
            ],
            [
             0.4444444444444444,
             "#bd3786"
            ],
            [
             0.5555555555555556,
             "#d8576b"
            ],
            [
             0.6666666666666666,
             "#ed7953"
            ],
            [
             0.7777777777777778,
             "#fb9f3a"
            ],
            [
             0.8888888888888888,
             "#fdca26"
            ],
            [
             1,
             "#f0f921"
            ]
           ],
           "sequentialminus": [
            [
             0,
             "#0d0887"
            ],
            [
             0.1111111111111111,
             "#46039f"
            ],
            [
             0.2222222222222222,
             "#7201a8"
            ],
            [
             0.3333333333333333,
             "#9c179e"
            ],
            [
             0.4444444444444444,
             "#bd3786"
            ],
            [
             0.5555555555555556,
             "#d8576b"
            ],
            [
             0.6666666666666666,
             "#ed7953"
            ],
            [
             0.7777777777777778,
             "#fb9f3a"
            ],
            [
             0.8888888888888888,
             "#fdca26"
            ],
            [
             1,
             "#f0f921"
            ]
           ]
          },
          "colorway": [
           "#636efa",
           "#EF553B",
           "#00cc96",
           "#ab63fa",
           "#FFA15A",
           "#19d3f3",
           "#FF6692",
           "#B6E880",
           "#FF97FF",
           "#FECB52"
          ],
          "font": {
           "color": "#2a3f5f"
          },
          "geo": {
           "bgcolor": "white",
           "lakecolor": "white",
           "landcolor": "#E5ECF6",
           "showlakes": true,
           "showland": true,
           "subunitcolor": "white"
          },
          "hoverlabel": {
           "align": "left"
          },
          "hovermode": "closest",
          "mapbox": {
           "style": "light"
          },
          "paper_bgcolor": "white",
          "plot_bgcolor": "#E5ECF6",
          "polar": {
           "angularaxis": {
            "gridcolor": "white",
            "linecolor": "white",
            "ticks": ""
           },
           "bgcolor": "#E5ECF6",
           "radialaxis": {
            "gridcolor": "white",
            "linecolor": "white",
            "ticks": ""
           }
          },
          "scene": {
           "xaxis": {
            "backgroundcolor": "#E5ECF6",
            "gridcolor": "white",
            "gridwidth": 2,
            "linecolor": "white",
            "showbackground": true,
            "ticks": "",
            "zerolinecolor": "white"
           },
           "yaxis": {
            "backgroundcolor": "#E5ECF6",
            "gridcolor": "white",
            "gridwidth": 2,
            "linecolor": "white",
            "showbackground": true,
            "ticks": "",
            "zerolinecolor": "white"
           },
           "zaxis": {
            "backgroundcolor": "#E5ECF6",
            "gridcolor": "white",
            "gridwidth": 2,
            "linecolor": "white",
            "showbackground": true,
            "ticks": "",
            "zerolinecolor": "white"
           }
          },
          "shapedefaults": {
           "line": {
            "color": "#2a3f5f"
           }
          },
          "ternary": {
           "aaxis": {
            "gridcolor": "white",
            "linecolor": "white",
            "ticks": ""
           },
           "baxis": {
            "gridcolor": "white",
            "linecolor": "white",
            "ticks": ""
           },
           "bgcolor": "#E5ECF6",
           "caxis": {
            "gridcolor": "white",
            "linecolor": "white",
            "ticks": ""
           }
          },
          "title": {
           "x": 0.05
          },
          "xaxis": {
           "automargin": true,
           "gridcolor": "white",
           "linecolor": "white",
           "ticks": "",
           "title": {
            "standoff": 15
           },
           "zerolinecolor": "white",
           "zerolinewidth": 2
          },
          "yaxis": {
           "automargin": true,
           "gridcolor": "white",
           "linecolor": "white",
           "ticks": "",
           "title": {
            "standoff": 15
           },
           "zerolinecolor": "white",
           "zerolinewidth": 2
          }
         }
        },
        "title": {
         "text": "Hyperparameter Importances"
        },
        "xaxis": {
         "title": {
          "text": "Hyperparameter Importance"
         }
        },
        "yaxis": {
         "title": {
          "text": "Hyperparameter"
         }
        }
       }
      },
      "text/html": [
       "<div>                            <div id=\"e2689c5d-ff68-4d9c-93c6-78816232c176\" class=\"plotly-graph-div\" style=\"height:525px; width:100%;\"></div>            <script type=\"text/javascript\">                require([\"plotly\"], function(Plotly) {                    window.PLOTLYENV=window.PLOTLYENV || {};                                    if (document.getElementById(\"e2689c5d-ff68-4d9c-93c6-78816232c176\")) {                    Plotly.newPlot(                        \"e2689c5d-ff68-4d9c-93c6-78816232c176\",                        [{\"cliponaxis\":false,\"hovertemplate\":[\"max_features (CategoricalDistribution): 0.0010481646108658764\\u003cextra\\u003e\\u003c\\u002fextra\\u003e\",\"min_samples_leaf (IntDistribution): 0.0016601138972514701\\u003cextra\\u003e\\u003c\\u002fextra\\u003e\",\"learning_rate (FloatDistribution): 0.020606285030291466\\u003cextra\\u003e\\u003c\\u002fextra\\u003e\",\"min_samples_split (IntDistribution): 0.03172712874431456\\u003cextra\\u003e\\u003c\\u002fextra\\u003e\",\"n_estimators (IntDistribution): 0.10868978118743992\\u003cextra\\u003e\\u003c\\u002fextra\\u003e\",\"max_depth (IntDistribution): 0.8362685265298366\\u003cextra\\u003e\\u003c\\u002fextra\\u003e\"],\"name\":\"Objective Value\",\"orientation\":\"h\",\"text\":[\"\\u003c0.01\",\"\\u003c0.01\",\"0.02\",\"0.03\",\"0.11\",\"0.84\"],\"textposition\":\"outside\",\"x\":[0.0010481646108658764,0.0016601138972514701,0.020606285030291466,0.03172712874431456,0.10868978118743992,0.8362685265298366],\"y\":[\"max_features\",\"min_samples_leaf\",\"learning_rate\",\"min_samples_split\",\"n_estimators\",\"max_depth\"],\"type\":\"bar\"}],                        {\"title\":{\"text\":\"Hyperparameter Importances\"},\"xaxis\":{\"title\":{\"text\":\"Hyperparameter Importance\"}},\"yaxis\":{\"title\":{\"text\":\"Hyperparameter\"}},\"template\":{\"data\":{\"histogram2dcontour\":[{\"type\":\"histogram2dcontour\",\"colorbar\":{\"outlinewidth\":0,\"ticks\":\"\"},\"colorscale\":[[0.0,\"#0d0887\"],[0.1111111111111111,\"#46039f\"],[0.2222222222222222,\"#7201a8\"],[0.3333333333333333,\"#9c179e\"],[0.4444444444444444,\"#bd3786\"],[0.5555555555555556,\"#d8576b\"],[0.6666666666666666,\"#ed7953\"],[0.7777777777777778,\"#fb9f3a\"],[0.8888888888888888,\"#fdca26\"],[1.0,\"#f0f921\"]]}],\"choropleth\":[{\"type\":\"choropleth\",\"colorbar\":{\"outlinewidth\":0,\"ticks\":\"\"}}],\"histogram2d\":[{\"type\":\"histogram2d\",\"colorbar\":{\"outlinewidth\":0,\"ticks\":\"\"},\"colorscale\":[[0.0,\"#0d0887\"],[0.1111111111111111,\"#46039f\"],[0.2222222222222222,\"#7201a8\"],[0.3333333333333333,\"#9c179e\"],[0.4444444444444444,\"#bd3786\"],[0.5555555555555556,\"#d8576b\"],[0.6666666666666666,\"#ed7953\"],[0.7777777777777778,\"#fb9f3a\"],[0.8888888888888888,\"#fdca26\"],[1.0,\"#f0f921\"]]}],\"heatmap\":[{\"type\":\"heatmap\",\"colorbar\":{\"outlinewidth\":0,\"ticks\":\"\"},\"colorscale\":[[0.0,\"#0d0887\"],[0.1111111111111111,\"#46039f\"],[0.2222222222222222,\"#7201a8\"],[0.3333333333333333,\"#9c179e\"],[0.4444444444444444,\"#bd3786\"],[0.5555555555555556,\"#d8576b\"],[0.6666666666666666,\"#ed7953\"],[0.7777777777777778,\"#fb9f3a\"],[0.8888888888888888,\"#fdca26\"],[1.0,\"#f0f921\"]]}],\"heatmapgl\":[{\"type\":\"heatmapgl\",\"colorbar\":{\"outlinewidth\":0,\"ticks\":\"\"},\"colorscale\":[[0.0,\"#0d0887\"],[0.1111111111111111,\"#46039f\"],[0.2222222222222222,\"#7201a8\"],[0.3333333333333333,\"#9c179e\"],[0.4444444444444444,\"#bd3786\"],[0.5555555555555556,\"#d8576b\"],[0.6666666666666666,\"#ed7953\"],[0.7777777777777778,\"#fb9f3a\"],[0.8888888888888888,\"#fdca26\"],[1.0,\"#f0f921\"]]}],\"contourcarpet\":[{\"type\":\"contourcarpet\",\"colorbar\":{\"outlinewidth\":0,\"ticks\":\"\"}}],\"contour\":[{\"type\":\"contour\",\"colorbar\":{\"outlinewidth\":0,\"ticks\":\"\"},\"colorscale\":[[0.0,\"#0d0887\"],[0.1111111111111111,\"#46039f\"],[0.2222222222222222,\"#7201a8\"],[0.3333333333333333,\"#9c179e\"],[0.4444444444444444,\"#bd3786\"],[0.5555555555555556,\"#d8576b\"],[0.6666666666666666,\"#ed7953\"],[0.7777777777777778,\"#fb9f3a\"],[0.8888888888888888,\"#fdca26\"],[1.0,\"#f0f921\"]]}],\"surface\":[{\"type\":\"surface\",\"colorbar\":{\"outlinewidth\":0,\"ticks\":\"\"},\"colorscale\":[[0.0,\"#0d0887\"],[0.1111111111111111,\"#46039f\"],[0.2222222222222222,\"#7201a8\"],[0.3333333333333333,\"#9c179e\"],[0.4444444444444444,\"#bd3786\"],[0.5555555555555556,\"#d8576b\"],[0.6666666666666666,\"#ed7953\"],[0.7777777777777778,\"#fb9f3a\"],[0.8888888888888888,\"#fdca26\"],[1.0,\"#f0f921\"]]}],\"mesh3d\":[{\"type\":\"mesh3d\",\"colorbar\":{\"outlinewidth\":0,\"ticks\":\"\"}}],\"scatter\":[{\"fillpattern\":{\"fillmode\":\"overlay\",\"size\":10,\"solidity\":0.2},\"type\":\"scatter\"}],\"parcoords\":[{\"type\":\"parcoords\",\"line\":{\"colorbar\":{\"outlinewidth\":0,\"ticks\":\"\"}}}],\"scatterpolargl\":[{\"type\":\"scatterpolargl\",\"marker\":{\"colorbar\":{\"outlinewidth\":0,\"ticks\":\"\"}}}],\"bar\":[{\"error_x\":{\"color\":\"#2a3f5f\"},\"error_y\":{\"color\":\"#2a3f5f\"},\"marker\":{\"line\":{\"color\":\"#E5ECF6\",\"width\":0.5},\"pattern\":{\"fillmode\":\"overlay\",\"size\":10,\"solidity\":0.2}},\"type\":\"bar\"}],\"scattergeo\":[{\"type\":\"scattergeo\",\"marker\":{\"colorbar\":{\"outlinewidth\":0,\"ticks\":\"\"}}}],\"scatterpolar\":[{\"type\":\"scatterpolar\",\"marker\":{\"colorbar\":{\"outlinewidth\":0,\"ticks\":\"\"}}}],\"histogram\":[{\"marker\":{\"pattern\":{\"fillmode\":\"overlay\",\"size\":10,\"solidity\":0.2}},\"type\":\"histogram\"}],\"scattergl\":[{\"type\":\"scattergl\",\"marker\":{\"colorbar\":{\"outlinewidth\":0,\"ticks\":\"\"}}}],\"scatter3d\":[{\"type\":\"scatter3d\",\"line\":{\"colorbar\":{\"outlinewidth\":0,\"ticks\":\"\"}},\"marker\":{\"colorbar\":{\"outlinewidth\":0,\"ticks\":\"\"}}}],\"scattermapbox\":[{\"type\":\"scattermapbox\",\"marker\":{\"colorbar\":{\"outlinewidth\":0,\"ticks\":\"\"}}}],\"scatterternary\":[{\"type\":\"scatterternary\",\"marker\":{\"colorbar\":{\"outlinewidth\":0,\"ticks\":\"\"}}}],\"scattercarpet\":[{\"type\":\"scattercarpet\",\"marker\":{\"colorbar\":{\"outlinewidth\":0,\"ticks\":\"\"}}}],\"carpet\":[{\"aaxis\":{\"endlinecolor\":\"#2a3f5f\",\"gridcolor\":\"white\",\"linecolor\":\"white\",\"minorgridcolor\":\"white\",\"startlinecolor\":\"#2a3f5f\"},\"baxis\":{\"endlinecolor\":\"#2a3f5f\",\"gridcolor\":\"white\",\"linecolor\":\"white\",\"minorgridcolor\":\"white\",\"startlinecolor\":\"#2a3f5f\"},\"type\":\"carpet\"}],\"table\":[{\"cells\":{\"fill\":{\"color\":\"#EBF0F8\"},\"line\":{\"color\":\"white\"}},\"header\":{\"fill\":{\"color\":\"#C8D4E3\"},\"line\":{\"color\":\"white\"}},\"type\":\"table\"}],\"barpolar\":[{\"marker\":{\"line\":{\"color\":\"#E5ECF6\",\"width\":0.5},\"pattern\":{\"fillmode\":\"overlay\",\"size\":10,\"solidity\":0.2}},\"type\":\"barpolar\"}],\"pie\":[{\"automargin\":true,\"type\":\"pie\"}]},\"layout\":{\"autotypenumbers\":\"strict\",\"colorway\":[\"#636efa\",\"#EF553B\",\"#00cc96\",\"#ab63fa\",\"#FFA15A\",\"#19d3f3\",\"#FF6692\",\"#B6E880\",\"#FF97FF\",\"#FECB52\"],\"font\":{\"color\":\"#2a3f5f\"},\"hovermode\":\"closest\",\"hoverlabel\":{\"align\":\"left\"},\"paper_bgcolor\":\"white\",\"plot_bgcolor\":\"#E5ECF6\",\"polar\":{\"bgcolor\":\"#E5ECF6\",\"angularaxis\":{\"gridcolor\":\"white\",\"linecolor\":\"white\",\"ticks\":\"\"},\"radialaxis\":{\"gridcolor\":\"white\",\"linecolor\":\"white\",\"ticks\":\"\"}},\"ternary\":{\"bgcolor\":\"#E5ECF6\",\"aaxis\":{\"gridcolor\":\"white\",\"linecolor\":\"white\",\"ticks\":\"\"},\"baxis\":{\"gridcolor\":\"white\",\"linecolor\":\"white\",\"ticks\":\"\"},\"caxis\":{\"gridcolor\":\"white\",\"linecolor\":\"white\",\"ticks\":\"\"}},\"coloraxis\":{\"colorbar\":{\"outlinewidth\":0,\"ticks\":\"\"}},\"colorscale\":{\"sequential\":[[0.0,\"#0d0887\"],[0.1111111111111111,\"#46039f\"],[0.2222222222222222,\"#7201a8\"],[0.3333333333333333,\"#9c179e\"],[0.4444444444444444,\"#bd3786\"],[0.5555555555555556,\"#d8576b\"],[0.6666666666666666,\"#ed7953\"],[0.7777777777777778,\"#fb9f3a\"],[0.8888888888888888,\"#fdca26\"],[1.0,\"#f0f921\"]],\"sequentialminus\":[[0.0,\"#0d0887\"],[0.1111111111111111,\"#46039f\"],[0.2222222222222222,\"#7201a8\"],[0.3333333333333333,\"#9c179e\"],[0.4444444444444444,\"#bd3786\"],[0.5555555555555556,\"#d8576b\"],[0.6666666666666666,\"#ed7953\"],[0.7777777777777778,\"#fb9f3a\"],[0.8888888888888888,\"#fdca26\"],[1.0,\"#f0f921\"]],\"diverging\":[[0,\"#8e0152\"],[0.1,\"#c51b7d\"],[0.2,\"#de77ae\"],[0.3,\"#f1b6da\"],[0.4,\"#fde0ef\"],[0.5,\"#f7f7f7\"],[0.6,\"#e6f5d0\"],[0.7,\"#b8e186\"],[0.8,\"#7fbc41\"],[0.9,\"#4d9221\"],[1,\"#276419\"]]},\"xaxis\":{\"gridcolor\":\"white\",\"linecolor\":\"white\",\"ticks\":\"\",\"title\":{\"standoff\":15},\"zerolinecolor\":\"white\",\"automargin\":true,\"zerolinewidth\":2},\"yaxis\":{\"gridcolor\":\"white\",\"linecolor\":\"white\",\"ticks\":\"\",\"title\":{\"standoff\":15},\"zerolinecolor\":\"white\",\"automargin\":true,\"zerolinewidth\":2},\"scene\":{\"xaxis\":{\"backgroundcolor\":\"#E5ECF6\",\"gridcolor\":\"white\",\"linecolor\":\"white\",\"showbackground\":true,\"ticks\":\"\",\"zerolinecolor\":\"white\",\"gridwidth\":2},\"yaxis\":{\"backgroundcolor\":\"#E5ECF6\",\"gridcolor\":\"white\",\"linecolor\":\"white\",\"showbackground\":true,\"ticks\":\"\",\"zerolinecolor\":\"white\",\"gridwidth\":2},\"zaxis\":{\"backgroundcolor\":\"#E5ECF6\",\"gridcolor\":\"white\",\"linecolor\":\"white\",\"showbackground\":true,\"ticks\":\"\",\"zerolinecolor\":\"white\",\"gridwidth\":2}},\"shapedefaults\":{\"line\":{\"color\":\"#2a3f5f\"}},\"annotationdefaults\":{\"arrowcolor\":\"#2a3f5f\",\"arrowhead\":0,\"arrowwidth\":1},\"geo\":{\"bgcolor\":\"white\",\"landcolor\":\"#E5ECF6\",\"subunitcolor\":\"white\",\"showland\":true,\"showlakes\":true,\"lakecolor\":\"white\"},\"title\":{\"x\":0.05},\"mapbox\":{\"style\":\"light\"}}}},                        {\"responsive\": true}                    ).then(function(){\n",
       "                            \n",
       "var gd = document.getElementById('e2689c5d-ff68-4d9c-93c6-78816232c176');\n",
       "var x = new MutationObserver(function (mutations, observer) {{\n",
       "        var display = window.getComputedStyle(gd).display;\n",
       "        if (!display || display === 'none') {{\n",
       "            console.log([gd, 'removed!']);\n",
       "            Plotly.purge(gd);\n",
       "            observer.disconnect();\n",
       "        }}\n",
       "}});\n",
       "\n",
       "// Listen for the removal of the full notebook cells\n",
       "var notebookContainer = gd.closest('#notebook-container');\n",
       "if (notebookContainer) {{\n",
       "    x.observe(notebookContainer, {childList: true});\n",
       "}}\n",
       "\n",
       "// Listen for the clearing of the current output cell\n",
       "var outputEl = gd.closest('.output');\n",
       "if (outputEl) {{\n",
       "    x.observe(outputEl, {childList: true});\n",
       "}}\n",
       "\n",
       "                        })                };                });            </script>        </div>"
      ]
     },
     "metadata": {},
     "output_type": "display_data"
    }
   ],
   "source": [
    "# Visualizations\n",
    "vis.plot_optimization_history(study_ada).show()\n",
    "vis.plot_param_importances(study_ada).show()"
   ]
  },
  {
   "cell_type": "markdown",
   "id": "84af9992e5ef29",
   "metadata": {},
   "source": [
    "#### Model Training"
   ]
  },
  {
   "cell_type": "code",
   "execution_count": 196,
   "id": "b25541167525f53d",
   "metadata": {
    "ExecuteTime": {
     "end_time": "2024-12-11T23:02:56.517087Z",
     "start_time": "2024-12-11T23:02:56.501249Z"
    }
   },
   "outputs": [],
   "source": [
    "# Get the best hyperparameters\n",
    "best_params_ada = study_ada.best_params"
   ]
  },
  {
   "cell_type": "code",
   "execution_count": 197,
   "id": "cd187baa0ef7c2ae",
   "metadata": {
    "ExecuteTime": {
     "end_time": "2024-12-11T23:02:56.544511Z",
     "start_time": "2024-12-11T23:02:56.527917Z"
    }
   },
   "outputs": [],
   "source": [
    "# Create the AdaBoost model with best hyperparameters\n",
    "dt = DecisionTreeRegressor(\n",
    "    max_depth=best_params_ada['max_depth'],\n",
    "    min_samples_split=best_params_ada['min_samples_split'],\n",
    "    min_samples_leaf=best_params_ada['min_samples_leaf'],\n",
    "    max_features=best_params_ada['max_features'],\n",
    "    random_state=42\n",
    ")\n",
    "\n",
    "ab = AdaBoostRegressor(\n",
    "    estimator=dt,\n",
    "    n_estimators=best_params_ada['n_estimators'],\n",
    "    learning_rate=best_params_ada['learning_rate'],\n",
    "    random_state=42\n",
    ")"
   ]
  },
  {
   "cell_type": "code",
   "execution_count": 198,
   "id": "bebba119764a1caa",
   "metadata": {
    "ExecuteTime": {
     "end_time": "2024-12-11T23:02:56.596650Z",
     "start_time": "2024-12-11T23:02:56.555477Z"
    }
   },
   "outputs": [
    {
     "data": {
      "text/html": [
       "<style>#sk-container-id-14 {\n",
       "  /* Definition of color scheme common for light and dark mode */\n",
       "  --sklearn-color-text: black;\n",
       "  --sklearn-color-line: gray;\n",
       "  /* Definition of color scheme for unfitted estimators */\n",
       "  --sklearn-color-unfitted-level-0: #fff5e6;\n",
       "  --sklearn-color-unfitted-level-1: #f6e4d2;\n",
       "  --sklearn-color-unfitted-level-2: #ffe0b3;\n",
       "  --sklearn-color-unfitted-level-3: chocolate;\n",
       "  /* Definition of color scheme for fitted estimators */\n",
       "  --sklearn-color-fitted-level-0: #f0f8ff;\n",
       "  --sklearn-color-fitted-level-1: #d4ebff;\n",
       "  --sklearn-color-fitted-level-2: #b3dbfd;\n",
       "  --sklearn-color-fitted-level-3: cornflowerblue;\n",
       "\n",
       "  /* Specific color for light theme */\n",
       "  --sklearn-color-text-on-default-background: var(--sg-text-color, var(--theme-code-foreground, var(--jp-content-font-color1, black)));\n",
       "  --sklearn-color-background: var(--sg-background-color, var(--theme-background, var(--jp-layout-color0, white)));\n",
       "  --sklearn-color-border-box: var(--sg-text-color, var(--theme-code-foreground, var(--jp-content-font-color1, black)));\n",
       "  --sklearn-color-icon: #696969;\n",
       "\n",
       "  @media (prefers-color-scheme: dark) {\n",
       "    /* Redefinition of color scheme for dark theme */\n",
       "    --sklearn-color-text-on-default-background: var(--sg-text-color, var(--theme-code-foreground, var(--jp-content-font-color1, white)));\n",
       "    --sklearn-color-background: var(--sg-background-color, var(--theme-background, var(--jp-layout-color0, #111)));\n",
       "    --sklearn-color-border-box: var(--sg-text-color, var(--theme-code-foreground, var(--jp-content-font-color1, white)));\n",
       "    --sklearn-color-icon: #878787;\n",
       "  }\n",
       "}\n",
       "\n",
       "#sk-container-id-14 {\n",
       "  color: var(--sklearn-color-text);\n",
       "}\n",
       "\n",
       "#sk-container-id-14 pre {\n",
       "  padding: 0;\n",
       "}\n",
       "\n",
       "#sk-container-id-14 input.sk-hidden--visually {\n",
       "  border: 0;\n",
       "  clip: rect(1px 1px 1px 1px);\n",
       "  clip: rect(1px, 1px, 1px, 1px);\n",
       "  height: 1px;\n",
       "  margin: -1px;\n",
       "  overflow: hidden;\n",
       "  padding: 0;\n",
       "  position: absolute;\n",
       "  width: 1px;\n",
       "}\n",
       "\n",
       "#sk-container-id-14 div.sk-dashed-wrapped {\n",
       "  border: 1px dashed var(--sklearn-color-line);\n",
       "  margin: 0 0.4em 0.5em 0.4em;\n",
       "  box-sizing: border-box;\n",
       "  padding-bottom: 0.4em;\n",
       "  background-color: var(--sklearn-color-background);\n",
       "}\n",
       "\n",
       "#sk-container-id-14 div.sk-container {\n",
       "  /* jupyter's `normalize.less` sets `[hidden] { display: none; }`\n",
       "     but bootstrap.min.css set `[hidden] { display: none !important; }`\n",
       "     so we also need the `!important` here to be able to override the\n",
       "     default hidden behavior on the sphinx rendered scikit-learn.org.\n",
       "     See: https://github.com/scikit-learn/scikit-learn/issues/21755 */\n",
       "  display: inline-block !important;\n",
       "  position: relative;\n",
       "}\n",
       "\n",
       "#sk-container-id-14 div.sk-text-repr-fallback {\n",
       "  display: none;\n",
       "}\n",
       "\n",
       "div.sk-parallel-item,\n",
       "div.sk-serial,\n",
       "div.sk-item {\n",
       "  /* draw centered vertical line to link estimators */\n",
       "  background-image: linear-gradient(var(--sklearn-color-text-on-default-background), var(--sklearn-color-text-on-default-background));\n",
       "  background-size: 2px 100%;\n",
       "  background-repeat: no-repeat;\n",
       "  background-position: center center;\n",
       "}\n",
       "\n",
       "/* Parallel-specific style estimator block */\n",
       "\n",
       "#sk-container-id-14 div.sk-parallel-item::after {\n",
       "  content: \"\";\n",
       "  width: 100%;\n",
       "  border-bottom: 2px solid var(--sklearn-color-text-on-default-background);\n",
       "  flex-grow: 1;\n",
       "}\n",
       "\n",
       "#sk-container-id-14 div.sk-parallel {\n",
       "  display: flex;\n",
       "  align-items: stretch;\n",
       "  justify-content: center;\n",
       "  background-color: var(--sklearn-color-background);\n",
       "  position: relative;\n",
       "}\n",
       "\n",
       "#sk-container-id-14 div.sk-parallel-item {\n",
       "  display: flex;\n",
       "  flex-direction: column;\n",
       "}\n",
       "\n",
       "#sk-container-id-14 div.sk-parallel-item:first-child::after {\n",
       "  align-self: flex-end;\n",
       "  width: 50%;\n",
       "}\n",
       "\n",
       "#sk-container-id-14 div.sk-parallel-item:last-child::after {\n",
       "  align-self: flex-start;\n",
       "  width: 50%;\n",
       "}\n",
       "\n",
       "#sk-container-id-14 div.sk-parallel-item:only-child::after {\n",
       "  width: 0;\n",
       "}\n",
       "\n",
       "/* Serial-specific style estimator block */\n",
       "\n",
       "#sk-container-id-14 div.sk-serial {\n",
       "  display: flex;\n",
       "  flex-direction: column;\n",
       "  align-items: center;\n",
       "  background-color: var(--sklearn-color-background);\n",
       "  padding-right: 1em;\n",
       "  padding-left: 1em;\n",
       "}\n",
       "\n",
       "\n",
       "/* Toggleable style: style used for estimator/Pipeline/ColumnTransformer box that is\n",
       "clickable and can be expanded/collapsed.\n",
       "- Pipeline and ColumnTransformer use this feature and define the default style\n",
       "- Estimators will overwrite some part of the style using the `sk-estimator` class\n",
       "*/\n",
       "\n",
       "/* Pipeline and ColumnTransformer style (default) */\n",
       "\n",
       "#sk-container-id-14 div.sk-toggleable {\n",
       "  /* Default theme specific background. It is overwritten whether we have a\n",
       "  specific estimator or a Pipeline/ColumnTransformer */\n",
       "  background-color: var(--sklearn-color-background);\n",
       "}\n",
       "\n",
       "/* Toggleable label */\n",
       "#sk-container-id-14 label.sk-toggleable__label {\n",
       "  cursor: pointer;\n",
       "  display: block;\n",
       "  width: 100%;\n",
       "  margin-bottom: 0;\n",
       "  padding: 0.5em;\n",
       "  box-sizing: border-box;\n",
       "  text-align: center;\n",
       "}\n",
       "\n",
       "#sk-container-id-14 label.sk-toggleable__label-arrow:before {\n",
       "  /* Arrow on the left of the label */\n",
       "  content: \"▸\";\n",
       "  float: left;\n",
       "  margin-right: 0.25em;\n",
       "  color: var(--sklearn-color-icon);\n",
       "}\n",
       "\n",
       "#sk-container-id-14 label.sk-toggleable__label-arrow:hover:before {\n",
       "  color: var(--sklearn-color-text);\n",
       "}\n",
       "\n",
       "/* Toggleable content - dropdown */\n",
       "\n",
       "#sk-container-id-14 div.sk-toggleable__content {\n",
       "  max-height: 0;\n",
       "  max-width: 0;\n",
       "  overflow: hidden;\n",
       "  text-align: left;\n",
       "  /* unfitted */\n",
       "  background-color: var(--sklearn-color-unfitted-level-0);\n",
       "}\n",
       "\n",
       "#sk-container-id-14 div.sk-toggleable__content.fitted {\n",
       "  /* fitted */\n",
       "  background-color: var(--sklearn-color-fitted-level-0);\n",
       "}\n",
       "\n",
       "#sk-container-id-14 div.sk-toggleable__content pre {\n",
       "  margin: 0.2em;\n",
       "  border-radius: 0.25em;\n",
       "  color: var(--sklearn-color-text);\n",
       "  /* unfitted */\n",
       "  background-color: var(--sklearn-color-unfitted-level-0);\n",
       "}\n",
       "\n",
       "#sk-container-id-14 div.sk-toggleable__content.fitted pre {\n",
       "  /* unfitted */\n",
       "  background-color: var(--sklearn-color-fitted-level-0);\n",
       "}\n",
       "\n",
       "#sk-container-id-14 input.sk-toggleable__control:checked~div.sk-toggleable__content {\n",
       "  /* Expand drop-down */\n",
       "  max-height: 200px;\n",
       "  max-width: 100%;\n",
       "  overflow: auto;\n",
       "}\n",
       "\n",
       "#sk-container-id-14 input.sk-toggleable__control:checked~label.sk-toggleable__label-arrow:before {\n",
       "  content: \"▾\";\n",
       "}\n",
       "\n",
       "/* Pipeline/ColumnTransformer-specific style */\n",
       "\n",
       "#sk-container-id-14 div.sk-label input.sk-toggleable__control:checked~label.sk-toggleable__label {\n",
       "  color: var(--sklearn-color-text);\n",
       "  background-color: var(--sklearn-color-unfitted-level-2);\n",
       "}\n",
       "\n",
       "#sk-container-id-14 div.sk-label.fitted input.sk-toggleable__control:checked~label.sk-toggleable__label {\n",
       "  background-color: var(--sklearn-color-fitted-level-2);\n",
       "}\n",
       "\n",
       "/* Estimator-specific style */\n",
       "\n",
       "/* Colorize estimator box */\n",
       "#sk-container-id-14 div.sk-estimator input.sk-toggleable__control:checked~label.sk-toggleable__label {\n",
       "  /* unfitted */\n",
       "  background-color: var(--sklearn-color-unfitted-level-2);\n",
       "}\n",
       "\n",
       "#sk-container-id-14 div.sk-estimator.fitted input.sk-toggleable__control:checked~label.sk-toggleable__label {\n",
       "  /* fitted */\n",
       "  background-color: var(--sklearn-color-fitted-level-2);\n",
       "}\n",
       "\n",
       "#sk-container-id-14 div.sk-label label.sk-toggleable__label,\n",
       "#sk-container-id-14 div.sk-label label {\n",
       "  /* The background is the default theme color */\n",
       "  color: var(--sklearn-color-text-on-default-background);\n",
       "}\n",
       "\n",
       "/* On hover, darken the color of the background */\n",
       "#sk-container-id-14 div.sk-label:hover label.sk-toggleable__label {\n",
       "  color: var(--sklearn-color-text);\n",
       "  background-color: var(--sklearn-color-unfitted-level-2);\n",
       "}\n",
       "\n",
       "/* Label box, darken color on hover, fitted */\n",
       "#sk-container-id-14 div.sk-label.fitted:hover label.sk-toggleable__label.fitted {\n",
       "  color: var(--sklearn-color-text);\n",
       "  background-color: var(--sklearn-color-fitted-level-2);\n",
       "}\n",
       "\n",
       "/* Estimator label */\n",
       "\n",
       "#sk-container-id-14 div.sk-label label {\n",
       "  font-family: monospace;\n",
       "  font-weight: bold;\n",
       "  display: inline-block;\n",
       "  line-height: 1.2em;\n",
       "}\n",
       "\n",
       "#sk-container-id-14 div.sk-label-container {\n",
       "  text-align: center;\n",
       "}\n",
       "\n",
       "/* Estimator-specific */\n",
       "#sk-container-id-14 div.sk-estimator {\n",
       "  font-family: monospace;\n",
       "  border: 1px dotted var(--sklearn-color-border-box);\n",
       "  border-radius: 0.25em;\n",
       "  box-sizing: border-box;\n",
       "  margin-bottom: 0.5em;\n",
       "  /* unfitted */\n",
       "  background-color: var(--sklearn-color-unfitted-level-0);\n",
       "}\n",
       "\n",
       "#sk-container-id-14 div.sk-estimator.fitted {\n",
       "  /* fitted */\n",
       "  background-color: var(--sklearn-color-fitted-level-0);\n",
       "}\n",
       "\n",
       "/* on hover */\n",
       "#sk-container-id-14 div.sk-estimator:hover {\n",
       "  /* unfitted */\n",
       "  background-color: var(--sklearn-color-unfitted-level-2);\n",
       "}\n",
       "\n",
       "#sk-container-id-14 div.sk-estimator.fitted:hover {\n",
       "  /* fitted */\n",
       "  background-color: var(--sklearn-color-fitted-level-2);\n",
       "}\n",
       "\n",
       "/* Specification for estimator info (e.g. \"i\" and \"?\") */\n",
       "\n",
       "/* Common style for \"i\" and \"?\" */\n",
       "\n",
       ".sk-estimator-doc-link,\n",
       "a:link.sk-estimator-doc-link,\n",
       "a:visited.sk-estimator-doc-link {\n",
       "  float: right;\n",
       "  font-size: smaller;\n",
       "  line-height: 1em;\n",
       "  font-family: monospace;\n",
       "  background-color: var(--sklearn-color-background);\n",
       "  border-radius: 1em;\n",
       "  height: 1em;\n",
       "  width: 1em;\n",
       "  text-decoration: none !important;\n",
       "  margin-left: 1ex;\n",
       "  /* unfitted */\n",
       "  border: var(--sklearn-color-unfitted-level-1) 1pt solid;\n",
       "  color: var(--sklearn-color-unfitted-level-1);\n",
       "}\n",
       "\n",
       ".sk-estimator-doc-link.fitted,\n",
       "a:link.sk-estimator-doc-link.fitted,\n",
       "a:visited.sk-estimator-doc-link.fitted {\n",
       "  /* fitted */\n",
       "  border: var(--sklearn-color-fitted-level-1) 1pt solid;\n",
       "  color: var(--sklearn-color-fitted-level-1);\n",
       "}\n",
       "\n",
       "/* On hover */\n",
       "div.sk-estimator:hover .sk-estimator-doc-link:hover,\n",
       ".sk-estimator-doc-link:hover,\n",
       "div.sk-label-container:hover .sk-estimator-doc-link:hover,\n",
       ".sk-estimator-doc-link:hover {\n",
       "  /* unfitted */\n",
       "  background-color: var(--sklearn-color-unfitted-level-3);\n",
       "  color: var(--sklearn-color-background);\n",
       "  text-decoration: none;\n",
       "}\n",
       "\n",
       "div.sk-estimator.fitted:hover .sk-estimator-doc-link.fitted:hover,\n",
       ".sk-estimator-doc-link.fitted:hover,\n",
       "div.sk-label-container:hover .sk-estimator-doc-link.fitted:hover,\n",
       ".sk-estimator-doc-link.fitted:hover {\n",
       "  /* fitted */\n",
       "  background-color: var(--sklearn-color-fitted-level-3);\n",
       "  color: var(--sklearn-color-background);\n",
       "  text-decoration: none;\n",
       "}\n",
       "\n",
       "/* Span, style for the box shown on hovering the info icon */\n",
       ".sk-estimator-doc-link span {\n",
       "  display: none;\n",
       "  z-index: 9999;\n",
       "  position: relative;\n",
       "  font-weight: normal;\n",
       "  right: .2ex;\n",
       "  padding: .5ex;\n",
       "  margin: .5ex;\n",
       "  width: min-content;\n",
       "  min-width: 20ex;\n",
       "  max-width: 50ex;\n",
       "  color: var(--sklearn-color-text);\n",
       "  box-shadow: 2pt 2pt 4pt #999;\n",
       "  /* unfitted */\n",
       "  background: var(--sklearn-color-unfitted-level-0);\n",
       "  border: .5pt solid var(--sklearn-color-unfitted-level-3);\n",
       "}\n",
       "\n",
       ".sk-estimator-doc-link.fitted span {\n",
       "  /* fitted */\n",
       "  background: var(--sklearn-color-fitted-level-0);\n",
       "  border: var(--sklearn-color-fitted-level-3);\n",
       "}\n",
       "\n",
       ".sk-estimator-doc-link:hover span {\n",
       "  display: block;\n",
       "}\n",
       "\n",
       "/* \"?\"-specific style due to the `<a>` HTML tag */\n",
       "\n",
       "#sk-container-id-14 a.estimator_doc_link {\n",
       "  float: right;\n",
       "  font-size: 1rem;\n",
       "  line-height: 1em;\n",
       "  font-family: monospace;\n",
       "  background-color: var(--sklearn-color-background);\n",
       "  border-radius: 1rem;\n",
       "  height: 1rem;\n",
       "  width: 1rem;\n",
       "  text-decoration: none;\n",
       "  /* unfitted */\n",
       "  color: var(--sklearn-color-unfitted-level-1);\n",
       "  border: var(--sklearn-color-unfitted-level-1) 1pt solid;\n",
       "}\n",
       "\n",
       "#sk-container-id-14 a.estimator_doc_link.fitted {\n",
       "  /* fitted */\n",
       "  border: var(--sklearn-color-fitted-level-1) 1pt solid;\n",
       "  color: var(--sklearn-color-fitted-level-1);\n",
       "}\n",
       "\n",
       "/* On hover */\n",
       "#sk-container-id-14 a.estimator_doc_link:hover {\n",
       "  /* unfitted */\n",
       "  background-color: var(--sklearn-color-unfitted-level-3);\n",
       "  color: var(--sklearn-color-background);\n",
       "  text-decoration: none;\n",
       "}\n",
       "\n",
       "#sk-container-id-14 a.estimator_doc_link.fitted:hover {\n",
       "  /* fitted */\n",
       "  background-color: var(--sklearn-color-fitted-level-3);\n",
       "}\n",
       "</style><div id=\"sk-container-id-14\" class=\"sk-top-container\"><div class=\"sk-text-repr-fallback\"><pre>AdaBoostRegressor(estimator=DecisionTreeRegressor(max_depth=2,\n",
       "                                                  max_features=&#x27;sqrt&#x27;,\n",
       "                                                  random_state=42),\n",
       "                  learning_rate=0.8525958341124389, n_estimators=500,\n",
       "                  random_state=42)</pre><b>In a Jupyter environment, please rerun this cell to show the HTML representation or trust the notebook. <br />On GitHub, the HTML representation is unable to render, please try loading this page with nbviewer.org.</b></div><div class=\"sk-container\" hidden><div class=\"sk-item sk-dashed-wrapped\"><div class=\"sk-label-container\"><div class=\"sk-label fitted sk-toggleable\"><input class=\"sk-toggleable__control sk-hidden--visually\" id=\"sk-estimator-id-22\" type=\"checkbox\" ><label for=\"sk-estimator-id-22\" class=\"sk-toggleable__label fitted sk-toggleable__label-arrow fitted\">&nbsp;&nbsp;AdaBoostRegressor<a class=\"sk-estimator-doc-link fitted\" rel=\"noreferrer\" target=\"_blank\" href=\"https://scikit-learn.org/1.5/modules/generated/sklearn.ensemble.AdaBoostRegressor.html\">?<span>Documentation for AdaBoostRegressor</span></a><span class=\"sk-estimator-doc-link fitted\">i<span>Fitted</span></span></label><div class=\"sk-toggleable__content fitted\"><pre>AdaBoostRegressor(estimator=DecisionTreeRegressor(max_depth=2,\n",
       "                                                  max_features=&#x27;sqrt&#x27;,\n",
       "                                                  random_state=42),\n",
       "                  learning_rate=0.8525958341124389, n_estimators=500,\n",
       "                  random_state=42)</pre></div> </div></div><div class=\"sk-parallel\"><div class=\"sk-parallel-item\"><div class=\"sk-item\"><div class=\"sk-label-container\"><div class=\"sk-label fitted sk-toggleable\"><input class=\"sk-toggleable__control sk-hidden--visually\" id=\"sk-estimator-id-23\" type=\"checkbox\" ><label for=\"sk-estimator-id-23\" class=\"sk-toggleable__label fitted sk-toggleable__label-arrow fitted\">estimator: DecisionTreeRegressor</label><div class=\"sk-toggleable__content fitted\"><pre>DecisionTreeRegressor(max_depth=2, max_features=&#x27;sqrt&#x27;, random_state=42)</pre></div> </div></div><div class=\"sk-serial\"><div class=\"sk-item\"><div class=\"sk-estimator fitted sk-toggleable\"><input class=\"sk-toggleable__control sk-hidden--visually\" id=\"sk-estimator-id-24\" type=\"checkbox\" ><label for=\"sk-estimator-id-24\" class=\"sk-toggleable__label fitted sk-toggleable__label-arrow fitted\">&nbsp;DecisionTreeRegressor<a class=\"sk-estimator-doc-link fitted\" rel=\"noreferrer\" target=\"_blank\" href=\"https://scikit-learn.org/1.5/modules/generated/sklearn.tree.DecisionTreeRegressor.html\">?<span>Documentation for DecisionTreeRegressor</span></a></label><div class=\"sk-toggleable__content fitted\"><pre>DecisionTreeRegressor(max_depth=2, max_features=&#x27;sqrt&#x27;, random_state=42)</pre></div> </div></div></div></div></div></div></div></div></div>"
      ],
      "text/plain": [
       "AdaBoostRegressor(estimator=DecisionTreeRegressor(max_depth=2,\n",
       "                                                  max_features='sqrt',\n",
       "                                                  random_state=42),\n",
       "                  learning_rate=0.8525958341124389, n_estimators=500,\n",
       "                  random_state=42)"
      ]
     },
     "execution_count": 198,
     "metadata": {},
     "output_type": "execute_result"
    }
   ],
   "source": [
    "# Fit the model\n",
    "ab.fit(X_train, y_train)"
   ]
  },
  {
   "cell_type": "markdown",
   "id": "8915d82d7c457b7f",
   "metadata": {},
   "source": [
    "#### Model Evaluation"
   ]
  },
  {
   "cell_type": "code",
   "execution_count": 199,
   "id": "9c0ac0ae50f964a6",
   "metadata": {
    "ExecuteTime": {
     "end_time": "2024-12-11T23:02:56.628354Z",
     "start_time": "2024-12-11T23:02:56.608148Z"
    }
   },
   "outputs": [],
   "source": [
    "y_pred_ada_train = ab.predict(X_train)\n",
    "y_pred_ada_test = ab.predict(X_test)"
   ]
  },
  {
   "cell_type": "code",
   "execution_count": 200,
   "id": "917403bda6963f9c",
   "metadata": {
    "ExecuteTime": {
     "end_time": "2024-12-11T23:02:56.717655Z",
     "start_time": "2024-12-11T23:02:56.638394Z"
    }
   },
   "outputs": [
    {
     "data": {
      "image/png": "[encoded data removed]",
      "text/plain": [
       "<Figure size 1000x600 with 1 Axes>"
      ]
     },
     "metadata": {},
     "output_type": "display_data"
    }
   ],
   "source": [
    "# plot top 10 features\n",
    "plt.figure(figsize=(10, 6))\n",
    "plt.barh(X.columns[np.argsort(ab.feature_importances_)[::-1][:10]],\n",
    "         ab.feature_importances_[np.argsort(ab.feature_importances_)[::-1][:10]])\n",
    "plt.xlabel('Feature Importance')\n",
    "plt.ylabel('Feature')\n",
    "plt.title('Top 10 Features')\n",
    "plt.show()"
   ]
  },
  {
   "cell_type": "code",
   "execution_count": 201,
   "id": "ad0d0b4ac039803c",
   "metadata": {
    "ExecuteTime": {
     "end_time": "2024-12-11T23:02:56.806054Z",
     "start_time": "2024-12-11T23:02:56.730645Z"
    }
   },
   "outputs": [
    {
     "data": {
      "image/png": "[encoded data removed]",
      "text/plain": [
       "<Figure size 1000x600 with 1 Axes>"
      ]
     },
     "metadata": {},
     "output_type": "display_data"
    }
   ],
   "source": [
    "# show predicted vs actual\n",
    "plt.figure(figsize=(10, 6))\n",
    "plt.plot(y_test.index, y_test, label='Actual')\n",
    "plt.plot(y_test.index, y_pred_ada_test, label='Predicted')\n",
    "plt.xlabel('Date')\n",
    "plt.ylabel('Price')\n",
    "plt.title('AdaBoost Predicted vs Actual')\n",
    "plt.legend()\n",
    "plt.show()"
   ]
  },
  {
   "cell_type": "markdown",
   "id": "d643b1b75a5c3c2b",
   "metadata": {},
   "source": [
    "#### Model Saving"
   ]
  },
  {
   "cell_type": "code",
   "execution_count": 202,
   "id": "faf10680b17ae6c5",
   "metadata": {
    "ExecuteTime": {
     "end_time": "2024-12-11T23:02:56.838384Z",
     "start_time": "2024-12-11T23:02:56.819677Z"
    }
   },
   "outputs": [],
   "source": [
    "# Save the model\n",
    "pickle.dump(ab, open('../models/ESS_ab.pkl', 'wb'))"
   ]
  },
  {
   "cell_type": "markdown",
   "id": "7c72d40f-cc32-45b3-92a4-6e007fa636a6",
   "metadata": {},
   "source": [
    "### XGBoost"
   ]
  },
  {
   "cell_type": "markdown",
   "id": "a711e506-6e56-4151-98e5-8a2b3fda5dc1",
   "metadata": {},
   "source": [
    "#### Hyperparameter Tuning"
   ]
  },
  {
   "cell_type": "code",
   "execution_count": 203,
   "id": "fad078c5-6c7b-406b-b060-8af0f974fec6",
   "metadata": {
    "ExecuteTime": {
     "end_time": "2024-12-11T23:02:56.866484Z",
     "start_time": "2024-12-11T23:02:56.849284Z"
    }
   },
   "outputs": [],
   "source": [
    "# Hyperparameter search space\n",
    "def objective(trial):\n",
    "    # Define the hyperparameter search space\n",
    "    param = {\n",
    "        \"n_estimators\": trial.suggest_int(\"n_estimators\", 50, 1000),\n",
    "        \"max_depth\": trial.suggest_int(\"max_depth\", 3, 6),\n",
    "        \"learning_rate\": trial.suggest_float(\"learning_rate\", 0.01, 0.3, log=True),\n",
    "        \"subsample\": trial.suggest_float(\"subsample\", 0.3, 1.0),\n",
    "        \"colsample_bytree\": trial.suggest_float(\"colsample_bytree\", 0.5, 1.0),\n",
    "        \"gamma\": trial.suggest_float(\"gamma\", 0, 10),\n",
    "        \"min_child_weight\": trial.suggest_int(\"min_child_weight\", 1, 10),\n",
    "        \"reg_alpha\": trial.suggest_float(\"reg_alpha\", 0, 10),  # L1 regularization\n",
    "        \"reg_lambda\": trial.suggest_float(\"reg_lambda\", 0, 10),  # L2 regularization\n",
    "    }\n",
    "\n",
    "    # Initialize XGBoost model\n",
    "    model = XGBRegressor(random_state=42, **param)\n",
    "\n",
    "    scores = cross_val_score(model, X_train, y_train, scoring=scorer, cv=cv, n_jobs=-1)\n",
    "\n",
    "    return -scores.mean()"
   ]
  },
  {
   "cell_type": "code",
   "execution_count": 204,
   "id": "9a9f14e79f9bbbff",
   "metadata": {
    "ExecuteTime": {
     "end_time": "2024-12-11T23:03:25.057513Z",
     "start_time": "2024-12-11T23:02:56.880376Z"
    }
   },
   "outputs": [
    {
     "name": "stderr",
     "output_type": "stream",
     "text": [
      "[I 2024-12-11 18:02:56,895] A new study created in memory with name: xg_tuning\n"
     ]
    },
    {
     "data": {
      "application/vnd.jupyter.widget-view+json": {
       "model_id": "f2c2b59f9ba54090871f901b9234b2bf",
       "version_major": 2,
       "version_minor": 0
      },
      "text/plain": [
       "  0%|          | 0/15 [00:00<?, ?it/s]"
      ]
     },
     "metadata": {},
     "output_type": "display_data"
    },
    {
     "name": "stdout",
     "output_type": "stream",
     "text": [
      "[I 2024-12-11 18:02:57,821] Trial 0 finished with value: 8.541670850100422 and parameters: {'n_estimators': 274, 'max_depth': 4, 'learning_rate': 0.016056478983893546, 'subsample': 0.50007546383438, 'colsample_bytree': 0.511441837337316, 'gamma': 2.331787110547574, 'min_child_weight': 7, 'reg_alpha': 0.20464600054198812, 'reg_lambda': 0.461657969316529}. Best is trial 0 with value: 8.541670850100422.\n",
      "[I 2024-12-11 18:02:58,666] Trial 1 finished with value: 9.176471900572608 and parameters: {'n_estimators': 303, 'max_depth': 4, 'learning_rate': 0.2837020867596455, 'subsample': 0.5518594383161242, 'colsample_bytree': 0.733813132194207, 'gamma': 1.8031205197600153, 'min_child_weight': 3, 'reg_alpha': 9.196366760303166, 'reg_lambda': 5.494429191163372}. Best is trial 0 with value: 8.541670850100422.\n",
      "[I 2024-12-11 18:03:00,843] Trial 2 finished with value: 8.203390409176285 and parameters: {'n_estimators': 696, 'max_depth': 3, 'learning_rate': 0.020574603332665094, 'subsample': 0.6250464652126456, 'colsample_bytree': 0.9328955810718839, 'gamma': 2.8597857986493658, 'min_child_weight': 2, 'reg_alpha': 2.1757304004781886, 'reg_lambda': 2.848842341884633}. Best is trial 2 with value: 8.203390409176285.\n",
      "[I 2024-12-11 18:03:01,942] Trial 3 finished with value: 8.091658060615245 and parameters: {'n_estimators': 186, 'max_depth': 6, 'learning_rate': 0.03931456488703835, 'subsample': 0.9742581702855888, 'colsample_bytree': 0.8271493480131579, 'gamma': 6.985255659302353, 'min_child_weight': 8, 'reg_alpha': 2.3240724080857325, 'reg_lambda': 9.794802364075489}. Best is trial 3 with value: 8.091658060615245.\n",
      "[I 2024-12-11 18:03:03,122] Trial 4 finished with value: 8.490297026438697 and parameters: {'n_estimators': 524, 'max_depth': 3, 'learning_rate': 0.038049267439619616, 'subsample': 0.3604734047927446, 'colsample_bytree': 0.8258707110254205, 'gamma': 0.282034786375871, 'min_child_weight': 4, 'reg_alpha': 6.618960238209567, 'reg_lambda': 5.3327638724888216}. Best is trial 3 with value: 8.091658060615245.\n",
      "[I 2024-12-11 18:03:04,314] Trial 5 finished with value: 8.366915545738195 and parameters: {'n_estimators': 378, 'max_depth': 6, 'learning_rate': 0.09812578940036837, 'subsample': 0.3959978724592428, 'colsample_bytree': 0.7300884216480346, 'gamma': 6.782653029898544, 'min_child_weight': 5, 'reg_alpha': 1.271446535050661, 'reg_lambda': 7.583646291713867}. Best is trial 3 with value: 8.091658060615245.\n",
      "[I 2024-12-11 18:03:05,895] Trial 6 finished with value: 8.312493137606792 and parameters: {'n_estimators': 794, 'max_depth': 4, 'learning_rate': 0.07237877264220675, 'subsample': 0.43969227866322413, 'colsample_bytree': 0.8918982534614892, 'gamma': 6.59887682057599, 'min_child_weight': 7, 'reg_alpha': 7.318582444219234, 'reg_lambda': 5.294972084388822}. Best is trial 3 with value: 8.091658060615245.\n",
      "[I 2024-12-11 18:03:07,307] Trial 7 finished with value: 8.619114683933002 and parameters: {'n_estimators': 915, 'max_depth': 3, 'learning_rate': 0.08787563439746303, 'subsample': 0.3758085423463919, 'colsample_bytree': 0.8317786953269031, 'gamma': 9.79829776218454, 'min_child_weight': 1, 'reg_alpha': 0.046872782292212145, 'reg_lambda': 2.1292266709266547}. Best is trial 3 with value: 8.091658060615245.\n",
      "[I 2024-12-11 18:03:08,425] Trial 8 finished with value: 8.583470597444848 and parameters: {'n_estimators': 235, 'max_depth': 6, 'learning_rate': 0.016351580628347004, 'subsample': 0.7587283587031911, 'colsample_bytree': 0.6720877582881998, 'gamma': 8.069643881233539, 'min_child_weight': 6, 'reg_alpha': 6.751728419189346, 'reg_lambda': 3.7364373956550323}. Best is trial 3 with value: 8.091658060615245.\n",
      "[I 2024-12-11 18:03:12,655] Trial 9 finished with value: 7.903222179847054 and parameters: {'n_estimators': 884, 'max_depth': 5, 'learning_rate': 0.012715935503376453, 'subsample': 0.6244822524083038, 'colsample_bytree': 0.6430079944046099, 'gamma': 5.216490419939496, 'min_child_weight': 3, 'reg_alpha': 7.6687801736365895, 'reg_lambda': 6.554155232650034}. Best is trial 9 with value: 7.903222179847054.\n",
      "[I 2024-12-11 18:03:16,193] Trial 10 finished with value: 7.821315093073499 and parameters: {'n_estimators': 947, 'max_depth': 5, 'learning_rate': 0.01119869113690577, 'subsample': 0.773357256615456, 'colsample_bytree': 0.585050271201188, 'gamma': 4.700826687092552, 'min_child_weight': 9, 'reg_alpha': 3.9311269426982562, 'reg_lambda': 7.969957624031317}. Best is trial 10 with value: 7.821315093073499.\n",
      "[I 2024-12-11 18:03:18,952] Trial 11 finished with value: 7.877794182974791 and parameters: {'n_estimators': 991, 'max_depth': 5, 'learning_rate': 0.010458021197848215, 'subsample': 0.7777851051458217, 'colsample_bytree': 0.5882313943382892, 'gamma': 4.394103347295086, 'min_child_weight': 10, 'reg_alpha': 3.571245826379286, 'reg_lambda': 8.130108229066554}. Best is trial 10 with value: 7.821315093073499.\n",
      "[I 2024-12-11 18:03:21,681] Trial 12 finished with value: 7.864989274330625 and parameters: {'n_estimators': 990, 'max_depth': 5, 'learning_rate': 0.010848953268619491, 'subsample': 0.8224601283115891, 'colsample_bytree': 0.5190264859599374, 'gamma': 4.226988367818357, 'min_child_weight': 10, 'reg_alpha': 3.277738516818336, 'reg_lambda': 8.940120582949628}. Best is trial 10 with value: 7.821315093073499.\n",
      "[I 2024-12-11 18:03:23,364] Trial 13 finished with value: 7.854814671717671 and parameters: {'n_estimators': 704, 'max_depth': 5, 'learning_rate': 0.02739860952187373, 'subsample': 0.8844649455308324, 'colsample_bytree': 0.5028858196434581, 'gamma': 4.280951644957968, 'min_child_weight': 10, 'reg_alpha': 4.6136180003743945, 'reg_lambda': 9.97309262372601}. Best is trial 10 with value: 7.821315093073499.\n",
      "[I 2024-12-11 18:03:25,052] Trial 14 finished with value: 8.002776239278402 and parameters: {'n_estimators': 679, 'max_depth': 5, 'learning_rate': 0.026849375174654192, 'subsample': 0.9413983396646493, 'colsample_bytree': 0.5795380985130683, 'gamma': 5.536318436548053, 'min_child_weight': 9, 'reg_alpha': 4.664259147726067, 'reg_lambda': 9.649586991908615}. Best is trial 10 with value: 7.821315093073499.\n"
     ]
    }
   ],
   "source": [
    "# Optimize hyperparameters\n",
    "study_xg = optuna.create_study(direction='minimize', study_name='xg_tuning')\n",
    "study_xg.optimize(objective, n_trials=n_trials, show_progress_bar=True)"
   ]
  },
  {
   "cell_type": "code",
   "execution_count": 205,
   "id": "51d0dbc5c4e8f9d2",
   "metadata": {
    "ExecuteTime": {
     "end_time": "2024-12-11T23:03:25.215519Z",
     "start_time": "2024-12-11T23:03:25.088194Z"
    }
   },
   "outputs": [
    {
     "data": {
      "application/vnd.plotly.v1+json": {
       "config": {
        "plotlyServerURL": "https://plot.ly"
       },
       "data": [
        {
         "mode": "markers",
         "name": "Objective Value",
         "type": "scatter",
         "x": [
          0,
          1,
          2,
          3,
          4,
          5,
          6,
          7,
          8,
          9,
          10,
          11,
          12,
          13,
          14
         ],
         "y": [
          8.541670850100422,
          9.176471900572608,
          8.203390409176285,
          8.091658060615245,
          8.490297026438697,
          8.366915545738195,
          8.312493137606792,
          8.619114683933002,
          8.583470597444848,
          7.903222179847054,
          7.821315093073499,
          7.877794182974791,
          7.864989274330625,
          7.854814671717671,
          8.002776239278402
         ]
        },
        {
         "mode": "lines",
         "name": "Best Value",
         "type": "scatter",
         "x": [
          0,
          1,
          2,
          3,
          4,
          5,
          6,
          7,
          8,
          9,
          10,
          11,
          12,
          13,
          14
         ],
         "y": [
          8.541670850100422,
          8.541670850100422,
          8.203390409176285,
          8.091658060615245,
          8.091658060615245,
          8.091658060615245,
          8.091658060615245,
          8.091658060615245,
          8.091658060615245,
          7.903222179847054,
          7.821315093073499,
          7.821315093073499,
          7.821315093073499,
          7.821315093073499,
          7.821315093073499
         ]
        },
        {
         "marker": {
          "color": "#cccccc"
         },
         "mode": "markers",
         "name": "Infeasible Trial",
         "showlegend": false,
         "type": "scatter",
         "x": [],
         "y": []
        }
       ],
       "layout": {
        "template": {
         "data": {
          "bar": [
           {
            "error_x": {
             "color": "#2a3f5f"
            },
            "error_y": {
             "color": "#2a3f5f"
            },
            "marker": {
             "line": {
              "color": "#E5ECF6",
              "width": 0.5
             },
             "pattern": {
              "fillmode": "overlay",
              "size": 10,
              "solidity": 0.2
             }
            },
            "type": "bar"
           }
          ],
          "barpolar": [
           {
            "marker": {
             "line": {
              "color": "#E5ECF6",
              "width": 0.5
             },
             "pattern": {
              "fillmode": "overlay",
              "size": 10,
              "solidity": 0.2
             }
            },
            "type": "barpolar"
           }
          ],
          "carpet": [
           {
            "aaxis": {
             "endlinecolor": "#2a3f5f",
             "gridcolor": "white",
             "linecolor": "white",
             "minorgridcolor": "white",
             "startlinecolor": "#2a3f5f"
            },
            "baxis": {
             "endlinecolor": "#2a3f5f",
             "gridcolor": "white",
             "linecolor": "white",
             "minorgridcolor": "white",
             "startlinecolor": "#2a3f5f"
            },
            "type": "carpet"
           }
          ],
          "choropleth": [
           {
            "colorbar": {
             "outlinewidth": 0,
             "ticks": ""
            },
            "type": "choropleth"
           }
          ],
          "contour": [
           {
            "colorbar": {
             "outlinewidth": 0,
             "ticks": ""
            },
            "colorscale": [
             [
              0,
              "#0d0887"
             ],
             [
              0.1111111111111111,
              "#46039f"
             ],
             [
              0.2222222222222222,
              "#7201a8"
             ],
             [
              0.3333333333333333,
              "#9c179e"
             ],
             [
              0.4444444444444444,
              "#bd3786"
             ],
             [
              0.5555555555555556,
              "#d8576b"
             ],
             [
              0.6666666666666666,
              "#ed7953"
             ],
             [
              0.7777777777777778,
              "#fb9f3a"
             ],
             [
              0.8888888888888888,
              "#fdca26"
             ],
             [
              1,
              "#f0f921"
             ]
            ],
            "type": "contour"
           }
          ],
          "contourcarpet": [
           {
            "colorbar": {
             "outlinewidth": 0,
             "ticks": ""
            },
            "type": "contourcarpet"
           }
          ],
          "heatmap": [
           {
            "colorbar": {
             "outlinewidth": 0,
             "ticks": ""
            },
            "colorscale": [
             [
              0,
              "#0d0887"
             ],
             [
              0.1111111111111111,
              "#46039f"
             ],
             [
              0.2222222222222222,
              "#7201a8"
             ],
             [
              0.3333333333333333,
              "#9c179e"
             ],
             [
              0.4444444444444444,
              "#bd3786"
             ],
             [
              0.5555555555555556,
              "#d8576b"
             ],
             [
              0.6666666666666666,
              "#ed7953"
             ],
             [
              0.7777777777777778,
              "#fb9f3a"
             ],
             [
              0.8888888888888888,
              "#fdca26"
             ],
             [
              1,
              "#f0f921"
             ]
            ],
            "type": "heatmap"
           }
          ],
          "heatmapgl": [
           {
            "colorbar": {
             "outlinewidth": 0,
             "ticks": ""
            },
            "colorscale": [
             [
              0,
              "#0d0887"
             ],
             [
              0.1111111111111111,
              "#46039f"
             ],
             [
              0.2222222222222222,
              "#7201a8"
             ],
             [
              0.3333333333333333,
              "#9c179e"
             ],
             [
              0.4444444444444444,
              "#bd3786"
             ],
             [
              0.5555555555555556,
              "#d8576b"
             ],
             [
              0.6666666666666666,
              "#ed7953"
             ],
             [
              0.7777777777777778,
              "#fb9f3a"
             ],
             [
              0.8888888888888888,
              "#fdca26"
             ],
             [
              1,
              "#f0f921"
             ]
            ],
            "type": "heatmapgl"
           }
          ],
          "histogram": [
           {
            "marker": {
             "pattern": {
              "fillmode": "overlay",
              "size": 10,
              "solidity": 0.2
             }
            },
            "type": "histogram"
           }
          ],
          "histogram2d": [
           {
            "colorbar": {
             "outlinewidth": 0,
             "ticks": ""
            },
            "colorscale": [
             [
              0,
              "#0d0887"
             ],
             [
              0.1111111111111111,
              "#46039f"
             ],
             [
              0.2222222222222222,
              "#7201a8"
             ],
             [
              0.3333333333333333,
              "#9c179e"
             ],
             [
              0.4444444444444444,
              "#bd3786"
             ],
             [
              0.5555555555555556,
              "#d8576b"
             ],
             [
              0.6666666666666666,
              "#ed7953"
             ],
             [
              0.7777777777777778,
              "#fb9f3a"
             ],
             [
              0.8888888888888888,
              "#fdca26"
             ],
             [
              1,
              "#f0f921"
             ]
            ],
            "type": "histogram2d"
           }
          ],
          "histogram2dcontour": [
           {
            "colorbar": {
             "outlinewidth": 0,
             "ticks": ""
            },
            "colorscale": [
             [
              0,
              "#0d0887"
             ],
             [
              0.1111111111111111,
              "#46039f"
             ],
             [
              0.2222222222222222,
              "#7201a8"
             ],
             [
              0.3333333333333333,
              "#9c179e"
             ],
             [
              0.4444444444444444,
              "#bd3786"
             ],
             [
              0.5555555555555556,
              "#d8576b"
             ],
             [
              0.6666666666666666,
              "#ed7953"
             ],
             [
              0.7777777777777778,
              "#fb9f3a"
             ],
             [
              0.8888888888888888,
              "#fdca26"
             ],
             [
              1,
              "#f0f921"
             ]
            ],
            "type": "histogram2dcontour"
           }
          ],
          "mesh3d": [
           {
            "colorbar": {
             "outlinewidth": 0,
             "ticks": ""
            },
            "type": "mesh3d"
           }
          ],
          "parcoords": [
           {
            "line": {
             "colorbar": {
              "outlinewidth": 0,
              "ticks": ""
             }
            },
            "type": "parcoords"
           }
          ],
          "pie": [
           {
            "automargin": true,
            "type": "pie"
           }
          ],
          "scatter": [
           {
            "fillpattern": {
             "fillmode": "overlay",
             "size": 10,
             "solidity": 0.2
            },
            "type": "scatter"
           }
          ],
          "scatter3d": [
           {
            "line": {
             "colorbar": {
              "outlinewidth": 0,
              "ticks": ""
             }
            },
            "marker": {
             "colorbar": {
              "outlinewidth": 0,
              "ticks": ""
             }
            },
            "type": "scatter3d"
           }
          ],
          "scattercarpet": [
           {
            "marker": {
             "colorbar": {
              "outlinewidth": 0,
              "ticks": ""
             }
            },
            "type": "scattercarpet"
           }
          ],
          "scattergeo": [
           {
            "marker": {
             "colorbar": {
              "outlinewidth": 0,
              "ticks": ""
             }
            },
            "type": "scattergeo"
           }
          ],
          "scattergl": [
           {
            "marker": {
             "colorbar": {
              "outlinewidth": 0,
              "ticks": ""
             }
            },
            "type": "scattergl"
           }
          ],
          "scattermapbox": [
           {
            "marker": {
             "colorbar": {
              "outlinewidth": 0,
              "ticks": ""
             }
            },
            "type": "scattermapbox"
           }
          ],
          "scatterpolar": [
           {
            "marker": {
             "colorbar": {
              "outlinewidth": 0,
              "ticks": ""
             }
            },
            "type": "scatterpolar"
           }
          ],
          "scatterpolargl": [
           {
            "marker": {
             "colorbar": {
              "outlinewidth": 0,
              "ticks": ""
             }
            },
            "type": "scatterpolargl"
           }
          ],
          "scatterternary": [
           {
            "marker": {
             "colorbar": {
              "outlinewidth": 0,
              "ticks": ""
             }
            },
            "type": "scatterternary"
           }
          ],
          "surface": [
           {
            "colorbar": {
             "outlinewidth": 0,
             "ticks": ""
            },
            "colorscale": [
             [
              0,
              "#0d0887"
             ],
             [
              0.1111111111111111,
              "#46039f"
             ],
             [
              0.2222222222222222,
              "#7201a8"
             ],
             [
              0.3333333333333333,
              "#9c179e"
             ],
             [
              0.4444444444444444,
              "#bd3786"
             ],
             [
              0.5555555555555556,
              "#d8576b"
             ],
             [
              0.6666666666666666,
              "#ed7953"
             ],
             [
              0.7777777777777778,
              "#fb9f3a"
             ],
             [
              0.8888888888888888,
              "#fdca26"
             ],
             [
              1,
              "#f0f921"
             ]
            ],
            "type": "surface"
           }
          ],
          "table": [
           {
            "cells": {
             "fill": {
              "color": "#EBF0F8"
             },
             "line": {
              "color": "white"
             }
            },
            "header": {
             "fill": {
              "color": "#C8D4E3"
             },
             "line": {
              "color": "white"
             }
            },
            "type": "table"
           }
          ]
         },
         "layout": {
          "annotationdefaults": {
           "arrowcolor": "#2a3f5f",
           "arrowhead": 0,
           "arrowwidth": 1
          },
          "autotypenumbers": "strict",
          "coloraxis": {
           "colorbar": {
            "outlinewidth": 0,
            "ticks": ""
           }
          },
          "colorscale": {
           "diverging": [
            [
             0,
             "#8e0152"
            ],
            [
             0.1,
             "#c51b7d"
            ],
            [
             0.2,
             "#de77ae"
            ],
            [
             0.3,
             "#f1b6da"
            ],
            [
             0.4,
             "#fde0ef"
            ],
            [
             0.5,
             "#f7f7f7"
            ],
            [
             0.6,
             "#e6f5d0"
            ],
            [
             0.7,
             "#b8e186"
            ],
            [
             0.8,
             "#7fbc41"
            ],
            [
             0.9,
             "#4d9221"
            ],
            [
             1,
             "#276419"
            ]
           ],
           "sequential": [
            [
             0,
             "#0d0887"
            ],
            [
             0.1111111111111111,
             "#46039f"
            ],
            [
             0.2222222222222222,
             "#7201a8"
            ],
            [
             0.3333333333333333,
             "#9c179e"
            ],
            [
             0.4444444444444444,
             "#bd3786"
            ],
            [
             0.5555555555555556,
             "#d8576b"
            ],
            [
             0.6666666666666666,
             "#ed7953"
            ],
            [
             0.7777777777777778,
             "#fb9f3a"
            ],
            [
             0.8888888888888888,
             "#fdca26"
            ],
            [
             1,
             "#f0f921"
            ]
           ],
           "sequentialminus": [
            [
             0,
             "#0d0887"
            ],
            [
             0.1111111111111111,
             "#46039f"
            ],
            [
             0.2222222222222222,
             "#7201a8"
            ],
            [
             0.3333333333333333,
             "#9c179e"
            ],
            [
             0.4444444444444444,
             "#bd3786"
            ],
            [
             0.5555555555555556,
             "#d8576b"
            ],
            [
             0.6666666666666666,
             "#ed7953"
            ],
            [
             0.7777777777777778,
             "#fb9f3a"
            ],
            [
             0.8888888888888888,
             "#fdca26"
            ],
            [
             1,
             "#f0f921"
            ]
           ]
          },
          "colorway": [
           "#636efa",
           "#EF553B",
           "#00cc96",
           "#ab63fa",
           "#FFA15A",
           "#19d3f3",
           "#FF6692",
           "#B6E880",
           "#FF97FF",
           "#FECB52"
          ],
          "font": {
           "color": "#2a3f5f"
          },
          "geo": {
           "bgcolor": "white",
           "lakecolor": "white",
           "landcolor": "#E5ECF6",
           "showlakes": true,
           "showland": true,
           "subunitcolor": "white"
          },
          "hoverlabel": {
           "align": "left"
          },
          "hovermode": "closest",
          "mapbox": {
           "style": "light"
          },
          "paper_bgcolor": "white",
          "plot_bgcolor": "#E5ECF6",
          "polar": {
           "angularaxis": {
            "gridcolor": "white",
            "linecolor": "white",
            "ticks": ""
           },
           "bgcolor": "#E5ECF6",
           "radialaxis": {
            "gridcolor": "white",
            "linecolor": "white",
            "ticks": ""
           }
          },
          "scene": {
           "xaxis": {
            "backgroundcolor": "#E5ECF6",
            "gridcolor": "white",
            "gridwidth": 2,
            "linecolor": "white",
            "showbackground": true,
            "ticks": "",
            "zerolinecolor": "white"
           },
           "yaxis": {
            "backgroundcolor": "#E5ECF6",
            "gridcolor": "white",
            "gridwidth": 2,
            "linecolor": "white",
            "showbackground": true,
            "ticks": "",
            "zerolinecolor": "white"
           },
           "zaxis": {
            "backgroundcolor": "#E5ECF6",
            "gridcolor": "white",
            "gridwidth": 2,
            "linecolor": "white",
            "showbackground": true,
            "ticks": "",
            "zerolinecolor": "white"
           }
          },
          "shapedefaults": {
           "line": {
            "color": "#2a3f5f"
           }
          },
          "ternary": {
           "aaxis": {
            "gridcolor": "white",
            "linecolor": "white",
            "ticks": ""
           },
           "baxis": {
            "gridcolor": "white",
            "linecolor": "white",
            "ticks": ""
           },
           "bgcolor": "#E5ECF6",
           "caxis": {
            "gridcolor": "white",
            "linecolor": "white",
            "ticks": ""
           }
          },
          "title": {
           "x": 0.05
          },
          "xaxis": {
           "automargin": true,
           "gridcolor": "white",
           "linecolor": "white",
           "ticks": "",
           "title": {
            "standoff": 15
           },
           "zerolinecolor": "white",
           "zerolinewidth": 2
          },
          "yaxis": {
           "automargin": true,
           "gridcolor": "white",
           "linecolor": "white",
           "ticks": "",
           "title": {
            "standoff": 15
           },
           "zerolinecolor": "white",
           "zerolinewidth": 2
          }
         }
        },
        "title": {
         "text": "Optimization History Plot"
        },
        "xaxis": {
         "title": {
          "text": "Trial"
         }
        },
        "yaxis": {
         "title": {
          "text": "Objective Value"
         }
        }
       }
      },
      "text/html": [
       "<div>                            <div id=\"d5ac40ce-67ca-4a1b-946e-783222708859\" class=\"plotly-graph-div\" style=\"height:525px; width:100%;\"></div>            <script type=\"text/javascript\">                require([\"plotly\"], function(Plotly) {                    window.PLOTLYENV=window.PLOTLYENV || {};                                    if (document.getElementById(\"d5ac40ce-67ca-4a1b-946e-783222708859\")) {                    Plotly.newPlot(                        \"d5ac40ce-67ca-4a1b-946e-783222708859\",                        [{\"mode\":\"markers\",\"name\":\"Objective Value\",\"x\":[0,1,2,3,4,5,6,7,8,9,10,11,12,13,14],\"y\":[8.541670850100422,9.176471900572608,8.203390409176285,8.091658060615245,8.490297026438697,8.366915545738195,8.312493137606792,8.619114683933002,8.583470597444848,7.903222179847054,7.821315093073499,7.877794182974791,7.864989274330625,7.854814671717671,8.002776239278402],\"type\":\"scatter\"},{\"mode\":\"lines\",\"name\":\"Best Value\",\"x\":[0,1,2,3,4,5,6,7,8,9,10,11,12,13,14],\"y\":[8.541670850100422,8.541670850100422,8.203390409176285,8.091658060615245,8.091658060615245,8.091658060615245,8.091658060615245,8.091658060615245,8.091658060615245,7.903222179847054,7.821315093073499,7.821315093073499,7.821315093073499,7.821315093073499,7.821315093073499],\"type\":\"scatter\"},{\"marker\":{\"color\":\"#cccccc\"},\"mode\":\"markers\",\"name\":\"Infeasible Trial\",\"showlegend\":false,\"x\":[],\"y\":[],\"type\":\"scatter\"}],                        {\"title\":{\"text\":\"Optimization History Plot\"},\"xaxis\":{\"title\":{\"text\":\"Trial\"}},\"yaxis\":{\"title\":{\"text\":\"Objective Value\"}},\"template\":{\"data\":{\"histogram2dcontour\":[{\"type\":\"histogram2dcontour\",\"colorbar\":{\"outlinewidth\":0,\"ticks\":\"\"},\"colorscale\":[[0.0,\"#0d0887\"],[0.1111111111111111,\"#46039f\"],[0.2222222222222222,\"#7201a8\"],[0.3333333333333333,\"#9c179e\"],[0.4444444444444444,\"#bd3786\"],[0.5555555555555556,\"#d8576b\"],[0.6666666666666666,\"#ed7953\"],[0.7777777777777778,\"#fb9f3a\"],[0.8888888888888888,\"#fdca26\"],[1.0,\"#f0f921\"]]}],\"choropleth\":[{\"type\":\"choropleth\",\"colorbar\":{\"outlinewidth\":0,\"ticks\":\"\"}}],\"histogram2d\":[{\"type\":\"histogram2d\",\"colorbar\":{\"outlinewidth\":0,\"ticks\":\"\"},\"colorscale\":[[0.0,\"#0d0887\"],[0.1111111111111111,\"#46039f\"],[0.2222222222222222,\"#7201a8\"],[0.3333333333333333,\"#9c179e\"],[0.4444444444444444,\"#bd3786\"],[0.5555555555555556,\"#d8576b\"],[0.6666666666666666,\"#ed7953\"],[0.7777777777777778,\"#fb9f3a\"],[0.8888888888888888,\"#fdca26\"],[1.0,\"#f0f921\"]]}],\"heatmap\":[{\"type\":\"heatmap\",\"colorbar\":{\"outlinewidth\":0,\"ticks\":\"\"},\"colorscale\":[[0.0,\"#0d0887\"],[0.1111111111111111,\"#46039f\"],[0.2222222222222222,\"#7201a8\"],[0.3333333333333333,\"#9c179e\"],[0.4444444444444444,\"#bd3786\"],[0.5555555555555556,\"#d8576b\"],[0.6666666666666666,\"#ed7953\"],[0.7777777777777778,\"#fb9f3a\"],[0.8888888888888888,\"#fdca26\"],[1.0,\"#f0f921\"]]}],\"heatmapgl\":[{\"type\":\"heatmapgl\",\"colorbar\":{\"outlinewidth\":0,\"ticks\":\"\"},\"colorscale\":[[0.0,\"#0d0887\"],[0.1111111111111111,\"#46039f\"],[0.2222222222222222,\"#7201a8\"],[0.3333333333333333,\"#9c179e\"],[0.4444444444444444,\"#bd3786\"],[0.5555555555555556,\"#d8576b\"],[0.6666666666666666,\"#ed7953\"],[0.7777777777777778,\"#fb9f3a\"],[0.8888888888888888,\"#fdca26\"],[1.0,\"#f0f921\"]]}],\"contourcarpet\":[{\"type\":\"contourcarpet\",\"colorbar\":{\"outlinewidth\":0,\"ticks\":\"\"}}],\"contour\":[{\"type\":\"contour\",\"colorbar\":{\"outlinewidth\":0,\"ticks\":\"\"},\"colorscale\":[[0.0,\"#0d0887\"],[0.1111111111111111,\"#46039f\"],[0.2222222222222222,\"#7201a8\"],[0.3333333333333333,\"#9c179e\"],[0.4444444444444444,\"#bd3786\"],[0.5555555555555556,\"#d8576b\"],[0.6666666666666666,\"#ed7953\"],[0.7777777777777778,\"#fb9f3a\"],[0.8888888888888888,\"#fdca26\"],[1.0,\"#f0f921\"]]}],\"surface\":[{\"type\":\"surface\",\"colorbar\":{\"outlinewidth\":0,\"ticks\":\"\"},\"colorscale\":[[0.0,\"#0d0887\"],[0.1111111111111111,\"#46039f\"],[0.2222222222222222,\"#7201a8\"],[0.3333333333333333,\"#9c179e\"],[0.4444444444444444,\"#bd3786\"],[0.5555555555555556,\"#d8576b\"],[0.6666666666666666,\"#ed7953\"],[0.7777777777777778,\"#fb9f3a\"],[0.8888888888888888,\"#fdca26\"],[1.0,\"#f0f921\"]]}],\"mesh3d\":[{\"type\":\"mesh3d\",\"colorbar\":{\"outlinewidth\":0,\"ticks\":\"\"}}],\"scatter\":[{\"fillpattern\":{\"fillmode\":\"overlay\",\"size\":10,\"solidity\":0.2},\"type\":\"scatter\"}],\"parcoords\":[{\"type\":\"parcoords\",\"line\":{\"colorbar\":{\"outlinewidth\":0,\"ticks\":\"\"}}}],\"scatterpolargl\":[{\"type\":\"scatterpolargl\",\"marker\":{\"colorbar\":{\"outlinewidth\":0,\"ticks\":\"\"}}}],\"bar\":[{\"error_x\":{\"color\":\"#2a3f5f\"},\"error_y\":{\"color\":\"#2a3f5f\"},\"marker\":{\"line\":{\"color\":\"#E5ECF6\",\"width\":0.5},\"pattern\":{\"fillmode\":\"overlay\",\"size\":10,\"solidity\":0.2}},\"type\":\"bar\"}],\"scattergeo\":[{\"type\":\"scattergeo\",\"marker\":{\"colorbar\":{\"outlinewidth\":0,\"ticks\":\"\"}}}],\"scatterpolar\":[{\"type\":\"scatterpolar\",\"marker\":{\"colorbar\":{\"outlinewidth\":0,\"ticks\":\"\"}}}],\"histogram\":[{\"marker\":{\"pattern\":{\"fillmode\":\"overlay\",\"size\":10,\"solidity\":0.2}},\"type\":\"histogram\"}],\"scattergl\":[{\"type\":\"scattergl\",\"marker\":{\"colorbar\":{\"outlinewidth\":0,\"ticks\":\"\"}}}],\"scatter3d\":[{\"type\":\"scatter3d\",\"line\":{\"colorbar\":{\"outlinewidth\":0,\"ticks\":\"\"}},\"marker\":{\"colorbar\":{\"outlinewidth\":0,\"ticks\":\"\"}}}],\"scattermapbox\":[{\"type\":\"scattermapbox\",\"marker\":{\"colorbar\":{\"outlinewidth\":0,\"ticks\":\"\"}}}],\"scatterternary\":[{\"type\":\"scatterternary\",\"marker\":{\"colorbar\":{\"outlinewidth\":0,\"ticks\":\"\"}}}],\"scattercarpet\":[{\"type\":\"scattercarpet\",\"marker\":{\"colorbar\":{\"outlinewidth\":0,\"ticks\":\"\"}}}],\"carpet\":[{\"aaxis\":{\"endlinecolor\":\"#2a3f5f\",\"gridcolor\":\"white\",\"linecolor\":\"white\",\"minorgridcolor\":\"white\",\"startlinecolor\":\"#2a3f5f\"},\"baxis\":{\"endlinecolor\":\"#2a3f5f\",\"gridcolor\":\"white\",\"linecolor\":\"white\",\"minorgridcolor\":\"white\",\"startlinecolor\":\"#2a3f5f\"},\"type\":\"carpet\"}],\"table\":[{\"cells\":{\"fill\":{\"color\":\"#EBF0F8\"},\"line\":{\"color\":\"white\"}},\"header\":{\"fill\":{\"color\":\"#C8D4E3\"},\"line\":{\"color\":\"white\"}},\"type\":\"table\"}],\"barpolar\":[{\"marker\":{\"line\":{\"color\":\"#E5ECF6\",\"width\":0.5},\"pattern\":{\"fillmode\":\"overlay\",\"size\":10,\"solidity\":0.2}},\"type\":\"barpolar\"}],\"pie\":[{\"automargin\":true,\"type\":\"pie\"}]},\"layout\":{\"autotypenumbers\":\"strict\",\"colorway\":[\"#636efa\",\"#EF553B\",\"#00cc96\",\"#ab63fa\",\"#FFA15A\",\"#19d3f3\",\"#FF6692\",\"#B6E880\",\"#FF97FF\",\"#FECB52\"],\"font\":{\"color\":\"#2a3f5f\"},\"hovermode\":\"closest\",\"hoverlabel\":{\"align\":\"left\"},\"paper_bgcolor\":\"white\",\"plot_bgcolor\":\"#E5ECF6\",\"polar\":{\"bgcolor\":\"#E5ECF6\",\"angularaxis\":{\"gridcolor\":\"white\",\"linecolor\":\"white\",\"ticks\":\"\"},\"radialaxis\":{\"gridcolor\":\"white\",\"linecolor\":\"white\",\"ticks\":\"\"}},\"ternary\":{\"bgcolor\":\"#E5ECF6\",\"aaxis\":{\"gridcolor\":\"white\",\"linecolor\":\"white\",\"ticks\":\"\"},\"baxis\":{\"gridcolor\":\"white\",\"linecolor\":\"white\",\"ticks\":\"\"},\"caxis\":{\"gridcolor\":\"white\",\"linecolor\":\"white\",\"ticks\":\"\"}},\"coloraxis\":{\"colorbar\":{\"outlinewidth\":0,\"ticks\":\"\"}},\"colorscale\":{\"sequential\":[[0.0,\"#0d0887\"],[0.1111111111111111,\"#46039f\"],[0.2222222222222222,\"#7201a8\"],[0.3333333333333333,\"#9c179e\"],[0.4444444444444444,\"#bd3786\"],[0.5555555555555556,\"#d8576b\"],[0.6666666666666666,\"#ed7953\"],[0.7777777777777778,\"#fb9f3a\"],[0.8888888888888888,\"#fdca26\"],[1.0,\"#f0f921\"]],\"sequentialminus\":[[0.0,\"#0d0887\"],[0.1111111111111111,\"#46039f\"],[0.2222222222222222,\"#7201a8\"],[0.3333333333333333,\"#9c179e\"],[0.4444444444444444,\"#bd3786\"],[0.5555555555555556,\"#d8576b\"],[0.6666666666666666,\"#ed7953\"],[0.7777777777777778,\"#fb9f3a\"],[0.8888888888888888,\"#fdca26\"],[1.0,\"#f0f921\"]],\"diverging\":[[0,\"#8e0152\"],[0.1,\"#c51b7d\"],[0.2,\"#de77ae\"],[0.3,\"#f1b6da\"],[0.4,\"#fde0ef\"],[0.5,\"#f7f7f7\"],[0.6,\"#e6f5d0\"],[0.7,\"#b8e186\"],[0.8,\"#7fbc41\"],[0.9,\"#4d9221\"],[1,\"#276419\"]]},\"xaxis\":{\"gridcolor\":\"white\",\"linecolor\":\"white\",\"ticks\":\"\",\"title\":{\"standoff\":15},\"zerolinecolor\":\"white\",\"automargin\":true,\"zerolinewidth\":2},\"yaxis\":{\"gridcolor\":\"white\",\"linecolor\":\"white\",\"ticks\":\"\",\"title\":{\"standoff\":15},\"zerolinecolor\":\"white\",\"automargin\":true,\"zerolinewidth\":2},\"scene\":{\"xaxis\":{\"backgroundcolor\":\"#E5ECF6\",\"gridcolor\":\"white\",\"linecolor\":\"white\",\"showbackground\":true,\"ticks\":\"\",\"zerolinecolor\":\"white\",\"gridwidth\":2},\"yaxis\":{\"backgroundcolor\":\"#E5ECF6\",\"gridcolor\":\"white\",\"linecolor\":\"white\",\"showbackground\":true,\"ticks\":\"\",\"zerolinecolor\":\"white\",\"gridwidth\":2},\"zaxis\":{\"backgroundcolor\":\"#E5ECF6\",\"gridcolor\":\"white\",\"linecolor\":\"white\",\"showbackground\":true,\"ticks\":\"\",\"zerolinecolor\":\"white\",\"gridwidth\":2}},\"shapedefaults\":{\"line\":{\"color\":\"#2a3f5f\"}},\"annotationdefaults\":{\"arrowcolor\":\"#2a3f5f\",\"arrowhead\":0,\"arrowwidth\":1},\"geo\":{\"bgcolor\":\"white\",\"landcolor\":\"#E5ECF6\",\"subunitcolor\":\"white\",\"showland\":true,\"showlakes\":true,\"lakecolor\":\"white\"},\"title\":{\"x\":0.05},\"mapbox\":{\"style\":\"light\"}}}},                        {\"responsive\": true}                    ).then(function(){\n",
       "                            \n",
       "var gd = document.getElementById('d5ac40ce-67ca-4a1b-946e-783222708859');\n",
       "var x = new MutationObserver(function (mutations, observer) {{\n",
       "        var display = window.getComputedStyle(gd).display;\n",
       "        if (!display || display === 'none') {{\n",
       "            console.log([gd, 'removed!']);\n",
       "            Plotly.purge(gd);\n",
       "            observer.disconnect();\n",
       "        }}\n",
       "}});\n",
       "\n",
       "// Listen for the removal of the full notebook cells\n",
       "var notebookContainer = gd.closest('#notebook-container');\n",
       "if (notebookContainer) {{\n",
       "    x.observe(notebookContainer, {childList: true});\n",
       "}}\n",
       "\n",
       "// Listen for the clearing of the current output cell\n",
       "var outputEl = gd.closest('.output');\n",
       "if (outputEl) {{\n",
       "    x.observe(outputEl, {childList: true});\n",
       "}}\n",
       "\n",
       "                        })                };                });            </script>        </div>"
      ]
     },
     "metadata": {},
     "output_type": "display_data"
    },
    {
     "data": {
      "application/vnd.plotly.v1+json": {
       "config": {
        "plotlyServerURL": "https://plot.ly"
       },
       "data": [
        {
         "cliponaxis": false,
         "hovertemplate": [
          "max_depth (IntDistribution): 0.005316899991219476<extra></extra>",
          "n_estimators (IntDistribution): 0.06570789136155551<extra></extra>",
          "colsample_bytree (FloatDistribution): 0.06906515549773506<extra></extra>",
          "min_child_weight (IntDistribution): 0.07079285557799303<extra></extra>",
          "gamma (FloatDistribution): 0.07664807133314802<extra></extra>",
          "learning_rate (FloatDistribution): 0.12783343358837912<extra></extra>",
          "reg_alpha (FloatDistribution): 0.143538510472943<extra></extra>",
          "subsample (FloatDistribution): 0.17604978399738508<extra></extra>",
          "reg_lambda (FloatDistribution): 0.26504739817964185<extra></extra>"
         ],
         "name": "Objective Value",
         "orientation": "h",
         "text": [
          "<0.01",
          "0.07",
          "0.07",
          "0.07",
          "0.08",
          "0.13",
          "0.14",
          "0.18",
          "0.27"
         ],
         "textposition": "outside",
         "type": "bar",
         "x": [
          0.005316899991219476,
          0.06570789136155551,
          0.06906515549773506,
          0.07079285557799303,
          0.07664807133314802,
          0.12783343358837912,
          0.143538510472943,
          0.17604978399738508,
          0.26504739817964185
         ],
         "y": [
          "max_depth",
          "n_estimators",
          "colsample_bytree",
          "min_child_weight",
          "gamma",
          "learning_rate",
          "reg_alpha",
          "subsample",
          "reg_lambda"
         ]
        }
       ],
       "layout": {
        "template": {
         "data": {
          "bar": [
           {
            "error_x": {
             "color": "#2a3f5f"
            },
            "error_y": {
             "color": "#2a3f5f"
            },
            "marker": {
             "line": {
              "color": "#E5ECF6",
              "width": 0.5
             },
             "pattern": {
              "fillmode": "overlay",
              "size": 10,
              "solidity": 0.2
             }
            },
            "type": "bar"
           }
          ],
          "barpolar": [
           {
            "marker": {
             "line": {
              "color": "#E5ECF6",
              "width": 0.5
             },
             "pattern": {
              "fillmode": "overlay",
              "size": 10,
              "solidity": 0.2
             }
            },
            "type": "barpolar"
           }
          ],
          "carpet": [
           {
            "aaxis": {
             "endlinecolor": "#2a3f5f",
             "gridcolor": "white",
             "linecolor": "white",
             "minorgridcolor": "white",
             "startlinecolor": "#2a3f5f"
            },
            "baxis": {
             "endlinecolor": "#2a3f5f",
             "gridcolor": "white",
             "linecolor": "white",
             "minorgridcolor": "white",
             "startlinecolor": "#2a3f5f"
            },
            "type": "carpet"
           }
          ],
          "choropleth": [
           {
            "colorbar": {
             "outlinewidth": 0,
             "ticks": ""
            },
            "type": "choropleth"
           }
          ],
          "contour": [
           {
            "colorbar": {
             "outlinewidth": 0,
             "ticks": ""
            },
            "colorscale": [
             [
              0,
              "#0d0887"
             ],
             [
              0.1111111111111111,
              "#46039f"
             ],
             [
              0.2222222222222222,
              "#7201a8"
             ],
             [
              0.3333333333333333,
              "#9c179e"
             ],
             [
              0.4444444444444444,
              "#bd3786"
             ],
             [
              0.5555555555555556,
              "#d8576b"
             ],
             [
              0.6666666666666666,
              "#ed7953"
             ],
             [
              0.7777777777777778,
              "#fb9f3a"
             ],
             [
              0.8888888888888888,
              "#fdca26"
             ],
             [
              1,
              "#f0f921"
             ]
            ],
            "type": "contour"
           }
          ],
          "contourcarpet": [
           {
            "colorbar": {
             "outlinewidth": 0,
             "ticks": ""
            },
            "type": "contourcarpet"
           }
          ],
          "heatmap": [
           {
            "colorbar": {
             "outlinewidth": 0,
             "ticks": ""
            },
            "colorscale": [
             [
              0,
              "#0d0887"
             ],
             [
              0.1111111111111111,
              "#46039f"
             ],
             [
              0.2222222222222222,
              "#7201a8"
             ],
             [
              0.3333333333333333,
              "#9c179e"
             ],
             [
              0.4444444444444444,
              "#bd3786"
             ],
             [
              0.5555555555555556,
              "#d8576b"
             ],
             [
              0.6666666666666666,
              "#ed7953"
             ],
             [
              0.7777777777777778,
              "#fb9f3a"
             ],
             [
              0.8888888888888888,
              "#fdca26"
             ],
             [
              1,
              "#f0f921"
             ]
            ],
            "type": "heatmap"
           }
          ],
          "heatmapgl": [
           {
            "colorbar": {
             "outlinewidth": 0,
             "ticks": ""
            },
            "colorscale": [
             [
              0,
              "#0d0887"
             ],
             [
              0.1111111111111111,
              "#46039f"
             ],
             [
              0.2222222222222222,
              "#7201a8"
             ],
             [
              0.3333333333333333,
              "#9c179e"
             ],
             [
              0.4444444444444444,
              "#bd3786"
             ],
             [
              0.5555555555555556,
              "#d8576b"
             ],
             [
              0.6666666666666666,
              "#ed7953"
             ],
             [
              0.7777777777777778,
              "#fb9f3a"
             ],
             [
              0.8888888888888888,
              "#fdca26"
             ],
             [
              1,
              "#f0f921"
             ]
            ],
            "type": "heatmapgl"
           }
          ],
          "histogram": [
           {
            "marker": {
             "pattern": {
              "fillmode": "overlay",
              "size": 10,
              "solidity": 0.2
             }
            },
            "type": "histogram"
           }
          ],
          "histogram2d": [
           {
            "colorbar": {
             "outlinewidth": 0,
             "ticks": ""
            },
            "colorscale": [
             [
              0,
              "#0d0887"
             ],
             [
              0.1111111111111111,
              "#46039f"
             ],
             [
              0.2222222222222222,
              "#7201a8"
             ],
             [
              0.3333333333333333,
              "#9c179e"
             ],
             [
              0.4444444444444444,
              "#bd3786"
             ],
             [
              0.5555555555555556,
              "#d8576b"
             ],
             [
              0.6666666666666666,
              "#ed7953"
             ],
             [
              0.7777777777777778,
              "#fb9f3a"
             ],
             [
              0.8888888888888888,
              "#fdca26"
             ],
             [
              1,
              "#f0f921"
             ]
            ],
            "type": "histogram2d"
           }
          ],
          "histogram2dcontour": [
           {
            "colorbar": {
             "outlinewidth": 0,
             "ticks": ""
            },
            "colorscale": [
             [
              0,
              "#0d0887"
             ],
             [
              0.1111111111111111,
              "#46039f"
             ],
             [
              0.2222222222222222,
              "#7201a8"
             ],
             [
              0.3333333333333333,
              "#9c179e"
             ],
             [
              0.4444444444444444,
              "#bd3786"
             ],
             [
              0.5555555555555556,
              "#d8576b"
             ],
             [
              0.6666666666666666,
              "#ed7953"
             ],
             [
              0.7777777777777778,
              "#fb9f3a"
             ],
             [
              0.8888888888888888,
              "#fdca26"
             ],
             [
              1,
              "#f0f921"
             ]
            ],
            "type": "histogram2dcontour"
           }
          ],
          "mesh3d": [
           {
            "colorbar": {
             "outlinewidth": 0,
             "ticks": ""
            },
            "type": "mesh3d"
           }
          ],
          "parcoords": [
           {
            "line": {
             "colorbar": {
              "outlinewidth": 0,
              "ticks": ""
             }
            },
            "type": "parcoords"
           }
          ],
          "pie": [
           {
            "automargin": true,
            "type": "pie"
           }
          ],
          "scatter": [
           {
            "fillpattern": {
             "fillmode": "overlay",
             "size": 10,
             "solidity": 0.2
            },
            "type": "scatter"
           }
          ],
          "scatter3d": [
           {
            "line": {
             "colorbar": {
              "outlinewidth": 0,
              "ticks": ""
             }
            },
            "marker": {
             "colorbar": {
              "outlinewidth": 0,
              "ticks": ""
             }
            },
            "type": "scatter3d"
           }
          ],
          "scattercarpet": [
           {
            "marker": {
             "colorbar": {
              "outlinewidth": 0,
              "ticks": ""
             }
            },
            "type": "scattercarpet"
           }
          ],
          "scattergeo": [
           {
            "marker": {
             "colorbar": {
              "outlinewidth": 0,
              "ticks": ""
             }
            },
            "type": "scattergeo"
           }
          ],
          "scattergl": [
           {
            "marker": {
             "colorbar": {
              "outlinewidth": 0,
              "ticks": ""
             }
            },
            "type": "scattergl"
           }
          ],
          "scattermapbox": [
           {
            "marker": {
             "colorbar": {
              "outlinewidth": 0,
              "ticks": ""
             }
            },
            "type": "scattermapbox"
           }
          ],
          "scatterpolar": [
           {
            "marker": {
             "colorbar": {
              "outlinewidth": 0,
              "ticks": ""
             }
            },
            "type": "scatterpolar"
           }
          ],
          "scatterpolargl": [
           {
            "marker": {
             "colorbar": {
              "outlinewidth": 0,
              "ticks": ""
             }
            },
            "type": "scatterpolargl"
           }
          ],
          "scatterternary": [
           {
            "marker": {
             "colorbar": {
              "outlinewidth": 0,
              "ticks": ""
             }
            },
            "type": "scatterternary"
           }
          ],
          "surface": [
           {
            "colorbar": {
             "outlinewidth": 0,
             "ticks": ""
            },
            "colorscale": [
             [
              0,
              "#0d0887"
             ],
             [
              0.1111111111111111,
              "#46039f"
             ],
             [
              0.2222222222222222,
              "#7201a8"
             ],
             [
              0.3333333333333333,
              "#9c179e"
             ],
             [
              0.4444444444444444,
              "#bd3786"
             ],
             [
              0.5555555555555556,
              "#d8576b"
             ],
             [
              0.6666666666666666,
              "#ed7953"
             ],
             [
              0.7777777777777778,
              "#fb9f3a"
             ],
             [
              0.8888888888888888,
              "#fdca26"
             ],
             [
              1,
              "#f0f921"
             ]
            ],
            "type": "surface"
           }
          ],
          "table": [
           {
            "cells": {
             "fill": {
              "color": "#EBF0F8"
             },
             "line": {
              "color": "white"
             }
            },
            "header": {
             "fill": {
              "color": "#C8D4E3"
             },
             "line": {
              "color": "white"
             }
            },
            "type": "table"
           }
          ]
         },
         "layout": {
          "annotationdefaults": {
           "arrowcolor": "#2a3f5f",
           "arrowhead": 0,
           "arrowwidth": 1
          },
          "autotypenumbers": "strict",
          "coloraxis": {
           "colorbar": {
            "outlinewidth": 0,
            "ticks": ""
           }
          },
          "colorscale": {
           "diverging": [
            [
             0,
             "#8e0152"
            ],
            [
             0.1,
             "#c51b7d"
            ],
            [
             0.2,
             "#de77ae"
            ],
            [
             0.3,
             "#f1b6da"
            ],
            [
             0.4,
             "#fde0ef"
            ],
            [
             0.5,
             "#f7f7f7"
            ],
            [
             0.6,
             "#e6f5d0"
            ],
            [
             0.7,
             "#b8e186"
            ],
            [
             0.8,
             "#7fbc41"
            ],
            [
             0.9,
             "#4d9221"
            ],
            [
             1,
             "#276419"
            ]
           ],
           "sequential": [
            [
             0,
             "#0d0887"
            ],
            [
             0.1111111111111111,
             "#46039f"
            ],
            [
             0.2222222222222222,
             "#7201a8"
            ],
            [
             0.3333333333333333,
             "#9c179e"
            ],
            [
             0.4444444444444444,
             "#bd3786"
            ],
            [
             0.5555555555555556,
             "#d8576b"
            ],
            [
             0.6666666666666666,
             "#ed7953"
            ],
            [
             0.7777777777777778,
             "#fb9f3a"
            ],
            [
             0.8888888888888888,
             "#fdca26"
            ],
            [
             1,
             "#f0f921"
            ]
           ],
           "sequentialminus": [
            [
             0,
             "#0d0887"
            ],
            [
             0.1111111111111111,
             "#46039f"
            ],
            [
             0.2222222222222222,
             "#7201a8"
            ],
            [
             0.3333333333333333,
             "#9c179e"
            ],
            [
             0.4444444444444444,
             "#bd3786"
            ],
            [
             0.5555555555555556,
             "#d8576b"
            ],
            [
             0.6666666666666666,
             "#ed7953"
            ],
            [
             0.7777777777777778,
             "#fb9f3a"
            ],
            [
             0.8888888888888888,
             "#fdca26"
            ],
            [
             1,
             "#f0f921"
            ]
           ]
          },
          "colorway": [
           "#636efa",
           "#EF553B",
           "#00cc96",
           "#ab63fa",
           "#FFA15A",
           "#19d3f3",
           "#FF6692",
           "#B6E880",
           "#FF97FF",
           "#FECB52"
          ],
          "font": {
           "color": "#2a3f5f"
          },
          "geo": {
           "bgcolor": "white",
           "lakecolor": "white",
           "landcolor": "#E5ECF6",
           "showlakes": true,
           "showland": true,
           "subunitcolor": "white"
          },
          "hoverlabel": {
           "align": "left"
          },
          "hovermode": "closest",
          "mapbox": {
           "style": "light"
          },
          "paper_bgcolor": "white",
          "plot_bgcolor": "#E5ECF6",
          "polar": {
           "angularaxis": {
            "gridcolor": "white",
            "linecolor": "white",
            "ticks": ""
           },
           "bgcolor": "#E5ECF6",
           "radialaxis": {
            "gridcolor": "white",
            "linecolor": "white",
            "ticks": ""
           }
          },
          "scene": {
           "xaxis": {
            "backgroundcolor": "#E5ECF6",
            "gridcolor": "white",
            "gridwidth": 2,
            "linecolor": "white",
            "showbackground": true,
            "ticks": "",
            "zerolinecolor": "white"
           },
           "yaxis": {
            "backgroundcolor": "#E5ECF6",
            "gridcolor": "white",
            "gridwidth": 2,
            "linecolor": "white",
            "showbackground": true,
            "ticks": "",
            "zerolinecolor": "white"
           },
           "zaxis": {
            "backgroundcolor": "#E5ECF6",
            "gridcolor": "white",
            "gridwidth": 2,
            "linecolor": "white",
            "showbackground": true,
            "ticks": "",
            "zerolinecolor": "white"
           }
          },
          "shapedefaults": {
           "line": {
            "color": "#2a3f5f"
           }
          },
          "ternary": {
           "aaxis": {
            "gridcolor": "white",
            "linecolor": "white",
            "ticks": ""
           },
           "baxis": {
            "gridcolor": "white",
            "linecolor": "white",
            "ticks": ""
           },
           "bgcolor": "#E5ECF6",
           "caxis": {
            "gridcolor": "white",
            "linecolor": "white",
            "ticks": ""
           }
          },
          "title": {
           "x": 0.05
          },
          "xaxis": {
           "automargin": true,
           "gridcolor": "white",
           "linecolor": "white",
           "ticks": "",
           "title": {
            "standoff": 15
           },
           "zerolinecolor": "white",
           "zerolinewidth": 2
          },
          "yaxis": {
           "automargin": true,
           "gridcolor": "white",
           "linecolor": "white",
           "ticks": "",
           "title": {
            "standoff": 15
           },
           "zerolinecolor": "white",
           "zerolinewidth": 2
          }
         }
        },
        "title": {
         "text": "Hyperparameter Importances"
        },
        "xaxis": {
         "title": {
          "text": "Hyperparameter Importance"
         }
        },
        "yaxis": {
         "title": {
          "text": "Hyperparameter"
         }
        }
       }
      },
      "text/html": [
       "<div>                            <div id=\"bb2899a2-1dc9-4cd7-b7bf-b6dbdf1f69d3\" class=\"plotly-graph-div\" style=\"height:525px; width:100%;\"></div>            <script type=\"text/javascript\">                require([\"plotly\"], function(Plotly) {                    window.PLOTLYENV=window.PLOTLYENV || {};                                    if (document.getElementById(\"bb2899a2-1dc9-4cd7-b7bf-b6dbdf1f69d3\")) {                    Plotly.newPlot(                        \"bb2899a2-1dc9-4cd7-b7bf-b6dbdf1f69d3\",                        [{\"cliponaxis\":false,\"hovertemplate\":[\"max_depth (IntDistribution): 0.005316899991219476\\u003cextra\\u003e\\u003c\\u002fextra\\u003e\",\"n_estimators (IntDistribution): 0.06570789136155551\\u003cextra\\u003e\\u003c\\u002fextra\\u003e\",\"colsample_bytree (FloatDistribution): 0.06906515549773506\\u003cextra\\u003e\\u003c\\u002fextra\\u003e\",\"min_child_weight (IntDistribution): 0.07079285557799303\\u003cextra\\u003e\\u003c\\u002fextra\\u003e\",\"gamma (FloatDistribution): 0.07664807133314802\\u003cextra\\u003e\\u003c\\u002fextra\\u003e\",\"learning_rate (FloatDistribution): 0.12783343358837912\\u003cextra\\u003e\\u003c\\u002fextra\\u003e\",\"reg_alpha (FloatDistribution): 0.143538510472943\\u003cextra\\u003e\\u003c\\u002fextra\\u003e\",\"subsample (FloatDistribution): 0.17604978399738508\\u003cextra\\u003e\\u003c\\u002fextra\\u003e\",\"reg_lambda (FloatDistribution): 0.26504739817964185\\u003cextra\\u003e\\u003c\\u002fextra\\u003e\"],\"name\":\"Objective Value\",\"orientation\":\"h\",\"text\":[\"\\u003c0.01\",\"0.07\",\"0.07\",\"0.07\",\"0.08\",\"0.13\",\"0.14\",\"0.18\",\"0.27\"],\"textposition\":\"outside\",\"x\":[0.005316899991219476,0.06570789136155551,0.06906515549773506,0.07079285557799303,0.07664807133314802,0.12783343358837912,0.143538510472943,0.17604978399738508,0.26504739817964185],\"y\":[\"max_depth\",\"n_estimators\",\"colsample_bytree\",\"min_child_weight\",\"gamma\",\"learning_rate\",\"reg_alpha\",\"subsample\",\"reg_lambda\"],\"type\":\"bar\"}],                        {\"title\":{\"text\":\"Hyperparameter Importances\"},\"xaxis\":{\"title\":{\"text\":\"Hyperparameter Importance\"}},\"yaxis\":{\"title\":{\"text\":\"Hyperparameter\"}},\"template\":{\"data\":{\"histogram2dcontour\":[{\"type\":\"histogram2dcontour\",\"colorbar\":{\"outlinewidth\":0,\"ticks\":\"\"},\"colorscale\":[[0.0,\"#0d0887\"],[0.1111111111111111,\"#46039f\"],[0.2222222222222222,\"#7201a8\"],[0.3333333333333333,\"#9c179e\"],[0.4444444444444444,\"#bd3786\"],[0.5555555555555556,\"#d8576b\"],[0.6666666666666666,\"#ed7953\"],[0.7777777777777778,\"#fb9f3a\"],[0.8888888888888888,\"#fdca26\"],[1.0,\"#f0f921\"]]}],\"choropleth\":[{\"type\":\"choropleth\",\"colorbar\":{\"outlinewidth\":0,\"ticks\":\"\"}}],\"histogram2d\":[{\"type\":\"histogram2d\",\"colorbar\":{\"outlinewidth\":0,\"ticks\":\"\"},\"colorscale\":[[0.0,\"#0d0887\"],[0.1111111111111111,\"#46039f\"],[0.2222222222222222,\"#7201a8\"],[0.3333333333333333,\"#9c179e\"],[0.4444444444444444,\"#bd3786\"],[0.5555555555555556,\"#d8576b\"],[0.6666666666666666,\"#ed7953\"],[0.7777777777777778,\"#fb9f3a\"],[0.8888888888888888,\"#fdca26\"],[1.0,\"#f0f921\"]]}],\"heatmap\":[{\"type\":\"heatmap\",\"colorbar\":{\"outlinewidth\":0,\"ticks\":\"\"},\"colorscale\":[[0.0,\"#0d0887\"],[0.1111111111111111,\"#46039f\"],[0.2222222222222222,\"#7201a8\"],[0.3333333333333333,\"#9c179e\"],[0.4444444444444444,\"#bd3786\"],[0.5555555555555556,\"#d8576b\"],[0.6666666666666666,\"#ed7953\"],[0.7777777777777778,\"#fb9f3a\"],[0.8888888888888888,\"#fdca26\"],[1.0,\"#f0f921\"]]}],\"heatmapgl\":[{\"type\":\"heatmapgl\",\"colorbar\":{\"outlinewidth\":0,\"ticks\":\"\"},\"colorscale\":[[0.0,\"#0d0887\"],[0.1111111111111111,\"#46039f\"],[0.2222222222222222,\"#7201a8\"],[0.3333333333333333,\"#9c179e\"],[0.4444444444444444,\"#bd3786\"],[0.5555555555555556,\"#d8576b\"],[0.6666666666666666,\"#ed7953\"],[0.7777777777777778,\"#fb9f3a\"],[0.8888888888888888,\"#fdca26\"],[1.0,\"#f0f921\"]]}],\"contourcarpet\":[{\"type\":\"contourcarpet\",\"colorbar\":{\"outlinewidth\":0,\"ticks\":\"\"}}],\"contour\":[{\"type\":\"contour\",\"colorbar\":{\"outlinewidth\":0,\"ticks\":\"\"},\"colorscale\":[[0.0,\"#0d0887\"],[0.1111111111111111,\"#46039f\"],[0.2222222222222222,\"#7201a8\"],[0.3333333333333333,\"#9c179e\"],[0.4444444444444444,\"#bd3786\"],[0.5555555555555556,\"#d8576b\"],[0.6666666666666666,\"#ed7953\"],[0.7777777777777778,\"#fb9f3a\"],[0.8888888888888888,\"#fdca26\"],[1.0,\"#f0f921\"]]}],\"surface\":[{\"type\":\"surface\",\"colorbar\":{\"outlinewidth\":0,\"ticks\":\"\"},\"colorscale\":[[0.0,\"#0d0887\"],[0.1111111111111111,\"#46039f\"],[0.2222222222222222,\"#7201a8\"],[0.3333333333333333,\"#9c179e\"],[0.4444444444444444,\"#bd3786\"],[0.5555555555555556,\"#d8576b\"],[0.6666666666666666,\"#ed7953\"],[0.7777777777777778,\"#fb9f3a\"],[0.8888888888888888,\"#fdca26\"],[1.0,\"#f0f921\"]]}],\"mesh3d\":[{\"type\":\"mesh3d\",\"colorbar\":{\"outlinewidth\":0,\"ticks\":\"\"}}],\"scatter\":[{\"fillpattern\":{\"fillmode\":\"overlay\",\"size\":10,\"solidity\":0.2},\"type\":\"scatter\"}],\"parcoords\":[{\"type\":\"parcoords\",\"line\":{\"colorbar\":{\"outlinewidth\":0,\"ticks\":\"\"}}}],\"scatterpolargl\":[{\"type\":\"scatterpolargl\",\"marker\":{\"colorbar\":{\"outlinewidth\":0,\"ticks\":\"\"}}}],\"bar\":[{\"error_x\":{\"color\":\"#2a3f5f\"},\"error_y\":{\"color\":\"#2a3f5f\"},\"marker\":{\"line\":{\"color\":\"#E5ECF6\",\"width\":0.5},\"pattern\":{\"fillmode\":\"overlay\",\"size\":10,\"solidity\":0.2}},\"type\":\"bar\"}],\"scattergeo\":[{\"type\":\"scattergeo\",\"marker\":{\"colorbar\":{\"outlinewidth\":0,\"ticks\":\"\"}}}],\"scatterpolar\":[{\"type\":\"scatterpolar\",\"marker\":{\"colorbar\":{\"outlinewidth\":0,\"ticks\":\"\"}}}],\"histogram\":[{\"marker\":{\"pattern\":{\"fillmode\":\"overlay\",\"size\":10,\"solidity\":0.2}},\"type\":\"histogram\"}],\"scattergl\":[{\"type\":\"scattergl\",\"marker\":{\"colorbar\":{\"outlinewidth\":0,\"ticks\":\"\"}}}],\"scatter3d\":[{\"type\":\"scatter3d\",\"line\":{\"colorbar\":{\"outlinewidth\":0,\"ticks\":\"\"}},\"marker\":{\"colorbar\":{\"outlinewidth\":0,\"ticks\":\"\"}}}],\"scattermapbox\":[{\"type\":\"scattermapbox\",\"marker\":{\"colorbar\":{\"outlinewidth\":0,\"ticks\":\"\"}}}],\"scatterternary\":[{\"type\":\"scatterternary\",\"marker\":{\"colorbar\":{\"outlinewidth\":0,\"ticks\":\"\"}}}],\"scattercarpet\":[{\"type\":\"scattercarpet\",\"marker\":{\"colorbar\":{\"outlinewidth\":0,\"ticks\":\"\"}}}],\"carpet\":[{\"aaxis\":{\"endlinecolor\":\"#2a3f5f\",\"gridcolor\":\"white\",\"linecolor\":\"white\",\"minorgridcolor\":\"white\",\"startlinecolor\":\"#2a3f5f\"},\"baxis\":{\"endlinecolor\":\"#2a3f5f\",\"gridcolor\":\"white\",\"linecolor\":\"white\",\"minorgridcolor\":\"white\",\"startlinecolor\":\"#2a3f5f\"},\"type\":\"carpet\"}],\"table\":[{\"cells\":{\"fill\":{\"color\":\"#EBF0F8\"},\"line\":{\"color\":\"white\"}},\"header\":{\"fill\":{\"color\":\"#C8D4E3\"},\"line\":{\"color\":\"white\"}},\"type\":\"table\"}],\"barpolar\":[{\"marker\":{\"line\":{\"color\":\"#E5ECF6\",\"width\":0.5},\"pattern\":{\"fillmode\":\"overlay\",\"size\":10,\"solidity\":0.2}},\"type\":\"barpolar\"}],\"pie\":[{\"automargin\":true,\"type\":\"pie\"}]},\"layout\":{\"autotypenumbers\":\"strict\",\"colorway\":[\"#636efa\",\"#EF553B\",\"#00cc96\",\"#ab63fa\",\"#FFA15A\",\"#19d3f3\",\"#FF6692\",\"#B6E880\",\"#FF97FF\",\"#FECB52\"],\"font\":{\"color\":\"#2a3f5f\"},\"hovermode\":\"closest\",\"hoverlabel\":{\"align\":\"left\"},\"paper_bgcolor\":\"white\",\"plot_bgcolor\":\"#E5ECF6\",\"polar\":{\"bgcolor\":\"#E5ECF6\",\"angularaxis\":{\"gridcolor\":\"white\",\"linecolor\":\"white\",\"ticks\":\"\"},\"radialaxis\":{\"gridcolor\":\"white\",\"linecolor\":\"white\",\"ticks\":\"\"}},\"ternary\":{\"bgcolor\":\"#E5ECF6\",\"aaxis\":{\"gridcolor\":\"white\",\"linecolor\":\"white\",\"ticks\":\"\"},\"baxis\":{\"gridcolor\":\"white\",\"linecolor\":\"white\",\"ticks\":\"\"},\"caxis\":{\"gridcolor\":\"white\",\"linecolor\":\"white\",\"ticks\":\"\"}},\"coloraxis\":{\"colorbar\":{\"outlinewidth\":0,\"ticks\":\"\"}},\"colorscale\":{\"sequential\":[[0.0,\"#0d0887\"],[0.1111111111111111,\"#46039f\"],[0.2222222222222222,\"#7201a8\"],[0.3333333333333333,\"#9c179e\"],[0.4444444444444444,\"#bd3786\"],[0.5555555555555556,\"#d8576b\"],[0.6666666666666666,\"#ed7953\"],[0.7777777777777778,\"#fb9f3a\"],[0.8888888888888888,\"#fdca26\"],[1.0,\"#f0f921\"]],\"sequentialminus\":[[0.0,\"#0d0887\"],[0.1111111111111111,\"#46039f\"],[0.2222222222222222,\"#7201a8\"],[0.3333333333333333,\"#9c179e\"],[0.4444444444444444,\"#bd3786\"],[0.5555555555555556,\"#d8576b\"],[0.6666666666666666,\"#ed7953\"],[0.7777777777777778,\"#fb9f3a\"],[0.8888888888888888,\"#fdca26\"],[1.0,\"#f0f921\"]],\"diverging\":[[0,\"#8e0152\"],[0.1,\"#c51b7d\"],[0.2,\"#de77ae\"],[0.3,\"#f1b6da\"],[0.4,\"#fde0ef\"],[0.5,\"#f7f7f7\"],[0.6,\"#e6f5d0\"],[0.7,\"#b8e186\"],[0.8,\"#7fbc41\"],[0.9,\"#4d9221\"],[1,\"#276419\"]]},\"xaxis\":{\"gridcolor\":\"white\",\"linecolor\":\"white\",\"ticks\":\"\",\"title\":{\"standoff\":15},\"zerolinecolor\":\"white\",\"automargin\":true,\"zerolinewidth\":2},\"yaxis\":{\"gridcolor\":\"white\",\"linecolor\":\"white\",\"ticks\":\"\",\"title\":{\"standoff\":15},\"zerolinecolor\":\"white\",\"automargin\":true,\"zerolinewidth\":2},\"scene\":{\"xaxis\":{\"backgroundcolor\":\"#E5ECF6\",\"gridcolor\":\"white\",\"linecolor\":\"white\",\"showbackground\":true,\"ticks\":\"\",\"zerolinecolor\":\"white\",\"gridwidth\":2},\"yaxis\":{\"backgroundcolor\":\"#E5ECF6\",\"gridcolor\":\"white\",\"linecolor\":\"white\",\"showbackground\":true,\"ticks\":\"\",\"zerolinecolor\":\"white\",\"gridwidth\":2},\"zaxis\":{\"backgroundcolor\":\"#E5ECF6\",\"gridcolor\":\"white\",\"linecolor\":\"white\",\"showbackground\":true,\"ticks\":\"\",\"zerolinecolor\":\"white\",\"gridwidth\":2}},\"shapedefaults\":{\"line\":{\"color\":\"#2a3f5f\"}},\"annotationdefaults\":{\"arrowcolor\":\"#2a3f5f\",\"arrowhead\":0,\"arrowwidth\":1},\"geo\":{\"bgcolor\":\"white\",\"landcolor\":\"#E5ECF6\",\"subunitcolor\":\"white\",\"showland\":true,\"showlakes\":true,\"lakecolor\":\"white\"},\"title\":{\"x\":0.05},\"mapbox\":{\"style\":\"light\"}}}},                        {\"responsive\": true}                    ).then(function(){\n",
       "                            \n",
       "var gd = document.getElementById('bb2899a2-1dc9-4cd7-b7bf-b6dbdf1f69d3');\n",
       "var x = new MutationObserver(function (mutations, observer) {{\n",
       "        var display = window.getComputedStyle(gd).display;\n",
       "        if (!display || display === 'none') {{\n",
       "            console.log([gd, 'removed!']);\n",
       "            Plotly.purge(gd);\n",
       "            observer.disconnect();\n",
       "        }}\n",
       "}});\n",
       "\n",
       "// Listen for the removal of the full notebook cells\n",
       "var notebookContainer = gd.closest('#notebook-container');\n",
       "if (notebookContainer) {{\n",
       "    x.observe(notebookContainer, {childList: true});\n",
       "}}\n",
       "\n",
       "// Listen for the clearing of the current output cell\n",
       "var outputEl = gd.closest('.output');\n",
       "if (outputEl) {{\n",
       "    x.observe(outputEl, {childList: true});\n",
       "}}\n",
       "\n",
       "                        })                };                });            </script>        </div>"
      ]
     },
     "metadata": {},
     "output_type": "display_data"
    }
   ],
   "source": [
    "# Visualizations\n",
    "vis.plot_optimization_history(study_xg).show()\n",
    "vis.plot_param_importances(study_xg).show()"
   ]
  },
  {
   "cell_type": "markdown",
   "id": "d615ca7b79cec949",
   "metadata": {},
   "source": [
    "#### Model Training"
   ]
  },
  {
   "cell_type": "code",
   "execution_count": 206,
   "id": "877397990c9ffd37",
   "metadata": {
    "ExecuteTime": {
     "end_time": "2024-12-11T23:03:25.244983Z",
     "start_time": "2024-12-11T23:03:25.227906Z"
    }
   },
   "outputs": [],
   "source": [
    "# Get the best hyperparameters\n",
    "best_params_xg = study_xg.best_params"
   ]
  },
  {
   "cell_type": "code",
   "execution_count": 207,
   "id": "b75b34022f3059d4",
   "metadata": {
    "ExecuteTime": {
     "end_time": "2024-12-11T23:03:25.268852Z",
     "start_time": "2024-12-11T23:03:25.254682Z"
    }
   },
   "outputs": [],
   "source": [
    "# Initialize XGBoost model with best hyperparameters\n",
    "xgb_model = XGBRegressor(\n",
    "    random_state=42,\n",
    "    **best_params_xg\n",
    ")"
   ]
  },
  {
   "cell_type": "code",
   "execution_count": 208,
   "id": "e1b62ea4bdedaab6",
   "metadata": {
    "ExecuteTime": {
     "end_time": "2024-12-11T23:03:25.872731Z",
     "start_time": "2024-12-11T23:03:25.279283Z"
    }
   },
   "outputs": [
    {
     "data": {
      "text/html": [
       "<style>#sk-container-id-15 {\n",
       "  /* Definition of color scheme common for light and dark mode */\n",
       "  --sklearn-color-text: black;\n",
       "  --sklearn-color-line: gray;\n",
       "  /* Definition of color scheme for unfitted estimators */\n",
       "  --sklearn-color-unfitted-level-0: #fff5e6;\n",
       "  --sklearn-color-unfitted-level-1: #f6e4d2;\n",
       "  --sklearn-color-unfitted-level-2: #ffe0b3;\n",
       "  --sklearn-color-unfitted-level-3: chocolate;\n",
       "  /* Definition of color scheme for fitted estimators */\n",
       "  --sklearn-color-fitted-level-0: #f0f8ff;\n",
       "  --sklearn-color-fitted-level-1: #d4ebff;\n",
       "  --sklearn-color-fitted-level-2: #b3dbfd;\n",
       "  --sklearn-color-fitted-level-3: cornflowerblue;\n",
       "\n",
       "  /* Specific color for light theme */\n",
       "  --sklearn-color-text-on-default-background: var(--sg-text-color, var(--theme-code-foreground, var(--jp-content-font-color1, black)));\n",
       "  --sklearn-color-background: var(--sg-background-color, var(--theme-background, var(--jp-layout-color0, white)));\n",
       "  --sklearn-color-border-box: var(--sg-text-color, var(--theme-code-foreground, var(--jp-content-font-color1, black)));\n",
       "  --sklearn-color-icon: #696969;\n",
       "\n",
       "  @media (prefers-color-scheme: dark) {\n",
       "    /* Redefinition of color scheme for dark theme */\n",
       "    --sklearn-color-text-on-default-background: var(--sg-text-color, var(--theme-code-foreground, var(--jp-content-font-color1, white)));\n",
       "    --sklearn-color-background: var(--sg-background-color, var(--theme-background, var(--jp-layout-color0, #111)));\n",
       "    --sklearn-color-border-box: var(--sg-text-color, var(--theme-code-foreground, var(--jp-content-font-color1, white)));\n",
       "    --sklearn-color-icon: #878787;\n",
       "  }\n",
       "}\n",
       "\n",
       "#sk-container-id-15 {\n",
       "  color: var(--sklearn-color-text);\n",
       "}\n",
       "\n",
       "#sk-container-id-15 pre {\n",
       "  padding: 0;\n",
       "}\n",
       "\n",
       "#sk-container-id-15 input.sk-hidden--visually {\n",
       "  border: 0;\n",
       "  clip: rect(1px 1px 1px 1px);\n",
       "  clip: rect(1px, 1px, 1px, 1px);\n",
       "  height: 1px;\n",
       "  margin: -1px;\n",
       "  overflow: hidden;\n",
       "  padding: 0;\n",
       "  position: absolute;\n",
       "  width: 1px;\n",
       "}\n",
       "\n",
       "#sk-container-id-15 div.sk-dashed-wrapped {\n",
       "  border: 1px dashed var(--sklearn-color-line);\n",
       "  margin: 0 0.4em 0.5em 0.4em;\n",
       "  box-sizing: border-box;\n",
       "  padding-bottom: 0.4em;\n",
       "  background-color: var(--sklearn-color-background);\n",
       "}\n",
       "\n",
       "#sk-container-id-15 div.sk-container {\n",
       "  /* jupyter's `normalize.less` sets `[hidden] { display: none; }`\n",
       "     but bootstrap.min.css set `[hidden] { display: none !important; }`\n",
       "     so we also need the `!important` here to be able to override the\n",
       "     default hidden behavior on the sphinx rendered scikit-learn.org.\n",
       "     See: https://github.com/scikit-learn/scikit-learn/issues/21755 */\n",
       "  display: inline-block !important;\n",
       "  position: relative;\n",
       "}\n",
       "\n",
       "#sk-container-id-15 div.sk-text-repr-fallback {\n",
       "  display: none;\n",
       "}\n",
       "\n",
       "div.sk-parallel-item,\n",
       "div.sk-serial,\n",
       "div.sk-item {\n",
       "  /* draw centered vertical line to link estimators */\n",
       "  background-image: linear-gradient(var(--sklearn-color-text-on-default-background), var(--sklearn-color-text-on-default-background));\n",
       "  background-size: 2px 100%;\n",
       "  background-repeat: no-repeat;\n",
       "  background-position: center center;\n",
       "}\n",
       "\n",
       "/* Parallel-specific style estimator block */\n",
       "\n",
       "#sk-container-id-15 div.sk-parallel-item::after {\n",
       "  content: \"\";\n",
       "  width: 100%;\n",
       "  border-bottom: 2px solid var(--sklearn-color-text-on-default-background);\n",
       "  flex-grow: 1;\n",
       "}\n",
       "\n",
       "#sk-container-id-15 div.sk-parallel {\n",
       "  display: flex;\n",
       "  align-items: stretch;\n",
       "  justify-content: center;\n",
       "  background-color: var(--sklearn-color-background);\n",
       "  position: relative;\n",
       "}\n",
       "\n",
       "#sk-container-id-15 div.sk-parallel-item {\n",
       "  display: flex;\n",
       "  flex-direction: column;\n",
       "}\n",
       "\n",
       "#sk-container-id-15 div.sk-parallel-item:first-child::after {\n",
       "  align-self: flex-end;\n",
       "  width: 50%;\n",
       "}\n",
       "\n",
       "#sk-container-id-15 div.sk-parallel-item:last-child::after {\n",
       "  align-self: flex-start;\n",
       "  width: 50%;\n",
       "}\n",
       "\n",
       "#sk-container-id-15 div.sk-parallel-item:only-child::after {\n",
       "  width: 0;\n",
       "}\n",
       "\n",
       "/* Serial-specific style estimator block */\n",
       "\n",
       "#sk-container-id-15 div.sk-serial {\n",
       "  display: flex;\n",
       "  flex-direction: column;\n",
       "  align-items: center;\n",
       "  background-color: var(--sklearn-color-background);\n",
       "  padding-right: 1em;\n",
       "  padding-left: 1em;\n",
       "}\n",
       "\n",
       "\n",
       "/* Toggleable style: style used for estimator/Pipeline/ColumnTransformer box that is\n",
       "clickable and can be expanded/collapsed.\n",
       "- Pipeline and ColumnTransformer use this feature and define the default style\n",
       "- Estimators will overwrite some part of the style using the `sk-estimator` class\n",
       "*/\n",
       "\n",
       "/* Pipeline and ColumnTransformer style (default) */\n",
       "\n",
       "#sk-container-id-15 div.sk-toggleable {\n",
       "  /* Default theme specific background. It is overwritten whether we have a\n",
       "  specific estimator or a Pipeline/ColumnTransformer */\n",
       "  background-color: var(--sklearn-color-background);\n",
       "}\n",
       "\n",
       "/* Toggleable label */\n",
       "#sk-container-id-15 label.sk-toggleable__label {\n",
       "  cursor: pointer;\n",
       "  display: block;\n",
       "  width: 100%;\n",
       "  margin-bottom: 0;\n",
       "  padding: 0.5em;\n",
       "  box-sizing: border-box;\n",
       "  text-align: center;\n",
       "}\n",
       "\n",
       "#sk-container-id-15 label.sk-toggleable__label-arrow:before {\n",
       "  /* Arrow on the left of the label */\n",
       "  content: \"▸\";\n",
       "  float: left;\n",
       "  margin-right: 0.25em;\n",
       "  color: var(--sklearn-color-icon);\n",
       "}\n",
       "\n",
       "#sk-container-id-15 label.sk-toggleable__label-arrow:hover:before {\n",
       "  color: var(--sklearn-color-text);\n",
       "}\n",
       "\n",
       "/* Toggleable content - dropdown */\n",
       "\n",
       "#sk-container-id-15 div.sk-toggleable__content {\n",
       "  max-height: 0;\n",
       "  max-width: 0;\n",
       "  overflow: hidden;\n",
       "  text-align: left;\n",
       "  /* unfitted */\n",
       "  background-color: var(--sklearn-color-unfitted-level-0);\n",
       "}\n",
       "\n",
       "#sk-container-id-15 div.sk-toggleable__content.fitted {\n",
       "  /* fitted */\n",
       "  background-color: var(--sklearn-color-fitted-level-0);\n",
       "}\n",
       "\n",
       "#sk-container-id-15 div.sk-toggleable__content pre {\n",
       "  margin: 0.2em;\n",
       "  border-radius: 0.25em;\n",
       "  color: var(--sklearn-color-text);\n",
       "  /* unfitted */\n",
       "  background-color: var(--sklearn-color-unfitted-level-0);\n",
       "}\n",
       "\n",
       "#sk-container-id-15 div.sk-toggleable__content.fitted pre {\n",
       "  /* unfitted */\n",
       "  background-color: var(--sklearn-color-fitted-level-0);\n",
       "}\n",
       "\n",
       "#sk-container-id-15 input.sk-toggleable__control:checked~div.sk-toggleable__content {\n",
       "  /* Expand drop-down */\n",
       "  max-height: 200px;\n",
       "  max-width: 100%;\n",
       "  overflow: auto;\n",
       "}\n",
       "\n",
       "#sk-container-id-15 input.sk-toggleable__control:checked~label.sk-toggleable__label-arrow:before {\n",
       "  content: \"▾\";\n",
       "}\n",
       "\n",
       "/* Pipeline/ColumnTransformer-specific style */\n",
       "\n",
       "#sk-container-id-15 div.sk-label input.sk-toggleable__control:checked~label.sk-toggleable__label {\n",
       "  color: var(--sklearn-color-text);\n",
       "  background-color: var(--sklearn-color-unfitted-level-2);\n",
       "}\n",
       "\n",
       "#sk-container-id-15 div.sk-label.fitted input.sk-toggleable__control:checked~label.sk-toggleable__label {\n",
       "  background-color: var(--sklearn-color-fitted-level-2);\n",
       "}\n",
       "\n",
       "/* Estimator-specific style */\n",
       "\n",
       "/* Colorize estimator box */\n",
       "#sk-container-id-15 div.sk-estimator input.sk-toggleable__control:checked~label.sk-toggleable__label {\n",
       "  /* unfitted */\n",
       "  background-color: var(--sklearn-color-unfitted-level-2);\n",
       "}\n",
       "\n",
       "#sk-container-id-15 div.sk-estimator.fitted input.sk-toggleable__control:checked~label.sk-toggleable__label {\n",
       "  /* fitted */\n",
       "  background-color: var(--sklearn-color-fitted-level-2);\n",
       "}\n",
       "\n",
       "#sk-container-id-15 div.sk-label label.sk-toggleable__label,\n",
       "#sk-container-id-15 div.sk-label label {\n",
       "  /* The background is the default theme color */\n",
       "  color: var(--sklearn-color-text-on-default-background);\n",
       "}\n",
       "\n",
       "/* On hover, darken the color of the background */\n",
       "#sk-container-id-15 div.sk-label:hover label.sk-toggleable__label {\n",
       "  color: var(--sklearn-color-text);\n",
       "  background-color: var(--sklearn-color-unfitted-level-2);\n",
       "}\n",
       "\n",
       "/* Label box, darken color on hover, fitted */\n",
       "#sk-container-id-15 div.sk-label.fitted:hover label.sk-toggleable__label.fitted {\n",
       "  color: var(--sklearn-color-text);\n",
       "  background-color: var(--sklearn-color-fitted-level-2);\n",
       "}\n",
       "\n",
       "/* Estimator label */\n",
       "\n",
       "#sk-container-id-15 div.sk-label label {\n",
       "  font-family: monospace;\n",
       "  font-weight: bold;\n",
       "  display: inline-block;\n",
       "  line-height: 1.2em;\n",
       "}\n",
       "\n",
       "#sk-container-id-15 div.sk-label-container {\n",
       "  text-align: center;\n",
       "}\n",
       "\n",
       "/* Estimator-specific */\n",
       "#sk-container-id-15 div.sk-estimator {\n",
       "  font-family: monospace;\n",
       "  border: 1px dotted var(--sklearn-color-border-box);\n",
       "  border-radius: 0.25em;\n",
       "  box-sizing: border-box;\n",
       "  margin-bottom: 0.5em;\n",
       "  /* unfitted */\n",
       "  background-color: var(--sklearn-color-unfitted-level-0);\n",
       "}\n",
       "\n",
       "#sk-container-id-15 div.sk-estimator.fitted {\n",
       "  /* fitted */\n",
       "  background-color: var(--sklearn-color-fitted-level-0);\n",
       "}\n",
       "\n",
       "/* on hover */\n",
       "#sk-container-id-15 div.sk-estimator:hover {\n",
       "  /* unfitted */\n",
       "  background-color: var(--sklearn-color-unfitted-level-2);\n",
       "}\n",
       "\n",
       "#sk-container-id-15 div.sk-estimator.fitted:hover {\n",
       "  /* fitted */\n",
       "  background-color: var(--sklearn-color-fitted-level-2);\n",
       "}\n",
       "\n",
       "/* Specification for estimator info (e.g. \"i\" and \"?\") */\n",
       "\n",
       "/* Common style for \"i\" and \"?\" */\n",
       "\n",
       ".sk-estimator-doc-link,\n",
       "a:link.sk-estimator-doc-link,\n",
       "a:visited.sk-estimator-doc-link {\n",
       "  float: right;\n",
       "  font-size: smaller;\n",
       "  line-height: 1em;\n",
       "  font-family: monospace;\n",
       "  background-color: var(--sklearn-color-background);\n",
       "  border-radius: 1em;\n",
       "  height: 1em;\n",
       "  width: 1em;\n",
       "  text-decoration: none !important;\n",
       "  margin-left: 1ex;\n",
       "  /* unfitted */\n",
       "  border: var(--sklearn-color-unfitted-level-1) 1pt solid;\n",
       "  color: var(--sklearn-color-unfitted-level-1);\n",
       "}\n",
       "\n",
       ".sk-estimator-doc-link.fitted,\n",
       "a:link.sk-estimator-doc-link.fitted,\n",
       "a:visited.sk-estimator-doc-link.fitted {\n",
       "  /* fitted */\n",
       "  border: var(--sklearn-color-fitted-level-1) 1pt solid;\n",
       "  color: var(--sklearn-color-fitted-level-1);\n",
       "}\n",
       "\n",
       "/* On hover */\n",
       "div.sk-estimator:hover .sk-estimator-doc-link:hover,\n",
       ".sk-estimator-doc-link:hover,\n",
       "div.sk-label-container:hover .sk-estimator-doc-link:hover,\n",
       ".sk-estimator-doc-link:hover {\n",
       "  /* unfitted */\n",
       "  background-color: var(--sklearn-color-unfitted-level-3);\n",
       "  color: var(--sklearn-color-background);\n",
       "  text-decoration: none;\n",
       "}\n",
       "\n",
       "div.sk-estimator.fitted:hover .sk-estimator-doc-link.fitted:hover,\n",
       ".sk-estimator-doc-link.fitted:hover,\n",
       "div.sk-label-container:hover .sk-estimator-doc-link.fitted:hover,\n",
       ".sk-estimator-doc-link.fitted:hover {\n",
       "  /* fitted */\n",
       "  background-color: var(--sklearn-color-fitted-level-3);\n",
       "  color: var(--sklearn-color-background);\n",
       "  text-decoration: none;\n",
       "}\n",
       "\n",
       "/* Span, style for the box shown on hovering the info icon */\n",
       ".sk-estimator-doc-link span {\n",
       "  display: none;\n",
       "  z-index: 9999;\n",
       "  position: relative;\n",
       "  font-weight: normal;\n",
       "  right: .2ex;\n",
       "  padding: .5ex;\n",
       "  margin: .5ex;\n",
       "  width: min-content;\n",
       "  min-width: 20ex;\n",
       "  max-width: 50ex;\n",
       "  color: var(--sklearn-color-text);\n",
       "  box-shadow: 2pt 2pt 4pt #999;\n",
       "  /* unfitted */\n",
       "  background: var(--sklearn-color-unfitted-level-0);\n",
       "  border: .5pt solid var(--sklearn-color-unfitted-level-3);\n",
       "}\n",
       "\n",
       ".sk-estimator-doc-link.fitted span {\n",
       "  /* fitted */\n",
       "  background: var(--sklearn-color-fitted-level-0);\n",
       "  border: var(--sklearn-color-fitted-level-3);\n",
       "}\n",
       "\n",
       ".sk-estimator-doc-link:hover span {\n",
       "  display: block;\n",
       "}\n",
       "\n",
       "/* \"?\"-specific style due to the `<a>` HTML tag */\n",
       "\n",
       "#sk-container-id-15 a.estimator_doc_link {\n",
       "  float: right;\n",
       "  font-size: 1rem;\n",
       "  line-height: 1em;\n",
       "  font-family: monospace;\n",
       "  background-color: var(--sklearn-color-background);\n",
       "  border-radius: 1rem;\n",
       "  height: 1rem;\n",
       "  width: 1rem;\n",
       "  text-decoration: none;\n",
       "  /* unfitted */\n",
       "  color: var(--sklearn-color-unfitted-level-1);\n",
       "  border: var(--sklearn-color-unfitted-level-1) 1pt solid;\n",
       "}\n",
       "\n",
       "#sk-container-id-15 a.estimator_doc_link.fitted {\n",
       "  /* fitted */\n",
       "  border: var(--sklearn-color-fitted-level-1) 1pt solid;\n",
       "  color: var(--sklearn-color-fitted-level-1);\n",
       "}\n",
       "\n",
       "/* On hover */\n",
       "#sk-container-id-15 a.estimator_doc_link:hover {\n",
       "  /* unfitted */\n",
       "  background-color: var(--sklearn-color-unfitted-level-3);\n",
       "  color: var(--sklearn-color-background);\n",
       "  text-decoration: none;\n",
       "}\n",
       "\n",
       "#sk-container-id-15 a.estimator_doc_link.fitted:hover {\n",
       "  /* fitted */\n",
       "  background-color: var(--sklearn-color-fitted-level-3);\n",
       "}\n",
       "</style><div id=\"sk-container-id-15\" class=\"sk-top-container\"><div class=\"sk-text-repr-fallback\"><pre>XGBRegressor(base_score=None, booster=None, callbacks=None,\n",
       "             colsample_bylevel=None, colsample_bynode=None,\n",
       "             colsample_bytree=0.585050271201188, device=None,\n",
       "             early_stopping_rounds=None, enable_categorical=False,\n",
       "             eval_metric=None, feature_types=None, gamma=4.700826687092552,\n",
       "             grow_policy=None, importance_type=None,\n",
       "             interaction_constraints=None, learning_rate=0.01119869113690577,\n",
       "             max_bin=None, max_cat_threshold=None, max_cat_to_onehot=None,\n",
       "             max_delta_step=None, max_depth=5, max_leaves=None,\n",
       "             min_child_weight=9, missing=nan, monotone_constraints=None,\n",
       "             multi_strategy=None, n_estimators=947, n_jobs=None,\n",
       "             num_parallel_tree=None, random_state=42, ...)</pre><b>In a Jupyter environment, please rerun this cell to show the HTML representation or trust the notebook. <br />On GitHub, the HTML representation is unable to render, please try loading this page with nbviewer.org.</b></div><div class=\"sk-container\" hidden><div class=\"sk-item\"><div class=\"sk-estimator fitted sk-toggleable\"><input class=\"sk-toggleable__control sk-hidden--visually\" id=\"sk-estimator-id-25\" type=\"checkbox\" checked><label for=\"sk-estimator-id-25\" class=\"sk-toggleable__label fitted sk-toggleable__label-arrow fitted\">&nbsp;XGBRegressor<span class=\"sk-estimator-doc-link fitted\">i<span>Fitted</span></span></label><div class=\"sk-toggleable__content fitted\"><pre>XGBRegressor(base_score=None, booster=None, callbacks=None,\n",
       "             colsample_bylevel=None, colsample_bynode=None,\n",
       "             colsample_bytree=0.585050271201188, device=None,\n",
       "             early_stopping_rounds=None, enable_categorical=False,\n",
       "             eval_metric=None, feature_types=None, gamma=4.700826687092552,\n",
       "             grow_policy=None, importance_type=None,\n",
       "             interaction_constraints=None, learning_rate=0.01119869113690577,\n",
       "             max_bin=None, max_cat_threshold=None, max_cat_to_onehot=None,\n",
       "             max_delta_step=None, max_depth=5, max_leaves=None,\n",
       "             min_child_weight=9, missing=nan, monotone_constraints=None,\n",
       "             multi_strategy=None, n_estimators=947, n_jobs=None,\n",
       "             num_parallel_tree=None, random_state=42, ...)</pre></div> </div></div></div></div>"
      ],
      "text/plain": [
       "XGBRegressor(base_score=None, booster=None, callbacks=None,\n",
       "             colsample_bylevel=None, colsample_bynode=None,\n",
       "             colsample_bytree=0.585050271201188, device=None,\n",
       "             early_stopping_rounds=None, enable_categorical=False,\n",
       "             eval_metric=None, feature_types=None, gamma=4.700826687092552,\n",
       "             grow_policy=None, importance_type=None,\n",
       "             interaction_constraints=None, learning_rate=0.01119869113690577,\n",
       "             max_bin=None, max_cat_threshold=None, max_cat_to_onehot=None,\n",
       "             max_delta_step=None, max_depth=5, max_leaves=None,\n",
       "             min_child_weight=9, missing=nan, monotone_constraints=None,\n",
       "             multi_strategy=None, n_estimators=947, n_jobs=None,\n",
       "             num_parallel_tree=None, random_state=42, ...)"
      ]
     },
     "execution_count": 208,
     "metadata": {},
     "output_type": "execute_result"
    }
   ],
   "source": [
    "# Fit the model\n",
    "xgb_model.fit(X_train, y_train)"
   ]
  },
  {
   "cell_type": "markdown",
   "id": "38db2e27827c233f",
   "metadata": {},
   "source": [
    "#### Model Evaluation"
   ]
  },
  {
   "cell_type": "code",
   "execution_count": 209,
   "id": "6b621f8dd216728c",
   "metadata": {
    "ExecuteTime": {
     "end_time": "2024-12-11T23:03:25.911296Z",
     "start_time": "2024-12-11T23:03:25.887406Z"
    }
   },
   "outputs": [],
   "source": [
    "y_pred_xgb_train = xgb_model.predict(X_train)\n",
    "y_pred_xgb_test = xgb_model.predict(X_test)"
   ]
  },
  {
   "cell_type": "code",
   "execution_count": 210,
   "id": "4b286db9154a2171",
   "metadata": {
    "ExecuteTime": {
     "end_time": "2024-12-11T23:03:26.010030Z",
     "start_time": "2024-12-11T23:03:25.922147Z"
    }
   },
   "outputs": [
    {
     "data": {
      "image/png": "[encoded data removed]",
      "text/plain": [
       "<Figure size 1000x600 with 1 Axes>"
      ]
     },
     "metadata": {},
     "output_type": "display_data"
    }
   ],
   "source": [
    "# plot top 10 features\n",
    "plt.figure(figsize=(10, 6))\n",
    "plt.barh(X.columns[np.argsort(xgb_model.feature_importances_)[::-1][:10]],\n",
    "         xgb_model.feature_importances_[np.argsort(xgb_model.feature_importances_)[::-1][:10]])\n",
    "plt.xlabel('Feature Importance')\n",
    "plt.ylabel('Feature')\n",
    "plt.title('Top 10 Features')\n",
    "plt.show()"
   ]
  },
  {
   "cell_type": "markdown",
   "id": "fd4e2667cd300571",
   "metadata": {},
   "source": [
    "#### Model Saving"
   ]
  },
  {
   "cell_type": "code",
   "execution_count": 211,
   "id": "5e977de8f6dc18ca",
   "metadata": {
    "ExecuteTime": {
     "end_time": "2024-12-11T23:03:26.055157Z",
     "start_time": "2024-12-11T23:03:26.035025Z"
    }
   },
   "outputs": [],
   "source": [
    "# Save the model\n",
    "pickle.dump(xgb_model, open('../models/ESS_xgb.pkl', 'wb'))"
   ]
  },
  {
   "cell_type": "markdown",
   "id": "ad5d6ff48c3a8a07",
   "metadata": {},
   "source": [
    "## Conclusion"
   ]
  },
  {
   "cell_type": "code",
   "execution_count": 212,
   "id": "dd5b14efeadec0c3",
   "metadata": {
    "ExecuteTime": {
     "end_time": "2024-12-11T23:03:26.093665Z",
     "start_time": "2024-12-11T23:03:26.062101Z"
    }
   },
   "outputs": [
    {
     "data": {
      "text/html": [
       "<div>\n",
       "<style scoped>\n",
       "    .dataframe tbody tr th:only-of-type {\n",
       "        vertical-align: middle;\n",
       "    }\n",
       "\n",
       "    .dataframe tbody tr th {\n",
       "        vertical-align: top;\n",
       "    }\n",
       "\n",
       "    .dataframe thead th {\n",
       "        text-align: right;\n",
       "    }\n",
       "</style>\n",
       "<table border=\"1\" class=\"dataframe\">\n",
       "  <thead>\n",
       "    <tr style=\"text-align: right;\">\n",
       "      <th></th>\n",
       "      <th></th>\n",
       "      <th>Random Forest</th>\n",
       "      <th>AdaBoost</th>\n",
       "      <th>XGBoost</th>\n",
       "    </tr>\n",
       "    <tr>\n",
       "      <th>Metric</th>\n",
       "      <th>Type</th>\n",
       "      <th></th>\n",
       "      <th></th>\n",
       "      <th></th>\n",
       "    </tr>\n",
       "  </thead>\n",
       "  <tbody>\n",
       "    <tr>\n",
       "      <th>Mean Absolute Error</th>\n",
       "      <th>Train</th>\n",
       "      <td>2.926174</td>\n",
       "      <td>13.157114</td>\n",
       "      <td>1.692733</td>\n",
       "    </tr>\n",
       "    <tr>\n",
       "      <th>Mean Squared Error</th>\n",
       "      <th>Train</th>\n",
       "      <td>16.542883</td>\n",
       "      <td>259.05132</td>\n",
       "      <td>6.002989</td>\n",
       "    </tr>\n",
       "    <tr>\n",
       "      <th>Root Mean Squared Error</th>\n",
       "      <th>Train</th>\n",
       "      <td>4.067294</td>\n",
       "      <td>16.095071</td>\n",
       "      <td>2.4501</td>\n",
       "    </tr>\n",
       "    <tr>\n",
       "      <th>R-squared</th>\n",
       "      <th>Train</th>\n",
       "      <td>0.989151</td>\n",
       "      <td>0.830117</td>\n",
       "      <td>0.996063</td>\n",
       "    </tr>\n",
       "    <tr>\n",
       "      <th>Adjusted R-squared</th>\n",
       "      <th>Train</th>\n",
       "      <td>0.987384</td>\n",
       "      <td>0.802447</td>\n",
       "      <td>0.995422</td>\n",
       "    </tr>\n",
       "    <tr>\n",
       "      <th>Mean Absolute Error</th>\n",
       "      <th>Test</th>\n",
       "      <td>25.799421</td>\n",
       "      <td>25.204114</td>\n",
       "      <td>26.401537</td>\n",
       "    </tr>\n",
       "    <tr>\n",
       "      <th>Mean Squared Error</th>\n",
       "      <th>Test</th>\n",
       "      <td>871.816031</td>\n",
       "      <td>916.171501</td>\n",
       "      <td>871.930897</td>\n",
       "    </tr>\n",
       "    <tr>\n",
       "      <th>Root Mean Squared Error</th>\n",
       "      <th>Test</th>\n",
       "      <td>29.526531</td>\n",
       "      <td>30.268325</td>\n",
       "      <td>29.528476</td>\n",
       "    </tr>\n",
       "    <tr>\n",
       "      <th>R-squared</th>\n",
       "      <th>Test</th>\n",
       "      <td>0.01317</td>\n",
       "      <td>-0.037037</td>\n",
       "      <td>0.01304</td>\n",
       "    </tr>\n",
       "    <tr>\n",
       "      <th>Adjusted R-squared</th>\n",
       "      <th>Test</th>\n",
       "      <td>-1.23488</td>\n",
       "      <td>-1.348584</td>\n",
       "      <td>-1.235174</td>\n",
       "    </tr>\n",
       "  </tbody>\n",
       "</table>\n",
       "</div>"
      ],
      "text/plain": [
       "                              Random Forest    AdaBoost     XGBoost\n",
       "Metric                  Type                                       \n",
       "Mean Absolute Error     Train      2.926174   13.157114    1.692733\n",
       "Mean Squared Error      Train     16.542883   259.05132    6.002989\n",
       "Root Mean Squared Error Train      4.067294   16.095071      2.4501\n",
       "R-squared               Train      0.989151    0.830117    0.996063\n",
       "Adjusted R-squared      Train      0.987384    0.802447    0.995422\n",
       "Mean Absolute Error     Test      25.799421   25.204114   26.401537\n",
       "Mean Squared Error      Test     871.816031  916.171501  871.930897\n",
       "Root Mean Squared Error Test      29.526531   30.268325   29.528476\n",
       "R-squared               Test        0.01317   -0.037037     0.01304\n",
       "Adjusted R-squared      Test       -1.23488   -1.348584   -1.235174"
      ]
     },
     "execution_count": 212,
     "metadata": {},
     "output_type": "execute_result"
    }
   ],
   "source": [
    "models = ['Random Forest', 'AdaBoost', 'XGBoost']\n",
    "predictions_train = [y_pred_rf_train, y_pred_ada_train, y_pred_xgb_train]\n",
    "predictions_test = [y_pred_rf_test, y_pred_ada_test, y_pred_xgb_test]\n",
    "\n",
    "utils.evaluate_models(models=models, predictions_train=predictions_train, predictions_test=predictions_test, X=X,\n",
    "                      y_train=y_train, y_test=y_test, task='regression')"
   ]
  },
  {
   "cell_type": "code",
   "execution_count": null,
   "id": "ff1356be7c01add6",
   "metadata": {
    "ExecuteTime": {
     "end_time": "2024-12-11T23:03:26.123427Z",
     "start_time": "2024-12-11T23:03:26.121730Z"
    }
   },
   "outputs": [],
   "source": []
  }
 ],
 "metadata": {
  "kernelspec": {
   "display_name": "base",
   "language": "python",
   "name": "python3"
  },
  "language_info": {
   "codemirror_mode": {
    "name": "ipython",
    "version": 3
   },
   "file_extension": ".py",
   "mimetype": "text/x-python",
   "name": "python",
   "nbconvert_exporter": "python",
   "pygments_lexer": "ipython3",
   "version": "3.12.2"
  }
 },
 "nbformat": 4,
 "nbformat_minor": 5
}
